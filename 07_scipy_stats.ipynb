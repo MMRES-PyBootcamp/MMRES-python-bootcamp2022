{
 "cells": [
  {
   "cell_type": "markdown",
   "metadata": {
    "colab_type": "text",
    "id": "view-in-github"
   },
   "source": [
    "<a href=\"https://colab.research.google.com/github/MMRES-PyBootcamp/MMRES-python-bootcamp2021/blob/master/07_scipy_stats.ipynb\" target=\"_parent\"><img src=\"https://colab.research.google.com/assets/colab-badge.svg\" alt=\"Open In Colab\"/></a>"
   ]
  },
  {
   "cell_type": "markdown",
   "metadata": {
    "id": "bqAIqBlSmD4w"
   },
   "source": [
    "# Statistics in Python\n",
    "\n",
    "sources:\n",
    "\n",
    "https://medium.com/insights-school/learn-basic-statistics-with-python-cc0f45275929\n",
    "\n",
    "https://scipy-lectures.org/intro/scipy.html#scipy\n"
   ]
  },
  {
   "cell_type": "code",
   "execution_count": null,
   "metadata": {
    "id": "86WqXweTk9Jh"
   },
   "outputs": [],
   "source": [
    "import math\n",
    "import statistics\n",
    "from scipy import stats\n",
    "import numpy as np\n",
    "import pandas as pd\n",
    "import seaborn as sns"
   ]
  },
  {
   "cell_type": "markdown",
   "metadata": {
    "id": "FTTVyKXslupX"
   },
   "source": [
    "# Measures of Central Tendency\n",
    "The measures of central tendency show the central or middle values of datasets. There are several definitions of what’s considered to be the center of a dataset. In this tutorial, you’ll learn how to identify and calculate these measures of central tendency:\n",
    "\n",
    "## Mean\n",
    "The sample mean, also called the sample arithmetic mean or simply the average, is the arithmetic average of all the items in a dataset. You can calculate the mean with pure Python using sum() and len(), without importing libraries:"
   ]
  },
  {
   "cell_type": "code",
   "execution_count": null,
   "metadata": {
    "colab": {
     "base_uri": "https://localhost:8080/"
    },
    "id": "1LnbFPQplR--",
    "outputId": "ed07a231-1a32-4a40-a13c-1b8d5f1e1329"
   },
   "outputs": [],
   "source": [
    "x = [8.0, 1, 2.5, 4, 28.0]\n",
    "mean = sum(x) / len(x)\n",
    "print (mean)"
   ]
  },
  {
   "cell_type": "code",
   "execution_count": null,
   "metadata": {
    "colab": {
     "base_uri": "https://localhost:8080/"
    },
    "id": "8DDg71BHlZ_I",
    "outputId": "64f2949b-678f-4863-d179-41c56bc20df4"
   },
   "outputs": [],
   "source": [
    "x = [8.0, 1, 2.5, 4, 28.0]\n",
    "mean = np.mean(x)\n",
    "print (mean)"
   ]
  },
  {
   "cell_type": "code",
   "execution_count": null,
   "metadata": {
    "colab": {
     "base_uri": "https://localhost:8080/"
    },
    "id": "pbCghBSyldvN",
    "outputId": "1dc08fa5-ef71-45b9-a5b8-5a8a510db758"
   },
   "outputs": [],
   "source": [
    "x_with_nan = [8.0, 1, 2.5, math.nan, 4, 28.0]\n",
    "mean = np.nanmean(x_with_nan)\n",
    "print (mean)"
   ]
  },
  {
   "cell_type": "markdown",
   "metadata": {
    "id": "NS88kTWll_Qw"
   },
   "source": [
    "## Weighted Mean\n",
    "The weighted mean, also called the weighted arithmetic mean or weighted average, is a generalization of the arithmetic mean that enables you to define the relative contribution of each data point to the result.\n",
    "The weighted mean is very handy when you need the mean of a dataset containing items that occur with given relative frequencies.\n",
    "For example, say that you have a set in which 20% of all items are equal to 2, 50% of the items are equal to 4, and the remaining 30% of the items are equal to 8. You can calculate the mean of such a set like this:"
   ]
  },
  {
   "cell_type": "code",
   "execution_count": null,
   "metadata": {
    "colab": {
     "base_uri": "https://localhost:8080/"
    },
    "id": "uZqCpAWpls1t",
    "outputId": "b1fb159a-6e0f-42c7-dc6d-16c20c880215"
   },
   "outputs": [],
   "source": [
    "x = [2,4, 8]\n",
    "w = [0.2, 0.5, 0.3]\n",
    "weighted_mean = np.average(x, weights=w)\n",
    "print (weighted_mean)"
   ]
  },
  {
   "cell_type": "markdown",
   "metadata": {
    "id": "svQtQ0aEmgWU"
   },
   "source": [
    "## Median\n",
    "The sample median is the middle element of a sorted dataset."
   ]
  },
  {
   "cell_type": "code",
   "execution_count": null,
   "metadata": {
    "colab": {
     "base_uri": "https://localhost:8080/"
    },
    "id": "FU89gVremmSl",
    "outputId": "f6897dad-1771-4160-f6d4-5c354d84a597"
   },
   "outputs": [],
   "source": [
    "x = [8.0, 1, 2.5, 4, 28.0]\n",
    "median = np.median(x)\n",
    "print (median)"
   ]
  },
  {
   "cell_type": "code",
   "execution_count": null,
   "metadata": {
    "colab": {
     "base_uri": "https://localhost:8080/"
    },
    "id": "j7Xgz37umnM5",
    "outputId": "6f44618a-65f1-4735-c700-792605fcdd84"
   },
   "outputs": [],
   "source": [
    "x_with_nan = [8.0, 1, 2.5, math.nan, 4, 28.0]\n",
    "median= np.nanmedian(x_with_nan)\n",
    "print (median)"
   ]
  },
  {
   "cell_type": "markdown",
   "metadata": {
    "id": "XDzxAsrumtqT"
   },
   "source": [
    "# Measures of Variability\n",
    "The measures of central tendency aren’t sufficient to describe data. You’ll also need the measures of variability that quantify the spread of data points.\n",
    "## Variance\n",
    "The sample variance quantifies the spread of the data. It shows numerically how far the data points are from the mean."
   ]
  },
  {
   "cell_type": "code",
   "execution_count": null,
   "metadata": {
    "colab": {
     "base_uri": "https://localhost:8080/"
    },
    "id": "hNv4Ej79mp24",
    "outputId": "0a607e86-9e58-4064-8089-1b82820322dd"
   },
   "outputs": [],
   "source": [
    "x = [8.0, 1, 2.5, 4, 28.0]\n",
    "mean = statistics.mean(x)\n",
    "variance = statistics.variance(x,mean)\n",
    "print (mean)"
   ]
  },
  {
   "cell_type": "code",
   "execution_count": null,
   "metadata": {
    "colab": {
     "base_uri": "https://localhost:8080/"
    },
    "id": "OjPNH665mz9W",
    "outputId": "bff75712-043f-4b9a-df82-8735667f92aa"
   },
   "outputs": [],
   "source": [
    "x = [8.0, 1, 2.5, 4, 28.0]\n",
    "mean = statistics.mean(x)\n",
    "variance = statistics.variance(x,mean)\n",
    "standard_deviation = variance ** 0.5\n",
    "print (standard_deviation)"
   ]
  },
  {
   "cell_type": "markdown",
   "metadata": {
    "id": "Wb7KAv_zm2_C"
   },
   "source": [
    "## Standard Deviation\n",
    "The sample standard deviation is another measure of data spread. The standard deviation is often more convenient than the variance because it has the same unit as the data points. Once you get the variance, you can calculate the standard deviation with pure Python:"
   ]
  },
  {
   "cell_type": "code",
   "execution_count": null,
   "metadata": {
    "id": "S47vO1HnJfET"
   },
   "outputs": [],
   "source": [
    "x = [8.0, 1, 2.5, 4, 28.0]\n",
    "mean = statistics.mean(x)\n",
    "variance = statistics.variance(x,mean)\n",
    "standard_deviation = variance ** 0.5\n",
    "print (standard_deviation)"
   ]
  },
  {
   "cell_type": "code",
   "execution_count": null,
   "metadata": {
    "id": "d3CuEFKTJfwp"
   },
   "outputs": [],
   "source": [
    "x = [8.0, 1, 2.5, 4, 28.0]\n",
    "standard_deviation = statistics.stdev(x)\n",
    "print (standard_deviation)"
   ]
  },
  {
   "cell_type": "markdown",
   "metadata": {
    "id": "sbCvXLHEJsnn"
   },
   "source": [
    "# Percentiles\n",
    "Percentiles are used in statistics to give you a number that describes the value that a given percent of the values are lower than.\n",
    "Example: Let’s say we have an array of the ages of all the people that lives in a street."
   ]
  },
  {
   "cell_type": "code",
   "execution_count": null,
   "metadata": {
    "colab": {
     "base_uri": "https://localhost:8080/"
    },
    "id": "43YBIOfQJoJF",
    "outputId": "6d23470f-c8e0-40c8-c3e7-982ad36a8960"
   },
   "outputs": [],
   "source": [
    "ages = [5,31,43,48,50,41,7,11,15,39,80,82,32,2,8,6,25,36,27,61,31]\n",
    "ages = [5,31,43,48,50,41,7,11,15,39,80,82,32,2,8,6,25,36,27,61,31]\n",
    "x = np.percentile(ages, 75)\n",
    "print(x)"
   ]
  },
  {
   "cell_type": "code",
   "execution_count": null,
   "metadata": {
    "colab": {
     "base_uri": "https://localhost:8080/"
    },
    "id": "cH--LP6vJ1X2",
    "outputId": "c76a8f7d-dd15-4b23-e1f2-b7d3b94d776f"
   },
   "outputs": [],
   "source": [
    "x = np.percentile(ages, [25,50,75])\n",
    "print(x)"
   ]
  },
  {
   "cell_type": "markdown",
   "metadata": {
    "id": "lXXSkIAxJ-I1"
   },
   "source": [
    "# Summary of Descriptive Statistics\n",
    "SciPy and Pandas offer useful routines to quickly get descriptive statistics with a single function or method call. You can use scipy.stats.describe() like this:"
   ]
  },
  {
   "cell_type": "code",
   "execution_count": null,
   "metadata": {
    "colab": {
     "base_uri": "https://localhost:8080/"
    },
    "id": "UfqevoM7J4zV",
    "outputId": "6d208d05-0b92-4123-e589-76f3243557af"
   },
   "outputs": [],
   "source": [
    "x = [5,31,43,48,50,41,7,11,15,39,80,82,32,2,8,6,25,36,27,61,31]\n",
    "result = stats.describe(x, ddof=1, bias=False)\n",
    "print(result)"
   ]
  },
  {
   "cell_type": "code",
   "execution_count": null,
   "metadata": {
    "colab": {
     "base_uri": "https://localhost:8080/"
    },
    "id": "FrbOmlgNJ9RB",
    "outputId": "990d29de-d946-4305-9ed9-8e475bb00686"
   },
   "outputs": [],
   "source": [
    "x = [5,31,43,48,50,41,7,11,15,39,80,82,32,2,8,6,25,36,27,61,31]\n",
    "z = pd.Series(x)\n",
    "result = z.describe()\n",
    "print(result)\n",
    "print(z.mean())\n",
    "print(z.std())"
   ]
  },
  {
   "cell_type": "code",
   "execution_count": null,
   "metadata": {
    "colab": {
     "base_uri": "https://localhost:8080/",
     "height": 1000
    },
    "id": "hsiq8VcRZdYr",
    "outputId": "a4df2b57-efc6-411e-8c57-0c06882a596e"
   },
   "outputs": [],
   "source": [
    "data = pd.read_csv('https://scipy-lectures.org/_downloads/brain_size.csv', sep=';', na_values=\".\")\n",
    "data"
   ]
  },
  {
   "cell_type": "code",
   "execution_count": null,
   "metadata": {
    "colab": {
     "base_uri": "https://localhost:8080/"
    },
    "id": "kFJfedUBYCat",
    "outputId": "fd3f7785-3e10-43c6-960a-5b4d10b8f9de"
   },
   "outputs": [],
   "source": [
    "data.shape  \n",
    "data.columns\n"
   ]
  },
  {
   "cell_type": "code",
   "execution_count": null,
   "metadata": {
    "colab": {
     "base_uri": "https://localhost:8080/",
     "height": 313
    },
    "id": "omW7sC3XaFig",
    "outputId": "8dd9280e-a70b-4aee-8d31-e9930bee0a1e"
   },
   "outputs": [],
   "source": [
    "from collections import Counter\n",
    "import seaborn as sns\n",
    "import matplotlib.pyplot as plt\n",
    "\n",
    "print(Counter(data['Gender']))  # Columns can be addressed by name   \n",
    "# Simpler selector\n",
    "sns.histplot(data[data['Gender'] == 'Female']['VIQ'],color='purple')\n",
    "plt.axvline(data[data['Gender'] == 'Female']['VIQ'].mean(),color='black')\n",
    "\n",
    "#sns.histplot(data[data['Gender'] == 'Male']['VIQ'],color='blue')\n",
    "\n",
    "data[data['Gender'] == 'Male']['VIQ'].mean()\n"
   ]
  },
  {
   "cell_type": "code",
   "execution_count": null,
   "metadata": {
    "colab": {
     "base_uri": "https://localhost:8080/"
    },
    "id": "8n6LnKQkY9O8",
    "outputId": "37c19d11-638e-4aad-8265-94858ccf1040"
   },
   "outputs": [],
   "source": [
    "data[data['Gender'] == 'Female']['VIQ']"
   ]
  },
  {
   "cell_type": "code",
   "execution_count": null,
   "metadata": {
    "colab": {
     "base_uri": "https://localhost:8080/"
    },
    "id": "tnKDuHCOaKzu",
    "outputId": "9983a0c2-d8ae-4ed1-ad43-610a4c14e727"
   },
   "outputs": [],
   "source": [
    "groupby_gender = data.groupby('Gender')\n",
    "for gender, value in groupby_gender['VIQ']:\n",
    "    print((gender, value.mean()))\n",
    "\n"
   ]
  },
  {
   "cell_type": "code",
   "execution_count": null,
   "metadata": {
    "colab": {
     "base_uri": "https://localhost:8080/"
    },
    "id": "hhXnWIskaZtD",
    "outputId": "3064aebc-6207-460c-a2e2-7d95573aecc3"
   },
   "outputs": [],
   "source": [
    "# try to use a list comprehension\n",
    "[(gender,value.mean()) for gender, value in groupby_gender['VIQ']]"
   ]
  },
  {
   "cell_type": "code",
   "execution_count": null,
   "metadata": {
    "colab": {
     "base_uri": "https://localhost:8080/",
     "height": 142
    },
    "id": "UypDI8NcaQay",
    "outputId": "19a7acd7-4bbd-44e5-ae91-749869686a92"
   },
   "outputs": [],
   "source": [
    "groupby_gender.mean()"
   ]
  },
  {
   "cell_type": "markdown",
   "metadata": {
    "id": "vHskC55qZ190"
   },
   "source": [
    "# Hypothesis testing: comparing two groups"
   ]
  },
  {
   "cell_type": "markdown",
   "metadata": {
    "id": "MVaeENVgarVN"
   },
   "source": [
    "## Student’s t-test: the simplest statistical test\n",
    "### 1-sample t-test: testing the value of a population mean\n",
    "scipy.stats.ttest_1samp() tests if the population mean of data is likely to be equal to a given value (technically if observations are drawn from a Gaussian distributions of given population mean). It returns the T statistic, and the p-value:"
   ]
  },
  {
   "cell_type": "code",
   "execution_count": null,
   "metadata": {
    "colab": {
     "base_uri": "https://localhost:8080/",
     "height": 350
    },
    "id": "mZY0mNpzb_YR",
    "outputId": "e7ce6ef7-624a-4e12-f3a7-6818c2c3956f"
   },
   "outputs": [],
   "source": [
    "sns.distplot(data['VIQ'],hist=False)\n",
    "plt.axvline(0)\n",
    "res=stats.ttest_1samp(data['VIQ'], 0) \n",
    "print (res[0])\n",
    "\n"
   ]
  },
  {
   "cell_type": "markdown",
   "metadata": {
    "id": "AWNrJWvlb4nY"
   },
   "source": [
    "## 2-sample t-test: testing for difference across populations\n",
    "We have seen above that the mean VIQ in the male and female populations were different. To test if this is significant, we do a 2-sample t-test with scipy.stats.ttest_ind():"
   ]
  },
  {
   "cell_type": "code",
   "execution_count": null,
   "metadata": {
    "colab": {
     "base_uri": "https://localhost:8080/"
    },
    "id": "vSeXznL6a3wq",
    "outputId": "3e4c2056-270d-4fb1-ba17-bbced7efe99b"
   },
   "outputs": [],
   "source": [
    "\n",
    "female_viq = data[data['Gender'] == 'Female']['VIQ']\n",
    "male_viq = data[data['Gender'] == 'Male']['VIQ']\n",
    "stats.ttest_ind(female_viq, male_viq) \n",
    "\n",
    "#sns.distplot(female_viq,hist=False,color='purple')\n",
    "#sns.distplot(male_viq,hist=False,color='blue')\n"
   ]
  },
  {
   "cell_type": "markdown",
   "metadata": {
    "id": "opYcYwwYbY1-"
   },
   "source": [
    "## Paired tests: repeated measurements on the same individuals\n",
    "PIQ, VIQ, and FSIQ give 3 measures of IQ. Let us test if FISQ and PIQ are significantly different. We can use a 2 sample test:"
   ]
  },
  {
   "cell_type": "code",
   "execution_count": null,
   "metadata": {
    "colab": {
     "base_uri": "https://localhost:8080/",
     "height": 384
    },
    "id": "wDlb7DkEa_Ug",
    "outputId": "37a0b782-e09a-46ee-b676-2035791b5fa9"
   },
   "outputs": [],
   "source": [
    "stats.ttest_ind(data['FSIQ'], data['PIQ'])\n",
    "sns.distplot(data['FSIQ'],color='r')\n",
    "sns.distplot(data['PIQ'],color='g')\n",
    "\n",
    "# try to use groupby to run a two-sample t-test"
   ]
  },
  {
   "cell_type": "markdown",
   "metadata": {
    "id": "tY_d308UbwUK"
   },
   "source": [
    "The problem with this approach is that it forgets that there are links between observations: FSIQ and PIQ are measured on the same individuals. Thus the variance due to inter-subject variability is confounding, and can be removed, using a “paired test”, or “repeated measures test”:"
   ]
  },
  {
   "cell_type": "code",
   "execution_count": null,
   "metadata": {
    "colab": {
     "base_uri": "https://localhost:8080/"
    },
    "id": "Nybrm5VTbQpO",
    "outputId": "73dd23fb-3bdc-49a0-c02e-bacdf97d0612"
   },
   "outputs": [],
   "source": [
    "stats.ttest_rel(data['FSIQ'], data['PIQ']) "
   ]
  },
  {
   "cell_type": "markdown",
   "metadata": {
    "id": "hLtSe0_scTBk"
   },
   "source": [
    "This is equivalent to a 1-sample test on the difference:"
   ]
  },
  {
   "cell_type": "code",
   "execution_count": null,
   "metadata": {
    "colab": {
     "base_uri": "https://localhost:8080/",
     "height": 336
    },
    "id": "IBrbVyv0bX2V",
    "outputId": "28aa8dcc-794c-4b9a-8a4b-9fe78b9dff89"
   },
   "outputs": [],
   "source": [
    "sns.distplot(data['FSIQ'] - data['PIQ'])\n",
    "plt.axvline(0)\n",
    "stats.ttest_1samp(data['FSIQ'] - data['PIQ'], 0) \n"
   ]
  },
  {
   "cell_type": "markdown",
   "metadata": {
    "id": "5Xn-ouDNcYA1"
   },
   "source": [
    "T-tests assume Gaussian errors. We can use a Wilcoxon signed-rank test, that relaxes this assumption. Note The corresponding test in the non paired case is the Mann–Whitney U test, scipy.stats.mannwhitneyu()."
   ]
  },
  {
   "cell_type": "code",
   "execution_count": null,
   "metadata": {
    "colab": {
     "base_uri": "https://localhost:8080/"
    },
    "id": "3UWA7AzzcXNI",
    "outputId": "d6d48848-fa93-424b-96d3-260014fbd96b"
   },
   "outputs": [],
   "source": [
    "stats.wilcoxon(data['FSIQ'], data['PIQ'])   "
   ]
  },
  {
   "cell_type": "markdown",
   "metadata": {
    "id": "gkiaiiqTcs2N"
   },
   "source": [
    "### Exercise\n",
    "\n",
    "Test the difference between weights in males and females.\n",
    "Use non parametric statistics to test the difference between VIQ in males and females.\n",
    "Conclusion: we find that the data does not support the hypothesis that males and females have different VIQ."
   ]
  },
  {
   "cell_type": "markdown",
   "metadata": {
    "id": "vQ9McOP0czi0"
   },
   "source": [
    "# Linear models, multiple factors, and analysis of variance\n",
    "Given two set of observations, x and y, we want to test the hypothesis that y is a linear function of x. In other terms:\n",
    "\n",
    "> y = ax + b + e\n",
    "\n",
    "where e is observation noise. We will use the statsmodels module to:\n",
    "\n",
    "Fit a linear model. We will use the simplest strategy, ordinary least squares (OLS).\n",
    "Test that coef is non zero."
   ]
  },
  {
   "cell_type": "code",
   "execution_count": null,
   "metadata": {
    "id": "o-H_pqIEcnDo"
   },
   "outputs": [],
   "source": [
    "x = np.linspace(-5, 5, 20)\n",
    "x2= np.linspace(0,10, 20)\n",
    "x3=  np.random.normal(size=20)\n",
    "\n",
    "np.random.seed(1)\n",
    "# normal distributed noise\n",
    "y = -5 + 3*x -10*x2 + 4 * np.random.normal(size=x.shape)\n",
    "# Create a data frame containing all the relevant variables\n",
    "data = pd.DataFrame({'x': x,'x2': x2, 'x3':x3, 'y': y})"
   ]
  },
  {
   "cell_type": "code",
   "execution_count": null,
   "metadata": {
    "colab": {
     "base_uri": "https://localhost:8080/",
     "height": 669
    },
    "id": "IrfHZDdXe_3P",
    "outputId": "b30a4bb8-97f8-48ed-99f7-dfcbe42bc8aa"
   },
   "outputs": [],
   "source": [
    "data"
   ]
  },
  {
   "cell_type": "markdown",
   "metadata": {
    "id": "eecqvySgdmHq"
   },
   "source": []
  },
  {
   "cell_type": "code",
   "execution_count": null,
   "metadata": {
    "colab": {
     "base_uri": "https://localhost:8080/"
    },
    "id": "DOuOGkQMdjIz",
    "outputId": "c7095ed3-7124-4bf4-fe3d-14c383cdbe24"
   },
   "outputs": [],
   "source": [
    "from statsmodels.formula.api import ols\n",
    "model = ols(\"y ~ x + x2 + x3\", data).fit()\n",
    "print(model.summary())"
   ]
  },
  {
   "cell_type": "markdown",
   "metadata": {
    "id": "fWslokQ4mrd6"
   },
   "source": [
    "## Categorical variables:\n",
    " comparing groups or multiple categories\n"
   ]
  },
  {
   "cell_type": "code",
   "execution_count": null,
   "metadata": {
    "colab": {
     "base_uri": "https://localhost:8080/"
    },
    "id": "81HPs71YmqfZ",
    "outputId": "37df16a5-01e2-4032-cb6b-39f88131e46c"
   },
   "outputs": [],
   "source": [
    "data = pd.read_csv('https://scipy-lectures.org/_downloads/brain_size.csv', sep=';', na_values=\".\")\n",
    "model = ols(\"VIQ ~ Gender + 1\", data).fit()\n",
    "print(model.summary())  "
   ]
  },
  {
   "cell_type": "markdown",
   "metadata": {
    "id": "AWX588mpnIez"
   },
   "source": [
    "\n",
    "## Link to t-tests between different FSIQ and PIQ\n",
    "\n",
    "To compare different types of IQ, we need to create a “long-form” table, listing IQs, where the type of IQ is indicated by a categorical variable:"
   ]
  },
  {
   "cell_type": "code",
   "execution_count": null,
   "metadata": {
    "colab": {
     "base_uri": "https://localhost:8080/",
     "height": 534
    },
    "id": "NiuWkDTPnHny",
    "outputId": "0a221c8c-ec43-483b-8fbe-052479cd2744"
   },
   "outputs": [],
   "source": [
    "data_fisq = pd.DataFrame({'iq': data['FSIQ'], 'type': 'fsiq'})\n",
    "data_piq = pd.DataFrame({'iq': data['PIQ'], 'type': 'piq'})\n",
    "data_long = pd.concat((data_fisq, data_piq))\n",
    "print(data_long)\n",
    "\n",
    "#sns.boxplot(data=data_long,x='type',y='iq')\n",
    "sns.violinplot(data=data_long,x='type',y='iq')\n",
    "\n"
   ]
  },
  {
   "cell_type": "code",
   "execution_count": null,
   "metadata": {
    "colab": {
     "base_uri": "https://localhost:8080/"
    },
    "id": "85zfO1j_nZuQ",
    "outputId": "4a6af54f-33f7-4265-e451-c42299ecb999"
   },
   "outputs": [],
   "source": [
    "model = ols(\"iq ~ type\", data_long).fit()\n",
    "print(model.summary())\n"
   ]
  },
  {
   "cell_type": "markdown",
   "metadata": {
    "id": "bizizr1OndAv"
   },
   "source": [
    "## Multiple Regression: \n",
    "including multiple factors"
   ]
  },
  {
   "cell_type": "code",
   "execution_count": null,
   "metadata": {
    "id": "ApeDiDzgnctM"
   },
   "outputs": [],
   "source": [
    "data = pd.read_csv('https://scipy-lectures.org/_downloads/iris.csv')\n",
    "model = ols('sepal_width ~ name + petal_length', data).fit()\n",
    "print(model.summary())  "
   ]
  },
  {
   "cell_type": "markdown",
   "metadata": {
    "id": "n7VmJAkzoDy9"
   },
   "source": [
    "# Analysis of variance (ANOVA)\n",
    "In the above iris example, we wish to test if the petal length is different between versicolor and virginica, after removing the effect of sepal width. This can be formulated as testing the difference between the coefficient associated to versicolor and virginica in the linear model estimated above (it is an Analysis of Variance, ANOVA). For this, we write a vector of ‘contrast’ on the parameters estimated: we want to test \"name[T.versicolor] - name[T.virginica]\", with an F-test."
   ]
  },
  {
   "cell_type": "code",
   "execution_count": null,
   "metadata": {
    "id": "iix02Vn9oqZd"
   },
   "outputs": [],
   "source": [
    "print(model.f_test([0, 1, -1, 0]))  "
   ]
  }
 ],
 "metadata": {
  "colab": {
   "authorship_tag": "ABX9TyNzEHUEKWP4G0lHcKMGoPob",
   "collapsed_sections": [],
   "include_colab_link": true,
   "name": "07_scipy_stats.ipynb",
   "provenance": [],
   "toc_visible": true
  },
  "kernelspec": {
   "display_name": "Python 3 (ipykernel)",
   "language": "python",
   "name": "python3"
  },
  "language_info": {
   "codemirror_mode": {
    "name": "ipython",
    "version": 3
   },
   "file_extension": ".py",
   "mimetype": "text/x-python",
   "name": "python",
   "nbconvert_exporter": "python",
   "pygments_lexer": "ipython3",
   "version": "3.8.8"
  }
 },
 "nbformat": 4,
 "nbformat_minor": 4
}
