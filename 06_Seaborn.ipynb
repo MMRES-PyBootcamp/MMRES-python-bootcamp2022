{
 "cells": [
  {
   "cell_type": "markdown",
   "metadata": {
    "colab_type": "text",
    "id": "view-in-github"
   },
   "source": [
    "<a href=\"https://colab.research.google.com/github/MMRES-PyBootcamp/MMRES-python-bootcamp2021/blob/master/Exercise_Prostate_Cancer.ipynb\" target=\"_parent\"><img src=\"https://colab.research.google.com/assets/colab-badge.svg\" alt=\"Open In Colab\"/></a>"
   ]
  },
  {
   "cell_type": "markdown",
   "metadata": {},
   "source": [
    "# Session 5 - Data visualization\n",
    "> TODO An introduction on Pandas intermediate level concepts. Here we will present how to *manipulate* the data stored in a Pandas DataFrame, no matter if their Pandas Series store numerical, text or more complex data types. Finally we will introduce you some tools to *reshape* and/or *aggregate* data."
   ]
  },
  {
   "cell_type": "markdown",
   "metadata": {},
   "source": [
    "## Outline TODO\n",
    " * [DataFrame transformations](#DataFrame-transformations)\n",
    "   * [DataFrame numerical transformations](#DataFrame-numerical-transformations)\n",
    "   * [DataFrame text transformations](#DataFrame-text-transformations)\n",
    "   * [Arbitrary transformations using `.apply()` method](#Arbitrary-transformations-using-.apply()-method) \n",
    " * [Exporting DataFrames](#Exporting-DataFrames)\n",
    " * [Grouping-by and aggregating DataFrames](#Grouping-by-and-aggregating-DataFrames)\n",
    " * [Pivoting DataFrames](#Pivoting-DataFrames)\n",
    " * [Melting DataFrames](#Melting-DataFrames)"
   ]
  },
  {
   "cell_type": "markdown",
   "metadata": {},
   "source": [
    "<div class=\"alert alert-block alert-success\"><b>Practice:</b> Practice cells announce exercises that you should try during the current boot camp session.\n",
    "</div>"
   ]
  },
  {
   "cell_type": "markdown",
   "metadata": {},
   "source": [
    "<div class=\"alert alert-block alert-warning\"><b>Extension:</b> Extension cells correspond to exercises (or links to contents) that are a bit more advanced. We recommend to try them after the current boot camp session.\n",
    "</div>"
   ]
  },
  {
   "cell_type": "markdown",
   "metadata": {},
   "source": [
    "<div class=\"alert alert-block alert-info\"><b>Tip:</b> Tip cells just give some advice or complementary information.\n",
    "</div>"
   ]
  },
  {
   "cell_type": "markdown",
   "metadata": {},
   "source": [
    "<div class=\"alert alert-block alert-danger\"><b>Caveat:</b> Caveat cells warn you about the most common pitfalls one founds when starts his/her path learning Python.\n",
    "\n",
    "</div>"
   ]
  },
  {
   "cell_type": "markdown",
   "metadata": {},
   "source": [
    "**This document is devised as a tool to enable your self-learning process. If you get stuck at some step or need any kind of help, please don't hesitate to raise your hand and ask for the teacher's guidance.**\n",
    "\n",
    "---"
   ]
  },
  {
   "cell_type": "markdown",
   "metadata": {},
   "source": [
    "## Introduction\n",
    "\n",
    "In this session, we will explore the tools that Python offers to visualize data. The *art* of making nice plots is something that takes some time, but getting our first plots is really simple. In this tutorial, we will focus in the libraries [Matplotlib](http://matplotlib.org/) and [Seaborn](https://seaborn.pydata.org/). Matplotlib provides an absolute control on what you are plotting but often requires quite many code lines. With Seaborn you can get really nice plots in just a couple code lines (that's the reason why we choose this package). Like many other Python plotting packages, Seaborn is based in Matplotlib, and at the end of the day, we will leverage the best of each package to make our plots."
   ]
  },
  {
   "cell_type": "markdown",
   "metadata": {},
   "source": [
    "<div class=\"alert alert-block alert-info\"><b>Tip:</b>\n",
    "\n",
    "Each Python user has its own favourite plotting packages. In my case, despite I started with Seaborn, I recently switched to [Plotnine](https://plotnine.readthedocs.io/en/stable/) as my default. When I need plots with some degree of interactivity, I love using [Bokeh](https://docs.bokeh.org/en/latest/) instead. Try to find the packages that better fits your needs.    \n",
    "</div>"
   ]
  },
  {
   "cell_type": "markdown",
   "metadata": {},
   "source": [
    "We think that working with a true data set using a hands-on approach is the best way to learn the basics on data visualization with Matplotlib and Seaborn. For this reason we will try to reproduce some plots from the [Figure 4](https://www.ncbi.nlm.nih.gov/pmc/articles/PMC7960507/figure/Fig4/) appearing in a [Nature Medicine](https://www.nature.com/nm/) paper entitled [*Transcriptional mediators of treatment resistance in lethal prostate cancer*](https://www.ncbi.nlm.nih.gov/pmc/articles/PMC7960507/)."
   ]
  },
  {
   "cell_type": "markdown",
   "metadata": {},
   "source": [
    "Let's start by importing the necessary packages. We will only need the `Seaborn` package and *class* called `pyplot` from the `Matplotlib` package (which has most of what we usually need for plotting):"
   ]
  },
  {
   "cell_type": "code",
   "execution_count": null,
   "metadata": {},
   "outputs": [],
   "source": [
    "# Load packages with their corresponding alias\n",
    "import pandas as pd\n",
    "\n",
    "# Load plotting packages/classes with their corresponding alias\n",
    "import seaborn as sns\n",
    "import matplotlib.pyplot as plt"
   ]
  },
  {
   "cell_type": "markdown",
   "metadata": {},
   "source": [
    "## Plotting categorical data\n",
    "\n",
    "Let's import the metadata of the prostate cancer data set to show how easy is generate plots with Seaborn and Matplotlib:"
   ]
  },
  {
   "cell_type": "code",
   "execution_count": null,
   "metadata": {},
   "outputs": [],
   "source": [
    "# Define the relative path towards the folder with our data files\n",
    "path = 'datasets/prostate_cancer_data/'\n",
    "\n",
    "# Reading file and storing it as a DataFrame\n",
    "df_metadata = pd.read_csv(filepath_or_buffer=f'{path}scp_metadata.tsv', sep='\\t', index_col=0, skiprows=[1])"
   ]
  },
  {
   "cell_type": "markdown",
   "metadata": {},
   "source": [
    "Remember that it is always a good idea to get a bit familiar with the data you have between hands:"
   ]
  },
  {
   "cell_type": "code",
   "execution_count": null,
   "metadata": {},
   "outputs": [],
   "source": [
    "# DataFrame general information\n",
    "df_metadata.info()"
   ]
  },
  {
   "cell_type": "code",
   "execution_count": null,
   "metadata": {},
   "outputs": [],
   "source": [
    "# DataFrame head (five first rows)\n",
    "df_metadata.head()"
   ]
  },
  {
   "cell_type": "code",
   "execution_count": null,
   "metadata": {},
   "outputs": [],
   "source": [
    "# DataFrame tail (last first rows)\n",
    "df_metadata.tail()"
   ]
  },
  {
   "cell_type": "markdown",
   "metadata": {},
   "source": [
    "It seems that some columns in `df_metadata` (`species`, `species__ontology_label`, `disease`, `disease__ontology_label`...) have the same value, let's check it out:"
   ]
  },
  {
   "cell_type": "code",
   "execution_count": null,
   "metadata": {},
   "outputs": [],
   "source": [
    "# Get `df_metadata` (whole DataFrame) unique values\n",
    "df_metadata.nunique()"
   ]
  },
  {
   "cell_type": "markdown",
   "metadata": {},
   "source": []
  },
  {
   "cell_type": "code",
   "execution_count": null,
   "metadata": {},
   "outputs": [],
   "source": [
    "df_metadata['donor_id'] = df_metadata['donor_id'].apply(str)\n",
    "\n",
    "# TODO\n",
    "ax = sns.histplot(\n",
    "    data=df_metadata,\n",
    "    x=\"biosample_id\",\n",
    "    hue=\"donor_id\",\n",
    "    alpha=1\n",
    "    # multiple=\"stack\",\n",
    "    # palette=\"light:m_r\",\n",
    "    # edgecolor=\".3\",\n",
    "    # linewidth=.5,\n",
    "    # log_scale=True,\n",
    ")\n",
    "\n",
    "# TODO\n",
    "ax.tick_params(axis='x', rotation=90)\n",
    "\n",
    "# TODO\n",
    "sns.move_legend(ax, \"upper left\", bbox_to_anchor=(1, 1))"
   ]
  },
  {
   "cell_type": "code",
   "execution_count": null,
   "metadata": {},
   "outputs": [],
   "source": []
  },
  {
   "cell_type": "code",
   "execution_count": null,
   "metadata": {},
   "outputs": [],
   "source": []
  },
  {
   "cell_type": "code",
   "execution_count": null,
   "metadata": {},
   "outputs": [],
   "source": []
  },
  {
   "cell_type": "code",
   "execution_count": null,
   "metadata": {},
   "outputs": [],
   "source": [
    "df_metadata"
   ]
  },
  {
   "cell_type": "code",
   "execution_count": null,
   "metadata": {},
   "outputs": [],
   "source": []
  },
  {
   "cell_type": "code",
   "execution_count": null,
   "metadata": {},
   "outputs": [],
   "source": []
  },
  {
   "cell_type": "code",
   "execution_count": null,
   "metadata": {},
   "outputs": [],
   "source": []
  },
  {
   "cell_type": "code",
   "execution_count": null,
   "metadata": {},
   "outputs": [],
   "source": [
    "# Define the relative path towards the folder with our data files\n",
    "path = 'datasets/prostate_cancer_data/'\n",
    "\n",
    "# Reading files of interest and storing them as DataFrames\n",
    "df_all = pd.read_csv(filepath_or_buffer=f'{path}scp_clustering.tsv', sep='\\t', index_col=0, skiprows=[1])\n",
    "# df_nkt = pd.read_csv(filepath_or_buffer=f'{path}scp_nk_t_clustering.tsv', sep='\\t', index_col=0, skiprows=[1])\n",
    "df_metadata = pd.read_csv(filepath_or_buffer=f'{path}scp_metadata.tsv', sep='\\t', index_col=0, skiprows=[1])\n",
    "\n",
    "# TODO\n",
    "df_exp = pd.read_csv(filepath_or_buffer=f'{path}scp_tpm.tsv.gz', sep='\\t', index_col=0).T\n",
    "df_exp.index=df_exp.index.astype(int)\n",
    "\n",
    "# TODO\n",
    "df = df_exp.merge(df_all, right_index=True, left_index=True, how='inner')"
   ]
  },
  {
   "cell_type": "code",
   "execution_count": null,
   "metadata": {},
   "outputs": [],
   "source": [
    "df"
   ]
  },
  {
   "cell_type": "code",
   "execution_count": null,
   "metadata": {},
   "outputs": [],
   "source": []
  },
  {
   "cell_type": "code",
   "execution_count": null,
   "metadata": {},
   "outputs": [],
   "source": [
    "# TODO\n",
    "print(df_all.info())"
   ]
  },
  {
   "cell_type": "markdown",
   "metadata": {},
   "source": [
    "Remember that is always recommended to get a bit familiar with the data "
   ]
  },
  {
   "cell_type": "code",
   "execution_count": null,
   "metadata": {
    "id": "z1Nc7IazJDjs"
   },
   "outputs": [],
   "source": [
    "#imports\n",
    "import os\n",
    "import pandas as pd\n",
    "import numpy as np\n",
    "import seaborn as sns\n",
    "import matplotlib.pyplot as plt\n",
    "from scipy.stats import zscore\n"
   ]
  },
  {
   "cell_type": "markdown",
   "metadata": {
    "id": "ByPIzLHoFQYj"
   },
   "source": [
    "## <strong>Data Import</strong>\n",
    "The supplementary data of this publication is available at the Broad Institute’s Single Cell Portal (“[SCP](https://singlecell.broadinstitute.org/single_cell)”). For this bootcamp, I have uploaded the data in our GitHub repository so that you don't need to create an SCP account. However, I encourage you to explore this resource by your own because it contains lots of interesting data that you can use for your projects and the user interface is very intuitive and allows you to perform some exploratory visualizations.\n",
    "\n",
    "<br>\n",
    "\n",
    "Let's have a look at the entry for this project: [SCP1244](https://singlecell.broadinstitute.org/single_cell/study/SCP1244/transcriptional-mediators-of-treatment-resistance-in-lethal-prostate-cancer)\n",
    "\n",
    "\n"
   ]
  },
  {
   "cell_type": "code",
   "execution_count": null,
   "metadata": {},
   "outputs": [],
   "source": [
    "# Reading an Excel SpreadSheet and storing it in as a DataFrame called `df`\n",
    "df_all = pd.read_csv(filepath_or_buffer='datasets/prostate_cancer_data/scp_clustering.tsv',sep='\\t',index_col=0,skiprows=[1])\n",
    "df_nkt = pd.read_csv(filepath_or_buffer='datasets/prostate_cancer_data/scp_nk_t_clustering.tsv',sep='\\t',index_col=0,skiprows=[1])\n",
    "df_metadata = pd.read_csv(filepath_or_buffer='datasets/prostate_cancer_data/scp_metadata.tsv',sep='\\t',index_col=0,skiprows=[1])\n",
    "\n",
    "# Return the DataFrame\n",
    "df_all.head()"
   ]
  },
  {
   "cell_type": "code",
   "execution_count": null,
   "metadata": {},
   "outputs": [],
   "source": [
    "df_all.info()"
   ]
  },
  {
   "cell_type": "code",
   "execution_count": null,
   "metadata": {},
   "outputs": [],
   "source": []
  },
  {
   "cell_type": "code",
   "execution_count": null,
   "metadata": {
    "id": "C-_OCw6TFRM4"
   },
   "outputs": [],
   "source": [
    "# import workshop data directly from a URL:\n",
    "df_all = pd.read_csv('https://raw.githubusercontent.com/MMRES-PyBootcamp/MMRES-python-bootcamp2021/master/prostate_cancer_data/scp_clustering.tsv',sep='\\t',index_col=0,skiprows=[1])\n",
    "df_nkt = pd.read_csv('https://raw.githubusercontent.com/MMRES-PyBootcamp/MMRES-python-bootcamp2021/master/prostate_cancer_data/scp_nk_t_clustering.tsv',sep='\\t',index_col=0,skiprows=[1])\n",
    "df_metadata = pd.read_csv('https://raw.githubusercontent.com/MMRES-PyBootcamp/MMRES-python-bootcamp2021/master/prostate_cancer_data/scp_metadata.tsv',sep='\\t',index_col=0,skiprows=[1])"
   ]
  },
  {
   "cell_type": "code",
   "execution_count": null,
   "metadata": {},
   "outputs": [],
   "source": [
    "df_all"
   ]
  },
  {
   "cell_type": "code",
   "execution_count": null,
   "metadata": {},
   "outputs": [],
   "source": [
    "# TODO\n",
    "df_exp = pd.read_csv(filepath_or_buffer=\"datasets/prostate_cancer_data/scp_tpm.tsv.gz\",\n",
    "                     sep='\\t',\n",
    "                     index_col=0).T\n",
    "\n",
    "# TODO\n",
    "df_exp.index=df_exp.index.astype(int)"
   ]
  },
  {
   "cell_type": "code",
   "execution_count": null,
   "metadata": {},
   "outputs": [],
   "source": [
    "df_exp"
   ]
  },
  {
   "cell_type": "code",
   "execution_count": null,
   "metadata": {
    "id": "MYwhaTeCNhxu"
   },
   "outputs": [],
   "source": [
    "# download, uncompress and import workshop data\n",
    "os.getcwd()\n",
    "if not os.path.exists('./assets/'):\n",
    "  os.mkdir('./assets/')\n",
    "!wget --quiet -O -  https://github.com/MMRES-PyBootcamp/MMRES-python-bootcamp2022/tree/main/datasets/prostate_cancer_data/scp_tpm.tsv.gz | gunzip > ./assets/scp_tpm.tsv\n",
    "df_exp=pd.read_csv('./assets/scp_tpm.tsv',sep='\\t',index_col=0).T\n",
    "df_exp.index=df_exp.index.astype(np.int)"
   ]
  },
  {
   "cell_type": "markdown",
   "metadata": {
    "id": "IBy-DR97gN2p"
   },
   "source": [
    "## <strong>Whole Dataset</strong>\n"
   ]
  },
  {
   "cell_type": "code",
   "execution_count": null,
   "metadata": {
    "id": "-dO6ezE2BzaK"
   },
   "outputs": [],
   "source": [
    "df=df_exp.merge(df_all,right_index=True,left_index=True,how='inner')\n"
   ]
  },
  {
   "cell_type": "code",
   "execution_count": null,
   "metadata": {},
   "outputs": [],
   "source": [
    "df"
   ]
  },
  {
   "cell_type": "code",
   "execution_count": null,
   "metadata": {},
   "outputs": [],
   "source": []
  },
  {
   "cell_type": "code",
   "execution_count": null,
   "metadata": {
    "id": "IOleqdMQX3nm"
   },
   "outputs": [],
   "source": [
    "\n",
    "f, ax = plt.subplots(figsize=(6.5, 6.5))\n",
    "sns.boxplot(data=df,x='cluster dominant cell type',y='CD3G')\n"
   ]
  },
  {
   "cell_type": "code",
   "execution_count": null,
   "metadata": {
    "id": "y4gULinqYazL"
   },
   "outputs": [],
   "source": [
    "# let's order the cell types according to the expression of this marker gene\n",
    "s_celltypes=sorted([(col,val['CD3G'].mean()) for col,val in df.groupby('cluster dominant cell type')], key=lambda x: x[1],reverse=True)\n",
    "s_celltypes\n"
   ]
  },
  {
   "cell_type": "code",
   "execution_count": null,
   "metadata": {
    "id": "EyS0TSY7W2nu"
   },
   "outputs": [],
   "source": [
    "\n",
    "ordered_cells=np.array(s_celltypes).T[0]\n",
    "\n",
    "f, ax = plt.subplots(figsize=(6.5, 6.5))\n",
    "sns.boxplot(data=df,x='cluster dominant cell type',y='CD3G',order=ordered_cells)\n",
    "ax.set_xticklabels(ordered_cells,rotation=90)"
   ]
  },
  {
   "cell_type": "code",
   "execution_count": null,
   "metadata": {
    "id": "xKrb6oTParnu"
   },
   "outputs": [],
   "source": [
    "f, ax = plt.subplots(figsize=(6.5, 6.5))\n",
    "\n",
    "sns.scatterplot(x=\"X\", y=\"Y\",\n",
    "                hue=\"cluster dominant cell type\",\n",
    "                hue_order=ordered_cells,\n",
    "                linewidth=0,\n",
    "                data=df, ax=ax)\n",
    "\n",
    "ax.legend(bbox_to_anchor=(1.1, 1.05))\n",
    "\n",
    "f, ax = plt.subplots(figsize=(6.5, 6.5))\n",
    "\n",
    "sns.scatterplot(x=\"X\", y=\"Y\",\n",
    "                hue=\"CD3G\",\n",
    "                palette=plt.cm.seismic,hue_norm=(0,500),hue_order=\"CD3G\",\n",
    "                linewidth=0,\n",
    "                data=df, ax=ax)\n",
    "\n",
    "ax.legend(bbox_to_anchor=(1.5, 1.05))"
   ]
  },
  {
   "cell_type": "code",
   "execution_count": null,
   "metadata": {
    "id": "t0o1mm6UcAKX"
   },
   "outputs": [],
   "source": [
    "sns.relplot(\n",
    "    data=df, x=\"X\", y=\"Y\",\n",
    "    col=\"cluster dominant cell type\", hue=\"CD3G\", \n",
    "    col_wrap=4, palette=plt.cm.seismic,hue_norm=(0,500), col_order=ordered_cells,\n",
    "    kind=\"scatter\"\n",
    ")"
   ]
  },
  {
   "cell_type": "markdown",
   "metadata": {
    "id": "aCKfoDKFgVwU"
   },
   "source": [
    "## <strong>Cytotoxic lymphocyte populations</strong>\n"
   ]
  },
  {
   "cell_type": "code",
   "execution_count": null,
   "metadata": {
    "id": "6KPAkOu4hF0T"
   },
   "outputs": [],
   "source": [
    "df=df_exp.merge(df_nkt,right_index=True,left_index=True,how='inner')"
   ]
  },
  {
   "cell_type": "code",
   "execution_count": null,
   "metadata": {
    "id": "K-Bw58OsjWPv"
   },
   "outputs": [],
   "source": [
    "color_dict={\n",
    "    'CD8+ PD1+ T cell':'#2a9a79', \n",
    "    'CD8+ CXCR4+ T cell':'#7eb459', \n",
    "    'CD8+ GNLY+ T cell':'#486aa5',\n",
    "    'CD16+ NK cell':'#7e3689', \n",
    "    'CD4+ Treg cell':'#ec9034', \n",
    "    'CD4+ T cell':'#fd7971'\n",
    "}"
   ]
  },
  {
   "cell_type": "code",
   "execution_count": null,
   "metadata": {
    "id": "13x0h82OhMaF"
   },
   "outputs": [],
   "source": [
    "# let's order the cell types according to the expression of CD3 marker gene\n",
    "s_celltypes=sorted([(col,val['CD3G'].mean()) for col,val in df.groupby('cluster dominant cell type')], key=lambda x: x[1],reverse=True)\n",
    "ordered_cells=np.array(s_celltypes).T[0]\n",
    "f, ax = plt.subplots(figsize=(6.5, 6.5))\n",
    "sns.boxplot(data=df,x='cluster dominant cell type',y='CD3G',order=ordered_cells, showfliers = False,palette=color_dict)\n",
    "ax.set_xticklabels(ordered_cells,rotation=90)\n"
   ]
  },
  {
   "cell_type": "code",
   "execution_count": null,
   "metadata": {
    "id": "mDYncWwHjG_m"
   },
   "outputs": [],
   "source": [
    "# let's order the cell types according to the expression of CD4 marker gene\n",
    "s_celltypes=sorted([(col,val['CD4'].mean()) for col,val in df.groupby('cluster dominant cell type')], key=lambda x: x[1],reverse=True)\n",
    "ordered_cells=np.array(s_celltypes).T[0]\n",
    "f, ax = plt.subplots(figsize=(6.5, 6.5))\n",
    "sns.boxplot(data=df,x='cluster dominant cell type',y='CD4',order=ordered_cells, showfliers = False,palette=color_dict)\n",
    "ax.set_xticklabels(ordered_cells,rotation=90)\n"
   ]
  },
  {
   "cell_type": "code",
   "execution_count": null,
   "metadata": {
    "id": "Rfost3ygjJ3g"
   },
   "outputs": [],
   "source": [
    "# let's order the cell types according to the expression of CD16 (FCGR3B) marker gene\n",
    "s_celltypes=sorted([(col,val['FCGR3B'].mean()) for col,val in df.groupby('cluster dominant cell type')], key=lambda x: x[1],reverse=True)\n",
    "ordered_cells=np.array(s_celltypes).T[0]\n",
    "f, ax = plt.subplots(figsize=(6.5, 6.5))\n",
    "sns.boxplot(data=df,x='cluster dominant cell type',y='FCGR3B',order=ordered_cells, showfliers = False,palette=color_dict)\n",
    "ax.set_xticklabels(ordered_cells,rotation=90)"
   ]
  },
  {
   "cell_type": "code",
   "execution_count": null,
   "metadata": {
    "id": "rT4sGeRPi9ud"
   },
   "outputs": [],
   "source": [
    "# let's order the cell types according to the expression of CD8 marker gene\n",
    "s_celltypes=sorted([(col,val['CD8A'].mean()) for col,val in df.groupby('cluster dominant cell type')], key=lambda x: x[1],reverse=True)\n",
    "ordered_cells=np.array(s_celltypes).T[0]\n",
    "f, ax = plt.subplots(figsize=(6.5, 6.5))\n",
    "sns.boxplot(data=df,x='cluster dominant cell type',y='CD8A',order=ordered_cells, showfliers = False,palette=color_dict)\n",
    "ax.set_xticklabels(ordered_cells,rotation=90)\n"
   ]
  },
  {
   "cell_type": "code",
   "execution_count": null,
   "metadata": {
    "id": "dE8LnB-slZbV"
   },
   "outputs": [],
   "source": [
    "ordered_cells=['CD16+ NK cell', 'CD8+ GNLY+ T cell', 'CD8+ CXCR4+ T cell','CD8+ PD1+ T cell']\n",
    "f, ax = plt.subplots(figsize=(3, 6.5))\n",
    "sns.stripplot(data=df,x='cluster dominant cell type',y='PDCD1',order=ordered_cells, palette=color_dict)\n",
    "ax.set_xticklabels(ordered_cells,rotation=90)\n"
   ]
  },
  {
   "cell_type": "code",
   "execution_count": null,
   "metadata": {
    "id": "JEVTYpvxmXOM"
   },
   "outputs": [],
   "source": [
    "ordered_cells=['CD16+ NK cell', 'CD8+ GNLY+ T cell', 'CD8+ CXCR4+ T cell','CD8+ PD1+ T cell']\n",
    "f, ax = plt.subplots(figsize=(3, 6.5))\n",
    "sns.stripplot(data=df,x='cluster dominant cell type',y='CX3CR1',order=ordered_cells, palette=color_dict)\n",
    "ax.set_xticklabels(ordered_cells,rotation=90)"
   ]
  },
  {
   "cell_type": "markdown",
   "metadata": {
    "id": "ytk9ObpDp-op"
   },
   "source": [
    "## <strong>Heatmaps</strong>\n"
   ]
  },
  {
   "cell_type": "code",
   "execution_count": null,
   "metadata": {
    "id": "W-dsRVLIqIcK"
   },
   "outputs": [],
   "source": [
    "markers=['CD4','CD8A','CD3G','FCGR3B','PDCD1','HAVCR2','TOX','CX3CR1','CXCR4','GZMB']"
   ]
  },
  {
   "cell_type": "code",
   "execution_count": null,
   "metadata": {
    "id": "n3cwfjKwmyZo"
   },
   "outputs": [],
   "source": [
    "sns.heatmap(df[markers],cmap=plt.cm.seismic,vmin=0,vmax=500)"
   ]
  },
  {
   "cell_type": "code",
   "execution_count": null,
   "metadata": {
    "id": "KhoLLAmQqfBj"
   },
   "outputs": [],
   "source": [
    "clusters=df['cluster dominant cell type']\n",
    "row_colors = clusters.map(color_dict)\n",
    "sns.clustermap(df[markers].apply(lambda x:zscore(x),axis=0),cmap=plt.cm.seismic,vmin=-2,vmax=2,row_colors=row_colors.to_numpy())\n"
   ]
  },
  {
   "cell_type": "code",
   "execution_count": null,
   "metadata": {
    "id": "22bV3HogpuZ1"
   },
   "outputs": [],
   "source": [
    "sns.clustermap(df[markers],z_score=1,cmap=plt.cm.seismic,vmin=-2,vmax=2,row_colors=row_colors.to_numpy())\n"
   ]
  },
  {
   "cell_type": "code",
   "execution_count": null,
   "metadata": {
    "id": "nLxcyoXlrUWx"
   },
   "outputs": [],
   "source": [
    "markers=['CD4','CD8A','FCGR3B','PDCD1','CXCR4','GNLY']\n",
    "#markers=['CD4','CD8A','FCGR3B']\n",
    "sns.clustermap(df[markers],z_score=1,cmap=plt.cm.seismic,vmin=-2,vmax=2,row_colors=row_colors.to_numpy())\n"
   ]
  },
  {
   "cell_type": "markdown",
   "metadata": {
    "id": "dOqhqZlUvMf6"
   },
   "source": [
    "## <strong> Statistics </strong>\n"
   ]
  },
  {
   "cell_type": "markdown",
   "metadata": {
    "id": "sS-2KpMGu7_H"
   },
   "source": [
    "https://medium.com/insights-school/learn-basic-statistics-with-python-cc0f45275929\n"
   ]
  }
 ],
 "metadata": {
  "colab": {
   "collapsed_sections": [],
   "include_colab_link": true,
   "name": "Exercise_Prostate_Cancer.ipynb",
   "provenance": [],
   "toc_visible": true
  },
  "kernelspec": {
   "display_name": "Python 3 (ipykernel)",
   "language": "python",
   "name": "python3"
  },
  "language_info": {
   "codemirror_mode": {
    "name": "ipython",
    "version": 3
   },
   "file_extension": ".py",
   "mimetype": "text/x-python",
   "name": "python",
   "nbconvert_exporter": "python",
   "pygments_lexer": "ipython3",
   "version": "3.9.12"
  }
 },
 "nbformat": 4,
 "nbformat_minor": 4
}
