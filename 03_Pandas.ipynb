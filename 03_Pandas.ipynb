{
 "cells": [
  {
   "cell_type": "markdown",
   "metadata": {
    "colab_type": "text",
    "id": "view-in-github"
   },
   "source": [
    "<a href=\"https://colab.research.google.com/github/MMRES-PyBootcamp/MMRES-python-bootcamp2021/blob/master/04_Pandas.ipynb\" target=\"_parent\"><img src=\"https://colab.research.google.com/assets/colab-badge.svg\" alt=\"Open In Colab\"/></a>"
   ]
  },
  {
   "cell_type": "markdown",
   "metadata": {},
   "source": [
    "# Session 2 - Pandas (First part)\n",
    "> An introduction on Pandas basics. First, you will become familiar with Pandas and its cornerstone variable types: the *Series* and the *DataFrame*. You will learn how to *import data* with Pandas and some tips to perform DataFrame *preliminary exploration* (including a very basic *visual inspection*). In addition, you will learn how to *access* the data storing in a DataFrame. Finally, you will be introduced to the concepts of DataFrame *boolean indexing* and DataFrame *filtering*."
   ]
  },
  {
   "cell_type": "markdown",
   "metadata": {},
   "source": [
    "## Outline TODO\n",
    " * [What is Pandas?](#What-is-Pandas?)\n",
    " * [Series and DataFrames](#Series-and-DataFrames)\n",
    " * [Loading data as a DataFrame](#Loading-data-as-a-DataFrame)\n",
    " * [DataFrame basic inspection](#DataFrame-basic-inspection)\n",
    " * [DataFrame visual inspection](#DataFrame-visual-inspection)\n",
    " * [DataFrame access](#DataFrame-access)\n",
    "   * [Accessing whole columns](#Accessing-whole-columns)\n",
    "   * [Accessing whole rows](#Accessing-whole-rows)\n",
    "   * [Accessing columns and rows simultaneously](#Accessing-columns-and-rows-simultaneously)\n",
    " * [DataFrame boolean indexing](#DataFrame-boolean-indexing)\n",
    " * [Filtering DataFrames with boolean indexing](#Filtering-DataFrames-with-boolean-indexing)"
   ]
  },
  {
   "cell_type": "markdown",
   "metadata": {},
   "source": [
    "<div class=\"alert alert-block alert-success\"><b>Practice:</b> Practice cells announce exercises that you should try during the current boot camp session.\n",
    "</div>"
   ]
  },
  {
   "cell_type": "markdown",
   "metadata": {},
   "source": [
    "<div class=\"alert alert-block alert-warning\"><b>Extension:</b> Extension cells correspond to exercises (or links to contents) that are a bit more advanced. We recommend to try them after the current boot camp session.\n",
    "</div>"
   ]
  },
  {
   "cell_type": "markdown",
   "metadata": {},
   "source": [
    "<div class=\"alert alert-block alert-info\"><b>Tip:</b> Tip cells just give some advice.\n",
    "</div>"
   ]
  },
  {
   "cell_type": "markdown",
   "metadata": {},
   "source": [
    "<div class=\"alert alert-block alert-danger\"><b>Caveat:</b> Caveat cells warn you about the most common pitfalls one founds when starts his/her path learning Python.\n",
    "\n",
    "</div>"
   ]
  },
  {
   "cell_type": "markdown",
   "metadata": {},
   "source": [
    "**This document is devised as a tool to enable your self-learning process. If you get stuck at some step or need any kind of help, please don't hesitate to raise your hand and ask for the teacher's guidance.**\n",
    "\n",
    "---"
   ]
  },
  {
   "cell_type": "markdown",
   "metadata": {
    "id": "jd6Y3hlZwe_y",
    "tags": []
   },
   "source": [
    "## What is Pandas?\n",
    "\n",
    "When dealing with numeric matrices and vectors in Python, [NumPy](https://numpy.org/) makes life a lot easier. However, those used to work with dedicated languages like [R](https://www.r-project.org/), doing data analysis directly with NumPy feels like a step back. Fortunately, some nice folks have written the Python Data Analysis Library (a.k.a. [Pandas](http://pandas.pydata.org/)). Pandas provides an R-like DataFrame, produces high quality plots with [matplotlib](https://matplotlib.org/), and integrates nicely with other libraries that expect NumPy arrays."
   ]
  },
  {
   "cell_type": "markdown",
   "metadata": {},
   "source": [
    "## Series and DataFrames\n",
    "\n",
    "Pandas works with `Series` of data, that then are arranged in `DataFrame` objects. A dataframe is the object closest to an Excel spreadsheet that we will see throughout the boot camp. Dataframes, though, given that they are integrated in Python and can be combined with so many different packages, are much more powerful than simple Excel spreadsheets. We use to load Pandas with the `pd` alias:"
   ]
  },
  {
   "cell_type": "code",
   "execution_count": 1,
   "metadata": {},
   "outputs": [],
   "source": [
    "# Load package with its corresponding alias\n",
    "import pandas as pd"
   ]
  },
  {
   "cell_type": "markdown",
   "metadata": {},
   "source": [
    "## Loading data as a DataFrame"
   ]
  },
  {
   "cell_type": "markdown",
   "metadata": {},
   "source": [
    "In order to load data with Pandas we use functions like [`pd.read_excel()`](https://pandas.pydata.org/pandas-docs/stable/reference/api/pandas.read_excel.html) and [`pd.read_csv()`](https://pandas.pydata.org/pandas-docs/stable/reference/api/pandas.read_csv.html). As you may have guessed, we choose depending on the format of our input data. For example, `pd.read_excel()` works with `xlsx`, `xls`... `pd.read_csv()` with `csv`, `tsv`, `txt`...\n",
    "\n",
    "These functions have multiple arguments providing great flexibility when importing data, like skipping some rows/columns, specifying the column delimiter or picking a particular sheet within a spreadsheet. Let's begin by importing [`ToySpreadsheet.xlsx`](MMRES-python-bootcamp2022/datasets/ToySpreadsheet.xlsx) from `/MMRES-python-bootcamp2022/datasets` sub-folder:"
   ]
  },
  {
   "cell_type": "code",
   "execution_count": 2,
   "metadata": {},
   "outputs": [
    {
     "data": {
      "text/html": [
       "<div>\n",
       "<style scoped>\n",
       "    .dataframe tbody tr th:only-of-type {\n",
       "        vertical-align: middle;\n",
       "    }\n",
       "\n",
       "    .dataframe tbody tr th {\n",
       "        vertical-align: top;\n",
       "    }\n",
       "\n",
       "    .dataframe thead th {\n",
       "        text-align: right;\n",
       "    }\n",
       "</style>\n",
       "<table border=\"1\" class=\"dataframe\">\n",
       "  <thead>\n",
       "    <tr style=\"text-align: right;\">\n",
       "      <th></th>\n",
       "      <th>Raw</th>\n",
       "      <th>Software</th>\n",
       "      <th>Node</th>\n",
       "      <th>Sequence</th>\n",
       "      <th>Intensity</th>\n",
       "      <th>Amplitude</th>\n",
       "    </tr>\n",
       "  </thead>\n",
       "  <tbody>\n",
       "    <tr>\n",
       "      <th>0</th>\n",
       "      <td>1985-04-06_0123_GA_C_R1</td>\n",
       "      <td>PD</td>\n",
       "      <td>Amanda</td>\n",
       "      <td>PEPTIDE</td>\n",
       "      <td>142.294863</td>\n",
       "      <td>1.529504</td>\n",
       "    </tr>\n",
       "    <tr>\n",
       "      <th>1</th>\n",
       "      <td>1985-04-06_0123_GA_C_R2</td>\n",
       "      <td>PD</td>\n",
       "      <td>Amanda</td>\n",
       "      <td>PEPTIDE</td>\n",
       "      <td>72.714405</td>\n",
       "      <td>1.226853</td>\n",
       "    </tr>\n",
       "    <tr>\n",
       "      <th>2</th>\n",
       "      <td>1985-04-06_0123_GA_T_R3</td>\n",
       "      <td>PD</td>\n",
       "      <td>Amanda</td>\n",
       "      <td>PEPTIDE</td>\n",
       "      <td>133.493350</td>\n",
       "      <td>1.768732</td>\n",
       "    </tr>\n",
       "    <tr>\n",
       "      <th>3</th>\n",
       "      <td>1985-04-06_0123_GA_T_R4</td>\n",
       "      <td>PD</td>\n",
       "      <td>Amanda</td>\n",
       "      <td>PEPTIDE</td>\n",
       "      <td>62.007904</td>\n",
       "      <td>1.331619</td>\n",
       "    </tr>\n",
       "    <tr>\n",
       "      <th>4</th>\n",
       "      <td>1985-04-06_0123_GA_C_R1</td>\n",
       "      <td>PD</td>\n",
       "      <td>Sequest</td>\n",
       "      <td>PEPTIDE</td>\n",
       "      <td>112.643842</td>\n",
       "      <td>1.853473</td>\n",
       "    </tr>\n",
       "    <tr>\n",
       "      <th>5</th>\n",
       "      <td>1985-04-06_0123_GA_C_R2</td>\n",
       "      <td>PD</td>\n",
       "      <td>Sequest</td>\n",
       "      <td>PEPTIDE</td>\n",
       "      <td>116.570249</td>\n",
       "      <td>1.821342</td>\n",
       "    </tr>\n",
       "    <tr>\n",
       "      <th>6</th>\n",
       "      <td>1985-04-06_0123_GA_T_R3</td>\n",
       "      <td>PD</td>\n",
       "      <td>Sequest</td>\n",
       "      <td>PEPTIDE</td>\n",
       "      <td>NaN</td>\n",
       "      <td>1.406125</td>\n",
       "    </tr>\n",
       "    <tr>\n",
       "      <th>7</th>\n",
       "      <td>1985-04-06_0123_GA_T_R4</td>\n",
       "      <td>PD</td>\n",
       "      <td>Sequest</td>\n",
       "      <td>PEPTIDE</td>\n",
       "      <td>64.983534</td>\n",
       "      <td>1.903608</td>\n",
       "    </tr>\n",
       "    <tr>\n",
       "      <th>8</th>\n",
       "      <td>1985-04-06_0123_GA_C_R1</td>\n",
       "      <td>MQ</td>\n",
       "      <td>Andromeda</td>\n",
       "      <td>PEPTIDE</td>\n",
       "      <td>97.934919</td>\n",
       "      <td>1.437262</td>\n",
       "    </tr>\n",
       "    <tr>\n",
       "      <th>9</th>\n",
       "      <td>1985-04-06_0123_GA_C_R2</td>\n",
       "      <td>MQ</td>\n",
       "      <td>Andromeda</td>\n",
       "      <td>PEPTIDE</td>\n",
       "      <td>93.601301</td>\n",
       "      <td>1.647577</td>\n",
       "    </tr>\n",
       "    <tr>\n",
       "      <th>10</th>\n",
       "      <td>1985-04-06_0123_GA_T_R3</td>\n",
       "      <td>MQ</td>\n",
       "      <td>Andromeda</td>\n",
       "      <td>PEPTIDE</td>\n",
       "      <td>84.169260</td>\n",
       "      <td>1.981663</td>\n",
       "    </tr>\n",
       "    <tr>\n",
       "      <th>11</th>\n",
       "      <td>1985-04-06_0123_GA_T_R4</td>\n",
       "      <td>MQ</td>\n",
       "      <td>Andromeda</td>\n",
       "      <td>PEPTIDE</td>\n",
       "      <td>144.019781</td>\n",
       "      <td>1.671251</td>\n",
       "    </tr>\n",
       "  </tbody>\n",
       "</table>\n",
       "</div>"
      ],
      "text/plain": [
       "                        Raw Software       Node Sequence   Intensity  \\\n",
       "0   1985-04-06_0123_GA_C_R1       PD     Amanda  PEPTIDE  142.294863   \n",
       "1   1985-04-06_0123_GA_C_R2       PD     Amanda  PEPTIDE   72.714405   \n",
       "2   1985-04-06_0123_GA_T_R3       PD     Amanda  PEPTIDE  133.493350   \n",
       "3   1985-04-06_0123_GA_T_R4       PD     Amanda  PEPTIDE   62.007904   \n",
       "4   1985-04-06_0123_GA_C_R1       PD    Sequest  PEPTIDE  112.643842   \n",
       "5   1985-04-06_0123_GA_C_R2       PD    Sequest  PEPTIDE  116.570249   \n",
       "6   1985-04-06_0123_GA_T_R3       PD    Sequest  PEPTIDE         NaN   \n",
       "7   1985-04-06_0123_GA_T_R4       PD    Sequest  PEPTIDE   64.983534   \n",
       "8   1985-04-06_0123_GA_C_R1       MQ  Andromeda  PEPTIDE   97.934919   \n",
       "9   1985-04-06_0123_GA_C_R2       MQ  Andromeda  PEPTIDE   93.601301   \n",
       "10  1985-04-06_0123_GA_T_R3       MQ  Andromeda  PEPTIDE   84.169260   \n",
       "11  1985-04-06_0123_GA_T_R4       MQ  Andromeda  PEPTIDE  144.019781   \n",
       "\n",
       "    Amplitude  \n",
       "0    1.529504  \n",
       "1    1.226853  \n",
       "2    1.768732  \n",
       "3    1.331619  \n",
       "4    1.853473  \n",
       "5    1.821342  \n",
       "6    1.406125  \n",
       "7    1.903608  \n",
       "8    1.437262  \n",
       "9    1.647577  \n",
       "10   1.981663  \n",
       "11   1.671251  "
      ]
     },
     "execution_count": 2,
     "metadata": {},
     "output_type": "execute_result"
    }
   ],
   "source": [
    "# Reading an Excel SpreadSheet and storing it in as a DataFrame called `df`\n",
    "df = pd.read_excel(io='datasets/ToySpreadsheet.xlsx')\n",
    "\n",
    "# Return the DataFrame\n",
    "df"
   ]
  },
  {
   "cell_type": "code",
   "execution_count": 3,
   "metadata": {},
   "outputs": [
    {
     "name": "stdout",
     "output_type": "stream",
     "text": [
      "<class 'pandas.core.frame.DataFrame'>\n"
     ]
    }
   ],
   "source": [
    "# Get the data type of `df`\n",
    "print(type(df))"
   ]
  },
  {
   "cell_type": "markdown",
   "metadata": {
    "tags": []
   },
   "source": [
    "## DataFrame basic inspection\n",
    "\n",
    "Usually, the first thing one should do with a new DataFrame is getting familiar with the its data. Pandas DataFrame objects have many *methods* to this aim, like [`.head()`](https://pandas.pydata.org/pandas-docs/stable/reference/api/pandas.DataFrame.head.html), [`.tail()`](https://pandas.pydata.org/pandas-docs/stable/reference/api/pandas.DataFrame.tail.html), [`.describe()`](https://pandas.pydata.org/pandas-docs/stable/reference/api/pandas.DataFrame.describe.html)...\n"
   ]
  },
  {
   "cell_type": "code",
   "execution_count": 4,
   "metadata": {},
   "outputs": [
    {
     "data": {
      "text/html": [
       "<div>\n",
       "<style scoped>\n",
       "    .dataframe tbody tr th:only-of-type {\n",
       "        vertical-align: middle;\n",
       "    }\n",
       "\n",
       "    .dataframe tbody tr th {\n",
       "        vertical-align: top;\n",
       "    }\n",
       "\n",
       "    .dataframe thead th {\n",
       "        text-align: right;\n",
       "    }\n",
       "</style>\n",
       "<table border=\"1\" class=\"dataframe\">\n",
       "  <thead>\n",
       "    <tr style=\"text-align: right;\">\n",
       "      <th></th>\n",
       "      <th>Raw</th>\n",
       "      <th>Software</th>\n",
       "      <th>Node</th>\n",
       "      <th>Sequence</th>\n",
       "      <th>Intensity</th>\n",
       "      <th>Amplitude</th>\n",
       "    </tr>\n",
       "  </thead>\n",
       "  <tbody>\n",
       "    <tr>\n",
       "      <th>0</th>\n",
       "      <td>1985-04-06_0123_GA_C_R1</td>\n",
       "      <td>PD</td>\n",
       "      <td>Amanda</td>\n",
       "      <td>PEPTIDE</td>\n",
       "      <td>142.294863</td>\n",
       "      <td>1.529504</td>\n",
       "    </tr>\n",
       "    <tr>\n",
       "      <th>1</th>\n",
       "      <td>1985-04-06_0123_GA_C_R2</td>\n",
       "      <td>PD</td>\n",
       "      <td>Amanda</td>\n",
       "      <td>PEPTIDE</td>\n",
       "      <td>72.714405</td>\n",
       "      <td>1.226853</td>\n",
       "    </tr>\n",
       "    <tr>\n",
       "      <th>2</th>\n",
       "      <td>1985-04-06_0123_GA_T_R3</td>\n",
       "      <td>PD</td>\n",
       "      <td>Amanda</td>\n",
       "      <td>PEPTIDE</td>\n",
       "      <td>133.493350</td>\n",
       "      <td>1.768732</td>\n",
       "    </tr>\n",
       "    <tr>\n",
       "      <th>3</th>\n",
       "      <td>1985-04-06_0123_GA_T_R4</td>\n",
       "      <td>PD</td>\n",
       "      <td>Amanda</td>\n",
       "      <td>PEPTIDE</td>\n",
       "      <td>62.007904</td>\n",
       "      <td>1.331619</td>\n",
       "    </tr>\n",
       "    <tr>\n",
       "      <th>4</th>\n",
       "      <td>1985-04-06_0123_GA_C_R1</td>\n",
       "      <td>PD</td>\n",
       "      <td>Sequest</td>\n",
       "      <td>PEPTIDE</td>\n",
       "      <td>112.643842</td>\n",
       "      <td>1.853473</td>\n",
       "    </tr>\n",
       "  </tbody>\n",
       "</table>\n",
       "</div>"
      ],
      "text/plain": [
       "                       Raw Software     Node Sequence   Intensity  Amplitude\n",
       "0  1985-04-06_0123_GA_C_R1       PD   Amanda  PEPTIDE  142.294863   1.529504\n",
       "1  1985-04-06_0123_GA_C_R2       PD   Amanda  PEPTIDE   72.714405   1.226853\n",
       "2  1985-04-06_0123_GA_T_R3       PD   Amanda  PEPTIDE  133.493350   1.768732\n",
       "3  1985-04-06_0123_GA_T_R4       PD   Amanda  PEPTIDE   62.007904   1.331619\n",
       "4  1985-04-06_0123_GA_C_R1       PD  Sequest  PEPTIDE  112.643842   1.853473"
      ]
     },
     "execution_count": 4,
     "metadata": {},
     "output_type": "execute_result"
    }
   ],
   "source": [
    "# DataFrame head\n",
    "df.head()"
   ]
  },
  {
   "cell_type": "code",
   "execution_count": 5,
   "metadata": {},
   "outputs": [
    {
     "data": {
      "text/html": [
       "<div>\n",
       "<style scoped>\n",
       "    .dataframe tbody tr th:only-of-type {\n",
       "        vertical-align: middle;\n",
       "    }\n",
       "\n",
       "    .dataframe tbody tr th {\n",
       "        vertical-align: top;\n",
       "    }\n",
       "\n",
       "    .dataframe thead th {\n",
       "        text-align: right;\n",
       "    }\n",
       "</style>\n",
       "<table border=\"1\" class=\"dataframe\">\n",
       "  <thead>\n",
       "    <tr style=\"text-align: right;\">\n",
       "      <th></th>\n",
       "      <th>Raw</th>\n",
       "      <th>Software</th>\n",
       "      <th>Node</th>\n",
       "      <th>Sequence</th>\n",
       "      <th>Intensity</th>\n",
       "      <th>Amplitude</th>\n",
       "    </tr>\n",
       "  </thead>\n",
       "  <tbody>\n",
       "    <tr>\n",
       "      <th>7</th>\n",
       "      <td>1985-04-06_0123_GA_T_R4</td>\n",
       "      <td>PD</td>\n",
       "      <td>Sequest</td>\n",
       "      <td>PEPTIDE</td>\n",
       "      <td>64.983534</td>\n",
       "      <td>1.903608</td>\n",
       "    </tr>\n",
       "    <tr>\n",
       "      <th>8</th>\n",
       "      <td>1985-04-06_0123_GA_C_R1</td>\n",
       "      <td>MQ</td>\n",
       "      <td>Andromeda</td>\n",
       "      <td>PEPTIDE</td>\n",
       "      <td>97.934919</td>\n",
       "      <td>1.437262</td>\n",
       "    </tr>\n",
       "    <tr>\n",
       "      <th>9</th>\n",
       "      <td>1985-04-06_0123_GA_C_R2</td>\n",
       "      <td>MQ</td>\n",
       "      <td>Andromeda</td>\n",
       "      <td>PEPTIDE</td>\n",
       "      <td>93.601301</td>\n",
       "      <td>1.647577</td>\n",
       "    </tr>\n",
       "    <tr>\n",
       "      <th>10</th>\n",
       "      <td>1985-04-06_0123_GA_T_R3</td>\n",
       "      <td>MQ</td>\n",
       "      <td>Andromeda</td>\n",
       "      <td>PEPTIDE</td>\n",
       "      <td>84.169260</td>\n",
       "      <td>1.981663</td>\n",
       "    </tr>\n",
       "    <tr>\n",
       "      <th>11</th>\n",
       "      <td>1985-04-06_0123_GA_T_R4</td>\n",
       "      <td>MQ</td>\n",
       "      <td>Andromeda</td>\n",
       "      <td>PEPTIDE</td>\n",
       "      <td>144.019781</td>\n",
       "      <td>1.671251</td>\n",
       "    </tr>\n",
       "  </tbody>\n",
       "</table>\n",
       "</div>"
      ],
      "text/plain": [
       "                        Raw Software       Node Sequence   Intensity  \\\n",
       "7   1985-04-06_0123_GA_T_R4       PD    Sequest  PEPTIDE   64.983534   \n",
       "8   1985-04-06_0123_GA_C_R1       MQ  Andromeda  PEPTIDE   97.934919   \n",
       "9   1985-04-06_0123_GA_C_R2       MQ  Andromeda  PEPTIDE   93.601301   \n",
       "10  1985-04-06_0123_GA_T_R3       MQ  Andromeda  PEPTIDE   84.169260   \n",
       "11  1985-04-06_0123_GA_T_R4       MQ  Andromeda  PEPTIDE  144.019781   \n",
       "\n",
       "    Amplitude  \n",
       "7    1.903608  \n",
       "8    1.437262  \n",
       "9    1.647577  \n",
       "10   1.981663  \n",
       "11   1.671251  "
      ]
     },
     "execution_count": 5,
     "metadata": {},
     "output_type": "execute_result"
    }
   ],
   "source": [
    "# DataFrame tail\n",
    "df.tail()"
   ]
  },
  {
   "cell_type": "code",
   "execution_count": 6,
   "metadata": {},
   "outputs": [
    {
     "data": {
      "text/html": [
       "<div>\n",
       "<style scoped>\n",
       "    .dataframe tbody tr th:only-of-type {\n",
       "        vertical-align: middle;\n",
       "    }\n",
       "\n",
       "    .dataframe tbody tr th {\n",
       "        vertical-align: top;\n",
       "    }\n",
       "\n",
       "    .dataframe thead th {\n",
       "        text-align: right;\n",
       "    }\n",
       "</style>\n",
       "<table border=\"1\" class=\"dataframe\">\n",
       "  <thead>\n",
       "    <tr style=\"text-align: right;\">\n",
       "      <th></th>\n",
       "      <th>Intensity</th>\n",
       "      <th>Amplitude</th>\n",
       "    </tr>\n",
       "  </thead>\n",
       "  <tbody>\n",
       "    <tr>\n",
       "      <th>count</th>\n",
       "      <td>11.000000</td>\n",
       "      <td>12.000000</td>\n",
       "    </tr>\n",
       "    <tr>\n",
       "      <th>mean</th>\n",
       "      <td>102.221219</td>\n",
       "      <td>1.631584</td>\n",
       "    </tr>\n",
       "    <tr>\n",
       "      <th>std</th>\n",
       "      <td>29.897232</td>\n",
       "      <td>0.244063</td>\n",
       "    </tr>\n",
       "    <tr>\n",
       "      <th>min</th>\n",
       "      <td>62.007904</td>\n",
       "      <td>1.226853</td>\n",
       "    </tr>\n",
       "    <tr>\n",
       "      <th>25%</th>\n",
       "      <td>78.441833</td>\n",
       "      <td>1.429478</td>\n",
       "    </tr>\n",
       "    <tr>\n",
       "      <th>50%</th>\n",
       "      <td>97.934919</td>\n",
       "      <td>1.659414</td>\n",
       "    </tr>\n",
       "    <tr>\n",
       "      <th>75%</th>\n",
       "      <td>125.031799</td>\n",
       "      <td>1.829375</td>\n",
       "    </tr>\n",
       "    <tr>\n",
       "      <th>max</th>\n",
       "      <td>144.019781</td>\n",
       "      <td>1.981663</td>\n",
       "    </tr>\n",
       "  </tbody>\n",
       "</table>\n",
       "</div>"
      ],
      "text/plain": [
       "        Intensity  Amplitude\n",
       "count   11.000000  12.000000\n",
       "mean   102.221219   1.631584\n",
       "std     29.897232   0.244063\n",
       "min     62.007904   1.226853\n",
       "25%     78.441833   1.429478\n",
       "50%     97.934919   1.659414\n",
       "75%    125.031799   1.829375\n",
       "max    144.019781   1.981663"
      ]
     },
     "execution_count": 6,
     "metadata": {},
     "output_type": "execute_result"
    }
   ],
   "source": [
    "# DataFrame (basic) statistical description for numeric columns\n",
    "df.describe()"
   ]
  },
  {
   "cell_type": "markdown",
   "metadata": {},
   "source": [
    "The [`.info()`](https://pandas.pydata.org/pandas-docs/stable/reference/api/pandas.DataFrame.info.html) method is particularly useful. It gives the names *columns*, the data type stored in each column and the memory devoted to store the DataFrame. It also shows the number of non-null values by column, from which we can easily estimate the number of *missing values* (`NaN`) by column."
   ]
  },
  {
   "cell_type": "code",
   "execution_count": 7,
   "metadata": {},
   "outputs": [
    {
     "name": "stdout",
     "output_type": "stream",
     "text": [
      "<class 'pandas.core.frame.DataFrame'>\n",
      "RangeIndex: 12 entries, 0 to 11\n",
      "Data columns (total 6 columns):\n",
      " #   Column     Non-Null Count  Dtype  \n",
      "---  ------     --------------  -----  \n",
      " 0   Raw        12 non-null     object \n",
      " 1   Software   12 non-null     object \n",
      " 2   Node       12 non-null     object \n",
      " 3   Sequence   12 non-null     object \n",
      " 4   Intensity  11 non-null     float64\n",
      " 5   Amplitude  12 non-null     float64\n",
      "dtypes: float64(2), object(4)\n",
      "memory usage: 704.0+ bytes\n"
     ]
    }
   ],
   "source": [
    "# DataFrame general information\n",
    "df.info()"
   ]
  },
  {
   "cell_type": "markdown",
   "metadata": {},
   "source": [
    "In addition to these methods, Pandas DataFrame objects very useful have *attributes* like [`.shape`](https://pandas.pydata.org/pandas-docs/stable/reference/api/pandas.DataFrame.shape.html), [`.columns`](https://pandas.pydata.org/pandas-docs/stable/reference/api/pandas.DataFrame.columns.html) and \n",
    "[`.index`](https://pandas.pydata.org/pandas-docs/stable/reference/api/pandas.DataFrame.index.html):"
   ]
  },
  {
   "cell_type": "code",
   "execution_count": 8,
   "metadata": {},
   "outputs": [
    {
     "data": {
      "text/plain": [
       "(12, 6)"
      ]
     },
     "execution_count": 8,
     "metadata": {},
     "output_type": "execute_result"
    }
   ],
   "source": [
    "# DataFrame shape. Remember: (Rows, Columns)\n",
    "df.shape"
   ]
  },
  {
   "cell_type": "code",
   "execution_count": 9,
   "metadata": {},
   "outputs": [
    {
     "data": {
      "text/plain": [
       "Index(['Raw', 'Software', 'Node', 'Sequence', 'Intensity', 'Amplitude'], dtype='object')"
      ]
     },
     "execution_count": 9,
     "metadata": {},
     "output_type": "execute_result"
    }
   ],
   "source": [
    "# DataFrame columns\n",
    "df.columns"
   ]
  },
  {
   "cell_type": "code",
   "execution_count": 10,
   "metadata": {},
   "outputs": [
    {
     "data": {
      "text/plain": [
       "RangeIndex(start=0, stop=12, step=1)"
      ]
     },
     "execution_count": 10,
     "metadata": {},
     "output_type": "execute_result"
    }
   ],
   "source": [
    "# DataFrame rows\n",
    "df.index"
   ]
  },
  {
   "cell_type": "markdown",
   "metadata": {},
   "source": [
    "<div class=\"alert alert-block alert-info\"><b>Tip:</b>\n",
    "\n",
    "Like *methods*, *attributes* are invoked with the dot `.` symbol. In general, *methods* are invoked with a parenthesis (like `.info()`) and *attributes* without them (like `.shape`). Intuitively, you can consider the *attributes* of a Python object as <ins>things it has</ins>, and *methods* as <ins>things it does</ins>. For example, we could imagine a Python object called `cat` with some attributes and methods.\n",
    "+ Atributes: `cat.age`, `cat.weight`, `cat.gender`, `cat.personality`, `cat.eye_color`, `cat.coat_pattern`, ...\n",
    "+ Methods: `cat.purr()`, `cat.meow()`, `cat.chirp()`, `cat.eat()`, `cat.sleep()`, `cat.scratch()`, ...\n",
    "</div>"
   ]
  },
  {
   "cell_type": "markdown",
   "metadata": {},
   "source": [
    "## DataFrame visual inspection\n",
    "\n",
    "After a basic DataFrame inspection, we can start with a visual exploration. To this aim we can levergae the Pandas DataFrame method [`.plot`](https://pandas.pydata.org/pandas-docs/stable/reference/api/pandas.DataFrame.plot.html) and its related \"submethods\" [`.line()`](https://pandas.pydata.org/pandas-docs/stable/reference/api/pandas.DataFrame.plot.line.html), [`.bar()`](https://pandas.pydata.org/pandas-docs/stable/reference/api/pandas.DataFrame.plot.bar.html), [`.barh()`](https://pandas.pydata.org/pandas-docs/stable/reference/api/pandas.DataFrame.plot.barh.html), [`.hist()`](https://pandas.pydata.org/pandas-docs/stable/reference/api/pandas.DataFrame.plot.hist.html), [`.box()`](https://pandas.pydata.org/pandas-docs/stable/reference/api/pandas.DataFrame.plot.box.html), [`.density()`](https://pandas.pydata.org/pandas-docs/stable/reference/api/pandas.DataFrame.plot.density.html), [`.area()`](https://pandas.pydata.org/pandas-docs/stable/reference/api/pandas.DataFrame.plot.area.html), [`.pie()`](https://pandas.pydata.org/pandas-docs/stable/reference/api/pandas.DataFrame.plot.pie.html), [`.scatter()`](https://pandas.pydata.org/pandas-docs/stable/reference/api/pandas.DataFrame.plot.scatter.html), [`.hexbin()`](https://pandas.pydata.org/pandas-docs/stable/reference/api/pandas.DataFrame.plot.hexbin.html), ..."
   ]
  },
  {
   "cell_type": "code",
   "execution_count": 11,
   "metadata": {},
   "outputs": [
    {
     "data": {
      "text/plain": [
       "<AxesSubplot:>"
      ]
     },
     "execution_count": 11,
     "metadata": {},
     "output_type": "execute_result"
    },
    {
     "data": {
      "image/png": "[encoded data removed]",
      "text/plain": [
       "<Figure size 432x288 with 1 Axes>"
      ]
     },
     "metadata": {
      "needs_background": "light"
     },
     "output_type": "display_data"
    }
   ],
   "source": [
    "# DataFrame line plot\n",
    "df.plot.line()"
   ]
  },
  {
   "cell_type": "markdown",
   "metadata": {
    "tags": [
     "ejercicio"
    ]
   },
   "source": [
    "<div class=\"alert alert-block alert-success\"><b>Practice:</b>\n",
    "\n",
    "1) In the 1st code cell below, get a box plot for the DataFrame `df`.\n",
    "\n",
    "</div>"
   ]
  },
  {
   "cell_type": "code",
   "execution_count": 12,
   "metadata": {
    "tags": [
     "ejercicio"
    ]
   },
   "outputs": [],
   "source": [
    "# Generate a box plot for `df`\n"
   ]
  },
  {
   "cell_type": "code",
   "execution_count": 13,
   "metadata": {
    "jupyter": {
     "source_hidden": true
    },
    "tags": [
     "ejercicio",
     "solucion"
    ]
   },
   "outputs": [
    {
     "data": {
      "text/plain": [
       "<AxesSubplot:>"
      ]
     },
     "execution_count": 13,
     "metadata": {},
     "output_type": "execute_result"
    },
    {
     "data": {
      "image/png": "[encoded data removed]",
      "text/plain": [
       "<Figure size 432x288 with 1 Axes>"
      ]
     },
     "metadata": {
      "needs_background": "light"
     },
     "output_type": "display_data"
    }
   ],
   "source": [
    "# Generate a box plot for `df`\n",
    "df.plot.box()"
   ]
  },
  {
   "cell_type": "markdown",
   "metadata": {
    "tags": [
     "ejercicio"
    ]
   },
   "source": [
    "<div class=\"alert alert-block alert-success\"><b>Practice:</b>\n",
    "\n",
    "1) In the 1st code cell below, get a scatter plot for the DataFrame `df`. What happened?\n",
    "2) Try again buy this time declaring `x=` and `y=` parameters for the `.scatter()` method.\n",
    "\n",
    "</div>"
   ]
  },
  {
   "cell_type": "code",
   "execution_count": 14,
   "metadata": {
    "tags": [
     "ejercicio"
    ]
   },
   "outputs": [],
   "source": [
    "# Generate a scatter plot for `df`\n"
   ]
  },
  {
   "cell_type": "code",
   "execution_count": 15,
   "metadata": {
    "jupyter": {
     "source_hidden": true
    },
    "tags": [
     "ejercicio",
     "solucion"
    ]
   },
   "outputs": [
    {
     "data": {
      "text/plain": [
       "<AxesSubplot:xlabel='Intensity', ylabel='Amplitude'>"
      ]
     },
     "execution_count": 15,
     "metadata": {},
     "output_type": "execute_result"
    },
    {
     "data": {
      "image/png": "[encoded data removed]",
      "text/plain": [
       "<Figure size 432x288 with 1 Axes>"
      ]
     },
     "metadata": {
      "needs_background": "light"
     },
     "output_type": "display_data"
    }
   ],
   "source": [
    "# Generate a scatter plot for `df`\n",
    "df.plot.scatter(x='Intensity', y='Amplitude')"
   ]
  },
  {
   "cell_type": "markdown",
   "metadata": {},
   "source": [
    "## DataFrame access\n",
    "\n",
    "We can get the information stored in a DataFrame by multiple ways, here we will present the accession by brackets `[]` syntax."
   ]
  },
  {
   "cell_type": "markdown",
   "metadata": {},
   "source": [
    "### Accessing whole columns\n",
    "\n",
    "In order to access rows, we need to use the brackets syntax: `df[]`. Passing a list of column names inside the brackets grants you access to such columns. Note that there are two pairs of brackets, one enclosing the list of column names (innermost) and one given access to DataFrame columns (outermost):"
   ]
  },
  {
   "cell_type": "code",
   "execution_count": 16,
   "metadata": {},
   "outputs": [
    {
     "data": {
      "text/html": [
       "<div>\n",
       "<style scoped>\n",
       "    .dataframe tbody tr th:only-of-type {\n",
       "        vertical-align: middle;\n",
       "    }\n",
       "\n",
       "    .dataframe tbody tr th {\n",
       "        vertical-align: top;\n",
       "    }\n",
       "\n",
       "    .dataframe thead th {\n",
       "        text-align: right;\n",
       "    }\n",
       "</style>\n",
       "<table border=\"1\" class=\"dataframe\">\n",
       "  <thead>\n",
       "    <tr style=\"text-align: right;\">\n",
       "      <th></th>\n",
       "      <th>Raw</th>\n",
       "      <th>Intensity</th>\n",
       "    </tr>\n",
       "  </thead>\n",
       "  <tbody>\n",
       "    <tr>\n",
       "      <th>0</th>\n",
       "      <td>1985-04-06_0123_GA_C_R1</td>\n",
       "      <td>142.294863</td>\n",
       "    </tr>\n",
       "    <tr>\n",
       "      <th>1</th>\n",
       "      <td>1985-04-06_0123_GA_C_R2</td>\n",
       "      <td>72.714405</td>\n",
       "    </tr>\n",
       "    <tr>\n",
       "      <th>2</th>\n",
       "      <td>1985-04-06_0123_GA_T_R3</td>\n",
       "      <td>133.493350</td>\n",
       "    </tr>\n",
       "    <tr>\n",
       "      <th>3</th>\n",
       "      <td>1985-04-06_0123_GA_T_R4</td>\n",
       "      <td>62.007904</td>\n",
       "    </tr>\n",
       "    <tr>\n",
       "      <th>4</th>\n",
       "      <td>1985-04-06_0123_GA_C_R1</td>\n",
       "      <td>112.643842</td>\n",
       "    </tr>\n",
       "    <tr>\n",
       "      <th>5</th>\n",
       "      <td>1985-04-06_0123_GA_C_R2</td>\n",
       "      <td>116.570249</td>\n",
       "    </tr>\n",
       "    <tr>\n",
       "      <th>6</th>\n",
       "      <td>1985-04-06_0123_GA_T_R3</td>\n",
       "      <td>NaN</td>\n",
       "    </tr>\n",
       "    <tr>\n",
       "      <th>7</th>\n",
       "      <td>1985-04-06_0123_GA_T_R4</td>\n",
       "      <td>64.983534</td>\n",
       "    </tr>\n",
       "    <tr>\n",
       "      <th>8</th>\n",
       "      <td>1985-04-06_0123_GA_C_R1</td>\n",
       "      <td>97.934919</td>\n",
       "    </tr>\n",
       "    <tr>\n",
       "      <th>9</th>\n",
       "      <td>1985-04-06_0123_GA_C_R2</td>\n",
       "      <td>93.601301</td>\n",
       "    </tr>\n",
       "    <tr>\n",
       "      <th>10</th>\n",
       "      <td>1985-04-06_0123_GA_T_R3</td>\n",
       "      <td>84.169260</td>\n",
       "    </tr>\n",
       "    <tr>\n",
       "      <th>11</th>\n",
       "      <td>1985-04-06_0123_GA_T_R4</td>\n",
       "      <td>144.019781</td>\n",
       "    </tr>\n",
       "  </tbody>\n",
       "</table>\n",
       "</div>"
      ],
      "text/plain": [
       "                        Raw   Intensity\n",
       "0   1985-04-06_0123_GA_C_R1  142.294863\n",
       "1   1985-04-06_0123_GA_C_R2   72.714405\n",
       "2   1985-04-06_0123_GA_T_R3  133.493350\n",
       "3   1985-04-06_0123_GA_T_R4   62.007904\n",
       "4   1985-04-06_0123_GA_C_R1  112.643842\n",
       "5   1985-04-06_0123_GA_C_R2  116.570249\n",
       "6   1985-04-06_0123_GA_T_R3         NaN\n",
       "7   1985-04-06_0123_GA_T_R4   64.983534\n",
       "8   1985-04-06_0123_GA_C_R1   97.934919\n",
       "9   1985-04-06_0123_GA_C_R2   93.601301\n",
       "10  1985-04-06_0123_GA_T_R3   84.169260\n",
       "11  1985-04-06_0123_GA_T_R4  144.019781"
      ]
     },
     "execution_count": 16,
     "metadata": {},
     "output_type": "execute_result"
    }
   ],
   "source": [
    "# Accessing DataFrame columns\n",
    "df[['Raw', 'Intensity']]"
   ]
  },
  {
   "cell_type": "markdown",
   "metadata": {},
   "source": [
    "### Accessing whole rows\n",
    "\n",
    "In order to access rows, we need to use [`.loc`](https://pandas.pydata.org/pandas-docs/stable/reference/api/pandas.DataFrame.loc.html) followed by the brackets syntax: `df.loc[]`. Passing a list of row indexes inside the brackets grants you access to such rows. Again, note that there are two pairs of brackets, one enclosing the list of row indexes (innermost) and one given access to DataFrame rows (outermost):"
   ]
  },
  {
   "cell_type": "code",
   "execution_count": 17,
   "metadata": {},
   "outputs": [
    {
     "data": {
      "text/html": [
       "<div>\n",
       "<style scoped>\n",
       "    .dataframe tbody tr th:only-of-type {\n",
       "        vertical-align: middle;\n",
       "    }\n",
       "\n",
       "    .dataframe tbody tr th {\n",
       "        vertical-align: top;\n",
       "    }\n",
       "\n",
       "    .dataframe thead th {\n",
       "        text-align: right;\n",
       "    }\n",
       "</style>\n",
       "<table border=\"1\" class=\"dataframe\">\n",
       "  <thead>\n",
       "    <tr style=\"text-align: right;\">\n",
       "      <th></th>\n",
       "      <th>Raw</th>\n",
       "      <th>Software</th>\n",
       "      <th>Node</th>\n",
       "      <th>Sequence</th>\n",
       "      <th>Intensity</th>\n",
       "      <th>Amplitude</th>\n",
       "    </tr>\n",
       "  </thead>\n",
       "  <tbody>\n",
       "    <tr>\n",
       "      <th>4</th>\n",
       "      <td>1985-04-06_0123_GA_C_R1</td>\n",
       "      <td>PD</td>\n",
       "      <td>Sequest</td>\n",
       "      <td>PEPTIDE</td>\n",
       "      <td>112.643842</td>\n",
       "      <td>1.853473</td>\n",
       "    </tr>\n",
       "    <tr>\n",
       "      <th>1</th>\n",
       "      <td>1985-04-06_0123_GA_C_R2</td>\n",
       "      <td>PD</td>\n",
       "      <td>Amanda</td>\n",
       "      <td>PEPTIDE</td>\n",
       "      <td>72.714405</td>\n",
       "      <td>1.226853</td>\n",
       "    </tr>\n",
       "  </tbody>\n",
       "</table>\n",
       "</div>"
      ],
      "text/plain": [
       "                       Raw Software     Node Sequence   Intensity  Amplitude\n",
       "4  1985-04-06_0123_GA_C_R1       PD  Sequest  PEPTIDE  112.643842   1.853473\n",
       "1  1985-04-06_0123_GA_C_R2       PD   Amanda  PEPTIDE   72.714405   1.226853"
      ]
     },
     "execution_count": 17,
     "metadata": {},
     "output_type": "execute_result"
    }
   ],
   "source": [
    "# Accessing DataFrame rows\n",
    "df.loc[[4, 1]]"
   ]
  },
  {
   "cell_type": "markdown",
   "metadata": {},
   "source": [
    "### Accessing columns and rows simultaneously\n",
    "\n",
    "If we want to access the intersection of some columns and rows, we use [`.loc`](https://pandas.pydata.org/pandas-docs/stable/reference/api/pandas.DataFrame.loc.html) followed by the brackets syntax with a comma inside: `df.loc[ , ]`. The list with the rows we wants goes to the left of the comma and the list with the columns to the right:"
   ]
  },
  {
   "cell_type": "code",
   "execution_count": 18,
   "metadata": {},
   "outputs": [
    {
     "data": {
      "text/html": [
       "<div>\n",
       "<style scoped>\n",
       "    .dataframe tbody tr th:only-of-type {\n",
       "        vertical-align: middle;\n",
       "    }\n",
       "\n",
       "    .dataframe tbody tr th {\n",
       "        vertical-align: top;\n",
       "    }\n",
       "\n",
       "    .dataframe thead th {\n",
       "        text-align: right;\n",
       "    }\n",
       "</style>\n",
       "<table border=\"1\" class=\"dataframe\">\n",
       "  <thead>\n",
       "    <tr style=\"text-align: right;\">\n",
       "      <th></th>\n",
       "      <th>Raw</th>\n",
       "      <th>Intensity</th>\n",
       "    </tr>\n",
       "  </thead>\n",
       "  <tbody>\n",
       "    <tr>\n",
       "      <th>4</th>\n",
       "      <td>1985-04-06_0123_GA_C_R1</td>\n",
       "      <td>112.643842</td>\n",
       "    </tr>\n",
       "    <tr>\n",
       "      <th>1</th>\n",
       "      <td>1985-04-06_0123_GA_C_R2</td>\n",
       "      <td>72.714405</td>\n",
       "    </tr>\n",
       "  </tbody>\n",
       "</table>\n",
       "</div>"
      ],
      "text/plain": [
       "                       Raw   Intensity\n",
       "4  1985-04-06_0123_GA_C_R1  112.643842\n",
       "1  1985-04-06_0123_GA_C_R2   72.714405"
      ]
     },
     "execution_count": 18,
     "metadata": {},
     "output_type": "execute_result"
    }
   ],
   "source": [
    "# Accessing multiple DataFrame rows and columns simultaneously\n",
    "df.loc[[4, 1],  ['Raw', 'Intensity']]"
   ]
  },
  {
   "cell_type": "markdown",
   "metadata": {},
   "source": [
    "As usual, you can first put your lists into a variables before accessing:"
   ]
  },
  {
   "cell_type": "code",
   "execution_count": 19,
   "metadata": {},
   "outputs": [
    {
     "data": {
      "text/html": [
       "<div>\n",
       "<style scoped>\n",
       "    .dataframe tbody tr th:only-of-type {\n",
       "        vertical-align: middle;\n",
       "    }\n",
       "\n",
       "    .dataframe tbody tr th {\n",
       "        vertical-align: top;\n",
       "    }\n",
       "\n",
       "    .dataframe thead th {\n",
       "        text-align: right;\n",
       "    }\n",
       "</style>\n",
       "<table border=\"1\" class=\"dataframe\">\n",
       "  <thead>\n",
       "    <tr style=\"text-align: right;\">\n",
       "      <th></th>\n",
       "      <th>Raw</th>\n",
       "      <th>Intensity</th>\n",
       "    </tr>\n",
       "  </thead>\n",
       "  <tbody>\n",
       "    <tr>\n",
       "      <th>4</th>\n",
       "      <td>1985-04-06_0123_GA_C_R1</td>\n",
       "      <td>112.643842</td>\n",
       "    </tr>\n",
       "    <tr>\n",
       "      <th>1</th>\n",
       "      <td>1985-04-06_0123_GA_C_R2</td>\n",
       "      <td>72.714405</td>\n",
       "    </tr>\n",
       "  </tbody>\n",
       "</table>\n",
       "</div>"
      ],
      "text/plain": [
       "                       Raw   Intensity\n",
       "4  1985-04-06_0123_GA_C_R1  112.643842\n",
       "1  1985-04-06_0123_GA_C_R2   72.714405"
      ]
     },
     "execution_count": 19,
     "metadata": {},
     "output_type": "execute_result"
    }
   ],
   "source": [
    "# Accessing DataFrame columns specifying first the list of indices and columns we want\n",
    "rows = [4, 1]\n",
    "cols = ['Raw', 'Intensity']\n",
    "df.loc[rows, cols]"
   ]
  },
  {
   "cell_type": "markdown",
   "metadata": {},
   "source": [
    "TODO\n",
    "\n",
    "Some Series methods?\n",
    "quantile()\n",
    "sum()\n",
    "min()\n",
    "max()\n",
    "mean()\n",
    "\n",
    "TODO"
   ]
  },
  {
   "cell_type": "markdown",
   "metadata": {
    "tags": []
   },
   "source": [
    "## DataFrame boolean indexing\n",
    "\n",
    "Do you remember the six *comparison operators*? \n",
    "+ `==`: Equal.\n",
    "+ `!=`: Not equal.\n",
    "+ `>`: Greater than.\n",
    "+ `<`: Less than.\n",
    "+ `>=`: Greater than or equal to.\n",
    "+ `<=`: Less than or equal to.\n",
    "\n",
    "We can use them to know which DataFrame rows affirmatively *answer* our *question*:"
   ]
  },
  {
   "cell_type": "code",
   "execution_count": 20,
   "metadata": {},
   "outputs": [
    {
     "data": {
      "text/plain": [
       "0      True\n",
       "1     False\n",
       "2      True\n",
       "3     False\n",
       "4      True\n",
       "5      True\n",
       "6     False\n",
       "7     False\n",
       "8     False\n",
       "9     False\n",
       "10    False\n",
       "11     True\n",
       "Name: Intensity, dtype: bool"
      ]
     },
     "execution_count": 20,
     "metadata": {},
     "output_type": "execute_result"
    }
   ],
   "source": [
    "# Is the current index 'Intensity' greater than 100?\n",
    "df['Intensity'] > 100"
   ]
  },
  {
   "cell_type": "markdown",
   "metadata": {},
   "source": [
    "Furthermore, can use the *logical operators* `and`, `or`, `not`, but in their *bitwise* form `&`, `|`, `~`, respectively to link multiple \"questions\"."
   ]
  },
  {
   "cell_type": "markdown",
   "metadata": {},
   "source": [
    "<div class=\"alert alert-block alert-danger\"><b>Caveat:</b>\n",
    "\n",
    "Keep in mind that DataFrame \"questions\" should be enclosed by parenthesis before linking them using `&`, `|`, `~`.\n",
    "\n",
    "</div>"
   ]
  },
  {
   "cell_type": "code",
   "execution_count": 21,
   "metadata": {},
   "outputs": [
    {
     "data": {
      "text/plain": [
       "0      True\n",
       "1     False\n",
       "2     False\n",
       "3     False\n",
       "4     False\n",
       "5     False\n",
       "6     False\n",
       "7     False\n",
       "8     False\n",
       "9     False\n",
       "10    False\n",
       "11    False\n",
       "dtype: bool"
      ]
     },
     "execution_count": 21,
     "metadata": {},
     "output_type": "execute_result"
    }
   ],
   "source": [
    "# Is the current index 'Intensity' greater than 100 AND 'Amplitude' smaller than 1.6?\n",
    "(df['Intensity'] > 100) & (df['Amplitude'] < 1.6)"
   ]
  },
  {
   "cell_type": "code",
   "execution_count": 22,
   "metadata": {},
   "outputs": [
    {
     "data": {
      "text/plain": [
       "0      True\n",
       "1      True\n",
       "2      True\n",
       "3      True\n",
       "4     False\n",
       "5     False\n",
       "6     False\n",
       "7     False\n",
       "8      True\n",
       "9      True\n",
       "10     True\n",
       "11     True\n",
       "dtype: bool"
      ]
     },
     "execution_count": 22,
     "metadata": {},
     "output_type": "execute_result"
    }
   ],
   "source": [
    "# Is the current index 'Software' not equal to 'PD' OR 'Node' equal to 'Amanda'?\n",
    "(df['Software'] != 'PD') | (df['Node'] == 'Amanda')"
   ]
  },
  {
   "cell_type": "markdown",
   "metadata": {},
   "source": [
    "<div class=\"alert alert-block alert-success\"><b>Practice:</b>\n",
    "\n",
    "1) In the 1st code cell below, ask our DataFrame `df` to get which rows present an `'Intensity'` lower than `90` **or** higher than `140`, **and**, a `'Node'` named `'Andromeda'` **or** `'Amanda'`.\n",
    "2) Inspect the DataFrame `df` and verify that boolean indexation is giving the correct answers.    \n",
    "\n",
    "Un-comment and fill only those code lines with underscores `___`.\n",
    "</div>"
   ]
  },
  {
   "cell_type": "code",
   "execution_count": 23,
   "metadata": {
    "tags": [
     "ejercicio"
    ]
   },
   "outputs": [],
   "source": [
    "# Is the current index 'Software' not equal to 'PD' OR 'Node' equal to 'Amanda'?\n",
    "#print(( (df['Intensity'] _ ___) _ (df['Intensity'] _ ___) ) & ( (df['Node'] _ '___') _ (df['Node'] _ '___') ))\n",
    "\n",
    "# Return the DataFrame\n",
    "# df"
   ]
  },
  {
   "cell_type": "code",
   "execution_count": 24,
   "metadata": {
    "jupyter": {
     "source_hidden": true
    },
    "tags": [
     "ejercicio",
     "solucion"
    ]
   },
   "outputs": [
    {
     "name": "stdout",
     "output_type": "stream",
     "text": [
      "0      True\n",
      "1      True\n",
      "2     False\n",
      "3      True\n",
      "4     False\n",
      "5     False\n",
      "6     False\n",
      "7     False\n",
      "8     False\n",
      "9     False\n",
      "10     True\n",
      "11     True\n",
      "dtype: bool\n"
     ]
    },
    {
     "data": {
      "text/html": [
       "<div>\n",
       "<style scoped>\n",
       "    .dataframe tbody tr th:only-of-type {\n",
       "        vertical-align: middle;\n",
       "    }\n",
       "\n",
       "    .dataframe tbody tr th {\n",
       "        vertical-align: top;\n",
       "    }\n",
       "\n",
       "    .dataframe thead th {\n",
       "        text-align: right;\n",
       "    }\n",
       "</style>\n",
       "<table border=\"1\" class=\"dataframe\">\n",
       "  <thead>\n",
       "    <tr style=\"text-align: right;\">\n",
       "      <th></th>\n",
       "      <th>Raw</th>\n",
       "      <th>Software</th>\n",
       "      <th>Node</th>\n",
       "      <th>Sequence</th>\n",
       "      <th>Intensity</th>\n",
       "      <th>Amplitude</th>\n",
       "    </tr>\n",
       "  </thead>\n",
       "  <tbody>\n",
       "    <tr>\n",
       "      <th>0</th>\n",
       "      <td>1985-04-06_0123_GA_C_R1</td>\n",
       "      <td>PD</td>\n",
       "      <td>Amanda</td>\n",
       "      <td>PEPTIDE</td>\n",
       "      <td>142.294863</td>\n",
       "      <td>1.529504</td>\n",
       "    </tr>\n",
       "    <tr>\n",
       "      <th>1</th>\n",
       "      <td>1985-04-06_0123_GA_C_R2</td>\n",
       "      <td>PD</td>\n",
       "      <td>Amanda</td>\n",
       "      <td>PEPTIDE</td>\n",
       "      <td>72.714405</td>\n",
       "      <td>1.226853</td>\n",
       "    </tr>\n",
       "    <tr>\n",
       "      <th>2</th>\n",
       "      <td>1985-04-06_0123_GA_T_R3</td>\n",
       "      <td>PD</td>\n",
       "      <td>Amanda</td>\n",
       "      <td>PEPTIDE</td>\n",
       "      <td>133.493350</td>\n",
       "      <td>1.768732</td>\n",
       "    </tr>\n",
       "    <tr>\n",
       "      <th>3</th>\n",
       "      <td>1985-04-06_0123_GA_T_R4</td>\n",
       "      <td>PD</td>\n",
       "      <td>Amanda</td>\n",
       "      <td>PEPTIDE</td>\n",
       "      <td>62.007904</td>\n",
       "      <td>1.331619</td>\n",
       "    </tr>\n",
       "    <tr>\n",
       "      <th>4</th>\n",
       "      <td>1985-04-06_0123_GA_C_R1</td>\n",
       "      <td>PD</td>\n",
       "      <td>Sequest</td>\n",
       "      <td>PEPTIDE</td>\n",
       "      <td>112.643842</td>\n",
       "      <td>1.853473</td>\n",
       "    </tr>\n",
       "    <tr>\n",
       "      <th>5</th>\n",
       "      <td>1985-04-06_0123_GA_C_R2</td>\n",
       "      <td>PD</td>\n",
       "      <td>Sequest</td>\n",
       "      <td>PEPTIDE</td>\n",
       "      <td>116.570249</td>\n",
       "      <td>1.821342</td>\n",
       "    </tr>\n",
       "    <tr>\n",
       "      <th>6</th>\n",
       "      <td>1985-04-06_0123_GA_T_R3</td>\n",
       "      <td>PD</td>\n",
       "      <td>Sequest</td>\n",
       "      <td>PEPTIDE</td>\n",
       "      <td>NaN</td>\n",
       "      <td>1.406125</td>\n",
       "    </tr>\n",
       "    <tr>\n",
       "      <th>7</th>\n",
       "      <td>1985-04-06_0123_GA_T_R4</td>\n",
       "      <td>PD</td>\n",
       "      <td>Sequest</td>\n",
       "      <td>PEPTIDE</td>\n",
       "      <td>64.983534</td>\n",
       "      <td>1.903608</td>\n",
       "    </tr>\n",
       "    <tr>\n",
       "      <th>8</th>\n",
       "      <td>1985-04-06_0123_GA_C_R1</td>\n",
       "      <td>MQ</td>\n",
       "      <td>Andromeda</td>\n",
       "      <td>PEPTIDE</td>\n",
       "      <td>97.934919</td>\n",
       "      <td>1.437262</td>\n",
       "    </tr>\n",
       "    <tr>\n",
       "      <th>9</th>\n",
       "      <td>1985-04-06_0123_GA_C_R2</td>\n",
       "      <td>MQ</td>\n",
       "      <td>Andromeda</td>\n",
       "      <td>PEPTIDE</td>\n",
       "      <td>93.601301</td>\n",
       "      <td>1.647577</td>\n",
       "    </tr>\n",
       "    <tr>\n",
       "      <th>10</th>\n",
       "      <td>1985-04-06_0123_GA_T_R3</td>\n",
       "      <td>MQ</td>\n",
       "      <td>Andromeda</td>\n",
       "      <td>PEPTIDE</td>\n",
       "      <td>84.169260</td>\n",
       "      <td>1.981663</td>\n",
       "    </tr>\n",
       "    <tr>\n",
       "      <th>11</th>\n",
       "      <td>1985-04-06_0123_GA_T_R4</td>\n",
       "      <td>MQ</td>\n",
       "      <td>Andromeda</td>\n",
       "      <td>PEPTIDE</td>\n",
       "      <td>144.019781</td>\n",
       "      <td>1.671251</td>\n",
       "    </tr>\n",
       "  </tbody>\n",
       "</table>\n",
       "</div>"
      ],
      "text/plain": [
       "                        Raw Software       Node Sequence   Intensity  \\\n",
       "0   1985-04-06_0123_GA_C_R1       PD     Amanda  PEPTIDE  142.294863   \n",
       "1   1985-04-06_0123_GA_C_R2       PD     Amanda  PEPTIDE   72.714405   \n",
       "2   1985-04-06_0123_GA_T_R3       PD     Amanda  PEPTIDE  133.493350   \n",
       "3   1985-04-06_0123_GA_T_R4       PD     Amanda  PEPTIDE   62.007904   \n",
       "4   1985-04-06_0123_GA_C_R1       PD    Sequest  PEPTIDE  112.643842   \n",
       "5   1985-04-06_0123_GA_C_R2       PD    Sequest  PEPTIDE  116.570249   \n",
       "6   1985-04-06_0123_GA_T_R3       PD    Sequest  PEPTIDE         NaN   \n",
       "7   1985-04-06_0123_GA_T_R4       PD    Sequest  PEPTIDE   64.983534   \n",
       "8   1985-04-06_0123_GA_C_R1       MQ  Andromeda  PEPTIDE   97.934919   \n",
       "9   1985-04-06_0123_GA_C_R2       MQ  Andromeda  PEPTIDE   93.601301   \n",
       "10  1985-04-06_0123_GA_T_R3       MQ  Andromeda  PEPTIDE   84.169260   \n",
       "11  1985-04-06_0123_GA_T_R4       MQ  Andromeda  PEPTIDE  144.019781   \n",
       "\n",
       "    Amplitude  \n",
       "0    1.529504  \n",
       "1    1.226853  \n",
       "2    1.768732  \n",
       "3    1.331619  \n",
       "4    1.853473  \n",
       "5    1.821342  \n",
       "6    1.406125  \n",
       "7    1.903608  \n",
       "8    1.437262  \n",
       "9    1.647577  \n",
       "10   1.981663  \n",
       "11   1.671251  "
      ]
     },
     "execution_count": 24,
     "metadata": {},
     "output_type": "execute_result"
    }
   ],
   "source": [
    "# Is the current index 'Software' not equal to 'PD' OR 'Node' equal to 'Amanda'?\n",
    "print(( (df['Intensity'] > 140) | (df['Intensity'] < 90) ) & ( (df['Node'] == 'Andromeda') | (df['Node'] == 'Amanda') ))\n",
    "\n",
    "# Return the DataFrame\n",
    "df"
   ]
  },
  {
   "cell_type": "markdown",
   "metadata": {},
   "source": [
    "## Filtering DataFrames with boolean indexing\n",
    "\n",
    "You can store the output of a boolean indexing into a variable:"
   ]
  },
  {
   "cell_type": "code",
   "execution_count": 25,
   "metadata": {},
   "outputs": [
    {
     "data": {
      "text/plain": [
       "pandas.core.series.Series"
      ]
     },
     "execution_count": 25,
     "metadata": {},
     "output_type": "execute_result"
    }
   ],
   "source": [
    "# Create filter to get Proteome Discoverer software AND no to get Amanda search node.\n",
    "bool_series = (df['Software'] == 'PD') & (df['Node'] != 'Amanda')\n",
    "\n",
    "# Get the variable type of `bool_series`\n",
    "type(bool_series)"
   ]
  },
  {
   "cell_type": "markdown",
   "metadata": {},
   "source": [
    "Note that the output of a boolean indexation (question) is a Pandas Series, in particular a Series full of boolean values, aka *boolean Series* (answer). We can use such *boolean Series* to easily filter *DataFrames* in a very flexible way:"
   ]
  },
  {
   "cell_type": "code",
   "execution_count": 26,
   "metadata": {},
   "outputs": [
    {
     "data": {
      "text/html": [
       "<div>\n",
       "<style scoped>\n",
       "    .dataframe tbody tr th:only-of-type {\n",
       "        vertical-align: middle;\n",
       "    }\n",
       "\n",
       "    .dataframe tbody tr th {\n",
       "        vertical-align: top;\n",
       "    }\n",
       "\n",
       "    .dataframe thead th {\n",
       "        text-align: right;\n",
       "    }\n",
       "</style>\n",
       "<table border=\"1\" class=\"dataframe\">\n",
       "  <thead>\n",
       "    <tr style=\"text-align: right;\">\n",
       "      <th></th>\n",
       "      <th>Raw</th>\n",
       "      <th>Software</th>\n",
       "      <th>Node</th>\n",
       "      <th>Sequence</th>\n",
       "      <th>Intensity</th>\n",
       "      <th>Amplitude</th>\n",
       "    </tr>\n",
       "  </thead>\n",
       "  <tbody>\n",
       "    <tr>\n",
       "      <th>4</th>\n",
       "      <td>1985-04-06_0123_GA_C_R1</td>\n",
       "      <td>PD</td>\n",
       "      <td>Sequest</td>\n",
       "      <td>PEPTIDE</td>\n",
       "      <td>112.643842</td>\n",
       "      <td>1.853473</td>\n",
       "    </tr>\n",
       "    <tr>\n",
       "      <th>5</th>\n",
       "      <td>1985-04-06_0123_GA_C_R2</td>\n",
       "      <td>PD</td>\n",
       "      <td>Sequest</td>\n",
       "      <td>PEPTIDE</td>\n",
       "      <td>116.570249</td>\n",
       "      <td>1.821342</td>\n",
       "    </tr>\n",
       "    <tr>\n",
       "      <th>6</th>\n",
       "      <td>1985-04-06_0123_GA_T_R3</td>\n",
       "      <td>PD</td>\n",
       "      <td>Sequest</td>\n",
       "      <td>PEPTIDE</td>\n",
       "      <td>NaN</td>\n",
       "      <td>1.406125</td>\n",
       "    </tr>\n",
       "    <tr>\n",
       "      <th>7</th>\n",
       "      <td>1985-04-06_0123_GA_T_R4</td>\n",
       "      <td>PD</td>\n",
       "      <td>Sequest</td>\n",
       "      <td>PEPTIDE</td>\n",
       "      <td>64.983534</td>\n",
       "      <td>1.903608</td>\n",
       "    </tr>\n",
       "  </tbody>\n",
       "</table>\n",
       "</div>"
      ],
      "text/plain": [
       "                       Raw Software     Node Sequence   Intensity  Amplitude\n",
       "4  1985-04-06_0123_GA_C_R1       PD  Sequest  PEPTIDE  112.643842   1.853473\n",
       "5  1985-04-06_0123_GA_C_R2       PD  Sequest  PEPTIDE  116.570249   1.821342\n",
       "6  1985-04-06_0123_GA_T_R3       PD  Sequest  PEPTIDE         NaN   1.406125\n",
       "7  1985-04-06_0123_GA_T_R4       PD  Sequest  PEPTIDE   64.983534   1.903608"
      ]
     },
     "execution_count": 26,
     "metadata": {},
     "output_type": "execute_result"
    }
   ],
   "source": [
    "# Applying my (first) filter to my DataFrame\n",
    "df[bool_series]"
   ]
  },
  {
   "cell_type": "markdown",
   "metadata": {},
   "source": [
    "<div class=\"alert alert-block alert-info\"><b>Tip:</b>\n",
    "\n",
    "You can rethink a *boolean Series* as a dataFrame \"mask\" that leaves uncovered only those rows of your interest.\n",
    "\n",
    "</div>"
   ]
  },
  {
   "cell_type": "markdown",
   "metadata": {},
   "source": [
    "<div class=\"alert alert-block alert-success\"><b>Practice:</b>\n",
    "\n",
    "In the 1st code cell below, we computed the 60% quantile of the 'Intensity' `I_quantile` and the 40% quantile of the 'Amplitude' `A_quantile`. Use this two variables that we have prepared for you to:\n",
    "    \n",
    "1) In the 2nd code cell below, create a boolean Series called `first_filter` to filter high intensity values (` > I_quantile`) or low amplitude values (` < A_quantile`) from the DataFrame `df`.\n",
    "2) In the 3rd code cell below, use `first_filter` to get your rows of interest from the *DataFrame* `df`.\n",
    "3) What you should change when creating `first_filter` if you would prefer high intensity values *and* low amplitude values (instead of *or*). Create a boolean Series called `second_filter` for this purpose in the 3rd cell below, and get your new rows of interest from the *DataFrame* `df`.\n",
    "    \n",
    "Un-comment and fill only those code lines with underscores `___`.\n",
    "</div>"
   ]
  },
  {
   "cell_type": "code",
   "execution_count": 27,
   "metadata": {
    "tags": [
     "ejercicio"
    ]
   },
   "outputs": [
    {
     "name": "stdout",
     "output_type": "stream",
     "text": [
      "112.64384197882998\n",
      "1.5767333454207706\n"
     ]
    }
   ],
   "source": [
    "# Retrieving the 60% quantile of the 'Intensity': I_quantile\n",
    "I_quantile = df['Intensity'].quantile(0.60)\n",
    "print(I_quantile)\n",
    "\n",
    "# Retrieving the 40% quantile of the 'Amplitude': A_quantile\n",
    "A_quantile = df['Amplitude'].quantile(0.40)\n",
    "print(A_quantile)"
   ]
  },
  {
   "cell_type": "code",
   "execution_count": 28,
   "metadata": {
    "tags": [
     "ejercicio"
    ]
   },
   "outputs": [],
   "source": [
    "# Create filter to get high peak intensity (first 60% quantile) OR low peak amplitude (last 40% quantile)\n",
    "#first_filter = \n",
    "\n",
    "# Applying first filter to DataFrame\n",
    "#df[___]"
   ]
  },
  {
   "cell_type": "code",
   "execution_count": 29,
   "metadata": {
    "jupyter": {
     "source_hidden": true
    },
    "lines_to_next_cell": 2,
    "tags": [
     "ejercicio",
     "solucion"
    ]
   },
   "outputs": [
    {
     "data": {
      "text/html": [
       "<div>\n",
       "<style scoped>\n",
       "    .dataframe tbody tr th:only-of-type {\n",
       "        vertical-align: middle;\n",
       "    }\n",
       "\n",
       "    .dataframe tbody tr th {\n",
       "        vertical-align: top;\n",
       "    }\n",
       "\n",
       "    .dataframe thead th {\n",
       "        text-align: right;\n",
       "    }\n",
       "</style>\n",
       "<table border=\"1\" class=\"dataframe\">\n",
       "  <thead>\n",
       "    <tr style=\"text-align: right;\">\n",
       "      <th></th>\n",
       "      <th>Raw</th>\n",
       "      <th>Software</th>\n",
       "      <th>Node</th>\n",
       "      <th>Sequence</th>\n",
       "      <th>Intensity</th>\n",
       "      <th>Amplitude</th>\n",
       "    </tr>\n",
       "  </thead>\n",
       "  <tbody>\n",
       "    <tr>\n",
       "      <th>0</th>\n",
       "      <td>1985-04-06_0123_GA_C_R1</td>\n",
       "      <td>PD</td>\n",
       "      <td>Amanda</td>\n",
       "      <td>PEPTIDE</td>\n",
       "      <td>142.294863</td>\n",
       "      <td>1.529504</td>\n",
       "    </tr>\n",
       "    <tr>\n",
       "      <th>1</th>\n",
       "      <td>1985-04-06_0123_GA_C_R2</td>\n",
       "      <td>PD</td>\n",
       "      <td>Amanda</td>\n",
       "      <td>PEPTIDE</td>\n",
       "      <td>72.714405</td>\n",
       "      <td>1.226853</td>\n",
       "    </tr>\n",
       "    <tr>\n",
       "      <th>2</th>\n",
       "      <td>1985-04-06_0123_GA_T_R3</td>\n",
       "      <td>PD</td>\n",
       "      <td>Amanda</td>\n",
       "      <td>PEPTIDE</td>\n",
       "      <td>133.493350</td>\n",
       "      <td>1.768732</td>\n",
       "    </tr>\n",
       "    <tr>\n",
       "      <th>3</th>\n",
       "      <td>1985-04-06_0123_GA_T_R4</td>\n",
       "      <td>PD</td>\n",
       "      <td>Amanda</td>\n",
       "      <td>PEPTIDE</td>\n",
       "      <td>62.007904</td>\n",
       "      <td>1.331619</td>\n",
       "    </tr>\n",
       "    <tr>\n",
       "      <th>5</th>\n",
       "      <td>1985-04-06_0123_GA_C_R2</td>\n",
       "      <td>PD</td>\n",
       "      <td>Sequest</td>\n",
       "      <td>PEPTIDE</td>\n",
       "      <td>116.570249</td>\n",
       "      <td>1.821342</td>\n",
       "    </tr>\n",
       "    <tr>\n",
       "      <th>6</th>\n",
       "      <td>1985-04-06_0123_GA_T_R3</td>\n",
       "      <td>PD</td>\n",
       "      <td>Sequest</td>\n",
       "      <td>PEPTIDE</td>\n",
       "      <td>NaN</td>\n",
       "      <td>1.406125</td>\n",
       "    </tr>\n",
       "    <tr>\n",
       "      <th>8</th>\n",
       "      <td>1985-04-06_0123_GA_C_R1</td>\n",
       "      <td>MQ</td>\n",
       "      <td>Andromeda</td>\n",
       "      <td>PEPTIDE</td>\n",
       "      <td>97.934919</td>\n",
       "      <td>1.437262</td>\n",
       "    </tr>\n",
       "    <tr>\n",
       "      <th>11</th>\n",
       "      <td>1985-04-06_0123_GA_T_R4</td>\n",
       "      <td>MQ</td>\n",
       "      <td>Andromeda</td>\n",
       "      <td>PEPTIDE</td>\n",
       "      <td>144.019781</td>\n",
       "      <td>1.671251</td>\n",
       "    </tr>\n",
       "  </tbody>\n",
       "</table>\n",
       "</div>"
      ],
      "text/plain": [
       "                        Raw Software       Node Sequence   Intensity  \\\n",
       "0   1985-04-06_0123_GA_C_R1       PD     Amanda  PEPTIDE  142.294863   \n",
       "1   1985-04-06_0123_GA_C_R2       PD     Amanda  PEPTIDE   72.714405   \n",
       "2   1985-04-06_0123_GA_T_R3       PD     Amanda  PEPTIDE  133.493350   \n",
       "3   1985-04-06_0123_GA_T_R4       PD     Amanda  PEPTIDE   62.007904   \n",
       "5   1985-04-06_0123_GA_C_R2       PD    Sequest  PEPTIDE  116.570249   \n",
       "6   1985-04-06_0123_GA_T_R3       PD    Sequest  PEPTIDE         NaN   \n",
       "8   1985-04-06_0123_GA_C_R1       MQ  Andromeda  PEPTIDE   97.934919   \n",
       "11  1985-04-06_0123_GA_T_R4       MQ  Andromeda  PEPTIDE  144.019781   \n",
       "\n",
       "    Amplitude  \n",
       "0    1.529504  \n",
       "1    1.226853  \n",
       "2    1.768732  \n",
       "3    1.331619  \n",
       "5    1.821342  \n",
       "6    1.406125  \n",
       "8    1.437262  \n",
       "11   1.671251  "
      ]
     },
     "execution_count": 29,
     "metadata": {},
     "output_type": "execute_result"
    }
   ],
   "source": [
    "# Create filter to get high peak intensity (first quantile) OR low peak amplitude (last quantile)\n",
    "first_filter = (df['Intensity'] > I_quantile) | (df['Amplitude'] < A_quantile)\n",
    "\n",
    "# Applying first filter to DataFrame\n",
    "df[first_filter]"
   ]
  },
  {
   "cell_type": "code",
   "execution_count": 30,
   "metadata": {
    "tags": [
     "ejercicio"
    ]
   },
   "outputs": [],
   "source": [
    "# Create filter to get high peak intensity (first 60% quantile) AND low peak amplitude (last 40% quantile)\n",
    "#second_filter = \n",
    "\n",
    "# Applying second filter to DataFrame\n",
    "#df[___]"
   ]
  },
  {
   "cell_type": "code",
   "execution_count": null,
   "metadata": {
    "jupyter": {
     "source_hidden": true
    },
    "tags": [
     "ejercicio",
     "solucion"
    ]
   },
   "outputs": [],
   "source": [
    "# Create filter to get high peak intensity (first quantile) AND low peak amplitude (last quantile)\n",
    "second_filter = (df['Intensity'] > I_quantile) & (df['Amplitude'] < A_quantile)\n",
    "\n",
    "# Applying second filter to DataFrame\n",
    "df[second_filter]"
   ]
  }
 ],
 "metadata": {
  "colab": {
   "include_colab_link": true,
   "name": "04_Pandas.ipynb",
   "provenance": []
  },
  "kernelspec": {
   "display_name": "Python 3 (ipykernel)",
   "language": "python",
   "name": "python3"
  },
  "language_info": {
   "codemirror_mode": {
    "name": "ipython",
    "version": 3
   },
   "file_extension": ".py",
   "mimetype": "text/x-python",
   "name": "python",
   "nbconvert_exporter": "python",
   "pygments_lexer": "ipython3",
   "version": "3.8.8"
  }
 },
 "nbformat": 4,
 "nbformat_minor": 4
}
