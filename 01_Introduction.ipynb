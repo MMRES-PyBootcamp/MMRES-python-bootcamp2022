{
 "cells": [
  {
   "cell_type": "markdown",
   "metadata": {
    "colab_type": "text",
    "id": "view-in-github"
   },
   "source": [
    "<a href=\"https://colab.research.google.com/github/MMRES-PyBootcamp/MMRES-python-bootcamp2022/blob/main/01_Introduction.ipynb\" target=\"_parent\"><img src=\"https://colab.research.google.com/assets/colab-badge.svg\" alt=\"Open In Colab\"/></a>"
   ]
  },
  {
   "cell_type": "markdown",
   "metadata": {
    "id": "1Fk29gAa8T8x"
   },
   "source": [
    "# Chapter 1 - Introduction to Notebooks and Python\n",
    "> A basic introduction to work with Python in Jupyter Notebooks."
   ]
  },
  {
   "cell_type": "markdown",
   "metadata": {
    "id": "2tTMHeWl8T8z"
   },
   "source": [
    "## What is Python?\n",
    "\n",
    "Python is a high-level, interpreted, general-purpose programming language created by [Guido van Rossum](https://en.wikipedia.org/wiki/Guido_van_Rossum) in 1991.\n",
    "\n",
    "- High code readability and easy to learn.\n",
    "- Widely used in science and engineering.\n",
    "- Huge community of users with lots of packages."
   ]
  },
  {
   "cell_type": "markdown",
   "metadata": {
    "id": "IPC3ml3A8T80"
   },
   "source": [
    "## What are Jupyter Notebooks?\n",
    "\n",
    "Jupyter Notebook is a web-based interactive computational environment for creating documents that combine executable calculations and formatted text (for example, the document you are looking at right now). As we will see throughout the course, in a Jupyter Notebook we can combine code cells (with executable snippets and figures) and [Markdown](https://en.wikipedia.org/wiki/Markdown) cells (with text content), making make them pretty handy (in fact, the whole [MMRES Python boot camp](MMRES-python-bootcamp2022) is made out of notebooks)."
   ]
  },
  {
   "cell_type": "markdown",
   "metadata": {},
   "source": [
    "This is a **code cell**:"
   ]
  },
  {
   "cell_type": "code",
   "execution_count": 1,
   "metadata": {
    "tags": []
   },
   "outputs": [
    {
     "data": {
      "text/plain": [
       "4"
      ]
     },
     "execution_count": 1,
     "metadata": {},
     "output_type": "execute_result"
    }
   ],
   "source": [
    "2 + 2"
   ]
  },
  {
   "cell_type": "markdown",
   "metadata": {},
   "source": [
    "This is a **text cell**:"
   ]
  },
  {
   "cell_type": "markdown",
   "metadata": {},
   "source": [
    "2 + 2"
   ]
  },
  {
   "cell_type": "markdown",
   "metadata": {},
   "source": [
    "The first thing to know when working with notebooks is that there are two modes:\n",
    "\n",
    "+ **Command mode**: This mode is used to navigate or manipulate **whole cells**. We enter this mode with `Esc`. For example, we can take these actions just by hovering over notebook cells:\n",
    "  - Move from cell to cell with the `↑`/`↓` keys.\n",
    "  - Add a cell above/below the current one with `a`/`b`\n",
    "  - Copy, cut and paste cell with `c`/`x`/`v`.\n",
    "  - Change cell type to code or markdown with `y`/`m`.\n",
    "  - Delete and undo with `d-d`/`z`.\n",
    "\n",
    "\n",
    "+ **Edit mode**: This mode is used to edit **cells source content**. We enter this mode with with `Enter`. We can also enter edit mode just by double-clicking on any cell (command mode) and then just clicking again (edit mode).\n",
    "\n",
    "Regardless of the mode, we can always run the cell with `Ctrl-Enter`, run and select the cell below with `Shift-Enter` and run and create a cell below with `Alt-Enter`."
   ]
  },
  {
   "cell_type": "markdown",
   "metadata": {},
   "source": [
    "<div class=\"alert alert-block alert-success\"><b>Practice:</b>\n",
    "\n",
    "1) Select this cell and try hitting `Enter` to see the source of this text.\n",
    "\n",
    "In edit mode we can write and format the text. Changing to command mode with `Esc` will prevent us from editing but, now, the markdown source is visible.\n",
    "    \n",
    "2) In order to see the text as it was before we need to execute this cell: try with `Ctrl-Enter`.\n",
    "\n",
    "3) Experiment with the Jupyter Notebook shortcuts. For instance, in command mode, create a cell *below* this one, switch to edit mode and type your name. Then, *execute* it with. Uh-oh... it's a *code* cell! Change the cell to *Markdown* and it'll be fine!\n",
    "\n",
    "</div>"
   ]
  },
  {
   "cell_type": "markdown",
   "metadata": {
    "id": "VBcnyjfB8T82"
   },
   "source": [
    "## Define variables"
   ]
  },
  {
   "cell_type": "markdown",
   "metadata": {
    "id": "1iwsZUmH8T83"
   },
   "source": [
    "You can use code cells to make mathematical operations and *return* the corresponding output:"
   ]
  },
  {
   "cell_type": "code",
   "execution_count": 2,
   "metadata": {
    "id": "ZtsGWJ8l8T83",
    "outputId": "a4cbe23c-b6ff-40e3-9b00-4dd667ae5ab0"
   },
   "outputs": [
    {
     "data": {
      "text/plain": [
       "2"
      ]
     },
     "execution_count": 2,
     "metadata": {},
     "output_type": "execute_result"
    }
   ],
   "source": [
    "# Compute a sum a return the output\n",
    "1 + 1"
   ]
  },
  {
   "cell_type": "markdown",
   "metadata": {},
   "source": [
    "Sometimes you might need to *store* the output in a variable to use it later:"
   ]
  },
  {
   "cell_type": "code",
   "execution_count": 3,
   "metadata": {},
   "outputs": [],
   "source": [
    "# Compute a sum and store the output in \"integer_a\"\n",
    "integer_a = 1 + 1"
   ]
  },
  {
   "cell_type": "markdown",
   "metadata": {
    "id": "R-5JcYJh8T86"
   },
   "source": [
    "To recover the value of the store variable:"
   ]
  },
  {
   "cell_type": "code",
   "execution_count": 4,
   "metadata": {},
   "outputs": [
    {
     "data": {
      "text/plain": [
       "2"
      ]
     },
     "execution_count": 4,
     "metadata": {},
     "output_type": "execute_result"
    }
   ],
   "source": [
    "# Recover the value of \"integer_a\"\n",
    "integer_a"
   ]
  },
  {
   "cell_type": "markdown",
   "metadata": {},
   "source": [
    "## Variable types"
   ]
  },
  {
   "cell_type": "markdown",
   "metadata": {},
   "source": [
    "There are many variable types in Python: integer, float, string, boolean, set, list, dictionary... You can use the [buit-in Python function](https://docs.python.org/3/library/functions.html) [`type()`](https://docs.python.org/3/library/functions.html#type) to get the variable type of any variable:"
   ]
  },
  {
   "cell_type": "code",
   "execution_count": 5,
   "metadata": {},
   "outputs": [
    {
     "data": {
      "text/plain": [
       "int"
      ]
     },
     "execution_count": 5,
     "metadata": {},
     "output_type": "execute_result"
    }
   ],
   "source": [
    "# Get the variable type of `integer_a`\n",
    "type(integer_a)"
   ]
  },
  {
   "cell_type": "markdown",
   "metadata": {},
   "source": [
    "<div class=\"alert alert-block alert-success\"><b>Practice:</b>\n",
    "\n",
    "1) In the first code cell below, store the result of the sum `1.0 + 1.0` in a variable called `float_b`.\n",
    "2) In the second one, get the variable type of `float_b`.\n",
    "3) In the third one, compute `integer_a + float_b`.\n",
    "\n",
    "</div>"
   ]
  },
  {
   "cell_type": "code",
   "execution_count": 18,
   "metadata": {},
   "outputs": [],
   "source": [
    "# Compute a sum and store the output in `integer_b`\n",
    "float_b = 1.0 + 1.0"
   ]
  },
  {
   "cell_type": "code",
   "execution_count": 19,
   "metadata": {},
   "outputs": [
    {
     "data": {
      "text/plain": [
       "float"
      ]
     },
     "execution_count": 19,
     "metadata": {},
     "output_type": "execute_result"
    }
   ],
   "source": [
    "# Get the variable type of `integer_b`\n",
    "type(float_b)"
   ]
  },
  {
   "cell_type": "code",
   "execution_count": 20,
   "metadata": {
    "id": "OSUIb0wC8T87"
   },
   "outputs": [
    {
     "data": {
      "text/plain": [
       "4.0"
      ]
     },
     "execution_count": 20,
     "metadata": {},
     "output_type": "execute_result"
    }
   ],
   "source": [
    "# Compute the sum of `integer_a + integer_b`\n",
    "integer_a + integer_b"
   ]
  },
  {
   "cell_type": "markdown",
   "metadata": {},
   "source": [
    "If you prefer letters instead of numbers, the string data type perfect for you. String variables are surrounded by single `'` or double `\"` apostrophe marks."
   ]
  },
  {
   "cell_type": "code",
   "execution_count": 9,
   "metadata": {},
   "outputs": [],
   "source": [
    "# Store a string value in the \"integer_a\" variable\n",
    "string_a = \"2\""
   ]
  },
  {
   "cell_type": "markdown",
   "metadata": {},
   "source": [
    "As you might guess, you can't mix numerical (integer or float) with string data types:"
   ]
  },
  {
   "cell_type": "code",
   "execution_count": 10,
   "metadata": {},
   "outputs": [
    {
     "ename": "TypeError",
     "evalue": "unsupported operand type(s) for +: 'int' and 'str'",
     "output_type": "error",
     "traceback": [
      "\u001b[1;31m---------------------------------------------------------------------------\u001b[0m",
      "\u001b[1;31mTypeError\u001b[0m                                 Traceback (most recent call last)",
      "\u001b[1;32m~\\AppData\\Local\\Temp/ipykernel_18300/3746564871.py\u001b[0m in \u001b[0;36m<module>\u001b[1;34m\u001b[0m\n\u001b[0;32m      1\u001b[0m \u001b[1;31m# Try adding integers and strings\u001b[0m\u001b[1;33m\u001b[0m\u001b[1;33m\u001b[0m\u001b[1;33m\u001b[0m\u001b[0m\n\u001b[1;32m----> 2\u001b[1;33m \u001b[0minteger_a\u001b[0m \u001b[1;33m+\u001b[0m \u001b[0mstring_a\u001b[0m\u001b[1;33m\u001b[0m\u001b[1;33m\u001b[0m\u001b[0m\n\u001b[0m",
      "\u001b[1;31mTypeError\u001b[0m: unsupported operand type(s) for +: 'int' and 'str'"
     ]
    }
   ],
   "source": [
    "# Try adding integers and strings\n",
    "integer_a + string_a"
   ]
  },
  {
   "cell_type": "markdown",
   "metadata": {},
   "source": [
    "There are some built-in Python functions that can be used to change the data type of a variable (if possible). Have a look to [`int()`](https://docs.python.org/3/library/functions.html#int), [`float()`](https://docs.python.org/3/library/functions.html#float) and [`str()`](https://docs.python.org/3/library/functions.html#func-str) buit-ins."
   ]
  },
  {
   "cell_type": "markdown",
   "metadata": {},
   "source": [
    "## Built-in function `print()`"
   ]
  },
  {
   "cell_type": "markdown",
   "metadata": {},
   "source": [
    "To recover the value of multiple variables in a single code cell, you might need the [`print()`](https://docs.python.org/3/library/functions.html#print)."
   ]
  },
  {
   "cell_type": "code",
   "execution_count": 11,
   "metadata": {},
   "outputs": [
    {
     "data": {
      "text/plain": [
       "'2'"
      ]
     },
     "execution_count": 11,
     "metadata": {},
     "output_type": "execute_result"
    }
   ],
   "source": [
    "# This cell only returns the value stored in `string_a` (the last one called)\n",
    "integer_a\n",
    "string_a"
   ]
  },
  {
   "cell_type": "code",
   "execution_count": 12,
   "metadata": {},
   "outputs": [
    {
     "name": "stdout",
     "output_type": "stream",
     "text": [
      "2\n",
      "2\n"
     ]
    }
   ],
   "source": [
    "# This cell instead returns both values\n",
    "print(integer_a)\n",
    "print(string_a)"
   ]
  },
  {
   "cell_type": "code",
   "execution_count": 13,
   "metadata": {},
   "outputs": [
    {
     "name": "stdout",
     "output_type": "stream",
     "text": [
      "2 2\n"
     ]
    }
   ],
   "source": [
    "# Or alternatively...\n",
    "print(integer_a, string_a)"
   ]
  },
  {
   "cell_type": "code",
   "execution_count": 14,
   "metadata": {},
   "outputs": [
    {
     "name": "stdout",
     "output_type": "stream",
     "text": [
      "2 and 2."
     ]
    }
   ],
   "source": [
    "# And maybe in a more readable way...\n",
    "print(integer_a, string_a, sep=' and ', end='.')"
   ]
  },
  {
   "cell_type": "markdown",
   "metadata": {},
   "source": [
    "<div class=\"alert alert-block alert-info\"><b>Info:</b>\n",
    "\n",
    "We just used our first two **function arguments**: `sep=` and `end=`. Arguments are just variables passed to a function that the function will use internally. Don't worry about this at the moment, just try to understand what arguments `sep=` and `end=` do.\n",
    "\n",
    "</div>"
   ]
  },
  {
   "cell_type": "markdown",
   "metadata": {},
   "source": [
    "The `print()` built-in is essential when we want a program to give an easy readable text messages to the human in front the screen. In this context you should know how to use [formatted strings](https://docs.python.org/3/tutorial/inputoutput.html#tut-f-strings) (AKA f-strings). To use f-strings, you should first precede your string with the letter `f`. Once this fancy `f` is in place, you can use braces `{}` to allocate any variable you wish in your sentence."
   ]
  },
  {
   "cell_type": "code",
   "execution_count": 15,
   "metadata": {},
   "outputs": [
    {
     "name": "stdout",
     "output_type": "stream",
     "text": [
      "I have two twos. An integer two: 2; and an string two: 2.\n"
     ]
    }
   ],
   "source": [
    "# Give a nicely formatted text message\n",
    "print(f'I have two twos. An integer two: {integer_a}; and an string two: {string_a}.')"
   ]
  },
  {
   "cell_type": "markdown",
   "metadata": {},
   "source": [
    "In addition, you can use format specifiers using a colon symbol `:`. This allows great control over how the value is formatted:"
   ]
  },
  {
   "cell_type": "code",
   "execution_count": 16,
   "metadata": {},
   "outputs": [
    {
     "name": "stdout",
     "output_type": "stream",
     "text": [
      "Pi for an average person: 3.14159265359\n",
      "Pi for a engineer: 3.141593e+00\n",
      "Pi for a lazy person: 3.1416\n",
      "Pi for a physiscist: 3\n"
     ]
    }
   ],
   "source": [
    "# With `:.Xf` we can control the number of decimal places we want\n",
    "pi = 3.14159265359\n",
    "print(f'Pi for an average person: {pi}')\n",
    "print(f'Pi for a engineer: {pi:.6e}')\n",
    "print(f'Pi for a lazy person: {pi:.4f}')\n",
    "print(f'Pi for a physiscist: {pi:.0f}')"
   ]
  },
  {
   "cell_type": "markdown",
   "metadata": {},
   "source": [
    "<div class=\"alert alert-block alert-success\"><b>Practice:</b>\n",
    "\n",
    "1) In the code cell below, complete the two statement regarding the [iberian lynx](https://en.wikipedia.org/wiki/Iberian_lynx).\n",
    "2) Use the format specifier `.1%` to give the number as a percentage with once decimal place.\n",
    "\n",
    "</div>"
   ]
  },
  {
   "cell_type": "code",
   "execution_count": 17,
   "metadata": {},
   "outputs": [
    {
     "name": "stdout",
     "output_type": "stream",
     "text": [
      "From 2010 to 2020, the population of Iberian lynxs raised a 461.0%.\n",
      "However, the yearly number of specimens dead by car hit raised a 1140.0%.\n"
     ]
    }
   ],
   "source": [
    "# Population of iberian lynxs in 2010 and 2020\n",
    "pop_2010 = 241\n",
    "pop_2020 = 1111\n",
    "\n",
    "# Number of iberian lynxs dead by car hit in 2010 and 2020\n",
    "deads_2010 = 5\n",
    "deads_2020 = 57\n",
    "\n",
    "# Give a nicely formatted (but sad) text message\n",
    "print(f'From 2010 to 2020, the population of Iberian lynxs raised a {pop_2020/pop_2010:.1%}.')\n",
    "print(f'However, the yearly number of specimens dead by car hit raised a {deads_2020/deads_2010:.1%}.')"
   ]
  },
  {
   "cell_type": "markdown",
   "metadata": {},
   "source": [
    "## Python arithmetic operators"
   ]
  },
  {
   "cell_type": "markdown",
   "metadata": {},
   "source": [
    "The seven arithmetic operators available in Python are: \n",
    "+ Addition: `+`\n",
    "+ Subtraction: `-`\n",
    "+ Multiplication: `*`\n",
    "+ Division: `/`\n",
    "+ Exponentiation: `**`\n",
    "+ Floor division: `//` (Returns the result of dividing the left hand operand by right hand operand rounded down to the nearest whole number).\n",
    "+ Modulus: `%` (Returns the remainder of dividing the left hand operand by right hand operand)."
   ]
  },
  {
   "cell_type": "code",
   "execution_count": 24,
   "metadata": {},
   "outputs": [
    {
     "data": {
      "text/plain": [
       "bool"
      ]
     },
     "execution_count": 24,
     "metadata": {},
     "output_type": "execute_result"
    }
   ],
   "source": [
    "type(False)"
   ]
  },
  {
   "cell_type": "code",
   "execution_count": null,
   "metadata": {},
   "outputs": [],
   "source": []
  },
  {
   "cell_type": "code",
   "execution_count": null,
   "metadata": {},
   "outputs": [],
   "source": []
  },
  {
   "cell_type": "markdown",
   "metadata": {
    "id": "68CDafQY8T88"
   },
   "source": [
    "Import a library"
   ]
  },
  {
   "cell_type": "code",
   "execution_count": null,
   "metadata": {
    "id": "sHfVG8uZ8T88"
   },
   "outputs": [],
   "source": [
    "import numpy"
   ]
  },
  {
   "cell_type": "markdown",
   "metadata": {
    "id": "Zg32QzOg8T89"
   },
   "source": [
    "## Define Variables"
   ]
  },
  {
   "cell_type": "code",
   "execution_count": null,
   "metadata": {
    "id": "iiaapTL28T89"
   },
   "outputs": [],
   "source": [
    "a_integer = 5"
   ]
  },
  {
   "cell_type": "code",
   "execution_count": null,
   "metadata": {
    "id": "-gRN8zXK8T8-"
   },
   "outputs": [],
   "source": [
    "a_float = 1.41421356237"
   ]
  },
  {
   "cell_type": "code",
   "execution_count": null,
   "metadata": {
    "id": "3f7XT-7C8T8-",
    "outputId": "353de338-9ab8-4c16-e618-a21115cf114f"
   },
   "outputs": [],
   "source": [
    "a_integer + a_float"
   ]
  },
  {
   "cell_type": "code",
   "execution_count": null,
   "metadata": {
    "id": "qi4xgdvV8T8_"
   },
   "outputs": [],
   "source": [
    "a_integer = a_integer + a_integer"
   ]
  },
  {
   "cell_type": "code",
   "execution_count": null,
   "metadata": {
    "id": "y5bUIy2r8T8_",
    "outputId": "05d130ef-d78b-474c-e905-a68ff846def9"
   },
   "outputs": [],
   "source": [
    "a_integer"
   ]
  },
  {
   "cell_type": "code",
   "execution_count": null,
   "metadata": {
    "id": "dscmzL0e8T8_"
   },
   "outputs": [],
   "source": [
    "a_number = a_integer + a_float"
   ]
  },
  {
   "cell_type": "code",
   "execution_count": null,
   "metadata": {
    "id": "94hXqXHW8T9B",
    "outputId": "9a9e3b1a-33d5-4746-c268-9430d6ae7905"
   },
   "outputs": [],
   "source": [
    "print(a_number)"
   ]
  },
  {
   "cell_type": "code",
   "execution_count": null,
   "metadata": {
    "id": "KKked7FS8T9B"
   },
   "outputs": [],
   "source": [
    "a_string = 'How you doing, world?'"
   ]
  },
  {
   "cell_type": "code",
   "execution_count": null,
   "metadata": {
    "id": "ungNXcis8T9B",
    "outputId": "d67d5a88-8459-4b99-8564-a72d81dcb04d"
   },
   "outputs": [],
   "source": [
    "print(a_string)"
   ]
  },
  {
   "cell_type": "code",
   "execution_count": null,
   "metadata": {
    "id": "LDNEpHG58T9B",
    "outputId": "03873a5b-b864-42d8-9a85-b3f5f8718cc4"
   },
   "outputs": [],
   "source": [
    "a_integer + a_string"
   ]
  },
  {
   "cell_type": "code",
   "execution_count": null,
   "metadata": {
    "id": "ymb21a1u8T9B",
    "outputId": "87fc195f-939c-4cf3-e146-b48b5520fc5a"
   },
   "outputs": [],
   "source": [
    "print(a_integer, a_string)"
   ]
  },
  {
   "cell_type": "markdown",
   "metadata": {
    "id": "1jTMzX3W8T9B"
   },
   "source": [
    "We can convert numbers to strings using `string`"
   ]
  },
  {
   "cell_type": "code",
   "execution_count": null,
   "metadata": {
    "id": "nzzTAJJy8T9C",
    "outputId": "b56289c3-4e1a-49b2-fd70-fd552b258236"
   },
   "outputs": [],
   "source": [
    "str(a_integer) + a_string"
   ]
  },
  {
   "cell_type": "markdown",
   "metadata": {
    "id": "eOxexVUq8T9C"
   },
   "source": [
    "`print` function allows us to print variables using different formats"
   ]
  },
  {
   "cell_type": "code",
   "execution_count": null,
   "metadata": {
    "id": "385M4dKi8T9I",
    "outputId": "940b99b0-da89-4534-b34e-ac56124270dc"
   },
   "outputs": [],
   "source": [
    "print(\"My integer {}\".format(a_integer))"
   ]
  },
  {
   "cell_type": "code",
   "execution_count": null,
   "metadata": {
    "id": "z-DbYq2I8T9I",
    "outputId": "c1392874-1e46-42a1-e940-32619ac34f90"
   },
   "outputs": [],
   "source": [
    "print(\"My integer {:03d}\".format(a_integer))"
   ]
  },
  {
   "cell_type": "code",
   "execution_count": null,
   "metadata": {
    "id": "_VbItjm48T9J",
    "outputId": "60024cad-62f7-4406-a29d-2f304bf7b37d"
   },
   "outputs": [],
   "source": [
    "print(\"My float {:.6f}\".format(a_float))"
   ]
  },
  {
   "cell_type": "code",
   "execution_count": null,
   "metadata": {
    "id": "kBeTcVfE8T9J",
    "outputId": "899fd3e6-8936-400f-ced1-b281281260f0"
   },
   "outputs": [],
   "source": [
    "print(\"My float is {} and my integer is {}\".format(a_float, a_integer))"
   ]
  },
  {
   "cell_type": "code",
   "execution_count": null,
   "metadata": {
    "id": "C79wh_kJ8T9J",
    "outputId": "9198ef8f-7f14-4f49-f90b-aaf9d4e1c779"
   },
   "outputs": [],
   "source": [
    "a_float"
   ]
  },
  {
   "cell_type": "markdown",
   "metadata": {
    "id": "VdkhwKH18T9K"
   },
   "source": [
    "We can redefine variables"
   ]
  },
  {
   "cell_type": "code",
   "execution_count": null,
   "metadata": {
    "id": "OAtJe5pU8T9K"
   },
   "outputs": [],
   "source": [
    "a_float = 3.1417"
   ]
  },
  {
   "cell_type": "code",
   "execution_count": null,
   "metadata": {
    "id": "uYubWWvZ8T9K",
    "outputId": "5b9ed838-e5c3-466c-9971-9d598ea52086"
   },
   "outputs": [],
   "source": [
    "print(a_float)"
   ]
  },
  {
   "cell_type": "markdown",
   "metadata": {
    "id": "ixHev7XH8T9L"
   },
   "source": [
    "If we did not declare a variable, Python will complain"
   ]
  },
  {
   "cell_type": "code",
   "execution_count": null,
   "metadata": {
    "id": "l70lXqzB8T9L",
    "outputId": "52ffd89e-cb30-4ef9-82a4-551fb240fb8b"
   },
   "outputs": [],
   "source": [
    "who"
   ]
  },
  {
   "cell_type": "markdown",
   "metadata": {
    "id": "X5XLcFSi8T9L"
   },
   "source": [
    "<div class=\"alert alert-block alert-info\"><b>Jupyer Tip: </b> in a same cell we can write code using several lines. If the last one gives a result, then this one is printed</div>"
   ]
  },
  {
   "cell_type": "markdown",
   "metadata": {
    "id": "YbqYmOhd8T9M"
   },
   "source": [
    "a = 2\n",
    "b = 3\n",
    "a,b "
   ]
  },
  {
   "cell_type": "markdown",
   "metadata": {
    "id": "krar5Xhi8T9M"
   },
   "source": [
    "We can concatenate multiple definitions"
   ]
  },
  {
   "cell_type": "code",
   "execution_count": null,
   "metadata": {
    "id": "c9zYjhMh8T9M",
    "outputId": "b42343e6-c2ae-4d71-c519-8419d570c931"
   },
   "outputs": [],
   "source": [
    "x, y = 1, 2\n",
    "x, y"
   ]
  },
  {
   "cell_type": "markdown",
   "metadata": {
    "id": "P--7ji7n8T9M"
   },
   "source": [
    "This is useful to swap values between variables without using additional variables"
   ]
  },
  {
   "cell_type": "code",
   "execution_count": null,
   "metadata": {
    "id": "DZkS7ptx8T9N",
    "outputId": "3cc59ecd-29a8-42a8-d594-f702b1cb7016"
   },
   "outputs": [],
   "source": [
    "x, y = y, x\n",
    "x, y"
   ]
  },
  {
   "cell_type": "code",
   "execution_count": null,
   "metadata": {
    "id": "kQ9wqxXq8T9N",
    "outputId": "ae828367-daa4-46c5-f5fe-adfdfe30b500"
   },
   "outputs": [],
   "source": [
    "a = 1\n",
    "b = 2\n",
    "c = a\n",
    "a = b\n",
    "b = c\n",
    "a, b"
   ]
  },
  {
   "cell_type": "code",
   "execution_count": null,
   "metadata": {
    "id": "1_3ddDfC8T9O"
   },
   "outputs": [],
   "source": [
    "# A comment"
   ]
  },
  {
   "cell_type": "code",
   "execution_count": null,
   "metadata": {
    "id": "IkFAjcNF8T9O",
    "outputId": "2b6b3b6e-0920-4118-e475-8233149481a0"
   },
   "outputs": [],
   "source": [
    "\"\"\"This is a multi-\n",
    "line comment\"\"\""
   ]
  },
  {
   "cell_type": "markdown",
   "metadata": {
    "id": "HNcbwQOt8T9O"
   },
   "source": [
    "Comments are handy to *temporarily* turn some lines on or off and to document Python files. In Jupyter notebooks using markdown cells gives more control."
   ]
  },
  {
   "cell_type": "markdown",
   "metadata": {
    "id": "KlQpkkyD8T9P"
   },
   "source": [
    "**Exercise**: being a=2, b=1 two different values, swap their values without using the tip and without using any extra temporal variable"
   ]
  },
  {
   "cell_type": "code",
   "execution_count": null,
   "metadata": {
    "id": "6-jD1Bls8T9P",
    "outputId": "caf9e2e6-2dbd-41bb-80ac-74b8234f093d"
   },
   "outputs": [],
   "source": [
    "a = 10\n",
    "b = 20\n",
    "a = a+b\n",
    "b = a-b\n",
    "a = a-b\n",
    "a, b"
   ]
  },
  {
   "cell_type": "markdown",
   "metadata": {
    "id": "YUjViqu48T9R"
   },
   "source": [
    "## Mathematical Operations\n",
    "\n",
    "The common mathematical operators are `/`, `//`, `*`, `**`, `+`, `-`"
   ]
  },
  {
   "cell_type": "code",
   "execution_count": null,
   "metadata": {
    "id": "J0UA1zCl8T9R",
    "outputId": "03ce567c-c14d-40a4-f7f9-6710f1503630"
   },
   "outputs": [],
   "source": [
    "9/3"
   ]
  },
  {
   "cell_type": "code",
   "execution_count": null,
   "metadata": {
    "id": "TMdBLVju8T9S",
    "outputId": "d7aeb502-89be-45ff-9e1d-6623c1079802"
   },
   "outputs": [],
   "source": [
    "1/0"
   ]
  },
  {
   "cell_type": "code",
   "execution_count": null,
   "metadata": {
    "id": "lleHq89O8T9U",
    "outputId": "ad9214d0-366b-448d-ae05-9cbe34fddc08"
   },
   "outputs": [],
   "source": [
    "1.0 / 0.0 "
   ]
  },
  {
   "cell_type": "code",
   "execution_count": 22,
   "metadata": {
    "id": "0Zm4-SOB8T9U",
    "outputId": "d2b089cf-ad32-45a2-dabf-d527d7ef56e1"
   },
   "outputs": [
    {
     "data": {
      "text/plain": [
       "0"
      ]
     },
     "execution_count": 22,
     "metadata": {},
     "output_type": "execute_result"
    }
   ],
   "source": [
    "9%3"
   ]
  },
  {
   "cell_type": "code",
   "execution_count": null,
   "metadata": {
    "id": "gjlY1YZP8T9U",
    "outputId": "b64cfeac-fc75-4427-d5ff-9e6532a1e7db"
   },
   "outputs": [],
   "source": [
    "9/4.0"
   ]
  },
  {
   "cell_type": "code",
   "execution_count": null,
   "metadata": {
    "id": "O0e1tO5N8T9V",
    "outputId": "6f02eb42-f75f-45ba-a210-2fbea7cec70b"
   },
   "outputs": [],
   "source": [
    "9//4"
   ]
  },
  {
   "cell_type": "code",
   "execution_count": 23,
   "metadata": {
    "id": "f09AIQ578T9V",
    "outputId": "03f02813-7b48-4296-d510-4262b74bd058"
   },
   "outputs": [
    {
     "data": {
      "text/plain": [
       "1"
      ]
     },
     "execution_count": 23,
     "metadata": {},
     "output_type": "execute_result"
    }
   ],
   "source": [
    "9%4 # 9 - 2*4"
   ]
  },
  {
   "cell_type": "code",
   "execution_count": null,
   "metadata": {
    "id": "rw4ut9Nc8T9V",
    "outputId": "f6231086-8a89-41f3-b945-77008cdfa6fd"
   },
   "outputs": [],
   "source": [
    "3*5"
   ]
  },
  {
   "cell_type": "code",
   "execution_count": null,
   "metadata": {
    "id": "WuLWp7xy8T9W",
    "outputId": "520e4687-cca1-4eaf-c5f0-1dd9fc66dce9"
   },
   "outputs": [],
   "source": [
    "2**6"
   ]
  },
  {
   "cell_type": "code",
   "execution_count": null,
   "metadata": {
    "id": "VGLzbXx58T9W",
    "outputId": "2054be09-6bd2-45f7-db89-581578b002fe"
   },
   "outputs": [],
   "source": [
    "64**0.5"
   ]
  },
  {
   "cell_type": "markdown",
   "metadata": {
    "id": "GmYQGViw8T9W"
   },
   "source": [
    "**Exercise:** given two natural numbers `a` and `b` with `b>0`, print the integer division `d` and the reminder `r` of `a` divided by `b`.\n",
    "\n",
    "$$d \\cdot b + r = a$$"
   ]
  },
  {
   "cell_type": "code",
   "execution_count": null,
   "metadata": {
    "id": "ZqPK5E1s8T9W",
    "outputId": "ddc22a38-e41e-46b9-a034-ab7b18d687ea"
   },
   "outputs": [],
   "source": [
    "a = 32\n",
    "b = 6\n",
    "d = a // b\n",
    "r = a % b\n",
    "print(d, r)\n"
   ]
  },
  {
   "cell_type": "markdown",
   "metadata": {
    "id": "tQxOdIRC8T9X"
   },
   "source": [
    "## Logical Operations\n",
    "\n",
    "The comparison operators are `==`, `!=`,`<`,`<=`, `>`, `>=`. They return boolean variables"
   ]
  },
  {
   "cell_type": "code",
   "execution_count": null,
   "metadata": {
    "id": "NadPcz5_8T9X"
   },
   "outputs": [],
   "source": [
    "a = True\n",
    "b = False"
   ]
  },
  {
   "cell_type": "code",
   "execution_count": null,
   "metadata": {
    "id": "GfYVzWw38T9X",
    "outputId": "6d3061da-cdb3-4068-ded3-d0a96cb7b316"
   },
   "outputs": [],
   "source": [
    "2 == 2.0"
   ]
  },
  {
   "cell_type": "code",
   "execution_count": null,
   "metadata": {
    "id": "wyihghgC8T9Y",
    "outputId": "2ff07ca5-6190-4479-91a1-efa7e4c131c7"
   },
   "outputs": [],
   "source": [
    "2 != 2.001"
   ]
  },
  {
   "cell_type": "code",
   "execution_count": null,
   "metadata": {
    "id": "RQNFuqMU8T9Y",
    "outputId": "24ad300f-3b8a-406a-82a0-10d42756f8ef"
   },
   "outputs": [],
   "source": [
    "x, y = 1, 2\n",
    "x, y"
   ]
  },
  {
   "cell_type": "code",
   "execution_count": null,
   "metadata": {
    "id": "rm4QpBrO8T9Y",
    "outputId": "7fe12072-11a6-4d19-dfac-67863a2fd80f"
   },
   "outputs": [],
   "source": [
    "print(x < y)\n",
    "print(x <= y)\n",
    "print(x > y)\n",
    "print(x >= y)\n",
    "print(x < y and x > y)\n",
    "print(x < y & x > y)"
   ]
  },
  {
   "cell_type": "code",
   "execution_count": null,
   "metadata": {
    "id": "aQIQL7aS8T9Y",
    "outputId": "f72725df-48b6-4561-de6d-fa8557fbe27a"
   },
   "outputs": [],
   "source": [
    "x, y = 1, 2\n",
    "a, b = 5, 6\n",
    "print(x < y and a > b)\n",
    "print(x < y & x > y)\n",
    "print(x < y or a > b)\n",
    "print(x < y | x > y)"
   ]
  },
  {
   "cell_type": "code",
   "execution_count": null,
   "metadata": {
    "id": "QXSeDtar8T9Z"
   },
   "outputs": [],
   "source": [
    "if 6 > 4:\n",
    "    print('Six is greater than four!')"
   ]
  },
  {
   "cell_type": "markdown",
   "metadata": {
    "id": "CqJ-b9gc8T9Z"
   },
   "source": [
    "<div class=\"alert alert-block alert-danger\"><b>Important!</b> in Python blocks are delimited by indentation, always using four spaces. When we put the colon at the end of the first line of the conditional, anything that follows with one higher indentation level is considered within the conditional. As soon as we write the first line with a lower indentation level, we have closed the conditional. If we do not follow this to the letter Python will give us errors; it is a way to force the code to be readable.\n",
    "\n",
    "</div>"
   ]
  },
  {
   "cell_type": "code",
   "execution_count": null,
   "metadata": {
    "id": "PaSSVKU38T9Z",
    "outputId": "78444006-b417-4a6a-967f-0ad06e36b9fc"
   },
   "outputs": [],
   "source": [
    "if 6 < 4:\n",
    "    print(\"Six is less than four\")\n",
    "print(\"6 still being less than 0\")  # <-- ¡Wrong!"
   ]
  },
  {
   "cell_type": "code",
   "execution_count": null,
   "metadata": {
    "id": "BA1oy5_68T9Z",
    "outputId": "9f2a1256-6f4c-4038-c82f-e513b2257bf4"
   },
   "outputs": [],
   "source": [
    "if 6 < 4:\n",
    "    print(\"Six is less than four\")\n",
    "      print(\"6 still being less than 0\")  # <-- ¡Wrong!"
   ]
  },
  {
   "cell_type": "code",
   "execution_count": null,
   "metadata": {
    "id": "-RFr0E4B8T9Z"
   },
   "outputs": [],
   "source": [
    "if 6 > 10:\n",
    "    print('Six is greater than ten!')\n",
    "else:\n",
    "    print('Six is not greater than ten!')"
   ]
  },
  {
   "cell_type": "code",
   "execution_count": null,
   "metadata": {
    "id": "iToEev398T9Z"
   },
   "outputs": [],
   "source": [
    "a = 20\n",
    "if a%2 == 0:\n",
    "    print('This number is even!')   \n",
    "elif a%3 == 0:\n",
    "    print('This number is divisable by three!')   \n",
    "elif a%5 == 0:\n",
    "    print('This number is divisable by five!')\n",
    "else:\n",
    "    print(str(a) + ' is not divisable by 2, 3 or 5!')"
   ]
  },
  {
   "cell_type": "code",
   "execution_count": null,
   "metadata": {
    "id": "N3lvkrbR8T9a"
   },
   "outputs": [],
   "source": [
    "b = 0\n",
    "while b < 5:\n",
    "    print(b) \n",
    "    b = b + 1"
   ]
  },
  {
   "cell_type": "code",
   "execution_count": null,
   "metadata": {
    "id": "30ak26Xn8T9a"
   },
   "outputs": [],
   "source": [
    "b"
   ]
  },
  {
   "cell_type": "code",
   "execution_count": null,
   "metadata": {
    "id": "8n7FMfwB8T9a"
   },
   "outputs": [],
   "source": [
    "while True:\n",
    "    pass"
   ]
  },
  {
   "cell_type": "code",
   "execution_count": null,
   "metadata": {
    "id": "6gEA4Q7g8T9a"
   },
   "outputs": [],
   "source": [
    "a = 25\n",
    "b = 1\n",
    "c = 2\n",
    "while b != 0:\n",
    "    b = a%c\n",
    "    if b == 0:\n",
    "        print(str(a) + ' is divisable by ' + str(c))\n",
    "    else:\n",
    "        c += 1"
   ]
  },
  {
   "cell_type": "markdown",
   "metadata": {
    "id": "FfGzbf2t8T9b"
   },
   "source": [
    "**Exercise**: Can you refactor this code so that you can test if a number is prime (so only it and 1 divides it)"
   ]
  },
  {
   "cell_type": "code",
   "execution_count": null,
   "metadata": {
    "id": "wERfzcix8T9b"
   },
   "outputs": [],
   "source": [
    "a = 28\n",
    "b = 1\n",
    "c = 2\n",
    "while b != 0:\n",
    "    b = a%c\n",
    "    if a == c:\n",
    "        print(str(a) + ' is a prime number.')\n",
    "    elif b == 0:\n",
    "        print(str(a) + ' is divisable by ' + str(c))\n",
    "    else:\n",
    "        c += 1"
   ]
  },
  {
   "cell_type": "markdown",
   "metadata": {
    "id": "eQURy9Qp8T9b"
   },
   "source": [
    "**Exercise**: write a program that, given two intervals, computes the interval correspondign to their intersection, or tells that it is empty.\n",
    "\n",
    "*Input*: four integer numbers $a_1$, $b_1$, $a_2$, $b_2$ that represent intervals $[a_1, b_1]$ and $[a_2, b_2]$. Assume $a_1 \\leq b_1$, $a_2 \\leq b_2$.\n",
    "\n",
    "*Output*: Print `[]` if their intersection is empty or $[x,y]$ if this is their non-empy intersection."
   ]
  },
  {
   "cell_type": "code",
   "execution_count": null,
   "metadata": {
    "id": "mo1ZkkGx8T9c",
    "outputId": "53a3a704-8d97-45f6-e85c-0bf4f49ba367"
   },
   "outputs": [],
   "source": [
    "a_1, b_1 = 30, 40\n",
    "a_2, b_2 = 10, 20\n",
    "x = ''\n",
    "y = ''\n",
    "if a_1 <= a_2 and a_2 <= b_1:\n",
    "    x = a_2\n",
    "    if b_1 <= b_2:\n",
    "        y = b_1\n",
    "    else:\n",
    "        y = b_2\n",
    "    print(x,y)\n",
    "elif a_1 >= a_2 and a_1 <= b_2:\n",
    "    x = a_1\n",
    "    if b_1 <= b_2:\n",
    "        y = b_1\n",
    "    else:\n",
    "        y = b_2\n",
    "    print(x,y)\n",
    "else:\n",
    "    print(\"[]\")"
   ]
  }
 ],
 "metadata": {
  "colab": {
   "include_colab_link": true,
   "name": "01_Introduction.ipynb",
   "provenance": []
  },
  "kernelspec": {
   "display_name": "Python 3 (ipykernel)",
   "language": "python",
   "name": "python3"
  },
  "language_info": {
   "codemirror_mode": {
    "name": "ipython",
    "version": 3
   },
   "file_extension": ".py",
   "mimetype": "text/x-python",
   "name": "python",
   "nbconvert_exporter": "python",
   "pygments_lexer": "ipython3",
   "version": "3.8.8"
  }
 },
 "nbformat": 4,
 "nbformat_minor": 4
}
