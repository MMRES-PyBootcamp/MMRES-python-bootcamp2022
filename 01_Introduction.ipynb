{
 "cells": [
  {
   "cell_type": "markdown",
   "metadata": {
    "colab_type": "text",
    "id": "view-in-github"
   },
   "source": [
    "<a href=\"https://colab.research.google.com/github/MMRES-PyBootcamp/MMRES-python-bootcamp2022/blob/main/01_Introduction.ipynb\" target=\"_parent\"><img src=\"https://colab.research.google.com/assets/colab-badge.svg\" alt=\"Open In Colab\"/></a>"
   ]
  },
  {
   "cell_type": "markdown",
   "metadata": {
    "id": "1Fk29gAa8T8x"
   },
   "source": [
    "# Chapter 1 - Introduction to Notebooks and Python\n",
    "> A series of commands to introduce beginners to working with Python in Jupyter Notebooks."
   ]
  },
  {
   "cell_type": "markdown",
   "metadata": {
    "id": "2tTMHeWl8T8z"
   },
   "source": [
    "## What is Python?\n",
    "\n",
    "- It is programming language that is dynamic, interpreted and easy to learn.\n",
    "- Created by Guido van Rossum in 1991.\n",
    "- Widely used in science and engineering.\n",
    "- Lots of libraries."
   ]
  },
  {
   "cell_type": "markdown",
   "metadata": {
    "id": "IPC3ml3A8T80"
   },
   "source": [
    "## Jupyter notebooks\n",
    "\n",
    "Are extremely powerful. The notebook is made out of cells which generally contain either code or markdown. In the notebooks we can combine code and figures with markdown explanations, as we will see throughout the course, thus making them pretty handy. In fact, this whole bootcamp is made out of notebooks.   \n",
    "\n",
    "The first thing to know when working with notebooks is that there are two modes: command and edit. We enter command mode with `esc` and edit mode with `Enter`. When we open a notebook, we start in command mode.\n",
    "\n",
    "In **edit mode** we can edit the source content of the cells. We can also enter edit mode by double-clicking on any cell.\n",
    "\n",
    "In **command mode** we hover over the notebook cells and we can take actions regarding the notebook structure:\n",
    "- Move from cell to cell with the up/down keys.\n",
    "- Add a cell above/below the current one with `a`/`b`\n",
    "- Copy, cut and paste cell with `c`, `x` and `v`.\n",
    "- Change cell type to code `y` or markdown `m`.\n",
    "- Delete with `d-d` and undo with `z`.\n",
    "\n",
    "Regardless of the mode, we can always run the cell with `Ctrl-Enter`, run and select the cell below with `Shift-Enter` and run and create a cell below with `Alt-Enter`.\n",
    "\n",
    "Select this cell and try hitting `Enter` to see the source of this text. In edit mode we can write and format the text. Changing to command mode with `esc` will prevent us from editing but, now, the markdown source is visible. In order to see the text as it was before we need to execute this cell: try with `Ctrl-Enter`.\n",
    "\n",
    "Each cell is named by the word `In [<n>]` and they are numbered. When we run the cell using any of the mentioned shortcuts or by clicking above on Cell -> Run, the result of the cell is showed in the field `Out [<n>]` also numbered with the same number we have before. "
   ]
  },
  {
   "cell_type": "markdown",
   "metadata": {
    "id": "wj3eBB6F8T82"
   },
   "source": [
    "**Exercise**: Experiment with the Jupyter shortcuts. For instance, in command mode, create a cell below this one, switch to edit mode and type something. Then, execute it with `Shift-Enter`. Uh-oh, it's a code cell! Change the cell to markdown and it'll be fine."
   ]
  },
  {
   "cell_type": "markdown",
   "metadata": {
    "id": "VBcnyjfB8T82"
   },
   "source": [
    "## Does it work?"
   ]
  },
  {
   "cell_type": "markdown",
   "metadata": {
    "id": "1iwsZUmH8T83"
   },
   "source": [
    "Make mathematical operations"
   ]
  },
  {
   "cell_type": "code",
   "execution_count": 2,
   "metadata": {
    "id": "ZtsGWJ8l8T83",
    "outputId": "a4cbe23c-b6ff-40e3-9b00-4dd667ae5ab0"
   },
   "outputs": [
    {
     "data": {
      "text/plain": [
       "4"
      ]
     },
     "execution_count": 2,
     "metadata": {},
     "output_type": "execute_result"
    }
   ],
   "source": [
    "2 + 2"
   ]
  },
  {
   "cell_type": "code",
   "execution_count": 3,
   "metadata": {
    "id": "uBEjcbLX8T85",
    "outputId": "0f3607a4-a237-4e61-bae8-b4b7fbf611aa"
   },
   "outputs": [
    {
     "data": {
      "text/plain": [
       "4"
      ]
     },
     "execution_count": 3,
     "metadata": {},
     "output_type": "execute_result"
    }
   ],
   "source": [
    "_"
   ]
  },
  {
   "cell_type": "code",
   "execution_count": 10,
   "metadata": {
    "id": "t40BPIJj8T85",
    "outputId": "3a265f1f-f67e-4eff-9ab4-d2f94d30d0a2"
   },
   "outputs": [
    {
     "data": {
      "text/plain": [
       "4"
      ]
     },
     "execution_count": 10,
     "metadata": {},
     "output_type": "execute_result"
    }
   ],
   "source": [
    "_3"
   ]
  },
  {
   "cell_type": "markdown",
   "metadata": {
    "id": "R-5JcYJh8T86"
   },
   "source": [
    "Print messages"
   ]
  },
  {
   "cell_type": "code",
   "execution_count": null,
   "metadata": {
    "id": "OSUIb0wC8T87"
   },
   "outputs": [],
   "source": [
    "print('Hello, world!')"
   ]
  },
  {
   "cell_type": "markdown",
   "metadata": {
    "id": "68CDafQY8T88"
   },
   "source": [
    "Import a library"
   ]
  },
  {
   "cell_type": "code",
   "execution_count": null,
   "metadata": {
    "id": "sHfVG8uZ8T88"
   },
   "outputs": [],
   "source": [
    "import numpy"
   ]
  },
  {
   "cell_type": "markdown",
   "metadata": {
    "id": "Zg32QzOg8T89"
   },
   "source": [
    "## Define Variables"
   ]
  },
  {
   "cell_type": "code",
   "execution_count": null,
   "metadata": {
    "id": "iiaapTL28T89"
   },
   "outputs": [],
   "source": [
    "a_integer = 5"
   ]
  },
  {
   "cell_type": "code",
   "execution_count": null,
   "metadata": {
    "id": "-gRN8zXK8T8-"
   },
   "outputs": [],
   "source": [
    "a_float = 1.41421356237"
   ]
  },
  {
   "cell_type": "code",
   "execution_count": null,
   "metadata": {
    "id": "3f7XT-7C8T8-",
    "outputId": "353de338-9ab8-4c16-e618-a21115cf114f"
   },
   "outputs": [
    {
     "data": {
      "text/plain": [
       "8.1417"
      ]
     },
     "execution_count": 35,
     "metadata": {},
     "output_type": "execute_result"
    }
   ],
   "source": [
    "a_integer + a_float"
   ]
  },
  {
   "cell_type": "code",
   "execution_count": null,
   "metadata": {
    "id": "qi4xgdvV8T8_"
   },
   "outputs": [],
   "source": [
    "a_integer = a_integer + a_integer"
   ]
  },
  {
   "cell_type": "code",
   "execution_count": null,
   "metadata": {
    "id": "y5bUIy2r8T8_",
    "outputId": "05d130ef-d78b-474c-e905-a68ff846def9"
   },
   "outputs": [
    {
     "data": {
      "text/plain": [
       "10"
      ]
     },
     "execution_count": 37,
     "metadata": {},
     "output_type": "execute_result"
    }
   ],
   "source": [
    "a_integer"
   ]
  },
  {
   "cell_type": "code",
   "execution_count": null,
   "metadata": {
    "id": "dscmzL0e8T8_"
   },
   "outputs": [],
   "source": [
    "a_number = a_integer + a_float"
   ]
  },
  {
   "cell_type": "code",
   "execution_count": null,
   "metadata": {
    "id": "94hXqXHW8T9B",
    "outputId": "9a9e3b1a-33d5-4746-c268-9430d6ae7905"
   },
   "outputs": [
    {
     "name": "stdout",
     "output_type": "stream",
     "text": [
      "6.41421356237\n"
     ]
    }
   ],
   "source": [
    "print(a_number)"
   ]
  },
  {
   "cell_type": "code",
   "execution_count": null,
   "metadata": {
    "id": "KKked7FS8T9B"
   },
   "outputs": [],
   "source": [
    "a_string = 'How you doing, world?'"
   ]
  },
  {
   "cell_type": "code",
   "execution_count": null,
   "metadata": {
    "id": "ungNXcis8T9B",
    "outputId": "d67d5a88-8459-4b99-8564-a72d81dcb04d"
   },
   "outputs": [
    {
     "name": "stdout",
     "output_type": "stream",
     "text": [
      "How you doing, world?\n"
     ]
    }
   ],
   "source": [
    "print(a_string)"
   ]
  },
  {
   "cell_type": "code",
   "execution_count": null,
   "metadata": {
    "id": "LDNEpHG58T9B",
    "outputId": "03873a5b-b864-42d8-9a85-b3f5f8718cc4"
   },
   "outputs": [
    {
     "ename": "TypeError",
     "evalue": "unsupported operand type(s) for +: 'int' and 'str'",
     "output_type": "error",
     "traceback": [
      "\u001b[0;31m---------------------------------------------------------------------------\u001b[0m",
      "\u001b[0;31mTypeError\u001b[0m                                 Traceback (most recent call last)",
      "\u001b[0;32m<ipython-input-12-bd0cee6f46e6>\u001b[0m in \u001b[0;36m<module>\u001b[0;34m\u001b[0m\n\u001b[0;32m----> 1\u001b[0;31m \u001b[0ma_integer\u001b[0m \u001b[0;34m+\u001b[0m \u001b[0ma_string\u001b[0m\u001b[0;34m\u001b[0m\u001b[0;34m\u001b[0m\u001b[0m\n\u001b[0m",
      "\u001b[0;31mTypeError\u001b[0m: unsupported operand type(s) for +: 'int' and 'str'"
     ]
    }
   ],
   "source": [
    "a_integer + a_string"
   ]
  },
  {
   "cell_type": "code",
   "execution_count": null,
   "metadata": {
    "id": "ymb21a1u8T9B",
    "outputId": "87fc195f-939c-4cf3-e146-b48b5520fc5a"
   },
   "outputs": [
    {
     "name": "stdout",
     "output_type": "stream",
     "text": [
      "5 How you doing, world?\n"
     ]
    }
   ],
   "source": [
    "print(a_integer, a_string)"
   ]
  },
  {
   "cell_type": "markdown",
   "metadata": {
    "id": "1jTMzX3W8T9B"
   },
   "source": [
    "We can convert numbers to strings using `string`"
   ]
  },
  {
   "cell_type": "code",
   "execution_count": null,
   "metadata": {
    "id": "nzzTAJJy8T9C",
    "outputId": "b56289c3-4e1a-49b2-fd70-fd552b258236"
   },
   "outputs": [
    {
     "data": {
      "text/plain": [
       "'5How you doing, world?'"
      ]
     },
     "execution_count": 14,
     "metadata": {},
     "output_type": "execute_result"
    }
   ],
   "source": [
    "str(a_integer) + a_string"
   ]
  },
  {
   "cell_type": "markdown",
   "metadata": {
    "id": "eOxexVUq8T9C"
   },
   "source": [
    "`print` function allows us to print variables using different formats"
   ]
  },
  {
   "cell_type": "code",
   "execution_count": null,
   "metadata": {
    "id": "385M4dKi8T9I",
    "outputId": "940b99b0-da89-4534-b34e-ac56124270dc"
   },
   "outputs": [
    {
     "name": "stdout",
     "output_type": "stream",
     "text": [
      "My integer 5\n"
     ]
    }
   ],
   "source": [
    "print(\"My integer {}\".format(a_integer))"
   ]
  },
  {
   "cell_type": "code",
   "execution_count": null,
   "metadata": {
    "id": "z-DbYq2I8T9I",
    "outputId": "c1392874-1e46-42a1-e940-32619ac34f90"
   },
   "outputs": [
    {
     "name": "stdout",
     "output_type": "stream",
     "text": [
      "My integer 010\n"
     ]
    }
   ],
   "source": [
    "print(\"My integer {:03d}\".format(a_integer))"
   ]
  },
  {
   "cell_type": "code",
   "execution_count": null,
   "metadata": {
    "id": "_VbItjm48T9J",
    "outputId": "60024cad-62f7-4406-a29d-2f304bf7b37d"
   },
   "outputs": [
    {
     "name": "stdout",
     "output_type": "stream",
     "text": [
      "My float 3.141700\n"
     ]
    }
   ],
   "source": [
    "print(\"My float {:.6f}\".format(a_float))"
   ]
  },
  {
   "cell_type": "code",
   "execution_count": null,
   "metadata": {
    "id": "kBeTcVfE8T9J",
    "outputId": "899fd3e6-8936-400f-ced1-b281281260f0"
   },
   "outputs": [
    {
     "name": "stdout",
     "output_type": "stream",
     "text": [
      "My float is 3.1417 and my integer is 10\n"
     ]
    }
   ],
   "source": [
    "print(\"My float is {} and my integer is {}\".format(a_float, a_integer))"
   ]
  },
  {
   "cell_type": "code",
   "execution_count": null,
   "metadata": {
    "id": "C79wh_kJ8T9J",
    "outputId": "9198ef8f-7f14-4f49-f90b-aaf9d4e1c779"
   },
   "outputs": [
    {
     "data": {
      "text/plain": [
       "1.41421356237"
      ]
     },
     "execution_count": 16,
     "metadata": {},
     "output_type": "execute_result"
    }
   ],
   "source": [
    "a_float"
   ]
  },
  {
   "cell_type": "markdown",
   "metadata": {
    "id": "VdkhwKH18T9K"
   },
   "source": [
    "We can redefine variables"
   ]
  },
  {
   "cell_type": "code",
   "execution_count": null,
   "metadata": {
    "id": "OAtJe5pU8T9K"
   },
   "outputs": [],
   "source": [
    "a_float = 3.1417"
   ]
  },
  {
   "cell_type": "code",
   "execution_count": null,
   "metadata": {
    "id": "uYubWWvZ8T9K",
    "outputId": "5b9ed838-e5c3-466c-9971-9d598ea52086"
   },
   "outputs": [
    {
     "name": "stdout",
     "output_type": "stream",
     "text": [
      "3.1417\n"
     ]
    }
   ],
   "source": [
    "print(a_float)"
   ]
  },
  {
   "cell_type": "markdown",
   "metadata": {
    "id": "ixHev7XH8T9L"
   },
   "source": [
    "If we did not declare a variable, Python will complain"
   ]
  },
  {
   "cell_type": "code",
   "execution_count": null,
   "metadata": {
    "id": "l70lXqzB8T9L",
    "outputId": "52ffd89e-cb30-4ef9-82a4-551fb240fb8b"
   },
   "outputs": [
    {
     "name": "stdout",
     "output_type": "stream",
     "text": [
      "Interactive namespace is empty.\n"
     ]
    }
   ],
   "source": [
    "who"
   ]
  },
  {
   "cell_type": "markdown",
   "metadata": {
    "id": "X5XLcFSi8T9L"
   },
   "source": [
    "<div class=\"alert alert-block alert-info\"><b>Jupyer Tip: </b> in a same cell we can write code using several lines. If the last one gives a result, then this one is printed</div>"
   ]
  },
  {
   "cell_type": "markdown",
   "metadata": {
    "id": "YbqYmOhd8T9M"
   },
   "source": [
    "a = 2\n",
    "b = 3\n",
    "a,b "
   ]
  },
  {
   "cell_type": "markdown",
   "metadata": {
    "id": "krar5Xhi8T9M"
   },
   "source": [
    "We can concatenate multiple definitions"
   ]
  },
  {
   "cell_type": "code",
   "execution_count": null,
   "metadata": {
    "id": "c9zYjhMh8T9M",
    "outputId": "b42343e6-c2ae-4d71-c519-8419d570c931"
   },
   "outputs": [
    {
     "data": {
      "text/plain": [
       "(1, 2)"
      ]
     },
     "execution_count": 32,
     "metadata": {},
     "output_type": "execute_result"
    }
   ],
   "source": [
    "x, y = 1, 2\n",
    "x, y"
   ]
  },
  {
   "cell_type": "markdown",
   "metadata": {
    "id": "P--7ji7n8T9M"
   },
   "source": [
    "This is useful to swap values between variables without using additional variables"
   ]
  },
  {
   "cell_type": "code",
   "execution_count": null,
   "metadata": {
    "id": "DZkS7ptx8T9N",
    "outputId": "3cc59ecd-29a8-42a8-d594-f702b1cb7016"
   },
   "outputs": [
    {
     "data": {
      "text/plain": [
       "(2, 1)"
      ]
     },
     "execution_count": 33,
     "metadata": {},
     "output_type": "execute_result"
    }
   ],
   "source": [
    "x, y = y, x\n",
    "x, y"
   ]
  },
  {
   "cell_type": "code",
   "execution_count": null,
   "metadata": {
    "id": "kQ9wqxXq8T9N",
    "outputId": "ae828367-daa4-46c5-f5fe-adfdfe30b500"
   },
   "outputs": [
    {
     "data": {
      "text/plain": [
       "(2, 1)"
      ]
     },
     "execution_count": 34,
     "metadata": {},
     "output_type": "execute_result"
    }
   ],
   "source": [
    "a = 1\n",
    "b = 2\n",
    "c = a\n",
    "a = b\n",
    "b = c\n",
    "a, b"
   ]
  },
  {
   "cell_type": "code",
   "execution_count": null,
   "metadata": {
    "id": "1_3ddDfC8T9O"
   },
   "outputs": [],
   "source": [
    "# A comment"
   ]
  },
  {
   "cell_type": "code",
   "execution_count": null,
   "metadata": {
    "id": "IkFAjcNF8T9O",
    "outputId": "2b6b3b6e-0920-4118-e475-8233149481a0"
   },
   "outputs": [
    {
     "data": {
      "text/plain": [
       "'This is a multi-\\nline comment'"
      ]
     },
     "execution_count": 20,
     "metadata": {},
     "output_type": "execute_result"
    }
   ],
   "source": [
    "\"\"\"This is a multi-\n",
    "line comment\"\"\""
   ]
  },
  {
   "cell_type": "markdown",
   "metadata": {
    "id": "HNcbwQOt8T9O"
   },
   "source": [
    "Comments are handy to *temporarily* turn some lines on or off and to document Python files. In Jupyter notebooks using markdown cells gives more control."
   ]
  },
  {
   "cell_type": "markdown",
   "metadata": {
    "id": "KlQpkkyD8T9P"
   },
   "source": [
    "**Exercise**: being a=2, b=1 two different values, swap their values without using the tip and without using any extra temporal variable"
   ]
  },
  {
   "cell_type": "code",
   "execution_count": null,
   "metadata": {
    "id": "6-jD1Bls8T9P",
    "outputId": "caf9e2e6-2dbd-41bb-80ac-74b8234f093d"
   },
   "outputs": [
    {
     "data": {
      "text/plain": [
       "(20, 10)"
      ]
     },
     "execution_count": 39,
     "metadata": {},
     "output_type": "execute_result"
    }
   ],
   "source": [
    "a = 10\n",
    "b = 20\n",
    "a = a+b\n",
    "b = a-b\n",
    "a = a-b\n",
    "a, b"
   ]
  },
  {
   "cell_type": "markdown",
   "metadata": {
    "id": "YUjViqu48T9R"
   },
   "source": [
    "## Mathematical Operations\n",
    "\n",
    "The common mathematical operators are `/`, `//`, `*`, `**`, `+`, `-`"
   ]
  },
  {
   "cell_type": "code",
   "execution_count": null,
   "metadata": {
    "id": "J0UA1zCl8T9R",
    "outputId": "03ce567c-c14d-40a4-f7f9-6710f1503630"
   },
   "outputs": [
    {
     "data": {
      "text/plain": [
       "3.0"
      ]
     },
     "execution_count": 21,
     "metadata": {},
     "output_type": "execute_result"
    }
   ],
   "source": [
    "9/3"
   ]
  },
  {
   "cell_type": "code",
   "execution_count": null,
   "metadata": {
    "id": "TMdBLVju8T9S",
    "outputId": "d7aeb502-89be-45ff-9e1d-6623c1079802"
   },
   "outputs": [
    {
     "ename": "ZeroDivisionError",
     "evalue": "division by zero",
     "output_type": "error",
     "traceback": [
      "\u001b[0;31m---------------------------------------------------------------------------\u001b[0m",
      "\u001b[0;31mZeroDivisionError\u001b[0m                         Traceback (most recent call last)",
      "\u001b[0;32m<ipython-input-75-9e1622b385b6>\u001b[0m in \u001b[0;36m<module>\u001b[0;34m\u001b[0m\n\u001b[0;32m----> 1\u001b[0;31m \u001b[0;36m1\u001b[0m\u001b[0;34m/\u001b[0m\u001b[0;36m0\u001b[0m\u001b[0;34m\u001b[0m\u001b[0;34m\u001b[0m\u001b[0m\n\u001b[0m",
      "\u001b[0;31mZeroDivisionError\u001b[0m: division by zero"
     ]
    }
   ],
   "source": [
    "1/0"
   ]
  },
  {
   "cell_type": "code",
   "execution_count": null,
   "metadata": {
    "id": "lleHq89O8T9U",
    "outputId": "ad9214d0-366b-448d-ae05-9cbe34fddc08"
   },
   "outputs": [
    {
     "ename": "ZeroDivisionError",
     "evalue": "float division by zero",
     "output_type": "error",
     "traceback": [
      "\u001b[0;31m---------------------------------------------------------------------------\u001b[0m",
      "\u001b[0;31mZeroDivisionError\u001b[0m                         Traceback (most recent call last)",
      "\u001b[0;32m<ipython-input-76-b6449c4a71a6>\u001b[0m in \u001b[0;36m<module>\u001b[0;34m\u001b[0m\n\u001b[0;32m----> 1\u001b[0;31m \u001b[0;36m1.0\u001b[0m \u001b[0;34m/\u001b[0m \u001b[0;36m0.0\u001b[0m\u001b[0;34m\u001b[0m\u001b[0;34m\u001b[0m\u001b[0m\n\u001b[0m",
      "\u001b[0;31mZeroDivisionError\u001b[0m: float division by zero"
     ]
    }
   ],
   "source": [
    "1.0 / 0.0 "
   ]
  },
  {
   "cell_type": "code",
   "execution_count": null,
   "metadata": {
    "id": "0Zm4-SOB8T9U",
    "outputId": "d2b089cf-ad32-45a2-dabf-d527d7ef56e1"
   },
   "outputs": [
    {
     "data": {
      "text/plain": [
       "0"
      ]
     },
     "execution_count": 22,
     "metadata": {},
     "output_type": "execute_result"
    }
   ],
   "source": [
    "9%3"
   ]
  },
  {
   "cell_type": "code",
   "execution_count": null,
   "metadata": {
    "id": "gjlY1YZP8T9U",
    "outputId": "b64cfeac-fc75-4427-d5ff-9e6532a1e7db"
   },
   "outputs": [
    {
     "data": {
      "text/plain": [
       "2.25"
      ]
     },
     "execution_count": 23,
     "metadata": {},
     "output_type": "execute_result"
    }
   ],
   "source": [
    "9/4.0"
   ]
  },
  {
   "cell_type": "code",
   "execution_count": null,
   "metadata": {
    "id": "O0e1tO5N8T9V",
    "outputId": "6f02eb42-f75f-45ba-a210-2fbea7cec70b"
   },
   "outputs": [
    {
     "data": {
      "text/plain": [
       "2"
      ]
     },
     "execution_count": 40,
     "metadata": {},
     "output_type": "execute_result"
    }
   ],
   "source": [
    "9//4"
   ]
  },
  {
   "cell_type": "code",
   "execution_count": null,
   "metadata": {
    "id": "f09AIQ578T9V",
    "outputId": "03f02813-7b48-4296-d510-4262b74bd058"
   },
   "outputs": [
    {
     "data": {
      "text/plain": [
       "1"
      ]
     },
     "execution_count": 24,
     "metadata": {},
     "output_type": "execute_result"
    }
   ],
   "source": [
    "9%4 # 9 - 2*4"
   ]
  },
  {
   "cell_type": "code",
   "execution_count": null,
   "metadata": {
    "id": "rw4ut9Nc8T9V",
    "outputId": "f6231086-8a89-41f3-b945-77008cdfa6fd"
   },
   "outputs": [
    {
     "data": {
      "text/plain": [
       "15"
      ]
     },
     "execution_count": 25,
     "metadata": {},
     "output_type": "execute_result"
    }
   ],
   "source": [
    "3*5"
   ]
  },
  {
   "cell_type": "code",
   "execution_count": null,
   "metadata": {
    "id": "WuLWp7xy8T9W",
    "outputId": "520e4687-cca1-4eaf-c5f0-1dd9fc66dce9"
   },
   "outputs": [
    {
     "data": {
      "text/plain": [
       "64"
      ]
     },
     "execution_count": 26,
     "metadata": {},
     "output_type": "execute_result"
    }
   ],
   "source": [
    "2**6"
   ]
  },
  {
   "cell_type": "code",
   "execution_count": null,
   "metadata": {
    "id": "VGLzbXx58T9W",
    "outputId": "2054be09-6bd2-45f7-db89-581578b002fe"
   },
   "outputs": [
    {
     "data": {
      "text/plain": [
       "8.0"
      ]
     },
     "execution_count": 27,
     "metadata": {},
     "output_type": "execute_result"
    }
   ],
   "source": [
    "64**0.5"
   ]
  },
  {
   "cell_type": "markdown",
   "metadata": {
    "id": "GmYQGViw8T9W"
   },
   "source": [
    "**Exercise:** given two natural numbers `a` and `b` with `b>0`, print the integer division `d` and the reminder `r` of `a` divided by `b`.\n",
    "\n",
    "$$d \\cdot b + r = a$$"
   ]
  },
  {
   "cell_type": "code",
   "execution_count": null,
   "metadata": {
    "id": "ZqPK5E1s8T9W",
    "outputId": "ddc22a38-e41e-46b9-a034-ab7b18d687ea"
   },
   "outputs": [
    {
     "name": "stdout",
     "output_type": "stream",
     "text": [
      "5 2\n"
     ]
    }
   ],
   "source": [
    "a = 32\n",
    "b = 6\n",
    "d = a // b\n",
    "r = a % b\n",
    "print(d, r)\n"
   ]
  },
  {
   "cell_type": "markdown",
   "metadata": {
    "id": "tQxOdIRC8T9X"
   },
   "source": [
    "## Logical Operations\n",
    "\n",
    "The comparison operators are `==`, `!=`,`<`,`<=`, `>`, `>=`. They return boolean variables"
   ]
  },
  {
   "cell_type": "code",
   "execution_count": null,
   "metadata": {
    "id": "NadPcz5_8T9X"
   },
   "outputs": [],
   "source": [
    "a = True\n",
    "b = False"
   ]
  },
  {
   "cell_type": "code",
   "execution_count": null,
   "metadata": {
    "id": "GfYVzWw38T9X",
    "outputId": "6d3061da-cdb3-4068-ded3-d0a96cb7b316"
   },
   "outputs": [
    {
     "data": {
      "text/plain": [
       "True"
      ]
     },
     "execution_count": 46,
     "metadata": {},
     "output_type": "execute_result"
    }
   ],
   "source": [
    "2 == 2.0"
   ]
  },
  {
   "cell_type": "code",
   "execution_count": null,
   "metadata": {
    "id": "wyihghgC8T9Y",
    "outputId": "2ff07ca5-6190-4479-91a1-efa7e4c131c7"
   },
   "outputs": [
    {
     "data": {
      "text/plain": [
       "True"
      ]
     },
     "execution_count": 47,
     "metadata": {},
     "output_type": "execute_result"
    }
   ],
   "source": [
    "2 != 2.001"
   ]
  },
  {
   "cell_type": "code",
   "execution_count": null,
   "metadata": {
    "id": "RQNFuqMU8T9Y",
    "outputId": "24ad300f-3b8a-406a-82a0-10d42756f8ef"
   },
   "outputs": [
    {
     "data": {
      "text/plain": [
       "(1, 2)"
      ]
     },
     "execution_count": 48,
     "metadata": {},
     "output_type": "execute_result"
    }
   ],
   "source": [
    "x, y = 1, 2\n",
    "x, y"
   ]
  },
  {
   "cell_type": "code",
   "execution_count": null,
   "metadata": {
    "id": "rm4QpBrO8T9Y",
    "outputId": "7fe12072-11a6-4d19-dfac-67863a2fd80f"
   },
   "outputs": [
    {
     "name": "stdout",
     "output_type": "stream",
     "text": [
      "True\n",
      "True\n",
      "False\n",
      "False\n",
      "False\n",
      "False\n"
     ]
    }
   ],
   "source": [
    "print(x < y)\n",
    "print(x <= y)\n",
    "print(x > y)\n",
    "print(x >= y)\n",
    "print(x < y and x > y)\n",
    "print(x < y & x > y)"
   ]
  },
  {
   "cell_type": "code",
   "execution_count": null,
   "metadata": {
    "id": "aQIQL7aS8T9Y",
    "outputId": "f72725df-48b6-4561-de6d-fa8557fbe27a"
   },
   "outputs": [
    {
     "name": "stdout",
     "output_type": "stream",
     "text": [
      "False\n",
      "False\n",
      "True\n",
      "True\n"
     ]
    }
   ],
   "source": [
    "x, y = 1, 2\n",
    "a, b = 5, 6\n",
    "print(x < y and a > b)\n",
    "print(x < y & x > y)\n",
    "print(x < y or a > b)\n",
    "print(x < y | x > y)"
   ]
  },
  {
   "cell_type": "code",
   "execution_count": null,
   "metadata": {
    "id": "QXSeDtar8T9Z"
   },
   "outputs": [],
   "source": [
    "if 6 > 4:\n",
    "    print('Six is greater than four!')"
   ]
  },
  {
   "cell_type": "markdown",
   "metadata": {
    "id": "CqJ-b9gc8T9Z"
   },
   "source": [
    "<div class=\"alert alert-block alert-danger\"><b>Important!</b> in Python blocks are delimited by indentation, always using four spaces. When we put the colon at the end of the first line of the conditional, anything that follows with one higher indentation level is considered within the conditional. As soon as we write the first line with a lower indentation level, we have closed the conditional. If we do not follow this to the letter Python will give us errors; it is a way to force the code to be readable.\n",
    "\n",
    "</div>"
   ]
  },
  {
   "cell_type": "code",
   "execution_count": null,
   "metadata": {
    "id": "PaSSVKU38T9Z",
    "outputId": "78444006-b417-4a6a-967f-0ad06e36b9fc"
   },
   "outputs": [
    {
     "name": "stdout",
     "output_type": "stream",
     "text": [
      "6 still being less than 0\n"
     ]
    }
   ],
   "source": [
    "if 6 < 4:\n",
    "    print(\"Six is less than four\")\n",
    "print(\"6 still being less than 0\")  # <-- ¡Wrong!"
   ]
  },
  {
   "cell_type": "code",
   "execution_count": null,
   "metadata": {
    "id": "BA1oy5_68T9Z",
    "outputId": "9f2a1256-6f4c-4038-c82f-e513b2257bf4"
   },
   "outputs": [
    {
     "ename": "IndentationError",
     "evalue": "unexpected indent (<ipython-input-74-b0b1301f9d6a>, line 3)",
     "output_type": "error",
     "traceback": [
      "\u001b[0;36m  File \u001b[0;32m\"<ipython-input-74-b0b1301f9d6a>\"\u001b[0;36m, line \u001b[0;32m3\u001b[0m\n\u001b[0;31m    print(\"6 still being less than 0\")  # <-- ¡Wrong!\u001b[0m\n\u001b[0m    ^\u001b[0m\n\u001b[0;31mIndentationError\u001b[0m\u001b[0;31m:\u001b[0m unexpected indent\n"
     ]
    }
   ],
   "source": [
    "if 6 < 4:\n",
    "    print(\"Six is less than four\")\n",
    "      print(\"6 still being less than 0\")  # <-- ¡Wrong!"
   ]
  },
  {
   "cell_type": "code",
   "execution_count": null,
   "metadata": {
    "id": "-RFr0E4B8T9Z"
   },
   "outputs": [],
   "source": [
    "if 6 > 10:\n",
    "    print('Six is greater than ten!')\n",
    "else:\n",
    "    print('Six is not greater than ten!')"
   ]
  },
  {
   "cell_type": "code",
   "execution_count": null,
   "metadata": {
    "id": "iToEev398T9Z"
   },
   "outputs": [],
   "source": [
    "a = 20\n",
    "if a%2 == 0:\n",
    "    print('This number is even!')   \n",
    "elif a%3 == 0:\n",
    "    print('This number is divisable by three!')   \n",
    "elif a%5 == 0:\n",
    "    print('This number is divisable by five!')\n",
    "else:\n",
    "    print(str(a) + ' is not divisable by 2, 3 or 5!')"
   ]
  },
  {
   "cell_type": "code",
   "execution_count": null,
   "metadata": {
    "id": "N3lvkrbR8T9a"
   },
   "outputs": [],
   "source": [
    "b = 0\n",
    "while b < 5:\n",
    "    print(b) \n",
    "    b = b + 1"
   ]
  },
  {
   "cell_type": "code",
   "execution_count": null,
   "metadata": {
    "id": "30ak26Xn8T9a"
   },
   "outputs": [],
   "source": [
    "b"
   ]
  },
  {
   "cell_type": "code",
   "execution_count": null,
   "metadata": {
    "id": "8n7FMfwB8T9a"
   },
   "outputs": [],
   "source": [
    "while True:\n",
    "    pass"
   ]
  },
  {
   "cell_type": "code",
   "execution_count": null,
   "metadata": {
    "id": "6gEA4Q7g8T9a"
   },
   "outputs": [],
   "source": [
    "a = 25\n",
    "b = 1\n",
    "c = 2\n",
    "while b != 0:\n",
    "    b = a%c\n",
    "    if b == 0:\n",
    "        print(str(a) + ' is divisable by ' + str(c))\n",
    "    else:\n",
    "        c += 1"
   ]
  },
  {
   "cell_type": "markdown",
   "metadata": {
    "id": "FfGzbf2t8T9b"
   },
   "source": [
    "**Exercise**: Can you refactor this code so that you can test if a number is prime (so only it and 1 divides it)"
   ]
  },
  {
   "cell_type": "code",
   "execution_count": 1,
   "metadata": {
    "id": "wERfzcix8T9b"
   },
   "outputs": [
    {
     "name": "stdout",
     "output_type": "stream",
     "text": [
      "28 is divisable by 2\n"
     ]
    }
   ],
   "source": [
    "a = 28\n",
    "b = 1\n",
    "c = 2\n",
    "while b != 0:\n",
    "    b = a%c\n",
    "    if a == c:\n",
    "        print(str(a) + ' is a prime number.')\n",
    "    elif b == 0:\n",
    "        print(str(a) + ' is divisable by ' + str(c))\n",
    "    else:\n",
    "        c += 1"
   ]
  },
  {
   "cell_type": "markdown",
   "metadata": {
    "id": "eQURy9Qp8T9b"
   },
   "source": [
    "**Exercise**: write a program that, given two intervals, computes the interval correspondign to their intersection, or tells that it is empty.\n",
    "\n",
    "*Input*: four integer numbers $a_1$, $b_1$, $a_2$, $b_2$ that represent intervals $[a_1, b_1]$ and $[a_2, b_2]$. Assume $a_1 \\leq b_1$, $a_2 \\leq b_2$.\n",
    "\n",
    "*Output*: Print `[]` if their intersection is empty or $[x,y]$ if this is their non-empy intersection."
   ]
  },
  {
   "cell_type": "code",
   "execution_count": null,
   "metadata": {
    "id": "mo1ZkkGx8T9c",
    "outputId": "53a3a704-8d97-45f6-e85c-0bf4f49ba367"
   },
   "outputs": [
    {
     "name": "stdout",
     "output_type": "stream",
     "text": [
      "[]\n"
     ]
    }
   ],
   "source": [
    "a_1, b_1 = 30, 40\n",
    "a_2, b_2 = 10, 20\n",
    "x = ''\n",
    "y = ''\n",
    "if a_1 <= a_2 and a_2 <= b_1:\n",
    "    x = a_2\n",
    "    if b_1 <= b_2:\n",
    "        y = b_1\n",
    "    else:\n",
    "        y = b_2\n",
    "    print(x,y)\n",
    "elif a_1 >= a_2 and a_1 <= b_2:\n",
    "    x = a_1\n",
    "    if b_1 <= b_2:\n",
    "        y = b_1\n",
    "    else:\n",
    "        y = b_2\n",
    "    print(x,y)\n",
    "else:\n",
    "    print(\"[]\")"
   ]
  }
 ],
 "metadata": {
  "colab": {
   "include_colab_link": true,
   "name": "01_Introduction.ipynb",
   "provenance": []
  },
  "kernelspec": {
   "display_name": "Python 3 (ipykernel)",
   "language": "python",
   "name": "python3"
  },
  "language_info": {
   "codemirror_mode": {
    "name": "ipython",
    "version": 3
   },
   "file_extension": ".py",
   "mimetype": "text/x-python",
   "name": "python",
   "nbconvert_exporter": "python",
   "pygments_lexer": "ipython3",
   "version": "3.8.8"
  }
 },
 "nbformat": 4,
 "nbformat_minor": 4
}
