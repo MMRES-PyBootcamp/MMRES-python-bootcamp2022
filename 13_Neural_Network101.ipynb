{
 "cells": [
  {
   "cell_type": "markdown",
   "id": "df83a0c5-744d-48ca-b23f-3de7a13f8d96",
   "metadata": {
    "colab_type": "text",
    "id": "view-in-github"
   },
   "source": [
    "<a href=\"https://colab.research.google.com/github/MMRES-PyBootcamp/MMRES-python-bootcamp2022/blob/main/13_Neural_Network101.ipynb\" target=\"_parent\"><img src=\"https://colab.research.google.com/assets/colab-badge.svg\" alt=\"Open In Colab\"/></a>"
   ]
  },
  {
   "cell_type": "markdown",
   "id": "e9c6a135-4dbd-4204-98b1-be848d081e7b",
   "metadata": {},
   "source": [
    "Before starting, we are well-advised to use a GPU for substantial performance improvements.  \n",
    "First we need to make sure we have a GPU available. Follow the following (this will restart your runtime)."
   ]
  },
  {
   "cell_type": "markdown",
   "id": "f60dc88d-0df4-4d37-b6f2-39bcde7c6e0a",
   "metadata": {},
   "source": [
    "![Open Runtime/change runtime](data/colab_GPU1.png)"
   ]
  },
  {
   "cell_type": "markdown",
   "id": "721a0766-cfff-4683-884d-818b27b19b47",
   "metadata": {},
   "source": [
    "![Choose GPU in hardware accelerator](data/colab_GPU2.png)"
   ]
  },
  {
   "cell_type": "markdown",
   "id": "524b3698-f2fb-4c06-ac9d-ffcf43d01d97",
   "metadata": {
    "id": "524b3698-f2fb-4c06-ac9d-ffcf43d01d97"
   },
   "source": [
    "# Part I: Fully conected Neural Networks\n",
    "In the introduction we got to know the basic fully-connected neural network architecture.  \n",
    "We will revisit it later in our session about backpropagation more detail.  \n",
    "Here, we first look at how to implement such a neural network in `torch` (or PyTorch),  \n",
    "one of the leading automatic differentiation platforms for machine learning and AI.\n",
    "\n",
    "Contemporary alternatives are [JAX](https://jax.readthedocs.io/en/latest/) and [TensorFlow](https://www.tensorflow.org/),  \n",
    "which are backed by google and both have their advantages and disadvantages. All libraries are able to perform the tasks  \n",
    "we are looking at, and it is solely a matter of preference which one we choose."
   ]
  },
  {
   "cell_type": "code",
   "execution_count": 1,
   "id": "e297d74b-28cb-4403-82c3-70917fbf7855",
   "metadata": {
    "id": "e297d74b-28cb-4403-82c3-70917fbf7855"
   },
   "outputs": [
    {
     "name": "stderr",
     "output_type": "stream",
     "text": [
      "/home/qottmann/anaconda3/envs/test/lib/python3.8/site-packages/tqdm/auto.py:22: TqdmWarning: IProgress not found. Please update jupyter and ipywidgets. See https://ipywidgets.readthedocs.io/en/stable/user_install.html\n",
      "  from .autonotebook import tqdm as notebook_tqdm\n"
     ]
    }
   ],
   "source": [
    "import torch\n",
    "from torch import nn"
   ]
  },
  {
   "cell_type": "markdown",
   "id": "c4bd1c9a-2dc5-4d67-93b8-54f198760414",
   "metadata": {
    "id": "c4bd1c9a-2dc5-4d67-93b8-54f198760414"
   },
   "source": [
    "To build a neural network in (py)torch, you are expected to fill a \"template\" class  \n",
    "that has a `__init__` and `forward` method. This varies for different machine learning  \n",
    "frameworks, but the overall logic is the same."
   ]
  },
  {
   "cell_type": "code",
   "execution_count": 3,
   "id": "57c9db8d-b0ee-4d3e-b5a6-124b85c41d6f",
   "metadata": {
    "id": "57c9db8d-b0ee-4d3e-b5a6-124b85c41d6f"
   },
   "outputs": [],
   "source": [
    "in_dim = 28*28\n",
    "out_dim = 10\n",
    "\n",
    "class NeuralNetwork(nn.Module):\n",
    "    def __init__(self):\n",
    "        super(NeuralNetwork, self).__init__()\n",
    "        self.flatten = nn.Flatten()\n",
    "        self.neural_network = nn.Sequential(\n",
    "            nn.Linear(in_dim, 512),  # input dimension, hidden1 dimension\n",
    "            nn.ReLU(),               # Non-linear activation function\n",
    "            nn.Linear(512, 512),     # hidden1 dimension, hidden2 dimension\n",
    "            nn.ReLU(),               # Non-linear activation function\n",
    "            nn.Linear(512, out_dim), # hidden2 dimension, output dimension\n",
    "        )\n",
    "\n",
    "    def forward(self, x):\n",
    "        x = self.flatten(x)          # input data preparation\n",
    "        output = self.neural_network(x)\n",
    "        return output"
   ]
  },
  {
   "cell_type": "code",
   "execution_count": 17,
   "id": "abe9e013-74ff-4b10-b2be-fd03becbc7e2",
   "metadata": {
    "colab": {
     "base_uri": "https://localhost:8080/"
    },
    "id": "abe9e013-74ff-4b10-b2be-fd03becbc7e2",
    "outputId": "fbb1af2a-02bf-41cb-97f2-6aedac249173"
   },
   "outputs": [
    {
     "name": "stdout",
     "output_type": "stream",
     "text": [
      "NeuralNetwork(\n",
      "  (flatten): Flatten(start_dim=1, end_dim=-1)\n",
      "  (neural_network): Sequential(\n",
      "    (0): Linear(in_features=784, out_features=512, bias=True)\n",
      "    (1): ReLU()\n",
      "    (2): Linear(in_features=512, out_features=512, bias=True)\n",
      "    (3): ReLU()\n",
      "    (4): Linear(in_features=512, out_features=10, bias=True)\n",
      "  )\n",
      ")\n"
     ]
    }
   ],
   "source": [
    "model = NeuralNetwork() #.to(device) uncomment for GPU execution\n",
    "print(model)"
   ]
  },
  {
   "cell_type": "markdown",
   "id": "66ab69d8-01f7-41af-910a-6fc955a0f65d",
   "metadata": {
    "id": "66ab69d8-01f7-41af-910a-6fc955a0f65d"
   },
   "source": [
    "For parallelization, PyTorch (and other ML frameworks) are built to process data in batches.  \n",
    "Therefore, the input is always assumed to have the first dimension to be the `batch_size`.  \n",
    "If we want to process a single input, we need to accont for a dummy dimension `batch_size=1`.  "
   ]
  },
  {
   "cell_type": "code",
   "execution_count": 18,
   "id": "96a0a90f-2061-47a7-8c73-0d2819e5bfe9",
   "metadata": {
    "id": "96a0a90f-2061-47a7-8c73-0d2819e5bfe9"
   },
   "outputs": [],
   "source": [
    "try:\n",
    "    X = torch.rand(in_dim)\n",
    "    output = model(X) # results in an error\n",
    "except:\n",
    "    X = torch.rand(1, in_dim)\n",
    "    output = model(X)"
   ]
  },
  {
   "cell_type": "code",
   "execution_count": 6,
   "id": "cd46f0ad-d3ed-46d2-9d2b-a0493069f1f3",
   "metadata": {
    "colab": {
     "base_uri": "https://localhost:8080/"
    },
    "id": "cd46f0ad-d3ed-46d2-9d2b-a0493069f1f3",
    "outputId": "8bdbb547-4cf8-4ddd-ee96-d479335fd6d0"
   },
   "outputs": [
    {
     "data": {
      "text/plain": [
       "torch.Size([1, 10])"
      ]
     },
     "execution_count": 6,
     "metadata": {},
     "output_type": "execute_result"
    }
   ],
   "source": [
    "output.shape"
   ]
  },
  {
   "cell_type": "markdown",
   "id": "4b6b4ae2-44d3-4d74-bbea-951715d745c4",
   "metadata": {
    "id": "4b6b4ae2-44d3-4d74-bbea-951715d745c4"
   },
   "source": [
    "E1: Due to the `flatten` function in the forward pass, the input is rather flexible, try inputting alternatively shaped tensors. What is the constraint that needs to be fulfilled?    \n",
    "Here is one example:"
   ]
  },
  {
   "cell_type": "code",
   "execution_count": 7,
   "id": "08ea8826-5566-405f-be65-be7d483b9884",
   "metadata": {
    "colab": {
     "base_uri": "https://localhost:8080/"
    },
    "id": "08ea8826-5566-405f-be65-be7d483b9884",
    "outputId": "35b611ce-9342-4924-f935-5a68a791ad74"
   },
   "outputs": [
    {
     "data": {
      "text/plain": [
       "tensor([[ 0.0253,  0.1310,  0.0164,  0.0358, -0.1539, -0.0703, -0.0004,  0.1406,\n",
       "          0.0619, -0.0693]], grad_fn=<AddmmBackward0>)"
      ]
     },
     "execution_count": 7,
     "metadata": {},
     "output_type": "execute_result"
    }
   ],
   "source": [
    "X = torch.rand(1, 2, 14, 28)\n",
    "model(X.to(device))"
   ]
  },
  {
   "cell_type": "markdown",
   "id": "dd149842-c9d8-404a-a9cf-165197674ae8",
   "metadata": {
    "id": "dd149842-c9d8-404a-a9cf-165197674ae8"
   },
   "source": [
    "E2: We want the output of our NN to be the probability distribution for `out_dim = 7` different categories.  \n",
    "Modify the network such that the output resembles a proper probability distribution, i.e. that \n",
    "$$\\sum_{i=1}^\\text{out_dim} p_i = 1$$ \n",
    "and $1\\geq p_i \\geq 0$"
   ]
  },
  {
   "cell_type": "code",
   "execution_count": 8,
   "id": "a39c0ea4-215f-434a-81d9-08687acfb72d",
   "metadata": {
    "colab": {
     "base_uri": "https://localhost:8080/"
    },
    "id": "a39c0ea4-215f-434a-81d9-08687acfb72d",
    "outputId": "6f94bdd8-1f39-4a10-b468-c10f1e0c266c"
   },
   "outputs": [
    {
     "data": {
      "text/plain": [
       "tensor(False)"
      ]
     },
     "execution_count": 8,
     "metadata": {},
     "output_type": "execute_result"
    }
   ],
   "source": [
    "torch.isclose(torch.sum(model(X.to(device))), torch.tensor(1.))"
   ]
  },
  {
   "cell_type": "code",
   "execution_count": 9,
   "id": "27bb0f62-bd08-4b92-92c4-aa59431b67ac",
   "metadata": {
    "colab": {
     "base_uri": "https://localhost:8080/"
    },
    "id": "27bb0f62-bd08-4b92-92c4-aa59431b67ac",
    "outputId": "57add70a-23be-4de5-99de-45ce359152f0"
   },
   "outputs": [
    {
     "data": {
      "text/plain": [
       "tensor(False)"
      ]
     },
     "execution_count": 9,
     "metadata": {},
     "output_type": "execute_result"
    }
   ],
   "source": [
    "torch.all(model(X.to(device))>0)"
   ]
  },
  {
   "cell_type": "markdown",
   "id": "91b3c46b-641e-4622-a41b-4595040e6613",
   "metadata": {
    "id": "91b3c46b-641e-4622-a41b-4595040e6613"
   },
   "source": [
    "(Note that you can use most of the standard `numpy` functions in torch)  \n",
    "Hint: Look up the so-called softmax function $\\text{Softmax}: \\mathbb{R}^m \\mapsto \\mathbb{R}^m$\n",
    "$$\n",
    "\\left(\\text{Softmax}(x)\\right)_i = \\frac{e^{x_i}}{\\sum_{j=1}^m e^{x_j}}\n",
    "$$\n",
    "for $x \\in \\mathbb{R}^m$"
   ]
  },
  {
   "cell_type": "markdown",
   "id": "903d52c2-46a3-4a0d-96ef-f2ebd9eb7ece",
   "metadata": {
    "id": "903d52c2-46a3-4a0d-96ef-f2ebd9eb7ece"
   },
   "source": [
    "# Part II: Backpropagation\n",
    "We understand the _forward pass_ of a neural network, now it is time to learn how to optimize it. Curiosly, this is done in a similar fashion but in the reverse direction through a _backward pass_ via an algorithm called backpropagation. One of the big benefits of modern machine learning libraries like `torch` is they automatically perform this task for us. Still, we should know what is going on under the hood for a deeper understanding.\n",
    "\n",
    "\n",
    "For this, we introduce the vector form of the forward pass in terms of the activation\n",
    "$$a^\\ell = f(z^\\ell)$$\n",
    "with weighted inputs\n",
    "$$z^\\ell = w^\\ell a^{\\ell-1} + b^\\ell.$$\n",
    "Note that all quantities are vectors, except for $w^\\ell$, which is a matrix.  \n",
    "The function $f$ may be different for each layer, though for simplicity we do not specify this explicitly.  \n",
    "The over output of the network is given by\n",
    "$$a^L = f(z^L) = f(w^L f(z^{L-1}) + b^L) =..,$$\n",
    "a nested function of multiple activations and matrix multiplications.\n",
    "\n",
    "One of many possible choices for a loss function is the $\\ell^2$ norm\n",
    "$$C = \\frac{1}{2n} \\sum_x ||y(x) - a^L(x)||^2.$$\n",
    "Here, $a^L$ is the activation of the last layer, i.e. the NN output, and $y(x)$ is the label of the example $x$.  \n",
    "For example, for binary classification (2 classes), $y(x)=(1,0)$ or $y(x)=(0,1)$, depending which class the example belongs to.\n",
    "\n",
    "Our goal is it to minimize this loss function to achieve faithful predictions. This is done via so-called gradient descent.  \n",
    "The idea is to change the trainable parameters of the neural network, $w$ and $b$, in the direction of steepest descent, which is exactly the gradient.  \n",
    "We update the parameters according to\n",
    "$$b^\\ell \\mapsto b^\\ell - \\alpha \\nabla_{b^\\ell} C$$\n",
    "$$w^\\ell \\mapsto b^\\ell - \\alpha \\nabla_{w^\\ell} C$$\n",
    "where $\\alpha$ is a so-called hyper parameter, the learning rate, set by the user. This update rule is repeated many times until a minimum is reached.  \n",
    "In practice we use more involved optimization routines that take  \n",
    "the trajectory of past updates\n",
    "\n",
    "We follow the derivation of the gradient of $C$ based on [Neural Networks and Deep Learning](http://neuralnetworksanddeeplearning.com/chap2.html) and find the equations for backpropagation:\n",
    "\n",
    "$$\\delta^L = \\nabla_aC \\odot f'(z^L)$$\n",
    "$$\\delta^\\ell = \\left((w^{\\ell + 1})^T \\delta^{\\ell+1} \\right) \\odot f'(z^\\ell)$$\n",
    "$$\\frac{\\partial C}{\\partial b^\\ell_j} = \\delta^\\ell_j $$\n",
    "$$\\frac{\\partial C}{\\partial w^\\ell_{jk}} = a^{\\ell-1}_k \\delta^\\ell_j$$\n",
    "\n",
    "Where in the case of the $\\ell^2$ norm above, $\\nabla_a C = \\frac{1}{n} \\sum_x \\sum_i (y_i(x) - a_i(x))$."
   ]
  },
  {
   "cell_type": "markdown",
   "id": "caf9b807-9047-4e53-a071-0ac92cce9427",
   "metadata": {
    "id": "caf9b807-9047-4e53-a071-0ac92cce9427"
   },
   "source": [
    "Ex: For a forward pass with $x=(1,0)$,\n",
    "$w^1 = \\begin{pmatrix}\n",
    "1 & 2 \\\\\n",
    "1 & 2 \\\\\n",
    "1 & 2 \n",
    "\\end{pmatrix}$, $w^2 = \\begin{pmatrix}\n",
    "-1 & -1 & -1\\\\\n",
    "2 & 2 & 2\n",
    "\\end{pmatrix}$, $y=(1,0)$, and $f(x)=|x|$ (element-wise), compute $\\frac{\\partial}{\\partial w^1_{1,1}} C$ and $\\frac{\\partial}{\\partial w^1_{1,2}} C$"
   ]
  },
  {
   "cell_type": "code",
   "execution_count": 10,
   "id": "5602bc6a-869f-4f5e-a8d8-a7f85ccc1950",
   "metadata": {
    "id": "5602bc6a-869f-4f5e-a8d8-a7f85ccc1950"
   },
   "outputs": [],
   "source": [
    "from torchvision import datasets\n",
    "from torchvision.transforms import ToTensor\n",
    "\n",
    "# Download training data from open datasets.\n",
    "training_data = datasets.MNIST(\n",
    "    root=\"data\",\n",
    "    train=True,\n",
    "    download=True,\n",
    "    transform=ToTensor(),\n",
    ")\n",
    "\n",
    "# Download test data from open datasets.\n",
    "test_data = datasets.MNIST(\n",
    "    root=\"data\",\n",
    "    train=False,\n",
    "    download=True,\n",
    "    transform=ToTensor(),\n",
    ")"
   ]
  },
  {
   "cell_type": "code",
   "execution_count": 11,
   "id": "905341c1-8754-4ffe-b8e0-3a8fe33711f0",
   "metadata": {
    "colab": {
     "base_uri": "https://localhost:8080/"
    },
    "id": "905341c1-8754-4ffe-b8e0-3a8fe33711f0",
    "outputId": "d8767eff-0a78-4be3-d153-e99125fe770a"
   },
   "outputs": [
    {
     "name": "stdout",
     "output_type": "stream",
     "text": [
      "Shape of X [batch_size, color_channel, height, width]: torch.Size([64, 1, 28, 28])\n",
      "Shape of y: torch.Size([64]) torch.int64\n"
     ]
    }
   ],
   "source": [
    "from torch.utils.data import DataLoader\n",
    "\n",
    "batch_size = 64\n",
    "\n",
    "# Create data loaders.\n",
    "train_dataloader = DataLoader(training_data, batch_size=batch_size)\n",
    "test_dataloader = DataLoader(test_data, batch_size=batch_size)\n",
    "\n",
    "for X, y in test_dataloader:\n",
    "    print(f\"Shape of X [batch_size, color_channel, height, width]: {X.shape}\")\n",
    "    print(f\"Shape of y: {y.shape} {y.dtype}\")\n",
    "    break"
   ]
  },
  {
   "cell_type": "code",
   "execution_count": 12,
   "id": "b2a6b3aa-1f12-4cc1-9166-bf662004bb4c",
   "metadata": {
    "id": "b2a6b3aa-1f12-4cc1-9166-bf662004bb4c"
   },
   "outputs": [],
   "source": [
    "from matplotlib import pyplot as plt\n",
    "import numpy as np\n",
    "\n",
    "# technically you should not do the following because it defeats the purpose of having the data loader in the first place\n",
    "test_data = list(test_dataloader)"
   ]
  },
  {
   "cell_type": "code",
   "execution_count": 13,
   "id": "54f6ee7b-3e61-4884-9a54-a527dd1da532",
   "metadata": {
    "colab": {
     "base_uri": "https://localhost:8080/",
     "height": 135
    },
    "id": "54f6ee7b-3e61-4884-9a54-a527dd1da532",
    "outputId": "878d3254-4fca-4840-93ab-22f746fdd463"
   },
   "outputs": [
    {
     "data": {
      "image/png": "[encoded data removed]",
      "text/plain": [
       "<Figure size 2000x400 with 10 Axes>"
      ]
     },
     "metadata": {},
     "output_type": "display_data"
    }
   ],
   "source": [
    "fig, axs = plt.subplots(ncols=10, figsize=(20, 4))\n",
    "for i, pick in enumerate(np.random.randint(len(test_data),size=10)):\n",
    "    ax = axs[i]\n",
    "    ax.imshow(test_data[pick][0][0][0, :, :], cmap=\"Greys\")\n",
    "    ax.set_title(f\"label: {test_data[pick][1][0]}\")"
   ]
  },
  {
   "cell_type": "markdown",
   "id": "4422108f-3acd-449d-9180-484a1fca4554",
   "metadata": {},
   "source": [
    "Instead of the mean squared error loss, we are using the categorical cross entropy loss. The idea is the following.  \n",
    "We want the output of the Neural Network to resemble the probability distribution $p(\\text{label } y | x)$ (read: probability of label y, given example x).  \n",
    "While the mean square error does also achieve notable success, there is a better measure to quantify the _distance_ between probability distributions,  \n",
    "given by the so-called Kullback–Leibler divergence\n",
    "$$D_\\text{KL}(p || q) = \\sum_i p_i \\log(p_i/q_i).$$\n",
    "We associate the distribution $p$ with the labels $y$ that are given by the dataset, and $q$ with the prediction of the neural network, that we now call $y^\\text{NN}$.  \n",
    "\n",
    "Upon close inspection and using the rules for logarithms $\\log(x/y) = \\log(x) - \\log(y)$ you find that this can be re-written as\n",
    "$$D_\\text{KL}(y || y^\\text{NN}) = \\sum_i y_i (\\log(y_i) - \\log(y^\\text{NN}_i)) = \\sum_i y_i \\log(y_i) - \\sum_i y_i \\log(y^\\text{NN}_i).$$\n",
    "We see that the left part of this quantity is independent of the network parameters, so any derivatives of it would be $0$.  \n",
    "We therefore only take the right hand side as the loss function and define the so-called cross-entropy loss function\n",
    "$$\\text{CrossEntropyLoss} = - \\sum_i y_i \\log(y^\\text{NN}_i)$$\n",
    "Note that the label vector $y$ is always $1$ for the right category and $0$ everywhere else. So we are actually dealing, once again,  \n",
    "minimizing the negative log likelihood $-\\log(p(\\text{label } y | x))$\n",
    "\n",
    "Further, note that pytorch automatically applies a softmax to your NN output if you use `nn.CrossEntropyLoss()`, so there is no need to explicitly put it.  \n",
    "Alternatively, you can use `nn.NLLLoss()` + `LogSoftmax` on the last layer (try it out and see if you get the same results for a random but fixed tensor)."
   ]
  },
  {
   "cell_type": "code",
   "execution_count": 14,
   "id": "7dc4df68-8be9-4c8a-bf46-53332aa00905",
   "metadata": {
    "id": "7dc4df68-8be9-4c8a-bf46-53332aa00905"
   },
   "outputs": [],
   "source": [
    "loss_fn = nn.NLLLoss() # nn.CrossEntropyLoss() # nn.MSELoss() # mean squared error (MSE) loss\n",
    "optimizer = torch.optim.SGD(model.parameters(), lr=1e-3) # stochastic gradient descent (SGD) optimizer"
   ]
  },
  {
   "cell_type": "markdown",
   "id": "916aca8b-d216-431d-8dc3-273c69d048b2",
   "metadata": {},
   "source": [
    "So far we have ignored the GPU acceleration. We want to make use of it during training. For this we need to tell torch to load the tensors and models onto the GPU and execute it there (as opposed to natively on the CPU). This can be done via the `to(device)` method for tensors and models."
   ]
  },
  {
   "cell_type": "code",
   "execution_count": 21,
   "id": "2c4ead5a-0c9c-40cd-a5a4-322a08633990",
   "metadata": {},
   "outputs": [
    {
     "name": "stderr",
     "output_type": "stream",
     "text": [
      "/home/qottmann/anaconda3/envs/test/lib/python3.8/site-packages/torch/cuda/__init__.py:146: UserWarning: \n",
      "NVIDIA GeForce RTX 3050 Ti Laptop GPU with CUDA capability sm_86 is not compatible with the current PyTorch installation.\n",
      "The current PyTorch install supports CUDA capabilities sm_37 sm_50 sm_60 sm_70.\n",
      "If you want to use the NVIDIA GeForce RTX 3050 Ti Laptop GPU GPU with PyTorch, please check the instructions at https://pytorch.org/get-started/locally/\n",
      "\n",
      "  warnings.warn(incompatible_device_warn.format(device_name, capability, \" \".join(arch_list), device_name))\n"
     ]
    }
   ],
   "source": [
    "device = \"cuda\" # cuda is the name of the NVIDIA drivers for the GPU and have become synonymous with GPUs in the ML world.\n",
    "model = model.to(device)"
   ]
  },
  {
   "cell_type": "code",
   "execution_count": 15,
   "id": "9ceab6ae-e524-4203-b9e4-01fa1ac963bd",
   "metadata": {
    "id": "9ceab6ae-e524-4203-b9e4-01fa1ac963bd"
   },
   "outputs": [],
   "source": [
    "def train(dataloader, model, loss_fn, optimizer):\n",
    "    size = len(dataloader.dataset)\n",
    "    model.train()\n",
    "    correct = 0\n",
    "    for batch, (X, y) in enumerate(dataloader):\n",
    "        X, y = X.to(device), y.to(device)\n",
    "\n",
    "        # Compute prediction error\n",
    "        pred = model(X)\n",
    "        loss = loss_fn(pred, y)\n",
    "        correct += (pred.argmax(1) == y).type(torch.float).sum().item()\n",
    "\n",
    "        # Backpropagation\n",
    "        optimizer.zero_grad()\n",
    "        loss.backward()\n",
    "        optimizer.step()\n",
    "\n",
    "        if batch % 2 == 0:\n",
    "            loss, current = loss.item(), batch * len(X)\n",
    "            #print(f\"loss: {loss:>7f}  [{current:>5d}/{size:>5d}]\")\n",
    "\n",
    "    # compute accuracy\n",
    "    train_acc = correct/size * 100\n",
    "    return loss, train_acc\n",
    "\n",
    "def test(dataloader, model, loss_fn):\n",
    "    size = len(dataloader.dataset)\n",
    "    num_batches = len(dataloader)\n",
    "    model.eval()\n",
    "    test_loss, correct = 0, 0\n",
    "    with torch.no_grad():\n",
    "        for X, y in dataloader:\n",
    "            X, y = X.to(device), y.to(device)\n",
    "            pred = model(X)\n",
    "            test_loss += loss_fn(pred, y).item()\n",
    "            correct += (pred.argmax(1) == y).type(torch.float).sum().item()\n",
    "    test_loss /= num_batches\n",
    "    correct /= size\n",
    "    test_acc = 100*correct\n",
    "    print(f\"Test Error: Accuracy: {(100*correct):>0.1f}%, Avg loss: {test_loss:>8f}\")\n",
    "    return test_loss, test_acc\n",
    "\n"
   ]
  },
  {
   "cell_type": "code",
   "execution_count": 16,
   "id": "272a0ee2-08f4-486d-9319-09aecdfb1217",
   "metadata": {
    "colab": {
     "base_uri": "https://localhost:8080/"
    },
    "id": "272a0ee2-08f4-486d-9319-09aecdfb1217",
    "outputId": "2d705e6b-5346-4c69-f169-784c2c67b65d"
   },
   "outputs": [
    {
     "name": "stdout",
     "output_type": "stream",
     "text": [
      "Epoch 1\n",
      "Test Error: Accuracy: 21.3%, Avg loss: -1.122009\n",
      "Epoch 2\n",
      "Test Error: Accuracy: 9.8%, Avg loss:      nan\n",
      "Done!\n"
     ]
    }
   ],
   "source": [
    "epochs = 2\n",
    "train_losss, train_accs = [], []\n",
    "test_losss, test_accs = [], []\n",
    "for t in range(epochs):\n",
    "    print(f\"Epoch {t+1}\")\n",
    "    train_loss, train_acc = train(train_dataloader, model, loss_fn, optimizer)\n",
    "    test_loss, test_acc = test(test_dataloader, model, loss_fn)\n",
    "    train_losss.append(train_loss)\n",
    "    train_accs.append(train_acc)\n",
    "    test_losss.append(test_loss)\n",
    "    test_accs.append(test_acc)\n",
    "print(\"Done!\")"
   ]
  },
  {
   "cell_type": "code",
   "execution_count": null,
   "id": "8KjG1z-b30Bf",
   "metadata": {
    "id": "8KjG1z-b30Bf"
   },
   "outputs": [],
   "source": [
    "train_losss = torch.tensor(train_losss).cpu()\n",
    "train_accs = torch.tensor(train_accs).cpu()\n",
    "test_losss = torch.tensor(test_losss).cpu()\n",
    "test_accs = torch.tensor(test_accs).cpu()"
   ]
  },
  {
   "cell_type": "code",
   "execution_count": null,
   "id": "2a7c349d-1c58-4672-883c-07c635f7ad42",
   "metadata": {
    "colab": {
     "base_uri": "https://localhost:8080/",
     "height": 368
    },
    "id": "2a7c349d-1c58-4672-883c-07c635f7ad42",
    "outputId": "32eec703-927a-4975-8594-0a7517502e78"
   },
   "outputs": [
    {
     "data": {
      "text/plain": [
       "<matplotlib.legend.Legend at 0x7f7bda418410>"
      ]
     },
     "execution_count": 30,
     "metadata": {},
     "output_type": "execute_result"
    },
    {
     "data": {
      "image/png": "[encoded data removed]",
      "text/plain": [
       "<Figure size 720x360 with 2 Axes>"
      ]
     },
     "metadata": {
      "needs_background": "light"
     },
     "output_type": "display_data"
    }
   ],
   "source": [
    "fig, axs = plt.subplots(figsize=(10,5), ncols=2)\n",
    "\n",
    "ax = axs[0]\n",
    "ax.plot(train_losss.cpu(), label=\"train\")\n",
    "ax.plot(test_losss.cpu(), \"x-\", label=\"test\")\n",
    "\n",
    "ax.set_title(\"loss\")\n",
    "ax.set_xlabel(\"epoch\")\n",
    "ax.legend()\n",
    "\n",
    "ax = axs[1]\n",
    "ax.plot(train_accs.cpu(), label=\"train\")\n",
    "ax.plot(test_accs.cpu(), \"x-\", label=\"test\")\n",
    "\n",
    "ax.set_title(\"accuracy\")\n",
    "ax.set_xlabel(\"epoch\")\n",
    "ax.legend()"
   ]
  },
  {
   "cell_type": "markdown",
   "id": "19862422-025e-44c8-97e7-a9b693f58ace",
   "metadata": {},
   "source": [
    "Check the predictions manually"
   ]
  },
  {
   "cell_type": "code",
   "execution_count": null,
   "id": "bebcfdbe-e489-4a12-a860-1086b67135ff",
   "metadata": {
    "id": "bebcfdbe-e489-4a12-a860-1086b67135ff"
   },
   "outputs": [],
   "source": [
    "model0 = model.to(\"cpu\")"
   ]
  },
  {
   "cell_type": "code",
   "execution_count": null,
   "id": "5UpY_SzE8oY9",
   "metadata": {
    "colab": {
     "base_uri": "https://localhost:8080/",
     "height": 158
    },
    "id": "5UpY_SzE8oY9",
    "outputId": "85f84f51-c382-43ce-8550-faa3072497c6"
   },
   "outputs": [
    {
     "data": {
      "image/png": "[encoded data removed]",
      "text/plain": [
       "<Figure size 1440x288 with 10 Axes>"
      ]
     },
     "metadata": {
      "needs_background": "light"
     },
     "output_type": "display_data"
    }
   ],
   "source": [
    "fig, axs = plt.subplots(ncols=10, figsize=(20, 4))\n",
    "for i, pick in enumerate(np.random.randint(len(test_data),size=10)):\n",
    "    ax = axs[i]\n",
    "    ax.imshow(test_data[pick][0][0][0, :, :], cmap=\"Greys\")\n",
    "    pred = model0(test_data[pick: pick+1][0][0][0]).argmax()\n",
    "    ax.set_title(f\"label: {test_data[pick][1][0]}, pred: {pred}\")"
   ]
  },
  {
   "cell_type": "markdown",
   "id": "0d5129f1-d211-4c21-bc6d-4a830d2276f3",
   "metadata": {
    "id": "VBOkGjQy9hpj"
   },
   "source": [
    "Ex1: Compare performance using CPU vs GPU. You can use `time` or `datetime` for outputting the current time.  "
   ]
  },
  {
   "cell_type": "markdown",
   "id": "9e37d73c-11e0-419f-a882-d0096d1a832b",
   "metadata": {},
   "source": [
    "Ex2: Further improve the training by using ADAM optimizer."
   ]
  },
  {
   "cell_type": "code",
   "execution_count": null,
   "id": "75b052e1-fb88-442e-af20-3827db670c8a",
   "metadata": {},
   "outputs": [],
   "source": []
  }
 ],
 "metadata": {
  "accelerator": "GPU",
  "colab": {
   "provenance": []
  },
  "kernelspec": {
   "display_name": "Python 3 (ipykernel)",
   "language": "python",
   "name": "python3"
  },
  "language_info": {
   "codemirror_mode": {
    "name": "ipython",
    "version": 3
   },
   "file_extension": ".py",
   "mimetype": "text/x-python",
   "name": "python",
   "nbconvert_exporter": "python",
   "pygments_lexer": "ipython3",
   "version": "3.8.13"
  }
 },
 "nbformat": 4,
 "nbformat_minor": 5
}
