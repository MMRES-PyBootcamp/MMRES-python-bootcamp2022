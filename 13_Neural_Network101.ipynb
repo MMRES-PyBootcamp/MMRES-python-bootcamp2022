{
 "cells": [
  {
   "cell_type": "markdown",
   "id": "5d487747-246d-43d3-954a-0c08fdae2d05",
   "metadata": {
    "colab_type": "text",
    "id": "view-in-github"
   },
   "source": [
    "<a href=\"https://colab.research.google.com/github/MMRES-PyBootcamp/MMRES-python-bootcamp2022/blob/main/13_Neural_Network101.ipynb\" target=\"_parent\"><img src=\"https://colab.research.google.com/assets/colab-badge.svg\" alt=\"Open In Colab\"/></a>"
   ]
  },
  {
   "cell_type": "markdown",
   "id": "524b3698-f2fb-4c06-ac9d-ffcf43d01d97",
   "metadata": {},
   "source": [
    "# Part I: Fully conected Neural Networks\n",
    "In the introduction we got to know the basic fully-connected neural network architecture.  \n",
    "We will revisit it later in our session about backpropagation more detail.  \n",
    "Here, we first look at how to implement such a neural network in `torch` (or PyTorch),  \n",
    "one of the leading automatic differentiation platforms for machine learning and AI.\n",
    "\n",
    "Contemporary alternatives are [JAX](https://jax.readthedocs.io/en/latest/) and [TensorFlow](https://www.tensorflow.org/),  \n",
    "which are backed by google and both have their advantages and disadvantages. All libraries are able to perform the tasks  \n",
    "we are looking at, and it is solely a matter of preference which one we choose."
   ]
  },
  {
   "cell_type": "code",
   "execution_count": 1,
   "id": "e297d74b-28cb-4403-82c3-70917fbf7855",
   "metadata": {},
   "outputs": [
    {
     "name": "stderr",
     "output_type": "stream",
     "text": [
      "/home/qottmann/anaconda3/envs/test/lib/python3.8/site-packages/tqdm/auto.py:22: TqdmWarning: IProgress not found. Please update jupyter and ipywidgets. See https://ipywidgets.readthedocs.io/en/stable/user_install.html\n",
      "  from .autonotebook import tqdm as notebook_tqdm\n"
     ]
    }
   ],
   "source": [
    "import torch\n",
    "from torch import nn"
   ]
  },
  {
   "cell_type": "markdown",
   "id": "c4bd1c9a-2dc5-4d67-93b8-54f198760414",
   "metadata": {},
   "source": [
    "To build a neural network in (py)torch, you are expected to fill a \"template\" class  \n",
    "that has a `__init__` and `forward` method. This varies for different machine learning  \n",
    "frameworks, but the overall logic is the same."
   ]
  },
  {
   "cell_type": "code",
   "execution_count": 53,
   "id": "57c9db8d-b0ee-4d3e-b5a6-124b85c41d6f",
   "metadata": {},
   "outputs": [],
   "source": [
    "in_dim = 28*28\n",
    "out_dim = 10\n",
    "\n",
    "class NeuralNetwork(nn.Module):\n",
    "    def __init__(self):\n",
    "        super(NeuralNetwork, self).__init__()\n",
    "        self.flatten = nn.Flatten()\n",
    "        self.neural_network = nn.Sequential(\n",
    "            nn.Linear(in_dim, 512),  # input dimension, hidden1 dimension\n",
    "            nn.ReLU(),               # Non-linear activation function\n",
    "            nn.Linear(512, 512),     # hidden1 dimension, hidden2 dimension\n",
    "            nn.ReLU(),               # Non-linear activation function\n",
    "            nn.Linear(512, out_dim), # hidden2 dimension, output dimension\n",
    "            #nn.Softmax(dim=1)        # special output activation function\n",
    "        )\n",
    "\n",
    "    def forward(self, x):\n",
    "        x = self.flatten(x)          # input data preparation\n",
    "        output = self.neural_network(x)\n",
    "        return output"
   ]
  },
  {
   "cell_type": "code",
   "execution_count": 54,
   "id": "abe9e013-74ff-4b10-b2be-fd03becbc7e2",
   "metadata": {},
   "outputs": [
    {
     "name": "stdout",
     "output_type": "stream",
     "text": [
      "NeuralNetwork(\n",
      "  (flatten): Flatten(start_dim=1, end_dim=-1)\n",
      "  (neural_network): Sequential(\n",
      "    (0): Linear(in_features=784, out_features=512, bias=True)\n",
      "    (1): ReLU()\n",
      "    (2): Linear(in_features=512, out_features=512, bias=True)\n",
      "    (3): ReLU()\n",
      "    (4): Linear(in_features=512, out_features=10, bias=True)\n",
      "  )\n",
      ")\n"
     ]
    }
   ],
   "source": [
    "model = NeuralNetwork()\n",
    "print(model)"
   ]
  },
  {
   "cell_type": "markdown",
   "id": "66ab69d8-01f7-41af-910a-6fc955a0f65d",
   "metadata": {},
   "source": [
    "For parallelization, PyTorch (and other ML frameworks) are built to process data in batches.  \n",
    "Therefore, the input is always assumed to have the first dimension to be the `batch_size`.  \n",
    "If we want to process a single input, we need to accont for a dummy dimension `batch_size=1`.  "
   ]
  },
  {
   "cell_type": "code",
   "execution_count": 55,
   "id": "96a0a90f-2061-47a7-8c73-0d2819e5bfe9",
   "metadata": {},
   "outputs": [],
   "source": [
    "try:\n",
    "    X = torch.rand(in_dim)\n",
    "    output = model(X) # results in an error\n",
    "except:\n",
    "    X = torch.rand(1, in_dim)\n",
    "    output = model(X)"
   ]
  },
  {
   "cell_type": "code",
   "execution_count": 56,
   "id": "cd46f0ad-d3ed-46d2-9d2b-a0493069f1f3",
   "metadata": {},
   "outputs": [
    {
     "data": {
      "text/plain": [
       "torch.Size([1, 10])"
      ]
     },
     "execution_count": 56,
     "metadata": {},
     "output_type": "execute_result"
    }
   ],
   "source": [
    "output.shape"
   ]
  },
  {
   "cell_type": "markdown",
   "id": "4b6b4ae2-44d3-4d74-bbea-951715d745c4",
   "metadata": {},
   "source": [
    "E1: Due to the `flatten` function in the forward pass, the input is rather flexible, try inputting alternatively shaped tensors. What is the constraint that needs to be fulfilled?    \n",
    "Here is one example:"
   ]
  },
  {
   "cell_type": "code",
   "execution_count": 57,
   "id": "08ea8826-5566-405f-be65-be7d483b9884",
   "metadata": {},
   "outputs": [
    {
     "data": {
      "text/plain": [
       "tensor([[ 0.0053, -0.0237,  0.0093, -0.0687,  0.0061,  0.0333, -0.0068, -0.0198,\n",
       "          0.0557,  0.0745]], grad_fn=<AddmmBackward0>)"
      ]
     },
     "execution_count": 57,
     "metadata": {},
     "output_type": "execute_result"
    }
   ],
   "source": [
    "X = torch.rand(1, 2, 14, 28)\n",
    "model(X)"
   ]
  },
  {
   "cell_type": "markdown",
   "id": "dd149842-c9d8-404a-a9cf-165197674ae8",
   "metadata": {},
   "source": [
    "E2: We want the output of our NN to be the probability distribution for `out_dim = 7` different categories.  \n",
    "Modify the network such that the output resembles a proper probability distribution, i.e. that \n",
    "$$\\sum_{i=1}^\\text{out_dim} p_i = 1$$ \n",
    "and $1\\geq p_i \\geq 0$"
   ]
  },
  {
   "cell_type": "code",
   "execution_count": 58,
   "id": "a39c0ea4-215f-434a-81d9-08687acfb72d",
   "metadata": {},
   "outputs": [
    {
     "data": {
      "text/plain": [
       "tensor(False)"
      ]
     },
     "execution_count": 58,
     "metadata": {},
     "output_type": "execute_result"
    }
   ],
   "source": [
    "torch.isclose(torch.sum(model(X)), torch.tensor(1.))"
   ]
  },
  {
   "cell_type": "code",
   "execution_count": 59,
   "id": "27bb0f62-bd08-4b92-92c4-aa59431b67ac",
   "metadata": {},
   "outputs": [
    {
     "data": {
      "text/plain": [
       "tensor(False)"
      ]
     },
     "execution_count": 59,
     "metadata": {},
     "output_type": "execute_result"
    }
   ],
   "source": [
    "torch.all(model(X)>0)"
   ]
  },
  {
   "cell_type": "markdown",
   "id": "91b3c46b-641e-4622-a41b-4595040e6613",
   "metadata": {},
   "source": [
    "(Note that you can use most of the standard `numpy` functions in torch)  \n",
    "Hint: Look up the so-called softmax function $\\text{Softmax}: \\mathbb{R}^m \\mapsto \\mathbb{R}^m$\n",
    "$$\n",
    "\\left(\\text{Softmax}(x)\\right)_i = \\frac{e^{x_i}}{\\sum_{j=1}^m e^{x_j}}\n",
    "$$\n",
    "for $x \\in \\mathbb{R}^m$"
   ]
  },
  {
   "cell_type": "markdown",
   "id": "903d52c2-46a3-4a0d-96ef-f2ebd9eb7ece",
   "metadata": {},
   "source": [
    "# Part II: Backpropagation\n",
    "We understand the _forward pass_ of a neural network, now it is time to learn how to optimize it. Curiosly, this is done in a similar fashion but in the reverse direction through a _backward pass_ via an algorithm called backpropagation. One of the big benefits of modern machine learning libraries like `torch` is they automatically perform this task for us. Still, we should know what is going on under the hood for a deeper understanding.\n",
    "\n",
    "\n",
    "For this, we introduce the vector form of the forward pass in terms of the activation\n",
    "$$a^\\ell = f(z^\\ell)$$\n",
    "with weighted inputs\n",
    "$$z^\\ell = w^\\ell a^{\\ell-1} + b^\\ell.$$\n",
    "Note that all quantities are vectors, except for $w^\\ell$, which is a matrix.  \n",
    "The function $f$ may be different for each layer, though for simplicity we do not specify this explicitly.  \n",
    "The over output of the network is given by\n",
    "$$a^L = f(z^L) = f(w^L f(z^{L-1}) + b^L) =..,$$\n",
    "a nested function of multiple activations and matrix multiplications.\n",
    "\n",
    "One of many possible choices for a loss function is the $\\ell^2$ norm\n",
    "$$C = \\frac{1}{2n} \\sum_x ||y(x) - a^L(x)||^2.$$\n",
    "Here, $a^L$ is the activation of the last layer, i.e. the NN output, and $y(x)$ is the label of the example $x$.  \n",
    "For example, for binary classification (2 classes), $y(x)=(1,0)$ or $y(x)=(0,1)$, depending which class the example belongs to.\n",
    "\n",
    "Our goal is it to minimize this loss function to achieve faithful predictions. This is done via so-called gradient descent.  \n",
    "The idea is to change the trainable parameters of the neural network, $w$ and $b$, in the direction of steepest descent, which is exactly the gradient.  \n",
    "We update the parameters according to\n",
    "$$b^\\ell \\mapsto b^\\ell - \\alpha \\nabla_{b^\\ell} C$$\n",
    "$$w^\\ell \\mapsto b^\\ell - \\alpha \\nabla_{w^\\ell} C$$\n",
    "where $\\alpha$ is a so-called hyper parameter, the learning rate, set by the user. This update rule is repeated many times until a minimum is reached.  \n",
    "In practice we use more involved optimization routines that take  \n",
    "the trajectory of past updates\n",
    "\n",
    "We follow the derivation of the gradient of $C$ based on [Neural Networks and Deep Learning](http://neuralnetworksanddeeplearning.com/chap2.html) and find the equations for backpropagation:\n",
    "\n",
    "$$\\delta^L = \\nabla_aC \\odot f'(z^L)$$\n",
    "$$\\delta^\\ell = \\left((w^{\\ell + 1})^T \\delta^{\\ell+1} \\right) \\odot f'(z^\\ell)$$\n",
    "$$\\frac{\\partial C}{\\partial b^\\ell_j} = \\delta^\\ell_j $$\n",
    "$$\\frac{\\partial C}{\\partial w^\\ell_{jk}} = a^{\\ell-1}_k \\delta^\\ell_j$$\n",
    "\n",
    "Where in the case of the $\\ell^2$ norm above, $\\nabla_a C = \\frac{1}{n} \\sum_x \\sum_i (y_i(x) - a_i(x))$."
   ]
  },
  {
   "cell_type": "markdown",
   "id": "caf9b807-9047-4e53-a071-0ac92cce9427",
   "metadata": {},
   "source": [
    "Ex: For a forward pass with $x=(1,0)$,\n",
    "$w^1 = \\begin{pmatrix}\n",
    "1 & 2 \\\\\n",
    "1 & 2 \\\\\n",
    "1 & 2 \n",
    "\\end{pmatrix}$, $w^2 = \\begin{pmatrix}\n",
    "-1 & -1 & -1\\\\\n",
    "2 & 2 & 2\n",
    "\\end{pmatrix}$, $y=(1,0)$, and $f(x)=|x|$ (element-wise), compute $\\frac{\\partial}{\\partial w^1_{1,1}} C$ and $\\frac{\\partial}{\\partial w^1_{1,2}} C$"
   ]
  },
  {
   "cell_type": "code",
   "execution_count": 60,
   "id": "5602bc6a-869f-4f5e-a8d8-a7f85ccc1950",
   "metadata": {},
   "outputs": [],
   "source": [
    "from torchvision import datasets\n",
    "from torchvision.transforms import ToTensor\n",
    "\n",
    "# Download training data from open datasets.\n",
    "training_data = datasets.MNIST(\n",
    "    root=\"data\",\n",
    "    train=True,\n",
    "    download=True,\n",
    "    transform=ToTensor(),\n",
    ")\n",
    "\n",
    "# Download test data from open datasets.\n",
    "test_data = datasets.MNIST(\n",
    "    root=\"data\",\n",
    "    train=False,\n",
    "    download=True,\n",
    "    transform=ToTensor(),\n",
    ")"
   ]
  },
  {
   "cell_type": "code",
   "execution_count": 61,
   "id": "905341c1-8754-4ffe-b8e0-3a8fe33711f0",
   "metadata": {},
   "outputs": [
    {
     "name": "stdout",
     "output_type": "stream",
     "text": [
      "Shape of X [batch_size, color_channel, height, width]: torch.Size([64, 1, 28, 28])\n",
      "Shape of y: torch.Size([64]) torch.int64\n"
     ]
    }
   ],
   "source": [
    "from torch.utils.data import DataLoader\n",
    "\n",
    "batch_size = 64\n",
    "\n",
    "# Create data loaders.\n",
    "train_dataloader = DataLoader(training_data, batch_size=batch_size)\n",
    "test_dataloader = DataLoader(test_data, batch_size=batch_size)\n",
    "\n",
    "for X, y in test_dataloader:\n",
    "    print(f\"Shape of X [batch_size, color_channel, height, width]: {X.shape}\")\n",
    "    print(f\"Shape of y: {y.shape} {y.dtype}\")\n",
    "    break"
   ]
  },
  {
   "cell_type": "code",
   "execution_count": 62,
   "id": "b2a6b3aa-1f12-4cc1-9166-bf662004bb4c",
   "metadata": {},
   "outputs": [],
   "source": [
    "from matplotlib import pyplot as plt\n",
    "import numpy as np\n",
    "\n",
    "# technically you should not do the following because it defeats the purpose of having the data loader in the first place\n",
    "test_data = list(test_dataloader)"
   ]
  },
  {
   "cell_type": "code",
   "execution_count": 63,
   "id": "54f6ee7b-3e61-4884-9a54-a527dd1da532",
   "metadata": {},
   "outputs": [
    {
     "data": {
      "image/png": "[encoded data removed]",
      "text/plain": [
       "<Figure size 1500x400 with 10 Axes>"
      ]
     },
     "metadata": {},
     "output_type": "display_data"
    }
   ],
   "source": [
    "fig, axs = plt.subplots(ncols=10, figsize=(15, 4))\n",
    "for i, pick in enumerate(np.random.randint(len(test_data),size=10)):\n",
    "    ax = axs[i]\n",
    "    ax.imshow(test_data[pick][0][0][0, :, :])\n",
    "    ax.set_title(f\"label: {test_data[pick][1][0]}\")"
   ]
  },
  {
   "cell_type": "code",
   "execution_count": 75,
   "id": "7dc4df68-8be9-4c8a-bf46-53332aa00905",
   "metadata": {},
   "outputs": [],
   "source": [
    "loss_fn = nn.CrossEntropyLoss() # nn.MSELoss() # mean squared error (MSE) loss\n",
    "optimizer = torch.optim.SGD(model.parameters(), lr=1e-3) # stochastic gradient descent (SGD) optimizer"
   ]
  },
  {
   "cell_type": "code",
   "execution_count": 76,
   "id": "9ceab6ae-e524-4203-b9e4-01fa1ac963bd",
   "metadata": {},
   "outputs": [],
   "source": [
    "def train(dataloader, model, loss_fn, optimizer):\n",
    "    size = len(dataloader.dataset)\n",
    "    model.train()\n",
    "    correct = 0\n",
    "    for batch, (X, y) in enumerate(dataloader):\n",
    "        X, y = X.to(device), y.to(device)\n",
    "\n",
    "        # Compute prediction error\n",
    "        pred = model(X)\n",
    "        loss = loss_fn(pred, y)\n",
    "        correct += (pred.argmax(1) == y).type(torch.float).sum().item()\n",
    "\n",
    "        # Backpropagation\n",
    "        optimizer.zero_grad()\n",
    "        loss.backward()\n",
    "        optimizer.step()\n",
    "\n",
    "        if batch % 2 == 0:\n",
    "            loss, current = loss.item(), batch * len(X)\n",
    "            #print(f\"loss: {loss:>7f}  [{current:>5d}/{size:>5d}]\")\n",
    "\n",
    "    # compute accuracy\n",
    "    train_acc = correct/size * 100\n",
    "    return loss, train_acc\n",
    "\n",
    "def test(dataloader, model, loss_fn):\n",
    "    size = len(dataloader.dataset)\n",
    "    num_batches = len(dataloader)\n",
    "    model.eval()\n",
    "    test_loss, correct = 0, 0\n",
    "    with torch.no_grad():\n",
    "        for X, y in dataloader:\n",
    "            X, y = X.to(device), y.to(device)\n",
    "            pred = model(X)\n",
    "            test_loss += loss_fn(pred, y).item()\n",
    "            correct += (pred.argmax(1) == y).type(torch.float).sum().item()\n",
    "    test_loss /= num_batches\n",
    "    correct /= size\n",
    "    test_acc = 100*correct\n",
    "    print(f\"Test Error: Accuracy: {(100*correct):>0.1f}%, Avg loss: {test_loss:>8f}\")\n",
    "    return test_loss, test_acc\n",
    "\n"
   ]
  },
  {
   "cell_type": "code",
   "execution_count": 77,
   "id": "272a0ee2-08f4-486d-9319-09aecdfb1217",
   "metadata": {},
   "outputs": [
    {
     "name": "stdout",
     "output_type": "stream",
     "text": [
      "Epoch 1\n",
      "Test Error: Accuracy: 78.0%, Avg loss: 1.253924\n",
      "Epoch 2\n"
     ]
    },
    {
     "ename": "KeyboardInterrupt",
     "evalue": "",
     "output_type": "error",
     "traceback": [
      "\u001b[0;31m---------------------------------------------------------------------------\u001b[0m",
      "\u001b[0;31mKeyboardInterrupt\u001b[0m                         Traceback (most recent call last)",
      "Cell \u001b[0;32mIn [77], line 7\u001b[0m\n\u001b[1;32m      5\u001b[0m \u001b[38;5;28mprint\u001b[39m(\u001b[38;5;124mf\u001b[39m\u001b[38;5;124m\"\u001b[39m\u001b[38;5;124mEpoch \u001b[39m\u001b[38;5;132;01m{\u001b[39;00mt\u001b[38;5;241m+\u001b[39m\u001b[38;5;241m1\u001b[39m\u001b[38;5;132;01m}\u001b[39;00m\u001b[38;5;124m\"\u001b[39m)\n\u001b[1;32m      6\u001b[0m train_loss, train_acc \u001b[38;5;241m=\u001b[39m train(train_dataloader, model, loss_fn, optimizer)\n\u001b[0;32m----> 7\u001b[0m test_loss, test_acc \u001b[38;5;241m=\u001b[39m test(test_dataloader, model, loss_fn)\n\u001b[1;32m      8\u001b[0m train_losss\u001b[38;5;241m.\u001b[39mappend(train_loss)\n\u001b[1;32m      9\u001b[0m train_accs\u001b[38;5;241m.\u001b[39mappend(train_acc)\n",
      "Cell \u001b[0;32mIn [76], line 32\u001b[0m, in \u001b[0;36mtest\u001b[0;34m(dataloader, model, loss_fn)\u001b[0m\n\u001b[1;32m     30\u001b[0m test_loss, correct \u001b[38;5;241m=\u001b[39m \u001b[38;5;241m0\u001b[39m, \u001b[38;5;241m0\u001b[39m\n\u001b[1;32m     31\u001b[0m \u001b[38;5;28;01mwith\u001b[39;00m torch\u001b[38;5;241m.\u001b[39mno_grad():\n\u001b[0;32m---> 32\u001b[0m     \u001b[38;5;28;01mfor\u001b[39;00m X, y \u001b[38;5;129;01min\u001b[39;00m dataloader:\n\u001b[1;32m     33\u001b[0m         X, y \u001b[38;5;241m=\u001b[39m X\u001b[38;5;241m.\u001b[39mto(device), y\u001b[38;5;241m.\u001b[39mto(device)\n\u001b[1;32m     34\u001b[0m         pred \u001b[38;5;241m=\u001b[39m model(X)\n",
      "File \u001b[0;32m~/anaconda3/envs/test/lib/python3.8/site-packages/torch/utils/data/dataloader.py:681\u001b[0m, in \u001b[0;36m_BaseDataLoaderIter.__next__\u001b[0;34m(self)\u001b[0m\n\u001b[1;32m    678\u001b[0m \u001b[38;5;28;01mif\u001b[39;00m \u001b[38;5;28mself\u001b[39m\u001b[38;5;241m.\u001b[39m_sampler_iter \u001b[38;5;129;01mis\u001b[39;00m \u001b[38;5;28;01mNone\u001b[39;00m:\n\u001b[1;32m    679\u001b[0m     \u001b[38;5;66;03m# TODO(https://github.com/pytorch/pytorch/issues/76750)\u001b[39;00m\n\u001b[1;32m    680\u001b[0m     \u001b[38;5;28mself\u001b[39m\u001b[38;5;241m.\u001b[39m_reset()  \u001b[38;5;66;03m# type: ignore[call-arg]\u001b[39;00m\n\u001b[0;32m--> 681\u001b[0m data \u001b[38;5;241m=\u001b[39m \u001b[38;5;28;43mself\u001b[39;49m\u001b[38;5;241;43m.\u001b[39;49m\u001b[43m_next_data\u001b[49m\u001b[43m(\u001b[49m\u001b[43m)\u001b[49m\n\u001b[1;32m    682\u001b[0m \u001b[38;5;28mself\u001b[39m\u001b[38;5;241m.\u001b[39m_num_yielded \u001b[38;5;241m+\u001b[39m\u001b[38;5;241m=\u001b[39m \u001b[38;5;241m1\u001b[39m\n\u001b[1;32m    683\u001b[0m \u001b[38;5;28;01mif\u001b[39;00m \u001b[38;5;28mself\u001b[39m\u001b[38;5;241m.\u001b[39m_dataset_kind \u001b[38;5;241m==\u001b[39m _DatasetKind\u001b[38;5;241m.\u001b[39mIterable \u001b[38;5;129;01mand\u001b[39;00m \\\n\u001b[1;32m    684\u001b[0m         \u001b[38;5;28mself\u001b[39m\u001b[38;5;241m.\u001b[39m_IterableDataset_len_called \u001b[38;5;129;01mis\u001b[39;00m \u001b[38;5;129;01mnot\u001b[39;00m \u001b[38;5;28;01mNone\u001b[39;00m \u001b[38;5;129;01mand\u001b[39;00m \\\n\u001b[1;32m    685\u001b[0m         \u001b[38;5;28mself\u001b[39m\u001b[38;5;241m.\u001b[39m_num_yielded \u001b[38;5;241m>\u001b[39m \u001b[38;5;28mself\u001b[39m\u001b[38;5;241m.\u001b[39m_IterableDataset_len_called:\n",
      "File \u001b[0;32m~/anaconda3/envs/test/lib/python3.8/site-packages/torch/utils/data/dataloader.py:721\u001b[0m, in \u001b[0;36m_SingleProcessDataLoaderIter._next_data\u001b[0;34m(self)\u001b[0m\n\u001b[1;32m    719\u001b[0m \u001b[38;5;28;01mdef\u001b[39;00m \u001b[38;5;21m_next_data\u001b[39m(\u001b[38;5;28mself\u001b[39m):\n\u001b[1;32m    720\u001b[0m     index \u001b[38;5;241m=\u001b[39m \u001b[38;5;28mself\u001b[39m\u001b[38;5;241m.\u001b[39m_next_index()  \u001b[38;5;66;03m# may raise StopIteration\u001b[39;00m\n\u001b[0;32m--> 721\u001b[0m     data \u001b[38;5;241m=\u001b[39m \u001b[38;5;28;43mself\u001b[39;49m\u001b[38;5;241;43m.\u001b[39;49m\u001b[43m_dataset_fetcher\u001b[49m\u001b[38;5;241;43m.\u001b[39;49m\u001b[43mfetch\u001b[49m\u001b[43m(\u001b[49m\u001b[43mindex\u001b[49m\u001b[43m)\u001b[49m  \u001b[38;5;66;03m# may raise StopIteration\u001b[39;00m\n\u001b[1;32m    722\u001b[0m     \u001b[38;5;28;01mif\u001b[39;00m \u001b[38;5;28mself\u001b[39m\u001b[38;5;241m.\u001b[39m_pin_memory:\n\u001b[1;32m    723\u001b[0m         data \u001b[38;5;241m=\u001b[39m _utils\u001b[38;5;241m.\u001b[39mpin_memory\u001b[38;5;241m.\u001b[39mpin_memory(data, \u001b[38;5;28mself\u001b[39m\u001b[38;5;241m.\u001b[39m_pin_memory_device)\n",
      "File \u001b[0;32m~/anaconda3/envs/test/lib/python3.8/site-packages/torch/utils/data/_utils/fetch.py:49\u001b[0m, in \u001b[0;36m_MapDatasetFetcher.fetch\u001b[0;34m(self, possibly_batched_index)\u001b[0m\n\u001b[1;32m     47\u001b[0m \u001b[38;5;28;01mdef\u001b[39;00m \u001b[38;5;21mfetch\u001b[39m(\u001b[38;5;28mself\u001b[39m, possibly_batched_index):\n\u001b[1;32m     48\u001b[0m     \u001b[38;5;28;01mif\u001b[39;00m \u001b[38;5;28mself\u001b[39m\u001b[38;5;241m.\u001b[39mauto_collation:\n\u001b[0;32m---> 49\u001b[0m         data \u001b[38;5;241m=\u001b[39m [\u001b[38;5;28mself\u001b[39m\u001b[38;5;241m.\u001b[39mdataset[idx] \u001b[38;5;28;01mfor\u001b[39;00m idx \u001b[38;5;129;01min\u001b[39;00m possibly_batched_index]\n\u001b[1;32m     50\u001b[0m     \u001b[38;5;28;01melse\u001b[39;00m:\n\u001b[1;32m     51\u001b[0m         data \u001b[38;5;241m=\u001b[39m \u001b[38;5;28mself\u001b[39m\u001b[38;5;241m.\u001b[39mdataset[possibly_batched_index]\n",
      "File \u001b[0;32m~/anaconda3/envs/test/lib/python3.8/site-packages/torch/utils/data/_utils/fetch.py:49\u001b[0m, in \u001b[0;36m<listcomp>\u001b[0;34m(.0)\u001b[0m\n\u001b[1;32m     47\u001b[0m \u001b[38;5;28;01mdef\u001b[39;00m \u001b[38;5;21mfetch\u001b[39m(\u001b[38;5;28mself\u001b[39m, possibly_batched_index):\n\u001b[1;32m     48\u001b[0m     \u001b[38;5;28;01mif\u001b[39;00m \u001b[38;5;28mself\u001b[39m\u001b[38;5;241m.\u001b[39mauto_collation:\n\u001b[0;32m---> 49\u001b[0m         data \u001b[38;5;241m=\u001b[39m [\u001b[38;5;28;43mself\u001b[39;49m\u001b[38;5;241;43m.\u001b[39;49m\u001b[43mdataset\u001b[49m\u001b[43m[\u001b[49m\u001b[43midx\u001b[49m\u001b[43m]\u001b[49m \u001b[38;5;28;01mfor\u001b[39;00m idx \u001b[38;5;129;01min\u001b[39;00m possibly_batched_index]\n\u001b[1;32m     50\u001b[0m     \u001b[38;5;28;01melse\u001b[39;00m:\n\u001b[1;32m     51\u001b[0m         data \u001b[38;5;241m=\u001b[39m \u001b[38;5;28mself\u001b[39m\u001b[38;5;241m.\u001b[39mdataset[possibly_batched_index]\n",
      "File \u001b[0;32m~/anaconda3/envs/test/lib/python3.8/site-packages/torchvision/datasets/mnist.py:138\u001b[0m, in \u001b[0;36mMNIST.__getitem__\u001b[0;34m(self, index)\u001b[0m\n\u001b[1;32m    130\u001b[0m \u001b[38;5;28;01mdef\u001b[39;00m \u001b[38;5;21m__getitem__\u001b[39m(\u001b[38;5;28mself\u001b[39m, index: \u001b[38;5;28mint\u001b[39m) \u001b[38;5;241m-\u001b[39m\u001b[38;5;241m>\u001b[39m Tuple[Any, Any]:\n\u001b[1;32m    131\u001b[0m     \u001b[38;5;124;03m\"\"\"\u001b[39;00m\n\u001b[1;32m    132\u001b[0m \u001b[38;5;124;03m    Args:\u001b[39;00m\n\u001b[1;32m    133\u001b[0m \u001b[38;5;124;03m        index (int): Index\u001b[39;00m\n\u001b[0;32m   (...)\u001b[0m\n\u001b[1;32m    136\u001b[0m \u001b[38;5;124;03m        tuple: (image, target) where target is index of the target class.\u001b[39;00m\n\u001b[1;32m    137\u001b[0m \u001b[38;5;124;03m    \"\"\"\u001b[39;00m\n\u001b[0;32m--> 138\u001b[0m     img, target \u001b[38;5;241m=\u001b[39m \u001b[38;5;28;43mself\u001b[39;49m\u001b[38;5;241;43m.\u001b[39;49m\u001b[43mdata\u001b[49m\u001b[43m[\u001b[49m\u001b[43mindex\u001b[49m\u001b[43m]\u001b[49m, \u001b[38;5;28mint\u001b[39m(\u001b[38;5;28mself\u001b[39m\u001b[38;5;241m.\u001b[39mtargets[index])\n\u001b[1;32m    140\u001b[0m     \u001b[38;5;66;03m# doing this so that it is consistent with all other datasets\u001b[39;00m\n\u001b[1;32m    141\u001b[0m     \u001b[38;5;66;03m# to return a PIL Image\u001b[39;00m\n\u001b[1;32m    142\u001b[0m     img \u001b[38;5;241m=\u001b[39m Image\u001b[38;5;241m.\u001b[39mfromarray(img\u001b[38;5;241m.\u001b[39mnumpy(), mode\u001b[38;5;241m=\u001b[39m\u001b[38;5;124m\"\u001b[39m\u001b[38;5;124mL\u001b[39m\u001b[38;5;124m\"\u001b[39m)\n",
      "\u001b[0;31mKeyboardInterrupt\u001b[0m: "
     ]
    }
   ],
   "source": [
    "epochs = 20\n",
    "train_losss, train_accs = [], []\n",
    "test_losss, test_accs = [], []\n",
    "for t in range(epochs):\n",
    "    print(f\"Epoch {t+1}\")\n",
    "    train_loss, train_acc = train(train_dataloader, model, loss_fn, optimizer)\n",
    "    test_loss, test_acc = test(test_dataloader, model, loss_fn)\n",
    "    train_losss.append(train_loss)\n",
    "    train_accs.append(train_acc)\n",
    "    test_losss.append(test_loss)\n",
    "    test_accs.append(test_acc)\n",
    "print(\"Done!\")"
   ]
  },
  {
   "cell_type": "code",
   "execution_count": null,
   "id": "2a7c349d-1c58-4672-883c-07c635f7ad42",
   "metadata": {},
   "outputs": [],
   "source": [
    "fig, axs = plt.subplots(figsize=(10,5), ncols=2)\n",
    "\n",
    "ax = axs[0]\n",
    "ax.plot(train_losss, label=\"train\")\n",
    "ax.plot(test_losss, \"x-\", label=\"test\")\n",
    "\n",
    "ax.set_title(\"loss\")\n",
    "ax.set_xlabel(\"epoch\")\n",
    "ax.legend()\n",
    "\n",
    "ax = axs[1]\n",
    "ax.plot(train_accs, label=\"train\")\n",
    "ax.plot(test_accs, \"x-\", label=\"test\")\n",
    "\n",
    "ax.set_title(\"accuracy\")\n",
    "ax.set_xlabel(\"epoch\")\n",
    "ax.legend()"
   ]
  },
  {
   "cell_type": "code",
   "execution_count": 73,
   "id": "e9a49454-996d-4c78-9b86-159692e5ca7a",
   "metadata": {},
   "outputs": [],
   "source": [
    "device = \"cuda\" if torch.cuda.is_available() else \"cpu\"\n",
    "device = \"cpu\""
   ]
  },
  {
   "cell_type": "code",
   "execution_count": 74,
   "id": "aa969134-6741-41e5-aecb-56e0536b366e",
   "metadata": {},
   "outputs": [
    {
     "name": "stdout",
     "output_type": "stream",
     "text": [
      "Epoch 1\n",
      "-------------------------------\n",
      "loss: 2.297947  [    0/60000]\n",
      "loss: 2.299465  [ 6400/60000]\n",
      "loss: 2.292983  [12800/60000]\n",
      "loss: 2.284586  [19200/60000]\n",
      "loss: 2.278223  [25600/60000]\n",
      "loss: 2.280162  [32000/60000]\n",
      "loss: 2.269141  [38400/60000]\n",
      "loss: 2.281395  [44800/60000]\n",
      "loss: 2.260871  [51200/60000]\n",
      "loss: 2.252883  [57600/60000]\n",
      "Test Error: \n",
      " Accuracy: 39.1%, Avg loss: 2.253733 \n",
      "\n",
      "Epoch 2\n",
      "-------------------------------\n",
      "loss: 2.250625  [    0/60000]\n",
      "loss: 2.248637  [ 6400/60000]\n",
      "loss: 2.250579  [12800/60000]\n",
      "loss: 2.222542  [19200/60000]\n",
      "loss: 2.227488  [25600/60000]\n",
      "loss: 2.230035  [32000/60000]\n",
      "loss: 2.206382  [38400/60000]\n",
      "loss: 2.232095  [44800/60000]\n",
      "loss: 2.197662  [51200/60000]\n",
      "loss: 2.182797  [57600/60000]\n",
      "Test Error: \n",
      " Accuracy: 56.4%, Avg loss: 2.185726 \n",
      "\n",
      "Epoch 3\n",
      "-------------------------------\n",
      "loss: 2.181756  [    0/60000]\n",
      "loss: 2.173243  [ 6400/60000]\n",
      "loss: 2.185223  [12800/60000]\n",
      "loss: 2.129055  [19200/60000]\n",
      "loss: 2.144519  [25600/60000]\n",
      "loss: 2.147302  [32000/60000]\n",
      "loss: 2.105036  [38400/60000]\n",
      "loss: 2.145507  [44800/60000]\n",
      "loss: 2.090215  [51200/60000]\n",
      "loss: 2.066619  [57600/60000]\n",
      "Test Error: \n",
      " Accuracy: 63.0%, Avg loss: 2.068863 \n",
      "\n",
      "Epoch 4\n",
      "-------------------------------\n",
      "loss: 2.064162  [    0/60000]\n",
      "loss: 2.042694  [ 6400/60000]\n",
      "loss: 2.071392  [12800/60000]\n",
      "loss: 1.970564  [19200/60000]\n",
      "loss: 1.996390  [25600/60000]\n",
      "loss: 1.999000  [32000/60000]\n",
      "loss: 1.933044  [38400/60000]\n",
      "loss: 1.993855  [44800/60000]\n",
      "loss: 1.905854  [51200/60000]\n",
      "loss: 1.869275  [57600/60000]\n",
      "Test Error: \n",
      " Accuracy: 69.2%, Avg loss: 1.867323 \n",
      "\n",
      "Epoch 5\n",
      "-------------------------------\n",
      "loss: 1.865751  [    0/60000]\n",
      "loss: 1.821033  [ 6400/60000]\n",
      "loss: 1.871470  [12800/60000]\n",
      "loss: 1.716543  [19200/60000]\n",
      "loss: 1.745756  [25600/60000]\n",
      "loss: 1.748014  [32000/60000]\n",
      "loss: 1.667297  [38400/60000]\n",
      "loss: 1.755284  [44800/60000]\n",
      "loss: 1.628358  [51200/60000]\n",
      "loss: 1.583950  [57600/60000]\n",
      "Test Error: \n",
      " Accuracy: 73.9%, Avg loss: 1.572019 \n",
      "\n",
      "Done!\n"
     ]
    }
   ],
   "source": [
    "epochs = 5\n",
    "for t in range(epochs):\n",
    "    print(f\"Epoch {t+1}\\n-------------------------------\")\n",
    "    train(train_dataloader, model, loss_fn, optimizer)\n",
    "    test(test_dataloader, model, loss_fn)\n",
    "print(\"Done!\")"
   ]
  },
  {
   "cell_type": "code",
   "execution_count": null,
   "id": "bebcfdbe-e489-4a12-a860-1086b67135ff",
   "metadata": {},
   "outputs": [],
   "source": []
  }
 ],
 "metadata": {
  "kernelspec": {
   "display_name": "Python 3 (ipykernel)",
   "language": "python",
   "name": "python3"
  },
  "language_info": {
   "codemirror_mode": {
    "name": "ipython",
    "version": 3
   },
   "file_extension": ".py",
   "mimetype": "text/x-python",
   "name": "python",
   "nbconvert_exporter": "python",
   "pygments_lexer": "ipython3",
   "version": "3.8.13"
  }
 },
 "nbformat": 4,
 "nbformat_minor": 5
}
