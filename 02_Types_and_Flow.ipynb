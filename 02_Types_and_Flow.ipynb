{
 "cells": [
  {
   "cell_type": "markdown",
   "metadata": {
    "colab_type": "text",
    "id": "view-in-github"
   },
   "source": [
    "<a href=\"https://colab.research.google.com/github/MMRES-PyBootcamp/MMRES-python-bootcamp2022/blob/main/02_Types_and_Flow.ipynb\" target=\"_parent\"><img src=\"https://colab.research.google.com/assets/colab-badge.svg\" alt=\"Open In Colab\"/></a>"
   ]
  },
  {
   "cell_type": "markdown",
   "metadata": {
    "id": "pEGkhX-nmFBf"
   },
   "source": [
    "# Session 1 - Introduction (Second part)\n",
    "> TODO A series of commands to introduce beginners to working with Python in Jupyter Notebooks.\n",
    "\n",
    "\n",
    "Packages, alias, list, tuple, slice,\n",
    "\n",
    "replace \"variable type\" with \"object\""
   ]
  },
  {
   "cell_type": "markdown",
   "metadata": {},
   "source": [
    "<div class=\"alert alert-block alert-success\"><b>Practice:</b> Practice cells announce exercises that you should try during the current boot camp session.\n",
    "</div>"
   ]
  },
  {
   "cell_type": "markdown",
   "metadata": {},
   "source": [
    "<div class=\"alert alert-block alert-warning\"><b>Extension:</b> Extension cells correspond to exercises (or links to contents) that are a bit more advanced. We recommend to try them after the current boot camp session.\n",
    "</div>"
   ]
  },
  {
   "cell_type": "markdown",
   "metadata": {},
   "source": [
    "<div class=\"alert alert-block alert-info\"><b>Tip:</b> Tip cells just give some advice.\n",
    "</div>"
   ]
  },
  {
   "cell_type": "markdown",
   "metadata": {},
   "source": [
    "<div class=\"alert alert-block alert-danger\"><b>Caveat:</b> Caveat cells warn you about the most common pitfalls one founds when starts his/her path learning Python.\n",
    "\n",
    "</div>"
   ]
  },
  {
   "cell_type": "markdown",
   "metadata": {
    "id": "1r-fY6v2mFBi"
   },
   "source": [
    "## Importing packages\n",
    "\n",
    "\n",
    "\n",
    "\n"
   ]
  },
  {
   "cell_type": "markdown",
   "metadata": {},
   "source": [
    "Python is organized into *modules* and *packages*. Modules are files with a `.py` extension that contain functions, variables, and other objects. Packages are sets of modules. When we want to use objects that are defined in a package we have to import it first:"
   ]
  },
  {
   "cell_type": "code",
   "execution_count": 1,
   "metadata": {},
   "outputs": [],
   "source": [
    "# Load the numpy package\n",
    "import numpy"
   ]
  },
  {
   "cell_type": "markdown",
   "metadata": {},
   "source": [
    "Once we have imported the package, we can use the dot `.` symbol to go down his hierarchy and access the particular object we need:"
   ]
  },
  {
   "cell_type": "code",
   "execution_count": 2,
   "metadata": {},
   "outputs": [
    {
     "data": {
      "text/plain": [
       "3.141592653589793"
      ]
     },
     "execution_count": 2,
     "metadata": {},
     "output_type": "execute_result"
    }
   ],
   "source": [
    "# Access the π constant stored in numpy\n",
    "numpy.pi"
   ]
  },
  {
   "cell_type": "code",
   "execution_count": 3,
   "metadata": {},
   "outputs": [
    {
     "data": {
      "text/plain": [
       "2.718281828459045"
      ]
     },
     "execution_count": 3,
     "metadata": {},
     "output_type": "execute_result"
    }
   ],
   "source": [
    "# Access the e constant stored in numpy\n",
    "numpy.e"
   ]
  },
  {
   "cell_type": "code",
   "execution_count": 4,
   "metadata": {},
   "outputs": [
    {
     "data": {
      "text/plain": [
       "1.0"
      ]
     },
     "execution_count": 4,
     "metadata": {},
     "output_type": "execute_result"
    }
   ],
   "source": [
    "# Access the sinus function stored in numpy and compute sin(π/2)\n",
    "numpy.sin(numpy.pi/2)"
   ]
  },
  {
   "cell_type": "markdown",
   "metadata": {},
   "source": [
    "Some famous Python packages are often imported with an *alias*:"
   ]
  },
  {
   "cell_type": "code",
   "execution_count": 5,
   "metadata": {},
   "outputs": [],
   "source": [
    "# Load main packages with their corresponding aliases\n",
    "import numpy as np\n",
    "import pandas as pd\n",
    "import seaborn as sns"
   ]
  },
  {
   "cell_type": "code",
   "execution_count": 6,
   "metadata": {},
   "outputs": [
    {
     "data": {
      "text/plain": [
       "1.0"
      ]
     },
     "execution_count": 6,
     "metadata": {},
     "output_type": "execute_result"
    }
   ],
   "source": [
    "# Access the sinus function stored in np and compute sin(π/2)\n",
    "np.sin(np.pi/2)"
   ]
  },
  {
   "cell_type": "markdown",
   "metadata": {},
   "source": [
    "<div class=\"alert alert-block alert-success\"><b>Practice:</b>\n",
    "\n",
    "1) In the 1st code cell below, use the `numpy` square root function called `sqrt()` to compute the [Golden Ratio](https://en.wikipedia.org/wiki/Golden_ratio) $\\varphi$:\n",
    "\n",
    "$$\\varphi = \\frac{1+\\sqrt{5}}{2}$$\n",
    "\n",
    "Keep in mind that we imported `numpy` wity its typical `np` alias.\n",
    "    \n",
    "</div>"
   ]
  },
  {
   "cell_type": "code",
   "execution_count": 7,
   "metadata": {},
   "outputs": [],
   "source": [
    "# Compute the Golden Ratio\n"
   ]
  },
  {
   "cell_type": "code",
   "execution_count": 8,
   "metadata": {
    "collapsed": true,
    "jupyter": {
     "outputs_hidden": true,
     "source_hidden": true
    },
    "tags": []
   },
   "outputs": [
    {
     "data": {
      "text/plain": [
       "1.618033988749895"
      ]
     },
     "execution_count": 8,
     "metadata": {},
     "output_type": "execute_result"
    }
   ],
   "source": [
    "# Compute the Golden Ratio\n",
    "(1 + np.sqrt(5)) / 2"
   ]
  },
  {
   "cell_type": "markdown",
   "metadata": {},
   "source": [
    "Remember you can always look at the documentation of any function with the [buit-in function](https://docs.python.org/3/library/functions.html) [`help()`](https://docs.python.org/3/library/functions.html#helphttps://docs.python.org/3/library/functions.html#help)."
   ]
  },
  {
   "cell_type": "code",
   "execution_count": 9,
   "metadata": {
    "scrolled": true,
    "tags": []
   },
   "outputs": [
    {
     "name": "stdout",
     "output_type": "stream",
     "text": [
      "Help on ufunc object:\n",
      "\n",
      "sqrt = class ufunc(builtins.object)\n",
      " |  Functions that operate element by element on whole arrays.\n",
      " |  \n",
      " |  To see the documentation for a specific ufunc, use `info`.  For\n",
      " |  example, ``np.info(np.sin)``.  Because ufuncs are written in C\n",
      " |  (for speed) and linked into Python with NumPy's ufunc facility,\n",
      " |  Python's help() function finds this page whenever help() is called\n",
      " |  on a ufunc.\n",
      " |  \n",
      " |  A detailed explanation of ufuncs can be found in the docs for :ref:`ufuncs`.\n",
      " |  \n",
      " |  **Calling ufuncs:** ``op(*x[, out], where=True, **kwargs)``\n",
      " |  \n",
      " |  Apply `op` to the arguments `*x` elementwise, broadcasting the arguments.\n",
      " |  \n",
      " |  The broadcasting rules are:\n",
      " |  \n",
      " |  * Dimensions of length 1 may be prepended to either array.\n",
      " |  * Arrays may be repeated along dimensions of length 1.\n",
      " |  \n",
      " |  Parameters\n",
      " |  ----------\n",
      " |  *x : array_like\n",
      " |      Input arrays.\n",
      " |  out : ndarray, None, or tuple of ndarray and None, optional\n",
      " |      Alternate array object(s) in which to put the result; if provided, it\n",
      " |      must have a shape that the inputs broadcast to. A tuple of arrays\n",
      " |      (possible only as a keyword argument) must have length equal to the\n",
      " |      number of outputs; use None for uninitialized outputs to be\n",
      " |      allocated by the ufunc.\n",
      " |  where : array_like, optional\n",
      " |      This condition is broadcast over the input. At locations where the\n",
      " |      condition is True, the `out` array will be set to the ufunc result.\n",
      " |      Elsewhere, the `out` array will retain its original value.\n",
      " |      Note that if an uninitialized `out` array is created via the default\n",
      " |      ``out=None``, locations within it where the condition is False will\n",
      " |      remain uninitialized.\n",
      " |  **kwargs\n",
      " |      For other keyword-only arguments, see the :ref:`ufunc docs <ufuncs.kwargs>`.\n",
      " |  \n",
      " |  Returns\n",
      " |  -------\n",
      " |  r : ndarray or tuple of ndarray\n",
      " |      `r` will have the shape that the arrays in `x` broadcast to; if `out` is\n",
      " |      provided, it will be returned. If not, `r` will be allocated and\n",
      " |      may contain uninitialized values. If the function has more than one\n",
      " |      output, then the result will be a tuple of arrays.\n",
      " |  \n",
      " |  Methods defined here:\n",
      " |  \n",
      " |  __call__(self, /, *args, **kwargs)\n",
      " |      Call self as a function.\n",
      " |  \n",
      " |  __repr__(self, /)\n",
      " |      Return repr(self).\n",
      " |  \n",
      " |  __str__(self, /)\n",
      " |      Return str(self).\n",
      " |  \n",
      " |  accumulate(...)\n",
      " |      accumulate(array, axis=0, dtype=None, out=None)\n",
      " |      \n",
      " |      Accumulate the result of applying the operator to all elements.\n",
      " |      \n",
      " |      For a one-dimensional array, accumulate produces results equivalent to::\n",
      " |      \n",
      " |        r = np.empty(len(A))\n",
      " |        t = op.identity        # op = the ufunc being applied to A's  elements\n",
      " |        for i in range(len(A)):\n",
      " |            t = op(t, A[i])\n",
      " |            r[i] = t\n",
      " |        return r\n",
      " |      \n",
      " |      For example, add.accumulate() is equivalent to np.cumsum().\n",
      " |      \n",
      " |      For a multi-dimensional array, accumulate is applied along only one\n",
      " |      axis (axis zero by default; see Examples below) so repeated use is\n",
      " |      necessary if one wants to accumulate over multiple axes.\n",
      " |      \n",
      " |      Parameters\n",
      " |      ----------\n",
      " |      array : array_like\n",
      " |          The array to act on.\n",
      " |      axis : int, optional\n",
      " |          The axis along which to apply the accumulation; default is zero.\n",
      " |      dtype : data-type code, optional\n",
      " |          The data-type used to represent the intermediate results. Defaults\n",
      " |          to the data-type of the output array if such is provided, or the\n",
      " |          the data-type of the input array if no output array is provided.\n",
      " |      out : ndarray, None, or tuple of ndarray and None, optional\n",
      " |          A location into which the result is stored. If not provided or None,\n",
      " |          a freshly-allocated array is returned. For consistency with\n",
      " |          ``ufunc.__call__``, if given as a keyword, this may be wrapped in a\n",
      " |          1-element tuple.\n",
      " |      \n",
      " |          .. versionchanged:: 1.13.0\n",
      " |             Tuples are allowed for keyword argument.\n",
      " |      \n",
      " |      Returns\n",
      " |      -------\n",
      " |      r : ndarray\n",
      " |          The accumulated values. If `out` was supplied, `r` is a reference to\n",
      " |          `out`.\n",
      " |      \n",
      " |      Examples\n",
      " |      --------\n",
      " |      1-D array examples:\n",
      " |      \n",
      " |      >>> np.add.accumulate([2, 3, 5])\n",
      " |      array([ 2,  5, 10])\n",
      " |      >>> np.multiply.accumulate([2, 3, 5])\n",
      " |      array([ 2,  6, 30])\n",
      " |      \n",
      " |      2-D array examples:\n",
      " |      \n",
      " |      >>> I = np.eye(2)\n",
      " |      >>> I\n",
      " |      array([[1.,  0.],\n",
      " |             [0.,  1.]])\n",
      " |      \n",
      " |      Accumulate along axis 0 (rows), down columns:\n",
      " |      \n",
      " |      >>> np.add.accumulate(I, 0)\n",
      " |      array([[1.,  0.],\n",
      " |             [1.,  1.]])\n",
      " |      >>> np.add.accumulate(I) # no axis specified = axis zero\n",
      " |      array([[1.,  0.],\n",
      " |             [1.,  1.]])\n",
      " |      \n",
      " |      Accumulate along axis 1 (columns), through rows:\n",
      " |      \n",
      " |      >>> np.add.accumulate(I, 1)\n",
      " |      array([[1.,  1.],\n",
      " |             [0.,  1.]])\n",
      " |  \n",
      " |  at(...)\n",
      " |      at(a, indices, b=None, /)\n",
      " |      \n",
      " |      Performs unbuffered in place operation on operand 'a' for elements\n",
      " |      specified by 'indices'. For addition ufunc, this method is equivalent to\n",
      " |      ``a[indices] += b``, except that results are accumulated for elements that\n",
      " |      are indexed more than once. For example, ``a[[0,0]] += 1`` will only\n",
      " |      increment the first element once because of buffering, whereas\n",
      " |      ``add.at(a, [0,0], 1)`` will increment the first element twice.\n",
      " |      \n",
      " |      .. versionadded:: 1.8.0\n",
      " |      \n",
      " |      Parameters\n",
      " |      ----------\n",
      " |      a : array_like\n",
      " |          The array to perform in place operation on.\n",
      " |      indices : array_like or tuple\n",
      " |          Array like index object or slice object for indexing into first\n",
      " |          operand. If first operand has multiple dimensions, indices can be a\n",
      " |          tuple of array like index objects or slice objects.\n",
      " |      b : array_like\n",
      " |          Second operand for ufuncs requiring two operands. Operand must be\n",
      " |          broadcastable over first operand after indexing or slicing.\n",
      " |      \n",
      " |      Examples\n",
      " |      --------\n",
      " |      Set items 0 and 1 to their negative values:\n",
      " |      \n",
      " |      >>> a = np.array([1, 2, 3, 4])\n",
      " |      >>> np.negative.at(a, [0, 1])\n",
      " |      >>> a\n",
      " |      array([-1, -2,  3,  4])\n",
      " |      \n",
      " |      Increment items 0 and 1, and increment item 2 twice:\n",
      " |      \n",
      " |      >>> a = np.array([1, 2, 3, 4])\n",
      " |      >>> np.add.at(a, [0, 1, 2, 2], 1)\n",
      " |      >>> a\n",
      " |      array([2, 3, 5, 4])\n",
      " |      \n",
      " |      Add items 0 and 1 in first array to second array,\n",
      " |      and store results in first array:\n",
      " |      \n",
      " |      >>> a = np.array([1, 2, 3, 4])\n",
      " |      >>> b = np.array([1, 2])\n",
      " |      >>> np.add.at(a, [0, 1], b)\n",
      " |      >>> a\n",
      " |      array([2, 4, 3, 4])\n",
      " |  \n",
      " |  outer(...)\n",
      " |      outer(A, B, /, **kwargs)\n",
      " |      \n",
      " |      Apply the ufunc `op` to all pairs (a, b) with a in `A` and b in `B`.\n",
      " |      \n",
      " |      Let ``M = A.ndim``, ``N = B.ndim``. Then the result, `C`, of\n",
      " |      ``op.outer(A, B)`` is an array of dimension M + N such that:\n",
      " |      \n",
      " |      .. math:: C[i_0, ..., i_{M-1}, j_0, ..., j_{N-1}] =\n",
      " |         op(A[i_0, ..., i_{M-1}], B[j_0, ..., j_{N-1}])\n",
      " |      \n",
      " |      For `A` and `B` one-dimensional, this is equivalent to::\n",
      " |      \n",
      " |        r = empty(len(A),len(B))\n",
      " |        for i in range(len(A)):\n",
      " |            for j in range(len(B)):\n",
      " |                r[i,j] = op(A[i], B[j]) # op = ufunc in question\n",
      " |      \n",
      " |      Parameters\n",
      " |      ----------\n",
      " |      A : array_like\n",
      " |          First array\n",
      " |      B : array_like\n",
      " |          Second array\n",
      " |      kwargs : any\n",
      " |          Arguments to pass on to the ufunc. Typically `dtype` or `out`.\n",
      " |      \n",
      " |      Returns\n",
      " |      -------\n",
      " |      r : ndarray\n",
      " |          Output array\n",
      " |      \n",
      " |      See Also\n",
      " |      --------\n",
      " |      numpy.outer : A less powerful version of ``np.multiply.outer``\n",
      " |                    that `ravel`\\ s all inputs to 1D. This exists\n",
      " |                    primarily for compatibility with old code.\n",
      " |      \n",
      " |      tensordot : ``np.tensordot(a, b, axes=((), ()))`` and\n",
      " |                  ``np.multiply.outer(a, b)`` behave same for all\n",
      " |                  dimensions of a and b.\n",
      " |      \n",
      " |      Examples\n",
      " |      --------\n",
      " |      >>> np.multiply.outer([1, 2, 3], [4, 5, 6])\n",
      " |      array([[ 4,  5,  6],\n",
      " |             [ 8, 10, 12],\n",
      " |             [12, 15, 18]])\n",
      " |      \n",
      " |      A multi-dimensional example:\n",
      " |      \n",
      " |      >>> A = np.array([[1, 2, 3], [4, 5, 6]])\n",
      " |      >>> A.shape\n",
      " |      (2, 3)\n",
      " |      >>> B = np.array([[1, 2, 3, 4]])\n",
      " |      >>> B.shape\n",
      " |      (1, 4)\n",
      " |      >>> C = np.multiply.outer(A, B)\n",
      " |      >>> C.shape; C\n",
      " |      (2, 3, 1, 4)\n",
      " |      array([[[[ 1,  2,  3,  4]],\n",
      " |              [[ 2,  4,  6,  8]],\n",
      " |              [[ 3,  6,  9, 12]]],\n",
      " |             [[[ 4,  8, 12, 16]],\n",
      " |              [[ 5, 10, 15, 20]],\n",
      " |              [[ 6, 12, 18, 24]]]])\n",
      " |  \n",
      " |  reduce(...)\n",
      " |      reduce(array, axis=0, dtype=None, out=None, keepdims=False, initial=<no value>, where=True)\n",
      " |      \n",
      " |      Reduces `array`'s dimension by one, by applying ufunc along one axis.\n",
      " |      \n",
      " |      Let :math:`array.shape = (N_0, ..., N_i, ..., N_{M-1})`.  Then\n",
      " |      :math:`ufunc.reduce(array, axis=i)[k_0, ..,k_{i-1}, k_{i+1}, .., k_{M-1}]` =\n",
      " |      the result of iterating `j` over :math:`range(N_i)`, cumulatively applying\n",
      " |      ufunc to each :math:`array[k_0, ..,k_{i-1}, j, k_{i+1}, .., k_{M-1}]`.\n",
      " |      For a one-dimensional array, reduce produces results equivalent to:\n",
      " |      ::\n",
      " |      \n",
      " |       r = op.identity # op = ufunc\n",
      " |       for i in range(len(A)):\n",
      " |         r = op(r, A[i])\n",
      " |       return r\n",
      " |      \n",
      " |      For example, add.reduce() is equivalent to sum().\n",
      " |      \n",
      " |      Parameters\n",
      " |      ----------\n",
      " |      array : array_like\n",
      " |          The array to act on.\n",
      " |      axis : None or int or tuple of ints, optional\n",
      " |          Axis or axes along which a reduction is performed.\n",
      " |          The default (`axis` = 0) is perform a reduction over the first\n",
      " |          dimension of the input array. `axis` may be negative, in\n",
      " |          which case it counts from the last to the first axis.\n",
      " |      \n",
      " |          .. versionadded:: 1.7.0\n",
      " |      \n",
      " |          If this is None, a reduction is performed over all the axes.\n",
      " |          If this is a tuple of ints, a reduction is performed on multiple\n",
      " |          axes, instead of a single axis or all the axes as before.\n",
      " |      \n",
      " |          For operations which are either not commutative or not associative,\n",
      " |          doing a reduction over multiple axes is not well-defined. The\n",
      " |          ufuncs do not currently raise an exception in this case, but will\n",
      " |          likely do so in the future.\n",
      " |      dtype : data-type code, optional\n",
      " |          The type used to represent the intermediate results. Defaults\n",
      " |          to the data-type of the output array if this is provided, or\n",
      " |          the data-type of the input array if no output array is provided.\n",
      " |      out : ndarray, None, or tuple of ndarray and None, optional\n",
      " |          A location into which the result is stored. If not provided or None,\n",
      " |          a freshly-allocated array is returned. For consistency with\n",
      " |          ``ufunc.__call__``, if given as a keyword, this may be wrapped in a\n",
      " |          1-element tuple.\n",
      " |      \n",
      " |          .. versionchanged:: 1.13.0\n",
      " |             Tuples are allowed for keyword argument.\n",
      " |      keepdims : bool, optional\n",
      " |          If this is set to True, the axes which are reduced are left\n",
      " |          in the result as dimensions with size one. With this option,\n",
      " |          the result will broadcast correctly against the original `array`.\n",
      " |      \n",
      " |          .. versionadded:: 1.7.0\n",
      " |      initial : scalar, optional\n",
      " |          The value with which to start the reduction.\n",
      " |          If the ufunc has no identity or the dtype is object, this defaults\n",
      " |          to None - otherwise it defaults to ufunc.identity.\n",
      " |          If ``None`` is given, the first element of the reduction is used,\n",
      " |          and an error is thrown if the reduction is empty.\n",
      " |      \n",
      " |          .. versionadded:: 1.15.0\n",
      " |      \n",
      " |      where : array_like of bool, optional\n",
      " |          A boolean array which is broadcasted to match the dimensions\n",
      " |          of `array`, and selects elements to include in the reduction. Note\n",
      " |          that for ufuncs like ``minimum`` that do not have an identity\n",
      " |          defined, one has to pass in also ``initial``.\n",
      " |      \n",
      " |          .. versionadded:: 1.17.0\n",
      " |      \n",
      " |      Returns\n",
      " |      -------\n",
      " |      r : ndarray\n",
      " |          The reduced array. If `out` was supplied, `r` is a reference to it.\n",
      " |      \n",
      " |      Examples\n",
      " |      --------\n",
      " |      >>> np.multiply.reduce([2,3,5])\n",
      " |      30\n",
      " |      \n",
      " |      A multi-dimensional array example:\n",
      " |      \n",
      " |      >>> X = np.arange(8).reshape((2,2,2))\n",
      " |      >>> X\n",
      " |      array([[[0, 1],\n",
      " |              [2, 3]],\n",
      " |             [[4, 5],\n",
      " |              [6, 7]]])\n",
      " |      >>> np.add.reduce(X, 0)\n",
      " |      array([[ 4,  6],\n",
      " |             [ 8, 10]])\n",
      " |      >>> np.add.reduce(X) # confirm: default axis value is 0\n",
      " |      array([[ 4,  6],\n",
      " |             [ 8, 10]])\n",
      " |      >>> np.add.reduce(X, 1)\n",
      " |      array([[ 2,  4],\n",
      " |             [10, 12]])\n",
      " |      >>> np.add.reduce(X, 2)\n",
      " |      array([[ 1,  5],\n",
      " |             [ 9, 13]])\n",
      " |      \n",
      " |      You can use the ``initial`` keyword argument to initialize the reduction\n",
      " |      with a different value, and ``where`` to select specific elements to include:\n",
      " |      \n",
      " |      >>> np.add.reduce([10], initial=5)\n",
      " |      15\n",
      " |      >>> np.add.reduce(np.ones((2, 2, 2)), axis=(0, 2), initial=10)\n",
      " |      array([14., 14.])\n",
      " |      >>> a = np.array([10., np.nan, 10])\n",
      " |      >>> np.add.reduce(a, where=~np.isnan(a))\n",
      " |      20.0\n",
      " |      \n",
      " |      Allows reductions of empty arrays where they would normally fail, i.e.\n",
      " |      for ufuncs without an identity.\n",
      " |      \n",
      " |      >>> np.minimum.reduce([], initial=np.inf)\n",
      " |      inf\n",
      " |      >>> np.minimum.reduce([[1., 2.], [3., 4.]], initial=10., where=[True, False])\n",
      " |      array([ 1., 10.])\n",
      " |      >>> np.minimum.reduce([])\n",
      " |      Traceback (most recent call last):\n",
      " |          ...\n",
      " |      ValueError: zero-size array to reduction operation minimum which has no identity\n",
      " |  \n",
      " |  reduceat(...)\n",
      " |      reduceat(array, indices, axis=0, dtype=None, out=None)\n",
      " |      \n",
      " |      Performs a (local) reduce with specified slices over a single axis.\n",
      " |      \n",
      " |      For i in ``range(len(indices))``, `reduceat` computes\n",
      " |      ``ufunc.reduce(array[indices[i]:indices[i+1]])``, which becomes the i-th\n",
      " |      generalized \"row\" parallel to `axis` in the final result (i.e., in a\n",
      " |      2-D array, for example, if `axis = 0`, it becomes the i-th row, but if\n",
      " |      `axis = 1`, it becomes the i-th column).  There are three exceptions to this:\n",
      " |      \n",
      " |      * when ``i = len(indices) - 1`` (so for the last index),\n",
      " |        ``indices[i+1] = array.shape[axis]``.\n",
      " |      * if ``indices[i] >= indices[i + 1]``, the i-th generalized \"row\" is\n",
      " |        simply ``array[indices[i]]``.\n",
      " |      * if ``indices[i] >= len(array)`` or ``indices[i] < 0``, an error is raised.\n",
      " |      \n",
      " |      The shape of the output depends on the size of `indices`, and may be\n",
      " |      larger than `array` (this happens if ``len(indices) > array.shape[axis]``).\n",
      " |      \n",
      " |      Parameters\n",
      " |      ----------\n",
      " |      array : array_like\n",
      " |          The array to act on.\n",
      " |      indices : array_like\n",
      " |          Paired indices, comma separated (not colon), specifying slices to\n",
      " |          reduce.\n",
      " |      axis : int, optional\n",
      " |          The axis along which to apply the reduceat.\n",
      " |      dtype : data-type code, optional\n",
      " |          The type used to represent the intermediate results. Defaults\n",
      " |          to the data type of the output array if this is provided, or\n",
      " |          the data type of the input array if no output array is provided.\n",
      " |      out : ndarray, None, or tuple of ndarray and None, optional\n",
      " |          A location into which the result is stored. If not provided or None,\n",
      " |          a freshly-allocated array is returned. For consistency with\n",
      " |          ``ufunc.__call__``, if given as a keyword, this may be wrapped in a\n",
      " |          1-element tuple.\n",
      " |      \n",
      " |          .. versionchanged:: 1.13.0\n",
      " |             Tuples are allowed for keyword argument.\n",
      " |      \n",
      " |      Returns\n",
      " |      -------\n",
      " |      r : ndarray\n",
      " |          The reduced values. If `out` was supplied, `r` is a reference to\n",
      " |          `out`.\n",
      " |      \n",
      " |      Notes\n",
      " |      -----\n",
      " |      A descriptive example:\n",
      " |      \n",
      " |      If `array` is 1-D, the function `ufunc.accumulate(array)` is the same as\n",
      " |      ``ufunc.reduceat(array, indices)[::2]`` where `indices` is\n",
      " |      ``range(len(array) - 1)`` with a zero placed\n",
      " |      in every other element:\n",
      " |      ``indices = zeros(2 * len(array) - 1)``,\n",
      " |      ``indices[1::2] = range(1, len(array))``.\n",
      " |      \n",
      " |      Don't be fooled by this attribute's name: `reduceat(array)` is not\n",
      " |      necessarily smaller than `array`.\n",
      " |      \n",
      " |      Examples\n",
      " |      --------\n",
      " |      To take the running sum of four successive values:\n",
      " |      \n",
      " |      >>> np.add.reduceat(np.arange(8),[0,4, 1,5, 2,6, 3,7])[::2]\n",
      " |      array([ 6, 10, 14, 18])\n",
      " |      \n",
      " |      A 2-D example:\n",
      " |      \n",
      " |      >>> x = np.linspace(0, 15, 16).reshape(4,4)\n",
      " |      >>> x\n",
      " |      array([[ 0.,   1.,   2.,   3.],\n",
      " |             [ 4.,   5.,   6.,   7.],\n",
      " |             [ 8.,   9.,  10.,  11.],\n",
      " |             [12.,  13.,  14.,  15.]])\n",
      " |      \n",
      " |      ::\n",
      " |      \n",
      " |       # reduce such that the result has the following five rows:\n",
      " |       # [row1 + row2 + row3]\n",
      " |       # [row4]\n",
      " |       # [row2]\n",
      " |       # [row3]\n",
      " |       # [row1 + row2 + row3 + row4]\n",
      " |      \n",
      " |      >>> np.add.reduceat(x, [0, 3, 1, 2, 0])\n",
      " |      array([[12.,  15.,  18.,  21.],\n",
      " |             [12.,  13.,  14.,  15.],\n",
      " |             [ 4.,   5.,   6.,   7.],\n",
      " |             [ 8.,   9.,  10.,  11.],\n",
      " |             [24.,  28.,  32.,  36.]])\n",
      " |      \n",
      " |      ::\n",
      " |      \n",
      " |       # reduce such that result has the following two columns:\n",
      " |       # [col1 * col2 * col3, col4]\n",
      " |      \n",
      " |      >>> np.multiply.reduceat(x, [0, 3], 1)\n",
      " |      array([[   0.,     3.],\n",
      " |             [ 120.,     7.],\n",
      " |             [ 720.,    11.],\n",
      " |             [2184.,    15.]])\n",
      " |  \n",
      " |  ----------------------------------------------------------------------\n",
      " |  Data descriptors defined here:\n",
      " |  \n",
      " |  identity\n",
      " |      The identity value.\n",
      " |      \n",
      " |      Data attribute containing the identity element for the ufunc, if it has one.\n",
      " |      If it does not, the attribute value is None.\n",
      " |      \n",
      " |      Examples\n",
      " |      --------\n",
      " |      >>> np.add.identity\n",
      " |      0\n",
      " |      >>> np.multiply.identity\n",
      " |      1\n",
      " |      >>> np.power.identity\n",
      " |      1\n",
      " |      >>> print(np.exp.identity)\n",
      " |      None\n",
      " |  \n",
      " |  nargs\n",
      " |      The number of arguments.\n",
      " |      \n",
      " |      Data attribute containing the number of arguments the ufunc takes, including\n",
      " |      optional ones.\n",
      " |      \n",
      " |      Notes\n",
      " |      -----\n",
      " |      Typically this value will be one more than what you might expect because all\n",
      " |      ufuncs take  the optional \"out\" argument.\n",
      " |      \n",
      " |      Examples\n",
      " |      --------\n",
      " |      >>> np.add.nargs\n",
      " |      3\n",
      " |      >>> np.multiply.nargs\n",
      " |      3\n",
      " |      >>> np.power.nargs\n",
      " |      3\n",
      " |      >>> np.exp.nargs\n",
      " |      2\n",
      " |  \n",
      " |  nin\n",
      " |      The number of inputs.\n",
      " |      \n",
      " |      Data attribute containing the number of arguments the ufunc treats as input.\n",
      " |      \n",
      " |      Examples\n",
      " |      --------\n",
      " |      >>> np.add.nin\n",
      " |      2\n",
      " |      >>> np.multiply.nin\n",
      " |      2\n",
      " |      >>> np.power.nin\n",
      " |      2\n",
      " |      >>> np.exp.nin\n",
      " |      1\n",
      " |  \n",
      " |  nout\n",
      " |      The number of outputs.\n",
      " |      \n",
      " |      Data attribute containing the number of arguments the ufunc treats as output.\n",
      " |      \n",
      " |      Notes\n",
      " |      -----\n",
      " |      Since all ufuncs can take output arguments, this will always be (at least) 1.\n",
      " |      \n",
      " |      Examples\n",
      " |      --------\n",
      " |      >>> np.add.nout\n",
      " |      1\n",
      " |      >>> np.multiply.nout\n",
      " |      1\n",
      " |      >>> np.power.nout\n",
      " |      1\n",
      " |      >>> np.exp.nout\n",
      " |      1\n",
      " |  \n",
      " |  ntypes\n",
      " |      The number of types.\n",
      " |      \n",
      " |      The number of numerical NumPy types - of which there are 18 total - on which\n",
      " |      the ufunc can operate.\n",
      " |      \n",
      " |      See Also\n",
      " |      --------\n",
      " |      numpy.ufunc.types\n",
      " |      \n",
      " |      Examples\n",
      " |      --------\n",
      " |      >>> np.add.ntypes\n",
      " |      18\n",
      " |      >>> np.multiply.ntypes\n",
      " |      18\n",
      " |      >>> np.power.ntypes\n",
      " |      17\n",
      " |      >>> np.exp.ntypes\n",
      " |      7\n",
      " |      >>> np.remainder.ntypes\n",
      " |      14\n",
      " |  \n",
      " |  signature\n",
      " |      Definition of the core elements a generalized ufunc operates on.\n",
      " |      \n",
      " |      The signature determines how the dimensions of each input/output array\n",
      " |      are split into core and loop dimensions:\n",
      " |      \n",
      " |      1. Each dimension in the signature is matched to a dimension of the\n",
      " |         corresponding passed-in array, starting from the end of the shape tuple.\n",
      " |      2. Core dimensions assigned to the same label in the signature must have\n",
      " |         exactly matching sizes, no broadcasting is performed.\n",
      " |      3. The core dimensions are removed from all inputs and the remaining\n",
      " |         dimensions are broadcast together, defining the loop dimensions.\n",
      " |      \n",
      " |      Notes\n",
      " |      -----\n",
      " |      Generalized ufuncs are used internally in many linalg functions, and in\n",
      " |      the testing suite; the examples below are taken from these.\n",
      " |      For ufuncs that operate on scalars, the signature is None, which is\n",
      " |      equivalent to '()' for every argument.\n",
      " |      \n",
      " |      Examples\n",
      " |      --------\n",
      " |      >>> np.core.umath_tests.matrix_multiply.signature\n",
      " |      '(m,n),(n,p)->(m,p)'\n",
      " |      >>> np.linalg._umath_linalg.det.signature\n",
      " |      '(m,m)->()'\n",
      " |      >>> np.add.signature is None\n",
      " |      True  # equivalent to '(),()->()'\n",
      " |  \n",
      " |  types\n",
      " |      Returns a list with types grouped input->output.\n",
      " |      \n",
      " |      Data attribute listing the data-type \"Domain-Range\" groupings the ufunc can\n",
      " |      deliver. The data-types are given using the character codes.\n",
      " |      \n",
      " |      See Also\n",
      " |      --------\n",
      " |      numpy.ufunc.ntypes\n",
      " |      \n",
      " |      Examples\n",
      " |      --------\n",
      " |      >>> np.add.types\n",
      " |      ['??->?', 'bb->b', 'BB->B', 'hh->h', 'HH->H', 'ii->i', 'II->I', 'll->l',\n",
      " |      'LL->L', 'qq->q', 'QQ->Q', 'ff->f', 'dd->d', 'gg->g', 'FF->F', 'DD->D',\n",
      " |      'GG->G', 'OO->O']\n",
      " |      \n",
      " |      >>> np.multiply.types\n",
      " |      ['??->?', 'bb->b', 'BB->B', 'hh->h', 'HH->H', 'ii->i', 'II->I', 'll->l',\n",
      " |      'LL->L', 'qq->q', 'QQ->Q', 'ff->f', 'dd->d', 'gg->g', 'FF->F', 'DD->D',\n",
      " |      'GG->G', 'OO->O']\n",
      " |      \n",
      " |      >>> np.power.types\n",
      " |      ['bb->b', 'BB->B', 'hh->h', 'HH->H', 'ii->i', 'II->I', 'll->l', 'LL->L',\n",
      " |      'qq->q', 'QQ->Q', 'ff->f', 'dd->d', 'gg->g', 'FF->F', 'DD->D', 'GG->G',\n",
      " |      'OO->O']\n",
      " |      \n",
      " |      >>> np.exp.types\n",
      " |      ['f->f', 'd->d', 'g->g', 'F->F', 'D->D', 'G->G', 'O->O']\n",
      " |      \n",
      " |      >>> np.remainder.types\n",
      " |      ['bb->b', 'BB->B', 'hh->h', 'HH->H', 'ii->i', 'II->I', 'll->l', 'LL->L',\n",
      " |      'qq->q', 'QQ->Q', 'ff->f', 'dd->d', 'gg->g', 'OO->O']\n",
      "\n"
     ]
    }
   ],
   "source": [
    "# Looking for help with numpy sqrt() function\n",
    "help(np.sqrt)"
   ]
  },
  {
   "cell_type": "markdown",
   "metadata": {},
   "source": [
    "## Sequence variable types\n",
    "\n",
    "In the [first part of Chapter 1](https://github.com/MMRES-PyBootcamp/MMRES-python-bootcamp2022/blob/main/01_Introduction.ipynb) we introduced integer, float, string and boolean data types. Here we will introduce some extra Python data types that are particularly versatile, the sequential variable types [list](https://docs.python.org/3/library/stdtypes.html#list) and [tuple](https://docs.python.org/3/library/stdtypes.html#tuple). Briefly, a sequential variable is an ordered collection of objects of any kind. The main difference between lists and tuples is that lists are *mutable* and tuples are *immutable*.\n",
    "\n",
    "START SPOILER ALERT --> We will also see that strings can also  be seen as immutable sequential objects <-- STOP SPOILER ALERT"
   ]
  },
  {
   "cell_type": "markdown",
   "metadata": {},
   "source": [
    "<div class=\"alert alert-block alert-info\"><b>Tip:</b>\n",
    "\n",
    "Don't worry about this *mutable* / *immutable* thing at the moment. We will talk about it below.\n",
    "\n",
    "</div>"
   ]
  },
  {
   "cell_type": "markdown",
   "metadata": {},
   "source": [
    "### Lists\n",
    "\n",
    "We create lists using brackets (`[]`) and commas (`,`):"
   ]
  },
  {
   "cell_type": "code",
   "execution_count": 10,
   "metadata": {
    "tags": []
   },
   "outputs": [
    {
     "data": {
      "text/plain": [
       "[1, 2.0, 'Three', 4, 5.0, 'Six', 7, 8.0, 'Nine']"
      ]
     },
     "execution_count": 10,
     "metadata": {},
     "output_type": "execute_result"
    }
   ],
   "source": [
    "# Create a list from scratch\n",
    "[1, 2.0, \"Three\", 4, 5.0, \"Six\", 7, 8.0, \"Nine\"]"
   ]
  },
  {
   "cell_type": "markdown",
   "metadata": {},
   "source": [
    "Note that a list can store items no matter their data type. In the previous example we stored integers, floats and strings. Of course, we can put our list into a variable:"
   ]
  },
  {
   "cell_type": "code",
   "execution_count": 11,
   "metadata": {},
   "outputs": [
    {
     "data": {
      "text/plain": [
       "list"
      ]
     },
     "execution_count": 11,
     "metadata": {},
     "output_type": "execute_result"
    }
   ],
   "source": [
    "# Store list into \"list_example\" variable\n",
    "list_example = [1, 2.0, \"Three\", 4, 5.0, \"Six\", 7, 8.0, \"Nine\"]\n",
    "\n",
    "# Get the variable type of `list_example`\n",
    "type(list_example)"
   ]
  },
  {
   "cell_type": "markdown",
   "metadata": {},
   "source": [
    "TODO\n",
    "\n",
    "We can retrieve elements from a list by *indexing* with `[]`. In Python we count the elements of a collection from $0$ to $n-1$ (being $n$ the total number of elements). In order to retrieve an element, we can start counting from the beginning of the list, simply introducing the corresponding index, or from the end of the list with negative indexes.\n",
    "\n",
    "TODO"
   ]
  },
  {
   "cell_type": "code",
   "execution_count": 12,
   "metadata": {},
   "outputs": [
    {
     "name": "stdout",
     "output_type": "stream",
     "text": [
      "1\n",
      "Nine\n"
     ]
    }
   ],
   "source": [
    "# Recover the first element from `list_example`\n",
    "print(list_example[0])\n",
    "\n",
    "# Recover the last element from `list_example`\n",
    "print(list_example[-1])"
   ]
  },
  {
   "cell_type": "markdown",
   "metadata": {
    "id": "tr8lSaaUmFCF"
   },
   "source": [
    "<div class=\"alert alert-block alert-danger\"><b>Caveat:</b> Remember that In Python indexing starts in 0. In other languages (such as R), indexing starts in 1.\n",
    "\n",
    "</div>"
   ]
  },
  {
   "cell_type": "markdown",
   "metadata": {},
   "source": [
    "An important concept to know when dealing with sequential variables like lists is *slicing*. Taking an `[i:j:k]` slice of a list (or any other sequential variable) means that we take elements from `i` (included) to `j` (excluded) using a `k` step. Keep in mind that:\n",
    "  + Omitting `i` in the slice, like `[:j:k]`, means \"from the beginning of the sequence (included) to `j` (excluded) in `k` steps\".\n",
    "  + Omitting `j` in the slice, like `[i::k]`, means \"from `i` (included) to the end of the sequence (included!) in `k` steps\".\n",
    "  + Omitting `k` in the slice, like `[i:j:]` or just `[i:j]`, means \"from `i` (included) to `j` (excluded) in one by one steps\"."
   ]
  },
  {
   "cell_type": "markdown",
   "metadata": {},
   "source": [
    "<div class=\"alert alert-block alert-success\"><b>Practice:</b>\n",
    "\n",
    "1) In the 1st code cell below, slice the three central elements of `list_example`.\n",
    "2) In the 2nd one, slice the first half of `list_example` (including `5.0`).\n",
    "3) In the 3rd one, slice the second half of `list_example` (including `5.0`). \n",
    "4) In the 4th one, slice three elements of a same data type from `list_example`.\n",
    "\n",
    "</div>"
   ]
  },
  {
   "cell_type": "code",
   "execution_count": null,
   "metadata": {},
   "outputs": [],
   "source": [
    "# Slice the three central elements of `list_example`\n"
   ]
  },
  {
   "cell_type": "code",
   "execution_count": null,
   "metadata": {
    "jupyter": {
     "source_hidden": true
    },
    "tags": []
   },
   "outputs": [],
   "source": [
    "# Slice the three central elements of `list_example`\n",
    "list_example[3:6]"
   ]
  },
  {
   "cell_type": "code",
   "execution_count": null,
   "metadata": {},
   "outputs": [],
   "source": [
    "# Slice the first five elements of `list_example`\n"
   ]
  },
  {
   "cell_type": "code",
   "execution_count": null,
   "metadata": {
    "jupyter": {
     "source_hidden": true
    },
    "tags": []
   },
   "outputs": [],
   "source": [
    "# Slice the first five elements of `list_example`\n",
    "list_example[:5]"
   ]
  },
  {
   "cell_type": "code",
   "execution_count": null,
   "metadata": {},
   "outputs": [],
   "source": [
    "# Slice the last five elements of `list_example`\n"
   ]
  },
  {
   "cell_type": "code",
   "execution_count": null,
   "metadata": {
    "jupyter": {
     "source_hidden": true
    },
    "tags": []
   },
   "outputs": [],
   "source": [
    "# Slice the last five elements of `list_example`\n",
    "list_example[4:]"
   ]
  },
  {
   "cell_type": "code",
   "execution_count": null,
   "metadata": {},
   "outputs": [],
   "source": [
    "# Slice the three ints, floats or strings from `list_example`\n"
   ]
  },
  {
   "cell_type": "code",
   "execution_count": null,
   "metadata": {
    "jupyter": {
     "source_hidden": true
    },
    "tags": []
   },
   "outputs": [],
   "source": [
    "# Slice the three ints, floats or strings from `list_example`\n",
    "print(f'The three integers are: {list_example[0::3]}')\n",
    "print(f'The three floats are: {list_example[1::3]}')\n",
    "print(f'The three strings are: {list_example[2::3]}')"
   ]
  },
  {
   "cell_type": "markdown",
   "metadata": {},
   "source": [
    "Now that we know what a list is, we can introduce some additional buit-in Python functions. First, let's create reversed list of integers going from 100 to 0:"
   ]
  },
  {
   "cell_type": "code",
   "execution_count": null,
   "metadata": {},
   "outputs": [],
   "source": [
    "# Create a 100 to 0 list of integers and store as a `list_100` variable \n",
    "list_100 = list(range(100, -1, -1))\n",
    "\n",
    "# Show the whole `list_100`\n",
    "print(list_100)"
   ]
  },
  {
   "cell_type": "markdown",
   "metadata": {},
   "source": [
    "<div class=\"alert alert-block alert-warning\"><b>Extension:</b>\n",
    "\n",
    "Check the documentation for the [`range()`](https://docs.python.org/3/library/functions.html#func-range) built-in. Try to understand how this built-in works and how we leverage it to get a reversed list of integers going from 100 to 0.\n",
    "</div>"
   ]
  },
  {
   "cell_type": "markdown",
   "metadata": {},
   "source": [
    "The [`len()`](https://docs.python.org/3/library/functions.html#func-range), [`max()`](https://docs.python.org/3/library/functions.html#max), [`min()`](https://docs.python.org/3/library/functions.html#min), [`sum()`](https://docs.python.org/3/library/functions.html#sum) and [`sorted()`](https://docs.python.org/3/library/functions.html#sorted) built-ins are quite self-explanatory:"
   ]
  },
  {
   "cell_type": "code",
   "execution_count": null,
   "metadata": {},
   "outputs": [],
   "source": [
    "# Get the length of `list_100`\n",
    "print(len(list_100))\n",
    "\n",
    "# Get the max value from `list_100`\n",
    "print(max(list_100))\n",
    "\n",
    "# Get the min value from `list_100`\n",
    "print(min(list_100))\n",
    "\n",
    "# Get the sum value from `list_100`\n",
    "print(sum(list_100))\n",
    "\n",
    "# Sort `list_100`\n",
    "print(sorted(list_100))"
   ]
  },
  {
   "cell_type": "markdown",
   "metadata": {},
   "source": [
    "In addition of using built-in functions, we can also use *methods* when working with lists. In Python, *methods* are like functions that some objects carry on \"as standard\". We can invoke the methods of a given Python object with a dot `.` symbol. For example, some useful [list methods](https://docs.python.org/3/tutorial/datastructures.html) are: `.reverse()`, `.append()`, `.remove()`, `.extend()`, `.count()`..."
   ]
  },
  {
   "cell_type": "code",
   "execution_count": null,
   "metadata": {},
   "outputs": [],
   "source": [
    "# Get the length of `list_example`\n",
    "list_example.reverse()\n",
    "\n",
    "print(list_example)"
   ]
  },
  {
   "cell_type": "code",
   "execution_count": null,
   "metadata": {},
   "outputs": [],
   "source": [
    "# Get the length of `list_example`\n",
    "list_example.append('Zero')\n",
    "\n",
    "print(list_example)"
   ]
  },
  {
   "cell_type": "code",
   "execution_count": null,
   "metadata": {},
   "outputs": [],
   "source": [
    "# Get the length of `list_example`\n",
    "list_example.remove('Zero')\n",
    "\n",
    "print(list_example)"
   ]
  },
  {
   "cell_type": "code",
   "execution_count": null,
   "metadata": {},
   "outputs": [],
   "source": [
    "# Get the length of `list_example`\n",
    "list_example.extend(list_example)\n",
    "\n",
    "print(list_example)"
   ]
  },
  {
   "cell_type": "code",
   "execution_count": null,
   "metadata": {},
   "outputs": [],
   "source": [
    "# Get the length of `list_example`\n",
    "list_example.count('Nine')"
   ]
  },
  {
   "cell_type": "markdown",
   "metadata": {},
   "source": [
    "Did you noticed that methods update the list they were invoked from \"on the fly\"? This is a major conceptual difference between *calling a function on an object*, like `sorted(list_100)`, or invoking a method from the object itself, like `list_100.sort()`.\n",
    "\n",
    "Because lists are mutable. TODO."
   ]
  },
  {
   "cell_type": "markdown",
   "metadata": {},
   "source": [
    "### Tuples"
   ]
  },
  {
   "cell_type": "code",
   "execution_count": null,
   "metadata": {},
   "outputs": [],
   "source": []
  },
  {
   "cell_type": "code",
   "execution_count": null,
   "metadata": {},
   "outputs": [],
   "source": []
  },
  {
   "cell_type": "code",
   "execution_count": null,
   "metadata": {},
   "outputs": [],
   "source": []
  },
  {
   "cell_type": "code",
   "execution_count": null,
   "metadata": {},
   "outputs": [],
   "source": []
  },
  {
   "cell_type": "markdown",
   "metadata": {},
   "source": [
    "### Treating strings as they were lists"
   ]
  },
  {
   "cell_type": "markdown",
   "metadata": {},
   "source": [
    "In Python, strings can be alternatively seen as immutable lists. For example, you can slice a string just we slice lists:"
   ]
  },
  {
   "cell_type": "code",
   "execution_count": null,
   "metadata": {},
   "outputs": [],
   "source": [
    "# Recovering a Jean Cocteau's quote\n",
    "string_example = \"I prefer cats over dogs because police cats don't exist.\"\n",
    "\n",
    "# TODO\n",
    "string_example[9:13]"
   ]
  },
  {
   "cell_type": "markdown",
   "metadata": {},
   "source": [
    "As any other Python object, strings carry their own methods. For example, some useful [string methods](https://docs.python.org/3/library/stdtypes.html#string-methods) are: `.count()`, `.find()`, `.upper()`, `.lower()`, `.replace()`, `.split()`, `.join()`..."
   ]
  },
  {
   "cell_type": "code",
   "execution_count": null,
   "metadata": {},
   "outputs": [],
   "source": [
    "# Count occurrences \n",
    "string_example.count('cats')"
   ]
  },
  {
   "cell_type": "code",
   "execution_count": null,
   "metadata": {},
   "outputs": [],
   "source": [
    "# TODO\n",
    "string_example.find('cats')"
   ]
  },
  {
   "cell_type": "code",
   "execution_count": null,
   "metadata": {},
   "outputs": [],
   "source": [
    "# TODO\n",
    "string_example.upper()"
   ]
  },
  {
   "cell_type": "code",
   "execution_count": null,
   "metadata": {},
   "outputs": [],
   "source": [
    "# TODO\n",
    "string_example.lower()"
   ]
  },
  {
   "cell_type": "code",
   "execution_count": null,
   "metadata": {},
   "outputs": [],
   "source": [
    "# TODO\n",
    "string_example.replace('cats', 'unicorns')"
   ]
  },
  {
   "cell_type": "code",
   "execution_count": null,
   "metadata": {},
   "outputs": [],
   "source": [
    "# TODO\n",
    "'_'.join(string_example_split)"
   ]
  },
  {
   "cell_type": "code",
   "execution_count": null,
   "metadata": {},
   "outputs": [],
   "source": [
    "# TODO\n",
    "string_example_split = string_example.split(' ')"
   ]
  },
  {
   "cell_type": "markdown",
   "metadata": {},
   "source": [
    "Did you noticed that there is not a `mean()` built-in? That's not a big problem because we can compute the mean of a numeric sequence just using `sum()` and `len()`."
   ]
  },
  {
   "cell_type": "markdown",
   "metadata": {
    "id": "_Dhu9_BnmFCE"
   },
   "source": [
    "We can check if an element is inside the list using `in`"
   ]
  },
  {
   "cell_type": "markdown",
   "metadata": {},
   "source": [
    "Note that some of them are the same methods from lists."
   ]
  },
  {
   "cell_type": "code",
   "execution_count": null,
   "metadata": {
    "id": "OX3Elb0UmFCE",
    "outputId": "6c62458e-36f1-4d19-966b-ed71a59c5ea5"
   },
   "outputs": [],
   "source": [
    "2 in z_list"
   ]
  },
  {
   "cell_type": "markdown",
   "metadata": {},
   "source": [
    "### Strings\n",
    "\n",
    "Strings are another kind of variable that represent sequences of characters\n"
   ]
  },
  {
   "cell_type": "code",
   "execution_count": null,
   "metadata": {},
   "outputs": [],
   "source": [
    "string = 'Hello World!'\n",
    "string2 = \"This is also allowed, helps if you want 'this' in a string and vice versa\"\n",
    "len(string)"
   ]
  },
  {
   "cell_type": "markdown",
   "metadata": {},
   "source": [
    "They can be manipulated as lists"
   ]
  },
  {
   "cell_type": "code",
   "execution_count": null,
   "metadata": {},
   "outputs": [],
   "source": [
    "print(string)\n",
    "print(string[0])\n",
    "print(string[2:5])\n",
    "print(string[2:])\n",
    "print(string[:5])\n",
    "print(string * 2)\n",
    "print(string + 'TEST')\n",
    "print(string[-1])"
   ]
  },
  {
   "cell_type": "code",
   "execution_count": null,
   "metadata": {},
   "outputs": [],
   "source": [
    "print(string/2)"
   ]
  },
  {
   "cell_type": "code",
   "execution_count": null,
   "metadata": {},
   "outputs": [],
   "source": [
    "print(string - 'TEST')"
   ]
  },
  {
   "cell_type": "markdown",
   "metadata": {},
   "source": [
    "Python offers some string functionalities:"
   ]
  },
  {
   "cell_type": "code",
   "execution_count": null,
   "metadata": {},
   "outputs": [],
   "source": [
    "x = 'test'"
   ]
  },
  {
   "cell_type": "code",
   "execution_count": null,
   "metadata": {},
   "outputs": [],
   "source": [
    "x.capitalize()"
   ]
  },
  {
   "cell_type": "markdown",
   "metadata": {},
   "source": [
    "Enviromnents like Jupyter, Spyder, VSCode, etc. allow you to explore the methods like `.capitalize()` or `.upper()` using `x.` and pressing `tab`."
   ]
  },
  {
   "cell_type": "code",
   "execution_count": null,
   "metadata": {},
   "outputs": [],
   "source": [
    "x.find('e')"
   ]
  },
  {
   "cell_type": "code",
   "execution_count": null,
   "metadata": {},
   "outputs": [],
   "source": [
    "x = 'TEST'\n",
    "x.lower()"
   ]
  },
  {
   "cell_type": "markdown",
   "metadata": {
    "id": "WlkJ-jNqmFCK"
   },
   "source": [
    "### Tuples\n",
    "\n",
    "Tuples are immutable and can be thought of as read-only lists."
   ]
  },
  {
   "cell_type": "code",
   "execution_count": null,
   "metadata": {
    "id": "Gg42tlDkmFCK",
    "outputId": "d49113e7-d5c7-449b-d146-39c7cefc7a48"
   },
   "outputs": [],
   "source": [
    "y_tuple = ('john', '2.', '1')\n",
    "type(y_tuple)"
   ]
  },
  {
   "cell_type": "markdown",
   "metadata": {
    "id": "j87TRLwFmFCK"
   },
   "source": [
    "We can avoid parenthesis"
   ]
  },
  {
   "cell_type": "code",
   "execution_count": null,
   "metadata": {
    "id": "n-7-fLcWmFCK",
    "outputId": "f318e404-7184-4594-9a8b-e3a3347a1b13"
   },
   "outputs": [],
   "source": [
    "y_tuple = 'john', '2.', '1'\n",
    "type(y_tuple)"
   ]
  },
  {
   "cell_type": "code",
   "execution_count": null,
   "metadata": {
    "id": "tIo8YyB9mFCL",
    "outputId": "ce5e49c7-63d9-4e24-f4a4-d9909551627e"
   },
   "outputs": [],
   "source": [
    "y_list"
   ]
  },
  {
   "cell_type": "code",
   "execution_count": null,
   "metadata": {
    "id": "YXVlSm2jmFCL",
    "outputId": "b10e791d-2e70-4f2c-ca71-c6cff884e2b7"
   },
   "outputs": [],
   "source": [
    "y_list[0] = 'Erik'\n",
    "y_list"
   ]
  },
  {
   "cell_type": "code",
   "execution_count": null,
   "metadata": {
    "id": "9z2tyDQPmFCL",
    "outputId": "281b9b88-12ea-4791-9914-fd4c56ab8c8c"
   },
   "outputs": [],
   "source": [
    "y_tuple[0] = 'Erik'"
   ]
  },
  {
   "cell_type": "code",
   "execution_count": null,
   "metadata": {
    "id": "0f2fZ0O9mFCM",
    "outputId": "e8f5add7-2552-48db-a7ab-5244802df002"
   },
   "outputs": [],
   "source": [
    "a_list = [1, 2, 3.0, 4 + 0j, \"5\"]\n",
    "a_tuple = (1, 2, 3.0, 4 + 0j, \"5\")\n",
    "a_list == a_tuple"
   ]
  },
  {
   "cell_type": "markdown",
   "metadata": {
    "id": "43lE2qnwmFCM"
   },
   "source": [
    "### Dictionaries\n",
    "\n",
    "Dictonaries are lists with named entries. There is also named tuples, which are immutable dictonaries. Use `OrderedDict` from `collections` if you need to preserve the order."
   ]
  },
  {
   "cell_type": "code",
   "execution_count": null,
   "metadata": {
    "id": "Wr0tcaSomFCM",
    "outputId": "2beb636b-da82-400e-f09f-623e314c0968"
   },
   "outputs": [],
   "source": [
    "x_list[0]"
   ]
  },
  {
   "cell_type": "code",
   "execution_count": null,
   "metadata": {
    "id": "Ok_VDoofmFCN",
    "outputId": "339f24e6-13b0-42e7-e06d-088fd43c0ef0"
   },
   "outputs": [],
   "source": [
    "tinydict = {'name': 'John', 'code': 6734, 'dept': 'sales'}\n",
    "type(tinydict)"
   ]
  },
  {
   "cell_type": "code",
   "execution_count": null,
   "metadata": {
    "id": "52aLhYZFmFCN",
    "outputId": "c44f1581-d803-4f7a-9066-0a7484e2bbb0"
   },
   "outputs": [],
   "source": [
    "print(tinydict)\n",
    "print(tinydict.keys())\n",
    "print(tinydict.values())"
   ]
  },
  {
   "cell_type": "markdown",
   "metadata": {
    "id": "uRHqwtojmFCN"
   },
   "source": [
    "We use keys instead of indexes to access elements of dictionaries"
   ]
  },
  {
   "cell_type": "code",
   "execution_count": null,
   "metadata": {
    "id": "eViU5zZAmFCO",
    "outputId": "3ee4a64e-94c2-4728-98d8-005a00c7eda6"
   },
   "outputs": [],
   "source": [
    "tinydict['name']"
   ]
  },
  {
   "cell_type": "code",
   "execution_count": null,
   "metadata": {
    "id": "TccZLizEmFCP",
    "outputId": "b51504ee-58fb-4d29-84b8-911c5ed89750"
   },
   "outputs": [],
   "source": [
    "tinydict['code']"
   ]
  },
  {
   "cell_type": "code",
   "execution_count": null,
   "metadata": {
    "id": "DQikytiimFCP",
    "outputId": "41058682-88de-49c9-bf15-c198845aa319"
   },
   "outputs": [],
   "source": [
    "tinydict['surname']"
   ]
  },
  {
   "cell_type": "markdown",
   "metadata": {
    "id": "QbvNaWKXmFCQ"
   },
   "source": [
    "We can add new entries and modifiy old elements"
   ]
  },
  {
   "cell_type": "code",
   "execution_count": null,
   "metadata": {
    "id": "x51g_KU-mFCQ",
    "outputId": "86bfaf69-9ed1-465f-d055-1fa06e84410d"
   },
   "outputs": [],
   "source": [
    "tinydict['dept'] = 'R&D'       # Update existing entry\n",
    "tinydict['surname'] = 'Sloan'  # Add new entry\n",
    "print(tinydict)"
   ]
  },
  {
   "cell_type": "code",
   "execution_count": null,
   "metadata": {
    "id": "Z89Sr4pamFCR"
   },
   "outputs": [],
   "source": [
    "del tinydict['code']  # Remove entry with key 'code'"
   ]
  },
  {
   "cell_type": "code",
   "execution_count": null,
   "metadata": {
    "id": "PImwUtL8mFCR",
    "outputId": "d317369d-7f55-4e41-83f7-dc1ae4a1a20a"
   },
   "outputs": [],
   "source": [
    "tinydict['code']"
   ]
  },
  {
   "cell_type": "code",
   "execution_count": null,
   "metadata": {
    "id": "oAOhIUB6mFCR",
    "outputId": "a58b6aa8-3262-42f5-8b9f-b4fb1665276b"
   },
   "outputs": [],
   "source": [
    "tinydict.clear()\n",
    "print(tinydict)\n",
    "del tinydict"
   ]
  },
  {
   "cell_type": "markdown",
   "metadata": {
    "id": "UNSLEO6mmFCS"
   },
   "source": [
    "When duplicate keys encountered during assignment, the last assignment wins"
   ]
  },
  {
   "cell_type": "code",
   "execution_count": null,
   "metadata": {
    "id": "RSw0ZLVcmFCS",
    "outputId": "9c4eaf04-65e7-4a57-9d82-2dc8837539c8"
   },
   "outputs": [],
   "source": [
    "pepito = {'Name': 'Sara', 'Age': 7, 'Name': 'Manni'}\n",
    "pepito"
   ]
  },
  {
   "cell_type": "markdown",
   "metadata": {
    "id": "XUUWgeVomFCS"
   },
   "source": [
    "Finding the total number of items in the dictionary:"
   ]
  },
  {
   "cell_type": "code",
   "execution_count": null,
   "metadata": {
    "id": "T1ZId1GDmFCS",
    "outputId": "212b8a54-ead0-4f28-d056-b3182a23bac0"
   },
   "outputs": [],
   "source": [
    "len(pepito)"
   ]
  },
  {
   "cell_type": "markdown",
   "metadata": {
    "id": "h5TxdSo3mFCS"
   },
   "source": [
    "Produces a printable string representation of a dictionary:"
   ]
  },
  {
   "cell_type": "code",
   "execution_count": null,
   "metadata": {
    "id": "fRkVhGnZmFCS",
    "outputId": "5f5b3c1a-d7b2-4135-be62-e656537cf2fe"
   },
   "outputs": [],
   "source": [
    "str(pepito)"
   ]
  },
  {
   "cell_type": "markdown",
   "metadata": {
    "id": "9fLgBhB1mFCT"
   },
   "source": [
    "## Sets\n",
    "\n",
    "Unordered containers without repeating items."
   ]
  },
  {
   "cell_type": "code",
   "execution_count": null,
   "metadata": {
    "id": "l7OFA3ZtmFCT",
    "outputId": "676d780f-db54-4b5e-d964-e38f90c90214"
   },
   "outputs": [],
   "source": [
    "my_set = set([1, 2])\n",
    "my_set"
   ]
  },
  {
   "cell_type": "code",
   "execution_count": null,
   "metadata": {
    "id": "ZIm1TwWymFCT",
    "outputId": "0faf7288-5f64-44fc-da36-dc5b8060780d"
   },
   "outputs": [],
   "source": [
    "my_set.add(4)\n",
    "my_set"
   ]
  },
  {
   "cell_type": "code",
   "execution_count": null,
   "metadata": {
    "id": "fN_tnVBNmFCT",
    "outputId": "80c8b8f0-6d3d-4525-8307-14288913aa50"
   },
   "outputs": [],
   "source": [
    "my_set.add(4)\n",
    "my_set"
   ]
  },
  {
   "cell_type": "markdown",
   "metadata": {
    "id": "hnRt2FtbmFCU"
   },
   "source": [
    "We can use `update` method to add multiple items"
   ]
  },
  {
   "cell_type": "code",
   "execution_count": null,
   "metadata": {
    "id": "IYrg729GmFCU",
    "outputId": "09005b90-0608-4c72-b22a-899015be3c2e"
   },
   "outputs": [],
   "source": [
    "my_set.update(['hi', 3.5])\n",
    "my_set"
   ]
  },
  {
   "cell_type": "markdown",
   "metadata": {
    "id": "2fzRQYx9mFCU"
   },
   "source": [
    "Operations between sets"
   ]
  },
  {
   "cell_type": "code",
   "execution_count": null,
   "metadata": {
    "id": "d2EiEp9ImFCV",
    "outputId": "1a426c4c-6a87-4e79-873c-9a78dc597fb0"
   },
   "outputs": [],
   "source": [
    "my_set + 5"
   ]
  },
  {
   "cell_type": "code",
   "execution_count": null,
   "metadata": {
    "id": "_J8sXxHlmFCW"
   },
   "outputs": [],
   "source": [
    "other_set = {3, 4, 5}"
   ]
  },
  {
   "cell_type": "code",
   "execution_count": null,
   "metadata": {
    "id": "qM2Xza4emFCW",
    "outputId": "4e260694-192e-4f3e-ad7e-660d32254b6b"
   },
   "outputs": [],
   "source": [
    "my_set - other_set"
   ]
  },
  {
   "cell_type": "code",
   "execution_count": null,
   "metadata": {
    "id": "CnNMPSoumFCW",
    "outputId": "7e71fd98-2b90-4b26-e7fe-f40f24eea85a"
   },
   "outputs": [],
   "source": [
    "other_set.difference(my_set)"
   ]
  },
  {
   "cell_type": "code",
   "execution_count": null,
   "metadata": {
    "id": "iY66mICNmFCW",
    "outputId": "1160c390-347f-4186-be08-20c85690755d"
   },
   "outputs": [],
   "source": [
    "my_set.intersection(other_set)"
   ]
  },
  {
   "cell_type": "code",
   "execution_count": null,
   "metadata": {
    "id": "H9EA9wXxmFCX",
    "outputId": "b8acff60-627d-484c-a2e2-0fafe04acd81"
   },
   "outputs": [],
   "source": [
    "my_set.discard('hi')\n",
    "my_set"
   ]
  },
  {
   "cell_type": "code",
   "execution_count": null,
   "metadata": {
    "id": "VhpJgnKQmFCX"
   },
   "outputs": [],
   "source": [
    "my_set.discard('hello')"
   ]
  },
  {
   "cell_type": "markdown",
   "metadata": {
    "id": "62lYdbVSmFCX"
   },
   "source": [
    "## Functions\n",
    "\n",
    "To define our own function we use the `def` statement followed by the name of the same and the input arguments in parentheses. The first line of the function can be a doc string."
   ]
  },
  {
   "cell_type": "code",
   "execution_count": null,
   "metadata": {
    "id": "LrghluVRmFCX"
   },
   "outputs": [],
   "source": [
    "def mean(mylist):\n",
    "    \"Calculate the mean of the elements in mylist.\"\n",
    "    number_of_items = len(mylist)\n",
    "    sum_of_items = sum(mylist)\n",
    "    return sum_of_items / number_of_items"
   ]
  },
  {
   "cell_type": "code",
   "execution_count": null,
   "metadata": {
    "id": "ziBs7BJXmFCY",
    "outputId": "1bedd856-b88a-4d28-cc8b-cc2c506f39e0"
   },
   "outputs": [],
   "source": [
    "mean"
   ]
  },
  {
   "cell_type": "code",
   "execution_count": null,
   "metadata": {
    "id": "tN8BvblQmFCY",
    "outputId": "27c59e01-61e7-4ac0-ca58-0a87ebed3956"
   },
   "outputs": [],
   "source": [
    "mean.__doc__"
   ]
  },
  {
   "cell_type": "code",
   "execution_count": null,
   "metadata": {
    "id": "vGJxKZMBmFCY",
    "outputId": "45a3a172-d9d8-4ef6-dad0-4fa668cd8666"
   },
   "outputs": [],
   "source": [
    "type(mean)"
   ]
  },
  {
   "cell_type": "code",
   "execution_count": null,
   "metadata": {
    "id": "WbaorD7PmFCY",
    "outputId": "e6180370-29f9-4014-98d3-bd66b1f8eff6"
   },
   "outputs": [],
   "source": [
    "z_list"
   ]
  },
  {
   "cell_type": "code",
   "execution_count": null,
   "metadata": {
    "id": "CWfaJDLZmFCY",
    "outputId": "35f2d4fa-ed57-4518-e7e0-1c14b1afeac4"
   },
   "outputs": [],
   "source": [
    "mean(z_list)"
   ]
  },
  {
   "cell_type": "code",
   "execution_count": null,
   "metadata": {
    "id": "gsSLRgr0mFCZ",
    "outputId": "94ca5c0c-f05d-45e5-92b7-04185fd12cfb"
   },
   "outputs": [],
   "source": [
    "help(mean)"
   ]
  },
  {
   "cell_type": "code",
   "execution_count": null,
   "metadata": {
    "id": "QiB0ElKQmFCZ"
   },
   "outputs": [],
   "source": [
    "mean?"
   ]
  },
  {
   "cell_type": "code",
   "execution_count": null,
   "metadata": {
    "id": "joN6KmpPmFCZ"
   },
   "outputs": [],
   "source": [
    "mean??"
   ]
  },
  {
   "cell_type": "code",
   "execution_count": null,
   "metadata": {
    "id": "FIq78WCZmFCZ",
    "outputId": "ba4b713b-8680-4eac-c7c8-f26239cf438c"
   },
   "outputs": [],
   "source": [
    "def multiply(x, y=2.0):\n",
    "    \"\"\"Multiplies two numbers, bu default the first by 2.\"\"\"\n",
    "    return x * y\n",
    "\n",
    "multiply(2,3), multiply(3)"
   ]
  },
  {
   "cell_type": "markdown",
   "metadata": {
    "id": "h4_8ymoimFCa"
   },
   "source": [
    "## Flow Control\n",
    "\n",
    "In general, statements are executed sequentially: the first statement in a function is executed first, followed by the second, and so on. We often encounter situations in which we need to execute a block of code several number of times or change the operations based on some conditions. In Python a block is delimitted by an intendation (4 spaces), i.e. all lines starting at the same space are one block.\n",
    "\n",
    "Programming languages provide various control structures that allow for more complicated execution paths."
   ]
  },
  {
   "cell_type": "markdown",
   "metadata": {
    "id": "snyRKHltmFCa"
   },
   "source": [
    "### `while` Loop\n",
    "Repeats a statement or group of statements while a given condition is `True`. The condition is tested before executing the loop body every time."
   ]
  },
  {
   "cell_type": "code",
   "execution_count": null,
   "metadata": {
    "id": "VFMlGqWFmFCa",
    "outputId": "5ec03cf7-47d1-403d-ae5e-eba865263709"
   },
   "outputs": [],
   "source": [
    "count = 0\n",
    "while (count < 9):\n",
    "    print('The count is: ' + str(count))\n",
    "    count += 1\n",
    "\n",
    "print('Good bye!')"
   ]
  },
  {
   "cell_type": "markdown",
   "metadata": {
    "id": "rKkhmco5mFCb"
   },
   "source": [
    "A loop becomes infinite loop whenever the condition never becomes `False`. Hence, we need to be careful when using while loops provided that they may never end, as we saw in the previous notebook. These are called infinite loops.\n",
    "\n",
    "An infinite loop might be useful in client/server programming where the server needs to run continuously so that client programs can communicate with it when required (`while True:`)"
   ]
  },
  {
   "cell_type": "markdown",
   "metadata": {
    "id": "z6Z5KFoGmFCb"
   },
   "source": [
    "### `for` Loop\n",
    "Executes a sequence of statements multiple times and abbreviates the code that manages the loop variable. The idea is that it goes through a set of elements"
   ]
  },
  {
   "cell_type": "code",
   "execution_count": null,
   "metadata": {
    "id": "_ajynWKtmFCb",
    "outputId": "16ad43f2-1261-499d-c258-d20782089bc4"
   },
   "outputs": [],
   "source": [
    "for i in 1,2,3:\n",
    "    print(i)"
   ]
  },
  {
   "cell_type": "code",
   "execution_count": null,
   "metadata": {
    "id": "e7a1QBuKmFCc",
    "outputId": "7baee96b-6d29-4bef-ad0a-c280c4056b6a"
   },
   "outputs": [],
   "source": [
    "for name in 'John','Charles','Tom':\n",
    "    print(name)"
   ]
  },
  {
   "cell_type": "code",
   "execution_count": null,
   "metadata": {
    "id": "bGBo__8pmFCc",
    "outputId": "aca88621-b868-47c4-f373-211253a833f2"
   },
   "outputs": [],
   "source": [
    "fruits = ['banana', 'apple',  'mango']\n",
    "for fruit in fruits:        # Second Example\n",
    "    print('Current fruit:', fruit)"
   ]
  },
  {
   "cell_type": "markdown",
   "metadata": {
    "id": "RyMBO6l7mFCc"
   },
   "source": [
    "Sometimes one also needs the index of the element, e.g. to plot a subset of data on different subplots. Then `enumerate` provides an elegant (\"pythonic\") way:"
   ]
  },
  {
   "cell_type": "code",
   "execution_count": null,
   "metadata": {
    "id": "aJ0bv1k3mFCc",
    "outputId": "e89c41e8-4c8a-4913-ec09-459c783401d1"
   },
   "outputs": [],
   "source": [
    "for index, fruit in enumerate(fruits):\n",
    "    print(f'Fruit number {index}:', fruit)"
   ]
  },
  {
   "cell_type": "markdown",
   "metadata": {
    "id": "I75H8xjemFCc"
   },
   "source": [
    "In principle one could also iterate over an index going from 0 to the number of elements:"
   ]
  },
  {
   "cell_type": "code",
   "execution_count": null,
   "metadata": {
    "id": "BkCOuBNBmFCd"
   },
   "outputs": [],
   "source": [
    "for index in range(len(fruits)):\n",
    "    print('Current fruit:', fruits[index])"
   ]
  },
  {
   "cell_type": "markdown",
   "metadata": {
    "id": "Jh3P9E1jmFCd"
   },
   "source": [
    "`range` function can be also used to go through a range of numbers"
   ]
  },
  {
   "cell_type": "code",
   "execution_count": null,
   "metadata": {
    "id": "54Fmw4wtmFCd",
    "outputId": "497780d4-bd69-4851-a20c-1a847e627c46"
   },
   "outputs": [],
   "source": [
    "for ii in range(3):\n",
    "    print(ii)"
   ]
  },
  {
   "cell_type": "code",
   "execution_count": null,
   "metadata": {
    "id": "CjTDYM7WmFCd",
    "outputId": "081ac49d-67ae-4c8a-e0ac-eac3b68a3055"
   },
   "outputs": [],
   "source": [
    "for ii in range(2,5):\n",
    "    print(ii)"
   ]
  },
  {
   "cell_type": "code",
   "execution_count": null,
   "metadata": {
    "id": "tzxdxPmSmFCd",
    "outputId": "da885acd-ce68-444f-866c-7bf7ba2c1028"
   },
   "outputs": [],
   "source": [
    "for ii in range(2,10,2):\n",
    "    print(ii)"
   ]
  },
  {
   "cell_type": "markdown",
   "metadata": {
    "id": "X1OWBg8zmFCe"
   },
   "source": [
    "`for` loops can be elegantly integrated into a list comprehension"
   ]
  },
  {
   "cell_type": "code",
   "execution_count": null,
   "metadata": {
    "id": "nqFuUC5-mFCe",
    "outputId": "0731581b-5f23-4cf4-f09a-2fbf836a24fb"
   },
   "outputs": [],
   "source": [
    "our_list = []\n",
    "for n in range(5):\n",
    "    our_list.append(n)\n",
    "our_list"
   ]
  },
  {
   "cell_type": "code",
   "execution_count": null,
   "metadata": {
    "id": "noouLZm9mFCe",
    "outputId": "b1bb6486-2210-4c41-e09b-cc593e75d442"
   },
   "outputs": [],
   "source": [
    "[10*n for n in range(5)]"
   ]
  },
  {
   "cell_type": "code",
   "execution_count": null,
   "metadata": {
    "id": "NbpAqAy7mFCe",
    "outputId": "27f46fac-1145-4dc2-e99e-0f2f2eb7335b"
   },
   "outputs": [],
   "source": [
    "print(\"It was true\") if 2 < 3 else print(\"It was false\") "
   ]
  },
  {
   "cell_type": "code",
   "execution_count": null,
   "metadata": {
    "id": "Gnu7eEP4mFCe",
    "outputId": "5967468e-8385-4eef-98dc-eff09e3119a6"
   },
   "outputs": [],
   "source": [
    "fruits_with_b = [fruit for fruit in fruits if fruit.startswith('b')]\n",
    "fruits_with_b"
   ]
  },
  {
   "cell_type": "markdown",
   "metadata": {
    "id": "fx6N6mxzmFCf"
   },
   "source": [
    "This is equivalent to the following loop:"
   ]
  },
  {
   "cell_type": "code",
   "execution_count": null,
   "metadata": {
    "id": "v-luySsRmFCf",
    "outputId": "747406fe-1abd-461a-d7c5-1fa82a085b96"
   },
   "outputs": [],
   "source": [
    "fruits_with_b = []\n",
    "for fruit in fruits:\n",
    "    if fruit.startswith('b'):\n",
    "        fruits_with_b.append(fruit)\n",
    "fruits_with_b"
   ]
  },
  {
   "cell_type": "markdown",
   "metadata": {
    "id": "O6OpeZqVmFCf"
   },
   "source": [
    "**Exercise**: write a function that reads a number $n$ and prints the $n$-th harmonic number, defined as \n",
    "$$H_n = 1/1 + 1/2 + \\dots + 1/n$$ with at most 4 digits after the decimal point"
   ]
  },
  {
   "cell_type": "code",
   "execution_count": null,
   "metadata": {
    "id": "xjqIV7JlmFCf"
   },
   "outputs": [],
   "source": [
    "def harmonic(n):\n",
    "    \"\"\"Returns the n-th harmonic number\"\"\"\n",
    "    sum = 0\n",
    "    for i in range(1,n+1):\n",
    "        sum += float(1/i)\n",
    "    return round(sum,4)"
   ]
  },
  {
   "cell_type": "code",
   "execution_count": null,
   "metadata": {
    "id": "YXDi8wZemFCg",
    "outputId": "9cc2ac16-dae8-41af-82e3-e8cd074165d9"
   },
   "outputs": [],
   "source": [
    "harmonic(2), harmonic(7)"
   ]
  },
  {
   "cell_type": "markdown",
   "metadata": {
    "id": "zk3mZTVrmFCg"
   },
   "source": [
    "### Nested Loops\n",
    "\n",
    "Nested loops are loops within other loops, regardless of the type. For example, we can have nested for and while loops."
   ]
  },
  {
   "cell_type": "code",
   "execution_count": null,
   "metadata": {
    "id": "TinRvW3ZmFCg"
   },
   "outputs": [],
   "source": [
    "for x in range(1, 3):\n",
    "    for y in range(1, 4):\n",
    "        print(f'{x} * {y} = {x*y}')"
   ]
  },
  {
   "cell_type": "markdown",
   "metadata": {
    "id": "tqIvSVLTmFCg"
   },
   "source": [
    "### `if`\n",
    "\n",
    "As we saw in the previous notebook, the if statement evaluates the code subject to the fulfillment of a given condition (generally created with a logical operator such as `==`, `<`, `>`, `=<`, `=>`, `not`, `is`, `in`, etc.). We can introduce an optional `else` statement to execute an alternative block of code whenever the condition is not met."
   ]
  },
  {
   "cell_type": "code",
   "execution_count": null,
   "metadata": {
    "id": "Jld4BuvkmFCh"
   },
   "outputs": [],
   "source": [
    "attendants = ['Mark', 'Jack', 'Mary']\n",
    "student = 'Mark'\n",
    "\n",
    "if student in attendants:\n",
    "    print('present!')\n",
    "else:\n",
    "    print('absent!')"
   ]
  },
  {
   "cell_type": "markdown",
   "metadata": {
    "id": "SHYgILN0mFCh"
   },
   "source": [
    "We can also use one or more `elif` statements to check multiple conditions and execute a block of code as soon as one of the conditions is `True`."
   ]
  },
  {
   "cell_type": "code",
   "execution_count": null,
   "metadata": {
    "id": "vW_AXlaImFCh"
   },
   "outputs": [],
   "source": [
    "attendants_A = ['Mark', 'Jack', 'Mary']\n",
    "attendants_B = ['Tom', 'Dick', 'Harry']\n",
    "student = 'Tom'\n",
    "\n",
    "if student in attendants_A:\n",
    "    print('present in list A!')\n",
    "elif student in attendants_B:\n",
    "    print('present in list B!')\n",
    "else:\n",
    "    print('absent!')"
   ]
  },
  {
   "cell_type": "markdown",
   "metadata": {
    "id": "MHEy0QYvmFCh"
   },
   "source": [
    "We can also use nested `if` statements."
   ]
  },
  {
   "cell_type": "markdown",
   "metadata": {
    "id": "G2DoLzh0mFCi"
   },
   "source": [
    "### `break`"
   ]
  },
  {
   "cell_type": "markdown",
   "metadata": {
    "id": "6VO-ByasmFCi"
   },
   "source": [
    "`break` terminates the current loop and resumes execution at the next statement. The `break` statement can be used in both `while` and `for` loops. In nested loops, the `break` statement only stops the execution of the **innermost loop**."
   ]
  },
  {
   "cell_type": "code",
   "execution_count": null,
   "metadata": {
    "id": "11Mz3o29mFCi"
   },
   "outputs": [],
   "source": [
    "var = 10\n",
    "while var > 0:              \n",
    "    print('Current variable value: ' + str(var))\n",
    "    var -= 1\n",
    "    if var == 5:\n",
    "        break\n",
    "\n",
    "print('Good bye!')"
   ]
  },
  {
   "cell_type": "markdown",
   "metadata": {
    "id": "LiIlY0CbmFCi"
   },
   "source": [
    "An `else` statement right after the loop is executed if it hasn't been interrumpted by us "
   ]
  },
  {
   "cell_type": "code",
   "execution_count": null,
   "metadata": {
    "id": "l1xgVKSTmFCi",
    "outputId": "b19fa79a-c768-489e-9a39-eaf182e1b242"
   },
   "outputs": [],
   "source": [
    "var = 10\n",
    "while var > 0:              \n",
    "    print('Current variable value: ' + str(var))\n",
    "    var -= 1\n",
    "    if var == 5:\n",
    "        break\n",
    "else:\n",
    "    print(\"Loop finished\")"
   ]
  },
  {
   "cell_type": "code",
   "execution_count": null,
   "metadata": {
    "id": "JYFUBpfKmFCj",
    "outputId": "92e18a27-a3b5-492d-9815-f29977223867"
   },
   "outputs": [],
   "source": [
    "var = 10\n",
    "while var > 0:              \n",
    "    print('Current variable value: ' + str(var))\n",
    "    var -= 1\n",
    "    # if var  5:\n",
    "    #    break\n",
    "else:\n",
    "    print(\"Loop finished\")"
   ]
  },
  {
   "cell_type": "markdown",
   "metadata": {
    "id": "ipyGlEDMmFCj"
   },
   "source": [
    "### `continue` "
   ]
  },
  {
   "cell_type": "markdown",
   "metadata": {
    "id": "V0Ch91g1mFCj"
   },
   "source": [
    "The `continue` statement rejects all the remaining statements in the current iteration of the loop and moves the control back to the top of the loop (like a \"skip\"). It can be used in both `while` and `for` loops."
   ]
  },
  {
   "cell_type": "code",
   "execution_count": null,
   "metadata": {
    "id": "Fq7pT3pumFCj",
    "outputId": "7b69e422-5a20-4fec-a172-d1c191ecd3fc"
   },
   "outputs": [],
   "source": [
    "for letter in 'Python':\n",
    "    if letter == 'h':\n",
    "        continue\n",
    "    print('Current Letter: ' + letter)\n"
   ]
  },
  {
   "cell_type": "markdown",
   "metadata": {
    "id": "4Wh6AI9ZmFCk"
   },
   "source": [
    "### `pass`"
   ]
  },
  {
   "cell_type": "markdown",
   "metadata": {
    "id": "PEMjbkXlmFCk"
   },
   "source": [
    "The `pass` statement is a null operation: nothing happens when it executes. `pass` is also useful in places where the code will eventually go but has not been written yet."
   ]
  },
  {
   "cell_type": "code",
   "execution_count": null,
   "metadata": {
    "id": "58eFJ2wQmFCk",
    "outputId": "5e8745fc-43ed-4c48-cc4f-2f7725fb0c59"
   },
   "outputs": [],
   "source": [
    "for letter in 'Python': \n",
    "    if letter == 'h':\n",
    "        pass\n",
    "        print('This is pass block')\n",
    "    print('Current Letter: ' + letter)\n",
    "\n",
    "print('Good bye!')"
   ]
  },
  {
   "cell_type": "markdown",
   "metadata": {
    "id": "mPn5Y_xMmFCk"
   },
   "source": [
    "`pass` and `continue` may look similar but they fulfill different tasks. The printed message \"This is pass block\", wouldn't have been printed if continue had been used instead. `pass` does not do anything, while `continue` brings us straight the next iteration."
   ]
  },
  {
   "cell_type": "code",
   "execution_count": null,
   "metadata": {
    "id": "GeT3aC-LmFCk",
    "outputId": "c9728dc2-94b3-47a7-879b-9da6f0a69c3a"
   },
   "outputs": [],
   "source": [
    "for letter in 'Python': \n",
    "    if letter == 'h':\n",
    "        continue\n",
    "        print('This is pass block')\n",
    "    print('Current Letter: ' + letter)\n",
    "\n",
    "print('Good bye!')"
   ]
  },
  {
   "cell_type": "markdown",
   "metadata": {
    "id": "5g8U0Rf7mFCl"
   },
   "source": [
    "**Exercise:** Write a function that prints squares with $n^2$ $n$’s.\n",
    "\n",
    "*Input*: Input consists of several natural numbers between 1 and 9.\n",
    "\n",
    "*Output*:For every $n$, print a square of size $n \\times n$ full of $n$’s. Separate two squares with an empty line."
   ]
  },
  {
   "cell_type": "code",
   "execution_count": null,
   "metadata": {
    "id": "Vi8Hd9O8mFCl"
   },
   "outputs": [],
   "source": [
    "def squares(n):\n",
    "    \"\"\"prints squares with n^2 n's\"\"\"\n",
    "    for i in range(n):\n",
    "        string = \"\"\n",
    "        for j in range(n):\n",
    "            string = string + str(n)\n",
    "        print(string)"
   ]
  },
  {
   "cell_type": "code",
   "execution_count": null,
   "metadata": {
    "id": "KopPKstvmFCl",
    "outputId": "0d42b774-4619-45d3-97f1-b4b97df3d307"
   },
   "outputs": [],
   "source": [
    "squares(3)"
   ]
  },
  {
   "cell_type": "code",
   "execution_count": null,
   "metadata": {},
   "outputs": [],
   "source": []
  },
  {
   "cell_type": "code",
   "execution_count": null,
   "metadata": {},
   "outputs": [],
   "source": []
  },
  {
   "cell_type": "code",
   "execution_count": null,
   "metadata": {},
   "outputs": [],
   "source": []
  },
  {
   "cell_type": "code",
   "execution_count": null,
   "metadata": {},
   "outputs": [],
   "source": []
  },
  {
   "cell_type": "code",
   "execution_count": null,
   "metadata": {},
   "outputs": [],
   "source": []
  },
  {
   "cell_type": "code",
   "execution_count": null,
   "metadata": {},
   "outputs": [],
   "source": []
  },
  {
   "cell_type": "code",
   "execution_count": null,
   "metadata": {},
   "outputs": [],
   "source": []
  },
  {
   "cell_type": "markdown",
   "metadata": {
    "tags": []
   },
   "source": [
    "For example, this way we import math to use well-known functions and also other variables:"
   ]
  },
  {
   "cell_type": "code",
   "execution_count": null,
   "metadata": {
    "id": "AhB97xnumFBk",
    "tags": []
   },
   "outputs": [],
   "source": [
    "x_int = 3\n",
    "x_float = 3.\n",
    "x_complex = 1 + 2j\n",
    "x_string = 'three'\n",
    "x_list = [3, 'three']"
   ]
  },
  {
   "cell_type": "code",
   "execution_count": null,
   "metadata": {
    "id": "oJ1BQ3F4mFBl",
    "outputId": "3b985229-f759-4384-af35-c7f29e7f11b7",
    "tags": []
   },
   "outputs": [],
   "source": [
    "type(x_float)"
   ]
  },
  {
   "cell_type": "code",
   "execution_count": null,
   "metadata": {
    "id": "54xBOG-FmFBm",
    "outputId": "a7929d87-2b74-4b95-cae4-d4ab967a31f8",
    "tags": []
   },
   "outputs": [],
   "source": [
    "type(x_string)"
   ]
  },
  {
   "cell_type": "code",
   "execution_count": null,
   "metadata": {
    "id": "LfO_COLWmFBn",
    "outputId": "444287da-705f-4049-bb40-b2569be23f40",
    "tags": []
   },
   "outputs": [],
   "source": [
    "type(x_complex)"
   ]
  },
  {
   "cell_type": "code",
   "execution_count": null,
   "metadata": {
    "id": "dlt37ncPmFBo",
    "outputId": "cff7cb0d-35ed-48e1-fd9f-b1184c36cee8",
    "tags": []
   },
   "outputs": [],
   "source": [
    "type(x_list)"
   ]
  },
  {
   "cell_type": "markdown",
   "metadata": {
    "id": "ve5wfaiAmFBo",
    "tags": []
   },
   "source": [
    "We can convert numerical types using functions `int`, `float` and `complex`"
   ]
  },
  {
   "cell_type": "code",
   "execution_count": null,
   "metadata": {
    "id": "QxUj7qQlmFBp",
    "outputId": "177d0e49-3ce9-4841-ceeb-a82982391408",
    "tags": []
   },
   "outputs": [],
   "source": [
    "z = 3 + 2j\n",
    "z"
   ]
  },
  {
   "cell_type": "code",
   "execution_count": null,
   "metadata": {
    "id": "aivsJI_smFBq",
    "outputId": "e748666f-d991-4e5e-ef69-fa526268363b",
    "tags": []
   },
   "outputs": [],
   "source": [
    "_6"
   ]
  },
  {
   "cell_type": "code",
   "execution_count": null,
   "metadata": {
    "id": "T6JLXj7jmFBq",
    "outputId": "736fc3e5-2c9d-409d-838e-22c50af9d3a1",
    "tags": []
   },
   "outputs": [],
   "source": [
    "int(_)"
   ]
  },
  {
   "cell_type": "markdown",
   "metadata": {
    "id": "WMDrjE7XmFBs",
    "tags": []
   },
   "source": [
    "To find the absolute value"
   ]
  },
  {
   "cell_type": "code",
   "execution_count": null,
   "metadata": {
    "id": "1IoyD_dSmFBs",
    "outputId": "0cfd1421-03ad-44a1-ad06-fec903d06f36",
    "tags": []
   },
   "outputs": [],
   "source": [
    "abs(z)"
   ]
  },
  {
   "cell_type": "code",
   "execution_count": null,
   "metadata": {
    "id": "-6ox0oR1mFBt",
    "outputId": "1d6463c5-c1e9-40f0-aae2-bf8fbd2e0721",
    "tags": []
   },
   "outputs": [],
   "source": [
    "abs(-19)"
   ]
  },
  {
   "cell_type": "code",
   "execution_count": null,
   "metadata": {
    "id": "dmhT_213mFBt",
    "tags": []
   },
   "outputs": [],
   "source": [
    "pi = 3.1456"
   ]
  },
  {
   "cell_type": "code",
   "execution_count": null,
   "metadata": {
    "id": "MdxcAVO2mFBu",
    "outputId": "f85789d3-520e-4703-cc62-190baf9d2436",
    "tags": []
   },
   "outputs": [],
   "source": [
    "int(pi)"
   ]
  },
  {
   "cell_type": "code",
   "execution_count": null,
   "metadata": {
    "id": "wRvAi8lrmFBu",
    "outputId": "abf5b5f7-2f8a-4662-ad00-797928267a2f",
    "tags": []
   },
   "outputs": [],
   "source": [
    "complex(pi)"
   ]
  },
  {
   "cell_type": "code",
   "execution_count": null,
   "metadata": {
    "id": "p3_VSfMjmFBv",
    "outputId": "d6dbeaa9-c18e-4bc5-f549-77b422211bc0",
    "tags": []
   },
   "outputs": [],
   "source": [
    "abs(pi)"
   ]
  },
  {
   "cell_type": "code",
   "execution_count": null,
   "metadata": {
    "id": "WTZavjwimFBv",
    "outputId": "fdd14a2b-744e-490e-ee16-a526f64ea207",
    "tags": []
   },
   "outputs": [],
   "source": [
    "round(pi) # round(pi, 1)"
   ]
  },
  {
   "cell_type": "code",
   "execution_count": null,
   "metadata": {
    "id": "VO8HnxhLmFBv",
    "outputId": "78da7b01-99f5-4841-ed5a-324fc2dffef5",
    "tags": []
   },
   "outputs": [],
   "source": [
    "float(pi)"
   ]
  },
  {
   "cell_type": "markdown",
   "metadata": {
    "id": "LSb57Y90mFBw"
   },
   "source": [
    "Other useful functions:"
   ]
  },
  {
   "cell_type": "code",
   "execution_count": null,
   "metadata": {
    "id": "yMJdyqhamFBw",
    "outputId": "5b21c276-6ae4-4d42-f572-6dadd2d72c33"
   },
   "outputs": [],
   "source": [
    "max(0, -1, 1, 2)"
   ]
  },
  {
   "cell_type": "code",
   "execution_count": null,
   "metadata": {
    "id": "QXBBK-hcmFBw",
    "outputId": "22294c50-eb28-412c-8baa-96171e8a2ffd"
   },
   "outputs": [],
   "source": [
    "min(1, 2, 0, -1)"
   ]
  },
  {
   "cell_type": "markdown",
   "metadata": {
    "id": "ONM2PDs-mFBx",
    "tags": []
   },
   "source": [
    "### Math library\n",
    "\n",
    "Python is organized into modules, which are files with a `.py` extension that contain functions, variables, and other objects, and packages, which are sets of modules. When we want to use objects that are defined in a module we have to import it, and once we have done it we can use the operator `.` to go down the hierarchy of packages and access the object we need. For example, this way we import math to use well-known functions and also other variables:"
   ]
  },
  {
   "cell_type": "code",
   "execution_count": null,
   "metadata": {
    "id": "yt5kgS0umFBx",
    "outputId": "764a31d3-cf30-4437-8555-7cafd752aa73",
    "tags": []
   },
   "outputs": [],
   "source": [
    "import math\n",
    "\n",
    "math.floor(4.5)"
   ]
  },
  {
   "cell_type": "code",
   "execution_count": null,
   "metadata": {
    "id": "f7pPzHNKmFBy",
    "outputId": "c5c1de9d-c88b-453b-c50c-6cbf777aee73",
    "tags": []
   },
   "outputs": [],
   "source": [
    "math.exp(1)"
   ]
  },
  {
   "cell_type": "code",
   "execution_count": null,
   "metadata": {
    "id": "dycba-_1mFBy",
    "outputId": "03fe7beb-37e1-490e-b566-54b22c015804",
    "tags": []
   },
   "outputs": [],
   "source": [
    "math.log(1)"
   ]
  },
  {
   "cell_type": "code",
   "execution_count": null,
   "metadata": {
    "id": "ofqWUBmwmFBy",
    "outputId": "aac46e90-79bd-4821-b654-2989b281e64f",
    "tags": []
   },
   "outputs": [],
   "source": [
    "math.log10(10)"
   ]
  },
  {
   "cell_type": "code",
   "execution_count": null,
   "metadata": {
    "id": "rsAsZELSmFBz",
    "outputId": "6a599730-2661-43fa-e48c-aa962847234d",
    "tags": []
   },
   "outputs": [],
   "source": [
    "math.sqrt(9)"
   ]
  },
  {
   "cell_type": "markdown",
   "metadata": {
    "id": "Y8BAe-_fmFBz",
    "tags": []
   },
   "source": [
    "Remember you can always look at the documentation of any function with `?`"
   ]
  },
  {
   "cell_type": "code",
   "execution_count": null,
   "metadata": {
    "id": "xRRnFtnemFBz",
    "tags": []
   },
   "outputs": [],
   "source": [
    "math.sqrt?"
   ]
  },
  {
   "cell_type": "code",
   "execution_count": null,
   "metadata": {
    "id": "w_VUJkEqmFBz",
    "outputId": "3d3b4c19-538b-4253-9357-208f1f93bfc0",
    "tags": []
   },
   "outputs": [],
   "source": [
    "math.pi, math.e"
   ]
  },
  {
   "cell_type": "markdown",
   "metadata": {
    "id": "tObd1FjcmFBz",
    "tags": []
   },
   "source": [
    "We can use alias when importing libraries"
   ]
  },
  {
   "cell_type": "code",
   "execution_count": null,
   "metadata": {
    "id": "mIJI4jklmFB0",
    "tags": []
   },
   "outputs": [],
   "source": [
    "import numpy as np"
   ]
  },
  {
   "cell_type": "code",
   "execution_count": null,
   "metadata": {
    "id": "8SuW3rClmFB5",
    "outputId": "f68dcb18-836e-4fce-9ec3-87a5b971bf45",
    "tags": []
   },
   "outputs": [],
   "source": [
    "np.e"
   ]
  },
  {
   "cell_type": "markdown",
   "metadata": {
    "id": "Yq8oSrNFmFB5",
    "tags": []
   },
   "source": [
    "**Exercise**: compute the value of the expression\n",
    "$$\\sqrt{\\frac{3}{\\pi - 1} + 25^{1/4}}$$\n",
    "and give the result rounded to two decimals"
   ]
  },
  {
   "cell_type": "code",
   "execution_count": null,
   "metadata": {
    "id": "Wx8FvRnomFB6",
    "outputId": "2c37e8c9-762f-4a06-deb4-8049962e46bf",
    "tags": []
   },
   "outputs": [],
   "source": [
    "round(math.sqrt(3/(math.pi - 1) + 25**(1/4)),2)"
   ]
  },
  {
   "cell_type": "code",
   "execution_count": null,
   "metadata": {
    "id": "fIdW7IWBmFB8",
    "outputId": "d41d2026-569a-46a0-f688-4412a4d7c42b"
   },
   "outputs": [],
   "source": [
    "x_list"
   ]
  },
  {
   "cell_type": "markdown",
   "metadata": {
    "id": "A-A7kHTJmFB8"
   },
   "source": [
    "We can retrieve elements of a list by indexing into the object with `[]`. In Python we count the elements of a collection from $0$ to $n-1$ (being $n$ the total number of elements). In order to retrieve an element, we can start counting from the beginning of the list, simply introducing the corresponding index, or from the end of the list with negative indexes."
   ]
  },
  {
   "cell_type": "code",
   "execution_count": null,
   "metadata": {
    "id": "W0aKr-fLmFB9",
    "outputId": "977651e0-5d8d-4b0e-a937-bfb4d8a0cf97"
   },
   "outputs": [],
   "source": [
    "x_list[0], x_list[-2]"
   ]
  },
  {
   "cell_type": "code",
   "execution_count": null,
   "metadata": {
    "id": "bi4hjTFqmFB9",
    "outputId": "e6c3673e-044d-4bdc-9c11-0734b00acac0"
   },
   "outputs": [],
   "source": [
    "x_list[1], x_list[-1]"
   ]
  },
  {
   "cell_type": "markdown",
   "metadata": {
    "id": "zMP4IMFqmFCF"
   },
   "source": [
    "#### Slicing\n",
    "\n",
    "Taking a slice of the form `[i:j:k]`, the convention is that we take elements from `i` (included) up to `j` (excluded) using a `k` step. "
   ]
  },
  {
   "cell_type": "code",
   "execution_count": null,
   "metadata": {
    "id": "S3TyeyoFmFCF"
   },
   "outputs": [],
   "source": [
    "w_list = [0, 1, 2, 3, 4]"
   ]
  },
  {
   "cell_type": "code",
   "execution_count": null,
   "metadata": {
    "id": "xijKVBwSmFCF",
    "outputId": "30639dcd-46e7-4092-baf4-159838eac95e"
   },
   "outputs": [],
   "source": [
    "print(w_list[0])\n",
    "print(w_list[1])\n",
    "print(w_list[0:2])\n",
    "print(w_list[1:])\n",
    "print(w_list[:3])\n",
    "print(w_list[-1])\n",
    "print(w_list[:-2])\n",
    "print(w_list[:])\n",
    "print(w_list[::2])"
   ]
  },
  {
   "cell_type": "markdown",
   "metadata": {
    "id": "4UlRt2OgmFCA"
   },
   "source": [
    "We can apply functions to lists, `max`, `min`, `sum`, `len`"
   ]
  },
  {
   "cell_type": "code",
   "execution_count": null,
   "metadata": {
    "id": "aDFWDBh2mFCA",
    "outputId": "26c91edc-9426-4a56-8e91-b84c703fed16"
   },
   "outputs": [],
   "source": [
    "z_list=[4, 78, 3]\n",
    "max(z_list)"
   ]
  },
  {
   "cell_type": "code",
   "execution_count": null,
   "metadata": {
    "id": "NgjgEfEUmFCB",
    "outputId": "13999df9-6036-480f-acf3-4ed4fd6a2699"
   },
   "outputs": [],
   "source": [
    "min(z_list)"
   ]
  },
  {
   "cell_type": "code",
   "execution_count": null,
   "metadata": {
    "id": "9z76YiHQmFCB",
    "outputId": "24e4038e-3fea-42be-9c49-93d1098f1445"
   },
   "outputs": [],
   "source": [
    "sum(z_list)"
   ]
  },
  {
   "cell_type": "code",
   "execution_count": null,
   "metadata": {
    "id": "5GKlidxmmFCC",
    "outputId": "4c16a0b7-d1bd-4af5-d1a9-97c4c7214506"
   },
   "outputs": [],
   "source": [
    "len(z_list)"
   ]
  },
  {
   "cell_type": "markdown",
   "metadata": {
    "id": "TcFPwZIUmFCJ",
    "tags": []
   },
   "source": [
    "#### Formating\n",
    "\n",
    "You can also format strings, e.g. to display rounded numbers"
   ]
  },
  {
   "cell_type": "code",
   "execution_count": null,
   "metadata": {
    "id": "uFzRQSXdmFCJ",
    "outputId": "b40bf47b-fcb8-458c-f4f7-a794d9beb068"
   },
   "outputs": [],
   "source": [
    "print('Pi is {:06.2f}'.format(3.14159))\n",
    "print('Space can be filled using {:_>10}'.format(x))"
   ]
  },
  {
   "cell_type": "markdown",
   "metadata": {
    "id": "HFwOnOEamFCJ"
   },
   "source": [
    "With python 3.6 this became even more readable"
   ]
  },
  {
   "cell_type": "code",
   "execution_count": null,
   "metadata": {
    "id": "tYMtcQ4rmFCK",
    "outputId": "89d78cf7-abfe-4e7a-8e47-80b3e9b6b840"
   },
   "outputs": [],
   "source": [
    "print(f'{x} 1 2 3')"
   ]
  },
  {
   "cell_type": "markdown",
   "metadata": {
    "id": "BTPUDw1imFB6",
    "tags": []
   },
   "source": [
    "## Lists\n",
    "\n",
    "Lists are ordered collections of objects of any kind."
   ]
  },
  {
   "cell_type": "markdown",
   "metadata": {
    "id": "piQPeu4NmFB9"
   },
   "source": [
    "We can insert elemnts at the end"
   ]
  },
  {
   "cell_type": "code",
   "execution_count": null,
   "metadata": {
    "id": "quyWe68OmFB-",
    "outputId": "d44cd245-1d76-4db5-abbc-60fec692a456"
   },
   "outputs": [],
   "source": [
    "x_list.append('III')\n",
    "x_list"
   ]
  },
  {
   "cell_type": "markdown",
   "metadata": {
    "id": "gGoe5tAKmFB-"
   },
   "source": [
    "A list can contain other lists"
   ]
  },
  {
   "cell_type": "code",
   "execution_count": null,
   "metadata": {
    "id": "mZk6Z7FWmFB-",
    "outputId": "acede223-7973-4993-c247-08d8a445af82"
   },
   "outputs": [],
   "source": [
    "x_list.append(['III', [2, 'hi']])\n",
    "x_list"
   ]
  },
  {
   "cell_type": "code",
   "execution_count": null,
   "metadata": {
    "id": "BL4WsIU-mFB-",
    "outputId": "e5f423f3-4ca4-4f55-90e3-a59481fc45e8"
   },
   "outputs": [],
   "source": [
    "x_list[4][0], x_list[4][1][0]"
   ]
  },
  {
   "cell_type": "markdown",
   "metadata": {
    "id": "LD81UodLmFB_"
   },
   "source": [
    "Delete elements"
   ]
  },
  {
   "cell_type": "code",
   "execution_count": null,
   "metadata": {
    "id": "F9umu3gdmFB_",
    "outputId": "a84403ec-9cce-43e6-a462-4f2ef5e3c599"
   },
   "outputs": [],
   "source": [
    "del x_list[-1]\n",
    "x_list"
   ]
  },
  {
   "cell_type": "markdown",
   "metadata": {
    "id": "JMWdOD0YmFB_"
   },
   "source": [
    "Concatenate elements"
   ]
  },
  {
   "cell_type": "code",
   "execution_count": null,
   "metadata": {
    "id": "nNWFGZRLmFCA",
    "outputId": "5a14a7aa-2602-4532-ea87-9cdc75b17d81"
   },
   "outputs": [],
   "source": [
    "y_list = ['john', '2.', '1']\n",
    "\n",
    "y_list + x_list"
   ]
  },
  {
   "cell_type": "code",
   "execution_count": null,
   "metadata": {
    "id": "ffpj68gOmFCA",
    "outputId": "cf0f7492-47bf-462a-eb79-44da28b28e6f"
   },
   "outputs": [],
   "source": [
    "x_list*3"
   ]
  },
  {
   "cell_type": "markdown",
   "metadata": {
    "id": "7ynftd7cmFCC"
   },
   "source": [
    "There also methods that can be called using `.` operator"
   ]
  },
  {
   "cell_type": "code",
   "execution_count": null,
   "metadata": {
    "id": "jD4Rx6BomFCC",
    "outputId": "f8251177-6316-48e7-a093-5ba2c53f6345"
   },
   "outputs": [],
   "source": [
    "z_list.count(4)"
   ]
  },
  {
   "cell_type": "code",
   "execution_count": null,
   "metadata": {
    "id": "u49ACytTmFCD",
    "outputId": "cfc01493-7fa5-45a7-c405-cf32064a62c8"
   },
   "outputs": [],
   "source": [
    "z_list.append(4)\n",
    "z_list.count(4)"
   ]
  },
  {
   "cell_type": "code",
   "execution_count": null,
   "metadata": {
    "id": "lzlSkL2mmFCD",
    "outputId": "572f4eee-d204-4239-c6b6-edc84e920473"
   },
   "outputs": [],
   "source": [
    "z_list.sort()\n",
    "z_list"
   ]
  },
  {
   "cell_type": "code",
   "execution_count": null,
   "metadata": {
    "id": "kq5q1rekmFCE",
    "outputId": "b2dcd973-c668-4c51-e127-826e9b564136"
   },
   "outputs": [],
   "source": [
    "z_list.reverse()\n",
    "z_list"
   ]
  }
 ],
 "metadata": {
  "colab": {
   "include_colab_link": true,
   "name": "02_Types_and_Flow.ipynb",
   "provenance": []
  },
  "kernelspec": {
   "display_name": "Python 3 (ipykernel)",
   "language": "python",
   "name": "python3"
  },
  "language_info": {
   "codemirror_mode": {
    "name": "ipython",
    "version": 3
   },
   "file_extension": ".py",
   "mimetype": "text/x-python",
   "name": "python",
   "nbconvert_exporter": "python",
   "pygments_lexer": "ipython3",
   "version": "3.8.8"
  }
 },
 "nbformat": 4,
 "nbformat_minor": 4
}
