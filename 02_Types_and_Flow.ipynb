{
 "cells": [
  {
   "cell_type": "markdown",
   "metadata": {
    "colab_type": "text",
    "id": "view-in-github"
   },
   "source": [
    "<a href=\"https://colab.research.google.com/github/MMRES-PyBootcamp/MMRES-python-bootcamp2022/blob/main/02_Types_and_Flow.ipynb\" target=\"_parent\"><img src=\"https://colab.research.google.com/assets/colab-badge.svg\" alt=\"Open In Colab\"/></a>"
   ]
  },
  {
   "cell_type": "markdown",
   "metadata": {
    "id": "pEGkhX-nmFBf"
   },
   "source": [
    "# Session 1 - Introduction (Second part)\n",
    "> TODO A series of commands to introduce beginners to working with Python in Jupyter Notebooks.\n",
    "\n",
    "\n",
    "Packages, alias, list, slice, dictionaries methods"
   ]
  },
  {
   "cell_type": "markdown",
   "metadata": {},
   "source": [
    "<div class=\"alert alert-block alert-success\"><b>Practice:</b> Practice cells announce exercises that you should try during the current boot camp session.\n",
    "</div>"
   ]
  },
  {
   "cell_type": "markdown",
   "metadata": {},
   "source": [
    "<div class=\"alert alert-block alert-warning\"><b>Extension:</b> Extension cells correspond to exercises (or links to contents) that are a bit more advanced. We recommend to try them after the current boot camp session.\n",
    "</div>"
   ]
  },
  {
   "cell_type": "markdown",
   "metadata": {},
   "source": [
    "<div class=\"alert alert-block alert-info\"><b>Tip:</b> Tip cells just give some advice.\n",
    "</div>"
   ]
  },
  {
   "cell_type": "markdown",
   "metadata": {},
   "source": [
    "<div class=\"alert alert-block alert-danger\"><b>Caveat:</b> Caveat cells warn you about the most common pitfalls one founds when starts his/her path learning Python.\n",
    "\n",
    "</div>"
   ]
  },
  {
   "cell_type": "markdown",
   "metadata": {
    "id": "1r-fY6v2mFBi"
   },
   "source": [
    "## Importing packages\n",
    "\n",
    "\n",
    "\n",
    "\n"
   ]
  },
  {
   "cell_type": "markdown",
   "metadata": {},
   "source": [
    "Python is organized into *modules* and *packages*. Modules are files with a `.py` extension that contain functions, variables, and other objects. Packages are sets of modules. When we want to use objects that are defined in a package we have to import it first:"
   ]
  },
  {
   "cell_type": "code",
   "execution_count": null,
   "metadata": {},
   "outputs": [],
   "source": [
    "# Load the numpy package\n",
    "import numpy"
   ]
  },
  {
   "cell_type": "markdown",
   "metadata": {},
   "source": [
    "Once we have imported the package, we can use the dot `.` symbol to go down his hierarchy and access the particular object we need:"
   ]
  },
  {
   "cell_type": "code",
   "execution_count": null,
   "metadata": {},
   "outputs": [],
   "source": [
    "# Access the π constant stored in numpy\n",
    "numpy.pi"
   ]
  },
  {
   "cell_type": "code",
   "execution_count": null,
   "metadata": {},
   "outputs": [],
   "source": [
    "# Access the e constant stored in numpy\n",
    "numpy.e"
   ]
  },
  {
   "cell_type": "code",
   "execution_count": null,
   "metadata": {},
   "outputs": [],
   "source": [
    "# Access the sinus function stored in numpy and compute sin(π/2)\n",
    "numpy.sin(numpy.pi/2)"
   ]
  },
  {
   "cell_type": "markdown",
   "metadata": {},
   "source": [
    "Some famous Python packages are often imported with an *alias*:"
   ]
  },
  {
   "cell_type": "code",
   "execution_count": null,
   "metadata": {},
   "outputs": [],
   "source": [
    "# Load main packages with their corresponding aliases\n",
    "import numpy as np\n",
    "import pandas as pd\n",
    "import seaborn as sns"
   ]
  },
  {
   "cell_type": "code",
   "execution_count": null,
   "metadata": {},
   "outputs": [],
   "source": [
    "# Access the sinus function stored in np and compute sin(π/2)\n",
    "np.sin(np.pi/2)"
   ]
  },
  {
   "cell_type": "markdown",
   "metadata": {},
   "source": [
    "<div class=\"alert alert-block alert-success\"><b>Practice:</b>\n",
    "\n",
    "1) In the 1st code cell below, use the `numpy` square root function called `sqrt()` to compute the [Golden Ratio](https://en.wikipedia.org/wiki/Golden_ratio) $\\varphi$:\n",
    "\n",
    "$$\\varphi = \\frac{1+\\sqrt{5}}{2}$$\n",
    "\n",
    "Keep in mind that we imported `numpy` wity its typical `np` alias.\n",
    "    \n",
    "</div>"
   ]
  },
  {
   "cell_type": "code",
   "execution_count": null,
   "metadata": {},
   "outputs": [],
   "source": [
    "# Compute the Golden Ratio\n"
   ]
  },
  {
   "cell_type": "code",
   "execution_count": null,
   "metadata": {
    "jupyter": {
     "source_hidden": true
    },
    "tags": []
   },
   "outputs": [],
   "source": [
    "# Compute the Golden Ratio\n",
    "(1 + np.sqrt(5)) / 2"
   ]
  },
  {
   "cell_type": "markdown",
   "metadata": {},
   "source": [
    "Remember you can always look at the documentation of any function with the [`help()`](https://docs.python.org/3/library/functions.html#helphttps://docs.python.org/3/library/functions.html#help) [buit-in](https://docs.python.org/3/library/functions.html)."
   ]
  },
  {
   "cell_type": "code",
   "execution_count": null,
   "metadata": {
    "scrolled": true,
    "tags": []
   },
   "outputs": [],
   "source": [
    "# Looking for help with numpy sqrt() function\n",
    "help(np.sqrt)"
   ]
  },
  {
   "cell_type": "markdown",
   "metadata": {},
   "source": [
    "## Lists\n",
    "\n",
    "In the [first part of Chapter 1](https://github.com/MMRES-PyBootcamp/MMRES-python-bootcamp2022/blob/main/01_Introduction.ipynb) we introduced integer, float, string and boolean data types. Here we will introduce an extra Python data type that is particularly versatile, the sequential data type [list](https://docs.python.org/3/library/stdtypes.html#list). Briefly, a sequential data is an ordered collection of objects of any kind. \n",
    "\n",
    "START SPOILER ALERT --> We will also see that strings can also  be seen as immutable sequential objects <-- STOP SPOILER ALERT\n",
    "\n",
    "We create lists using brackets (`[]`) and commas (`,`):"
   ]
  },
  {
   "cell_type": "code",
   "execution_count": null,
   "metadata": {
    "tags": []
   },
   "outputs": [],
   "source": [
    "# Create a list from scratch\n",
    "[1, 2.0, \"Three\", 4, 5.0, \"Six\", 7, 8.0, \"Nine\"]"
   ]
  },
  {
   "cell_type": "markdown",
   "metadata": {},
   "source": [
    "Note that a list can store items no matter their data type. In the previous example we stored integers, floats and strings. Of course, we can put our list into a variable:"
   ]
  },
  {
   "cell_type": "code",
   "execution_count": null,
   "metadata": {},
   "outputs": [],
   "source": [
    "# Store list into \"list_example\" variable\n",
    "list_example = [1, 2.0, \"Three\", 4, 5.0, \"Six\", 7, 8.0, \"Nine\"]\n",
    "\n",
    "# Get the data type of `list_example`\n",
    "type(list_example)"
   ]
  },
  {
   "cell_type": "markdown",
   "metadata": {},
   "source": [
    "TODO\n",
    "\n",
    "We can retrieve elements from a list by *indexing* with `[]`. In Python we count the elements of a collection from $0$ to $n-1$ (being $n$ the total number of elements). In order to retrieve an element, we can start counting from the beginning of the list, simply introducing the corresponding index, or from the end of the list with negative indexes.\n",
    "\n",
    "TODO"
   ]
  },
  {
   "cell_type": "code",
   "execution_count": null,
   "metadata": {},
   "outputs": [],
   "source": [
    "# Recover the first element from `list_example`\n",
    "print(list_example[0])\n",
    "\n",
    "# Recover the last element from `list_example`\n",
    "print(list_example[-1])"
   ]
  },
  {
   "cell_type": "markdown",
   "metadata": {
    "id": "tr8lSaaUmFCF"
   },
   "source": [
    "<div class=\"alert alert-block alert-danger\"><b>Caveat:</b> Remember that in Python indexing starts in 0. In other languages (such as R), indexing starts in 1.\n",
    "\n",
    "</div>"
   ]
  },
  {
   "cell_type": "markdown",
   "metadata": {},
   "source": [
    "An important concept to know when dealing with sequential variables like lists is *slicing*. Taking an `[i:j:k]` slice of a list (or any other sequential variable) means that we take elements from `i` (included) to `j` (excluded) using a `k` step. Keep in mind that:\n",
    "  + Omitting `i` in the slice, like `[:j:k]`, means \"from the beginning of the sequence (included) to `j` (excluded) in `k` steps\".\n",
    "  + Omitting `j` in the slice, like `[i::k]`, means \"from `i` (included) to the end of the sequence (included!) in `k` steps\".\n",
    "  + Omitting `k` in the slice, like `[i:j:]` or just `[i:j]`, means \"from `i` (included) to `j` (excluded) in one by one steps\"."
   ]
  },
  {
   "cell_type": "markdown",
   "metadata": {},
   "source": [
    "<div class=\"alert alert-block alert-success\"><b>Practice:</b>\n",
    "\n",
    "1) In the 1st code cell below, slice the three central elements of `list_example`.\n",
    "2) In the 2nd one, slice the first half of `list_example` (including `5.0`).\n",
    "3) In the 3rd one, slice the second half of `list_example` (including `5.0`). \n",
    "4) In the 4th one, slice three elements of a same data type from `list_example`.\n",
    "\n",
    "</div>"
   ]
  },
  {
   "cell_type": "code",
   "execution_count": null,
   "metadata": {},
   "outputs": [],
   "source": [
    "# Slice the three central elements of `list_example`\n"
   ]
  },
  {
   "cell_type": "code",
   "execution_count": null,
   "metadata": {
    "jupyter": {
     "source_hidden": true
    },
    "tags": []
   },
   "outputs": [],
   "source": [
    "# Slice the three central elements of `list_example`\n",
    "list_example[3:6]"
   ]
  },
  {
   "cell_type": "code",
   "execution_count": null,
   "metadata": {},
   "outputs": [],
   "source": [
    "# Slice the first five elements of `list_example`\n"
   ]
  },
  {
   "cell_type": "code",
   "execution_count": null,
   "metadata": {
    "jupyter": {
     "source_hidden": true
    },
    "tags": []
   },
   "outputs": [],
   "source": [
    "# Slice the first five elements of `list_example`\n",
    "list_example[:5]"
   ]
  },
  {
   "cell_type": "code",
   "execution_count": null,
   "metadata": {
    "tags": []
   },
   "outputs": [],
   "source": [
    "# Slice the last five elements of `list_example`\n"
   ]
  },
  {
   "cell_type": "code",
   "execution_count": null,
   "metadata": {
    "jupyter": {
     "source_hidden": true
    },
    "tags": []
   },
   "outputs": [],
   "source": [
    "# Slice the last five elements of `list_example`\n",
    "list_example[4:]"
   ]
  },
  {
   "cell_type": "code",
   "execution_count": null,
   "metadata": {},
   "outputs": [],
   "source": [
    "# Slice the three ints, floats or strings from `list_example`\n"
   ]
  },
  {
   "cell_type": "code",
   "execution_count": null,
   "metadata": {
    "jupyter": {
     "source_hidden": true
    },
    "tags": []
   },
   "outputs": [],
   "source": [
    "# Slice the three ints, floats or strings from `list_example`\n",
    "print(f'The three integers are: {list_example[0::3]}')\n",
    "print(f'The three floats are: {list_example[1::3]}')\n",
    "print(f'The three strings are: {list_example[2::3]}')"
   ]
  },
  {
   "cell_type": "markdown",
   "metadata": {},
   "source": [
    "Now that we know what a list is, we can introduce some additional Python buit-ins. First, let's create reversed list of integers going from 100 to 0:"
   ]
  },
  {
   "cell_type": "code",
   "execution_count": null,
   "metadata": {},
   "outputs": [],
   "source": [
    "# Create a 100 to 0 list of integers and store as a `list_100` variable \n",
    "list_100 = list(range(100, -1, -1))\n",
    "\n",
    "# Show the whole `list_100`\n",
    "print(list_100)"
   ]
  },
  {
   "cell_type": "markdown",
   "metadata": {},
   "source": [
    "<div class=\"alert alert-block alert-warning\"><b>Extension:</b>\n",
    "\n",
    "Check the documentation for the [`range()`](https://docs.python.org/3/library/functions.html#func-range) built-in. Try to understand how this built-in works and how we leverage it to get a reversed list of integers going from 100 to 0.\n",
    "</div>"
   ]
  },
  {
   "cell_type": "markdown",
   "metadata": {},
   "source": [
    "The [`len()`](https://docs.python.org/3/library/functions.html#func-range), [`max()`](https://docs.python.org/3/library/functions.html#max), [`min()`](https://docs.python.org/3/library/functions.html#min), [`sum()`](https://docs.python.org/3/library/functions.html#sum) and [`sorted()`](https://docs.python.org/3/library/functions.html#sorted) built-ins are quite self-explanatory:"
   ]
  },
  {
   "cell_type": "code",
   "execution_count": null,
   "metadata": {},
   "outputs": [],
   "source": [
    "# Get the length of `list_100`\n",
    "print(len(list_100))\n",
    "\n",
    "# Get the max value from `list_100`\n",
    "print(max(list_100))\n",
    "\n",
    "# Get the min value from `list_100`\n",
    "print(min(list_100))\n",
    "\n",
    "# Get the sum value from `list_100`\n",
    "print(sum(list_100))\n",
    "\n",
    "# Sort `list_100`\n",
    "print(sorted(list_100))"
   ]
  },
  {
   "cell_type": "markdown",
   "metadata": {},
   "source": [
    "In addition of using built-in functions, we can also use *methods* when working with lists. In Python, *methods* are like functions that some objects carry on \"as standard\". We can invoke the methods of a given Python object with a dot `.` symbol. For example, some useful [list methods](https://docs.python.org/3/tutorial/datastructures.html) are: `.reverse()`, `.append()`, `.remove()`, `.extend()`, `.count()`..."
   ]
  },
  {
   "cell_type": "code",
   "execution_count": null,
   "metadata": {},
   "outputs": [],
   "source": [
    "# Get the length of `list_example`\n",
    "list_example.reverse()\n",
    "\n",
    "print(list_example)"
   ]
  },
  {
   "cell_type": "code",
   "execution_count": null,
   "metadata": {},
   "outputs": [],
   "source": [
    "# Get the length of `list_example`\n",
    "list_example.append('Zero')\n",
    "\n",
    "print(list_example)"
   ]
  },
  {
   "cell_type": "code",
   "execution_count": null,
   "metadata": {},
   "outputs": [],
   "source": [
    "# Get the length of `list_example`\n",
    "list_example.remove('Zero')\n",
    "\n",
    "print(list_example)"
   ]
  },
  {
   "cell_type": "code",
   "execution_count": null,
   "metadata": {},
   "outputs": [],
   "source": [
    "# Get the length of `list_example`\n",
    "list_example.extend(list_example)\n",
    "\n",
    "print(list_example)"
   ]
  },
  {
   "cell_type": "code",
   "execution_count": null,
   "metadata": {},
   "outputs": [],
   "source": [
    "# Get the length of `list_example`\n",
    "list_example.count('Nine')"
   ]
  },
  {
   "cell_type": "markdown",
   "metadata": {},
   "source": [
    "<div class=\"alert alert-block alert-warning\"><b>Extension:</b>\n",
    "\n",
    "Did you noticed that methods update the list they were invoked from \"on the fly\"? This is because lists are *mutable* sequential data types. In Python, there are other sequential data types that are *immutable*, like [tuples](https://docs.python.org/3/library/stdtypes.html#tuple) and strings. In general, invoking methods from a *mutable* object alter and update such object, while doing it from *immutable* objects just return an altered version the object (keeping the original object unaltered).\n",
    "\n",
    "</div>"
   ]
  },
  {
   "cell_type": "markdown",
   "metadata": {},
   "source": [
    "## Strings as sequential data types"
   ]
  },
  {
   "cell_type": "markdown",
   "metadata": {},
   "source": [
    "In Python, strings can be alternatively seen as sequential data types. For example, you can slice a string just as we do with lists:"
   ]
  },
  {
   "cell_type": "code",
   "execution_count": null,
   "metadata": {},
   "outputs": [],
   "source": [
    "# Recovering a Jean Cocteau's quote\n",
    "string_example = \"I prefer cats over dogs because police cats don't exist.\"\n",
    "\n",
    "# Slice the first \"cats\" word\n",
    "string_example[9:13]"
   ]
  },
  {
   "cell_type": "markdown",
   "metadata": {},
   "source": [
    "As any other Python object, strings carry their own methods. For example, some useful [string methods](https://docs.python.org/3/library/stdtypes.html#string-methods) are: `.count()`, `.find()`, `.upper()`, `.lower()`, `.replace()`, `.split()`, `.join()`..."
   ]
  },
  {
   "cell_type": "code",
   "execution_count": null,
   "metadata": {},
   "outputs": [],
   "source": [
    "# Count 'cats' occurrences \n",
    "string_example.count('cats')"
   ]
  },
  {
   "cell_type": "code",
   "execution_count": null,
   "metadata": {},
   "outputs": [],
   "source": [
    "# Find the index where the occurrence 'cats' first appears\n",
    "string_example.find('cats')"
   ]
  },
  {
   "cell_type": "code",
   "execution_count": null,
   "metadata": {},
   "outputs": [],
   "source": [
    "# Change the whole string to upper-case\n",
    "string_example.upper()"
   ]
  },
  {
   "cell_type": "code",
   "execution_count": null,
   "metadata": {},
   "outputs": [],
   "source": [
    "# Change the whole string to lower-case\n",
    "string_example.lower()"
   ]
  },
  {
   "cell_type": "code",
   "execution_count": null,
   "metadata": {},
   "outputs": [],
   "source": [
    "# Replace 'cats' occurrences with 'unicorns'\n",
    "string_example.replace('cats', 'unicorns')"
   ]
  },
  {
   "cell_type": "code",
   "execution_count": null,
   "metadata": {},
   "outputs": [],
   "source": [
    "# Split the string each time a blanck ' ' space is found\n",
    "string_example.split(' ')"
   ]
  },
  {
   "cell_type": "code",
   "execution_count": null,
   "metadata": {},
   "outputs": [],
   "source": [
    "# Split the string each time a blanck ' ' space is found and re-join the pieces with underscores '_'\n",
    "'_'.join(string_example.split(' '))"
   ]
  },
  {
   "cell_type": "markdown",
   "metadata": {
    "id": "43lE2qnwmFCM",
    "tags": []
   },
   "source": [
    "## Dictionaries\n",
    "\n",
    "We are now familiar with several Python data types, such as integer, float, string, boolean and list. We even have seen that strings could be somewhat rethought as a sequential data type. Now we will introduce [dictionaries](https://docs.python.org/3/library/stdtypes.html#dict), which are sets of `key: value` pairs. We create dictionaries using braces (`{}`), commas to separate each `key: value` pair (`,`), and colons (`:`) to differentiate *keys* and *values*:"
   ]
  },
  {
   "cell_type": "code",
   "execution_count": null,
   "metadata": {
    "id": "Wr0tcaSomFCM",
    "outputId": "2beb636b-da82-400e-f09f-623e314c0968"
   },
   "outputs": [],
   "source": [
    "# Create a dictionary from scratch\n",
    "{'Javan rhino': 75, 'Amur Leopard': 100, 'Sunda Island Tiger': 600}"
   ]
  },
  {
   "cell_type": "markdown",
   "metadata": {},
   "source": [
    "Dictionaries allow a very flexible manner to store and access data. For example, a given dictionary key can contain the typical data types (integer, float, string, boolean) but also sequential data types (like list) and even other dictionaries. As usual, we can put our dictionary into a variable:"
   ]
  },
  {
   "cell_type": "code",
   "execution_count": null,
   "metadata": {},
   "outputs": [],
   "source": [
    "# Store list into \"dict_example\" variable\n",
    "dict_example = {'Javan rhino': 75, 'Amur Leopard': 100, 'Sunda Island Tiger': 600}\n",
    "\n",
    "# Get the data type of `dict_example`\n",
    "type(dict_example)"
   ]
  },
  {
   "cell_type": "markdown",
   "metadata": {},
   "source": [
    "This example dictionary has three *items* or three `key: value` pairs. The three *keys* are `'Javan rhino'`, `'Amur Leopard'`, `'Sunda Island Tiger'` and the three *values* are `75`, `100`, `600`. We can use the dictionary methods `.keys()` and `.values()` to retrieve the keys or the values of the dictionary, respectively:"
   ]
  },
  {
   "cell_type": "code",
   "execution_count": null,
   "metadata": {},
   "outputs": [],
   "source": [
    "# Get dictionary keys\n",
    "print(dict_example.keys())\n",
    "\n",
    "# Get dictionary values\n",
    "print(dict_example.values())"
   ]
  },
  {
   "cell_type": "markdown",
   "metadata": {},
   "source": [
    "Your can also get whole `key: value` pairs with the method `.items()`:"
   ]
  },
  {
   "cell_type": "code",
   "execution_count": null,
   "metadata": {},
   "outputs": [],
   "source": [
    "# Get dictionary items (key: value pairs)\n",
    "print(dict_example.items())"
   ]
  },
  {
   "cell_type": "markdown",
   "metadata": {},
   "source": [
    "We can retrieve dictionary values by *indexing* with `[]`. In contrasts with lists, dictionary indices can be strings (among others data types):"
   ]
  },
  {
   "cell_type": "code",
   "execution_count": null,
   "metadata": {},
   "outputs": [],
   "source": [
    "# Get the value for the key 'Amur Leopard'\n",
    "dict_example['Amur Leopard']"
   ]
  },
  {
   "cell_type": "markdown",
   "metadata": {},
   "source": [
    "You can add new dictionary entries just by assignment:"
   ]
  },
  {
   "cell_type": "code",
   "execution_count": null,
   "metadata": {},
   "outputs": [],
   "source": [
    "# Add additional entries to `dict_example`\n",
    "dict_example['Mountain Gorilla'] = 1000\n",
    "dict_example['Tapanuli Orangutan'] = 800\n",
    "dict_example['Yangtze Finless Porpoise'] = 1000\n",
    "dict_example['Black Rhino'] = 5630\n",
    "dict_example['African Forest Elephant'] = 30000\n",
    "dict_example['Sumatran Orangutan'] = 14000\n",
    "dict_example['Hawksbill Turtle'] = 20000\n",
    "\n",
    "# Get dictionary keys\n",
    "print(dict_example.keys())\n",
    "\n",
    "# Get dictionary values\n",
    "print(dict_example.values())"
   ]
  },
  {
   "cell_type": "markdown",
   "metadata": {},
   "source": [
    "Similarly, you can update existing dictionary entries also by assignment:"
   ]
  },
  {
   "cell_type": "code",
   "execution_count": null,
   "metadata": {},
   "outputs": [],
   "source": [
    "# Update the value stored for the 'Amur Leopard' key\n",
    "dict_example['Amur Leopard'] = 99\n",
    "\n",
    "# Get the new value for the key 'Amur Leopard'\n",
    "dict_example['Amur Leopard']"
   ]
  },
  {
   "cell_type": "markdown",
   "metadata": {},
   "source": [
    "Finally, to remove a dictionary item, you can use the `.pop()` method:"
   ]
  },
  {
   "cell_type": "code",
   "execution_count": null,
   "metadata": {},
   "outputs": [],
   "source": [
    "# Update the value stored for the 'Amur Leopard' key\n",
    "dict_example.pop('Amur Leopard')\n",
    "\n",
    "# Get dictionary keys (after removing 'Amur Leopard')\n",
    "dict_example.keys()"
   ]
  },
  {
   "cell_type": "markdown",
   "metadata": {
    "id": "h4_8ymoimFCa"
   },
   "source": [
    "## Flow Control\n",
    "\n",
    "In general, code lines is Jupyter Notebook code cell, are executed sequentially (the first line is executed first, followed by the second, and so on). However, sometime we want a program to run some lines under certain conditions and some other lines under other conditions. Another common situation is when we want a program to run some lines repeatedly. [Control flow statements](https://docs.python.org/3/tutorial/controlflow.html) help you when dealing with these situations."
   ]
  },
  {
   "cell_type": "markdown",
   "metadata": {
    "id": "z6Z5KFoGmFCb",
    "tags": []
   },
   "source": [
    "### The `for` loop\n",
    "A *for loop* executes some code lines a given number of times. In a *for loop* there is \"running variable\" that changes or each loop *iteration*:"
   ]
  },
  {
   "cell_type": "code",
   "execution_count": null,
   "metadata": {
    "id": "_ajynWKtmFCb",
    "outputId": "16ad43f2-1261-499d-c258-d20782089bc4"
   },
   "outputs": [],
   "source": [
    "# Create a list from scratch and store it into \"list_example2\" variable\n",
    "list_example2 = ['Hydrogen', 'Helium', 'Litium', 'Beryllium', 'Boron', 'Carbon', 'Nitrogen', 'Oxygen', 'Fluorine', 'Neon']\n",
    "\n",
    "# For each element of our `list_example2`...\n",
    "for element in list_example2:\n",
    "    \n",
    "    #... print the running element\n",
    "    print(element)"
   ]
  },
  {
   "cell_type": "markdown",
   "metadata": {},
   "source": [
    "Here, the running variable `element` takes the value `'Hydrogen'` in the first iteration, `'Helium'` in the second, and so on until the last iteration is reached, when it takes the value `'Neon'`.\n",
    "\n",
    "Note that the for loop statement follows a very particular syntax (note the `for`, the `in` and the colon `:`). In addition, notice how the *block* of code lines that are executed in each for loop iteration present the same indentation of four spaces. This is not something following a random aesthetic criterion, this is something mandatory in Python."
   ]
  },
  {
   "cell_type": "markdown",
   "metadata": {
    "id": "tr8lSaaUmFCF"
   },
   "source": [
    "<div class=\"alert alert-block alert-danger\"><b>Caveat:</b> Remember that in Python a code block must presents a common indentation of four spaces. In turn, a nested code block also must present a common indentation of eight spaces (and so on).\n",
    "\n",
    "</div>"
   ]
  },
  {
   "cell_type": "markdown",
   "metadata": {},
   "source": [
    "Sometimes one also needs the index of the element, e.g. to plot a subset of data on different subplots. Then `enumerate()` provides an elegant (\"pythonic\") way:"
   ]
  },
  {
   "cell_type": "code",
   "execution_count": null,
   "metadata": {},
   "outputs": [],
   "source": [
    "# For each element of our `list_example2`...\n",
    "for p, element in enumerate(list_example2):\n",
    "    \n",
    "    #... print the running element\n",
    "    print(p + 1)\n",
    "    print(element)"
   ]
  },
  {
   "cell_type": "code",
   "execution_count": null,
   "metadata": {},
   "outputs": [],
   "source": []
  },
  {
   "cell_type": "code",
   "execution_count": null,
   "metadata": {},
   "outputs": [],
   "source": []
  },
  {
   "cell_type": "code",
   "execution_count": null,
   "metadata": {
    "id": "e7a1QBuKmFCc",
    "outputId": "7baee96b-6d29-4bef-ad0a-c280c4056b6a"
   },
   "outputs": [],
   "source": [
    "for name in 'John','Charles','Tom':\n",
    "    print(name)"
   ]
  },
  {
   "cell_type": "code",
   "execution_count": null,
   "metadata": {
    "id": "bGBo__8pmFCc",
    "outputId": "aca88621-b868-47c4-f373-211253a833f2"
   },
   "outputs": [],
   "source": [
    "fruits = ['banana', 'apple',  'mango']\n",
    "for fruit in fruits:        # Second Example\n",
    "    print('Current fruit:', fruit)"
   ]
  },
  {
   "cell_type": "markdown",
   "metadata": {
    "id": "RyMBO6l7mFCc"
   },
   "source": [
    "Sometimes one also needs the index of the element, e.g. to plot a subset of data on different subplots. Then `enumerate` provides an elegant (\"pythonic\") way:"
   ]
  },
  {
   "cell_type": "code",
   "execution_count": null,
   "metadata": {
    "id": "aJ0bv1k3mFCc",
    "outputId": "e89c41e8-4c8a-4913-ec09-459c783401d1"
   },
   "outputs": [],
   "source": [
    "for index, fruit in enumerate(fruits):\n",
    "    print(f'Fruit number {index}:', fruit)"
   ]
  },
  {
   "cell_type": "markdown",
   "metadata": {
    "id": "I75H8xjemFCc"
   },
   "source": [
    "In principle one could also iterate over an index going from 0 to the number of elements:"
   ]
  },
  {
   "cell_type": "code",
   "execution_count": null,
   "metadata": {
    "id": "BkCOuBNBmFCd"
   },
   "outputs": [],
   "source": [
    "for index in range(len(fruits)):\n",
    "    print('Current fruit:', fruits[index])"
   ]
  },
  {
   "cell_type": "markdown",
   "metadata": {
    "id": "Jh3P9E1jmFCd"
   },
   "source": [
    "`range` function can be also used to go through a range of numbers"
   ]
  },
  {
   "cell_type": "code",
   "execution_count": null,
   "metadata": {
    "id": "54Fmw4wtmFCd",
    "outputId": "497780d4-bd69-4851-a20c-1a847e627c46"
   },
   "outputs": [],
   "source": [
    "for ii in range(3):\n",
    "    print(ii)"
   ]
  },
  {
   "cell_type": "code",
   "execution_count": null,
   "metadata": {
    "id": "CjTDYM7WmFCd",
    "outputId": "081ac49d-67ae-4c8a-e0ac-eac3b68a3055"
   },
   "outputs": [],
   "source": [
    "for ii in range(2,5):\n",
    "    print(ii)"
   ]
  },
  {
   "cell_type": "code",
   "execution_count": null,
   "metadata": {
    "id": "tzxdxPmSmFCd",
    "outputId": "da885acd-ce68-444f-866c-7bf7ba2c1028"
   },
   "outputs": [],
   "source": [
    "for ii in range(2,10,2):\n",
    "    print(ii)"
   ]
  },
  {
   "cell_type": "markdown",
   "metadata": {
    "id": "X1OWBg8zmFCe"
   },
   "source": [
    "`for` loops can be elegantly integrated into a list comprehension"
   ]
  },
  {
   "cell_type": "code",
   "execution_count": null,
   "metadata": {
    "id": "nqFuUC5-mFCe",
    "outputId": "0731581b-5f23-4cf4-f09a-2fbf836a24fb"
   },
   "outputs": [],
   "source": [
    "our_list = []\n",
    "for n in range(5):\n",
    "    our_list.append(n)\n",
    "our_list"
   ]
  },
  {
   "cell_type": "code",
   "execution_count": null,
   "metadata": {
    "id": "noouLZm9mFCe",
    "outputId": "b1bb6486-2210-4c41-e09b-cc593e75d442"
   },
   "outputs": [],
   "source": [
    "[10*n for n in range(5)]"
   ]
  },
  {
   "cell_type": "code",
   "execution_count": null,
   "metadata": {
    "id": "NbpAqAy7mFCe",
    "outputId": "27f46fac-1145-4dc2-e99e-0f2f2eb7335b"
   },
   "outputs": [],
   "source": [
    "print(\"It was true\") if 2 < 3 else print(\"It was false\") "
   ]
  },
  {
   "cell_type": "code",
   "execution_count": null,
   "metadata": {
    "id": "Gnu7eEP4mFCe",
    "outputId": "5967468e-8385-4eef-98dc-eff09e3119a6"
   },
   "outputs": [],
   "source": [
    "fruits_with_b = [fruit for fruit in fruits if fruit.startswith('b')]\n",
    "fruits_with_b"
   ]
  },
  {
   "cell_type": "markdown",
   "metadata": {
    "id": "fx6N6mxzmFCf"
   },
   "source": [
    "This is equivalent to the following loop:"
   ]
  },
  {
   "cell_type": "code",
   "execution_count": null,
   "metadata": {
    "id": "v-luySsRmFCf",
    "outputId": "747406fe-1abd-461a-d7c5-1fa82a085b96"
   },
   "outputs": [],
   "source": [
    "fruits_with_b = []\n",
    "for fruit in fruits:\n",
    "    if fruit.startswith('b'):\n",
    "        fruits_with_b.append(fruit)\n",
    "fruits_with_b"
   ]
  },
  {
   "cell_type": "markdown",
   "metadata": {
    "id": "O6OpeZqVmFCf"
   },
   "source": [
    "**Exercise**: write a function that reads a number $n$ and prints the $n$-th harmonic number, defined as \n",
    "$$H_n = 1/1 + 1/2 + \\dots + 1/n$$ with at most 4 digits after the decimal point"
   ]
  },
  {
   "cell_type": "code",
   "execution_count": null,
   "metadata": {
    "id": "xjqIV7JlmFCf"
   },
   "outputs": [],
   "source": [
    "def harmonic(n):\n",
    "    \"\"\"Returns the n-th harmonic number\"\"\"\n",
    "    sum = 0\n",
    "    for i in range(1,n+1):\n",
    "        sum += float(1/i)\n",
    "    return round(sum,4)"
   ]
  },
  {
   "cell_type": "code",
   "execution_count": null,
   "metadata": {
    "id": "YXDi8wZemFCg",
    "outputId": "9cc2ac16-dae8-41af-82e3-e8cd074165d9"
   },
   "outputs": [],
   "source": [
    "harmonic(2), harmonic(7)"
   ]
  },
  {
   "cell_type": "markdown",
   "metadata": {
    "id": "zk3mZTVrmFCg"
   },
   "source": [
    "### Nested Loops\n",
    "\n",
    "Nested loops are loops within other loops, regardless of the type. For example, we can have nested for and while loops."
   ]
  },
  {
   "cell_type": "code",
   "execution_count": null,
   "metadata": {
    "id": "TinRvW3ZmFCg"
   },
   "outputs": [],
   "source": [
    "for x in range(1, 3):\n",
    "    for y in range(1, 4):\n",
    "        print(f'{x} * {y} = {x*y}')"
   ]
  },
  {
   "cell_type": "markdown",
   "metadata": {},
   "source": [
    "\n",
    "\n",
    "\n",
    "statements are . We often encounter situations in which we need to execute a block of code several number of times or change the operations based on some conditions. In Python a block is delimitted by an intendation (4 spaces), i.e. all lines starting at the same space are one block.\n",
    "\n",
    "Programming languages provide various control structures that allow for more complicated execution paths."
   ]
  },
  {
   "cell_type": "markdown",
   "metadata": {
    "id": "snyRKHltmFCa"
   },
   "source": [
    "### `while` Loop\n",
    "Repeats a statement or group of statements while a given condition is `True`. The condition is tested before executing the loop body every time."
   ]
  },
  {
   "cell_type": "code",
   "execution_count": null,
   "metadata": {
    "id": "VFMlGqWFmFCa",
    "outputId": "5ec03cf7-47d1-403d-ae5e-eba865263709"
   },
   "outputs": [],
   "source": [
    "count = 0\n",
    "while (count < 9):\n",
    "    print('The count is: ' + str(count))\n",
    "    count += 1\n",
    "\n",
    "print('Good bye!')"
   ]
  },
  {
   "cell_type": "markdown",
   "metadata": {
    "id": "rKkhmco5mFCb"
   },
   "source": [
    "A loop becomes infinite loop whenever the condition never becomes `False`. Hence, we need to be careful when using while loops provided that they may never end, as we saw in the previous notebook. These are called infinite loops.\n",
    "\n",
    "An infinite loop might be useful in client/server programming where the server needs to run continuously so that client programs can communicate with it when required (`while True:`)"
   ]
  },
  {
   "cell_type": "markdown",
   "metadata": {
    "id": "tqIvSVLTmFCg"
   },
   "source": [
    "### `if`\n",
    "\n",
    "As we saw in the previous notebook, the if statement evaluates the code subject to the fulfillment of a given condition (generally created with a logical operator such as `==`, `<`, `>`, `=<`, `=>`, `not`, `is`, `in`, etc.). We can introduce an optional `else` statement to execute an alternative block of code whenever the condition is not met."
   ]
  },
  {
   "cell_type": "code",
   "execution_count": null,
   "metadata": {
    "id": "Jld4BuvkmFCh"
   },
   "outputs": [],
   "source": [
    "attendants = ['Mark', 'Jack', 'Mary']\n",
    "student = 'Mark'\n",
    "\n",
    "if student in attendants:\n",
    "    print('present!')\n",
    "else:\n",
    "    print('absent!')"
   ]
  },
  {
   "cell_type": "markdown",
   "metadata": {
    "id": "SHYgILN0mFCh"
   },
   "source": [
    "We can also use one or more `elif` statements to check multiple conditions and execute a block of code as soon as one of the conditions is `True`."
   ]
  },
  {
   "cell_type": "code",
   "execution_count": null,
   "metadata": {
    "id": "vW_AXlaImFCh"
   },
   "outputs": [],
   "source": [
    "attendants_A = ['Mark', 'Jack', 'Mary']\n",
    "attendants_B = ['Tom', 'Dick', 'Harry']\n",
    "student = 'Tom'\n",
    "\n",
    "if student in attendants_A:\n",
    "    print('present in list A!')\n",
    "elif student in attendants_B:\n",
    "    print('present in list B!')\n",
    "else:\n",
    "    print('absent!')"
   ]
  },
  {
   "cell_type": "markdown",
   "metadata": {
    "id": "MHEy0QYvmFCh"
   },
   "source": [
    "We can also use nested `if` statements."
   ]
  },
  {
   "cell_type": "markdown",
   "metadata": {
    "id": "G2DoLzh0mFCi"
   },
   "source": [
    "### `break`"
   ]
  },
  {
   "cell_type": "markdown",
   "metadata": {
    "id": "6VO-ByasmFCi"
   },
   "source": [
    "`break` terminates the current loop and resumes execution at the next statement. The `break` statement can be used in both `while` and `for` loops. In nested loops, the `break` statement only stops the execution of the **innermost loop**."
   ]
  },
  {
   "cell_type": "code",
   "execution_count": null,
   "metadata": {
    "id": "11Mz3o29mFCi"
   },
   "outputs": [],
   "source": [
    "var = 10\n",
    "while var > 0:              \n",
    "    print('Current variable value: ' + str(var))\n",
    "    var -= 1\n",
    "    if var == 5:\n",
    "        break\n",
    "\n",
    "print('Good bye!')"
   ]
  },
  {
   "cell_type": "markdown",
   "metadata": {
    "id": "LiIlY0CbmFCi"
   },
   "source": [
    "An `else` statement right after the loop is executed if it hasn't been interrumpted by us "
   ]
  },
  {
   "cell_type": "code",
   "execution_count": null,
   "metadata": {
    "id": "l1xgVKSTmFCi",
    "outputId": "b19fa79a-c768-489e-9a39-eaf182e1b242"
   },
   "outputs": [],
   "source": [
    "var = 10\n",
    "while var > 0:              \n",
    "    print('Current variable value: ' + str(var))\n",
    "    var -= 1\n",
    "    if var == 5:\n",
    "        break\n",
    "else:\n",
    "    print(\"Loop finished\")"
   ]
  },
  {
   "cell_type": "code",
   "execution_count": null,
   "metadata": {
    "id": "JYFUBpfKmFCj",
    "outputId": "92e18a27-a3b5-492d-9815-f29977223867"
   },
   "outputs": [],
   "source": [
    "var = 10\n",
    "while var > 0:              \n",
    "    print('Current variable value: ' + str(var))\n",
    "    var -= 1\n",
    "    # if var  5:\n",
    "    #    break\n",
    "else:\n",
    "    print(\"Loop finished\")"
   ]
  },
  {
   "cell_type": "markdown",
   "metadata": {
    "id": "ipyGlEDMmFCj"
   },
   "source": [
    "### `continue` "
   ]
  },
  {
   "cell_type": "markdown",
   "metadata": {
    "id": "V0Ch91g1mFCj"
   },
   "source": [
    "The `continue` statement rejects all the remaining statements in the current iteration of the loop and moves the control back to the top of the loop (like a \"skip\"). It can be used in both `while` and `for` loops."
   ]
  },
  {
   "cell_type": "code",
   "execution_count": null,
   "metadata": {
    "id": "Fq7pT3pumFCj",
    "outputId": "7b69e422-5a20-4fec-a172-d1c191ecd3fc"
   },
   "outputs": [],
   "source": [
    "for letter in 'Python':\n",
    "    if letter == 'h':\n",
    "        continue\n",
    "    print('Current Letter: ' + letter)\n"
   ]
  },
  {
   "cell_type": "markdown",
   "metadata": {
    "id": "4Wh6AI9ZmFCk"
   },
   "source": [
    "### `pass`"
   ]
  },
  {
   "cell_type": "markdown",
   "metadata": {
    "id": "PEMjbkXlmFCk"
   },
   "source": [
    "The `pass` statement is a null operation: nothing happens when it executes. `pass` is also useful in places where the code will eventually go but has not been written yet."
   ]
  },
  {
   "cell_type": "code",
   "execution_count": null,
   "metadata": {
    "id": "58eFJ2wQmFCk",
    "outputId": "5e8745fc-43ed-4c48-cc4f-2f7725fb0c59"
   },
   "outputs": [],
   "source": [
    "for letter in 'Python': \n",
    "    if letter == 'h':\n",
    "        pass\n",
    "        print('This is pass block')\n",
    "    print('Current Letter: ' + letter)\n",
    "\n",
    "print('Good bye!')"
   ]
  },
  {
   "cell_type": "markdown",
   "metadata": {
    "id": "mPn5Y_xMmFCk"
   },
   "source": [
    "`pass` and `continue` may look similar but they fulfill different tasks. The printed message \"This is pass block\", wouldn't have been printed if continue had been used instead. `pass` does not do anything, while `continue` brings us straight the next iteration."
   ]
  },
  {
   "cell_type": "code",
   "execution_count": null,
   "metadata": {
    "id": "GeT3aC-LmFCk",
    "outputId": "c9728dc2-94b3-47a7-879b-9da6f0a69c3a"
   },
   "outputs": [],
   "source": [
    "for letter in 'Python': \n",
    "    if letter == 'h':\n",
    "        continue\n",
    "        print('This is pass block')\n",
    "    print('Current Letter: ' + letter)\n",
    "\n",
    "print('Good bye!')"
   ]
  },
  {
   "cell_type": "markdown",
   "metadata": {
    "id": "5g8U0Rf7mFCl"
   },
   "source": [
    "**Exercise:** Write a function that prints squares with $n^2$ $n$’s.\n",
    "\n",
    "*Input*: Input consists of several natural numbers between 1 and 9.\n",
    "\n",
    "*Output*:For every $n$, print a square of size $n \\times n$ full of $n$’s. Separate two squares with an empty line."
   ]
  },
  {
   "cell_type": "code",
   "execution_count": null,
   "metadata": {
    "id": "Vi8Hd9O8mFCl"
   },
   "outputs": [],
   "source": [
    "def squares(n):\n",
    "    \"\"\"prints squares with n^2 n's\"\"\"\n",
    "    for i in range(n):\n",
    "        string = \"\"\n",
    "        for j in range(n):\n",
    "            string = string + str(n)\n",
    "        print(string)"
   ]
  },
  {
   "cell_type": "code",
   "execution_count": null,
   "metadata": {
    "id": "KopPKstvmFCl",
    "outputId": "0d42b774-4619-45d3-97f1-b4b97df3d307"
   },
   "outputs": [],
   "source": [
    "squares(3)"
   ]
  },
  {
   "cell_type": "markdown",
   "metadata": {},
   "source": [
    "Did you noticed that there is not a `mean()` built-in? That's not a big problem because we can compute the mean of a numeric sequence just using `sum()` and `len()`."
   ]
  },
  {
   "cell_type": "markdown",
   "metadata": {
    "id": "_Dhu9_BnmFCE"
   },
   "source": [
    "We can check if an element is inside the list using `in`"
   ]
  },
  {
   "cell_type": "markdown",
   "metadata": {},
   "source": [
    "Note that some of them are the same methods from lists."
   ]
  },
  {
   "cell_type": "markdown",
   "metadata": {
    "id": "62lYdbVSmFCX",
    "tags": []
   },
   "source": [
    "## Functions\n",
    "\n",
    "To define our own function we use the `def` statement followed by the name of the same and the input arguments in parentheses. The first line of the function can be a doc string."
   ]
  },
  {
   "cell_type": "code",
   "execution_count": null,
   "metadata": {
    "id": "LrghluVRmFCX"
   },
   "outputs": [],
   "source": [
    "def mean(mylist):\n",
    "    \"Calculate the mean of the elements in mylist.\"\n",
    "    number_of_items = len(mylist)\n",
    "    sum_of_items = sum(mylist)\n",
    "    return sum_of_items / number_of_items"
   ]
  },
  {
   "cell_type": "code",
   "execution_count": null,
   "metadata": {
    "id": "ziBs7BJXmFCY",
    "outputId": "1bedd856-b88a-4d28-cc8b-cc2c506f39e0"
   },
   "outputs": [],
   "source": [
    "mean"
   ]
  },
  {
   "cell_type": "code",
   "execution_count": null,
   "metadata": {
    "id": "tN8BvblQmFCY",
    "outputId": "27c59e01-61e7-4ac0-ca58-0a87ebed3956"
   },
   "outputs": [],
   "source": [
    "mean.__doc__"
   ]
  },
  {
   "cell_type": "code",
   "execution_count": null,
   "metadata": {
    "id": "vGJxKZMBmFCY",
    "outputId": "45a3a172-d9d8-4ef6-dad0-4fa668cd8666"
   },
   "outputs": [],
   "source": [
    "type(mean)"
   ]
  },
  {
   "cell_type": "code",
   "execution_count": null,
   "metadata": {
    "id": "WbaorD7PmFCY",
    "outputId": "e6180370-29f9-4014-98d3-bd66b1f8eff6"
   },
   "outputs": [],
   "source": [
    "z_list"
   ]
  },
  {
   "cell_type": "code",
   "execution_count": null,
   "metadata": {
    "id": "CWfaJDLZmFCY",
    "outputId": "35f2d4fa-ed57-4518-e7e0-1c14b1afeac4"
   },
   "outputs": [],
   "source": [
    "mean(z_list)"
   ]
  },
  {
   "cell_type": "code",
   "execution_count": null,
   "metadata": {
    "id": "gsSLRgr0mFCZ",
    "outputId": "94ca5c0c-f05d-45e5-92b7-04185fd12cfb"
   },
   "outputs": [],
   "source": [
    "help(mean)"
   ]
  },
  {
   "cell_type": "code",
   "execution_count": null,
   "metadata": {
    "id": "QiB0ElKQmFCZ"
   },
   "outputs": [],
   "source": [
    "mean?"
   ]
  },
  {
   "cell_type": "code",
   "execution_count": null,
   "metadata": {
    "id": "joN6KmpPmFCZ"
   },
   "outputs": [],
   "source": [
    "mean??"
   ]
  },
  {
   "cell_type": "code",
   "execution_count": null,
   "metadata": {
    "id": "FIq78WCZmFCZ",
    "outputId": "ba4b713b-8680-4eac-c7c8-f26239cf438c"
   },
   "outputs": [],
   "source": [
    "def multiply(x, y=2.0):\n",
    "    \"\"\"Multiplies two numbers, bu default the first by 2.\"\"\"\n",
    "    return x * y\n",
    "\n",
    "multiply(2,3), multiply(3)"
   ]
  },
  {
   "cell_type": "code",
   "execution_count": null,
   "metadata": {},
   "outputs": [],
   "source": []
  },
  {
   "cell_type": "code",
   "execution_count": null,
   "metadata": {},
   "outputs": [],
   "source": []
  },
  {
   "cell_type": "code",
   "execution_count": null,
   "metadata": {},
   "outputs": [],
   "source": []
  },
  {
   "cell_type": "code",
   "execution_count": null,
   "metadata": {},
   "outputs": [],
   "source": []
  },
  {
   "cell_type": "code",
   "execution_count": null,
   "metadata": {},
   "outputs": [],
   "source": []
  },
  {
   "cell_type": "code",
   "execution_count": null,
   "metadata": {},
   "outputs": [],
   "source": []
  },
  {
   "cell_type": "code",
   "execution_count": null,
   "metadata": {},
   "outputs": [],
   "source": []
  }
 ],
 "metadata": {
  "colab": {
   "include_colab_link": true,
   "name": "02_Types_and_Flow.ipynb",
   "provenance": []
  },
  "kernelspec": {
   "display_name": "Python 3 (ipykernel)",
   "language": "python",
   "name": "python3"
  },
  "language_info": {
   "codemirror_mode": {
    "name": "ipython",
    "version": 3
   },
   "file_extension": ".py",
   "mimetype": "text/x-python",
   "name": "python",
   "nbconvert_exporter": "python",
   "pygments_lexer": "ipython3",
   "version": "3.8.8"
  }
 },
 "nbformat": 4,
 "nbformat_minor": 4
}
