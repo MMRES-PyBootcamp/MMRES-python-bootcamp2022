{
  "cells": [
    {
      "cell_type": "markdown",
      "metadata": {
        "id": "view-in-github",
        "colab_type": "text"
      },
      "source": [
        "<a href=\"https://colab.research.google.com/github/MMRES-PyBootcamp/MMRES-python-bootcamp2022/blob/main/02_Types_and_Flow.ipynb\" target=\"_parent\"><img src=\"https://colab.research.google.com/assets/colab-badge.svg\" alt=\"Open In Colab\"/></a>"
      ]
    },
    {
      "cell_type": "markdown",
      "metadata": {
        "id": "pEGkhX-nmFBf"
      },
      "source": [
        "# Part 2 - Types, Functions and Flow Control"
      ]
    },
    {
      "cell_type": "markdown",
      "metadata": {
        "id": "1r-fY6v2mFBi"
      },
      "source": [
        "## Data types and numbers\n",
        "\n",
        "\n",
        "\n",
        "\n"
      ]
    },
    {
      "cell_type": "code",
      "execution_count": null,
      "metadata": {
        "id": "AhB97xnumFBk"
      },
      "outputs": [],
      "source": [
        "x_int = 3\n",
        "x_float = 3.\n",
        "x_complex = 1 + 2j\n",
        "x_string = 'three'\n",
        "x_list = [3, 'three']"
      ]
    },
    {
      "cell_type": "code",
      "execution_count": null,
      "metadata": {
        "id": "oJ1BQ3F4mFBl",
        "outputId": "3b985229-f759-4384-af35-c7f29e7f11b7"
      },
      "outputs": [
        {
          "data": {
            "text/plain": [
              "float"
            ]
          },
          "execution_count": 2,
          "metadata": {},
          "output_type": "execute_result"
        }
      ],
      "source": [
        "type(x_float)"
      ]
    },
    {
      "cell_type": "code",
      "execution_count": null,
      "metadata": {
        "id": "54xBOG-FmFBm",
        "outputId": "a7929d87-2b74-4b95-cae4-d4ab967a31f8"
      },
      "outputs": [
        {
          "data": {
            "text/plain": [
              "str"
            ]
          },
          "execution_count": 3,
          "metadata": {},
          "output_type": "execute_result"
        }
      ],
      "source": [
        "type(x_string)"
      ]
    },
    {
      "cell_type": "code",
      "execution_count": null,
      "metadata": {
        "id": "LfO_COLWmFBn",
        "outputId": "444287da-705f-4049-bb40-b2569be23f40"
      },
      "outputs": [
        {
          "data": {
            "text/plain": [
              "complex"
            ]
          },
          "execution_count": 4,
          "metadata": {},
          "output_type": "execute_result"
        }
      ],
      "source": [
        "type(x_complex)"
      ]
    },
    {
      "cell_type": "code",
      "execution_count": null,
      "metadata": {
        "id": "dlt37ncPmFBo",
        "outputId": "cff7cb0d-35ed-48e1-fd9f-b1184c36cee8"
      },
      "outputs": [
        {
          "data": {
            "text/plain": [
              "list"
            ]
          },
          "execution_count": 5,
          "metadata": {},
          "output_type": "execute_result"
        }
      ],
      "source": [
        "type(x_list)"
      ]
    },
    {
      "cell_type": "markdown",
      "metadata": {
        "id": "ve5wfaiAmFBo"
      },
      "source": [
        "We can convert numerical types using functions `int`, `float` and `complex`"
      ]
    },
    {
      "cell_type": "code",
      "execution_count": null,
      "metadata": {
        "id": "QxUj7qQlmFBp",
        "outputId": "177d0e49-3ce9-4841-ceeb-a82982391408"
      },
      "outputs": [
        {
          "data": {
            "text/plain": [
              "(3+2j)"
            ]
          },
          "execution_count": 6,
          "metadata": {},
          "output_type": "execute_result"
        }
      ],
      "source": [
        "z = 3 + 2j\n",
        "z"
      ]
    },
    {
      "cell_type": "code",
      "execution_count": null,
      "metadata": {
        "id": "aivsJI_smFBq",
        "outputId": "e748666f-d991-4e5e-ef69-fa526268363b"
      },
      "outputs": [
        {
          "data": {
            "text/plain": [
              "(3+2j)"
            ]
          },
          "execution_count": 7,
          "metadata": {},
          "output_type": "execute_result"
        }
      ],
      "source": [
        "_6"
      ]
    },
    {
      "cell_type": "code",
      "execution_count": null,
      "metadata": {
        "id": "T6JLXj7jmFBq",
        "outputId": "736fc3e5-2c9d-409d-838e-22c50af9d3a1"
      },
      "outputs": [
        {
          "ename": "TypeError",
          "evalue": "can't convert complex to int",
          "output_type": "error",
          "traceback": [
            "\u001b[0;31m---------------------------------------------------------------------------\u001b[0m",
            "\u001b[0;31mTypeError\u001b[0m                                 Traceback (most recent call last)",
            "\u001b[0;32m<ipython-input-8-5cc25e78eff4>\u001b[0m in \u001b[0;36m<module>\u001b[0;34m\u001b[0m\n\u001b[0;32m----> 1\u001b[0;31m \u001b[0mint\u001b[0m\u001b[0;34m(\u001b[0m\u001b[0m_\u001b[0m\u001b[0;34m)\u001b[0m\u001b[0;34m\u001b[0m\u001b[0;34m\u001b[0m\u001b[0m\n\u001b[0m",
            "\u001b[0;31mTypeError\u001b[0m: can't convert complex to int"
          ]
        }
      ],
      "source": [
        "int(_)"
      ]
    },
    {
      "cell_type": "markdown",
      "metadata": {
        "id": "WMDrjE7XmFBs"
      },
      "source": [
        "To find the absolute value"
      ]
    },
    {
      "cell_type": "code",
      "execution_count": null,
      "metadata": {
        "id": "1IoyD_dSmFBs",
        "outputId": "0cfd1421-03ad-44a1-ad06-fec903d06f36"
      },
      "outputs": [
        {
          "data": {
            "text/plain": [
              "3.605551275463989"
            ]
          },
          "execution_count": 13,
          "metadata": {},
          "output_type": "execute_result"
        }
      ],
      "source": [
        "abs(z)"
      ]
    },
    {
      "cell_type": "code",
      "execution_count": null,
      "metadata": {
        "id": "-6ox0oR1mFBt",
        "outputId": "1d6463c5-c1e9-40f0-aae2-bf8fbd2e0721"
      },
      "outputs": [
        {
          "data": {
            "text/plain": [
              "19"
            ]
          },
          "execution_count": 14,
          "metadata": {},
          "output_type": "execute_result"
        }
      ],
      "source": [
        "abs(-19)"
      ]
    },
    {
      "cell_type": "code",
      "execution_count": null,
      "metadata": {
        "id": "dmhT_213mFBt"
      },
      "outputs": [],
      "source": [
        "pi = 3.1456"
      ]
    },
    {
      "cell_type": "code",
      "execution_count": null,
      "metadata": {
        "id": "MdxcAVO2mFBu",
        "outputId": "f85789d3-520e-4703-cc62-190baf9d2436"
      },
      "outputs": [
        {
          "data": {
            "text/plain": [
              "3"
            ]
          },
          "execution_count": 10,
          "metadata": {},
          "output_type": "execute_result"
        }
      ],
      "source": [
        "int(pi)"
      ]
    },
    {
      "cell_type": "code",
      "execution_count": null,
      "metadata": {
        "id": "wRvAi8lrmFBu",
        "outputId": "abf5b5f7-2f8a-4662-ad00-797928267a2f"
      },
      "outputs": [
        {
          "data": {
            "text/plain": [
              "(3.1456+0j)"
            ]
          },
          "execution_count": 11,
          "metadata": {},
          "output_type": "execute_result"
        }
      ],
      "source": [
        "complex(pi)"
      ]
    },
    {
      "cell_type": "code",
      "execution_count": null,
      "metadata": {
        "id": "p3_VSfMjmFBv",
        "outputId": "d6dbeaa9-c18e-4bc5-f549-77b422211bc0"
      },
      "outputs": [
        {
          "data": {
            "text/plain": [
              "3.1456"
            ]
          },
          "execution_count": 16,
          "metadata": {},
          "output_type": "execute_result"
        }
      ],
      "source": [
        "abs(pi)"
      ]
    },
    {
      "cell_type": "code",
      "execution_count": null,
      "metadata": {
        "id": "WTZavjwimFBv",
        "outputId": "fdd14a2b-744e-490e-ee16-a526f64ea207"
      },
      "outputs": [
        {
          "data": {
            "text/plain": [
              "3"
            ]
          },
          "execution_count": 19,
          "metadata": {},
          "output_type": "execute_result"
        }
      ],
      "source": [
        "round(pi) # round(pi, 1)"
      ]
    },
    {
      "cell_type": "code",
      "execution_count": null,
      "metadata": {
        "id": "VO8HnxhLmFBv",
        "outputId": "78da7b01-99f5-4841-ed5a-324fc2dffef5"
      },
      "outputs": [
        {
          "data": {
            "text/plain": [
              "3.1456"
            ]
          },
          "execution_count": 18,
          "metadata": {},
          "output_type": "execute_result"
        }
      ],
      "source": [
        "float(pi)"
      ]
    },
    {
      "cell_type": "markdown",
      "metadata": {
        "id": "LSb57Y90mFBw"
      },
      "source": [
        "Other useful functions:"
      ]
    },
    {
      "cell_type": "code",
      "execution_count": null,
      "metadata": {
        "id": "yMJdyqhamFBw",
        "outputId": "5b21c276-6ae4-4d42-f572-6dadd2d72c33"
      },
      "outputs": [
        {
          "data": {
            "text/plain": [
              "2"
            ]
          },
          "execution_count": 20,
          "metadata": {},
          "output_type": "execute_result"
        }
      ],
      "source": [
        "max(0, -1, 1, 2)"
      ]
    },
    {
      "cell_type": "code",
      "execution_count": null,
      "metadata": {
        "id": "QXBBK-hcmFBw",
        "outputId": "22294c50-eb28-412c-8baa-96171e8a2ffd"
      },
      "outputs": [
        {
          "data": {
            "text/plain": [
              "-1"
            ]
          },
          "execution_count": 21,
          "metadata": {},
          "output_type": "execute_result"
        }
      ],
      "source": [
        "min(1, 2, 0, -1)"
      ]
    },
    {
      "cell_type": "markdown",
      "metadata": {
        "id": "ONM2PDs-mFBx"
      },
      "source": [
        "### Math library\n",
        "\n",
        "Python is organized into modules, which are files with a `.py` extension that contain functions, variables, and other objects, and packages, which are sets of modules. When we want to use objects that are defined in a module we have to import it, and once we have done it we can use the operator `.` to go down the hierarchy of packages and access the object we need. For example, this way we import math to use well-known functions and also other variables:"
      ]
    },
    {
      "cell_type": "code",
      "execution_count": null,
      "metadata": {
        "id": "yt5kgS0umFBx",
        "outputId": "764a31d3-cf30-4437-8555-7cafd752aa73"
      },
      "outputs": [
        {
          "data": {
            "text/plain": [
              "4"
            ]
          },
          "execution_count": 22,
          "metadata": {},
          "output_type": "execute_result"
        }
      ],
      "source": [
        "import math\n",
        "\n",
        "math.floor(4.5)"
      ]
    },
    {
      "cell_type": "code",
      "execution_count": null,
      "metadata": {
        "id": "f7pPzHNKmFBy",
        "outputId": "c5c1de9d-c88b-453b-c50c-6cbf777aee73"
      },
      "outputs": [
        {
          "data": {
            "text/plain": [
              "2.718281828459045"
            ]
          },
          "execution_count": 23,
          "metadata": {},
          "output_type": "execute_result"
        }
      ],
      "source": [
        "math.exp(1)"
      ]
    },
    {
      "cell_type": "code",
      "execution_count": null,
      "metadata": {
        "id": "dycba-_1mFBy",
        "outputId": "03fe7beb-37e1-490e-b566-54b22c015804"
      },
      "outputs": [
        {
          "data": {
            "text/plain": [
              "0.0"
            ]
          },
          "execution_count": 24,
          "metadata": {},
          "output_type": "execute_result"
        }
      ],
      "source": [
        "math.log(1)"
      ]
    },
    {
      "cell_type": "code",
      "execution_count": null,
      "metadata": {
        "id": "ofqWUBmwmFBy",
        "outputId": "aac46e90-79bd-4821-b654-2989b281e64f"
      },
      "outputs": [
        {
          "data": {
            "text/plain": [
              "1.0"
            ]
          },
          "execution_count": 25,
          "metadata": {},
          "output_type": "execute_result"
        }
      ],
      "source": [
        "math.log10(10)"
      ]
    },
    {
      "cell_type": "code",
      "execution_count": null,
      "metadata": {
        "id": "rsAsZELSmFBz",
        "outputId": "6a599730-2661-43fa-e48c-aa962847234d"
      },
      "outputs": [
        {
          "data": {
            "text/plain": [
              "3.0"
            ]
          },
          "execution_count": 26,
          "metadata": {},
          "output_type": "execute_result"
        }
      ],
      "source": [
        "math.sqrt(9)"
      ]
    },
    {
      "cell_type": "markdown",
      "metadata": {
        "id": "Y8BAe-_fmFBz"
      },
      "source": [
        "Remember you can always look at the documentation of any function with `?`"
      ]
    },
    {
      "cell_type": "code",
      "execution_count": null,
      "metadata": {
        "id": "xRRnFtnemFBz"
      },
      "outputs": [],
      "source": [
        "math.sqrt?"
      ]
    },
    {
      "cell_type": "code",
      "execution_count": null,
      "metadata": {
        "id": "w_VUJkEqmFBz",
        "outputId": "3d3b4c19-538b-4253-9357-208f1f93bfc0"
      },
      "outputs": [
        {
          "data": {
            "text/plain": [
              "(3.141592653589793, 2.718281828459045)"
            ]
          },
          "execution_count": 36,
          "metadata": {},
          "output_type": "execute_result"
        }
      ],
      "source": [
        "math.pi, math.e"
      ]
    },
    {
      "cell_type": "markdown",
      "metadata": {
        "id": "tObd1FjcmFBz"
      },
      "source": [
        "We can use alias when importing libraries"
      ]
    },
    {
      "cell_type": "code",
      "execution_count": null,
      "metadata": {
        "id": "mIJI4jklmFB0"
      },
      "outputs": [],
      "source": [
        "import numpy as np"
      ]
    },
    {
      "cell_type": "code",
      "execution_count": null,
      "metadata": {
        "id": "8SuW3rClmFB5",
        "outputId": "f68dcb18-836e-4fce-9ec3-87a5b971bf45"
      },
      "outputs": [
        {
          "data": {
            "text/plain": [
              "2.718281828459045"
            ]
          },
          "execution_count": 35,
          "metadata": {},
          "output_type": "execute_result"
        }
      ],
      "source": [
        "np.e"
      ]
    },
    {
      "cell_type": "markdown",
      "metadata": {
        "id": "Yq8oSrNFmFB5"
      },
      "source": [
        "**Exercise**: compute the value of the expression\n",
        "$$\\sqrt{\\frac{3}{\\pi - 1} + 25^{1/4}}$$\n",
        "and give the result rounded to two decimals"
      ]
    },
    {
      "cell_type": "code",
      "execution_count": null,
      "metadata": {
        "id": "Wx8FvRnomFB6",
        "outputId": "2c37e8c9-762f-4a06-deb4-8049962e46bf"
      },
      "outputs": [
        {
          "data": {
            "text/plain": [
              "1.91"
            ]
          },
          "execution_count": 38,
          "metadata": {},
          "output_type": "execute_result"
        }
      ],
      "source": [
        "round(math.sqrt(3/(math.pi - 1) + 25**(1/4)),2)"
      ]
    },
    {
      "cell_type": "markdown",
      "metadata": {
        "id": "BTPUDw1imFB6"
      },
      "source": [
        "## Lists\n",
        "\n",
        "Lists are ordered collections of objects of any kind."
      ]
    },
    {
      "cell_type": "code",
      "execution_count": null,
      "metadata": {
        "id": "fIdW7IWBmFB8",
        "outputId": "d41d2026-569a-46a0-f688-4412a4d7c42b"
      },
      "outputs": [
        {
          "data": {
            "text/plain": [
              "[3, 'three', 'III']"
            ]
          },
          "execution_count": 59,
          "metadata": {},
          "output_type": "execute_result"
        }
      ],
      "source": [
        "x_list"
      ]
    },
    {
      "cell_type": "markdown",
      "metadata": {
        "id": "A-A7kHTJmFB8"
      },
      "source": [
        "We can retrieve elements of a list by indexing into the object with `[]`. In Python we count the elements of a collection from $0$ to $n-1$ (being $n$ the total number of elements). In order to retrieve an element, we can start counting from the beginning of the list, simply introducing the corresponding index, or from the end of the list with negative indexes."
      ]
    },
    {
      "cell_type": "code",
      "execution_count": null,
      "metadata": {
        "id": "W0aKr-fLmFB9",
        "outputId": "977651e0-5d8d-4b0e-a937-bfb4d8a0cf97"
      },
      "outputs": [
        {
          "data": {
            "text/plain": [
              "(3, 'three')"
            ]
          },
          "execution_count": 60,
          "metadata": {},
          "output_type": "execute_result"
        }
      ],
      "source": [
        "x_list[0], x_list[-2]"
      ]
    },
    {
      "cell_type": "code",
      "execution_count": null,
      "metadata": {
        "id": "bi4hjTFqmFB9",
        "outputId": "e6c3673e-044d-4bdc-9c11-0734b00acac0"
      },
      "outputs": [
        {
          "data": {
            "text/plain": [
              "('three', 'III')"
            ]
          },
          "execution_count": 61,
          "metadata": {},
          "output_type": "execute_result"
        }
      ],
      "source": [
        "x_list[1], x_list[-1]"
      ]
    },
    {
      "cell_type": "markdown",
      "metadata": {
        "id": "piQPeu4NmFB9"
      },
      "source": [
        "We can insert elemnts at the end"
      ]
    },
    {
      "cell_type": "code",
      "execution_count": null,
      "metadata": {
        "id": "quyWe68OmFB-",
        "outputId": "d44cd245-1d76-4db5-abbc-60fec692a456"
      },
      "outputs": [
        {
          "data": {
            "text/plain": [
              "[3, 'three', 'III', 'III']"
            ]
          },
          "execution_count": 62,
          "metadata": {},
          "output_type": "execute_result"
        }
      ],
      "source": [
        "x_list.append('III')\n",
        "x_list"
      ]
    },
    {
      "cell_type": "markdown",
      "metadata": {
        "id": "gGoe5tAKmFB-"
      },
      "source": [
        "A list can contain other lists"
      ]
    },
    {
      "cell_type": "code",
      "execution_count": null,
      "metadata": {
        "id": "mZk6Z7FWmFB-",
        "outputId": "acede223-7973-4993-c247-08d8a445af82"
      },
      "outputs": [
        {
          "data": {
            "text/plain": [
              "[3, 'three', 'III', 'III', ['III', [2, 'hi']]]"
            ]
          },
          "execution_count": 63,
          "metadata": {},
          "output_type": "execute_result"
        }
      ],
      "source": [
        "x_list.append(['III', [2, 'hi']])\n",
        "x_list"
      ]
    },
    {
      "cell_type": "code",
      "execution_count": null,
      "metadata": {
        "id": "BL4WsIU-mFB-",
        "outputId": "e5f423f3-4ca4-4f55-90e3-a59481fc45e8"
      },
      "outputs": [
        {
          "data": {
            "text/plain": [
              "('III', 2)"
            ]
          },
          "execution_count": 68,
          "metadata": {},
          "output_type": "execute_result"
        }
      ],
      "source": [
        "x_list[4][0], x_list[4][1][0]"
      ]
    },
    {
      "cell_type": "markdown",
      "metadata": {
        "id": "LD81UodLmFB_"
      },
      "source": [
        "Delete elements"
      ]
    },
    {
      "cell_type": "code",
      "execution_count": null,
      "metadata": {
        "id": "F9umu3gdmFB_",
        "outputId": "a84403ec-9cce-43e6-a462-4f2ef5e3c599"
      },
      "outputs": [
        {
          "data": {
            "text/plain": [
              "[3, 'three', 'III']"
            ]
          },
          "execution_count": 43,
          "metadata": {},
          "output_type": "execute_result"
        }
      ],
      "source": [
        "del x_list[-1]\n",
        "x_list"
      ]
    },
    {
      "cell_type": "markdown",
      "metadata": {
        "id": "JMWdOD0YmFB_"
      },
      "source": [
        "Concatenate elements"
      ]
    },
    {
      "cell_type": "code",
      "execution_count": null,
      "metadata": {
        "id": "nNWFGZRLmFCA",
        "outputId": "5a14a7aa-2602-4532-ea87-9cdc75b17d81"
      },
      "outputs": [
        {
          "data": {
            "text/plain": [
              "['john', '2.', '1', 3, 'three', 'III']"
            ]
          },
          "execution_count": 44,
          "metadata": {},
          "output_type": "execute_result"
        }
      ],
      "source": [
        "y_list = ['john', '2.', '1']\n",
        "\n",
        "y_list + x_list"
      ]
    },
    {
      "cell_type": "code",
      "execution_count": null,
      "metadata": {
        "id": "ffpj68gOmFCA",
        "outputId": "cf0f7492-47bf-462a-eb79-44da28b28e6f"
      },
      "outputs": [
        {
          "data": {
            "text/plain": [
              "[3, 'three', 'III', 3, 'three', 'III', 3, 'three', 'III']"
            ]
          },
          "execution_count": 45,
          "metadata": {},
          "output_type": "execute_result"
        }
      ],
      "source": [
        "x_list*3"
      ]
    },
    {
      "cell_type": "markdown",
      "metadata": {
        "id": "4UlRt2OgmFCA"
      },
      "source": [
        "We can apply functions to lists, `max`, `min`, `sum`, `len`"
      ]
    },
    {
      "cell_type": "code",
      "execution_count": null,
      "metadata": {
        "id": "aDFWDBh2mFCA",
        "outputId": "26c91edc-9426-4a56-8e91-b84c703fed16"
      },
      "outputs": [
        {
          "data": {
            "text/plain": [
              "78"
            ]
          },
          "execution_count": 46,
          "metadata": {},
          "output_type": "execute_result"
        }
      ],
      "source": [
        "z_list=[4, 78, 3]\n",
        "max(z_list)"
      ]
    },
    {
      "cell_type": "code",
      "execution_count": null,
      "metadata": {
        "id": "NgjgEfEUmFCB",
        "outputId": "13999df9-6036-480f-acf3-4ed4fd6a2699"
      },
      "outputs": [
        {
          "data": {
            "text/plain": [
              "3"
            ]
          },
          "execution_count": 47,
          "metadata": {},
          "output_type": "execute_result"
        }
      ],
      "source": [
        "min(z_list)"
      ]
    },
    {
      "cell_type": "code",
      "execution_count": null,
      "metadata": {
        "id": "9z76YiHQmFCB",
        "outputId": "24e4038e-3fea-42be-9c49-93d1098f1445"
      },
      "outputs": [
        {
          "data": {
            "text/plain": [
              "85"
            ]
          },
          "execution_count": 48,
          "metadata": {},
          "output_type": "execute_result"
        }
      ],
      "source": [
        "sum(z_list)"
      ]
    },
    {
      "cell_type": "code",
      "execution_count": null,
      "metadata": {
        "id": "5GKlidxmmFCC",
        "outputId": "4c16a0b7-d1bd-4af5-d1a9-97c4c7214506"
      },
      "outputs": [
        {
          "data": {
            "text/plain": [
              "3"
            ]
          },
          "execution_count": 49,
          "metadata": {},
          "output_type": "execute_result"
        }
      ],
      "source": [
        "len(z_list)"
      ]
    },
    {
      "cell_type": "markdown",
      "metadata": {
        "id": "7ynftd7cmFCC"
      },
      "source": [
        "There also methods that can be called using `.` operator"
      ]
    },
    {
      "cell_type": "code",
      "execution_count": null,
      "metadata": {
        "id": "jD4Rx6BomFCC",
        "outputId": "f8251177-6316-48e7-a093-5ba2c53f6345"
      },
      "outputs": [
        {
          "data": {
            "text/plain": [
              "1"
            ]
          },
          "execution_count": 50,
          "metadata": {},
          "output_type": "execute_result"
        }
      ],
      "source": [
        "z_list.count(4)"
      ]
    },
    {
      "cell_type": "code",
      "execution_count": null,
      "metadata": {
        "id": "u49ACytTmFCD",
        "outputId": "cfc01493-7fa5-45a7-c405-cf32064a62c8"
      },
      "outputs": [
        {
          "data": {
            "text/plain": [
              "2"
            ]
          },
          "execution_count": 51,
          "metadata": {},
          "output_type": "execute_result"
        }
      ],
      "source": [
        "z_list.append(4)\n",
        "z_list.count(4)"
      ]
    },
    {
      "cell_type": "code",
      "execution_count": null,
      "metadata": {
        "id": "lzlSkL2mmFCD",
        "outputId": "572f4eee-d204-4239-c6b6-edc84e920473"
      },
      "outputs": [
        {
          "data": {
            "text/plain": [
              "[3, 4, 4, 78]"
            ]
          },
          "execution_count": 52,
          "metadata": {},
          "output_type": "execute_result"
        }
      ],
      "source": [
        "z_list.sort()\n",
        "z_list"
      ]
    },
    {
      "cell_type": "code",
      "execution_count": null,
      "metadata": {
        "id": "kq5q1rekmFCE",
        "outputId": "b2dcd973-c668-4c51-e127-826e9b564136"
      },
      "outputs": [
        {
          "data": {
            "text/plain": [
              "[78, 4, 4, 3]"
            ]
          },
          "execution_count": 53,
          "metadata": {},
          "output_type": "execute_result"
        }
      ],
      "source": [
        "z_list.reverse()\n",
        "z_list"
      ]
    },
    {
      "cell_type": "markdown",
      "metadata": {
        "id": "_Dhu9_BnmFCE"
      },
      "source": [
        "We can check if an element is inside the list using `in`"
      ]
    },
    {
      "cell_type": "code",
      "execution_count": null,
      "metadata": {
        "id": "OX3Elb0UmFCE",
        "outputId": "6c62458e-36f1-4d19-966b-ed71a59c5ea5"
      },
      "outputs": [
        {
          "data": {
            "text/plain": [
              "False"
            ]
          },
          "execution_count": 54,
          "metadata": {},
          "output_type": "execute_result"
        }
      ],
      "source": [
        "2 in z_list"
      ]
    },
    {
      "cell_type": "markdown",
      "metadata": {
        "id": "zMP4IMFqmFCF"
      },
      "source": [
        "#### Slicing\n",
        "\n",
        "Taking a slice of the form `[i:j:k]`, the convention is that we take elements from `i` (included) up to `j` (excluded) using a `k` step. "
      ]
    },
    {
      "cell_type": "code",
      "execution_count": null,
      "metadata": {
        "id": "S3TyeyoFmFCF"
      },
      "outputs": [],
      "source": [
        "w_list = [0, 1, 2, 3, 4]"
      ]
    },
    {
      "cell_type": "code",
      "execution_count": null,
      "metadata": {
        "id": "xijKVBwSmFCF",
        "outputId": "30639dcd-46e7-4092-baf4-159838eac95e"
      },
      "outputs": [
        {
          "name": "stdout",
          "output_type": "stream",
          "text": [
            "0\n",
            "1\n",
            "[0, 1]\n",
            "[1, 2, 3, 4]\n",
            "[0, 1, 2]\n",
            "4\n",
            "[0, 1, 2]\n",
            "[0, 1, 2, 3, 4]\n",
            "[0, 2, 4]\n"
          ]
        }
      ],
      "source": [
        "print(w_list[0])\n",
        "print(w_list[1])\n",
        "print(w_list[0:2])\n",
        "print(w_list[1:])\n",
        "print(w_list[:3])\n",
        "print(w_list[-1])\n",
        "print(w_list[:-2])\n",
        "print(w_list[:])\n",
        "print(w_list[::2])"
      ]
    },
    {
      "cell_type": "markdown",
      "metadata": {
        "id": "tr8lSaaUmFCF"
      },
      "source": [
        "<div class=\"alert alert-block alert-warning\"> In Python indexing starts in 0!!! </div>"
      ]
    },
    {
      "cell_type": "markdown",
      "metadata": {
        "id": "6C3EZ8kImFCG"
      },
      "source": [
        "### Strings\n",
        "\n",
        "Strings are another kind of variable that represent sequences of characters\n"
      ]
    },
    {
      "cell_type": "code",
      "execution_count": null,
      "metadata": {
        "id": "Rk5mJFfHmFCG",
        "outputId": "e6705f32-3cd4-4e73-bda7-498e93727890"
      },
      "outputs": [
        {
          "data": {
            "text/plain": [
              "12"
            ]
          },
          "execution_count": 69,
          "metadata": {},
          "output_type": "execute_result"
        }
      ],
      "source": [
        "string = 'Hello World!'\n",
        "string2 = \"This is also allowed, helps if you want 'this' in a string and vice versa\"\n",
        "len(string)"
      ]
    },
    {
      "cell_type": "markdown",
      "metadata": {
        "id": "JHuctzeWmFCG"
      },
      "source": [
        "They can be manipulated as lists"
      ]
    },
    {
      "cell_type": "code",
      "execution_count": null,
      "metadata": {
        "id": "cpkxT_v_mFCG",
        "outputId": "32c7cfb9-e3a3-4b4a-b39b-e7e6910d04f0"
      },
      "outputs": [
        {
          "name": "stdout",
          "output_type": "stream",
          "text": [
            "Hello World!\n",
            "H\n",
            "llo\n",
            "llo World!\n",
            "Hello\n",
            "Hello World!Hello World!\n",
            "Hello World!TEST\n",
            "!\n"
          ]
        }
      ],
      "source": [
        "print(string)\n",
        "print(string[0])\n",
        "print(string[2:5])\n",
        "print(string[2:])\n",
        "print(string[:5])\n",
        "print(string * 2)\n",
        "print(string + 'TEST')\n",
        "print(string[-1])"
      ]
    },
    {
      "cell_type": "code",
      "execution_count": null,
      "metadata": {
        "id": "b3IeXxbCmFCH",
        "outputId": "433a23ef-11cd-4051-ab83-4024887267dd"
      },
      "outputs": [
        {
          "ename": "TypeError",
          "evalue": "unsupported operand type(s) for /: 'str' and 'int'",
          "output_type": "error",
          "traceback": [
            "\u001b[0;31m---------------------------------------------------------------------------\u001b[0m",
            "\u001b[0;31mTypeError\u001b[0m                                 Traceback (most recent call last)",
            "\u001b[0;32m<ipython-input-71-051052e91dd4>\u001b[0m in \u001b[0;36m<module>\u001b[0;34m\u001b[0m\n\u001b[0;32m----> 1\u001b[0;31m \u001b[0mprint\u001b[0m\u001b[0;34m(\u001b[0m\u001b[0mstring\u001b[0m\u001b[0;34m/\u001b[0m\u001b[0;36m2\u001b[0m\u001b[0;34m)\u001b[0m\u001b[0;34m\u001b[0m\u001b[0;34m\u001b[0m\u001b[0m\n\u001b[0m",
            "\u001b[0;31mTypeError\u001b[0m: unsupported operand type(s) for /: 'str' and 'int'"
          ]
        }
      ],
      "source": [
        "print(string/2)"
      ]
    },
    {
      "cell_type": "code",
      "execution_count": null,
      "metadata": {
        "id": "-y9oTDBPmFCH",
        "outputId": "c295d390-7541-4151-e523-8ff16ac4bd0e"
      },
      "outputs": [
        {
          "ename": "TypeError",
          "evalue": "unsupported operand type(s) for -: 'str' and 'str'",
          "output_type": "error",
          "traceback": [
            "\u001b[0;31m---------------------------------------------------------------------------\u001b[0m",
            "\u001b[0;31mTypeError\u001b[0m                                 Traceback (most recent call last)",
            "\u001b[0;32m<ipython-input-72-ed2359c80151>\u001b[0m in \u001b[0;36m<module>\u001b[0;34m\u001b[0m\n\u001b[0;32m----> 1\u001b[0;31m \u001b[0mprint\u001b[0m\u001b[0;34m(\u001b[0m\u001b[0mstring\u001b[0m \u001b[0;34m-\u001b[0m \u001b[0;34m'TEST'\u001b[0m\u001b[0;34m)\u001b[0m\u001b[0;34m\u001b[0m\u001b[0;34m\u001b[0m\u001b[0m\n\u001b[0m",
            "\u001b[0;31mTypeError\u001b[0m: unsupported operand type(s) for -: 'str' and 'str'"
          ]
        }
      ],
      "source": [
        "print(string - 'TEST')"
      ]
    },
    {
      "cell_type": "markdown",
      "metadata": {
        "id": "FCx6pv4VmFCH"
      },
      "source": [
        "Python offers some string functionalities:"
      ]
    },
    {
      "cell_type": "code",
      "execution_count": null,
      "metadata": {
        "id": "Acn2t-M_mFCI"
      },
      "outputs": [],
      "source": [
        "x = 'test'"
      ]
    },
    {
      "cell_type": "code",
      "execution_count": null,
      "metadata": {
        "id": "efBDXKs3mFCI",
        "outputId": "682f67a8-d604-4483-c187-f8b802e954a0"
      },
      "outputs": [
        {
          "data": {
            "text/plain": [
              "'Test'"
            ]
          },
          "execution_count": 74,
          "metadata": {},
          "output_type": "execute_result"
        }
      ],
      "source": [
        "x.capitalize()"
      ]
    },
    {
      "cell_type": "markdown",
      "metadata": {
        "id": "q_uLIbkvmFCI"
      },
      "source": [
        "Enviromnents like Jupyter, Spyder, VSCode, etc. allow you to explore the methods like `.capitalize()` or `.upper()` using `x.` and pressing `tab`."
      ]
    },
    {
      "cell_type": "code",
      "execution_count": null,
      "metadata": {
        "id": "fHHhpbHqmFCI",
        "outputId": "5cb7a236-3ec7-417f-b943-852dbf85be1d"
      },
      "outputs": [
        {
          "data": {
            "text/plain": [
              "1"
            ]
          },
          "execution_count": 75,
          "metadata": {},
          "output_type": "execute_result"
        }
      ],
      "source": [
        "x.find('e')"
      ]
    },
    {
      "cell_type": "code",
      "execution_count": null,
      "metadata": {
        "id": "U6yFxYbQmFCJ",
        "outputId": "f2ee355f-aead-462b-e231-35b70d75850e"
      },
      "outputs": [
        {
          "data": {
            "text/plain": [
              "'test'"
            ]
          },
          "execution_count": 76,
          "metadata": {},
          "output_type": "execute_result"
        }
      ],
      "source": [
        "x = 'TEST'\n",
        "x.lower()"
      ]
    },
    {
      "cell_type": "markdown",
      "metadata": {
        "id": "TcFPwZIUmFCJ"
      },
      "source": [
        "#### Formating\n",
        "\n",
        "You can also format strings, e.g. to display rounded numbers"
      ]
    },
    {
      "cell_type": "code",
      "execution_count": null,
      "metadata": {
        "id": "uFzRQSXdmFCJ",
        "outputId": "b40bf47b-fcb8-458c-f4f7-a794d9beb068"
      },
      "outputs": [
        {
          "name": "stdout",
          "output_type": "stream",
          "text": [
            "Pi is 003.14\n",
            "Space can be filled using ______TEST\n"
          ]
        }
      ],
      "source": [
        "print('Pi is {:06.2f}'.format(3.14159))\n",
        "print('Space can be filled using {:_>10}'.format(x))"
      ]
    },
    {
      "cell_type": "markdown",
      "metadata": {
        "id": "HFwOnOEamFCJ"
      },
      "source": [
        "With python 3.6 this became even more readable"
      ]
    },
    {
      "cell_type": "code",
      "execution_count": null,
      "metadata": {
        "id": "tYMtcQ4rmFCK",
        "outputId": "89d78cf7-abfe-4e7a-8e47-80b3e9b6b840"
      },
      "outputs": [
        {
          "name": "stdout",
          "output_type": "stream",
          "text": [
            "TEST 1 2 3\n"
          ]
        }
      ],
      "source": [
        "print(f'{x} 1 2 3')"
      ]
    },
    {
      "cell_type": "markdown",
      "metadata": {
        "id": "WlkJ-jNqmFCK"
      },
      "source": [
        "### Tuples\n",
        "\n",
        "Tuples are immutable and can be thought of as read-only lists."
      ]
    },
    {
      "cell_type": "code",
      "execution_count": null,
      "metadata": {
        "id": "Gg42tlDkmFCK",
        "outputId": "d49113e7-d5c7-449b-d146-39c7cefc7a48"
      },
      "outputs": [
        {
          "data": {
            "text/plain": [
              "tuple"
            ]
          },
          "execution_count": 79,
          "metadata": {},
          "output_type": "execute_result"
        }
      ],
      "source": [
        "y_tuple = ('john', '2.', '1')\n",
        "type(y_tuple)"
      ]
    },
    {
      "cell_type": "markdown",
      "metadata": {
        "id": "j87TRLwFmFCK"
      },
      "source": [
        "We can avoid parenthesis"
      ]
    },
    {
      "cell_type": "code",
      "execution_count": null,
      "metadata": {
        "id": "n-7-fLcWmFCK",
        "outputId": "f318e404-7184-4594-9a8b-e3a3347a1b13"
      },
      "outputs": [
        {
          "data": {
            "text/plain": [
              "tuple"
            ]
          },
          "execution_count": 82,
          "metadata": {},
          "output_type": "execute_result"
        }
      ],
      "source": [
        "y_tuple = 'john', '2.', '1'\n",
        "type(y_tuple)"
      ]
    },
    {
      "cell_type": "code",
      "execution_count": null,
      "metadata": {
        "id": "tIo8YyB9mFCL",
        "outputId": "ce5e49c7-63d9-4e24-f4a4-d9909551627e"
      },
      "outputs": [
        {
          "data": {
            "text/plain": [
              "['john', '2.', '1']"
            ]
          },
          "execution_count": 83,
          "metadata": {},
          "output_type": "execute_result"
        }
      ],
      "source": [
        "y_list"
      ]
    },
    {
      "cell_type": "code",
      "execution_count": null,
      "metadata": {
        "id": "YXVlSm2jmFCL",
        "outputId": "b10e791d-2e70-4f2c-ca71-c6cff884e2b7"
      },
      "outputs": [
        {
          "data": {
            "text/plain": [
              "['Erik', '2.', '1']"
            ]
          },
          "execution_count": 84,
          "metadata": {},
          "output_type": "execute_result"
        }
      ],
      "source": [
        "y_list[0] = 'Erik'\n",
        "y_list"
      ]
    },
    {
      "cell_type": "code",
      "execution_count": null,
      "metadata": {
        "id": "9z2tyDQPmFCL",
        "outputId": "281b9b88-12ea-4791-9914-fd4c56ab8c8c"
      },
      "outputs": [
        {
          "ename": "TypeError",
          "evalue": "'tuple' object does not support item assignment",
          "output_type": "error",
          "traceback": [
            "\u001b[0;31m---------------------------------------------------------------------------\u001b[0m",
            "\u001b[0;31mTypeError\u001b[0m                                 Traceback (most recent call last)",
            "\u001b[0;32m<ipython-input-85-fe270b26fef3>\u001b[0m in \u001b[0;36m<module>\u001b[0;34m\u001b[0m\n\u001b[0;32m----> 1\u001b[0;31m \u001b[0my_tuple\u001b[0m\u001b[0;34m[\u001b[0m\u001b[0;36m0\u001b[0m\u001b[0;34m]\u001b[0m \u001b[0;34m=\u001b[0m \u001b[0;34m'Erik'\u001b[0m\u001b[0;34m\u001b[0m\u001b[0;34m\u001b[0m\u001b[0m\n\u001b[0m",
            "\u001b[0;31mTypeError\u001b[0m: 'tuple' object does not support item assignment"
          ]
        }
      ],
      "source": [
        "y_tuple[0] = 'Erik'"
      ]
    },
    {
      "cell_type": "code",
      "execution_count": null,
      "metadata": {
        "id": "0f2fZ0O9mFCM",
        "outputId": "e8f5add7-2552-48db-a7ab-5244802df002"
      },
      "outputs": [
        {
          "data": {
            "text/plain": [
              "False"
            ]
          },
          "execution_count": 86,
          "metadata": {},
          "output_type": "execute_result"
        }
      ],
      "source": [
        "a_list = [1, 2, 3.0, 4 + 0j, \"5\"]\n",
        "a_tuple = (1, 2, 3.0, 4 + 0j, \"5\")\n",
        "a_list == a_tuple"
      ]
    },
    {
      "cell_type": "markdown",
      "metadata": {
        "id": "43lE2qnwmFCM"
      },
      "source": [
        "### Dictionaries\n",
        "\n",
        "Dictonaries are lists with named entries. There is also named tuples, which are immutable dictonaries. Use `OrderedDict` from `collections` if you need to preserve the order."
      ]
    },
    {
      "cell_type": "code",
      "execution_count": null,
      "metadata": {
        "id": "Wr0tcaSomFCM",
        "outputId": "2beb636b-da82-400e-f09f-623e314c0968"
      },
      "outputs": [
        {
          "data": {
            "text/plain": [
              "3"
            ]
          },
          "execution_count": 87,
          "metadata": {},
          "output_type": "execute_result"
        }
      ],
      "source": [
        "x_list[0]"
      ]
    },
    {
      "cell_type": "code",
      "execution_count": null,
      "metadata": {
        "id": "Ok_VDoofmFCN",
        "outputId": "339f24e6-13b0-42e7-e06d-088fd43c0ef0"
      },
      "outputs": [
        {
          "data": {
            "text/plain": [
              "dict"
            ]
          },
          "execution_count": 88,
          "metadata": {},
          "output_type": "execute_result"
        }
      ],
      "source": [
        "tinydict = {'name': 'John', 'code': 6734, 'dept': 'sales'}\n",
        "type(tinydict)"
      ]
    },
    {
      "cell_type": "code",
      "execution_count": null,
      "metadata": {
        "id": "52aLhYZFmFCN",
        "outputId": "c44f1581-d803-4f7a-9066-0a7484e2bbb0"
      },
      "outputs": [
        {
          "name": "stdout",
          "output_type": "stream",
          "text": [
            "{'name': 'John', 'code': 6734, 'dept': 'sales'}\n",
            "dict_keys(['name', 'code', 'dept'])\n",
            "dict_values(['John', 6734, 'sales'])\n"
          ]
        }
      ],
      "source": [
        "print(tinydict)\n",
        "print(tinydict.keys())\n",
        "print(tinydict.values())"
      ]
    },
    {
      "cell_type": "markdown",
      "metadata": {
        "id": "uRHqwtojmFCN"
      },
      "source": [
        "We use keys instead of indexes to access elements of dictionaries"
      ]
    },
    {
      "cell_type": "code",
      "execution_count": null,
      "metadata": {
        "id": "eViU5zZAmFCO",
        "outputId": "3ee4a64e-94c2-4728-98d8-005a00c7eda6"
      },
      "outputs": [
        {
          "data": {
            "text/plain": [
              "'John'"
            ]
          },
          "execution_count": 90,
          "metadata": {},
          "output_type": "execute_result"
        }
      ],
      "source": [
        "tinydict['name']"
      ]
    },
    {
      "cell_type": "code",
      "execution_count": null,
      "metadata": {
        "id": "TccZLizEmFCP",
        "outputId": "b51504ee-58fb-4d29-84b8-911c5ed89750"
      },
      "outputs": [
        {
          "data": {
            "text/plain": [
              "6734"
            ]
          },
          "execution_count": 91,
          "metadata": {},
          "output_type": "execute_result"
        }
      ],
      "source": [
        "tinydict['code']"
      ]
    },
    {
      "cell_type": "code",
      "execution_count": null,
      "metadata": {
        "id": "DQikytiimFCP",
        "outputId": "41058682-88de-49c9-bf15-c198845aa319"
      },
      "outputs": [
        {
          "ename": "KeyError",
          "evalue": "'surname'",
          "output_type": "error",
          "traceback": [
            "\u001b[0;31m---------------------------------------------------------------------------\u001b[0m",
            "\u001b[0;31mKeyError\u001b[0m                                  Traceback (most recent call last)",
            "\u001b[0;32m<ipython-input-92-e0955cd458fa>\u001b[0m in \u001b[0;36m<module>\u001b[0;34m\u001b[0m\n\u001b[0;32m----> 1\u001b[0;31m \u001b[0mtinydict\u001b[0m\u001b[0;34m[\u001b[0m\u001b[0;34m'surname'\u001b[0m\u001b[0;34m]\u001b[0m\u001b[0;34m\u001b[0m\u001b[0;34m\u001b[0m\u001b[0m\n\u001b[0m",
            "\u001b[0;31mKeyError\u001b[0m: 'surname'"
          ]
        }
      ],
      "source": [
        "tinydict['surname']"
      ]
    },
    {
      "cell_type": "markdown",
      "metadata": {
        "id": "QbvNaWKXmFCQ"
      },
      "source": [
        "We can add new entries and modifiy old elements"
      ]
    },
    {
      "cell_type": "code",
      "execution_count": null,
      "metadata": {
        "id": "x51g_KU-mFCQ",
        "outputId": "86bfaf69-9ed1-465f-d055-1fa06e84410d"
      },
      "outputs": [
        {
          "name": "stdout",
          "output_type": "stream",
          "text": [
            "{'name': 'John', 'code': 6734, 'dept': 'R&D', 'surname': 'Sloan'}\n"
          ]
        }
      ],
      "source": [
        "tinydict['dept'] = 'R&D'       # Update existing entry\n",
        "tinydict['surname'] = 'Sloan'  # Add new entry\n",
        "print(tinydict)"
      ]
    },
    {
      "cell_type": "code",
      "execution_count": null,
      "metadata": {
        "id": "Z89Sr4pamFCR"
      },
      "outputs": [],
      "source": [
        "del tinydict['code']  # Remove entry with key 'code'"
      ]
    },
    {
      "cell_type": "code",
      "execution_count": null,
      "metadata": {
        "id": "PImwUtL8mFCR",
        "outputId": "d317369d-7f55-4e41-83f7-dc1ae4a1a20a"
      },
      "outputs": [
        {
          "ename": "KeyError",
          "evalue": "'code'",
          "output_type": "error",
          "traceback": [
            "\u001b[0;31m---------------------------------------------------------------------------\u001b[0m",
            "\u001b[0;31mKeyError\u001b[0m                                  Traceback (most recent call last)",
            "\u001b[0;32m<ipython-input-95-26dd6f3c19d8>\u001b[0m in \u001b[0;36m<module>\u001b[0;34m\u001b[0m\n\u001b[0;32m----> 1\u001b[0;31m \u001b[0mtinydict\u001b[0m\u001b[0;34m[\u001b[0m\u001b[0;34m'code'\u001b[0m\u001b[0;34m]\u001b[0m\u001b[0;34m\u001b[0m\u001b[0;34m\u001b[0m\u001b[0m\n\u001b[0m",
            "\u001b[0;31mKeyError\u001b[0m: 'code'"
          ]
        }
      ],
      "source": [
        "tinydict['code']"
      ]
    },
    {
      "cell_type": "code",
      "execution_count": null,
      "metadata": {
        "id": "oAOhIUB6mFCR",
        "outputId": "a58b6aa8-3262-42f5-8b9f-b4fb1665276b"
      },
      "outputs": [
        {
          "name": "stdout",
          "output_type": "stream",
          "text": [
            "{}\n"
          ]
        }
      ],
      "source": [
        "tinydict.clear()\n",
        "print(tinydict)\n",
        "del tinydict"
      ]
    },
    {
      "cell_type": "markdown",
      "metadata": {
        "id": "UNSLEO6mmFCS"
      },
      "source": [
        "When duplicate keys encountered during assignment, the last assignment wins"
      ]
    },
    {
      "cell_type": "code",
      "execution_count": null,
      "metadata": {
        "id": "RSw0ZLVcmFCS",
        "outputId": "9c4eaf04-65e7-4a57-9d82-2dc8837539c8"
      },
      "outputs": [
        {
          "data": {
            "text/plain": [
              "{'Name': 'Manni', 'Age': 7}"
            ]
          },
          "execution_count": 97,
          "metadata": {},
          "output_type": "execute_result"
        }
      ],
      "source": [
        "pepito = {'Name': 'Sara', 'Age': 7, 'Name': 'Manni'}\n",
        "pepito"
      ]
    },
    {
      "cell_type": "markdown",
      "metadata": {
        "id": "XUUWgeVomFCS"
      },
      "source": [
        "Finding the total number of items in the dictionary:"
      ]
    },
    {
      "cell_type": "code",
      "execution_count": null,
      "metadata": {
        "id": "T1ZId1GDmFCS",
        "outputId": "212b8a54-ead0-4f28-d056-b3182a23bac0"
      },
      "outputs": [
        {
          "data": {
            "text/plain": [
              "2"
            ]
          },
          "execution_count": 99,
          "metadata": {},
          "output_type": "execute_result"
        }
      ],
      "source": [
        "len(pepito)"
      ]
    },
    {
      "cell_type": "markdown",
      "metadata": {
        "id": "h5TxdSo3mFCS"
      },
      "source": [
        "Produces a printable string representation of a dictionary:"
      ]
    },
    {
      "cell_type": "code",
      "execution_count": null,
      "metadata": {
        "id": "fRkVhGnZmFCS",
        "outputId": "5f5b3c1a-d7b2-4135-be62-e656537cf2fe"
      },
      "outputs": [
        {
          "data": {
            "text/plain": [
              "\"{'Name': 'Manni', 'Age': 7}\""
            ]
          },
          "execution_count": 101,
          "metadata": {},
          "output_type": "execute_result"
        }
      ],
      "source": [
        "str(pepito)"
      ]
    },
    {
      "cell_type": "markdown",
      "metadata": {
        "id": "9fLgBhB1mFCT"
      },
      "source": [
        "## Sets\n",
        "\n",
        "Unordered containers without repeating items."
      ]
    },
    {
      "cell_type": "code",
      "execution_count": null,
      "metadata": {
        "id": "l7OFA3ZtmFCT",
        "outputId": "676d780f-db54-4b5e-d964-e38f90c90214"
      },
      "outputs": [
        {
          "data": {
            "text/plain": [
              "{1, 2}"
            ]
          },
          "execution_count": 102,
          "metadata": {},
          "output_type": "execute_result"
        }
      ],
      "source": [
        "my_set = set([1, 2])\n",
        "my_set"
      ]
    },
    {
      "cell_type": "code",
      "execution_count": null,
      "metadata": {
        "id": "ZIm1TwWymFCT",
        "outputId": "0faf7288-5f64-44fc-da36-dc5b8060780d"
      },
      "outputs": [
        {
          "data": {
            "text/plain": [
              "{1, 2, 4}"
            ]
          },
          "execution_count": 103,
          "metadata": {},
          "output_type": "execute_result"
        }
      ],
      "source": [
        "my_set.add(4)\n",
        "my_set"
      ]
    },
    {
      "cell_type": "code",
      "execution_count": null,
      "metadata": {
        "id": "fN_tnVBNmFCT",
        "outputId": "80c8b8f0-6d3d-4525-8307-14288913aa50"
      },
      "outputs": [
        {
          "data": {
            "text/plain": [
              "{1, 2, 4}"
            ]
          },
          "execution_count": 104,
          "metadata": {},
          "output_type": "execute_result"
        }
      ],
      "source": [
        "my_set.add(4)\n",
        "my_set"
      ]
    },
    {
      "cell_type": "markdown",
      "metadata": {
        "id": "hnRt2FtbmFCU"
      },
      "source": [
        "We can use `update` method to add multiple items"
      ]
    },
    {
      "cell_type": "code",
      "execution_count": null,
      "metadata": {
        "id": "IYrg729GmFCU",
        "outputId": "09005b90-0608-4c72-b22a-899015be3c2e"
      },
      "outputs": [
        {
          "data": {
            "text/plain": [
              "{1, 2, 3.5, 4, 'hi'}"
            ]
          },
          "execution_count": 105,
          "metadata": {},
          "output_type": "execute_result"
        }
      ],
      "source": [
        "my_set.update(['hi', 3.5])\n",
        "my_set"
      ]
    },
    {
      "cell_type": "markdown",
      "metadata": {
        "id": "2fzRQYx9mFCU"
      },
      "source": [
        "Operations between sets"
      ]
    },
    {
      "cell_type": "code",
      "execution_count": null,
      "metadata": {
        "id": "d2EiEp9ImFCV",
        "outputId": "1a426c4c-6a87-4e79-873c-9a78dc597fb0"
      },
      "outputs": [
        {
          "ename": "TypeError",
          "evalue": "unsupported operand type(s) for +: 'set' and 'int'",
          "output_type": "error",
          "traceback": [
            "\u001b[0;31m---------------------------------------------------------------------------\u001b[0m",
            "\u001b[0;31mTypeError\u001b[0m                                 Traceback (most recent call last)",
            "\u001b[0;32m<ipython-input-106-bbfb8bd10a11>\u001b[0m in \u001b[0;36m<module>\u001b[0;34m\u001b[0m\n\u001b[0;32m----> 1\u001b[0;31m \u001b[0mmy_set\u001b[0m \u001b[0;34m+\u001b[0m \u001b[0;36m5\u001b[0m\u001b[0;34m\u001b[0m\u001b[0;34m\u001b[0m\u001b[0m\n\u001b[0m",
            "\u001b[0;31mTypeError\u001b[0m: unsupported operand type(s) for +: 'set' and 'int'"
          ]
        }
      ],
      "source": [
        "my_set + 5"
      ]
    },
    {
      "cell_type": "code",
      "execution_count": null,
      "metadata": {
        "id": "_J8sXxHlmFCW"
      },
      "outputs": [],
      "source": [
        "other_set = {3, 4, 5}"
      ]
    },
    {
      "cell_type": "code",
      "execution_count": null,
      "metadata": {
        "id": "qM2Xza4emFCW",
        "outputId": "4e260694-192e-4f3e-ad7e-660d32254b6b"
      },
      "outputs": [
        {
          "data": {
            "text/plain": [
              "{1, 2, 3.5, 'hi'}"
            ]
          },
          "execution_count": 108,
          "metadata": {},
          "output_type": "execute_result"
        }
      ],
      "source": [
        "my_set - other_set"
      ]
    },
    {
      "cell_type": "code",
      "execution_count": null,
      "metadata": {
        "id": "CnNMPSoumFCW",
        "outputId": "7e71fd98-2b90-4b26-e7fe-f40f24eea85a"
      },
      "outputs": [
        {
          "data": {
            "text/plain": [
              "{3, 5}"
            ]
          },
          "execution_count": 109,
          "metadata": {},
          "output_type": "execute_result"
        }
      ],
      "source": [
        "other_set.difference(my_set)"
      ]
    },
    {
      "cell_type": "code",
      "execution_count": null,
      "metadata": {
        "id": "iY66mICNmFCW",
        "outputId": "1160c390-347f-4186-be08-20c85690755d"
      },
      "outputs": [
        {
          "data": {
            "text/plain": [
              "{4}"
            ]
          },
          "execution_count": 110,
          "metadata": {},
          "output_type": "execute_result"
        }
      ],
      "source": [
        "my_set.intersection(other_set)"
      ]
    },
    {
      "cell_type": "code",
      "execution_count": null,
      "metadata": {
        "id": "H9EA9wXxmFCX",
        "outputId": "b8acff60-627d-484c-a2e2-0fafe04acd81"
      },
      "outputs": [
        {
          "data": {
            "text/plain": [
              "{1, 2, 3.5, 4}"
            ]
          },
          "execution_count": 111,
          "metadata": {},
          "output_type": "execute_result"
        }
      ],
      "source": [
        "my_set.discard('hi')\n",
        "my_set"
      ]
    },
    {
      "cell_type": "code",
      "execution_count": null,
      "metadata": {
        "id": "VhpJgnKQmFCX"
      },
      "outputs": [],
      "source": [
        "my_set.discard('hello')"
      ]
    },
    {
      "cell_type": "markdown",
      "metadata": {
        "id": "62lYdbVSmFCX"
      },
      "source": [
        "## Functions\n",
        "\n",
        "To define our own function we use the `def` statement followed by the name of the same and the input arguments in parentheses. The first line of the function can be a doc string."
      ]
    },
    {
      "cell_type": "code",
      "execution_count": null,
      "metadata": {
        "id": "LrghluVRmFCX"
      },
      "outputs": [],
      "source": [
        "def mean(mylist):\n",
        "    \"Calculate the mean of the elements in mylist.\"\n",
        "    number_of_items = len(mylist)\n",
        "    sum_of_items = sum(mylist)\n",
        "    return sum_of_items / number_of_items"
      ]
    },
    {
      "cell_type": "code",
      "execution_count": null,
      "metadata": {
        "id": "ziBs7BJXmFCY",
        "outputId": "1bedd856-b88a-4d28-cc8b-cc2c506f39e0"
      },
      "outputs": [
        {
          "data": {
            "text/plain": [
              "<function __main__.mean(mylist)>"
            ]
          },
          "execution_count": 115,
          "metadata": {},
          "output_type": "execute_result"
        }
      ],
      "source": [
        "mean"
      ]
    },
    {
      "cell_type": "code",
      "execution_count": null,
      "metadata": {
        "id": "tN8BvblQmFCY",
        "outputId": "27c59e01-61e7-4ac0-ca58-0a87ebed3956"
      },
      "outputs": [
        {
          "data": {
            "text/plain": [
              "'Calculate the mean of the elements in mylist.'"
            ]
          },
          "execution_count": 116,
          "metadata": {},
          "output_type": "execute_result"
        }
      ],
      "source": [
        "mean.__doc__"
      ]
    },
    {
      "cell_type": "code",
      "execution_count": null,
      "metadata": {
        "id": "vGJxKZMBmFCY",
        "outputId": "45a3a172-d9d8-4ef6-dad0-4fa668cd8666"
      },
      "outputs": [
        {
          "data": {
            "text/plain": [
              "function"
            ]
          },
          "execution_count": 117,
          "metadata": {},
          "output_type": "execute_result"
        }
      ],
      "source": [
        "type(mean)"
      ]
    },
    {
      "cell_type": "code",
      "execution_count": null,
      "metadata": {
        "id": "WbaorD7PmFCY",
        "outputId": "e6180370-29f9-4014-98d3-bd66b1f8eff6"
      },
      "outputs": [
        {
          "data": {
            "text/plain": [
              "[78, 4, 4, 3]"
            ]
          },
          "execution_count": 118,
          "metadata": {},
          "output_type": "execute_result"
        }
      ],
      "source": [
        "z_list"
      ]
    },
    {
      "cell_type": "code",
      "execution_count": null,
      "metadata": {
        "id": "CWfaJDLZmFCY",
        "outputId": "35f2d4fa-ed57-4518-e7e0-1c14b1afeac4"
      },
      "outputs": [
        {
          "data": {
            "text/plain": [
              "22.25"
            ]
          },
          "execution_count": 119,
          "metadata": {},
          "output_type": "execute_result"
        }
      ],
      "source": [
        "mean(z_list)"
      ]
    },
    {
      "cell_type": "code",
      "execution_count": null,
      "metadata": {
        "id": "gsSLRgr0mFCZ",
        "outputId": "94ca5c0c-f05d-45e5-92b7-04185fd12cfb"
      },
      "outputs": [
        {
          "name": "stdout",
          "output_type": "stream",
          "text": [
            "Help on function mean in module __main__:\n",
            "\n",
            "mean(mylist)\n",
            "    Calculate the mean of the elements in mylist.\n",
            "\n"
          ]
        }
      ],
      "source": [
        "help(mean)"
      ]
    },
    {
      "cell_type": "code",
      "execution_count": null,
      "metadata": {
        "id": "QiB0ElKQmFCZ"
      },
      "outputs": [],
      "source": [
        "mean?"
      ]
    },
    {
      "cell_type": "code",
      "execution_count": null,
      "metadata": {
        "id": "joN6KmpPmFCZ"
      },
      "outputs": [],
      "source": [
        "mean??"
      ]
    },
    {
      "cell_type": "code",
      "execution_count": null,
      "metadata": {
        "id": "FIq78WCZmFCZ",
        "outputId": "ba4b713b-8680-4eac-c7c8-f26239cf438c"
      },
      "outputs": [
        {
          "data": {
            "text/plain": [
              "(6, 6.0)"
            ]
          },
          "execution_count": 123,
          "metadata": {},
          "output_type": "execute_result"
        }
      ],
      "source": [
        "def multiply(x, y=2.0):\n",
        "    \"\"\"Multiplies two numbers, bu default the first by 2.\"\"\"\n",
        "    return x * y\n",
        "\n",
        "multiply(2,3), multiply(3)"
      ]
    },
    {
      "cell_type": "markdown",
      "metadata": {
        "id": "h4_8ymoimFCa"
      },
      "source": [
        "## Flow Control\n",
        "\n",
        "In general, statements are executed sequentially: the first statement in a function is executed first, followed by the second, and so on. We often encounter situations in which we need to execute a block of code several number of times or change the operations based on some conditions. In Python a block is delimitted by an intendation (4 spaces), i.e. all lines starting at the same space are one block.\n",
        "\n",
        "Programming languages provide various control structures that allow for more complicated execution paths."
      ]
    },
    {
      "cell_type": "markdown",
      "metadata": {
        "id": "snyRKHltmFCa"
      },
      "source": [
        "### `while` Loop\n",
        "Repeats a statement or group of statements while a given condition is `True`. The condition is tested before executing the loop body every time."
      ]
    },
    {
      "cell_type": "code",
      "execution_count": null,
      "metadata": {
        "id": "VFMlGqWFmFCa",
        "outputId": "5ec03cf7-47d1-403d-ae5e-eba865263709"
      },
      "outputs": [
        {
          "name": "stdout",
          "output_type": "stream",
          "text": [
            "The count is: 0\n",
            "The count is: 1\n",
            "The count is: 2\n",
            "The count is: 3\n",
            "The count is: 4\n",
            "The count is: 5\n",
            "The count is: 6\n",
            "The count is: 7\n",
            "The count is: 8\n",
            "Good bye!\n"
          ]
        }
      ],
      "source": [
        "count = 0\n",
        "while (count < 9):\n",
        "    print('The count is: ' + str(count))\n",
        "    count += 1\n",
        "\n",
        "print('Good bye!')"
      ]
    },
    {
      "cell_type": "markdown",
      "metadata": {
        "id": "rKkhmco5mFCb"
      },
      "source": [
        "A loop becomes infinite loop whenever the condition never becomes `False`. Hence, we need to be careful when using while loops provided that they may never end, as we saw in the previous notebook. These are called infinite loops.\n",
        "\n",
        "An infinite loop might be useful in client/server programming where the server needs to run continuously so that client programs can communicate with it when required (`while True:`)"
      ]
    },
    {
      "cell_type": "markdown",
      "metadata": {
        "id": "z6Z5KFoGmFCb"
      },
      "source": [
        "### `for` Loop\n",
        "Executes a sequence of statements multiple times and abbreviates the code that manages the loop variable. The idea is that it goes through a set of elements"
      ]
    },
    {
      "cell_type": "code",
      "execution_count": null,
      "metadata": {
        "id": "_ajynWKtmFCb",
        "outputId": "16ad43f2-1261-499d-c258-d20782089bc4"
      },
      "outputs": [
        {
          "name": "stdout",
          "output_type": "stream",
          "text": [
            "1\n",
            "2\n",
            "3\n"
          ]
        }
      ],
      "source": [
        "for i in 1,2,3:\n",
        "    print(i)"
      ]
    },
    {
      "cell_type": "code",
      "execution_count": null,
      "metadata": {
        "id": "e7a1QBuKmFCc",
        "outputId": "7baee96b-6d29-4bef-ad0a-c280c4056b6a"
      },
      "outputs": [
        {
          "name": "stdout",
          "output_type": "stream",
          "text": [
            "John\n",
            "Charles\n",
            "Tom\n"
          ]
        }
      ],
      "source": [
        "for name in 'John','Charles','Tom':\n",
        "    print(name)"
      ]
    },
    {
      "cell_type": "code",
      "execution_count": null,
      "metadata": {
        "id": "bGBo__8pmFCc",
        "outputId": "aca88621-b868-47c4-f373-211253a833f2"
      },
      "outputs": [
        {
          "name": "stdout",
          "output_type": "stream",
          "text": [
            "Current fruit: banana\n",
            "Current fruit: apple\n",
            "Current fruit: mango\n"
          ]
        }
      ],
      "source": [
        "fruits = ['banana', 'apple',  'mango']\n",
        "for fruit in fruits:        # Second Example\n",
        "    print('Current fruit:', fruit)"
      ]
    },
    {
      "cell_type": "markdown",
      "metadata": {
        "id": "RyMBO6l7mFCc"
      },
      "source": [
        "Sometimes one also needs the index of the element, e.g. to plot a subset of data on different subplots. Then `enumerate` provides an elegant (\"pythonic\") way:"
      ]
    },
    {
      "cell_type": "code",
      "execution_count": null,
      "metadata": {
        "id": "aJ0bv1k3mFCc",
        "outputId": "e89c41e8-4c8a-4913-ec09-459c783401d1"
      },
      "outputs": [
        {
          "name": "stdout",
          "output_type": "stream",
          "text": [
            "Fruit number 0: banana\n",
            "Fruit number 1: apple\n",
            "Fruit number 2: mango\n"
          ]
        }
      ],
      "source": [
        "for index, fruit in enumerate(fruits):\n",
        "    print(f'Fruit number {index}:', fruit)"
      ]
    },
    {
      "cell_type": "markdown",
      "metadata": {
        "id": "I75H8xjemFCc"
      },
      "source": [
        "In principle one could also iterate over an index going from 0 to the number of elements:"
      ]
    },
    {
      "cell_type": "code",
      "execution_count": null,
      "metadata": {
        "id": "BkCOuBNBmFCd"
      },
      "outputs": [],
      "source": [
        "for index in range(len(fruits)):\n",
        "    print('Current fruit:', fruits[index])"
      ]
    },
    {
      "cell_type": "markdown",
      "metadata": {
        "id": "Jh3P9E1jmFCd"
      },
      "source": [
        "`range` function can be also used to go through a range of numbers"
      ]
    },
    {
      "cell_type": "code",
      "execution_count": null,
      "metadata": {
        "id": "54Fmw4wtmFCd",
        "outputId": "497780d4-bd69-4851-a20c-1a847e627c46"
      },
      "outputs": [
        {
          "name": "stdout",
          "output_type": "stream",
          "text": [
            "0\n",
            "1\n",
            "2\n"
          ]
        }
      ],
      "source": [
        "for ii in range(3):\n",
        "    print(ii)"
      ]
    },
    {
      "cell_type": "code",
      "execution_count": null,
      "metadata": {
        "id": "CjTDYM7WmFCd",
        "outputId": "081ac49d-67ae-4c8a-e0ac-eac3b68a3055"
      },
      "outputs": [
        {
          "name": "stdout",
          "output_type": "stream",
          "text": [
            "2\n",
            "3\n",
            "4\n"
          ]
        }
      ],
      "source": [
        "for ii in range(2,5):\n",
        "    print(ii)"
      ]
    },
    {
      "cell_type": "code",
      "execution_count": null,
      "metadata": {
        "id": "tzxdxPmSmFCd",
        "outputId": "da885acd-ce68-444f-866c-7bf7ba2c1028"
      },
      "outputs": [
        {
          "name": "stdout",
          "output_type": "stream",
          "text": [
            "2\n",
            "4\n",
            "6\n",
            "8\n"
          ]
        }
      ],
      "source": [
        "for ii in range(2,10,2):\n",
        "    print(ii)"
      ]
    },
    {
      "cell_type": "markdown",
      "metadata": {
        "id": "X1OWBg8zmFCe"
      },
      "source": [
        "`for` loops can be elegantly integrated into a list comprehension"
      ]
    },
    {
      "cell_type": "code",
      "execution_count": null,
      "metadata": {
        "id": "nqFuUC5-mFCe",
        "outputId": "0731581b-5f23-4cf4-f09a-2fbf836a24fb"
      },
      "outputs": [
        {
          "data": {
            "text/plain": [
              "[0, 1, 2, 3, 4]"
            ]
          },
          "execution_count": 135,
          "metadata": {},
          "output_type": "execute_result"
        }
      ],
      "source": [
        "our_list = []\n",
        "for n in range(5):\n",
        "    our_list.append(n)\n",
        "our_list"
      ]
    },
    {
      "cell_type": "code",
      "execution_count": null,
      "metadata": {
        "id": "noouLZm9mFCe",
        "outputId": "b1bb6486-2210-4c41-e09b-cc593e75d442"
      },
      "outputs": [
        {
          "data": {
            "text/plain": [
              "[0, 10, 20, 30, 40]"
            ]
          },
          "execution_count": 136,
          "metadata": {},
          "output_type": "execute_result"
        }
      ],
      "source": [
        "[10*n for n in range(5)]"
      ]
    },
    {
      "cell_type": "code",
      "execution_count": null,
      "metadata": {
        "id": "NbpAqAy7mFCe",
        "outputId": "27f46fac-1145-4dc2-e99e-0f2f2eb7335b"
      },
      "outputs": [
        {
          "name": "stdout",
          "output_type": "stream",
          "text": [
            "It was true\n"
          ]
        }
      ],
      "source": [
        "print(\"It was true\") if 2 < 3 else print(\"It was false\") "
      ]
    },
    {
      "cell_type": "code",
      "execution_count": null,
      "metadata": {
        "id": "Gnu7eEP4mFCe",
        "outputId": "5967468e-8385-4eef-98dc-eff09e3119a6"
      },
      "outputs": [
        {
          "data": {
            "text/plain": [
              "['banana']"
            ]
          },
          "execution_count": 138,
          "metadata": {},
          "output_type": "execute_result"
        }
      ],
      "source": [
        "fruits_with_b = [fruit for fruit in fruits if fruit.startswith('b')]\n",
        "fruits_with_b"
      ]
    },
    {
      "cell_type": "markdown",
      "metadata": {
        "id": "fx6N6mxzmFCf"
      },
      "source": [
        "This is equivalent to the following loop:"
      ]
    },
    {
      "cell_type": "code",
      "execution_count": null,
      "metadata": {
        "id": "v-luySsRmFCf",
        "outputId": "747406fe-1abd-461a-d7c5-1fa82a085b96"
      },
      "outputs": [
        {
          "data": {
            "text/plain": [
              "['banana']"
            ]
          },
          "execution_count": 139,
          "metadata": {},
          "output_type": "execute_result"
        }
      ],
      "source": [
        "fruits_with_b = []\n",
        "for fruit in fruits:\n",
        "    if fruit.startswith('b'):\n",
        "        fruits_with_b.append(fruit)\n",
        "fruits_with_b"
      ]
    },
    {
      "cell_type": "markdown",
      "metadata": {
        "id": "O6OpeZqVmFCf"
      },
      "source": [
        "**Exercise**: write a function that reads a number $n$ and prints the $n$-th harmonic number, defined as \n",
        "$$H_n = 1/1 + 1/2 + \\dots + 1/n$$ with at most 4 digits after the decimal point"
      ]
    },
    {
      "cell_type": "code",
      "execution_count": null,
      "metadata": {
        "id": "xjqIV7JlmFCf"
      },
      "outputs": [],
      "source": [
        "def harmonic(n):\n",
        "    \"\"\"Returns the n-th harmonic number\"\"\"\n",
        "    sum = 0\n",
        "    for i in range(1,n+1):\n",
        "        sum += float(1/i)\n",
        "    return round(sum,4)"
      ]
    },
    {
      "cell_type": "code",
      "execution_count": null,
      "metadata": {
        "id": "YXDi8wZemFCg",
        "outputId": "9cc2ac16-dae8-41af-82e3-e8cd074165d9"
      },
      "outputs": [
        {
          "data": {
            "text/plain": [
              "(1.5, 2.5929)"
            ]
          },
          "execution_count": 145,
          "metadata": {},
          "output_type": "execute_result"
        }
      ],
      "source": [
        "harmonic(2), harmonic(7)"
      ]
    },
    {
      "cell_type": "markdown",
      "metadata": {
        "id": "zk3mZTVrmFCg"
      },
      "source": [
        "### Nested Loops\n",
        "\n",
        "Nested loops are loops within other loops, regardless of the type. For example, we can have nested for and while loops."
      ]
    },
    {
      "cell_type": "code",
      "execution_count": null,
      "metadata": {
        "id": "TinRvW3ZmFCg"
      },
      "outputs": [],
      "source": [
        "for x in range(1, 3):\n",
        "    for y in range(1, 4):\n",
        "        print(f'{x} * {y} = {x*y}')"
      ]
    },
    {
      "cell_type": "markdown",
      "metadata": {
        "id": "tqIvSVLTmFCg"
      },
      "source": [
        "### `if`\n",
        "\n",
        "As we saw in the previous notebook, the if statement evaluates the code subject to the fulfillment of a given condition (generally created with a logical operator such as `==`, `<`, `>`, `=<`, `=>`, `not`, `is`, `in`, etc.). We can introduce an optional `else` statement to execute an alternative block of code whenever the condition is not met."
      ]
    },
    {
      "cell_type": "code",
      "execution_count": null,
      "metadata": {
        "id": "Jld4BuvkmFCh"
      },
      "outputs": [],
      "source": [
        "attendants = ['Mark', 'Jack', 'Mary']\n",
        "student = 'Mark'\n",
        "\n",
        "if student in attendants:\n",
        "    print('present!')\n",
        "else:\n",
        "    print('absent!')"
      ]
    },
    {
      "cell_type": "markdown",
      "metadata": {
        "id": "SHYgILN0mFCh"
      },
      "source": [
        "We can also use one or more `elif` statements to check multiple conditions and execute a block of code as soon as one of the conditions is `True`."
      ]
    },
    {
      "cell_type": "code",
      "execution_count": null,
      "metadata": {
        "id": "vW_AXlaImFCh"
      },
      "outputs": [],
      "source": [
        "attendants_A = ['Mark', 'Jack', 'Mary']\n",
        "attendants_B = ['Tom', 'Dick', 'Harry']\n",
        "student = 'Tom'\n",
        "\n",
        "if student in attendants_A:\n",
        "    print('present in list A!')\n",
        "elif student in attendants_B:\n",
        "    print('present in list B!')\n",
        "else:\n",
        "    print('absent!')"
      ]
    },
    {
      "cell_type": "markdown",
      "metadata": {
        "id": "MHEy0QYvmFCh"
      },
      "source": [
        "We can also use nested `if` statements."
      ]
    },
    {
      "cell_type": "markdown",
      "metadata": {
        "id": "G2DoLzh0mFCi"
      },
      "source": [
        "### `break`"
      ]
    },
    {
      "cell_type": "markdown",
      "metadata": {
        "id": "6VO-ByasmFCi"
      },
      "source": [
        "`break` terminates the current loop and resumes execution at the next statement. The `break` statement can be used in both `while` and `for` loops. In nested loops, the `break` statement only stops the execution of the **innermost loop**."
      ]
    },
    {
      "cell_type": "code",
      "execution_count": null,
      "metadata": {
        "id": "11Mz3o29mFCi"
      },
      "outputs": [],
      "source": [
        "var = 10\n",
        "while var > 0:              \n",
        "    print('Current variable value: ' + str(var))\n",
        "    var -= 1\n",
        "    if var == 5:\n",
        "        break\n",
        "\n",
        "print('Good bye!')"
      ]
    },
    {
      "cell_type": "markdown",
      "metadata": {
        "id": "LiIlY0CbmFCi"
      },
      "source": [
        "An `else` statement right after the loop is executed if it hasn't been interrumpted by us "
      ]
    },
    {
      "cell_type": "code",
      "execution_count": null,
      "metadata": {
        "id": "l1xgVKSTmFCi",
        "outputId": "b19fa79a-c768-489e-9a39-eaf182e1b242"
      },
      "outputs": [
        {
          "name": "stdout",
          "output_type": "stream",
          "text": [
            "Current variable value: 10\n",
            "Current variable value: 9\n",
            "Current variable value: 8\n",
            "Current variable value: 7\n",
            "Current variable value: 6\n"
          ]
        }
      ],
      "source": [
        "var = 10\n",
        "while var > 0:              \n",
        "    print('Current variable value: ' + str(var))\n",
        "    var -= 1\n",
        "    if var == 5:\n",
        "        break\n",
        "else:\n",
        "    print(\"Loop finished\")"
      ]
    },
    {
      "cell_type": "code",
      "execution_count": null,
      "metadata": {
        "id": "JYFUBpfKmFCj",
        "outputId": "92e18a27-a3b5-492d-9815-f29977223867"
      },
      "outputs": [
        {
          "name": "stdout",
          "output_type": "stream",
          "text": [
            "Current variable value: 10\n",
            "Current variable value: 9\n",
            "Current variable value: 8\n",
            "Current variable value: 7\n",
            "Current variable value: 6\n",
            "Current variable value: 5\n",
            "Current variable value: 4\n",
            "Current variable value: 3\n",
            "Current variable value: 2\n",
            "Current variable value: 1\n",
            "Loop finished\n"
          ]
        }
      ],
      "source": [
        "var = 10\n",
        "while var > 0:              \n",
        "    print('Current variable value: ' + str(var))\n",
        "    var -= 1\n",
        "    # if var  5:\n",
        "    #    break\n",
        "else:\n",
        "    print(\"Loop finished\")"
      ]
    },
    {
      "cell_type": "markdown",
      "metadata": {
        "id": "ipyGlEDMmFCj"
      },
      "source": [
        "### `continue` "
      ]
    },
    {
      "cell_type": "markdown",
      "metadata": {
        "id": "V0Ch91g1mFCj"
      },
      "source": [
        "The `continue` statement rejects all the remaining statements in the current iteration of the loop and moves the control back to the top of the loop (like a \"skip\"). It can be used in both `while` and `for` loops."
      ]
    },
    {
      "cell_type": "code",
      "execution_count": null,
      "metadata": {
        "id": "Fq7pT3pumFCj",
        "outputId": "7b69e422-5a20-4fec-a172-d1c191ecd3fc"
      },
      "outputs": [
        {
          "name": "stdout",
          "output_type": "stream",
          "text": [
            "Current Letter: P\n",
            "Current Letter: y\n",
            "Current Letter: t\n",
            "Current Letter: o\n",
            "Current Letter: n\n"
          ]
        }
      ],
      "source": [
        "for letter in 'Python':\n",
        "    if letter == 'h':\n",
        "        continue\n",
        "    print('Current Letter: ' + letter)\n"
      ]
    },
    {
      "cell_type": "markdown",
      "metadata": {
        "id": "4Wh6AI9ZmFCk"
      },
      "source": [
        "### `pass`"
      ]
    },
    {
      "cell_type": "markdown",
      "metadata": {
        "id": "PEMjbkXlmFCk"
      },
      "source": [
        "The `pass` statement is a null operation: nothing happens when it executes. `pass` is also useful in places where the code will eventually go but has not been written yet."
      ]
    },
    {
      "cell_type": "code",
      "execution_count": null,
      "metadata": {
        "id": "58eFJ2wQmFCk",
        "outputId": "5e8745fc-43ed-4c48-cc4f-2f7725fb0c59"
      },
      "outputs": [
        {
          "name": "stdout",
          "output_type": "stream",
          "text": [
            "Current Letter: P\n",
            "Current Letter: y\n",
            "Current Letter: t\n",
            "This is pass block\n",
            "Current Letter: h\n",
            "Current Letter: o\n",
            "Current Letter: n\n",
            "Good bye!\n"
          ]
        }
      ],
      "source": [
        "for letter in 'Python': \n",
        "    if letter == 'h':\n",
        "        pass\n",
        "        print('This is pass block')\n",
        "    print('Current Letter: ' + letter)\n",
        "\n",
        "print('Good bye!')"
      ]
    },
    {
      "cell_type": "markdown",
      "metadata": {
        "id": "mPn5Y_xMmFCk"
      },
      "source": [
        "`pass` and `continue` may look similar but they fulfill different tasks. The printed message \"This is pass block\", wouldn't have been printed if continue had been used instead. `pass` does not do anything, while `continue` brings us straight the next iteration."
      ]
    },
    {
      "cell_type": "code",
      "execution_count": null,
      "metadata": {
        "id": "GeT3aC-LmFCk",
        "outputId": "c9728dc2-94b3-47a7-879b-9da6f0a69c3a"
      },
      "outputs": [
        {
          "name": "stdout",
          "output_type": "stream",
          "text": [
            "Current Letter: P\n",
            "Current Letter: y\n",
            "Current Letter: t\n",
            "Current Letter: o\n",
            "Current Letter: n\n",
            "Good bye!\n"
          ]
        }
      ],
      "source": [
        "for letter in 'Python': \n",
        "    if letter == 'h':\n",
        "        continue\n",
        "        print('This is pass block')\n",
        "    print('Current Letter: ' + letter)\n",
        "\n",
        "print('Good bye!')"
      ]
    },
    {
      "cell_type": "markdown",
      "metadata": {
        "id": "5g8U0Rf7mFCl"
      },
      "source": [
        "**Exercise:** Write a function that prints squares with $n^2$ $n$’s.\n",
        "\n",
        "*Input*: Input consists of several natural numbers between 1 and 9.\n",
        "\n",
        "*Output*:For every $n$, print a square of size $n \\times n$ full of $n$’s. Separate two squares with an empty line."
      ]
    },
    {
      "cell_type": "code",
      "execution_count": null,
      "metadata": {
        "id": "Vi8Hd9O8mFCl"
      },
      "outputs": [],
      "source": [
        "def squares(n):\n",
        "    \"\"\"prints squares with n^2 n's\"\"\"\n",
        "    for i in range(n):\n",
        "        string = \"\"\n",
        "        for j in range(n):\n",
        "            string = string + str(n)\n",
        "        print(string)"
      ]
    },
    {
      "cell_type": "code",
      "execution_count": null,
      "metadata": {
        "id": "KopPKstvmFCl",
        "outputId": "0d42b774-4619-45d3-97f1-b4b97df3d307"
      },
      "outputs": [
        {
          "name": "stdout",
          "output_type": "stream",
          "text": [
            "333\n",
            "333\n",
            "333\n"
          ]
        }
      ],
      "source": [
        "squares(3)"
      ]
    }
  ],
  "metadata": {
    "kernelspec": {
      "display_name": "Python 3",
      "language": "python",
      "name": "python3"
    },
    "language_info": {
      "codemirror_mode": {
        "name": "ipython",
        "version": 3
      },
      "file_extension": ".py",
      "mimetype": "text/x-python",
      "name": "python",
      "nbconvert_exporter": "python",
      "pygments_lexer": "ipython3",
      "version": "3.8.10"
    },
    "colab": {
      "name": "02_Types_and_Flow.ipynb",
      "provenance": [],
      "include_colab_link": true
    }
  },
  "nbformat": 4,
  "nbformat_minor": 0
}