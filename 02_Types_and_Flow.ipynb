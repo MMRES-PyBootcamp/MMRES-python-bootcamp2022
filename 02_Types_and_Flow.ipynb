{
 "cells": [
  {
   "cell_type": "markdown",
   "metadata": {
    "colab_type": "text",
    "id": "view-in-github"
   },
   "source": [
    "<a href=\"https://colab.research.google.com/github/MMRES-PyBootcamp/MMRES-python-bootcamp2022/blob/main/02_Types_and_Flow.ipynb\" target=\"_parent\"><img src=\"https://colab.research.google.com/assets/colab-badge.svg\" alt=\"Open In Colab\"/></a>"
   ]
  },
  {
   "cell_type": "markdown",
   "metadata": {
    "id": "pEGkhX-nmFBf"
   },
   "source": [
    "# Session 1 - Introduction (Second part)\n",
    "> TODO A series of commands to introduce beginners to working with Python in Jupyter Notebooks.\n",
    "\n",
    "\n",
    "Packages, alias, list, slice, dictionaries methods"
   ]
  },
  {
   "cell_type": "markdown",
   "metadata": {},
   "source": [
    "<div class=\"alert alert-block alert-success\"><b>Practice:</b> Practice cells announce exercises that you should try during the current boot camp session.\n",
    "</div>"
   ]
  },
  {
   "cell_type": "markdown",
   "metadata": {},
   "source": [
    "<div class=\"alert alert-block alert-warning\"><b>Extension:</b> Extension cells correspond to exercises (or links to contents) that are a bit more advanced. We recommend to try them after the current boot camp session.\n",
    "</div>"
   ]
  },
  {
   "cell_type": "markdown",
   "metadata": {},
   "source": [
    "<div class=\"alert alert-block alert-info\"><b>Tip:</b> Tip cells just give some advice.\n",
    "</div>"
   ]
  },
  {
   "cell_type": "markdown",
   "metadata": {},
   "source": [
    "<div class=\"alert alert-block alert-danger\"><b>Caveat:</b> Caveat cells warn you about the most common pitfalls one founds when starts his/her path learning Python.\n",
    "\n",
    "</div>"
   ]
  },
  {
   "cell_type": "markdown",
   "metadata": {},
   "source": [
    "**This document is devised as a tool to enable your self-learning process. If you get stuck at some step or need any kind of help, please don't hesitate to raise your hand and ask for the teacher's guidance.**"
   ]
  },
  {
   "cell_type": "markdown",
   "metadata": {
    "id": "1r-fY6v2mFBi"
   },
   "source": [
    "## Importing packages\n",
    "\n",
    "\n",
    "\n",
    "\n"
   ]
  },
  {
   "cell_type": "markdown",
   "metadata": {},
   "source": [
    "Python is organized into *modules* and *packages*. Modules are files with a `.py` extension that contain *functions*, *variables*, and other *Python objects*. Packages are sets of modules. When we want to use objects that are defined within a package we have to import it first:"
   ]
  },
  {
   "cell_type": "code",
   "execution_count": 1,
   "metadata": {},
   "outputs": [],
   "source": [
    "# Load the numpy package\n",
    "import numpy"
   ]
  },
  {
   "cell_type": "markdown",
   "metadata": {
    "tags": []
   },
   "source": [
    "Once we have imported the package, we can use the dot `.` symbol to go down his hierarchy and access the particular object we need:"
   ]
  },
  {
   "cell_type": "code",
   "execution_count": 2,
   "metadata": {},
   "outputs": [
    {
     "data": {
      "text/plain": [
       "3.141592653589793"
      ]
     },
     "execution_count": 2,
     "metadata": {},
     "output_type": "execute_result"
    }
   ],
   "source": [
    "# Access the π constant stored in numpy\n",
    "numpy.pi"
   ]
  },
  {
   "cell_type": "code",
   "execution_count": 3,
   "metadata": {},
   "outputs": [
    {
     "data": {
      "text/plain": [
       "2.718281828459045"
      ]
     },
     "execution_count": 3,
     "metadata": {},
     "output_type": "execute_result"
    }
   ],
   "source": [
    "# Access the e constant stored in numpy\n",
    "numpy.e"
   ]
  },
  {
   "cell_type": "code",
   "execution_count": 4,
   "metadata": {},
   "outputs": [
    {
     "data": {
      "text/plain": [
       "1.0"
      ]
     },
     "execution_count": 4,
     "metadata": {},
     "output_type": "execute_result"
    }
   ],
   "source": [
    "# Access the sinus function stored in numpy and compute sin(π/2)\n",
    "numpy.sin(numpy.pi/2)"
   ]
  },
  {
   "cell_type": "markdown",
   "metadata": {},
   "source": [
    "Some famous Python packages are often imported with an *alias*:"
   ]
  },
  {
   "cell_type": "code",
   "execution_count": 5,
   "metadata": {},
   "outputs": [],
   "source": [
    "# Load main packages with their corresponding aliases\n",
    "import numpy as np\n",
    "import pandas as pd\n",
    "import seaborn as sns"
   ]
  },
  {
   "cell_type": "code",
   "execution_count": 6,
   "metadata": {},
   "outputs": [
    {
     "data": {
      "text/plain": [
       "1.0"
      ]
     },
     "execution_count": 6,
     "metadata": {},
     "output_type": "execute_result"
    }
   ],
   "source": [
    "# Access the sinus function stored in np and compute sin(π/2)\n",
    "np.sin(np.pi/2)"
   ]
  },
  {
   "cell_type": "markdown",
   "metadata": {},
   "source": [
    "<div class=\"alert alert-block alert-success\"><b>Practice:</b>\n",
    "\n",
    "1) In the 1st code cell below, use the `numpy` square root function called `sqrt()` to compute the [Golden Ratio](https://en.wikipedia.org/wiki/Golden_ratio) $\\varphi$:\n",
    "\n",
    "$$\\varphi = \\frac{1+\\sqrt{5}}{2}$$\n",
    "\n",
    "Keep in mind that we already imported `numpy` wity its typical `np` alias.\n",
    "    \n",
    "</div>"
   ]
  },
  {
   "cell_type": "code",
   "execution_count": 7,
   "metadata": {},
   "outputs": [],
   "source": [
    "# Compute the Golden Ratio\n"
   ]
  },
  {
   "cell_type": "code",
   "execution_count": 8,
   "metadata": {
    "collapsed": true,
    "jupyter": {
     "outputs_hidden": true,
     "source_hidden": true
    },
    "tags": []
   },
   "outputs": [
    {
     "data": {
      "text/plain": [
       "1.618033988749895"
      ]
     },
     "execution_count": 8,
     "metadata": {},
     "output_type": "execute_result"
    }
   ],
   "source": [
    "# Compute the Golden Ratio\n",
    "(1 + np.sqrt(5)) / 2"
   ]
  },
  {
   "cell_type": "markdown",
   "metadata": {},
   "source": [
    "Remember you can always look at the documentation of any function with the [`help()`](https://docs.python.org/3/library/functions.html#helphttps://docs.python.org/3/library/functions.html#help) [buit-in](https://docs.python.org/3/library/functions.html)."
   ]
  },
  {
   "cell_type": "code",
   "execution_count": 9,
   "metadata": {
    "scrolled": true,
    "tags": []
   },
   "outputs": [
    {
     "name": "stdout",
     "output_type": "stream",
     "text": [
      "Help on ufunc object:\n",
      "\n",
      "sqrt = class ufunc(builtins.object)\n",
      " |  Functions that operate element by element on whole arrays.\n",
      " |  \n",
      " |  To see the documentation for a specific ufunc, use `info`.  For\n",
      " |  example, ``np.info(np.sin)``.  Because ufuncs are written in C\n",
      " |  (for speed) and linked into Python with NumPy's ufunc facility,\n",
      " |  Python's help() function finds this page whenever help() is called\n",
      " |  on a ufunc.\n",
      " |  \n",
      " |  A detailed explanation of ufuncs can be found in the docs for :ref:`ufuncs`.\n",
      " |  \n",
      " |  **Calling ufuncs:** ``op(*x[, out], where=True, **kwargs)``\n",
      " |  \n",
      " |  Apply `op` to the arguments `*x` elementwise, broadcasting the arguments.\n",
      " |  \n",
      " |  The broadcasting rules are:\n",
      " |  \n",
      " |  * Dimensions of length 1 may be prepended to either array.\n",
      " |  * Arrays may be repeated along dimensions of length 1.\n",
      " |  \n",
      " |  Parameters\n",
      " |  ----------\n",
      " |  *x : array_like\n",
      " |      Input arrays.\n",
      " |  out : ndarray, None, or tuple of ndarray and None, optional\n",
      " |      Alternate array object(s) in which to put the result; if provided, it\n",
      " |      must have a shape that the inputs broadcast to. A tuple of arrays\n",
      " |      (possible only as a keyword argument) must have length equal to the\n",
      " |      number of outputs; use None for uninitialized outputs to be\n",
      " |      allocated by the ufunc.\n",
      " |  where : array_like, optional\n",
      " |      This condition is broadcast over the input. At locations where the\n",
      " |      condition is True, the `out` array will be set to the ufunc result.\n",
      " |      Elsewhere, the `out` array will retain its original value.\n",
      " |      Note that if an uninitialized `out` array is created via the default\n",
      " |      ``out=None``, locations within it where the condition is False will\n",
      " |      remain uninitialized.\n",
      " |  **kwargs\n",
      " |      For other keyword-only arguments, see the :ref:`ufunc docs <ufuncs.kwargs>`.\n",
      " |  \n",
      " |  Returns\n",
      " |  -------\n",
      " |  r : ndarray or tuple of ndarray\n",
      " |      `r` will have the shape that the arrays in `x` broadcast to; if `out` is\n",
      " |      provided, it will be returned. If not, `r` will be allocated and\n",
      " |      may contain uninitialized values. If the function has more than one\n",
      " |      output, then the result will be a tuple of arrays.\n",
      " |  \n",
      " |  Methods defined here:\n",
      " |  \n",
      " |  __call__(self, /, *args, **kwargs)\n",
      " |      Call self as a function.\n",
      " |  \n",
      " |  __repr__(self, /)\n",
      " |      Return repr(self).\n",
      " |  \n",
      " |  __str__(self, /)\n",
      " |      Return str(self).\n",
      " |  \n",
      " |  accumulate(...)\n",
      " |      accumulate(array, axis=0, dtype=None, out=None)\n",
      " |      \n",
      " |      Accumulate the result of applying the operator to all elements.\n",
      " |      \n",
      " |      For a one-dimensional array, accumulate produces results equivalent to::\n",
      " |      \n",
      " |        r = np.empty(len(A))\n",
      " |        t = op.identity        # op = the ufunc being applied to A's  elements\n",
      " |        for i in range(len(A)):\n",
      " |            t = op(t, A[i])\n",
      " |            r[i] = t\n",
      " |        return r\n",
      " |      \n",
      " |      For example, add.accumulate() is equivalent to np.cumsum().\n",
      " |      \n",
      " |      For a multi-dimensional array, accumulate is applied along only one\n",
      " |      axis (axis zero by default; see Examples below) so repeated use is\n",
      " |      necessary if one wants to accumulate over multiple axes.\n",
      " |      \n",
      " |      Parameters\n",
      " |      ----------\n",
      " |      array : array_like\n",
      " |          The array to act on.\n",
      " |      axis : int, optional\n",
      " |          The axis along which to apply the accumulation; default is zero.\n",
      " |      dtype : data-type code, optional\n",
      " |          The data-type used to represent the intermediate results. Defaults\n",
      " |          to the data-type of the output array if such is provided, or the\n",
      " |          the data-type of the input array if no output array is provided.\n",
      " |      out : ndarray, None, or tuple of ndarray and None, optional\n",
      " |          A location into which the result is stored. If not provided or None,\n",
      " |          a freshly-allocated array is returned. For consistency with\n",
      " |          ``ufunc.__call__``, if given as a keyword, this may be wrapped in a\n",
      " |          1-element tuple.\n",
      " |      \n",
      " |          .. versionchanged:: 1.13.0\n",
      " |             Tuples are allowed for keyword argument.\n",
      " |      \n",
      " |      Returns\n",
      " |      -------\n",
      " |      r : ndarray\n",
      " |          The accumulated values. If `out` was supplied, `r` is a reference to\n",
      " |          `out`.\n",
      " |      \n",
      " |      Examples\n",
      " |      --------\n",
      " |      1-D array examples:\n",
      " |      \n",
      " |      >>> np.add.accumulate([2, 3, 5])\n",
      " |      array([ 2,  5, 10])\n",
      " |      >>> np.multiply.accumulate([2, 3, 5])\n",
      " |      array([ 2,  6, 30])\n",
      " |      \n",
      " |      2-D array examples:\n",
      " |      \n",
      " |      >>> I = np.eye(2)\n",
      " |      >>> I\n",
      " |      array([[1.,  0.],\n",
      " |             [0.,  1.]])\n",
      " |      \n",
      " |      Accumulate along axis 0 (rows), down columns:\n",
      " |      \n",
      " |      >>> np.add.accumulate(I, 0)\n",
      " |      array([[1.,  0.],\n",
      " |             [1.,  1.]])\n",
      " |      >>> np.add.accumulate(I) # no axis specified = axis zero\n",
      " |      array([[1.,  0.],\n",
      " |             [1.,  1.]])\n",
      " |      \n",
      " |      Accumulate along axis 1 (columns), through rows:\n",
      " |      \n",
      " |      >>> np.add.accumulate(I, 1)\n",
      " |      array([[1.,  1.],\n",
      " |             [0.,  1.]])\n",
      " |  \n",
      " |  at(...)\n",
      " |      at(a, indices, b=None, /)\n",
      " |      \n",
      " |      Performs unbuffered in place operation on operand 'a' for elements\n",
      " |      specified by 'indices'. For addition ufunc, this method is equivalent to\n",
      " |      ``a[indices] += b``, except that results are accumulated for elements that\n",
      " |      are indexed more than once. For example, ``a[[0,0]] += 1`` will only\n",
      " |      increment the first element once because of buffering, whereas\n",
      " |      ``add.at(a, [0,0], 1)`` will increment the first element twice.\n",
      " |      \n",
      " |      .. versionadded:: 1.8.0\n",
      " |      \n",
      " |      Parameters\n",
      " |      ----------\n",
      " |      a : array_like\n",
      " |          The array to perform in place operation on.\n",
      " |      indices : array_like or tuple\n",
      " |          Array like index object or slice object for indexing into first\n",
      " |          operand. If first operand has multiple dimensions, indices can be a\n",
      " |          tuple of array like index objects or slice objects.\n",
      " |      b : array_like\n",
      " |          Second operand for ufuncs requiring two operands. Operand must be\n",
      " |          broadcastable over first operand after indexing or slicing.\n",
      " |      \n",
      " |      Examples\n",
      " |      --------\n",
      " |      Set items 0 and 1 to their negative values:\n",
      " |      \n",
      " |      >>> a = np.array([1, 2, 3, 4])\n",
      " |      >>> np.negative.at(a, [0, 1])\n",
      " |      >>> a\n",
      " |      array([-1, -2,  3,  4])\n",
      " |      \n",
      " |      Increment items 0 and 1, and increment item 2 twice:\n",
      " |      \n",
      " |      >>> a = np.array([1, 2, 3, 4])\n",
      " |      >>> np.add.at(a, [0, 1, 2, 2], 1)\n",
      " |      >>> a\n",
      " |      array([2, 3, 5, 4])\n",
      " |      \n",
      " |      Add items 0 and 1 in first array to second array,\n",
      " |      and store results in first array:\n",
      " |      \n",
      " |      >>> a = np.array([1, 2, 3, 4])\n",
      " |      >>> b = np.array([1, 2])\n",
      " |      >>> np.add.at(a, [0, 1], b)\n",
      " |      >>> a\n",
      " |      array([2, 4, 3, 4])\n",
      " |  \n",
      " |  outer(...)\n",
      " |      outer(A, B, /, **kwargs)\n",
      " |      \n",
      " |      Apply the ufunc `op` to all pairs (a, b) with a in `A` and b in `B`.\n",
      " |      \n",
      " |      Let ``M = A.ndim``, ``N = B.ndim``. Then the result, `C`, of\n",
      " |      ``op.outer(A, B)`` is an array of dimension M + N such that:\n",
      " |      \n",
      " |      .. math:: C[i_0, ..., i_{M-1}, j_0, ..., j_{N-1}] =\n",
      " |         op(A[i_0, ..., i_{M-1}], B[j_0, ..., j_{N-1}])\n",
      " |      \n",
      " |      For `A` and `B` one-dimensional, this is equivalent to::\n",
      " |      \n",
      " |        r = empty(len(A),len(B))\n",
      " |        for i in range(len(A)):\n",
      " |            for j in range(len(B)):\n",
      " |                r[i,j] = op(A[i], B[j]) # op = ufunc in question\n",
      " |      \n",
      " |      Parameters\n",
      " |      ----------\n",
      " |      A : array_like\n",
      " |          First array\n",
      " |      B : array_like\n",
      " |          Second array\n",
      " |      kwargs : any\n",
      " |          Arguments to pass on to the ufunc. Typically `dtype` or `out`.\n",
      " |      \n",
      " |      Returns\n",
      " |      -------\n",
      " |      r : ndarray\n",
      " |          Output array\n",
      " |      \n",
      " |      See Also\n",
      " |      --------\n",
      " |      numpy.outer : A less powerful version of ``np.multiply.outer``\n",
      " |                    that `ravel`\\ s all inputs to 1D. This exists\n",
      " |                    primarily for compatibility with old code.\n",
      " |      \n",
      " |      tensordot : ``np.tensordot(a, b, axes=((), ()))`` and\n",
      " |                  ``np.multiply.outer(a, b)`` behave same for all\n",
      " |                  dimensions of a and b.\n",
      " |      \n",
      " |      Examples\n",
      " |      --------\n",
      " |      >>> np.multiply.outer([1, 2, 3], [4, 5, 6])\n",
      " |      array([[ 4,  5,  6],\n",
      " |             [ 8, 10, 12],\n",
      " |             [12, 15, 18]])\n",
      " |      \n",
      " |      A multi-dimensional example:\n",
      " |      \n",
      " |      >>> A = np.array([[1, 2, 3], [4, 5, 6]])\n",
      " |      >>> A.shape\n",
      " |      (2, 3)\n",
      " |      >>> B = np.array([[1, 2, 3, 4]])\n",
      " |      >>> B.shape\n",
      " |      (1, 4)\n",
      " |      >>> C = np.multiply.outer(A, B)\n",
      " |      >>> C.shape; C\n",
      " |      (2, 3, 1, 4)\n",
      " |      array([[[[ 1,  2,  3,  4]],\n",
      " |              [[ 2,  4,  6,  8]],\n",
      " |              [[ 3,  6,  9, 12]]],\n",
      " |             [[[ 4,  8, 12, 16]],\n",
      " |              [[ 5, 10, 15, 20]],\n",
      " |              [[ 6, 12, 18, 24]]]])\n",
      " |  \n",
      " |  reduce(...)\n",
      " |      reduce(array, axis=0, dtype=None, out=None, keepdims=False, initial=<no value>, where=True)\n",
      " |      \n",
      " |      Reduces `array`'s dimension by one, by applying ufunc along one axis.\n",
      " |      \n",
      " |      Let :math:`array.shape = (N_0, ..., N_i, ..., N_{M-1})`.  Then\n",
      " |      :math:`ufunc.reduce(array, axis=i)[k_0, ..,k_{i-1}, k_{i+1}, .., k_{M-1}]` =\n",
      " |      the result of iterating `j` over :math:`range(N_i)`, cumulatively applying\n",
      " |      ufunc to each :math:`array[k_0, ..,k_{i-1}, j, k_{i+1}, .., k_{M-1}]`.\n",
      " |      For a one-dimensional array, reduce produces results equivalent to:\n",
      " |      ::\n",
      " |      \n",
      " |       r = op.identity # op = ufunc\n",
      " |       for i in range(len(A)):\n",
      " |         r = op(r, A[i])\n",
      " |       return r\n",
      " |      \n",
      " |      For example, add.reduce() is equivalent to sum().\n",
      " |      \n",
      " |      Parameters\n",
      " |      ----------\n",
      " |      array : array_like\n",
      " |          The array to act on.\n",
      " |      axis : None or int or tuple of ints, optional\n",
      " |          Axis or axes along which a reduction is performed.\n",
      " |          The default (`axis` = 0) is perform a reduction over the first\n",
      " |          dimension of the input array. `axis` may be negative, in\n",
      " |          which case it counts from the last to the first axis.\n",
      " |      \n",
      " |          .. versionadded:: 1.7.0\n",
      " |      \n",
      " |          If this is None, a reduction is performed over all the axes.\n",
      " |          If this is a tuple of ints, a reduction is performed on multiple\n",
      " |          axes, instead of a single axis or all the axes as before.\n",
      " |      \n",
      " |          For operations which are either not commutative or not associative,\n",
      " |          doing a reduction over multiple axes is not well-defined. The\n",
      " |          ufuncs do not currently raise an exception in this case, but will\n",
      " |          likely do so in the future.\n",
      " |      dtype : data-type code, optional\n",
      " |          The type used to represent the intermediate results. Defaults\n",
      " |          to the data-type of the output array if this is provided, or\n",
      " |          the data-type of the input array if no output array is provided.\n",
      " |      out : ndarray, None, or tuple of ndarray and None, optional\n",
      " |          A location into which the result is stored. If not provided or None,\n",
      " |          a freshly-allocated array is returned. For consistency with\n",
      " |          ``ufunc.__call__``, if given as a keyword, this may be wrapped in a\n",
      " |          1-element tuple.\n",
      " |      \n",
      " |          .. versionchanged:: 1.13.0\n",
      " |             Tuples are allowed for keyword argument.\n",
      " |      keepdims : bool, optional\n",
      " |          If this is set to True, the axes which are reduced are left\n",
      " |          in the result as dimensions with size one. With this option,\n",
      " |          the result will broadcast correctly against the original `array`.\n",
      " |      \n",
      " |          .. versionadded:: 1.7.0\n",
      " |      initial : scalar, optional\n",
      " |          The value with which to start the reduction.\n",
      " |          If the ufunc has no identity or the dtype is object, this defaults\n",
      " |          to None - otherwise it defaults to ufunc.identity.\n",
      " |          If ``None`` is given, the first element of the reduction is used,\n",
      " |          and an error is thrown if the reduction is empty.\n",
      " |      \n",
      " |          .. versionadded:: 1.15.0\n",
      " |      \n",
      " |      where : array_like of bool, optional\n",
      " |          A boolean array which is broadcasted to match the dimensions\n",
      " |          of `array`, and selects elements to include in the reduction. Note\n",
      " |          that for ufuncs like ``minimum`` that do not have an identity\n",
      " |          defined, one has to pass in also ``initial``.\n",
      " |      \n",
      " |          .. versionadded:: 1.17.0\n",
      " |      \n",
      " |      Returns\n",
      " |      -------\n",
      " |      r : ndarray\n",
      " |          The reduced array. If `out` was supplied, `r` is a reference to it.\n",
      " |      \n",
      " |      Examples\n",
      " |      --------\n",
      " |      >>> np.multiply.reduce([2,3,5])\n",
      " |      30\n",
      " |      \n",
      " |      A multi-dimensional array example:\n",
      " |      \n",
      " |      >>> X = np.arange(8).reshape((2,2,2))\n",
      " |      >>> X\n",
      " |      array([[[0, 1],\n",
      " |              [2, 3]],\n",
      " |             [[4, 5],\n",
      " |              [6, 7]]])\n",
      " |      >>> np.add.reduce(X, 0)\n",
      " |      array([[ 4,  6],\n",
      " |             [ 8, 10]])\n",
      " |      >>> np.add.reduce(X) # confirm: default axis value is 0\n",
      " |      array([[ 4,  6],\n",
      " |             [ 8, 10]])\n",
      " |      >>> np.add.reduce(X, 1)\n",
      " |      array([[ 2,  4],\n",
      " |             [10, 12]])\n",
      " |      >>> np.add.reduce(X, 2)\n",
      " |      array([[ 1,  5],\n",
      " |             [ 9, 13]])\n",
      " |      \n",
      " |      You can use the ``initial`` keyword argument to initialize the reduction\n",
      " |      with a different value, and ``where`` to select specific elements to include:\n",
      " |      \n",
      " |      >>> np.add.reduce([10], initial=5)\n",
      " |      15\n",
      " |      >>> np.add.reduce(np.ones((2, 2, 2)), axis=(0, 2), initial=10)\n",
      " |      array([14., 14.])\n",
      " |      >>> a = np.array([10., np.nan, 10])\n",
      " |      >>> np.add.reduce(a, where=~np.isnan(a))\n",
      " |      20.0\n",
      " |      \n",
      " |      Allows reductions of empty arrays where they would normally fail, i.e.\n",
      " |      for ufuncs without an identity.\n",
      " |      \n",
      " |      >>> np.minimum.reduce([], initial=np.inf)\n",
      " |      inf\n",
      " |      >>> np.minimum.reduce([[1., 2.], [3., 4.]], initial=10., where=[True, False])\n",
      " |      array([ 1., 10.])\n",
      " |      >>> np.minimum.reduce([])\n",
      " |      Traceback (most recent call last):\n",
      " |          ...\n",
      " |      ValueError: zero-size array to reduction operation minimum which has no identity\n",
      " |  \n",
      " |  reduceat(...)\n",
      " |      reduceat(array, indices, axis=0, dtype=None, out=None)\n",
      " |      \n",
      " |      Performs a (local) reduce with specified slices over a single axis.\n",
      " |      \n",
      " |      For i in ``range(len(indices))``, `reduceat` computes\n",
      " |      ``ufunc.reduce(array[indices[i]:indices[i+1]])``, which becomes the i-th\n",
      " |      generalized \"row\" parallel to `axis` in the final result (i.e., in a\n",
      " |      2-D array, for example, if `axis = 0`, it becomes the i-th row, but if\n",
      " |      `axis = 1`, it becomes the i-th column).  There are three exceptions to this:\n",
      " |      \n",
      " |      * when ``i = len(indices) - 1`` (so for the last index),\n",
      " |        ``indices[i+1] = array.shape[axis]``.\n",
      " |      * if ``indices[i] >= indices[i + 1]``, the i-th generalized \"row\" is\n",
      " |        simply ``array[indices[i]]``.\n",
      " |      * if ``indices[i] >= len(array)`` or ``indices[i] < 0``, an error is raised.\n",
      " |      \n",
      " |      The shape of the output depends on the size of `indices`, and may be\n",
      " |      larger than `array` (this happens if ``len(indices) > array.shape[axis]``).\n",
      " |      \n",
      " |      Parameters\n",
      " |      ----------\n",
      " |      array : array_like\n",
      " |          The array to act on.\n",
      " |      indices : array_like\n",
      " |          Paired indices, comma separated (not colon), specifying slices to\n",
      " |          reduce.\n",
      " |      axis : int, optional\n",
      " |          The axis along which to apply the reduceat.\n",
      " |      dtype : data-type code, optional\n",
      " |          The type used to represent the intermediate results. Defaults\n",
      " |          to the data type of the output array if this is provided, or\n",
      " |          the data type of the input array if no output array is provided.\n",
      " |      out : ndarray, None, or tuple of ndarray and None, optional\n",
      " |          A location into which the result is stored. If not provided or None,\n",
      " |          a freshly-allocated array is returned. For consistency with\n",
      " |          ``ufunc.__call__``, if given as a keyword, this may be wrapped in a\n",
      " |          1-element tuple.\n",
      " |      \n",
      " |          .. versionchanged:: 1.13.0\n",
      " |             Tuples are allowed for keyword argument.\n",
      " |      \n",
      " |      Returns\n",
      " |      -------\n",
      " |      r : ndarray\n",
      " |          The reduced values. If `out` was supplied, `r` is a reference to\n",
      " |          `out`.\n",
      " |      \n",
      " |      Notes\n",
      " |      -----\n",
      " |      A descriptive example:\n",
      " |      \n",
      " |      If `array` is 1-D, the function `ufunc.accumulate(array)` is the same as\n",
      " |      ``ufunc.reduceat(array, indices)[::2]`` where `indices` is\n",
      " |      ``range(len(array) - 1)`` with a zero placed\n",
      " |      in every other element:\n",
      " |      ``indices = zeros(2 * len(array) - 1)``,\n",
      " |      ``indices[1::2] = range(1, len(array))``.\n",
      " |      \n",
      " |      Don't be fooled by this attribute's name: `reduceat(array)` is not\n",
      " |      necessarily smaller than `array`.\n",
      " |      \n",
      " |      Examples\n",
      " |      --------\n",
      " |      To take the running sum of four successive values:\n",
      " |      \n",
      " |      >>> np.add.reduceat(np.arange(8),[0,4, 1,5, 2,6, 3,7])[::2]\n",
      " |      array([ 6, 10, 14, 18])\n",
      " |      \n",
      " |      A 2-D example:\n",
      " |      \n",
      " |      >>> x = np.linspace(0, 15, 16).reshape(4,4)\n",
      " |      >>> x\n",
      " |      array([[ 0.,   1.,   2.,   3.],\n",
      " |             [ 4.,   5.,   6.,   7.],\n",
      " |             [ 8.,   9.,  10.,  11.],\n",
      " |             [12.,  13.,  14.,  15.]])\n",
      " |      \n",
      " |      ::\n",
      " |      \n",
      " |       # reduce such that the result has the following five rows:\n",
      " |       # [row1 + row2 + row3]\n",
      " |       # [row4]\n",
      " |       # [row2]\n",
      " |       # [row3]\n",
      " |       # [row1 + row2 + row3 + row4]\n",
      " |      \n",
      " |      >>> np.add.reduceat(x, [0, 3, 1, 2, 0])\n",
      " |      array([[12.,  15.,  18.,  21.],\n",
      " |             [12.,  13.,  14.,  15.],\n",
      " |             [ 4.,   5.,   6.,   7.],\n",
      " |             [ 8.,   9.,  10.,  11.],\n",
      " |             [24.,  28.,  32.,  36.]])\n",
      " |      \n",
      " |      ::\n",
      " |      \n",
      " |       # reduce such that result has the following two columns:\n",
      " |       # [col1 * col2 * col3, col4]\n",
      " |      \n",
      " |      >>> np.multiply.reduceat(x, [0, 3], 1)\n",
      " |      array([[   0.,     3.],\n",
      " |             [ 120.,     7.],\n",
      " |             [ 720.,    11.],\n",
      " |             [2184.,    15.]])\n",
      " |  \n",
      " |  ----------------------------------------------------------------------\n",
      " |  Data descriptors defined here:\n",
      " |  \n",
      " |  identity\n",
      " |      The identity value.\n",
      " |      \n",
      " |      Data attribute containing the identity element for the ufunc, if it has one.\n",
      " |      If it does not, the attribute value is None.\n",
      " |      \n",
      " |      Examples\n",
      " |      --------\n",
      " |      >>> np.add.identity\n",
      " |      0\n",
      " |      >>> np.multiply.identity\n",
      " |      1\n",
      " |      >>> np.power.identity\n",
      " |      1\n",
      " |      >>> print(np.exp.identity)\n",
      " |      None\n",
      " |  \n",
      " |  nargs\n",
      " |      The number of arguments.\n",
      " |      \n",
      " |      Data attribute containing the number of arguments the ufunc takes, including\n",
      " |      optional ones.\n",
      " |      \n",
      " |      Notes\n",
      " |      -----\n",
      " |      Typically this value will be one more than what you might expect because all\n",
      " |      ufuncs take  the optional \"out\" argument.\n",
      " |      \n",
      " |      Examples\n",
      " |      --------\n",
      " |      >>> np.add.nargs\n",
      " |      3\n",
      " |      >>> np.multiply.nargs\n",
      " |      3\n",
      " |      >>> np.power.nargs\n",
      " |      3\n",
      " |      >>> np.exp.nargs\n",
      " |      2\n",
      " |  \n",
      " |  nin\n",
      " |      The number of inputs.\n",
      " |      \n",
      " |      Data attribute containing the number of arguments the ufunc treats as input.\n",
      " |      \n",
      " |      Examples\n",
      " |      --------\n",
      " |      >>> np.add.nin\n",
      " |      2\n",
      " |      >>> np.multiply.nin\n",
      " |      2\n",
      " |      >>> np.power.nin\n",
      " |      2\n",
      " |      >>> np.exp.nin\n",
      " |      1\n",
      " |  \n",
      " |  nout\n",
      " |      The number of outputs.\n",
      " |      \n",
      " |      Data attribute containing the number of arguments the ufunc treats as output.\n",
      " |      \n",
      " |      Notes\n",
      " |      -----\n",
      " |      Since all ufuncs can take output arguments, this will always be (at least) 1.\n",
      " |      \n",
      " |      Examples\n",
      " |      --------\n",
      " |      >>> np.add.nout\n",
      " |      1\n",
      " |      >>> np.multiply.nout\n",
      " |      1\n",
      " |      >>> np.power.nout\n",
      " |      1\n",
      " |      >>> np.exp.nout\n",
      " |      1\n",
      " |  \n",
      " |  ntypes\n",
      " |      The number of types.\n",
      " |      \n",
      " |      The number of numerical NumPy types - of which there are 18 total - on which\n",
      " |      the ufunc can operate.\n",
      " |      \n",
      " |      See Also\n",
      " |      --------\n",
      " |      numpy.ufunc.types\n",
      " |      \n",
      " |      Examples\n",
      " |      --------\n",
      " |      >>> np.add.ntypes\n",
      " |      18\n",
      " |      >>> np.multiply.ntypes\n",
      " |      18\n",
      " |      >>> np.power.ntypes\n",
      " |      17\n",
      " |      >>> np.exp.ntypes\n",
      " |      7\n",
      " |      >>> np.remainder.ntypes\n",
      " |      14\n",
      " |  \n",
      " |  signature\n",
      " |      Definition of the core elements a generalized ufunc operates on.\n",
      " |      \n",
      " |      The signature determines how the dimensions of each input/output array\n",
      " |      are split into core and loop dimensions:\n",
      " |      \n",
      " |      1. Each dimension in the signature is matched to a dimension of the\n",
      " |         corresponding passed-in array, starting from the end of the shape tuple.\n",
      " |      2. Core dimensions assigned to the same label in the signature must have\n",
      " |         exactly matching sizes, no broadcasting is performed.\n",
      " |      3. The core dimensions are removed from all inputs and the remaining\n",
      " |         dimensions are broadcast together, defining the loop dimensions.\n",
      " |      \n",
      " |      Notes\n",
      " |      -----\n",
      " |      Generalized ufuncs are used internally in many linalg functions, and in\n",
      " |      the testing suite; the examples below are taken from these.\n",
      " |      For ufuncs that operate on scalars, the signature is None, which is\n",
      " |      equivalent to '()' for every argument.\n",
      " |      \n",
      " |      Examples\n",
      " |      --------\n",
      " |      >>> np.core.umath_tests.matrix_multiply.signature\n",
      " |      '(m,n),(n,p)->(m,p)'\n",
      " |      >>> np.linalg._umath_linalg.det.signature\n",
      " |      '(m,m)->()'\n",
      " |      >>> np.add.signature is None\n",
      " |      True  # equivalent to '(),()->()'\n",
      " |  \n",
      " |  types\n",
      " |      Returns a list with types grouped input->output.\n",
      " |      \n",
      " |      Data attribute listing the data-type \"Domain-Range\" groupings the ufunc can\n",
      " |      deliver. The data-types are given using the character codes.\n",
      " |      \n",
      " |      See Also\n",
      " |      --------\n",
      " |      numpy.ufunc.ntypes\n",
      " |      \n",
      " |      Examples\n",
      " |      --------\n",
      " |      >>> np.add.types\n",
      " |      ['??->?', 'bb->b', 'BB->B', 'hh->h', 'HH->H', 'ii->i', 'II->I', 'll->l',\n",
      " |      'LL->L', 'qq->q', 'QQ->Q', 'ff->f', 'dd->d', 'gg->g', 'FF->F', 'DD->D',\n",
      " |      'GG->G', 'OO->O']\n",
      " |      \n",
      " |      >>> np.multiply.types\n",
      " |      ['??->?', 'bb->b', 'BB->B', 'hh->h', 'HH->H', 'ii->i', 'II->I', 'll->l',\n",
      " |      'LL->L', 'qq->q', 'QQ->Q', 'ff->f', 'dd->d', 'gg->g', 'FF->F', 'DD->D',\n",
      " |      'GG->G', 'OO->O']\n",
      " |      \n",
      " |      >>> np.power.types\n",
      " |      ['bb->b', 'BB->B', 'hh->h', 'HH->H', 'ii->i', 'II->I', 'll->l', 'LL->L',\n",
      " |      'qq->q', 'QQ->Q', 'ff->f', 'dd->d', 'gg->g', 'FF->F', 'DD->D', 'GG->G',\n",
      " |      'OO->O']\n",
      " |      \n",
      " |      >>> np.exp.types\n",
      " |      ['f->f', 'd->d', 'g->g', 'F->F', 'D->D', 'G->G', 'O->O']\n",
      " |      \n",
      " |      >>> np.remainder.types\n",
      " |      ['bb->b', 'BB->B', 'hh->h', 'HH->H', 'ii->i', 'II->I', 'll->l', 'LL->L',\n",
      " |      'qq->q', 'QQ->Q', 'ff->f', 'dd->d', 'gg->g', 'OO->O']\n",
      "\n"
     ]
    }
   ],
   "source": [
    "# Looking for help with numpy sqrt() function\n",
    "help(np.sqrt)"
   ]
  },
  {
   "cell_type": "markdown",
   "metadata": {},
   "source": [
    "## Lists\n",
    "\n",
    "In the [first part of Chapter 1](https://github.com/MMRES-PyBootcamp/MMRES-python-bootcamp2022/blob/main/01_Introduction.ipynb) we introduced integer, float, string and boolean data types. Here we will introduce an extra Python data type that is particularly versatile, the sequential data type [list](https://docs.python.org/3/library/stdtypes.html#list). Briefly, a sequential data is an ordered collection of objects of any kind. \n",
    "\n",
    "START SPOILER ALERT --> We will also see that strings can also  be seen as immutable sequential objects <-- STOP SPOILER ALERT\n",
    "\n",
    "We create lists using brackets (`[]`) and commas (`,`):"
   ]
  },
  {
   "cell_type": "code",
   "execution_count": 10,
   "metadata": {
    "tags": []
   },
   "outputs": [
    {
     "data": {
      "text/plain": [
       "[1, 2.0, 'Three', 4, 5.0, 'Six', 7, 8.0, 'Nine']"
      ]
     },
     "execution_count": 10,
     "metadata": {},
     "output_type": "execute_result"
    }
   ],
   "source": [
    "# Create a list from scratch\n",
    "[1, 2.0, \"Three\", 4, 5.0, \"Six\", 7, 8.0, \"Nine\"]"
   ]
  },
  {
   "cell_type": "markdown",
   "metadata": {},
   "source": [
    "Note that a list can store items no matter their data type. In the previous example we stored integers, floats and strings. Of course, we can put our list into a variable:"
   ]
  },
  {
   "cell_type": "code",
   "execution_count": 11,
   "metadata": {},
   "outputs": [
    {
     "data": {
      "text/plain": [
       "list"
      ]
     },
     "execution_count": 11,
     "metadata": {},
     "output_type": "execute_result"
    }
   ],
   "source": [
    "# Store list into \"list_example\" variable\n",
    "list_example = [1, 2.0, \"Three\", 4, 5.0, \"Six\", 7, 8.0, \"Nine\"]\n",
    "\n",
    "# Get the data type of `list_example`\n",
    "type(list_example)"
   ]
  },
  {
   "cell_type": "markdown",
   "metadata": {},
   "source": [
    "TODO\n",
    "\n",
    "To retrieve the elements within a list we use *indexing* with bracket notation `[]`. In Python we count the elements of a collection from $0$ to $n-1$ (being $n$ the total number of elements). In order to get an element, we can start counting from the beginning of the list, simply introducing the corresponding index (or from the end of the list with negative indexes).\n",
    "\n",
    "TODO"
   ]
  },
  {
   "cell_type": "code",
   "execution_count": 12,
   "metadata": {},
   "outputs": [
    {
     "name": "stdout",
     "output_type": "stream",
     "text": [
      "1\n",
      "Nine\n"
     ]
    }
   ],
   "source": [
    "# Recover the first element from `list_example`\n",
    "print(list_example[0])\n",
    "\n",
    "# Recover the last element from `list_example`\n",
    "print(list_example[-1])"
   ]
  },
  {
   "cell_type": "markdown",
   "metadata": {
    "id": "tr8lSaaUmFCF"
   },
   "source": [
    "<div class=\"alert alert-block alert-danger\"><b>Caveat:</b> Remember that in Python indexing starts at 0. In other languages (such as R), indexing starts at 1.\n",
    "\n",
    "</div>"
   ]
  },
  {
   "cell_type": "markdown",
   "metadata": {},
   "source": [
    "An important concept to know when dealing with sequential variables like lists is *slicing*. Taking an `[i:j:k]` slice of a list (or any other sequential variable) means that we take elements from `i` (included) to `j` (excluded) using a `k` step. Keep in mind that:\n",
    "  + Omitting `i` in the slice, like `[:j:k]`, means \"from the beginning of the sequence (included) to `j` (excluded) in `k` steps\".\n",
    "  + Omitting `j` in the slice, like `[i::k]`, means \"from `i` (included) to the end of the sequence (included!) in `k` steps\".\n",
    "  + Omitting `k` in the slice, like `[i:j:]` or just `[i:j]`, means \"from `i` (included) to `j` (excluded) in one by one steps\"."
   ]
  },
  {
   "cell_type": "markdown",
   "metadata": {},
   "source": [
    "<div class=\"alert alert-block alert-success\"><b>Practice:</b>\n",
    "\n",
    "1) In the 1st code cell below, slice the three central elements of `list_example`.\n",
    "2) In the 2nd one, slice the first half of `list_example` (including `5.0`).\n",
    "3) In the 3rd one, slice the second half of `list_example` (including `5.0`). \n",
    "4) In the 4th one, slice three elements of a same data type from `list_example`.\n",
    "\n",
    "</div>"
   ]
  },
  {
   "cell_type": "code",
   "execution_count": 13,
   "metadata": {},
   "outputs": [],
   "source": [
    "# Slice the three central elements of `list_example`\n"
   ]
  },
  {
   "cell_type": "code",
   "execution_count": 14,
   "metadata": {
    "jupyter": {
     "source_hidden": true
    },
    "tags": []
   },
   "outputs": [
    {
     "data": {
      "text/plain": [
       "[4, 5.0, 'Six']"
      ]
     },
     "execution_count": 14,
     "metadata": {},
     "output_type": "execute_result"
    }
   ],
   "source": [
    "# Slice the three central elements of `list_example`\n",
    "list_example[3:6]"
   ]
  },
  {
   "cell_type": "code",
   "execution_count": 15,
   "metadata": {},
   "outputs": [],
   "source": [
    "# Slice the first five elements of `list_example`\n"
   ]
  },
  {
   "cell_type": "code",
   "execution_count": 16,
   "metadata": {
    "jupyter": {
     "source_hidden": true
    },
    "tags": []
   },
   "outputs": [
    {
     "data": {
      "text/plain": [
       "[1, 2.0, 'Three', 4, 5.0]"
      ]
     },
     "execution_count": 16,
     "metadata": {},
     "output_type": "execute_result"
    }
   ],
   "source": [
    "# Slice the first five elements of `list_example`\n",
    "list_example[:5]"
   ]
  },
  {
   "cell_type": "code",
   "execution_count": 17,
   "metadata": {
    "tags": []
   },
   "outputs": [],
   "source": [
    "# Slice the last five elements of `list_example`\n"
   ]
  },
  {
   "cell_type": "code",
   "execution_count": 18,
   "metadata": {
    "jupyter": {
     "source_hidden": true
    },
    "tags": []
   },
   "outputs": [
    {
     "data": {
      "text/plain": [
       "[5.0, 'Six', 7, 8.0, 'Nine']"
      ]
     },
     "execution_count": 18,
     "metadata": {},
     "output_type": "execute_result"
    }
   ],
   "source": [
    "# Slice the last five elements of `list_example`\n",
    "list_example[4:]"
   ]
  },
  {
   "cell_type": "code",
   "execution_count": 19,
   "metadata": {},
   "outputs": [],
   "source": [
    "# Slice the three ints, floats or strings from `list_example`\n"
   ]
  },
  {
   "cell_type": "code",
   "execution_count": 20,
   "metadata": {
    "collapsed": true,
    "jupyter": {
     "outputs_hidden": true,
     "source_hidden": true
    },
    "tags": []
   },
   "outputs": [
    {
     "name": "stdout",
     "output_type": "stream",
     "text": [
      "The three integers are: [1, 4, 7]\n",
      "The three floats are: [2.0, 5.0, 8.0]\n",
      "The three strings are: ['Three', 'Six', 'Nine']\n"
     ]
    }
   ],
   "source": [
    "# Slice the three ints, floats or strings from `list_example`\n",
    "print(f'The three integers are: {list_example[0::3]}')\n",
    "print(f'The three floats are: {list_example[1::3]}')\n",
    "print(f'The three strings are: {list_example[2::3]}')"
   ]
  },
  {
   "cell_type": "markdown",
   "metadata": {},
   "source": [
    "Now that we know what a list is, we can introduce some additional Python buit-ins. First, let's create reversed list of integers going from 100 to 0:"
   ]
  },
  {
   "cell_type": "code",
   "execution_count": 21,
   "metadata": {},
   "outputs": [
    {
     "name": "stdout",
     "output_type": "stream",
     "text": [
      "[100, 99, 98, 97, 96, 95, 94, 93, 92, 91, 90, 89, 88, 87, 86, 85, 84, 83, 82, 81, 80, 79, 78, 77, 76, 75, 74, 73, 72, 71, 70, 69, 68, 67, 66, 65, 64, 63, 62, 61, 60, 59, 58, 57, 56, 55, 54, 53, 52, 51, 50, 49, 48, 47, 46, 45, 44, 43, 42, 41, 40, 39, 38, 37, 36, 35, 34, 33, 32, 31, 30, 29, 28, 27, 26, 25, 24, 23, 22, 21, 20, 19, 18, 17, 16, 15, 14, 13, 12, 11, 10, 9, 8, 7, 6, 5, 4, 3, 2, 1, 0]\n"
     ]
    }
   ],
   "source": [
    "# Create a 100 to 0 list of integers and store as a `list_100` variable \n",
    "list_100 = list(range(100, -1, -1))\n",
    "\n",
    "# Show the whole `list_100`\n",
    "print(list_100)"
   ]
  },
  {
   "cell_type": "markdown",
   "metadata": {},
   "source": [
    "<div class=\"alert alert-block alert-warning\"><b>Extension:</b>\n",
    "\n",
    "Check the documentation for the [`range()`](https://docs.python.org/3/library/functions.html#func-range) built-in. Try to understand how this built-in works and how we leverage it to get a reversed list of integers going from 100 to 0.\n",
    "</div>"
   ]
  },
  {
   "cell_type": "markdown",
   "metadata": {},
   "source": [
    "The [`len()`](https://docs.python.org/3/library/functions.html#func-range), [`max()`](https://docs.python.org/3/library/functions.html#max), [`min()`](https://docs.python.org/3/library/functions.html#min), [`sum()`](https://docs.python.org/3/library/functions.html#sum) and [`sorted()`](https://docs.python.org/3/library/functions.html#sorted) built-ins are quite self-explanatory:"
   ]
  },
  {
   "cell_type": "code",
   "execution_count": 61,
   "metadata": {},
   "outputs": [
    {
     "name": "stdout",
     "output_type": "stream",
     "text": [
      "Output of calling len() on list_100: 101\n",
      "\n",
      "Output of calling max() on list_100: 100\n",
      "\n",
      "Output of calling min() on list_100: 0\n",
      "\n",
      "Output of calling max() on list_100: 5050\n",
      "\n",
      "Output of calling sorted() on list_100: [0, 1, 2, 3, 4, 5, 6, 7, 8, 9, 10, 11, 12, 13, 14, 15, 16, 17, 18, 19, 20, 21, 22, 23, 24, 25, 26, 27, 28, 29, 30, 31, 32, 33, 34, 35, 36, 37, 38, 39, 40, 41, 42, 43, 44, 45, 46, 47, 48, 49, 50, 51, 52, 53, 54, 55, 56, 57, 58, 59, 60, 61, 62, 63, 64, 65, 66, 67, 68, 69, 70, 71, 72, 73, 74, 75, 76, 77, 78, 79, 80, 81, 82, 83, 84, 85, 86, 87, 88, 89, 90, 91, 92, 93, 94, 95, 96, 97, 98, 99, 100]\n"
     ]
    }
   ],
   "source": [
    "# Get the length of `list_100`\n",
    "print(f'Output of calling len() on list_100: {len(list_100)}\\n')\n",
    "\n",
    "# Get the max value from `list_100`\n",
    "print(f'Output of calling max() on list_100: {max(list_100)}\\n')\n",
    "\n",
    "# Get the min value from `list_100`\n",
    "print(f'Output of calling min() on list_100: {min(list_100)}\\n')\n",
    "\n",
    "# Get the sum value from `list_100`\n",
    "print(f'Output of calling max() on list_100: {sum(list_100)}\\n')\n",
    "\n",
    "# Sort `list_100`\n",
    "print(f'Output of calling sorted() on list_100: {sorted(list_100)}')"
   ]
  },
  {
   "cell_type": "markdown",
   "metadata": {},
   "source": [
    "In addition of using built-in functions, we can also use *methods* when working with lists. In Python, *methods* are like functions that some objects carry on \"as standard\". We can invoke the methods of a given Python object with a dot `.` symbol. For example, some useful [list methods](https://docs.python.org/3/tutorial/datastructures.html) are: `.reverse()`, `.append()`, `.remove()`, `.extend()`, `.count()`..."
   ]
  },
  {
   "cell_type": "code",
   "execution_count": 29,
   "metadata": {},
   "outputs": [
    {
     "name": "stdout",
     "output_type": "stream",
     "text": [
      "['Nine', 8.0, 7, 'Six', 5.0, 4, 'Three', 2.0, 1]\n"
     ]
    }
   ],
   "source": [
    "# Get the length of `list_example`\n",
    "list_example.reverse()\n",
    "\n",
    "print(list_example)"
   ]
  },
  {
   "cell_type": "code",
   "execution_count": 30,
   "metadata": {},
   "outputs": [
    {
     "name": "stdout",
     "output_type": "stream",
     "text": [
      "['Nine', 8.0, 7, 'Six', 5.0, 4, 'Three', 2.0, 1, 'Zero']\n"
     ]
    }
   ],
   "source": [
    "# Get the length of `list_example`\n",
    "list_example.append('Zero')\n",
    "\n",
    "print(list_example)"
   ]
  },
  {
   "cell_type": "code",
   "execution_count": 31,
   "metadata": {},
   "outputs": [
    {
     "name": "stdout",
     "output_type": "stream",
     "text": [
      "['Nine', 8.0, 7, 'Six', 5.0, 4, 'Three', 2.0, 1]\n"
     ]
    }
   ],
   "source": [
    "# Get the length of `list_example`\n",
    "list_example.remove('Zero')\n",
    "\n",
    "print(list_example)"
   ]
  },
  {
   "cell_type": "code",
   "execution_count": 32,
   "metadata": {},
   "outputs": [
    {
     "name": "stdout",
     "output_type": "stream",
     "text": [
      "['Nine', 8.0, 7, 'Six', 5.0, 4, 'Three', 2.0, 1, 'Nine', 8.0, 7, 'Six', 5.0, 4, 'Three', 2.0, 1]\n"
     ]
    }
   ],
   "source": [
    "# Get the length of `list_example`\n",
    "list_example.extend(list_example)\n",
    "\n",
    "print(list_example)"
   ]
  },
  {
   "cell_type": "code",
   "execution_count": 33,
   "metadata": {},
   "outputs": [
    {
     "data": {
      "text/plain": [
       "2"
      ]
     },
     "execution_count": 33,
     "metadata": {},
     "output_type": "execute_result"
    }
   ],
   "source": [
    "# Get the length of `list_example`\n",
    "list_example.count('Nine')"
   ]
  },
  {
   "cell_type": "markdown",
   "metadata": {},
   "source": [
    "<div class=\"alert alert-block alert-warning\"><b>Extension:</b>\n",
    "\n",
    "Did you noticed that methods update the list they were invoked from \"on the fly\"? This is because lists are *mutable* *ordered* sequential data types. In Python, there are other sequential data types that are *immutable* *ordered*, like [tuples](https://docs.python.org/3/library/stdtypes.html#tuple) and strings, or *mutable* *unordered*, like [sets](https://docs.python.org/3/library/stdtypes.html#set-types-set-frozenset). In general, invoking methods from a *mutable* object \"alter-and-update\" such object, while doing it from *immutable* objects just return an altered version the object (keeping the original object unaltered). Remember that *unordered* objects connot be sliced.\n",
    "\n",
    "</div>"
   ]
  },
  {
   "cell_type": "markdown",
   "metadata": {},
   "source": [
    "## Strings as sequential data types"
   ]
  },
  {
   "cell_type": "markdown",
   "metadata": {},
   "source": [
    "In Python, strings can be alternatively seen as sequential data types. For example, you can slice a string just as we do with lists:"
   ]
  },
  {
   "cell_type": "code",
   "execution_count": 37,
   "metadata": {},
   "outputs": [
    {
     "data": {
      "text/plain": [
       "'cats'"
      ]
     },
     "execution_count": 37,
     "metadata": {},
     "output_type": "execute_result"
    }
   ],
   "source": [
    "# Recovering a Jean Cocteau's quote\n",
    "string_example = \"I prefer cats over dogs because police cats don't exist.\"\n",
    "\n",
    "# Slice the first \"cats\" word\n",
    "string_example[9:13]"
   ]
  },
  {
   "cell_type": "markdown",
   "metadata": {},
   "source": [
    "As any other Python object, strings carry their own methods. For example, some useful [string methods](https://docs.python.org/3/library/stdtypes.html#string-methods) are: `.count()`, `.find()`, `.upper()`, `.lower()`, `.replace()`, `.split()`, `.join()`..."
   ]
  },
  {
   "cell_type": "code",
   "execution_count": 38,
   "metadata": {},
   "outputs": [
    {
     "data": {
      "text/plain": [
       "2"
      ]
     },
     "execution_count": 38,
     "metadata": {},
     "output_type": "execute_result"
    }
   ],
   "source": [
    "# Count 'cats' occurrences \n",
    "string_example.count('cats')"
   ]
  },
  {
   "cell_type": "code",
   "execution_count": 39,
   "metadata": {},
   "outputs": [
    {
     "data": {
      "text/plain": [
       "9"
      ]
     },
     "execution_count": 39,
     "metadata": {},
     "output_type": "execute_result"
    }
   ],
   "source": [
    "# Find the index where the occurrence 'cats' first appears\n",
    "string_example.find('cats')"
   ]
  },
  {
   "cell_type": "code",
   "execution_count": 40,
   "metadata": {},
   "outputs": [
    {
     "data": {
      "text/plain": [
       "\"I PREFER CATS OVER DOGS BECAUSE POLICE CATS DON'T EXIST.\""
      ]
     },
     "execution_count": 40,
     "metadata": {},
     "output_type": "execute_result"
    }
   ],
   "source": [
    "# Change the whole string to upper-case\n",
    "string_example.upper()"
   ]
  },
  {
   "cell_type": "code",
   "execution_count": 41,
   "metadata": {},
   "outputs": [
    {
     "data": {
      "text/plain": [
       "\"i prefer cats over dogs because police cats don't exist.\""
      ]
     },
     "execution_count": 41,
     "metadata": {},
     "output_type": "execute_result"
    }
   ],
   "source": [
    "# Change the whole string to lower-case\n",
    "string_example.lower()"
   ]
  },
  {
   "cell_type": "code",
   "execution_count": 42,
   "metadata": {},
   "outputs": [
    {
     "data": {
      "text/plain": [
       "\"I prefer unicorns over dogs because police unicorns don't exist.\""
      ]
     },
     "execution_count": 42,
     "metadata": {},
     "output_type": "execute_result"
    }
   ],
   "source": [
    "# Replace 'cats' occurrences with 'unicorns'\n",
    "string_example.replace('cats', 'unicorns')"
   ]
  },
  {
   "cell_type": "code",
   "execution_count": 43,
   "metadata": {},
   "outputs": [
    {
     "data": {
      "text/plain": [
       "['I',\n",
       " 'prefer',\n",
       " 'cats',\n",
       " 'over',\n",
       " 'dogs',\n",
       " 'because',\n",
       " 'police',\n",
       " 'cats',\n",
       " \"don't\",\n",
       " 'exist.']"
      ]
     },
     "execution_count": 43,
     "metadata": {},
     "output_type": "execute_result"
    }
   ],
   "source": [
    "# Split the string each time a blanck ' ' space is found\n",
    "string_example.split(' ')"
   ]
  },
  {
   "cell_type": "code",
   "execution_count": 44,
   "metadata": {},
   "outputs": [
    {
     "data": {
      "text/plain": [
       "\"I_prefer_cats_over_dogs_because_police_cats_don't_exist.\""
      ]
     },
     "execution_count": 44,
     "metadata": {},
     "output_type": "execute_result"
    }
   ],
   "source": [
    "# Split the string each time a blanck ' ' space is found and re-join the pieces with underscores '_'\n",
    "'_'.join(string_example.split(' '))"
   ]
  },
  {
   "cell_type": "markdown",
   "metadata": {
    "id": "43lE2qnwmFCM",
    "tags": []
   },
   "source": [
    "## Dictionaries\n",
    "\n",
    "We are now familiar with several Python data types, such as integer, float, string, boolean and list. We even have seen that strings could be somewhat rethought as a sequential data type. Now we will introduce the mapping data type [dictionary](https://docs.python.org/3/library/stdtypes.html#mapping-types-dict), which are sets of `key: value` pairs. We create dictionaries using braces (`{}`), commas (`,`) to separate each `key: value` pair within the dictionary, and colons (`:`) to differentiate *keys* from *values*:"
   ]
  },
  {
   "cell_type": "code",
   "execution_count": 70,
   "metadata": {
    "id": "Wr0tcaSomFCM",
    "outputId": "2beb636b-da82-400e-f09f-623e314c0968"
   },
   "outputs": [
    {
     "data": {
      "text/plain": [
       "{'Javan rhino': 75, 'Amur Leopard': 100, 'Sunda Island Tiger': 600}"
      ]
     },
     "execution_count": 70,
     "metadata": {},
     "output_type": "execute_result"
    }
   ],
   "source": [
    "# Create a dictionary from scratch\n",
    "{'Javan rhino': 75, 'Amur Leopard': 100, 'Sunda Island Tiger': 600}"
   ]
  },
  {
   "cell_type": "markdown",
   "metadata": {},
   "source": [
    "Dictionaries allow a very flexible manner to store and access data. For example, a given dictionary key can contain any of the typical data types (integer, float, string, boolean) but also sequential data types (like list) and even other dictionaries. As usual, we can put our dictionary into a variable:"
   ]
  },
  {
   "cell_type": "code",
   "execution_count": 71,
   "metadata": {},
   "outputs": [
    {
     "data": {
      "text/plain": [
       "dict"
      ]
     },
     "execution_count": 71,
     "metadata": {},
     "output_type": "execute_result"
    }
   ],
   "source": [
    "# Store list into \"dict_example\" variable\n",
    "dict_example = {'Javan rhino': 75, 'Amur Leopard': 100, 'Sunda Island Tiger': 600}\n",
    "\n",
    "# Get the data type of `dict_example`\n",
    "type(dict_example)"
   ]
  },
  {
   "cell_type": "markdown",
   "metadata": {},
   "source": [
    "This example dictionary has three *items* or three `key: value` pairs. The three *keys* are `'Javan rhino'`, `'Amur Leopard'`, `'Sunda Island Tiger'` and the three *values* are `75`, `100`, `600`. We can use the dictionary methods `.keys()` and `.values()` to retrieve the keys or the values of the dictionary, respectively:"
   ]
  },
  {
   "cell_type": "code",
   "execution_count": 72,
   "metadata": {},
   "outputs": [
    {
     "name": "stdout",
     "output_type": "stream",
     "text": [
      "dict_keys(['Javan rhino', 'Amur Leopard', 'Sunda Island Tiger'])\n",
      "dict_values([75, 100, 600])\n"
     ]
    }
   ],
   "source": [
    "# Get dictionary keys\n",
    "print(dict_example.keys())\n",
    "\n",
    "# Get dictionary values\n",
    "print(dict_example.values())"
   ]
  },
  {
   "cell_type": "markdown",
   "metadata": {},
   "source": [
    "You can also get whole `key: value` pairs with the method `.items()`:"
   ]
  },
  {
   "cell_type": "code",
   "execution_count": 73,
   "metadata": {},
   "outputs": [
    {
     "name": "stdout",
     "output_type": "stream",
     "text": [
      "dict_items([('Javan rhino', 75), ('Amur Leopard', 100), ('Sunda Island Tiger', 600)])\n"
     ]
    }
   ],
   "source": [
    "# Get dictionary items (key: value pairs)\n",
    "print(dict_example.items())"
   ]
  },
  {
   "cell_type": "markdown",
   "metadata": {},
   "source": [
    "Similar to lists, you can retrieve dictionary values by *indexing* with `[]`. But, in contrasts with lists, dictionary indices can be strings (among others data types):"
   ]
  },
  {
   "cell_type": "code",
   "execution_count": 74,
   "metadata": {},
   "outputs": [
    {
     "data": {
      "text/plain": [
       "100"
      ]
     },
     "execution_count": 74,
     "metadata": {},
     "output_type": "execute_result"
    }
   ],
   "source": [
    "# Get the value for the key 'Amur Leopard'\n",
    "dict_example['Amur Leopard']"
   ]
  },
  {
   "cell_type": "markdown",
   "metadata": {},
   "source": [
    "You can add new dictionary entries just by assignment:"
   ]
  },
  {
   "cell_type": "code",
   "execution_count": 75,
   "metadata": {},
   "outputs": [
    {
     "name": "stdout",
     "output_type": "stream",
     "text": [
      "Keys: dict_keys(['Javan rhino', 'Amur Leopard', 'Sunda Island Tiger', 'Mountain Gorilla', 'Tapanuli Orangutan', 'Yangtze Finless Porpoise', 'Black Rhino', 'African Forest Elephant', 'Sumatran Orangutan', 'Hawksbill Turtle', 'Human'])\n",
      "\n",
      "Values: dict_values([75, 100, 600, 1000, 800, 1000, 5630, 30000, 14000, 20000, 7966000000])\n"
     ]
    }
   ],
   "source": [
    "# Add additional entries to `dict_example`\n",
    "dict_example['Mountain Gorilla'] = 1000\n",
    "dict_example['Tapanuli Orangutan'] = 800\n",
    "dict_example['Yangtze Finless Porpoise'] = 1000\n",
    "dict_example['Black Rhino'] = 5630\n",
    "dict_example['African Forest Elephant'] = 30000\n",
    "dict_example['Sumatran Orangutan'] = 14000\n",
    "dict_example['Hawksbill Turtle'] = 20000\n",
    "dict_example['Human'] = 7966000000\n",
    "\n",
    "# Get dictionary keys\n",
    "print(f'Keys: {dict_example.keys()}\\n')\n",
    "\n",
    "# Get dictionary values\n",
    "print(f'Values: {dict_example.values()}')"
   ]
  },
  {
   "cell_type": "markdown",
   "metadata": {},
   "source": [
    "Similarly, you can update (or overwrite) existing dictionary entries also by assignment:"
   ]
  },
  {
   "cell_type": "code",
   "execution_count": 76,
   "metadata": {},
   "outputs": [
    {
     "data": {
      "text/plain": [
       "74"
      ]
     },
     "execution_count": 76,
     "metadata": {},
     "output_type": "execute_result"
    }
   ],
   "source": [
    "# Update the value stored for the 'Amur Leopard' key\n",
    "dict_example['Javan rhino'] = 74\n",
    "\n",
    "# Get the new value for the key 'Amur Leopard'\n",
    "dict_example['Javan rhino']"
   ]
  },
  {
   "cell_type": "markdown",
   "metadata": {},
   "source": [
    "Finally, to remove a dictionary item, you can use the `.pop()` method:"
   ]
  },
  {
   "cell_type": "code",
   "execution_count": 77,
   "metadata": {},
   "outputs": [
    {
     "data": {
      "text/plain": [
       "dict_keys(['Javan rhino', 'Amur Leopard', 'Sunda Island Tiger', 'Mountain Gorilla', 'Tapanuli Orangutan', 'Yangtze Finless Porpoise', 'Black Rhino', 'African Forest Elephant', 'Sumatran Orangutan', 'Hawksbill Turtle'])"
      ]
     },
     "execution_count": 77,
     "metadata": {},
     "output_type": "execute_result"
    }
   ],
   "source": [
    "# Update the value stored for the 'Amur Leopard' key\n",
    "dict_example.pop('Human')\n",
    "\n",
    "# Get dictionary keys (after removing 'Amur Leopard')\n",
    "dict_example.keys()"
   ]
  },
  {
   "cell_type": "markdown",
   "metadata": {
    "id": "h4_8ymoimFCa"
   },
   "source": [
    "## Flow Control\n",
    "\n",
    "In general, code lines in a Jupyter Notebook code cell, are executed sequentially (the first line is executed first, followed by the second, and so on). However, sometime we want a program to run some lines under certain conditions and some other lines under other conditions. Another common situation is when we want a program to run some lines repeatedly or until when some condition is met. [Control flow statements](https://docs.python.org/3/tutorial/controlflow.html) help you when dealing with these situations."
   ]
  },
  {
   "cell_type": "markdown",
   "metadata": {
    "id": "z6Z5KFoGmFCb",
    "tags": []
   },
   "source": [
    "### The `for` loop\n",
    "A *for loop* executes some code lines a given number of times. In a *for loop* there is \"running variable\" that changes on each loop *iteration*:"
   ]
  },
  {
   "cell_type": "code",
   "execution_count": 78,
   "metadata": {
    "id": "_ajynWKtmFCb",
    "outputId": "16ad43f2-1261-499d-c258-d20782089bc4"
   },
   "outputs": [
    {
     "name": "stdout",
     "output_type": "stream",
     "text": [
      "Hydrogen\n",
      "Helium\n",
      "Litium\n",
      "Beryllium\n",
      "Boron\n",
      "Carbon\n",
      "Nitrogen\n",
      "Oxygen\n",
      "Fluorine\n",
      "Neon\n"
     ]
    }
   ],
   "source": [
    "# Create a list from scratch and store it into \"list_example2\" variable\n",
    "list_example2 = ['Hydrogen', 'Helium', 'Litium', 'Beryllium', 'Boron', 'Carbon', 'Nitrogen', 'Oxygen', 'Fluorine', 'Neon']\n",
    "\n",
    "# For each element of our `list_example2`...\n",
    "for element in list_example2:\n",
    "    \n",
    "    #... print the running element\n",
    "    print(element)"
   ]
  },
  {
   "cell_type": "markdown",
   "metadata": {},
   "source": [
    "Here, the running variable `element` takes the value `'Hydrogen'` in the first iteration, `'Helium'` in the second, and so on until the last iteration is reached, when it takes the value `'Neon'`.\n",
    "\n",
    "Note that the for loop statement follows a very particular syntax (Look at the `for`, the `in` and the colon `:`). In addition, notice how the *block* of code lines that are executed in each for loop iteration present the same indentation of *four spaces*. This is not something following a random aesthetic criterion, this is something mandatory in Python."
   ]
  },
  {
   "cell_type": "markdown",
   "metadata": {
    "id": "tr8lSaaUmFCF"
   },
   "source": [
    "<div class=\"alert alert-block alert-danger\"><b>Caveat:</b> Remember that in Python a code block must presents a common indentation of four spaces. In turn, a nested code block also must present a common indentation of eight spaces (and so on).\n",
    "\n",
    "</div>"
   ]
  },
  {
   "cell_type": "markdown",
   "metadata": {},
   "source": [
    "Sometimes one also needs to track the index of the running variable. The [`enumerate()`](https://docs.python.org/3/library/functions.html#enumerate) built-in provides a pretty readable solution to this:"
   ]
  },
  {
   "cell_type": "code",
   "execution_count": 92,
   "metadata": {},
   "outputs": [
    {
     "name": "stdout",
     "output_type": "stream",
     "text": [
      "0\n",
      "Hydrogen\n",
      "1\n",
      "Helium\n",
      "2\n",
      "Litium\n",
      "3\n",
      "Beryllium\n",
      "4\n",
      "Boron\n",
      "5\n",
      "Carbon\n",
      "6\n",
      "Nitrogen\n",
      "7\n",
      "Oxygen\n",
      "8\n",
      "Fluorine\n",
      "9\n",
      "Neon\n"
     ]
    }
   ],
   "source": [
    "# For each element of our `list_example2`...\n",
    "for i, element in enumerate(list_example2):\n",
    "    \n",
    "    #... print the running index\n",
    "    print(i)\n",
    "    \n",
    "    #... print the running element\n",
    "    print(element)"
   ]
  },
  {
   "cell_type": "markdown",
   "metadata": {},
   "source": [
    "Of course, we can nest a for loop inside another for loop:"
   ]
  },
  {
   "cell_type": "code",
   "execution_count": 93,
   "metadata": {},
   "outputs": [
    {
     "name": "stdout",
     "output_type": "stream",
     "text": [
      "0\n",
      "Hydrogen\n",
      "H\n",
      "y\n",
      "d\n",
      "r\n",
      "o\n",
      "g\n",
      "e\n",
      "n\n",
      "1\n",
      "Helium\n",
      "H\n",
      "e\n",
      "l\n",
      "i\n",
      "u\n",
      "m\n"
     ]
    }
   ],
   "source": [
    "# For each element of our `list_example2`...\n",
    "for i, element in enumerate(list_example2[0:2]):\n",
    "    \n",
    "    #... print the running index\n",
    "    print(i)\n",
    "    \n",
    "    #... print the running element\n",
    "    print(element)\n",
    "    \n",
    "    # For each character in the the running element...\n",
    "    for character in element:\n",
    "        \n",
    "        #... print the rurring such character\n",
    "        print(character)"
   ]
  },
  {
   "cell_type": "markdown",
   "metadata": {},
   "source": [
    "In addition to looping along sequential data types like lists, we can also loop along dictionaries very easily:"
   ]
  },
  {
   "cell_type": "code",
   "execution_count": 94,
   "metadata": {},
   "outputs": [
    {
     "name": "stdout",
     "output_type": "stream",
     "text": [
      "There are only 74 Javan rhino individuals left on Earth.\n",
      "There are only 100 Amur Leopard individuals left on Earth.\n",
      "There are only 600 Sunda Island Tiger individuals left on Earth.\n",
      "There are only 1000 Mountain Gorilla individuals left on Earth.\n",
      "There are only 800 Tapanuli Orangutan individuals left on Earth.\n",
      "There are only 1000 Yangtze Finless Porpoise individuals left on Earth.\n",
      "There are only 5630 Black Rhino individuals left on Earth.\n",
      "There are only 30000 African Forest Elephant individuals left on Earth.\n",
      "There are only 14000 Sumatran Orangutan individuals left on Earth.\n",
      "There are only 20000 Hawksbill Turtle individuals left on Earth.\n"
     ]
    }
   ],
   "source": [
    "# For key and value in our `dict_example` items...\n",
    "for k, v in dict_example.items():\n",
    "    \n",
    "    #... print a sentence leveraging the running key and value \n",
    "    print(f'There are only {v} {k} individuals left on Earth.')"
   ]
  },
  {
   "cell_type": "markdown",
   "metadata": {},
   "source": [
    "TODO\n",
    "\n",
    "<div class=\"alert alert-block alert-success\"><b>Practice:</b>\n",
    "\n",
    "In the 1st code cell below, use a `for` loop with a nested `if`, `elif`, `else` clause to report the conservation status of the species present in `dict_example`. Use `species` and `individuals` as looping variable names for the dictionary keys and values, respectiely.    \n",
    "    \n",
    "+ a) Extinct: Zero individuals in the wild.\n",
    "+ b) Critically endangered: One hundred or less individuals in the wild.\n",
    "+ c) Endangered: One thousand or less individuals in the wild.\n",
    "+ d) Vulnerable: Ten thousand or less individuals in the wild.\n",
    "\n",
    "</div>\n",
    "\n",
    "TODO"
   ]
  },
  {
   "cell_type": "code",
   "execution_count": 124,
   "metadata": {},
   "outputs": [
    {
     "ename": "NameError",
     "evalue": "name 'TODO' is not defined",
     "output_type": "error",
     "traceback": [
      "\u001b[1;31m---------------------------------------------------------------------------\u001b[0m",
      "\u001b[1;31mNameError\u001b[0m                                 Traceback (most recent call last)",
      "\u001b[1;32m~\\AppData\\Local\\Temp/ipykernel_8848/1733054823.py\u001b[0m in \u001b[0;36m<module>\u001b[1;34m\u001b[0m\n\u001b[1;32m----> 1\u001b[1;33m \u001b[0mTODO\u001b[0m\u001b[1;33m\u001b[0m\u001b[1;33m\u001b[0m\u001b[0m\n\u001b[0m",
      "\u001b[1;31mNameError\u001b[0m: name 'TODO' is not defined"
     ]
    }
   ],
   "source": [
    "TODO"
   ]
  },
  {
   "cell_type": "markdown",
   "metadata": {},
   "source": [
    "### The `if`, `elif` and `else` clauses\n",
    "The `if`, `elif` and `else` clauses are very useful when you want provide your code with some degree of automatic decision capability:"
   ]
  },
  {
   "cell_type": "code",
   "execution_count": 125,
   "metadata": {},
   "outputs": [
    {
     "name": "stdout",
     "output_type": "stream",
     "text": [
      "The Iberian lynx (Lynx pardinus) is a wild cat species endemic to the Iberian Peninsula.\n"
     ]
    }
   ],
   "source": [
    "# Define the number of iberian lynxs in the wild\n",
    "Iberian_lynxs = 10001 # <-- EDIT THIS NUMBER AND RE-RUN\n",
    "\n",
    "# If the number of iberian lynxs in the wild is less or equal to zero...\n",
    "if Iberian_lynxs <= 0:\n",
    "    \n",
    "    #... report the consevation status\n",
    "    print(f'The Iberian Lynx is extinct.')\n",
    "\n",
    "# Else if the number of iberian lynxs in the wild is less or equal to ten thousand...\n",
    "elif Iberian_lynxs <= 10000:\n",
    "    \n",
    "    #... report the consevation status\n",
    "    print(f'The Iberian Lynx is threatened.')\n",
    "\n",
    "# Else\n",
    "else:\n",
    "\n",
    "    #... just say something about the Iberian Lynx\n",
    "    print(f'The Iberian lynx (Lynx pardinus) is a wild cat species endemic to the Iberian Peninsula.')"
   ]
  },
  {
   "cell_type": "markdown",
   "metadata": {},
   "source": [
    "<div class=\"alert alert-block alert-success\"><b>Practice:</b>\n",
    "\n",
    "In the 1st code cell below, use a `for` loop with a nested `if`, `elif`, `else` clause to report the conservation status of the species present in `dict_example`. Use `species` and `individuals` as looping variable names for the dictionary keys and values, respectiely.    \n",
    "    \n",
    "+ a) Extinct: Zero individuals in the wild.\n",
    "+ b) Critically endangered: One hundred or less individuals in the wild.\n",
    "+ c) Endangered: One thousand or less individuals in the wild.\n",
    "+ d) Vulnerable: Ten thousand or less individuals in the wild.\n",
    "\n",
    "</div>"
   ]
  },
  {
   "cell_type": "code",
   "execution_count": 126,
   "metadata": {
    "tags": []
   },
   "outputs": [
    {
     "ename": "IndentationError",
     "evalue": "unexpected indent (Temp/ipykernel_8848/990329411.py, line 8)",
     "output_type": "error",
     "traceback": [
      "\u001b[1;36m  File \u001b[1;32m\"C:\\Users\\garauz\\AppData\\Local\\Temp/ipykernel_8848/990329411.py\"\u001b[1;36m, line \u001b[1;32m8\u001b[0m\n\u001b[1;33m    print(f'The {species} is extinct.')\u001b[0m\n\u001b[1;37m    ^\u001b[0m\n\u001b[1;31mIndentationError\u001b[0m\u001b[1;31m:\u001b[0m unexpected indent\n"
     ]
    }
   ],
   "source": [
    "# For `species` (key) and `individuals` (value) in our `dict_example` items...\n",
    "for ___, ___ in ___.items():\n",
    "\n",
    "    # If the number of individuals is less or equal to zero...\n",
    "    ___\n",
    "\n",
    "        #... report the consevation status\n",
    "        print(f'The {species} is extinct.')\n",
    "\n",
    "    # Else if the number of individuals is less or equal to one hundred...\n",
    "    ___\n",
    "\n",
    "        #... report the consevation status\n",
    "        print(f'The {species} is critically endangered.')\n",
    "    \n",
    "    # Else if the number of individuals is less or equal to one thousand...\n",
    "    ___\n",
    "\n",
    "        #... report the consevation status\n",
    "        print(f'The {species} is endangered.')\n",
    "    \n",
    "    # Else if the number of individuals is less or equal to ten thousand...\n",
    "    ___\n",
    "\n",
    "        #... report the consevation status\n",
    "        print(f'The {species} is vulnerable.')\n",
    "\n",
    "    # Else\n",
    "    ___\n",
    "\n",
    "        #... report the consevation status\n",
    "        print(f'The {species} is not vulnerable (yet).')"
   ]
  },
  {
   "cell_type": "code",
   "execution_count": 127,
   "metadata": {},
   "outputs": [
    {
     "name": "stdout",
     "output_type": "stream",
     "text": [
      "The Javan rhino is critically endangered.\n",
      "The Amur Leopard is critically endangered.\n",
      "The Sunda Island Tiger is endangered.\n",
      "The Mountain Gorilla is endangered.\n",
      "The Tapanuli Orangutan is endangered.\n",
      "The Yangtze Finless Porpoise is endangered.\n",
      "The Black Rhino is vulnerable.\n",
      "The African Forest Elephant is not vulnerable yet.\n",
      "The Sumatran Orangutan is not vulnerable yet.\n",
      "The Hawksbill Turtle is not vulnerable yet.\n"
     ]
    }
   ],
   "source": [
    "# For species (key) and individuals (value) in our `dict_example`...\n",
    "for species, individuals in dict_example.items():\n",
    "\n",
    "    # If the number of individuals is less or equal to zero...\n",
    "    if individuals <= 0:\n",
    "\n",
    "        #... report the consevation status\n",
    "        print(f'The {species} is extinct.')\n",
    "\n",
    "    # Else if the number of individuals is less or equal to one hundred...\n",
    "    elif individuals <= 100:\n",
    "\n",
    "        #... report the consevation status\n",
    "        print(f'The {species} is critically endangered.')\n",
    "    \n",
    "    # Else if the number of individuals is less or equal to one thousand...\n",
    "    elif individuals <= 1000:\n",
    "\n",
    "        #... report the consevation status\n",
    "        print(f'The {species} is endangered.')\n",
    "    \n",
    "    # Else if the number of individuals is less or equal to ten thousand...\n",
    "    elif individuals <= 10000:\n",
    "\n",
    "        #... report the consevation status\n",
    "        print(f'The {species} is vulnerable.')\n",
    "\n",
    "    # Else\n",
    "    else:\n",
    "\n",
    "        #... report the consevation status\n",
    "        print(f'The {species} is not vulnerable yet.')"
   ]
  },
  {
   "cell_type": "markdown",
   "metadata": {},
   "source": [
    "TODO\n",
    "\n",
    "<div class=\"alert alert-block alert-warning\"><b>Extension:</b>\n",
    "\n",
    "Did you noticed that methods update the list they were invoked from \"on the fly\"? This is because lists are *mutable* *ordered* sequential data types. In Python, there are other sequential data types that are *immutable* *ordered*, like [tuples](https://docs.python.org/3/library/stdtypes.html#tuple) and strings, or *mutable* *unordered*, like [sets](https://docs.python.org/3/library/stdtypes.html#set-types-set-frozenset). In general, invoking methods from a *mutable* object \"alter-and-update\" such object, while doing it from *immutable* objects just return an altered version the object (keeping the original object unaltered). Remember that *unordered* objects connot be sliced.\n",
    "\n",
    "</div>\n",
    "\n",
    "TODO"
   ]
  },
  {
   "cell_type": "markdown",
   "metadata": {},
   "source": [
    "Did you noticed that there is not a `mean()` built-in? That's not a big problem because we can compute the mean of a numeric sequence just using `sum()` and `len()`."
   ]
  },
  {
   "cell_type": "markdown",
   "metadata": {
    "id": "_Dhu9_BnmFCE"
   },
   "source": [
    "We can check if an element is inside the list using `in`"
   ]
  },
  {
   "cell_type": "markdown",
   "metadata": {},
   "source": [
    "Note that some of them are the same methods from lists."
   ]
  },
  {
   "cell_type": "markdown",
   "metadata": {
    "id": "62lYdbVSmFCX",
    "tags": []
   },
   "source": [
    "## Functions\n",
    "\n",
    "To define our own function we use the `def` statement followed by the name of the same and the input arguments in parentheses. The first line of the function can be a doc string."
   ]
  },
  {
   "cell_type": "code",
   "execution_count": null,
   "metadata": {
    "id": "LrghluVRmFCX"
   },
   "outputs": [],
   "source": [
    "def mean(mylist):\n",
    "    \"Calculate the mean of the elements in mylist.\"\n",
    "    number_of_items = len(mylist)\n",
    "    sum_of_items = sum(mylist)\n",
    "    return sum_of_items / number_of_items"
   ]
  },
  {
   "cell_type": "code",
   "execution_count": null,
   "metadata": {
    "id": "ziBs7BJXmFCY",
    "outputId": "1bedd856-b88a-4d28-cc8b-cc2c506f39e0"
   },
   "outputs": [],
   "source": [
    "mean"
   ]
  },
  {
   "cell_type": "code",
   "execution_count": null,
   "metadata": {
    "id": "tN8BvblQmFCY",
    "outputId": "27c59e01-61e7-4ac0-ca58-0a87ebed3956"
   },
   "outputs": [],
   "source": [
    "mean.__doc__"
   ]
  },
  {
   "cell_type": "code",
   "execution_count": null,
   "metadata": {
    "id": "vGJxKZMBmFCY",
    "outputId": "45a3a172-d9d8-4ef6-dad0-4fa668cd8666"
   },
   "outputs": [],
   "source": [
    "type(mean)"
   ]
  },
  {
   "cell_type": "code",
   "execution_count": null,
   "metadata": {
    "id": "WbaorD7PmFCY",
    "outputId": "e6180370-29f9-4014-98d3-bd66b1f8eff6"
   },
   "outputs": [],
   "source": [
    "z_list"
   ]
  },
  {
   "cell_type": "code",
   "execution_count": null,
   "metadata": {
    "id": "CWfaJDLZmFCY",
    "outputId": "35f2d4fa-ed57-4518-e7e0-1c14b1afeac4"
   },
   "outputs": [],
   "source": [
    "mean(z_list)"
   ]
  },
  {
   "cell_type": "code",
   "execution_count": null,
   "metadata": {
    "id": "gsSLRgr0mFCZ",
    "outputId": "94ca5c0c-f05d-45e5-92b7-04185fd12cfb"
   },
   "outputs": [],
   "source": [
    "help(mean)"
   ]
  },
  {
   "cell_type": "code",
   "execution_count": null,
   "metadata": {
    "id": "QiB0ElKQmFCZ"
   },
   "outputs": [],
   "source": [
    "mean?"
   ]
  },
  {
   "cell_type": "code",
   "execution_count": null,
   "metadata": {
    "id": "joN6KmpPmFCZ"
   },
   "outputs": [],
   "source": [
    "mean??"
   ]
  },
  {
   "cell_type": "code",
   "execution_count": null,
   "metadata": {
    "id": "FIq78WCZmFCZ",
    "outputId": "ba4b713b-8680-4eac-c7c8-f26239cf438c"
   },
   "outputs": [],
   "source": [
    "def multiply(x, y=2.0):\n",
    "    \"\"\"Multiplies two numbers, bu default the first by 2.\"\"\"\n",
    "    return x * y\n",
    "\n",
    "multiply(2,3), multiply(3)"
   ]
  },
  {
   "cell_type": "code",
   "execution_count": null,
   "metadata": {},
   "outputs": [],
   "source": []
  },
  {
   "cell_type": "code",
   "execution_count": null,
   "metadata": {},
   "outputs": [],
   "source": []
  },
  {
   "cell_type": "code",
   "execution_count": null,
   "metadata": {},
   "outputs": [],
   "source": []
  },
  {
   "cell_type": "code",
   "execution_count": null,
   "metadata": {},
   "outputs": [],
   "source": []
  },
  {
   "cell_type": "code",
   "execution_count": null,
   "metadata": {},
   "outputs": [],
   "source": []
  },
  {
   "cell_type": "code",
   "execution_count": null,
   "metadata": {},
   "outputs": [],
   "source": []
  },
  {
   "cell_type": "code",
   "execution_count": null,
   "metadata": {},
   "outputs": [],
   "source": []
  },
  {
   "cell_type": "code",
   "execution_count": null,
   "metadata": {
    "id": "e7a1QBuKmFCc",
    "outputId": "7baee96b-6d29-4bef-ad0a-c280c4056b6a"
   },
   "outputs": [],
   "source": [
    "for name in 'John','Charles','Tom':\n",
    "    print(name)"
   ]
  },
  {
   "cell_type": "code",
   "execution_count": null,
   "metadata": {
    "id": "bGBo__8pmFCc",
    "outputId": "aca88621-b868-47c4-f373-211253a833f2"
   },
   "outputs": [],
   "source": [
    "fruits = ['banana', 'apple',  'mango']\n",
    "for fruit in fruits:        # Second Example\n",
    "    print('Current fruit:', fruit)"
   ]
  },
  {
   "cell_type": "markdown",
   "metadata": {
    "id": "RyMBO6l7mFCc"
   },
   "source": [
    "Sometimes one also needs the index of the element, e.g. to plot a subset of data on different subplots. Then `enumerate` provides an elegant (\"pythonic\") way:"
   ]
  },
  {
   "cell_type": "code",
   "execution_count": null,
   "metadata": {
    "id": "aJ0bv1k3mFCc",
    "outputId": "e89c41e8-4c8a-4913-ec09-459c783401d1"
   },
   "outputs": [],
   "source": [
    "for index, fruit in enumerate(fruits):\n",
    "    print(f'Fruit number {index}:', fruit)"
   ]
  },
  {
   "cell_type": "markdown",
   "metadata": {
    "id": "I75H8xjemFCc"
   },
   "source": [
    "In principle one could also iterate over an index going from 0 to the number of elements:"
   ]
  },
  {
   "cell_type": "code",
   "execution_count": null,
   "metadata": {
    "id": "BkCOuBNBmFCd"
   },
   "outputs": [],
   "source": [
    "for index in range(len(fruits)):\n",
    "    print('Current fruit:', fruits[index])"
   ]
  },
  {
   "cell_type": "markdown",
   "metadata": {
    "id": "Jh3P9E1jmFCd"
   },
   "source": [
    "`range` function can be also used to go through a range of numbers"
   ]
  },
  {
   "cell_type": "code",
   "execution_count": null,
   "metadata": {
    "id": "54Fmw4wtmFCd",
    "outputId": "497780d4-bd69-4851-a20c-1a847e627c46"
   },
   "outputs": [],
   "source": [
    "for ii in range(3):\n",
    "    print(ii)"
   ]
  },
  {
   "cell_type": "code",
   "execution_count": null,
   "metadata": {
    "id": "CjTDYM7WmFCd",
    "outputId": "081ac49d-67ae-4c8a-e0ac-eac3b68a3055"
   },
   "outputs": [],
   "source": [
    "for ii in range(2,5):\n",
    "    print(ii)"
   ]
  },
  {
   "cell_type": "code",
   "execution_count": null,
   "metadata": {
    "id": "tzxdxPmSmFCd",
    "outputId": "da885acd-ce68-444f-866c-7bf7ba2c1028"
   },
   "outputs": [],
   "source": [
    "for ii in range(2,10,2):\n",
    "    print(ii)"
   ]
  },
  {
   "cell_type": "markdown",
   "metadata": {
    "id": "zk3mZTVrmFCg",
    "tags": []
   },
   "source": [
    "### Nested Loops\n",
    "\n",
    "Nested loops are loops within other loops, regardless of the type. For example, we can have nested for and while loops."
   ]
  },
  {
   "cell_type": "code",
   "execution_count": 95,
   "metadata": {
    "id": "TinRvW3ZmFCg"
   },
   "outputs": [
    {
     "name": "stdout",
     "output_type": "stream",
     "text": [
      "1 * 1 = 1\n",
      "1 * 2 = 2\n",
      "1 * 3 = 3\n",
      "2 * 1 = 2\n",
      "2 * 2 = 4\n",
      "2 * 3 = 6\n"
     ]
    }
   ],
   "source": [
    "for x in range(1, 3):\n",
    "    for y in range(1, 4):\n",
    "        print(f'{x} * {y} = {x*y}')"
   ]
  },
  {
   "cell_type": "markdown",
   "metadata": {},
   "source": [
    "\n",
    "\n",
    "\n",
    "statements are . We often encounter situations in which we need to execute a block of code several number of times or change the operations based on some conditions. In Python a block is delimitted by an intendation (4 spaces), i.e. all lines starting at the same space are one block.\n",
    "\n",
    "Programming languages provide various control structures that allow for more complicated execution paths."
   ]
  },
  {
   "cell_type": "markdown",
   "metadata": {
    "id": "tqIvSVLTmFCg"
   },
   "source": [
    "### `if`\n",
    "\n",
    "As we saw in the previous notebook, the if statement evaluates the code subject to the fulfillment of a given condition (generally created with a logical operator such as `==`, `<`, `>`, `=<`, `=>`, `not`, `is`, `in`, etc.). We can introduce an optional `else` statement to execute an alternative block of code whenever the condition is not met."
   ]
  },
  {
   "cell_type": "code",
   "execution_count": null,
   "metadata": {
    "id": "Jld4BuvkmFCh"
   },
   "outputs": [],
   "source": [
    "attendants = ['Mark', 'Jack', 'Mary']\n",
    "student = 'Mark'\n",
    "\n",
    "if student in attendants:\n",
    "    print('present!')\n",
    "else:\n",
    "    print('absent!')"
   ]
  },
  {
   "cell_type": "markdown",
   "metadata": {
    "id": "SHYgILN0mFCh"
   },
   "source": [
    "We can also use one or more `elif` statements to check multiple conditions and execute a block of code as soon as one of the conditions is `True`."
   ]
  },
  {
   "cell_type": "code",
   "execution_count": null,
   "metadata": {
    "id": "vW_AXlaImFCh"
   },
   "outputs": [],
   "source": [
    "attendants_A = ['Mark', 'Jack', 'Mary']\n",
    "attendants_B = ['Tom', 'Dick', 'Harry']\n",
    "student = 'Tom'\n",
    "\n",
    "if student in attendants_A:\n",
    "    print('present in list A!')\n",
    "elif student in attendants_B:\n",
    "    print('present in list B!')\n",
    "else:\n",
    "    print('absent!')"
   ]
  },
  {
   "cell_type": "markdown",
   "metadata": {
    "id": "MHEy0QYvmFCh"
   },
   "source": [
    "We can also use nested `if` statements."
   ]
  },
  {
   "cell_type": "markdown",
   "metadata": {
    "id": "X1OWBg8zmFCe"
   },
   "source": [
    "`for` loops can be elegantly integrated into a list comprehension"
   ]
  },
  {
   "cell_type": "code",
   "execution_count": null,
   "metadata": {
    "id": "nqFuUC5-mFCe",
    "outputId": "0731581b-5f23-4cf4-f09a-2fbf836a24fb"
   },
   "outputs": [],
   "source": [
    "our_list = []\n",
    "for n in range(5):\n",
    "    our_list.append(n)\n",
    "our_list"
   ]
  },
  {
   "cell_type": "code",
   "execution_count": null,
   "metadata": {
    "id": "noouLZm9mFCe",
    "outputId": "b1bb6486-2210-4c41-e09b-cc593e75d442"
   },
   "outputs": [],
   "source": [
    "[10*n for n in range(5)]"
   ]
  },
  {
   "cell_type": "code",
   "execution_count": null,
   "metadata": {
    "id": "NbpAqAy7mFCe",
    "outputId": "27f46fac-1145-4dc2-e99e-0f2f2eb7335b"
   },
   "outputs": [],
   "source": [
    "print(\"It was true\") if 2 < 3 else print(\"It was false\") "
   ]
  },
  {
   "cell_type": "code",
   "execution_count": null,
   "metadata": {
    "id": "Gnu7eEP4mFCe",
    "outputId": "5967468e-8385-4eef-98dc-eff09e3119a6"
   },
   "outputs": [],
   "source": [
    "fruits_with_b = [fruit for fruit in fruits if fruit.startswith('b')]\n",
    "fruits_with_b"
   ]
  },
  {
   "cell_type": "code",
   "execution_count": null,
   "metadata": {
    "id": "v-luySsRmFCf",
    "outputId": "747406fe-1abd-461a-d7c5-1fa82a085b96"
   },
   "outputs": [],
   "source": [
    "fruits_with_b = []\n",
    "for fruit in fruits:\n",
    "    if fruit.startswith('b'):\n",
    "        fruits_with_b.append(fruit)\n",
    "fruits_with_b"
   ]
  },
  {
   "cell_type": "markdown",
   "metadata": {
    "id": "O6OpeZqVmFCf"
   },
   "source": [
    "**Exercise**: write a function that reads a number $n$ and prints the $n$-th harmonic number, defined as \n",
    "$$H_n = 1/1 + 1/2 + \\dots + 1/n$$ with at most 4 digits after the decimal point"
   ]
  },
  {
   "cell_type": "code",
   "execution_count": 112,
   "metadata": {
    "id": "xjqIV7JlmFCf"
   },
   "outputs": [],
   "source": [
    "def harmonic(n):\n",
    "    \"\"\"Returns the n-th harmonic number\"\"\"\n",
    "    sum = 0\n",
    "    for i in range(1,n+1):\n",
    "        sum += float(1/i)\n",
    "    return round(sum,4)"
   ]
  },
  {
   "cell_type": "code",
   "execution_count": 113,
   "metadata": {
    "id": "YXDi8wZemFCg",
    "outputId": "9cc2ac16-dae8-41af-82e3-e8cd074165d9"
   },
   "outputs": [
    {
     "data": {
      "text/plain": [
       "(1.5, 2.5929)"
      ]
     },
     "execution_count": 113,
     "metadata": {},
     "output_type": "execute_result"
    }
   ],
   "source": [
    "harmonic(2), harmonic(7)"
   ]
  },
  {
   "cell_type": "markdown",
   "metadata": {
    "id": "fx6N6mxzmFCf"
   },
   "source": [
    "This is equivalent to the following loop:"
   ]
  },
  {
   "cell_type": "markdown",
   "metadata": {
    "id": "snyRKHltmFCa"
   },
   "source": [
    "### `while` Loop\n",
    "Repeats a statement or group of statements while a given condition is `True`. The condition is tested before executing the loop body every time."
   ]
  },
  {
   "cell_type": "code",
   "execution_count": null,
   "metadata": {
    "id": "VFMlGqWFmFCa",
    "outputId": "5ec03cf7-47d1-403d-ae5e-eba865263709"
   },
   "outputs": [],
   "source": [
    "count = 0\n",
    "while (count < 9):\n",
    "    print('The count is: ' + str(count))\n",
    "    count += 1\n",
    "\n",
    "print('Good bye!')"
   ]
  },
  {
   "cell_type": "markdown",
   "metadata": {
    "id": "rKkhmco5mFCb"
   },
   "source": [
    "A loop becomes infinite loop whenever the condition never becomes `False`. Hence, we need to be careful when using while loops provided that they may never end, as we saw in the previous notebook. These are called infinite loops.\n",
    "\n",
    "An infinite loop might be useful in client/server programming where the server needs to run continuously so that client programs can communicate with it when required (`while True:`)"
   ]
  },
  {
   "cell_type": "markdown",
   "metadata": {
    "id": "G2DoLzh0mFCi"
   },
   "source": [
    "### `break`"
   ]
  },
  {
   "cell_type": "markdown",
   "metadata": {
    "id": "6VO-ByasmFCi"
   },
   "source": [
    "`break` terminates the current loop and resumes execution at the next statement. The `break` statement can be used in both `while` and `for` loops. In nested loops, the `break` statement only stops the execution of the **innermost loop**."
   ]
  },
  {
   "cell_type": "code",
   "execution_count": null,
   "metadata": {
    "id": "11Mz3o29mFCi"
   },
   "outputs": [],
   "source": [
    "var = 10\n",
    "while var > 0:              \n",
    "    print('Current variable value: ' + str(var))\n",
    "    var -= 1\n",
    "    if var == 5:\n",
    "        break\n",
    "\n",
    "print('Good bye!')"
   ]
  },
  {
   "cell_type": "markdown",
   "metadata": {
    "id": "LiIlY0CbmFCi"
   },
   "source": [
    "An `else` statement right after the loop is executed if it hasn't been interrumpted by us "
   ]
  },
  {
   "cell_type": "code",
   "execution_count": null,
   "metadata": {
    "id": "l1xgVKSTmFCi",
    "outputId": "b19fa79a-c768-489e-9a39-eaf182e1b242"
   },
   "outputs": [],
   "source": [
    "var = 10\n",
    "while var > 0:              \n",
    "    print('Current variable value: ' + str(var))\n",
    "    var -= 1\n",
    "    if var == 5:\n",
    "        break\n",
    "else:\n",
    "    print(\"Loop finished\")"
   ]
  },
  {
   "cell_type": "code",
   "execution_count": null,
   "metadata": {
    "id": "JYFUBpfKmFCj",
    "outputId": "92e18a27-a3b5-492d-9815-f29977223867"
   },
   "outputs": [],
   "source": [
    "var = 10\n",
    "while var > 0:              \n",
    "    print('Current variable value: ' + str(var))\n",
    "    var -= 1\n",
    "    # if var  5:\n",
    "    #    break\n",
    "else:\n",
    "    print(\"Loop finished\")"
   ]
  },
  {
   "cell_type": "markdown",
   "metadata": {
    "id": "ipyGlEDMmFCj"
   },
   "source": [
    "### `continue` "
   ]
  },
  {
   "cell_type": "markdown",
   "metadata": {
    "id": "V0Ch91g1mFCj"
   },
   "source": [
    "The `continue` statement rejects all the remaining statements in the current iteration of the loop and moves the control back to the top of the loop (like a \"skip\"). It can be used in both `while` and `for` loops."
   ]
  },
  {
   "cell_type": "code",
   "execution_count": null,
   "metadata": {
    "id": "Fq7pT3pumFCj",
    "outputId": "7b69e422-5a20-4fec-a172-d1c191ecd3fc"
   },
   "outputs": [],
   "source": [
    "for letter in 'Python':\n",
    "    if letter == 'h':\n",
    "        continue\n",
    "    print('Current Letter: ' + letter)\n"
   ]
  },
  {
   "cell_type": "markdown",
   "metadata": {
    "id": "4Wh6AI9ZmFCk"
   },
   "source": [
    "### `pass`"
   ]
  },
  {
   "cell_type": "markdown",
   "metadata": {
    "id": "PEMjbkXlmFCk"
   },
   "source": [
    "The `pass` statement is a null operation: nothing happens when it executes. `pass` is also useful in places where the code will eventually go but has not been written yet."
   ]
  },
  {
   "cell_type": "code",
   "execution_count": null,
   "metadata": {
    "id": "58eFJ2wQmFCk",
    "outputId": "5e8745fc-43ed-4c48-cc4f-2f7725fb0c59"
   },
   "outputs": [],
   "source": [
    "for letter in 'Python': \n",
    "    if letter == 'h':\n",
    "        pass\n",
    "        print('This is pass block')\n",
    "    print('Current Letter: ' + letter)\n",
    "\n",
    "print('Good bye!')"
   ]
  },
  {
   "cell_type": "markdown",
   "metadata": {
    "id": "mPn5Y_xMmFCk"
   },
   "source": [
    "`pass` and `continue` may look similar but they fulfill different tasks. The printed message \"This is pass block\", wouldn't have been printed if continue had been used instead. `pass` does not do anything, while `continue` brings us straight the next iteration."
   ]
  },
  {
   "cell_type": "code",
   "execution_count": null,
   "metadata": {
    "id": "GeT3aC-LmFCk",
    "outputId": "c9728dc2-94b3-47a7-879b-9da6f0a69c3a"
   },
   "outputs": [],
   "source": [
    "for letter in 'Python': \n",
    "    if letter == 'h':\n",
    "        continue\n",
    "        print('This is pass block')\n",
    "    print('Current Letter: ' + letter)\n",
    "\n",
    "print('Good bye!')"
   ]
  },
  {
   "cell_type": "markdown",
   "metadata": {
    "id": "5g8U0Rf7mFCl"
   },
   "source": [
    "**Exercise:** Write a function that prints squares with $n^2$ $n$’s.\n",
    "\n",
    "*Input*: Input consists of several natural numbers between 1 and 9.\n",
    "\n",
    "*Output*:For every $n$, print a square of size $n \\times n$ full of $n$’s. Separate two squares with an empty line."
   ]
  },
  {
   "cell_type": "code",
   "execution_count": null,
   "metadata": {
    "id": "Vi8Hd9O8mFCl"
   },
   "outputs": [],
   "source": [
    "def squares(n):\n",
    "    \"\"\"prints squares with n^2 n's\"\"\"\n",
    "    for i in range(n):\n",
    "        string = \"\"\n",
    "        for j in range(n):\n",
    "            string = string + str(n)\n",
    "        print(string)"
   ]
  },
  {
   "cell_type": "code",
   "execution_count": null,
   "metadata": {
    "id": "KopPKstvmFCl",
    "outputId": "0d42b774-4619-45d3-97f1-b4b97df3d307"
   },
   "outputs": [],
   "source": [
    "squares(3)"
   ]
  }
 ],
 "metadata": {
  "colab": {
   "include_colab_link": true,
   "name": "02_Types_and_Flow.ipynb",
   "provenance": []
  },
  "kernelspec": {
   "display_name": "Python 3 (ipykernel)",
   "language": "python",
   "name": "python3"
  },
  "language_info": {
   "codemirror_mode": {
    "name": "ipython",
    "version": 3
   },
   "file_extension": ".py",
   "mimetype": "text/x-python",
   "name": "python",
   "nbconvert_exporter": "python",
   "pygments_lexer": "ipython3",
   "version": "3.8.8"
  }
 },
 "nbformat": 4,
 "nbformat_minor": 4
}
