{
  "nbformat": 4,
  "nbformat_minor": 0,
  "metadata": {
    "kernelspec": {
      "display_name": "Python 3",
      "language": "python",
      "name": "python3"
    },
    "colab": {
      "name": "03_NumPy.ipynb",
      "provenance": [],
      "toc_visible": true,
      "include_colab_link": true
    }
  },
  "cells": [
    {
      "cell_type": "markdown",
      "metadata": {
        "id": "view-in-github",
        "colab_type": "text"
      },
      "source": [
        "<a href=\"https://colab.research.google.com/github/MMRES-PyBootcamp/MMRES-python-bootcamp2022/blob/main/solved_notebooks/09_NumPy.ipynb\" target=\"_parent\"><img src=\"https://colab.research.google.com/assets/colab-badge.svg\" alt=\"Open In Colab\"/></a>"
      ]
    },
    {
      "cell_type": "markdown",
      "metadata": {
        "id": "H-qec1q_e75x"
      },
      "source": [
        "# Session 9 - NumPy\n",
        "\n",
        "## Introduction\n",
        "\n",
        "After getting used to how Python works, it is the moment to begin getting our hands dirty with data analysis. We will study two packages: [NumPy](http://www.numpy.org/) and [Pandas](http://pandas.pydata.org/). NumPy is the fundamental numeric computing and linear algebra package in Python. We will learn it not only for the data analysis, but more importantly, because it will be a package that will be always present in our `import` section as scientists. In the next notebook, we will dive into Pandas. Pandas is a dedicated data analysis package with more functionalities than NumPy, making our life much easier in terms of data visualization and manipulation. \n",
        "\n",
        "Let us start importing the necessary packages."
      ]
    },
    {
      "cell_type": "code",
      "metadata": {
        "id": "JZbfI1L9e750",
        "outputId": "c9e8a965-9e66-4420-d61a-d438f5fb1e4e",
        "colab": {
          "base_uri": "https://localhost:8080/"
        }
      },
      "source": [
        "import numpy as np\n",
        "print('NumPy:', np.__version__)"
      ],
      "execution_count": 1,
      "outputs": [
        {
          "output_type": "stream",
          "name": "stdout",
          "text": [
            "NumPy: 1.21.6\n"
          ]
        }
      ]
    },
    {
      "cell_type": "markdown",
      "metadata": {
        "id": "EszZedIye751"
      },
      "source": [
        "## Numeric Python (NumPy)\n",
        "\n",
        "NumPy is an open-source add-on module to Python that provides common mathematical and numerical routines in pre-compiled, fast functions. These are growing into highly mature packages that provide functionalities that meets that\n",
        "associated with common commercial software like [MATLAB](https://www.mathworks.com/). The [NumPy](http://www.numpy.org/) (Numeric Python) package provides basic routines for manipulating large arrays and matrices of numerical data. With NumPy we will be working with *homogeneous multidimensional array* or, simply, **NumPy arrays**.\n",
        "\n",
        "We will now explore some capabilities of NumPy that will prove very useful not only for data analyisis, but for almost any Python application."
      ]
    },
    {
      "cell_type": "markdown",
      "metadata": {
        "id": "Sgy5vYMFe752"
      },
      "source": [
        "### Creating Arrays\n",
        "\n",
        "As mentioned before, the main object in NumPy is the *array*. Creating one is as easy as calling the command `array`"
      ]
    },
    {
      "cell_type": "code",
      "metadata": {
        "id": "JCJrbnJoe752",
        "outputId": "82394ec0-ffb0-4f47-8c2d-25bdba550c61",
        "colab": {
          "base_uri": "https://localhost:8080/"
        }
      },
      "source": [
        "# Create a list\n",
        "mylist = [1, 2, 3, 4, 5, 6, 7, 8, 9]\n",
        "\n",
        "# Create a numpy array from a list\n",
        "my1darr = np.array(mylist)\n",
        "\n",
        "# Data type of a numpy array\n",
        "print(type(my1darr))\n",
        "\n",
        "my1darr"
      ],
      "execution_count": 2,
      "outputs": [
        {
          "output_type": "stream",
          "name": "stdout",
          "text": [
            "<class 'numpy.ndarray'>\n"
          ]
        },
        {
          "output_type": "execute_result",
          "data": {
            "text/plain": [
              "array([1, 2, 3, 4, 5, 6, 7, 8, 9])"
            ]
          },
          "metadata": {},
          "execution_count": 2
        }
      ]
    },
    {
      "cell_type": "markdown",
      "metadata": {
        "id": "kE8Kv6WWe753"
      },
      "source": [
        "The same applies to multidimensional arrays"
      ]
    },
    {
      "cell_type": "code",
      "metadata": {
        "id": "7ARNZR_me753",
        "outputId": "5a661654-df1a-488f-81dd-4d0bfa6689ed",
        "colab": {
          "base_uri": "https://localhost:8080/"
        }
      },
      "source": [
        "# Create a numpy array with three elemets, with three elements each.\n",
        "my2darr = np.array([[1, 2, 3], [4, 5, 6], [7, 8, 9]])\n",
        "my2darr"
      ],
      "execution_count": 3,
      "outputs": [
        {
          "output_type": "execute_result",
          "data": {
            "text/plain": [
              "array([[1, 2, 3],\n",
              "       [4, 5, 6],\n",
              "       [7, 8, 9]])"
            ]
          },
          "metadata": {},
          "execution_count": 3
        }
      ]
    },
    {
      "cell_type": "code",
      "metadata": {
        "id": "gFq7T_AYe754",
        "outputId": "30fb00a6-2779-4ebf-bd27-6fdd0b175ec3",
        "colab": {
          "base_uri": "https://localhost:8080/"
        }
      },
      "source": [
        "# Create a numpy array with three elemets, with three elements each, with a single element each\n",
        "my3darr = np.array([  [[1], [2], [3]], [[4], [5], [6]], [[7], [8], [9]]  ])\n",
        "my3darr"
      ],
      "execution_count": 4,
      "outputs": [
        {
          "output_type": "execute_result",
          "data": {
            "text/plain": [
              "array([[[1],\n",
              "        [2],\n",
              "        [3]],\n",
              "\n",
              "       [[4],\n",
              "        [5],\n",
              "        [6]],\n",
              "\n",
              "       [[7],\n",
              "        [8],\n",
              "        [9]]])"
            ]
          },
          "metadata": {},
          "execution_count": 4
        }
      ]
    },
    {
      "cell_type": "markdown",
      "metadata": {
        "id": "WjOC0xlge755"
      },
      "source": [
        "A NumPy array has a number of dimensions (or *axes*). To obtain the number of axes and the size of each of them you use the command `shape`. For 2-dimensional arrays (matrices), the order corresponds to (rows, columns)\n",
        "\n",
        "There are two different ways of calling the `shape` command, either with `np.shape(arr)` or `arr.shape`. This is not the only command that works in both formats, and we will be finding some more in our way."
      ]
    },
    {
      "cell_type": "code",
      "metadata": {
        "id": "3RCrb7xFe756",
        "outputId": "b8a69852-48f3-4099-ca28-a7e1c86ceef8",
        "colab": {
          "base_uri": "https://localhost:8080/"
        }
      },
      "source": [
        "# Shape using `.shape`\n",
        "print(my1darr.shape)\n",
        "print(my2darr.shape)\n",
        "print(my3darr.shape)\n",
        "\n",
        "# Shape using `np.shape()`\n",
        "print(np.shape(my1darr))\n",
        "print(np.shape(my2darr))\n",
        "print(np.shape(my3darr))"
      ],
      "execution_count": 5,
      "outputs": [
        {
          "output_type": "stream",
          "name": "stdout",
          "text": [
            "(9,)\n",
            "(3, 3)\n",
            "(3, 3, 1)\n",
            "(9,)\n",
            "(3, 3)\n",
            "(3, 3, 1)\n"
          ]
        }
      ]
    },
    {
      "cell_type": "markdown",
      "metadata": {
        "id": "T9mvYKVQe756"
      },
      "source": [
        "There is one restriction with respect to the use of lists: while we can make lists containing any kind of data, all the data in a numpy array must be of the same type, and it is converted automatically."
      ]
    },
    {
      "cell_type": "code",
      "metadata": {
        "id": "xxVbOcAYe756",
        "outputId": "155c5728-06ea-4d86-b34f-e5a08daccb8e",
        "colab": {
          "base_uri": "https://localhost:8080/"
        }
      },
      "source": [
        "# Create a list with floats and strings\n",
        "lst = [1., 'cat']\n",
        "print(lst)\n",
        "\n",
        "# Create a numpy array from a list with mixed data types\n",
        "arr = np.array(lst)\n",
        "print(arr)\n",
        "\n",
        "# The data type of the 1. in the list is the same data type than the 1. in the array?\n",
        "print(f\"Type list = type array? {((lst[0])) == type((arr[0]))}\")\n",
        "print(f\"Type list: {type(lst[0])}\")\n",
        "print(f\"Type array: {type(arr[0])}\")"
      ],
      "execution_count": 6,
      "outputs": [
        {
          "output_type": "stream",
          "name": "stdout",
          "text": [
            "[1.0, 'cat']\n",
            "['1.0' 'cat']\n",
            "Type list = type array? False\n",
            "Type list: <class 'float'>\n",
            "Type array: <class 'numpy.str_'>\n"
          ]
        }
      ]
    },
    {
      "cell_type": "markdown",
      "metadata": {
        "id": "PeBhkkbBe757"
      },
      "source": [
        "### Special Arrays\n",
        "\n",
        "There are some functionalities that allow us to create arrays filled with determined values. `ones` and `zeros` provide arrays of the given shape and type (default is float64), filled with ones or zeros, respectively."
      ]
    },
    {
      "cell_type": "code",
      "metadata": {
        "id": "Gn8GXq4se757",
        "outputId": "c166cb45-ed02-49a3-a3d9-fc0960892f13",
        "colab": {
          "base_uri": "https://localhost:8080/"
        }
      },
      "source": [
        "# Create a zero-filled numpy array of shape 3 x 2\n",
        "np.zeros((3, 2))"
      ],
      "execution_count": 7,
      "outputs": [
        {
          "output_type": "execute_result",
          "data": {
            "text/plain": [
              "array([[0., 0.],\n",
              "       [0., 0.],\n",
              "       [0., 0.]])"
            ]
          },
          "metadata": {},
          "execution_count": 7
        }
      ]
    },
    {
      "cell_type": "code",
      "metadata": {
        "id": "_0tqDheme758",
        "outputId": "b25bca0b-7264-491f-f604-398a1c2ce46d",
        "colab": {
          "base_uri": "https://localhost:8080/"
        }
      },
      "source": [
        "# Create a one-filled numpy array of shape 3 x 2 x 4\n",
        "np.ones((3, 2, 4), dtype=np.int8)"
      ],
      "execution_count": 8,
      "outputs": [
        {
          "output_type": "execute_result",
          "data": {
            "text/plain": [
              "array([[[1, 1, 1, 1],\n",
              "        [1, 1, 1, 1]],\n",
              "\n",
              "       [[1, 1, 1, 1],\n",
              "        [1, 1, 1, 1]],\n",
              "\n",
              "       [[1, 1, 1, 1],\n",
              "        [1, 1, 1, 1]]], dtype=int8)"
            ]
          },
          "metadata": {},
          "execution_count": 8
        }
      ]
    },
    {
      "cell_type": "markdown",
      "metadata": {
        "id": "mWB_xQJRe758"
      },
      "source": [
        "`eye(d)` returns a 2-D array, of size $d$ with ones in the diagonal and zeros elsewhere. It's an identity matrix."
      ]
    },
    {
      "cell_type": "code",
      "metadata": {
        "id": "BoMamZ4Ne758",
        "outputId": "47b8fd0d-a55c-429a-b829-11c4b942b527",
        "colab": {
          "base_uri": "https://localhost:8080/"
        }
      },
      "source": [
        "# Create an numpy array of shape 3 x 3 with ones in the diagonal\n",
        "np.eye(3)"
      ],
      "execution_count": 9,
      "outputs": [
        {
          "output_type": "execute_result",
          "data": {
            "text/plain": [
              "array([[1., 0., 0.],\n",
              "       [0., 1., 0.],\n",
              "       [0., 0., 1.]])"
            ]
          },
          "metadata": {},
          "execution_count": 9
        }
      ]
    },
    {
      "cell_type": "markdown",
      "metadata": {
        "id": "bnS3oxwBe758"
      },
      "source": [
        "`eye` can also make arrays with ones in upper and lower diagonals. To achieve this, you must call `eye(d, d, k)` where $k$ denotes the diagonal (positive for above the center diagonal, negative for below), or `eye(d, k=num)`"
      ]
    },
    {
      "cell_type": "code",
      "metadata": {
        "id": "HKd4xhfze759",
        "outputId": "c9bb1144-ed57-47d2-d093-5eb8afdf58d8",
        "colab": {
          "base_uri": "https://localhost:8080/"
        }
      },
      "source": [
        "# Create an numpy array of shape 5 x 5 with ones in the diagonal shifted-up 2 positions\n",
        "print(np.eye(5, 5, 2))\n",
        "print('\\n')\n",
        "\n",
        "# Create an numpy array of shape 4 x 4 with ones in the diagonal shifted-down 1 position\n",
        "print(np.eye(4, k=-1))"
      ],
      "execution_count": 10,
      "outputs": [
        {
          "output_type": "stream",
          "name": "stdout",
          "text": [
            "[[0. 0. 1. 0. 0.]\n",
            " [0. 0. 0. 1. 0.]\n",
            " [0. 0. 0. 0. 1.]\n",
            " [0. 0. 0. 0. 0.]\n",
            " [0. 0. 0. 0. 0.]]\n",
            "\n",
            "\n",
            "[[0. 0. 0. 0.]\n",
            " [1. 0. 0. 0.]\n",
            " [0. 1. 0. 0.]\n",
            " [0. 0. 1. 0.]]\n"
          ]
        }
      ]
    },
    {
      "cell_type": "markdown",
      "metadata": {
        "id": "lr-y04mAe759"
      },
      "source": [
        "`diag`, depending on the input, either constructs a diagonal array (if the input is a 1-D array) or extracts a diagonal from a matrix (if the input is a 2-D array)."
      ]
    },
    {
      "cell_type": "code",
      "metadata": {
        "id": "k5g-9XNZe75-",
        "outputId": "fec08955-e20b-4b60-bcef-196de19acd1b",
        "colab": {
          "base_uri": "https://localhost:8080/"
        }
      },
      "source": [
        "# Create a 2-D array with the array `my1darr` shifted-up 1 position with respect the diagonal \n",
        "np.diag(my1darr, 1)"
      ],
      "execution_count": 11,
      "outputs": [
        {
          "output_type": "execute_result",
          "data": {
            "text/plain": [
              "array([[0, 1, 0, 0, 0, 0, 0, 0, 0, 0],\n",
              "       [0, 0, 2, 0, 0, 0, 0, 0, 0, 0],\n",
              "       [0, 0, 0, 3, 0, 0, 0, 0, 0, 0],\n",
              "       [0, 0, 0, 0, 4, 0, 0, 0, 0, 0],\n",
              "       [0, 0, 0, 0, 0, 5, 0, 0, 0, 0],\n",
              "       [0, 0, 0, 0, 0, 0, 6, 0, 0, 0],\n",
              "       [0, 0, 0, 0, 0, 0, 0, 7, 0, 0],\n",
              "       [0, 0, 0, 0, 0, 0, 0, 0, 8, 0],\n",
              "       [0, 0, 0, 0, 0, 0, 0, 0, 0, 9],\n",
              "       [0, 0, 0, 0, 0, 0, 0, 0, 0, 0]])"
            ]
          },
          "metadata": {},
          "execution_count": 11
        }
      ]
    },
    {
      "cell_type": "code",
      "metadata": {
        "id": "ry51T2w1e75-",
        "outputId": "e5b0dced-e04b-498d-b886-99dc4ae5303c",
        "colab": {
          "base_uri": "https://localhost:8080/"
        }
      },
      "source": [
        "# The the diagonal from the 2-D array `my2darr`\n",
        "np.diag(my2darr)"
      ],
      "execution_count": 12,
      "outputs": [
        {
          "output_type": "execute_result",
          "data": {
            "text/plain": [
              "array([1, 5, 9])"
            ]
          },
          "metadata": {},
          "execution_count": 12
        }
      ]
    },
    {
      "cell_type": "code",
      "metadata": {
        "id": "GcWhE8RTe75-",
        "outputId": "a2e9a275-922b-4743-f60f-05d69d7206a8",
        "colab": {
          "base_uri": "https://localhost:8080/"
        }
      },
      "source": [
        "# Create a 2-D array with the diagonal from the 2-D array `my2darr` shifted-down 1 position with respect the diagonal \n",
        "np.diag(np.diag(my2darr), -1)"
      ],
      "execution_count": 13,
      "outputs": [
        {
          "output_type": "execute_result",
          "data": {
            "text/plain": [
              "array([[0, 0, 0, 0],\n",
              "       [1, 0, 0, 0],\n",
              "       [0, 5, 0, 0],\n",
              "       [0, 0, 9, 0]])"
            ]
          },
          "metadata": {},
          "execution_count": 13
        }
      ]
    },
    {
      "cell_type": "markdown",
      "metadata": {
        "id": "ysMwQLqBe75-"
      },
      "source": [
        "`arange(begin, end, step)` returns evenly spaced values within a given interval. Note that the beginning point is included, but not the ending."
      ]
    },
    {
      "cell_type": "code",
      "metadata": {
        "id": "Wv748BI8e75-",
        "outputId": "ff735232-28e4-4024-fd53-17667f79cc0e",
        "colab": {
          "base_uri": "https://localhost:8080/"
        }
      },
      "source": [
        "# Create range with start at 0, stop before 16\n",
        "myrange = np.arange(0, 16)\n",
        "myrange"
      ],
      "execution_count": 14,
      "outputs": [
        {
          "output_type": "execute_result",
          "data": {
            "text/plain": [
              "array([ 0,  1,  2,  3,  4,  5,  6,  7,  8,  9, 10, 11, 12, 13, 14, 15])"
            ]
          },
          "metadata": {},
          "execution_count": 14
        }
      ]
    },
    {
      "cell_type": "markdown",
      "metadata": {
        "id": "AscgRd_oe75_"
      },
      "source": [
        "**Exercise 1**: Create an array of the first million of odd numbers, both with `arange` and using loops. Try timing both methods to see which one is faster. Use the magic command `%timeit`"
      ]
    },
    {
      "cell_type": "code",
      "metadata": {
        "id": "wEGJb1hie75_",
        "outputId": "9cda42e6-4702-42ff-8907-b1ae9e2b5dbb",
        "colab": {
          "base_uri": "https://localhost:8080/"
        }
      },
      "source": [
        "%timeit np.arange(0, 2000000, 2)\n",
        "\n",
        "%timeit [i for i in range(2000000) if i % 2 == 0]"
      ],
      "execution_count": 15,
      "outputs": [
        {
          "output_type": "stream",
          "name": "stdout",
          "text": [
            "697 µs ± 63.2 µs per loop (mean ± std. dev. of 7 runs, 1000 loops each)\n",
            "337 ms ± 57.6 ms per loop (mean ± std. dev. of 7 runs, 1 loop each)\n"
          ]
        }
      ]
    },
    {
      "cell_type": "markdown",
      "metadata": {
        "id": "yRa9eYF_e75_"
      },
      "source": [
        "Similarly, `linspace(begin, end, points)` returns evenly spaced numbers over a specified interval. Here, instead of specifying the step, we provide the amount of points that we need. Beware that `linspace` includes the end of the interval!"
      ]
    },
    {
      "cell_type": "code",
      "metadata": {
        "id": "YjZ-lyEle75_",
        "outputId": "271ef7ea-1728-456f-9761-65465e1b925e",
        "colab": {
          "base_uri": "https://localhost:8080/"
        }
      },
      "source": [
        "# Create line with start at 0, stop at 14, with 8 evenly spaced points\n",
        "myline = np.linspace(0, 14, 8) # \n",
        "myline"
      ],
      "execution_count": 16,
      "outputs": [
        {
          "output_type": "execute_result",
          "data": {
            "text/plain": [
              "array([ 0.,  2.,  4.,  6.,  8., 10., 12., 14.])"
            ]
          },
          "metadata": {},
          "execution_count": 16
        }
      ]
    },
    {
      "cell_type": "markdown",
      "metadata": {
        "id": "Lu0eeQNEe75_"
      },
      "source": [
        "`reshape` changes the shape of an array, but not its data. This is another of the commands that can be called before or after the array."
      ]
    },
    {
      "cell_type": "code",
      "metadata": {
        "id": "Mow776Hie75_",
        "outputId": "5e72790d-0471-4c82-f683-5a99cfedf6fa",
        "colab": {
          "base_uri": "https://localhost:8080/"
        }
      },
      "source": [
        "# Reshape `myrange` using `np.reshape()`\n",
        "print(np.reshape(myline, (2, 4)))\n",
        "\n",
        "print('\\n')\n",
        "\n",
        "# Reshape `myrange` using `.reshape()`\n",
        "print(myline.reshape(4, 2))"
      ],
      "execution_count": 17,
      "outputs": [
        {
          "output_type": "stream",
          "name": "stdout",
          "text": [
            "[[ 0.  2.  4.  6.]\n",
            " [ 8. 10. 12. 14.]]\n",
            "\n",
            "\n",
            "[[ 0.  2.]\n",
            " [ 4.  6.]\n",
            " [ 8. 10.]\n",
            " [12. 14.]]\n"
          ]
        }
      ]
    },
    {
      "cell_type": "markdown",
      "metadata": {
        "id": "MLD7dllwe75_"
      },
      "source": [
        "Note that, however, this only provides a copy of the array. In order for them to be permanent we need to reasign the variable value."
      ]
    },
    {
      "cell_type": "code",
      "metadata": {
        "id": "v1tqeUFYe76A",
        "outputId": "ab1c6362-c593-43c7-acc5-154e83186a89",
        "colab": {
          "base_uri": "https://localhost:8080/"
        }
      },
      "source": [
        "# After the reshapings above, the original array stays being the same\n",
        "myline  "
      ],
      "execution_count": 18,
      "outputs": [
        {
          "output_type": "execute_result",
          "data": {
            "text/plain": [
              "array([ 0.,  2.,  4.,  6.,  8., 10., 12., 14.])"
            ]
          },
          "metadata": {},
          "execution_count": 18
        }
      ]
    },
    {
      "cell_type": "code",
      "metadata": {
        "id": "SwORozYEe76A",
        "outputId": "fce6237a-779b-4034-a8f2-7f5012083f68",
        "colab": {
          "base_uri": "https://localhost:8080/"
        }
      },
      "source": [
        "new_line = myline.reshape(2, 4)\n",
        "new_line"
      ],
      "execution_count": 19,
      "outputs": [
        {
          "output_type": "execute_result",
          "data": {
            "text/plain": [
              "array([[ 0.,  2.,  4.,  6.],\n",
              "       [ 8., 10., 12., 14.]])"
            ]
          },
          "metadata": {},
          "execution_count": 19
        }
      ]
    },
    {
      "cell_type": "markdown",
      "metadata": {
        "id": "4mXQgMHUe76A"
      },
      "source": [
        "### Combining Arrays\n",
        "\n",
        "The most general command for combining arrays is `concatenate(arrs, d)`. It takes a list of arrays and concatenates them along axis $d$. Remember your 3-D array:"
      ]
    },
    {
      "cell_type": "code",
      "metadata": {
        "id": "B4l13fMie76A",
        "outputId": "67c84b4f-f6b7-4441-875c-d942df24bfb8",
        "colab": {
          "base_uri": "https://localhost:8080/"
        }
      },
      "source": [
        "# Remember the `my2darr` 2-D numpy array\n",
        "print(my2darr)\n",
        "print(my2darr.shape)"
      ],
      "execution_count": 20,
      "outputs": [
        {
          "output_type": "stream",
          "name": "stdout",
          "text": [
            "[[1 2 3]\n",
            " [4 5 6]\n",
            " [7 8 9]]\n",
            "(3, 3)\n"
          ]
        }
      ]
    },
    {
      "cell_type": "code",
      "metadata": {
        "id": "XOdbaQoKe76A",
        "outputId": "f872f167-6641-41c5-c81c-63d7fc4ac818",
        "colab": {
          "base_uri": "https://localhost:8080/"
        }
      },
      "source": [
        "# Concatenate `my2darr` with itsef multiplied by 10 along dimension 0\n",
        "conc_along0 = np.concatenate([my2darr, 10*my2darr], 0)\n",
        "print(conc_along0)\n",
        "print(conc_along0.shape)"
      ],
      "execution_count": 21,
      "outputs": [
        {
          "output_type": "stream",
          "name": "stdout",
          "text": [
            "[[ 1  2  3]\n",
            " [ 4  5  6]\n",
            " [ 7  8  9]\n",
            " [10 20 30]\n",
            " [40 50 60]\n",
            " [70 80 90]]\n",
            "(6, 3)\n"
          ]
        }
      ]
    },
    {
      "cell_type": "code",
      "metadata": {
        "id": "e2WN-lpSe76A",
        "outputId": "7a8b2b5f-5068-4092-9c3a-8ebd656a8468",
        "colab": {
          "base_uri": "https://localhost:8080/"
        }
      },
      "source": [
        "# Concatenate `my2darr` with itsef multiplied by 10 along dimension 1\n",
        "conc_along1 = np.concatenate([my2darr, 10*my2darr], 1)\n",
        "print(conc_along1)\n",
        "print(conc_along1.shape)"
      ],
      "execution_count": 22,
      "outputs": [
        {
          "output_type": "stream",
          "name": "stdout",
          "text": [
            "[[ 1  2  3 10 20 30]\n",
            " [ 4  5  6 40 50 60]\n",
            " [ 7  8  9 70 80 90]]\n",
            "(3, 6)\n"
          ]
        }
      ]
    },
    {
      "cell_type": "markdown",
      "metadata": {
        "id": "AiX3vFQoe76A"
      },
      "source": [
        "However, for common combinations there are special commands. We can use `vstack` to stack arrays in sequence vertically (row wise) or `hstack` to stack arrays in sequence horizontally (column wise)."
      ]
    },
    {
      "cell_type": "code",
      "metadata": {
        "id": "lfIS45vJe76A",
        "outputId": "b3d609e6-edfb-4c73-bd4b-3a20315fa6e0",
        "colab": {
          "base_uri": "https://localhost:8080/"
        }
      },
      "source": [
        "# Stack `my2darr` vertically and horizontally\n",
        "print(np.vstack([my2darr, 10 * my2darr]))\n",
        "print('\\n')\n",
        "print(np.hstack([my2darr, 10 * my2darr]))"
      ],
      "execution_count": 23,
      "outputs": [
        {
          "output_type": "stream",
          "name": "stdout",
          "text": [
            "[[ 1  2  3]\n",
            " [ 4  5  6]\n",
            " [ 7  8  9]\n",
            " [10 20 30]\n",
            " [40 50 60]\n",
            " [70 80 90]]\n",
            "\n",
            "\n",
            "[[ 1  2  3 10 20 30]\n",
            " [ 4  5  6 40 50 60]\n",
            " [ 7  8  9 70 80 90]]\n"
          ]
        }
      ]
    },
    {
      "cell_type": "markdown",
      "metadata": {
        "id": "vKEFoQ6ke76B"
      },
      "source": [
        "### Operations\n",
        "\n",
        "We can perform element-wise operations on arrays of any shape."
      ]
    },
    {
      "cell_type": "code",
      "metadata": {
        "id": "enZADVaVe76B"
      },
      "source": [
        "x_list = [1, 2, 3]"
      ],
      "execution_count": 24,
      "outputs": []
    },
    {
      "cell_type": "code",
      "metadata": {
        "id": "vpQ_NfFJe76B",
        "outputId": "434ddf6b-a8db-42a0-a286-feea57996f17",
        "colab": {
          "base_uri": "https://localhost:8080/"
        }
      },
      "source": [
        "x = np.array([1, 2, 3])\n",
        "\n",
        "print(x + 10)\n",
        "print(3 * x)\n",
        "print(1 / x)\n",
        "print(x ** (-2 / 3))\n",
        "print(2 ** x)"
      ],
      "execution_count": 25,
      "outputs": [
        {
          "output_type": "stream",
          "name": "stdout",
          "text": [
            "[11 12 13]\n",
            "[3 6 9]\n",
            "[1.         0.5        0.33333333]\n",
            "[1.         0.62996052 0.48074986]\n",
            "[2 4 8]\n"
          ]
        }
      ]
    },
    {
      "cell_type": "markdown",
      "metadata": {
        "id": "_VCVQGCae76B"
      },
      "source": [
        "We can also operate between arrays, which must be of the same shape. If this is the case, they also do element-wise operations"
      ]
    },
    {
      "cell_type": "code",
      "metadata": {
        "id": "3RVbwFS2e76B",
        "outputId": "77df7c01-9d33-4232-ce4a-4314477aaa67",
        "colab": {
          "base_uri": "https://localhost:8080/"
        }
      },
      "source": [
        "y = np.arange(4, 7, 1)\n",
        "print(x + y)     # [1+4, 2+5, 3+6]\n",
        "print(x * y)     # [1*4, 2*5, 3*6]\n",
        "print(x / y)     # [1/4, 2/5, 3/6]\n",
        "print(x ** y)    # [1**4, 2**5, 3**6]"
      ],
      "execution_count": 26,
      "outputs": [
        {
          "output_type": "stream",
          "name": "stdout",
          "text": [
            "[5 7 9]\n",
            "[ 4 10 18]\n",
            "[0.25 0.4  0.5 ]\n",
            "[  1  32 729]\n"
          ]
        }
      ]
    },
    {
      "cell_type": "markdown",
      "metadata": {
        "id": "iq_ItBgCe76B"
      },
      "source": [
        "For doing vector or matrix multiplication, the command to be used is `dot`"
      ]
    },
    {
      "cell_type": "code",
      "metadata": {
        "id": "rlAHTYMye76B",
        "outputId": "c4c8a67f-dc66-4363-8155-bcf1f91c2124",
        "colab": {
          "base_uri": "https://localhost:8080/"
        }
      },
      "source": [
        "print(x)\n",
        "print(y)\n",
        "x.dot(y)  # 1*4 + 2*5 + 3*6"
      ],
      "execution_count": 27,
      "outputs": [
        {
          "output_type": "stream",
          "name": "stdout",
          "text": [
            "[1 2 3]\n",
            "[4 5 6]\n"
          ]
        },
        {
          "output_type": "execute_result",
          "data": {
            "text/plain": [
              "32"
            ]
          },
          "metadata": {},
          "execution_count": 27
        }
      ]
    },
    {
      "cell_type": "markdown",
      "metadata": {
        "id": "k_bjejqPe76C"
      },
      "source": [
        "With python 3.5 matrix multiplication got it's own operator"
      ]
    },
    {
      "cell_type": "code",
      "metadata": {
        "id": "pIjqTp1be76C",
        "outputId": "39318b0c-4aa9-459c-87be-365db567400b",
        "colab": {
          "base_uri": "https://localhost:8080/"
        }
      },
      "source": [
        "x @ y  # x.dot(y)"
      ],
      "execution_count": 28,
      "outputs": [
        {
          "output_type": "execute_result",
          "data": {
            "text/plain": [
              "32"
            ]
          },
          "metadata": {},
          "execution_count": 28
        }
      ]
    },
    {
      "cell_type": "code",
      "metadata": {
        "id": "Plj2liSee76C",
        "outputId": "b06e4cc0-e447-41d5-8c42-089e69e98873",
        "colab": {
          "base_uri": "https://localhost:8080/"
        }
      },
      "source": [
        "X = np.array([[i + j for i in range(3, 6)] for j in range(3)])\n",
        "Y = np.diag([1, 1], 1) + np.diag([1], -2)\n",
        "\n",
        "print(X)\n",
        "print('\\n')\n",
        "print(Y)"
      ],
      "execution_count": 29,
      "outputs": [
        {
          "output_type": "stream",
          "name": "stdout",
          "text": [
            "[[3 4 5]\n",
            " [4 5 6]\n",
            " [5 6 7]]\n",
            "\n",
            "\n",
            "[[0 1 0]\n",
            " [0 0 1]\n",
            " [1 0 0]]\n"
          ]
        }
      ]
    },
    {
      "cell_type": "markdown",
      "metadata": {
        "id": "SYqHTg75e76C"
      },
      "source": [
        "The operator `*` returns the elements-wise multiplication of arrays with the same shape."
      ]
    },
    {
      "cell_type": "code",
      "metadata": {
        "id": "_AfWjlTve76C",
        "outputId": "2fc11b27-d950-470b-e6dd-367ffcac5b64",
        "colab": {
          "base_uri": "https://localhost:8080/"
        }
      },
      "source": [
        "X * Y"
      ],
      "execution_count": 30,
      "outputs": [
        {
          "output_type": "execute_result",
          "data": {
            "text/plain": [
              "array([[0, 4, 0],\n",
              "       [0, 0, 6],\n",
              "       [5, 0, 0]])"
            ]
          },
          "metadata": {},
          "execution_count": 30
        }
      ]
    },
    {
      "cell_type": "markdown",
      "metadata": {
        "id": "WoMd7msae76C"
      },
      "source": [
        "The operator `@` returns the matrix product of arrays with compatible shapes."
      ]
    },
    {
      "cell_type": "code",
      "metadata": {
        "id": "q4dg0Cbee76C",
        "outputId": "abfeb3ff-1e89-4c22-d5bd-e80f5ef91403",
        "colab": {
          "base_uri": "https://localhost:8080/"
        }
      },
      "source": [
        "X @ Y"
      ],
      "execution_count": 31,
      "outputs": [
        {
          "output_type": "execute_result",
          "data": {
            "text/plain": [
              "array([[5, 3, 4],\n",
              "       [6, 4, 5],\n",
              "       [7, 5, 6]])"
            ]
          },
          "metadata": {},
          "execution_count": 31
        }
      ]
    },
    {
      "cell_type": "markdown",
      "metadata": {
        "id": "e-s4fUt3e76C"
      },
      "source": [
        "**Exercise 2**: Take a 10x2 matrix representing $(x1,x2)$ coordinates and transform them into polar coordinates $(r,\\theta)$.\n",
        "\n",
        "*Hint 1: the inverse transformation is given by $x1 = r\\cos\\theta$, $x2 = r\\sin\\theta$*\n",
        "\n",
        "*Hint 2: generate random numbers with the functions in numpy.random*"
      ]
    },
    {
      "cell_type": "code",
      "metadata": {
        "id": "DinGN-nce76C",
        "outputId": "0692f536-d97e-46b6-9786-06a61407e2bb",
        "colab": {
          "base_uri": "https://localhost:8080/"
        }
      },
      "source": [
        "z = np.random.random((10, 2))\n",
        "x1, x2 = z[:, 0], z[:, 1]\n",
        "R = np.sqrt(x1 ** 2 + x2 ** 2)\n",
        "T = np.arctan2(x2, x1)\n",
        "print(R)\n",
        "print(T)"
      ],
      "execution_count": 32,
      "outputs": [
        {
          "output_type": "stream",
          "name": "stdout",
          "text": [
            "[1.10725958 0.90629832 0.40956298 0.38194936 0.64503517 1.02683557\n",
            " 0.89753381 1.02956203 0.34371282 0.97706481]\n",
            "[0.50963416 0.32278992 0.27438299 0.30006334 1.41533726 0.40795643\n",
            " 1.27878538 0.25391697 0.47221167 0.28332112]\n"
          ]
        }
      ]
    },
    {
      "cell_type": "markdown",
      "metadata": {
        "id": "GBJqGo0pe76D"
      },
      "source": [
        "#### Transposing\n",
        "\n",
        "Transposition is a very important operation for linear algebra. Although NumPy is capable of correctly doing matrix-vector products regardless of the orientation of the vector, it is not the case for products of matrices."
      ]
    },
    {
      "cell_type": "code",
      "metadata": {
        "id": "9M7y6g4qe76D"
      },
      "source": [
        "Z = np.arange(0, 12, 1).reshape((4, 3))"
      ],
      "execution_count": 33,
      "outputs": []
    },
    {
      "cell_type": "code",
      "metadata": {
        "id": "-OLaeVMye76D",
        "outputId": "8a5cc2a8-3e9b-405f-eca6-5471b57d2c31",
        "colab": {
          "base_uri": "https://localhost:8080/"
        }
      },
      "source": [
        "print(Z)\n",
        "print(y)\n",
        "Z @ y"
      ],
      "execution_count": 34,
      "outputs": [
        {
          "output_type": "stream",
          "name": "stdout",
          "text": [
            "[[ 0  1  2]\n",
            " [ 3  4  5]\n",
            " [ 6  7  8]\n",
            " [ 9 10 11]]\n",
            "[4 5 6]\n"
          ]
        },
        {
          "output_type": "execute_result",
          "data": {
            "text/plain": [
              "array([ 17,  62, 107, 152])"
            ]
          },
          "metadata": {},
          "execution_count": 34
        }
      ]
    },
    {
      "cell_type": "code",
      "metadata": {
        "id": "PeEo_G-Se76D",
        "outputId": "24a9142c-db5e-4a69-eaf6-77a9c910619b",
        "colab": {
          "base_uri": "https://localhost:8080/"
        }
      },
      "source": [
        "print(Z)\n",
        "print(y.T)\n",
        "Z @ y.T"
      ],
      "execution_count": 35,
      "outputs": [
        {
          "output_type": "stream",
          "name": "stdout",
          "text": [
            "[[ 0  1  2]\n",
            " [ 3  4  5]\n",
            " [ 6  7  8]\n",
            " [ 9 10 11]]\n",
            "[4 5 6]\n"
          ]
        },
        {
          "output_type": "execute_result",
          "data": {
            "text/plain": [
              "array([ 17,  62, 107, 152])"
            ]
          },
          "metadata": {},
          "execution_count": 35
        }
      ]
    },
    {
      "cell_type": "code",
      "metadata": {
        "id": "PyPIzu0Pe76D",
        "outputId": "1408fbaa-7806-4b8f-9bb8-2434221ae17f",
        "colab": {
          "base_uri": "https://localhost:8080/"
        }
      },
      "source": [
        "print(Z)\n",
        "print(X)\n",
        "Z @ X  # (4 x 3) @ (3 x 3 cols) yields (4 x 3)"
      ],
      "execution_count": 36,
      "outputs": [
        {
          "output_type": "stream",
          "name": "stdout",
          "text": [
            "[[ 0  1  2]\n",
            " [ 3  4  5]\n",
            " [ 6  7  8]\n",
            " [ 9 10 11]]\n",
            "[[3 4 5]\n",
            " [4 5 6]\n",
            " [5 6 7]]\n"
          ]
        },
        {
          "output_type": "execute_result",
          "data": {
            "text/plain": [
              "array([[ 14,  17,  20],\n",
              "       [ 50,  62,  74],\n",
              "       [ 86, 107, 128],\n",
              "       [122, 152, 182]])"
            ]
          },
          "metadata": {},
          "execution_count": 36
        }
      ]
    },
    {
      "cell_type": "code",
      "metadata": {
        "id": "vbkioIufe76D",
        "outputId": "cf864ac8-8b0f-4a2c-fe5a-01d73dd2a3de",
        "colab": {
          "base_uri": "https://localhost:8080/",
          "height": 329
        }
      },
      "source": [
        "print(Z.T)\n",
        "print(X)\n",
        "Z.T @ X  # (3 x 4) @ (3 x 3) yields error"
      ],
      "execution_count": 37,
      "outputs": [
        {
          "output_type": "stream",
          "name": "stdout",
          "text": [
            "[[ 0  3  6  9]\n",
            " [ 1  4  7 10]\n",
            " [ 2  5  8 11]]\n",
            "[[3 4 5]\n",
            " [4 5 6]\n",
            " [5 6 7]]\n"
          ]
        },
        {
          "output_type": "error",
          "ename": "ValueError",
          "evalue": "ignored",
          "traceback": [
            "\u001b[0;31m---------------------------------------------------------------------------\u001b[0m",
            "\u001b[0;31mValueError\u001b[0m                                Traceback (most recent call last)",
            "\u001b[0;32m<ipython-input-37-c661270dbc21>\u001b[0m in \u001b[0;36m<module>\u001b[0;34m\u001b[0m\n\u001b[1;32m      1\u001b[0m \u001b[0mprint\u001b[0m\u001b[0;34m(\u001b[0m\u001b[0mZ\u001b[0m\u001b[0;34m.\u001b[0m\u001b[0mT\u001b[0m\u001b[0;34m)\u001b[0m\u001b[0;34m\u001b[0m\u001b[0;34m\u001b[0m\u001b[0m\n\u001b[1;32m      2\u001b[0m \u001b[0mprint\u001b[0m\u001b[0;34m(\u001b[0m\u001b[0mX\u001b[0m\u001b[0;34m)\u001b[0m\u001b[0;34m\u001b[0m\u001b[0;34m\u001b[0m\u001b[0m\n\u001b[0;32m----> 3\u001b[0;31m \u001b[0mZ\u001b[0m\u001b[0;34m.\u001b[0m\u001b[0mT\u001b[0m \u001b[0;34m@\u001b[0m \u001b[0mX\u001b[0m  \u001b[0;31m# (3 x 4) @ (3 x 3) yields error\u001b[0m\u001b[0;34m\u001b[0m\u001b[0;34m\u001b[0m\u001b[0m\n\u001b[0m",
            "\u001b[0;31mValueError\u001b[0m: matmul: Input operand 1 has a mismatch in its core dimension 0, with gufunc signature (n?,k),(k,m?)->(n?,m?) (size 3 is different from 4)"
          ]
        }
      ]
    },
    {
      "cell_type": "markdown",
      "metadata": {
        "id": "957z74Vee76D"
      },
      "source": [
        "#### Array Methods\n",
        "\n",
        "NumPy provides some functions to make operations with the elements of our arrays, similar to the list functionalities. In fact, NumPy provides more functionalities than standard Python."
      ]
    },
    {
      "cell_type": "code",
      "metadata": {
        "id": "aMHNYgoTe76D",
        "outputId": "8c954ab7-c5c6-4c94-9227-a23f8061c2b2",
        "colab": {
          "base_uri": "https://localhost:8080/"
        }
      },
      "source": [
        "a = np.array([-4, -2, 1, 3, 5])\n",
        "print(a.max())\n",
        "print(a.min())\n",
        "print(a.sum())\n",
        "print(a.mean())\n",
        "print(a.std())"
      ],
      "execution_count": 39,
      "outputs": [
        {
          "output_type": "stream",
          "name": "stdout",
          "text": [
            "5\n",
            "-4\n",
            "3\n",
            "0.6\n",
            "3.2619012860600183\n"
          ]
        }
      ]
    },
    {
      "cell_type": "markdown",
      "metadata": {
        "id": "Foch5FFTe76E"
      },
      "source": [
        "Some interesting functions are `argmax` and `argmin`, which return the index of the maximum and minimum values in the array."
      ]
    },
    {
      "cell_type": "code",
      "metadata": {
        "id": "Kiq66bwte76E",
        "outputId": "99e350d4-a980-46e0-84c4-55b69c029414",
        "colab": {
          "base_uri": "https://localhost:8080/"
        }
      },
      "source": [
        "print(a.argmax())\n",
        "print(a.argmin())"
      ],
      "execution_count": 40,
      "outputs": [
        {
          "output_type": "stream",
          "name": "stdout",
          "text": [
            "4\n",
            "0\n"
          ]
        }
      ]
    },
    {
      "cell_type": "markdown",
      "metadata": {
        "id": "G77gjfrse76E"
      },
      "source": [
        "### Indexing/Slicing\n",
        "\n",
        "We have already seen briefly that to access individual elements you use the bracket notation: `array[ax_0, ax_1, ...]`, where the `ax_i` denotes the coordinate in the `i`-th axis. Just like with lists, we can assign new values to existing elements."
      ]
    },
    {
      "cell_type": "code",
      "metadata": {
        "id": "V-sTc_85e76E",
        "outputId": "28fca002-2dde-4b6c-d4df-ce3e6e3249d7",
        "colab": {
          "base_uri": "https://localhost:8080/"
        }
      },
      "source": [
        "r = [4, 5, 6, 7]\n",
        "print(r[2])\n",
        "# Reassigning the value stored in index 0\n",
        "r[0] = 198\n",
        "r"
      ],
      "execution_count": 41,
      "outputs": [
        {
          "output_type": "stream",
          "name": "stdout",
          "text": [
            "6\n"
          ]
        },
        {
          "output_type": "execute_result",
          "data": {
            "text/plain": [
              "[198, 5, 6, 7]"
            ]
          },
          "metadata": {},
          "execution_count": 41
        }
      ]
    },
    {
      "cell_type": "markdown",
      "metadata": {
        "id": "ennc6NQ9e76E"
      },
      "source": [
        "We can slice within an index using `:`, just like we have seen in lists. A second `:` can be used to indicate the step size. `array[start:stop:stepsize]`. If we do not provide any `start` and `stop`, the selection will go from the very beginning until the end of the array."
      ]
    },
    {
      "cell_type": "code",
      "metadata": {
        "id": "gUm1BCkUe76E",
        "outputId": "b772876f-0f9d-499d-9634-6c7da39ce066",
        "colab": {
          "base_uri": "https://localhost:8080/"
        }
      },
      "source": [
        "s = np.arange(13)**2\n",
        "print(s)\n",
        "\n",
        "# Slice from 2 to 10\n",
        "print(s[3:10])\n",
        "\n",
        "# Starting by index 2, until index 10, take one every 3 elements \n",
        "print(s[2:10:3])\n",
        "\n",
        "# Starting by index -5, until the end, pick every 2 elements\n",
        "print(s[-5::2])\n",
        "\n",
        "# Starting by index -5, until the end, pick every 2 elements backwards\n",
        "print(s[-5::-2])"
      ],
      "execution_count": 42,
      "outputs": [
        {
          "output_type": "stream",
          "name": "stdout",
          "text": [
            "[  0   1   4   9  16  25  36  49  64  81 100 121 144]\n",
            "[ 9 16 25 36 49 64 81]\n",
            "[ 4 25 64]\n",
            "[ 64 100 144]\n",
            "[64 36 16  4  0]\n"
          ]
        }
      ]
    },
    {
      "cell_type": "markdown",
      "metadata": {
        "id": "h2tcvbwBe76E"
      },
      "source": [
        "The same applies to higher-dimensional arrays for every axis they have."
      ]
    },
    {
      "cell_type": "code",
      "metadata": {
        "id": "IhyoFupDe76E",
        "outputId": "14aa266f-2111-43d1-eeba-c0d8beeed8bc",
        "colab": {
          "base_uri": "https://localhost:8080/"
        }
      },
      "source": [
        "r = np.arange(36).reshape((6, 6))\n",
        "r"
      ],
      "execution_count": 43,
      "outputs": [
        {
          "output_type": "execute_result",
          "data": {
            "text/plain": [
              "array([[ 0,  1,  2,  3,  4,  5],\n",
              "       [ 6,  7,  8,  9, 10, 11],\n",
              "       [12, 13, 14, 15, 16, 17],\n",
              "       [18, 19, 20, 21, 22, 23],\n",
              "       [24, 25, 26, 27, 28, 29],\n",
              "       [30, 31, 32, 33, 34, 35]])"
            ]
          },
          "metadata": {},
          "execution_count": 43
        }
      ]
    },
    {
      "cell_type": "code",
      "metadata": {
        "id": "tSmgVxq-e76E",
        "outputId": "e1ea67ec-f078-4bd0-c793-8781f70440a9",
        "colab": {
          "base_uri": "https://localhost:8080/"
        }
      },
      "source": [
        "# Pick rows 2 to 5, and cols 1 to 3 (remember, row 5 and col 3 not included)\n",
        "r[2:5, 1:3]"
      ],
      "execution_count": 44,
      "outputs": [
        {
          "output_type": "execute_result",
          "data": {
            "text/plain": [
              "array([[13, 14],\n",
              "       [19, 20],\n",
              "       [25, 26]])"
            ]
          },
          "metadata": {},
          "execution_count": 44
        }
      ]
    },
    {
      "cell_type": "markdown",
      "metadata": {
        "id": "c702eMGTe76F"
      },
      "source": [
        "We can select specific rows and columns, separated by commas"
      ]
    },
    {
      "cell_type": "code",
      "metadata": {
        "id": "e0JK5tY_e76F",
        "outputId": "3c00c797-7f06-49e1-e819-bf6eb429ae6a",
        "colab": {
          "base_uri": "https://localhost:8080/"
        }
      },
      "source": [
        "# Pick rows 1, 3 and 4, and cols 1 to 3 (remember, col 3 not included)\n",
        "r[[1, 3, 4], 1:3]"
      ],
      "execution_count": 45,
      "outputs": [
        {
          "output_type": "execute_result",
          "data": {
            "text/plain": [
              "array([[ 7,  8],\n",
              "       [19, 20],\n",
              "       [25, 26]])"
            ]
          },
          "metadata": {},
          "execution_count": 45
        }
      ]
    },
    {
      "cell_type": "markdown",
      "metadata": {
        "id": "HlRc2kzYe76F"
      },
      "source": [
        "A very useful tool is *boolean indexing*, where we apply a function, assignment... only to those elements of an array that satisfy some condition"
      ]
    },
    {
      "cell_type": "code",
      "metadata": {
        "id": "RURCblyCe76F",
        "outputId": "0398ba3b-5c08-4d66-f40e-f6197481d42e",
        "colab": {
          "base_uri": "https://localhost:8080/"
        }
      },
      "source": [
        "r[r > 30] = 30\n",
        "r"
      ],
      "execution_count": 46,
      "outputs": [
        {
          "output_type": "execute_result",
          "data": {
            "text/plain": [
              "array([[ 0,  1,  2,  3,  4,  5],\n",
              "       [ 6,  7,  8,  9, 10, 11],\n",
              "       [12, 13, 14, 15, 16, 17],\n",
              "       [18, 19, 20, 21, 22, 23],\n",
              "       [24, 25, 26, 27, 28, 29],\n",
              "       [30, 30, 30, 30, 30, 30]])"
            ]
          },
          "metadata": {},
          "execution_count": 46
        }
      ]
    },
    {
      "cell_type": "markdown",
      "metadata": {
        "id": "U5YiuqbXe76F"
      },
      "source": [
        "**Exercise 3**: Create a random 1-dimensional array, and find which element is closest to 0.7"
      ]
    },
    {
      "cell_type": "code",
      "metadata": {
        "id": "NjEVwucfe76F",
        "outputId": "d3a14cb9-ac73-4bb8-e9c3-d34c070cbbd7",
        "colab": {
          "base_uri": "https://localhost:8080/"
        }
      },
      "source": [
        "Z = np.random.uniform(0,1,100)\n",
        "z = 0.7\n",
        "m = Z[np.abs(Z - z).argmin()]\n",
        "print(m)"
      ],
      "execution_count": 47,
      "outputs": [
        {
          "output_type": "stream",
          "name": "stdout",
          "text": [
            "0.6996295682321864\n"
          ]
        }
      ]
    },
    {
      "cell_type": "markdown",
      "metadata": {
        "id": "ZCXFtc8ae76F"
      },
      "source": [
        "#### Copying Data\n",
        "\n",
        "**Be very careful with copying and modifying arrays in NumPy!** Defining variables as parts of others will only provide a pointer to the allocated memory. Let us start with an example: let us define `r2` as a slice of `r`."
      ]
    },
    {
      "cell_type": "code",
      "metadata": {
        "id": "BNHZOLWpe76F",
        "outputId": "a30faad3-4de7-4d83-d561-6bfb3c192c4b",
        "colab": {
          "base_uri": "https://localhost:8080/"
        }
      },
      "source": [
        "r2 = r[:3,:3]\n",
        "r2"
      ],
      "execution_count": 48,
      "outputs": [
        {
          "output_type": "execute_result",
          "data": {
            "text/plain": [
              "array([[ 0,  1,  2],\n",
              "       [ 6,  7,  8],\n",
              "       [12, 13, 14]])"
            ]
          },
          "metadata": {},
          "execution_count": 48
        }
      ]
    },
    {
      "cell_type": "markdown",
      "metadata": {
        "id": "b0LBlPtfe76F"
      },
      "source": [
        "And now let's set all its elements to zero"
      ]
    },
    {
      "cell_type": "code",
      "metadata": {
        "id": "MUTIonJ6e76F",
        "outputId": "8dcc982f-0f3a-4379-a90b-6f4427290304",
        "colab": {
          "base_uri": "https://localhost:8080/"
        }
      },
      "source": [
        "r2[:] = 0\n",
        "r2"
      ],
      "execution_count": 49,
      "outputs": [
        {
          "output_type": "execute_result",
          "data": {
            "text/plain": [
              "array([[0, 0, 0],\n",
              "       [0, 0, 0],\n",
              "       [0, 0, 0]])"
            ]
          },
          "metadata": {},
          "execution_count": 49
        }
      ]
    },
    {
      "cell_type": "markdown",
      "metadata": {
        "id": "V38mH3r-e76G"
      },
      "source": [
        "If we now look at `r`, we see that it has also been changed!"
      ]
    },
    {
      "cell_type": "code",
      "metadata": {
        "id": "tEhRwUKre76G",
        "outputId": "b33e0a1a-615a-4c5c-e2cb-abca82cf347e",
        "colab": {
          "base_uri": "https://localhost:8080/"
        }
      },
      "source": [
        "r"
      ],
      "execution_count": 50,
      "outputs": [
        {
          "output_type": "execute_result",
          "data": {
            "text/plain": [
              "array([[ 0,  0,  0,  3,  4,  5],\n",
              "       [ 0,  0,  0,  9, 10, 11],\n",
              "       [ 0,  0,  0, 15, 16, 17],\n",
              "       [18, 19, 20, 21, 22, 23],\n",
              "       [24, 25, 26, 27, 28, 29],\n",
              "       [30, 30, 30, 30, 30, 30]])"
            ]
          },
          "metadata": {},
          "execution_count": 50
        }
      ]
    },
    {
      "cell_type": "markdown",
      "metadata": {
        "id": "7-yfBrT6e76G"
      },
      "source": [
        "The proper way of handling selections without modifying the original arrays is through the `copy` command."
      ]
    },
    {
      "cell_type": "code",
      "metadata": {
        "id": "9fRcrSk4e76G",
        "outputId": "1a1f667a-fa6e-4868-e4d4-b68b26bb5215",
        "colab": {
          "base_uri": "https://localhost:8080/"
        }
      },
      "source": [
        "r_copy = r.copy()\n",
        "r_copy"
      ],
      "execution_count": 51,
      "outputs": [
        {
          "output_type": "execute_result",
          "data": {
            "text/plain": [
              "array([[ 0,  0,  0,  3,  4,  5],\n",
              "       [ 0,  0,  0,  9, 10, 11],\n",
              "       [ 0,  0,  0, 15, 16, 17],\n",
              "       [18, 19, 20, 21, 22, 23],\n",
              "       [24, 25, 26, 27, 28, 29],\n",
              "       [30, 30, 30, 30, 30, 30]])"
            ]
          },
          "metadata": {},
          "execution_count": 51
        }
      ]
    },
    {
      "cell_type": "markdown",
      "metadata": {
        "id": "8rbJ7Ya2e76G"
      },
      "source": [
        "Now we can safely modify `r_copy` without affecting `r`."
      ]
    },
    {
      "cell_type": "code",
      "metadata": {
        "id": "ZGKSHHbde76G",
        "outputId": "3710ae11-8077-4a51-d14f-e929b69b205e",
        "colab": {
          "base_uri": "https://localhost:8080/"
        }
      },
      "source": [
        "r_copy[:] = 10\n",
        "print(f'{r_copy}\\n')\n",
        "print(f'{r}')"
      ],
      "execution_count": 52,
      "outputs": [
        {
          "output_type": "stream",
          "name": "stdout",
          "text": [
            "[[10 10 10 10 10 10]\n",
            " [10 10 10 10 10 10]\n",
            " [10 10 10 10 10 10]\n",
            " [10 10 10 10 10 10]\n",
            " [10 10 10 10 10 10]\n",
            " [10 10 10 10 10 10]]\n",
            "\n",
            "[[ 0  0  0  3  4  5]\n",
            " [ 0  0  0  9 10 11]\n",
            " [ 0  0  0 15 16 17]\n",
            " [18 19 20 21 22 23]\n",
            " [24 25 26 27 28 29]\n",
            " [30 30 30 30 30 30]]\n"
          ]
        }
      ]
    },
    {
      "cell_type": "markdown",
      "metadata": {
        "id": "Wld6_eEPe76G"
      },
      "source": [
        "### Iterating Over Arrays"
      ]
    },
    {
      "cell_type": "markdown",
      "metadata": {
        "id": "kIutx4lce76G"
      },
      "source": [
        "Finally, you can iterate over arrays in the same way as you iterate over lists"
      ]
    },
    {
      "cell_type": "code",
      "metadata": {
        "id": "VFcEfYYDe76G",
        "outputId": "dce47911-6c8c-4e44-f1b8-882b491bdc87",
        "colab": {
          "base_uri": "https://localhost:8080/"
        }
      },
      "source": [
        "test = np.random.randint(0, 10, (4,3))\n",
        "test"
      ],
      "execution_count": 53,
      "outputs": [
        {
          "output_type": "execute_result",
          "data": {
            "text/plain": [
              "array([[9, 7, 6],\n",
              "       [5, 3, 1],\n",
              "       [1, 0, 9],\n",
              "       [7, 2, 1]])"
            ]
          },
          "metadata": {},
          "execution_count": 53
        }
      ]
    },
    {
      "cell_type": "markdown",
      "metadata": {
        "id": "XF_H-uDMe76H"
      },
      "source": [
        "By default, we iterate over the first index which, for 2D arrays, corresponds to the rows."
      ]
    },
    {
      "cell_type": "code",
      "metadata": {
        "id": "ytTwTJQte76H",
        "outputId": "a3b86adc-4999-42fd-8eb1-d6ce8a184a68",
        "colab": {
          "base_uri": "https://localhost:8080/"
        }
      },
      "source": [
        "for row in test:\n",
        "    print(row)"
      ],
      "execution_count": 54,
      "outputs": [
        {
          "output_type": "stream",
          "name": "stdout",
          "text": [
            "[9 7 6]\n",
            "[5 3 1]\n",
            "[1 0 9]\n",
            "[7 2 1]\n"
          ]
        }
      ]
    },
    {
      "cell_type": "markdown",
      "metadata": {
        "id": "Nen65LG6e76H"
      },
      "source": [
        "Or by row index"
      ]
    },
    {
      "cell_type": "code",
      "metadata": {
        "id": "hfR_0B14e76H",
        "outputId": "f58475b2-abd3-49f9-baa9-f30293c5cd7f",
        "colab": {
          "base_uri": "https://localhost:8080/"
        }
      },
      "source": [
        "for i in range(len(test)):\n",
        "    print(test[i])"
      ],
      "execution_count": 55,
      "outputs": [
        {
          "output_type": "stream",
          "name": "stdout",
          "text": [
            "[9 7 6]\n",
            "[5 3 1]\n",
            "[1 0 9]\n",
            "[7 2 1]\n"
          ]
        }
      ]
    },
    {
      "cell_type": "markdown",
      "metadata": {
        "id": "uLnVnXU0e76H"
      },
      "source": [
        "Or by row and index:"
      ]
    },
    {
      "cell_type": "code",
      "metadata": {
        "id": "c0Fimolze76H",
        "outputId": "997270a3-8ce9-46c9-b664-1ece67398059",
        "colab": {
          "base_uri": "https://localhost:8080/"
        }
      },
      "source": [
        "for i, row in enumerate(test):\n",
        "    print(f'Row {i} is {row}')"
      ],
      "execution_count": 56,
      "outputs": [
        {
          "output_type": "stream",
          "name": "stdout",
          "text": [
            "Row 0 is [9 7 6]\n",
            "Row 1 is [5 3 1]\n",
            "Row 2 is [1 0 9]\n",
            "Row 3 is [7 2 1]\n"
          ]
        }
      ]
    },
    {
      "cell_type": "markdown",
      "metadata": {
        "id": "qqEeNRf-e76H"
      },
      "source": [
        "In the same way as with lists, you can use `zip` to iterate over multiple iterables."
      ]
    },
    {
      "cell_type": "code",
      "metadata": {
        "id": "JXZz_vKTe76H",
        "outputId": "8b7a36e8-02f2-4d92-caad-5a6b0ea19d82",
        "colab": {
          "base_uri": "https://localhost:8080/"
        }
      },
      "source": [
        "test2 = test**2\n",
        "test2"
      ],
      "execution_count": 57,
      "outputs": [
        {
          "output_type": "execute_result",
          "data": {
            "text/plain": [
              "array([[81, 49, 36],\n",
              "       [25,  9,  1],\n",
              "       [ 1,  0, 81],\n",
              "       [49,  4,  1]])"
            ]
          },
          "metadata": {},
          "execution_count": 57
        }
      ]
    },
    {
      "cell_type": "code",
      "metadata": {
        "id": "0RWBUDIoe76H",
        "outputId": "45dc7a8f-6819-4505-db3e-69ac91e9c92b",
        "colab": {
          "base_uri": "https://localhost:8080/"
        }
      },
      "source": [
        "for i, j in zip(test, test2):\n",
        "    print(f'{i} + {j} = {i+j}')"
      ],
      "execution_count": 58,
      "outputs": [
        {
          "output_type": "stream",
          "name": "stdout",
          "text": [
            "[9 7 6] + [81 49 36] = [90 56 42]\n",
            "[5 3 1] + [25  9  1] = [30 12  2]\n",
            "[1 0 9] + [ 1  0 81] = [ 2  0 90]\n",
            "[7 2 1] + [49  4  1] = [56  6  2]\n"
          ]
        }
      ]
    },
    {
      "cell_type": "markdown",
      "metadata": {
        "id": "-tA2eJrhe76I"
      },
      "source": [
        "**Exercise 4**: Create a function that iterates over the columns of a 2-dimensional array"
      ]
    },
    {
      "cell_type": "code",
      "metadata": {
        "id": "zGTjYm6Me76I",
        "outputId": "fa8e0f62-74c5-4ec1-ffb6-07a337ea4482",
        "colab": {
          "base_uri": "https://localhost:8080/"
        }
      },
      "source": [
        "def iterate(df):\n",
        "    rows, cols = df.shape\n",
        "    for i in range(cols):\n",
        "        column = df[:, i]\n",
        "        print(f'Column {i} is {column}')\n",
        "\n",
        "iterate(test)"
      ],
      "execution_count": 59,
      "outputs": [
        {
          "output_type": "stream",
          "name": "stdout",
          "text": [
            "Column 0 is [9 5 1 7]\n",
            "Column 1 is [7 3 0 2]\n",
            "Column 2 is [6 1 9 1]\n"
          ]
        }
      ]
    },
    {
      "cell_type": "markdown",
      "metadata": {
        "id": "UlwmwODoe76I"
      },
      "source": [
        "### Loading and Saving Data\n",
        "\n",
        "To load and save data NumPy has the `loadtxt` and `savetxt` commands. However, they only work for two-dimensional arrays"
      ]
    },
    {
      "cell_type": "code",
      "metadata": {
        "id": "kJgi99Yle76I",
        "outputId": "6cf91bd0-e765-49cd-c5d4-32aea2f7a08b",
        "colab": {
          "base_uri": "https://localhost:8080/"
        }
      },
      "source": [
        "np.savetxt('numpytest.txt', test)\n",
        "np.loadtxt('numpytest.txt')"
      ],
      "execution_count": 62,
      "outputs": [
        {
          "output_type": "execute_result",
          "data": {
            "text/plain": [
              "array([[9., 7., 6.],\n",
              "       [5., 3., 1.],\n",
              "       [1., 0., 9.],\n",
              "       [7., 2., 1.]])"
            ]
          },
          "metadata": {},
          "execution_count": 62
        }
      ]
    }
  ]
}