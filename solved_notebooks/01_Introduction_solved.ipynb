{
  "cells": [
    {
      "cell_type": "markdown",
      "metadata": {
        "id": "view-in-github",
        "colab_type": "text"
      },
      "source": [
        "<a href=\"https://colab.research.google.com/github/MMRES-PyBootcamp/MMRES-python-bootcamp2022/blob/main/solved_notebooks/01_Introduction_solved.ipynb\" target=\"_parent\"><img src=\"https://colab.research.google.com/assets/colab-badge.svg\" alt=\"Open In Colab\"/></a>"
      ]
    },
    {
      "cell_type": "markdown",
      "metadata": {
        "id": "1Fk29gAa8T8x",
        "tags": []
      },
      "source": [
        "# Chapter 1 - Introduction (First part)\n",
        "> A basic introduction to work with Python in Jupyter Notebooks. You will become familiar with *Jupyter Notebooks*. In addition, you will start to hear a bit of Python slang such as *variable*, *comment*, *built-in function*, *integer*, *float*, *string*, *boolean*... Finally, you will be introduced to some of the most fundamental Python operators, in particular to *arithmetic*, *comparison* and *logical* operators."
      ]
    },
    {
      "cell_type": "markdown",
      "metadata": {
        "id": "ZnWQ0wguu-m1"
      },
      "source": [
        "<div class=\"alert alert-block alert-success\"><b>Practice:</b> Green cells announce exercises that you should try during the current boot camp session.\n",
        "</div>"
      ]
    },
    {
      "cell_type": "markdown",
      "metadata": {
        "id": "d8i7TUKvu-m2"
      },
      "source": [
        "<div class=\"alert alert-block alert-warning\"><b>Extension:</b> Yellow cells correspond to exercises (or links to contents) that are a bit more advanced. We recommend to try them after the current boot camp session.\n",
        "</div>"
      ]
    },
    {
      "cell_type": "markdown",
      "metadata": {
        "id": "W7ToKpGCu-m6"
      },
      "source": [
        "<div class=\"alert alert-block alert-info\"><b>Tip:</b> Blue cells are just tips or advice.\n",
        "</div>"
      ]
    },
    {
      "cell_type": "markdown",
      "metadata": {
        "id": "6KWz9e6qu-m6"
      },
      "source": [
        "<div class=\"alert alert-block alert-danger\"><b>Caveat:</b> Red cells warn you about the most common pitfalls one founds when starts his/her path learning Python.\n",
        "\n",
        "</div>"
      ]
    },
    {
      "cell_type": "markdown",
      "metadata": {
        "id": "2tTMHeWl8T8z"
      },
      "source": [
        "## What is Python?\n",
        "\n",
        "Python is a high-level, interpreted, general-purpose programming language created by [Guido van Rossum](https://en.wikipedia.org/wiki/Guido_van_Rossum) in 1991.\n",
        "\n",
        "- High code readability and easy to learn.\n",
        "- Widely used in science and engineering.\n",
        "- Huge community of users with lots of packages."
      ]
    },
    {
      "cell_type": "markdown",
      "metadata": {
        "id": "IPC3ml3A8T80"
      },
      "source": [
        "## What is a Jupyter Notebook?\n",
        "\n",
        "Jupyter Notebook is a web-based interactive computational environment for creating documents that combine executable calculations and formatted text (for example, the document you are looking at right now). As we will see throughout the course, in a Jupyter Notebook we can combine code cells (with executable snippets and figures) and [Markdown](https://en.wikipedia.org/wiki/Markdown) cells (with text content), making make them pretty handy (in fact, the whole [MMRES Python boot camp](https://github.com/MMRES-PyBootcamp/MMRES-python-bootcamp2022) is made out of notebooks)."
      ]
    },
    {
      "cell_type": "markdown",
      "metadata": {
        "id": "NVpOB6h-u-m7"
      },
      "source": [
        "This is a *code cell*:"
      ]
    },
    {
      "cell_type": "code",
      "execution_count": 2,
      "metadata": {
        "tags": [],
        "id": "ULx_KS1ku-m8",
        "outputId": "689aec5a-e042-4dd1-e883-780d033514eb",
        "colab": {
          "base_uri": "https://localhost:8080/"
        }
      },
      "outputs": [
        {
          "output_type": "execute_result",
          "data": {
            "text/plain": [
              "4"
            ]
          },
          "metadata": {},
          "execution_count": 2
        }
      ],
      "source": [
        "2 + 2"
      ]
    },
    {
      "cell_type": "markdown",
      "metadata": {
        "id": "ZraGaoERu-m9"
      },
      "source": [
        "This is a *Markdown cell*:"
      ]
    },
    {
      "cell_type": "markdown",
      "metadata": {
        "id": "kwMvEKMku-m-"
      },
      "source": [
        "2 + 2"
      ]
    },
    {
      "cell_type": "markdown",
      "metadata": {
        "id": "luDjGl2iu-m-"
      },
      "source": [
        "The first thing to know when working with notebooks is that there are two modes:\n",
        "\n",
        "+ **Command mode**: This mode is used to navigate or manipulate **whole cells**. We enter this mode with `Esc`. For example, we can take these actions just by hovering over notebook cells:\n",
        "  - Move from cell to cell with the `↑`/`↓` keys.\n",
        "  - Add a cell above/below the current one with `a`/`b`\n",
        "  - Copy, cut and paste cell with `c`/`x`/`v`.\n",
        "  - Change cell type to code or markdown with `y`/`m`.\n",
        "  - Delete and undo with `d-d`/`z`.\n",
        "\n",
        "\n",
        "+ **Edit mode**: This mode is used to edit **cells source content**. We enter this mode with with `Enter`. We can also enter edit mode just by double-clicking on any cell (command mode) and then just clicking again (edit mode).\n",
        "\n",
        "Regardless of the mode, we can always run the cell with `Ctrl-Enter`, run and select the cell below with `Shift-Enter` and run and create a cell below with `Alt-Enter`."
      ]
    },
    {
      "cell_type": "markdown",
      "metadata": {
        "id": "Bnz846vtu-m-"
      },
      "source": [
        "<div class=\"alert alert-block alert-success\"><b>Practice:</b>\n",
        "\n",
        "1) Select this cell and try hitting `Enter` to see the source of this text.\n",
        "\n",
        "In edit mode we can write and format the text. Changing to command mode with `Esc` will prevent us from editing but, now, the markdown source is visible.\n",
        "    \n",
        "2) In order to see the text as it was before we need to execute this cell: try with `Ctrl-Enter`.\n",
        "3) Experiment with the Jupyter Notebook shortcuts. For instance, in command mode, create a cell *below* this one, switch to edit mode and type your name. Then, *execute* it with. Uh-oh... it's a *code* cell! Change the cell to *Markdown* and it'll be fine!\n",
        "\n",
        "</div>"
      ]
    },
    {
      "cell_type": "markdown",
      "metadata": {
        "id": "VBcnyjfB8T82"
      },
      "source": [
        "## Define variables"
      ]
    },
    {
      "cell_type": "markdown",
      "metadata": {
        "id": "1iwsZUmH8T83"
      },
      "source": [
        "You can use code cells to make mathematical operations and return the corresponding output:"
      ]
    },
    {
      "cell_type": "code",
      "execution_count": 3,
      "metadata": {
        "id": "ZtsGWJ8l8T83",
        "outputId": "d675eb3a-9ece-42a9-b152-a80e1582f78e",
        "colab": {
          "base_uri": "https://localhost:8080/"
        }
      },
      "outputs": [
        {
          "output_type": "execute_result",
          "data": {
            "text/plain": [
              "2"
            ]
          },
          "metadata": {},
          "execution_count": 3
        }
      ],
      "source": [
        "# Compute a sum a return the output\n",
        "1 + 1"
      ]
    },
    {
      "cell_type": "markdown",
      "metadata": {
        "id": "YVco3sDuu-nA"
      },
      "source": [
        "Sometimes you might need to store the output in a *variable* to use it later:"
      ]
    },
    {
      "cell_type": "code",
      "execution_count": 4,
      "metadata": {
        "id": "LVD4kw6Du-nA"
      },
      "outputs": [],
      "source": [
        "# Compute a sum and store the output in a variable called \"integer_2\"\n",
        "integer_2 = 1 + 1"
      ]
    },
    {
      "cell_type": "markdown",
      "metadata": {
        "id": "R-5JcYJh8T86"
      },
      "source": [
        "To recover the value of the stored variable:"
      ]
    },
    {
      "cell_type": "code",
      "execution_count": 5,
      "metadata": {
        "id": "MbZxjaWtu-nA",
        "outputId": "a97fd9fe-1c01-4b1e-a3b3-84fcb2fb298e",
        "colab": {
          "base_uri": "https://localhost:8080/"
        }
      },
      "outputs": [
        {
          "output_type": "execute_result",
          "data": {
            "text/plain": [
              "2"
            ]
          },
          "metadata": {},
          "execution_count": 5
        }
      ],
      "source": [
        "# Recover the value of \"integer_2\"\n",
        "integer_2"
      ]
    },
    {
      "cell_type": "markdown",
      "metadata": {
        "tags": [],
        "id": "AXT2brENu-nA"
      },
      "source": [
        "## Code comments\n",
        "\n",
        "Did you noticed the code lines from the code cell above starting with an hash symbol (`#`)? They are *code comments*. The Python interpreter will skip all code lines starting with `#`. Comments are also handy to *temporarily* turn some lines off."
      ]
    },
    {
      "cell_type": "code",
      "execution_count": 6,
      "metadata": {
        "id": "_36B5asEu-nB"
      },
      "outputs": [],
      "source": [
        "# This is just a comment"
      ]
    },
    {
      "cell_type": "markdown",
      "metadata": {
        "id": "oBw3PfVZu-nB"
      },
      "source": [
        "\n",
        "\n",
        "```\n",
        "# Tiene formato de código\n",
        "```\n",
        "\n",
        "<div class=\"alert alert-block alert-info\"><b>Tip:</b>\n",
        "\n",
        "A well-commented code is always something to be thankful for. Try to keep your code nicely commented as far as possible. Anyone diving in your code will be very grateful (specially if that person is your future yourself). Jupyter Notebooks users can also devote Markdown cells to this aim.\n",
        "</div>"
      ]
    },
    {
      "cell_type": "markdown",
      "metadata": {
        "id": "H_t66IUbu-nB"
      },
      "source": [
        "## Built-in function `type()`"
      ]
    },
    {
      "cell_type": "markdown",
      "metadata": {
        "id": "Md19pnVZu-nB"
      },
      "source": [
        "There are many variable types in Python: numerical types (such as [integer](https://docs.python.org/3/library/functions.html#int), [float](https://docs.python.org/3/library/functions.html#float), [complex](https://docs.python.org/3/library/functions.html#complex)), text types ([string](https://docs.python.org/3/library/stdtypes.html#text-sequence-type-str)), sequence types ([list](https://docs.python.org/3/library/stdtypes.html#list), [tuple](https://docs.python.org/3/library/stdtypes.html#tuple), [range](https://docs.python.org/3/library/stdtypes.html#range)), set types ([set](https://docs.python.org/3/library/stdtypes.html#set), [frozenset](https://docs.python.org/3/library/stdtypes.html#frozenset)), mapping types ([dictionary](https://docs.python.org/3/library/stdtypes.html#dict)) and some other (for example [boolean](https://docs.python.org/3/library/stdtypes.html#boolean-values)). You can use the [buit-in Python function](https://docs.python.org/3/library/functions.html) [`type()`](https://docs.python.org/3/library/functions.html#type) to get the type of any variable."
      ]
    },
    {
      "cell_type": "markdown",
      "metadata": {
        "id": "C5shrumUu-nC"
      },
      "source": [
        "<div class=\"alert alert-block alert-success\"><b>Practice:</b>\n",
        "\n",
        "1) In the 1st code cell below, get the type of the variable `integer_2` \n",
        "2) In the 2nd one, store the result of the sum `1.0 + 1.0` in a variable called `float_2`.\n",
        "3) In the 3rd one, get the type of the variable `float_2`.\n",
        "4) In the 4th one, compute `integer_2 + float_2`.\n",
        "\n",
        "</div>"
      ]
    },
    {
      "cell_type": "code",
      "execution_count": 7,
      "metadata": {
        "id": "oKpYCwvyu-nC"
      },
      "outputs": [],
      "source": [
        "# Get the variable type of `integer_2`\n"
      ]
    },
    {
      "cell_type": "code",
      "execution_count": 8,
      "metadata": {
        "jupyter": {
          "source_hidden": true
        },
        "tags": [],
        "id": "66kFTJEXu-nC",
        "outputId": "0ebe43ef-0dff-48be-8bda-d41384bedacc",
        "colab": {
          "base_uri": "https://localhost:8080/"
        }
      },
      "outputs": [
        {
          "output_type": "execute_result",
          "data": {
            "text/plain": [
              "int"
            ]
          },
          "metadata": {},
          "execution_count": 8
        }
      ],
      "source": [
        "# Get the variable type of `integer_2`\n",
        "type(integer_2)"
      ]
    },
    {
      "cell_type": "code",
      "execution_count": 9,
      "metadata": {
        "id": "t6qPlCOJu-nC"
      },
      "outputs": [],
      "source": [
        "# Compute a sum and store the output in `float_2`\n"
      ]
    },
    {
      "cell_type": "code",
      "execution_count": 10,
      "metadata": {
        "jupyter": {
          "source_hidden": true
        },
        "tags": [],
        "id": "0SepX4wlu-nC"
      },
      "outputs": [],
      "source": [
        "# Compute a sum and store the output in `float_2`\n",
        "float_2 = 1.0 + 1.0"
      ]
    },
    {
      "cell_type": "code",
      "execution_count": 11,
      "metadata": {
        "id": "GPes34g1u-nC"
      },
      "outputs": [],
      "source": [
        "# Get the variable type of `float_2`\n"
      ]
    },
    {
      "cell_type": "code",
      "execution_count": 12,
      "metadata": {
        "jupyter": {
          "source_hidden": true
        },
        "tags": [],
        "id": "ulBUMAAMu-nD",
        "outputId": "46983d11-5678-45f9-e03e-f7ca0cce1b87",
        "colab": {
          "base_uri": "https://localhost:8080/"
        }
      },
      "outputs": [
        {
          "output_type": "execute_result",
          "data": {
            "text/plain": [
              "float"
            ]
          },
          "metadata": {},
          "execution_count": 12
        }
      ],
      "source": [
        "# Get the variable type of `float_2`\n",
        "type(float_2)"
      ]
    },
    {
      "cell_type": "code",
      "execution_count": 13,
      "metadata": {
        "id": "xMCtcKPZu-nD"
      },
      "outputs": [],
      "source": [
        "# Compute the sum of `integer_2 + float_2`\n"
      ]
    },
    {
      "cell_type": "code",
      "execution_count": 14,
      "metadata": {
        "id": "OSUIb0wC8T87",
        "tags": [],
        "outputId": "efdcab95-892f-48b0-ff1d-9004e8abeb59",
        "colab": {
          "base_uri": "https://localhost:8080/"
        }
      },
      "outputs": [
        {
          "output_type": "execute_result",
          "data": {
            "text/plain": [
              "4.0"
            ]
          },
          "metadata": {},
          "execution_count": 14
        }
      ],
      "source": [
        "# Compute the sum of `integer_2 + float_2`\n",
        "integer_2 + float_2"
      ]
    },
    {
      "cell_type": "markdown",
      "metadata": {
        "id": "YIOEc815u-nD"
      },
      "source": [
        "String variables are always surrounded by single `'` or double `\"` apostrophe marks."
      ]
    },
    {
      "cell_type": "code",
      "execution_count": 15,
      "metadata": {
        "id": "AKnnkUkku-nD"
      },
      "outputs": [],
      "source": [
        "# Store a string value in the \"string_2\" variable\n",
        "string_2 = \"2\""
      ]
    },
    {
      "cell_type": "markdown",
      "metadata": {
        "id": "mzbV7pKwu-nD"
      },
      "source": [
        "As you might guess, you can't mix numerical (integer or float) with string data types:"
      ]
    },
    {
      "cell_type": "code",
      "execution_count": 16,
      "metadata": {
        "id": "RU60yS4Mu-nE",
        "outputId": "c7803d26-66d7-49be-f8a4-68da08d66993",
        "colab": {
          "base_uri": "https://localhost:8080/",
          "height": 187
        }
      },
      "outputs": [
        {
          "output_type": "error",
          "ename": "TypeError",
          "evalue": "ignored",
          "traceback": [
            "\u001b[0;31m---------------------------------------------------------------------------\u001b[0m",
            "\u001b[0;31mTypeError\u001b[0m                                 Traceback (most recent call last)",
            "\u001b[0;32m<ipython-input-16-200ab9489a6b>\u001b[0m in \u001b[0;36m<module>\u001b[0;34m()\u001b[0m\n\u001b[1;32m      1\u001b[0m \u001b[0;31m# Try adding integers and strings\u001b[0m\u001b[0;34m\u001b[0m\u001b[0;34m\u001b[0m\u001b[0;34m\u001b[0m\u001b[0m\n\u001b[0;32m----> 2\u001b[0;31m \u001b[0minteger_2\u001b[0m \u001b[0;34m+\u001b[0m \u001b[0mstring_2\u001b[0m\u001b[0;34m\u001b[0m\u001b[0;34m\u001b[0m\u001b[0m\n\u001b[0m",
            "\u001b[0;31mTypeError\u001b[0m: unsupported operand type(s) for +: 'int' and 'str'"
          ]
        }
      ],
      "source": [
        "# Try adding integers and strings\n",
        "integer_2 + string_2"
      ]
    },
    {
      "cell_type": "markdown",
      "metadata": {
        "id": "vLRd7YvSu-nE"
      },
      "source": [
        "<div class=\"alert alert-block alert-warning\"><b>Extension:</b>\n",
        "\n",
        "There are some built-in Python functions that can be used to change the data type of a variable (if possible). Have a look to [`int()`](https://docs.python.org/3/library/functions.html#int), [`float()`](https://docs.python.org/3/library/functions.html#float) and [`str()`](https://docs.python.org/3/library/functions.html#func-str) buit-ins.\n",
        "\n",
        "</div>"
      ]
    },
    {
      "cell_type": "markdown",
      "metadata": {
        "id": "WaBYtTVsu-nE"
      },
      "source": [
        "We will cover some of the remaining data types mentioned above in upcoming sessions. List, dictionary and boolean data types are ubiquitously used in Python."
      ]
    },
    {
      "cell_type": "markdown",
      "metadata": {
        "id": "9LjMCCwYu-nE"
      },
      "source": [
        "## Built-in function `print()`"
      ]
    },
    {
      "cell_type": "markdown",
      "metadata": {
        "id": "3hSKQaq7u-nE"
      },
      "source": [
        "To recover the value of multiple variables in a single code cell, you might need the [`print()`](https://docs.python.org/3/library/functions.html#print)."
      ]
    },
    {
      "cell_type": "code",
      "execution_count": 17,
      "metadata": {
        "id": "xSql_qUju-nE",
        "outputId": "d80efe7b-d839-43db-b3a2-6244d3a3ada5",
        "colab": {
          "base_uri": "https://localhost:8080/",
          "height": 35
        }
      },
      "outputs": [
        {
          "output_type": "execute_result",
          "data": {
            "text/plain": [
              "'2'"
            ],
            "application/vnd.google.colaboratory.intrinsic+json": {
              "type": "string"
            }
          },
          "metadata": {},
          "execution_count": 17
        }
      ],
      "source": [
        "# This cell only returns the value stored in `string_2` (the last one called)\n",
        "integer_2\n",
        "string_2"
      ]
    },
    {
      "cell_type": "code",
      "execution_count": 18,
      "metadata": {
        "id": "clroduyku-nE",
        "outputId": "0921ada8-1010-475b-fc4e-e3d656bdb2f4",
        "colab": {
          "base_uri": "https://localhost:8080/"
        }
      },
      "outputs": [
        {
          "output_type": "stream",
          "name": "stdout",
          "text": [
            "2\n",
            "2\n"
          ]
        }
      ],
      "source": [
        "# This cell instead returns both values\n",
        "print(integer_2)\n",
        "print(string_2)"
      ]
    },
    {
      "cell_type": "code",
      "execution_count": 19,
      "metadata": {
        "id": "LQ-k7rRMu-nE",
        "outputId": "702e890b-f296-4174-d3c5-a8e35d634c98",
        "colab": {
          "base_uri": "https://localhost:8080/"
        }
      },
      "outputs": [
        {
          "output_type": "stream",
          "name": "stdout",
          "text": [
            "2 2\n"
          ]
        }
      ],
      "source": [
        "# Or alternatively...\n",
        "print(integer_2, string_2)"
      ]
    },
    {
      "cell_type": "code",
      "execution_count": 20,
      "metadata": {
        "id": "TpmEjYrHu-nF",
        "outputId": "93b80dbb-e363-43fd-ef06-d51e49eeec23",
        "colab": {
          "base_uri": "https://localhost:8080/"
        }
      },
      "outputs": [
        {
          "output_type": "stream",
          "name": "stdout",
          "text": [
            "2 and 2."
          ]
        }
      ],
      "source": [
        "# And maybe in a more readable way...\n",
        "print(integer_2, string_2, sep=' and ', end='.')"
      ]
    },
    {
      "cell_type": "markdown",
      "metadata": {
        "id": "21uxrLdGu-nF"
      },
      "source": [
        "<div class=\"alert alert-block alert-info\"><b>Info:</b>\n",
        "\n",
        "We just used our first two **function arguments**: `sep=` and `end=`. Arguments are just variables passed to a function that the function will use internally. Don't worry about this at the moment, just try to understand what arguments `sep=` and `end=` do.\n",
        "\n",
        "</div>"
      ]
    },
    {
      "cell_type": "markdown",
      "metadata": {
        "id": "iMFvb1r9u-nF"
      },
      "source": [
        "The `print()` built-in is essential when we want a program to give an easy readable text messages to the human in front the screen. In this context you should know how to use [formatted strings](https://docs.python.org/3/tutorial/inputoutput.html#tut-f-strings) (AKA f-strings).\n",
        "\n",
        "To use f-strings you just have to precede your string with the letter `f`. Once this fancy `f` is in place, you can use braces `{}` to allocate any variable you wish in your sentence:"
      ]
    },
    {
      "cell_type": "code",
      "execution_count": 21,
      "metadata": {
        "id": "Kl5bl9_ku-nF",
        "outputId": "ced43c02-9aba-4a38-c1cb-db5bd463ebde",
        "colab": {
          "base_uri": "https://localhost:8080/"
        }
      },
      "outputs": [
        {
          "output_type": "stream",
          "name": "stdout",
          "text": [
            "I have two twos. An integer two: 2; and an string two: 2.\n"
          ]
        }
      ],
      "source": [
        "# Give a nicely formatted text message\n",
        "print(f'I have two twos. An integer two: {integer_2}; and an string two: {string_2}.')"
      ]
    },
    {
      "cell_type": "markdown",
      "metadata": {
        "id": "EM6Gm1gDu-nF"
      },
      "source": [
        "<div class=\"alert alert-block alert-warning\"><b>Extension:</b>\n",
        "\n",
        "Have a look on how to properly format numerical variables when using [f-strings](https://docs.python.org/3/reference/lexical_analysis.html#f-strings) and, if you seek a full control over how numerical values are formatted, check the [Format Specification Mini-Language](https://docs.python.org/3/library/string.html#formatspec) as well.\n",
        "\n",
        "</div>"
      ]
    },
    {
      "cell_type": "markdown",
      "metadata": {
        "id": "STET5dKhu-nF"
      },
      "source": [
        "## Arithmetic operators"
      ]
    },
    {
      "cell_type": "markdown",
      "metadata": {
        "id": "lgQqeUQzu-nF"
      },
      "source": [
        "The seven arithmetic operators available in Python are: \n",
        "+ `+`: Addition.\n",
        "+ `-`: Subtraction.\n",
        "+ `*`: Multiplication.\n",
        "+ `/`: Division.\n",
        "+ `**`: Exponentiation.\n",
        "+ `//`: Floor division. Returns the result of dividing the left hand operand by right hand operand rounded down to the nearest whole number.\n",
        "+ `%`: Modulus. Returns the remainder of dividing the left hand operand by right hand operand."
      ]
    },
    {
      "cell_type": "code",
      "execution_count": 22,
      "metadata": {
        "id": "p5eKOpjtu-nF",
        "outputId": "b0bbf5df-a1f8-4efe-dbaf-e1574d1bf134",
        "colab": {
          "base_uri": "https://localhost:8080/"
        }
      },
      "outputs": [
        {
          "output_type": "stream",
          "name": "stdout",
          "text": [
            "Floor divison example: 9 // 4 = 2\n",
            "Modulus example: 9 % 4 = 1\n"
          ]
        }
      ],
      "source": [
        "# Get the floor division between 9 and 4\n",
        "floor_division = 9 // 4\n",
        "print(f'Floor divison example: 9 // 4 = {floor_division}')\n",
        "\n",
        "# Get the modulus between 9 and 4\n",
        "modulus = 9 % 4\n",
        "print(f'Modulus example: 9 % 4 = {modulus}')"
      ]
    },
    {
      "cell_type": "markdown",
      "metadata": {
        "id": "OAjxYgIGu-nF"
      },
      "source": [
        "## Comparison operators"
      ]
    },
    {
      "cell_type": "markdown",
      "metadata": {
        "id": "ZKpZVXeUu-nG"
      },
      "source": [
        "The six comparison operators available in Python are: \n",
        "+ `==`: Equal.\n",
        "+ `!=`: Not equal.\n",
        "+ `>`: Greater than.\n",
        "+ `<`: Less than.\n",
        "+ `>=`: Greater than or equal to.\n",
        "+ `<=`: Less than or equal to.\n",
        "\n",
        "When we compare two items by means of a comparison operator we create a conditional statement. The outcome of a conditional statement can only be `True` or `False` (you can rethink such conditional statements as questions whose outcomes are \"black or white\" answers)."
      ]
    },
    {
      "cell_type": "code",
      "execution_count": 23,
      "metadata": {
        "tags": [],
        "id": "NsCSVlLFu-nG",
        "outputId": "89798915-6377-491c-c0dc-6f752b538268",
        "colab": {
          "base_uri": "https://localhost:8080/"
        }
      },
      "outputs": [
        {
          "output_type": "stream",
          "name": "stdout",
          "text": [
            "2\n",
            "2.0\n",
            "2\n"
          ]
        }
      ],
      "source": [
        "# Remember the values of the variables `integer_2`, `float_2` and `string_2`\n",
        "print(integer_2)\n",
        "print(float_2)\n",
        "print(string_2)"
      ]
    },
    {
      "cell_type": "code",
      "execution_count": 24,
      "metadata": {
        "id": "M0YcrY4tu-nG",
        "outputId": "daa303dd-7698-4740-d8d9-d9525ca53ba7",
        "colab": {
          "base_uri": "https://localhost:8080/"
        }
      },
      "outputs": [
        {
          "output_type": "execute_result",
          "data": {
            "text/plain": [
              "True"
            ]
          },
          "metadata": {},
          "execution_count": 24
        }
      ],
      "source": [
        "# Check if `integer_2` is equal to `float_2`\n",
        "integer_2 == float_2"
      ]
    },
    {
      "cell_type": "code",
      "execution_count": 25,
      "metadata": {
        "id": "OpA3Y2HPu-nG",
        "outputId": "334acfd3-74c7-4505-d0ca-4b4762ace343",
        "colab": {
          "base_uri": "https://localhost:8080/"
        }
      },
      "outputs": [
        {
          "output_type": "execute_result",
          "data": {
            "text/plain": [
              "False"
            ]
          },
          "metadata": {},
          "execution_count": 25
        }
      ],
      "source": [
        "# Check if `integer_2` is equal to `string_2`\n",
        "integer_2 == string_2"
      ]
    },
    {
      "cell_type": "markdown",
      "metadata": {
        "id": "RhwIqoacu-nG"
      },
      "source": [
        "Python is clever enough to conclude that `2` is equal to `2.0` and discern that `2` (numerical) is not equal than `'2'` (text). Remember that the output of such questions is always *boolean*. This means that it can only take two possible outcomes: `True` or `False`:"
      ]
    },
    {
      "cell_type": "code",
      "execution_count": 26,
      "metadata": {
        "id": "4Ogzhk_ku-nG",
        "outputId": "8af6fd78-0cae-461d-bffc-8238cbaa57c1",
        "colab": {
          "base_uri": "https://localhost:8080/"
        }
      },
      "outputs": [
        {
          "output_type": "execute_result",
          "data": {
            "text/plain": [
              "bool"
            ]
          },
          "metadata": {},
          "execution_count": 26
        }
      ],
      "source": [
        "# Store the answer of check if `integer_2` is `string_2` in a variable called `answer`\n",
        "answer = integer_2 == string_2\n",
        "\n",
        "# Get the variable type of `answer`\n",
        "type(answer)"
      ]
    },
    {
      "cell_type": "code",
      "execution_count": 27,
      "metadata": {
        "id": "7u9wBXDUu-nG",
        "outputId": "c677025f-ffcc-491d-f3e3-a8a689392ebe",
        "colab": {
          "base_uri": "https://localhost:8080/"
        }
      },
      "outputs": [
        {
          "output_type": "execute_result",
          "data": {
            "text/plain": [
              "False"
            ]
          },
          "metadata": {},
          "execution_count": 27
        }
      ],
      "source": [
        "# Check if a boolean True is equal to a string True\n",
        "True == 'True'"
      ]
    },
    {
      "cell_type": "markdown",
      "metadata": {
        "id": "F_etkuBGu-nH"
      },
      "source": [
        "<div class=\"alert alert-block alert-success\"><b>Practice:</b>\n",
        "\n",
        "Remember the floor division and the modulus arithmetic operators we talk about a while ago. Being $a$ and $b$ two arbitrary numbers, $f_{ab}$ their floor division and $m_{ab}$ their modulus, then the following expression is verified:\n",
        "$$ a = m_{ab} + b  f_{ab}$$\n",
        "\n",
        "1) In the 1st code cell below, check that the expression is verified by any $a$ and $b$.\n",
        "2) In the 2nd one, only in case of the expression above not being verified, check the value of $ m_{ab} + b  f_{ab}$ that you computed. What happened?    \n",
        "    \n",
        "</div>"
      ]
    },
    {
      "cell_type": "code",
      "execution_count": 28,
      "metadata": {
        "id": "wb1QU0cMu-nH"
      },
      "outputs": [],
      "source": [
        "# Define a couple of arbitrary values `a` and `b`\n",
        "\n",
        "\n",
        "\n",
        "# Compute floor and modulus `f_ab` and `m_ab`\n",
        "\n",
        "\n",
        "\n",
        "# Check if we can recover the value of `a` from the values of `b`, `f_ab` and `m_ab`\n"
      ]
    },
    {
      "cell_type": "code",
      "execution_count": 29,
      "metadata": {
        "jupyter": {
          "source_hidden": true
        },
        "tags": [],
        "id": "ZX48SrbVu-nH",
        "outputId": "1f23a524-e885-44f8-c114-e268263faa1b",
        "colab": {
          "base_uri": "https://localhost:8080/"
        }
      },
      "outputs": [
        {
          "output_type": "execute_result",
          "data": {
            "text/plain": [
              "True"
            ]
          },
          "metadata": {},
          "execution_count": 29
        }
      ],
      "source": [
        "# Define a couple of arbitrary values values `a` and `b`\n",
        "a = 9\n",
        "b = 4\n",
        "\n",
        "# Compute floor and modulus `f_ab` and `m_ab`\n",
        "f_ab = a // b\n",
        "m_ab = a % b\n",
        "\n",
        "# Check if we can recover the value of `a` from the values of `b`, `f_ab` and `m_ab`\n",
        "a == m_ab + b * f_ab"
      ]
    },
    {
      "cell_type": "code",
      "execution_count": 30,
      "metadata": {
        "id": "WfOkouPou-nH"
      },
      "outputs": [],
      "source": [
        "# Return the `a` value that you computed\n"
      ]
    },
    {
      "cell_type": "code",
      "execution_count": 31,
      "metadata": {
        "jupyter": {
          "source_hidden": true
        },
        "tags": [],
        "id": "5IfQ4sZZu-nH",
        "outputId": "0ee4f163-9b10-4b60-e7e7-f839d12c049a",
        "colab": {
          "base_uri": "https://localhost:8080/"
        }
      },
      "outputs": [
        {
          "output_type": "execute_result",
          "data": {
            "text/plain": [
              "9"
            ]
          },
          "metadata": {},
          "execution_count": 31
        }
      ],
      "source": [
        "# Return the `a` value that you computed\n",
        "a"
      ]
    },
    {
      "cell_type": "markdown",
      "metadata": {
        "id": "zngG-q38u-nH"
      },
      "source": [
        "## Logical operators\n",
        "\n",
        "Logical operators are used to combine conditional statements. The three logical operators available in Python are: \n",
        "+ `and`: Returns `True` if both statements are `True`.\n",
        "+ `or`:  Returns `True` if one of the statements is `True`.\n",
        "+ `not`: Reverse the result, returns `False` if the result is `True` and vice versa."
      ]
    },
    {
      "cell_type": "code",
      "execution_count": 32,
      "metadata": {
        "tags": [],
        "id": "_XlbxkhHu-nH",
        "outputId": "eae9dd99-7a0e-40e9-e078-5aac97a5bb9a",
        "colab": {
          "base_uri": "https://localhost:8080/"
        }
      },
      "outputs": [
        {
          "output_type": "execute_result",
          "data": {
            "text/plain": [
              "False"
            ]
          },
          "metadata": {},
          "execution_count": 32
        }
      ],
      "source": [
        "# Check if `integer_2` is equal to `float_2` AND `integer_2` is equal to `string_2`\n",
        "integer_2 == float_2 and integer_2 == string_2"
      ]
    },
    {
      "cell_type": "code",
      "execution_count": 33,
      "metadata": {
        "id": "0NBxWEFgu-nI",
        "outputId": "8d30396f-f861-41da-85e4-1c8fe8871956",
        "colab": {
          "base_uri": "https://localhost:8080/"
        }
      },
      "outputs": [
        {
          "output_type": "execute_result",
          "data": {
            "text/plain": [
              "True"
            ]
          },
          "metadata": {},
          "execution_count": 33
        }
      ],
      "source": [
        "# Check if `integer_2` is equal to `float_2` OR `integer_2` is equal to `string_2`\n",
        "integer_2 == float_2 or integer_2 == string_2"
      ]
    },
    {
      "cell_type": "code",
      "execution_count": 34,
      "metadata": {
        "id": "2OXAHNViu-nI",
        "outputId": "c3698c74-084a-4918-a8d8-efe005cb0f33",
        "colab": {
          "base_uri": "https://localhost:8080/"
        }
      },
      "outputs": [
        {
          "output_type": "execute_result",
          "data": {
            "text/plain": [
              "False"
            ]
          },
          "metadata": {},
          "execution_count": 34
        }
      ],
      "source": [
        "# Check again if `integer_2` is equal to `float_2` OR `integer_2` is equal to `string_2` and REVERSE the outcome\n",
        "not (integer_2 == float_2 or integer_2 == string_2)"
      ]
    }
  ],
  "metadata": {
    "colab": {
      "name": "01_Introduction.ipynb",
      "provenance": [],
      "include_colab_link": true
    },
    "kernelspec": {
      "display_name": "Python 3 (ipykernel)",
      "language": "python",
      "name": "python3"
    },
    "language_info": {
      "codemirror_mode": {
        "name": "ipython",
        "version": 3
      },
      "file_extension": ".py",
      "mimetype": "text/x-python",
      "name": "python",
      "nbconvert_exporter": "python",
      "pygments_lexer": "ipython3",
      "version": "3.8.8"
    }
  },
  "nbformat": 4,
  "nbformat_minor": 0
}