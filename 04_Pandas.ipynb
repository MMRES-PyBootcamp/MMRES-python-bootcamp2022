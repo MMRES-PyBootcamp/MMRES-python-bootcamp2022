{
 "cells": [
  {
   "cell_type": "markdown",
   "metadata": {
    "colab_type": "text",
    "id": "view-in-github"
   },
   "source": [
    "<a href=\"https://colab.research.google.com/github/MMRES-PyBootcamp/MMRES-python-bootcamp2021/blob/master/04_Pandas.ipynb\" target=\"_parent\"><img src=\"https://colab.research.google.com/assets/colab-badge.svg\" alt=\"Open In Colab\"/></a>"
   ]
  },
  {
   "cell_type": "markdown",
   "metadata": {},
   "source": [
    "# Session 2 - Pandas (Secon part) TODO\n",
    "> An introduction on Pandas basics. TODO Here you will hear (just a bit) about Python *packages* and *modules*. Then you will be introduced to *lists* and *dictionaries*, some of the most versatile data types in Python. Finally, you will become familiar with the concept of *flow control* and the definition of your own *functions*. TODO"
   ]
  },
  {
   "cell_type": "markdown",
   "metadata": {},
   "source": [
    "## Outline TODO\n",
    " * [Importing packages](#Importing-packages)\n",
    " * [Lists](#Lists)\n",
    " * [Strings as sequential data types](#Strings-as-sequential-data-types)\n",
    " * [Dictionaries](#Dictionaries)\n",
    " * [Flow control](#Flow-control)\n",
    "   * [The `for` loop](#The-for-loop)\n",
    "   * [The `if`, `elif` and `else` clauses](#The-if,-elif-and-else-clauses)\n",
    " * [User defined functions](#User-defined-functions)"
   ]
  },
  {
   "cell_type": "markdown",
   "metadata": {},
   "source": [
    "<div class=\"alert alert-block alert-success\"><b>Practice:</b> Practice cells announce exercises that you should try during the current boot camp session.\n",
    "</div>"
   ]
  },
  {
   "cell_type": "markdown",
   "metadata": {},
   "source": [
    "<div class=\"alert alert-block alert-warning\"><b>Extension:</b> Extension cells correspond to exercises (or links to contents) that are a bit more advanced. We recommend to try them after the current boot camp session.\n",
    "</div>"
   ]
  },
  {
   "cell_type": "markdown",
   "metadata": {},
   "source": [
    "<div class=\"alert alert-block alert-info\"><b>Tip:</b> Tip cells just give some advice.\n",
    "</div>"
   ]
  },
  {
   "cell_type": "markdown",
   "metadata": {},
   "source": [
    "<div class=\"alert alert-block alert-danger\"><b>Caveat:</b> Caveat cells warn you about the most common pitfalls one founds when starts his/her path learning Python.\n",
    "\n",
    "</div>"
   ]
  },
  {
   "cell_type": "markdown",
   "metadata": {},
   "source": [
    "**This document is devised as a tool to enable your self-learning process. If you get stuck at some step or need any kind of help, please don't hesitate to raise your hand and ask for the teacher's guidance.**\n",
    "\n",
    "---"
   ]
  },
  {
   "cell_type": "markdown",
   "metadata": {},
   "source": [
    "## DataFrame transformations\n",
    "\n",
    "We are now familiar on how to *access* the data stored in a DataFrame. Our next step will be how to *transform* such data. Let's begin again by loading Pandas with the `pd` alias and by importing [`ToySpreadsheet.xlsx`](datasets/ToySpreadsheet.xlsx) from `/MMRES-python-bootcamp2022/datasets` sub-folder:"
   ]
  },
  {
   "cell_type": "code",
   "execution_count": 1,
   "metadata": {},
   "outputs": [
    {
     "data": {
      "text/html": [
       "<div>\n",
       "<style scoped>\n",
       "    .dataframe tbody tr th:only-of-type {\n",
       "        vertical-align: middle;\n",
       "    }\n",
       "\n",
       "    .dataframe tbody tr th {\n",
       "        vertical-align: top;\n",
       "    }\n",
       "\n",
       "    .dataframe thead th {\n",
       "        text-align: right;\n",
       "    }\n",
       "</style>\n",
       "<table border=\"1\" class=\"dataframe\">\n",
       "  <thead>\n",
       "    <tr style=\"text-align: right;\">\n",
       "      <th></th>\n",
       "      <th>Raw</th>\n",
       "      <th>Software</th>\n",
       "      <th>Node</th>\n",
       "      <th>RNA</th>\n",
       "      <th>Intensity</th>\n",
       "      <th>Amplitude</th>\n",
       "    </tr>\n",
       "  </thead>\n",
       "  <tbody>\n",
       "    <tr>\n",
       "      <th>0</th>\n",
       "      <td>1985-04-06_0123_GA_C_R1</td>\n",
       "      <td>PD</td>\n",
       "      <td>Amanda</td>\n",
       "      <td>CCUGAACCCACUAUUGAUGAG</td>\n",
       "      <td>142.294863</td>\n",
       "      <td>1.529504</td>\n",
       "    </tr>\n",
       "    <tr>\n",
       "      <th>1</th>\n",
       "      <td>1985-04-06_0123_GA_C_R2</td>\n",
       "      <td>PD</td>\n",
       "      <td>Amanda</td>\n",
       "      <td>CCUGAACCCACUAUUGAUGAG</td>\n",
       "      <td>72.714405</td>\n",
       "      <td>1.226853</td>\n",
       "    </tr>\n",
       "    <tr>\n",
       "      <th>2</th>\n",
       "      <td>1985-04-06_0123_GA_T_R3</td>\n",
       "      <td>PD</td>\n",
       "      <td>Amanda</td>\n",
       "      <td>CCUGAACCCACUAUUGAUGAG</td>\n",
       "      <td>133.493350</td>\n",
       "      <td>1.768732</td>\n",
       "    </tr>\n",
       "    <tr>\n",
       "      <th>3</th>\n",
       "      <td>1985-04-06_0123_GA_T_R4</td>\n",
       "      <td>PD</td>\n",
       "      <td>Amanda</td>\n",
       "      <td>CCUGAACCCACUAUUGAUGAG</td>\n",
       "      <td>62.007904</td>\n",
       "      <td>1.331619</td>\n",
       "    </tr>\n",
       "    <tr>\n",
       "      <th>4</th>\n",
       "      <td>1985-04-06_0123_GA_C_R1</td>\n",
       "      <td>PD</td>\n",
       "      <td>Sequest</td>\n",
       "      <td>CCUGAACCCACUAUUGAUGAG</td>\n",
       "      <td>112.643842</td>\n",
       "      <td>1.853473</td>\n",
       "    </tr>\n",
       "    <tr>\n",
       "      <th>5</th>\n",
       "      <td>1985-04-06_0123_GA_C_R2</td>\n",
       "      <td>PD</td>\n",
       "      <td>Sequest</td>\n",
       "      <td>CCUGAACCCACUAUUGAUGAG</td>\n",
       "      <td>116.570249</td>\n",
       "      <td>1.821342</td>\n",
       "    </tr>\n",
       "    <tr>\n",
       "      <th>6</th>\n",
       "      <td>1985-04-06_0123_GA_T_R3</td>\n",
       "      <td>PD</td>\n",
       "      <td>Sequest</td>\n",
       "      <td>CCUGAACCCACUAUUGAUGAG</td>\n",
       "      <td>NaN</td>\n",
       "      <td>1.406125</td>\n",
       "    </tr>\n",
       "    <tr>\n",
       "      <th>7</th>\n",
       "      <td>1985-04-06_0123_GA_T_R4</td>\n",
       "      <td>PD</td>\n",
       "      <td>Sequest</td>\n",
       "      <td>CCUGAACCCACUAUUGAUGAG</td>\n",
       "      <td>64.983534</td>\n",
       "      <td>1.903608</td>\n",
       "    </tr>\n",
       "    <tr>\n",
       "      <th>8</th>\n",
       "      <td>1985-04-06_0123_GA_C_R1</td>\n",
       "      <td>MQ</td>\n",
       "      <td>Andromeda</td>\n",
       "      <td>CCUGAACCCACUAUUGAUGAG</td>\n",
       "      <td>97.934919</td>\n",
       "      <td>1.437262</td>\n",
       "    </tr>\n",
       "    <tr>\n",
       "      <th>9</th>\n",
       "      <td>1985-04-06_0123_GA_C_R2</td>\n",
       "      <td>MQ</td>\n",
       "      <td>Andromeda</td>\n",
       "      <td>CCUGAACCCACUAUUGAUGAG</td>\n",
       "      <td>93.601301</td>\n",
       "      <td>1.647577</td>\n",
       "    </tr>\n",
       "    <tr>\n",
       "      <th>10</th>\n",
       "      <td>1985-04-06_0123_GA_T_R3</td>\n",
       "      <td>MQ</td>\n",
       "      <td>Andromeda</td>\n",
       "      <td>CCUGAACCCACUAUUGAUGAG</td>\n",
       "      <td>84.169260</td>\n",
       "      <td>1.981663</td>\n",
       "    </tr>\n",
       "    <tr>\n",
       "      <th>11</th>\n",
       "      <td>1985-04-06_0123_GA_T_R4</td>\n",
       "      <td>MQ</td>\n",
       "      <td>Andromeda</td>\n",
       "      <td>CCUGAACCCACUAUUGAUGAG</td>\n",
       "      <td>144.019781</td>\n",
       "      <td>1.671251</td>\n",
       "    </tr>\n",
       "  </tbody>\n",
       "</table>\n",
       "</div>"
      ],
      "text/plain": [
       "                        Raw Software       Node                    RNA  \\\n",
       "0   1985-04-06_0123_GA_C_R1       PD     Amanda  CCUGAACCCACUAUUGAUGAG   \n",
       "1   1985-04-06_0123_GA_C_R2       PD     Amanda  CCUGAACCCACUAUUGAUGAG   \n",
       "2   1985-04-06_0123_GA_T_R3       PD     Amanda  CCUGAACCCACUAUUGAUGAG   \n",
       "3   1985-04-06_0123_GA_T_R4       PD     Amanda  CCUGAACCCACUAUUGAUGAG   \n",
       "4   1985-04-06_0123_GA_C_R1       PD    Sequest  CCUGAACCCACUAUUGAUGAG   \n",
       "5   1985-04-06_0123_GA_C_R2       PD    Sequest  CCUGAACCCACUAUUGAUGAG   \n",
       "6   1985-04-06_0123_GA_T_R3       PD    Sequest  CCUGAACCCACUAUUGAUGAG   \n",
       "7   1985-04-06_0123_GA_T_R4       PD    Sequest  CCUGAACCCACUAUUGAUGAG   \n",
       "8   1985-04-06_0123_GA_C_R1       MQ  Andromeda  CCUGAACCCACUAUUGAUGAG   \n",
       "9   1985-04-06_0123_GA_C_R2       MQ  Andromeda  CCUGAACCCACUAUUGAUGAG   \n",
       "10  1985-04-06_0123_GA_T_R3       MQ  Andromeda  CCUGAACCCACUAUUGAUGAG   \n",
       "11  1985-04-06_0123_GA_T_R4       MQ  Andromeda  CCUGAACCCACUAUUGAUGAG   \n",
       "\n",
       "     Intensity  Amplitude  \n",
       "0   142.294863   1.529504  \n",
       "1    72.714405   1.226853  \n",
       "2   133.493350   1.768732  \n",
       "3    62.007904   1.331619  \n",
       "4   112.643842   1.853473  \n",
       "5   116.570249   1.821342  \n",
       "6          NaN   1.406125  \n",
       "7    64.983534   1.903608  \n",
       "8    97.934919   1.437262  \n",
       "9    93.601301   1.647577  \n",
       "10   84.169260   1.981663  \n",
       "11  144.019781   1.671251  "
      ]
     },
     "execution_count": 1,
     "metadata": {},
     "output_type": "execute_result"
    }
   ],
   "source": [
    "# Load package with its corresponding alias\n",
    "import pandas as pd\n",
    "\n",
    "# Reading an Excel SpreadSheet and storing it in as a DataFrame called `df`\n",
    "df = pd.read_excel(io='datasets/ToySpreadsheet.xlsx')\n",
    "\n",
    "# Return the DataFrame\n",
    "df"
   ]
  },
  {
   "cell_type": "markdown",
   "metadata": {},
   "source": [
    "### DataFrame numerical transformations\n",
    "\n",
    "Let's start by *standardizing* the values of a numerical column. By *standardizing* we mean taking a given distribution of values and bring it to a newer distribution with mean equal zero and standard deviation equal one. This *standardized* distribution is usually known as the [standard score](https://en.wikipedia.org/wiki/Standard_score) or *Z-score*. The $i$<sup>th</sup> observation of a magnitude $x$, $(x_i)$, has a Z-score, $(Z_i)$, given by the following equation:\n",
    "\n",
    "\\begin{equation}\n",
    "Z_i = \\frac{x_i - \\mu(x)}{\\sigma(x)} ,\n",
    "\\end{equation}\n",
    "\n",
    "where, $\\mu(x)$ and $\\sigma(x)$ are the mean and the standard deviation of $x$, respectively. For example, let's get the Z-score of the `'Intensity'`:"
   ]
  },
  {
   "cell_type": "code",
   "execution_count": 2,
   "metadata": {},
   "outputs": [
    {
     "name": "stdout",
     "output_type": "stream",
     "text": [
      "102.22121883753611\n",
      "29.89723245290601\n"
     ]
    },
    {
     "data": {
      "text/html": [
       "<div>\n",
       "<style scoped>\n",
       "    .dataframe tbody tr th:only-of-type {\n",
       "        vertical-align: middle;\n",
       "    }\n",
       "\n",
       "    .dataframe tbody tr th {\n",
       "        vertical-align: top;\n",
       "    }\n",
       "\n",
       "    .dataframe thead th {\n",
       "        text-align: right;\n",
       "    }\n",
       "</style>\n",
       "<table border=\"1\" class=\"dataframe\">\n",
       "  <thead>\n",
       "    <tr style=\"text-align: right;\">\n",
       "      <th></th>\n",
       "      <th>Raw</th>\n",
       "      <th>Software</th>\n",
       "      <th>Node</th>\n",
       "      <th>RNA</th>\n",
       "      <th>Intensity</th>\n",
       "      <th>Amplitude</th>\n",
       "      <th>Z-Intensity</th>\n",
       "    </tr>\n",
       "  </thead>\n",
       "  <tbody>\n",
       "    <tr>\n",
       "      <th>0</th>\n",
       "      <td>1985-04-06_0123_GA_C_R1</td>\n",
       "      <td>PD</td>\n",
       "      <td>Amanda</td>\n",
       "      <td>CCUGAACCCACUAUUGAUGAG</td>\n",
       "      <td>142.294863</td>\n",
       "      <td>1.529504</td>\n",
       "      <td>1.340380</td>\n",
       "    </tr>\n",
       "    <tr>\n",
       "      <th>1</th>\n",
       "      <td>1985-04-06_0123_GA_C_R2</td>\n",
       "      <td>PD</td>\n",
       "      <td>Amanda</td>\n",
       "      <td>CCUGAACCCACUAUUGAUGAG</td>\n",
       "      <td>72.714405</td>\n",
       "      <td>1.226853</td>\n",
       "      <td>-0.986941</td>\n",
       "    </tr>\n",
       "    <tr>\n",
       "      <th>2</th>\n",
       "      <td>1985-04-06_0123_GA_T_R3</td>\n",
       "      <td>PD</td>\n",
       "      <td>Amanda</td>\n",
       "      <td>CCUGAACCCACUAUUGAUGAG</td>\n",
       "      <td>133.493350</td>\n",
       "      <td>1.768732</td>\n",
       "      <td>1.045987</td>\n",
       "    </tr>\n",
       "    <tr>\n",
       "      <th>3</th>\n",
       "      <td>1985-04-06_0123_GA_T_R4</td>\n",
       "      <td>PD</td>\n",
       "      <td>Amanda</td>\n",
       "      <td>CCUGAACCCACUAUUGAUGAG</td>\n",
       "      <td>62.007904</td>\n",
       "      <td>1.331619</td>\n",
       "      <td>-1.345051</td>\n",
       "    </tr>\n",
       "    <tr>\n",
       "      <th>4</th>\n",
       "      <td>1985-04-06_0123_GA_C_R1</td>\n",
       "      <td>PD</td>\n",
       "      <td>Sequest</td>\n",
       "      <td>CCUGAACCCACUAUUGAUGAG</td>\n",
       "      <td>112.643842</td>\n",
       "      <td>1.853473</td>\n",
       "      <td>0.348615</td>\n",
       "    </tr>\n",
       "    <tr>\n",
       "      <th>5</th>\n",
       "      <td>1985-04-06_0123_GA_C_R2</td>\n",
       "      <td>PD</td>\n",
       "      <td>Sequest</td>\n",
       "      <td>CCUGAACCCACUAUUGAUGAG</td>\n",
       "      <td>116.570249</td>\n",
       "      <td>1.821342</td>\n",
       "      <td>0.479945</td>\n",
       "    </tr>\n",
       "    <tr>\n",
       "      <th>6</th>\n",
       "      <td>1985-04-06_0123_GA_T_R3</td>\n",
       "      <td>PD</td>\n",
       "      <td>Sequest</td>\n",
       "      <td>CCUGAACCCACUAUUGAUGAG</td>\n",
       "      <td>NaN</td>\n",
       "      <td>1.406125</td>\n",
       "      <td>NaN</td>\n",
       "    </tr>\n",
       "    <tr>\n",
       "      <th>7</th>\n",
       "      <td>1985-04-06_0123_GA_T_R4</td>\n",
       "      <td>PD</td>\n",
       "      <td>Sequest</td>\n",
       "      <td>CCUGAACCCACUAUUGAUGAG</td>\n",
       "      <td>64.983534</td>\n",
       "      <td>1.903608</td>\n",
       "      <td>-1.245523</td>\n",
       "    </tr>\n",
       "    <tr>\n",
       "      <th>8</th>\n",
       "      <td>1985-04-06_0123_GA_C_R1</td>\n",
       "      <td>MQ</td>\n",
       "      <td>Andromeda</td>\n",
       "      <td>CCUGAACCCACUAUUGAUGAG</td>\n",
       "      <td>97.934919</td>\n",
       "      <td>1.437262</td>\n",
       "      <td>-0.143368</td>\n",
       "    </tr>\n",
       "    <tr>\n",
       "      <th>9</th>\n",
       "      <td>1985-04-06_0123_GA_C_R2</td>\n",
       "      <td>MQ</td>\n",
       "      <td>Andromeda</td>\n",
       "      <td>CCUGAACCCACUAUUGAUGAG</td>\n",
       "      <td>93.601301</td>\n",
       "      <td>1.647577</td>\n",
       "      <td>-0.288318</td>\n",
       "    </tr>\n",
       "    <tr>\n",
       "      <th>10</th>\n",
       "      <td>1985-04-06_0123_GA_T_R3</td>\n",
       "      <td>MQ</td>\n",
       "      <td>Andromeda</td>\n",
       "      <td>CCUGAACCCACUAUUGAUGAG</td>\n",
       "      <td>84.169260</td>\n",
       "      <td>1.981663</td>\n",
       "      <td>-0.603800</td>\n",
       "    </tr>\n",
       "    <tr>\n",
       "      <th>11</th>\n",
       "      <td>1985-04-06_0123_GA_T_R4</td>\n",
       "      <td>MQ</td>\n",
       "      <td>Andromeda</td>\n",
       "      <td>CCUGAACCCACUAUUGAUGAG</td>\n",
       "      <td>144.019781</td>\n",
       "      <td>1.671251</td>\n",
       "      <td>1.398075</td>\n",
       "    </tr>\n",
       "  </tbody>\n",
       "</table>\n",
       "</div>"
      ],
      "text/plain": [
       "                        Raw Software       Node                    RNA  \\\n",
       "0   1985-04-06_0123_GA_C_R1       PD     Amanda  CCUGAACCCACUAUUGAUGAG   \n",
       "1   1985-04-06_0123_GA_C_R2       PD     Amanda  CCUGAACCCACUAUUGAUGAG   \n",
       "2   1985-04-06_0123_GA_T_R3       PD     Amanda  CCUGAACCCACUAUUGAUGAG   \n",
       "3   1985-04-06_0123_GA_T_R4       PD     Amanda  CCUGAACCCACUAUUGAUGAG   \n",
       "4   1985-04-06_0123_GA_C_R1       PD    Sequest  CCUGAACCCACUAUUGAUGAG   \n",
       "5   1985-04-06_0123_GA_C_R2       PD    Sequest  CCUGAACCCACUAUUGAUGAG   \n",
       "6   1985-04-06_0123_GA_T_R3       PD    Sequest  CCUGAACCCACUAUUGAUGAG   \n",
       "7   1985-04-06_0123_GA_T_R4       PD    Sequest  CCUGAACCCACUAUUGAUGAG   \n",
       "8   1985-04-06_0123_GA_C_R1       MQ  Andromeda  CCUGAACCCACUAUUGAUGAG   \n",
       "9   1985-04-06_0123_GA_C_R2       MQ  Andromeda  CCUGAACCCACUAUUGAUGAG   \n",
       "10  1985-04-06_0123_GA_T_R3       MQ  Andromeda  CCUGAACCCACUAUUGAUGAG   \n",
       "11  1985-04-06_0123_GA_T_R4       MQ  Andromeda  CCUGAACCCACUAUUGAUGAG   \n",
       "\n",
       "     Intensity  Amplitude  Z-Intensity  \n",
       "0   142.294863   1.529504     1.340380  \n",
       "1    72.714405   1.226853    -0.986941  \n",
       "2   133.493350   1.768732     1.045987  \n",
       "3    62.007904   1.331619    -1.345051  \n",
       "4   112.643842   1.853473     0.348615  \n",
       "5   116.570249   1.821342     0.479945  \n",
       "6          NaN   1.406125          NaN  \n",
       "7    64.983534   1.903608    -1.245523  \n",
       "8    97.934919   1.437262    -0.143368  \n",
       "9    93.601301   1.647577    -0.288318  \n",
       "10   84.169260   1.981663    -0.603800  \n",
       "11  144.019781   1.671251     1.398075  "
      ]
     },
     "execution_count": 2,
     "metadata": {},
     "output_type": "execute_result"
    }
   ],
   "source": [
    "# Get the mean of the 'Intensity': I_mean\n",
    "I_mean = df['Intensity'].mean()\n",
    "print(I_mean)\n",
    "\n",
    "# Get the standard deviation the 'Intensity': I_std\n",
    "I_std = df['Intensity'].std()\n",
    "print(I_std)\n",
    "\n",
    "# Computing the Z-score of the 'Intensity' column and storing it in a new 'Z-Intensity' column\n",
    "df['Z-Intensity'] = (df['Intensity'] - I_mean) / I_std\n",
    "\n",
    "# Return the DataFrame\n",
    "df"
   ]
  },
  {
   "cell_type": "markdown",
   "metadata": {},
   "source": [
    "Note how easy is to operate with a whole columns (`df['Intensity']`) and constants (`I_mean` and `I_std`) using Pandas."
   ]
  },
  {
   "cell_type": "markdown",
   "metadata": {},
   "source": [
    "<div class=\"alert alert-block alert-success\"><b>Practice:</b>\n",
    "\n",
    "The $i$<sup>th</sup> observation of a magnitude $x$, $(x_i)$, has a 0-to-1 normalization, $(N_i)$, given by the following equation:\n",
    "\n",
    "\\begin{equation}\n",
    "N_i = \\frac{x_i - m(x)}{M(x) - m(x)},\n",
    "\\end{equation}\n",
    "\n",
    "where, $m(x)$ and $M(x)$ are the minimum and the maximum values of $x$, respectively.\n",
    "    \n",
    "1) In the 1<sup>st</sup> code cell below, compute the 0-to-1 normalization of the column `'Amplitude'` from the DataFrame `df`. \n",
    "    \n",
    "Un-comment and fill only those code lines with underscores `___`.\n",
    "</div>"
   ]
  },
  {
   "cell_type": "code",
   "execution_count": 3,
   "metadata": {
    "tags": [
     "ejercicio",
     "error"
    ]
   },
   "outputs": [],
   "source": [
    "# Get the minimum of the 'Amplitude': A_min\n",
    "#A_min = ___\n",
    "#print(A_min)\n",
    "\n",
    "# Get the mnaximum of the 'Amplitude': A_max\n",
    "#A_max = ___\n",
    "#print(A_max)\n",
    "\n",
    "# Computing the N-normalization of the 'Amplitude' column and storing it in a new 'N-Amplitude' column\n",
    "#df['N-Amplitude'] = ___\n",
    "\n",
    "# Return the DataFrame\n",
    "#df"
   ]
  },
  {
   "cell_type": "code",
   "execution_count": 4,
   "metadata": {
    "jupyter": {
     "source_hidden": true
    },
    "tags": [
     "ejercicio",
     "solucion"
    ]
   },
   "outputs": [
    {
     "name": "stdout",
     "output_type": "stream",
     "text": [
      "1.2268534790555992\n",
      "1.9816631161922262\n"
     ]
    },
    {
     "data": {
      "text/html": [
       "<div>\n",
       "<style scoped>\n",
       "    .dataframe tbody tr th:only-of-type {\n",
       "        vertical-align: middle;\n",
       "    }\n",
       "\n",
       "    .dataframe tbody tr th {\n",
       "        vertical-align: top;\n",
       "    }\n",
       "\n",
       "    .dataframe thead th {\n",
       "        text-align: right;\n",
       "    }\n",
       "</style>\n",
       "<table border=\"1\" class=\"dataframe\">\n",
       "  <thead>\n",
       "    <tr style=\"text-align: right;\">\n",
       "      <th></th>\n",
       "      <th>Raw</th>\n",
       "      <th>Software</th>\n",
       "      <th>Node</th>\n",
       "      <th>RNA</th>\n",
       "      <th>Intensity</th>\n",
       "      <th>Amplitude</th>\n",
       "      <th>Z-Intensity</th>\n",
       "      <th>N-Amplitude</th>\n",
       "    </tr>\n",
       "  </thead>\n",
       "  <tbody>\n",
       "    <tr>\n",
       "      <th>0</th>\n",
       "      <td>1985-04-06_0123_GA_C_R1</td>\n",
       "      <td>PD</td>\n",
       "      <td>Amanda</td>\n",
       "      <td>CCUGAACCCACUAUUGAUGAG</td>\n",
       "      <td>142.294863</td>\n",
       "      <td>1.529504</td>\n",
       "      <td>1.340380</td>\n",
       "      <td>0.400963</td>\n",
       "    </tr>\n",
       "    <tr>\n",
       "      <th>1</th>\n",
       "      <td>1985-04-06_0123_GA_C_R2</td>\n",
       "      <td>PD</td>\n",
       "      <td>Amanda</td>\n",
       "      <td>CCUGAACCCACUAUUGAUGAG</td>\n",
       "      <td>72.714405</td>\n",
       "      <td>1.226853</td>\n",
       "      <td>-0.986941</td>\n",
       "      <td>0.000000</td>\n",
       "    </tr>\n",
       "    <tr>\n",
       "      <th>2</th>\n",
       "      <td>1985-04-06_0123_GA_T_R3</td>\n",
       "      <td>PD</td>\n",
       "      <td>Amanda</td>\n",
       "      <td>CCUGAACCCACUAUUGAUGAG</td>\n",
       "      <td>133.493350</td>\n",
       "      <td>1.768732</td>\n",
       "      <td>1.045987</td>\n",
       "      <td>0.717901</td>\n",
       "    </tr>\n",
       "    <tr>\n",
       "      <th>3</th>\n",
       "      <td>1985-04-06_0123_GA_T_R4</td>\n",
       "      <td>PD</td>\n",
       "      <td>Amanda</td>\n",
       "      <td>CCUGAACCCACUAUUGAUGAG</td>\n",
       "      <td>62.007904</td>\n",
       "      <td>1.331619</td>\n",
       "      <td>-1.345051</td>\n",
       "      <td>0.138797</td>\n",
       "    </tr>\n",
       "    <tr>\n",
       "      <th>4</th>\n",
       "      <td>1985-04-06_0123_GA_C_R1</td>\n",
       "      <td>PD</td>\n",
       "      <td>Sequest</td>\n",
       "      <td>CCUGAACCCACUAUUGAUGAG</td>\n",
       "      <td>112.643842</td>\n",
       "      <td>1.853473</td>\n",
       "      <td>0.348615</td>\n",
       "      <td>0.830168</td>\n",
       "    </tr>\n",
       "    <tr>\n",
       "      <th>5</th>\n",
       "      <td>1985-04-06_0123_GA_C_R2</td>\n",
       "      <td>PD</td>\n",
       "      <td>Sequest</td>\n",
       "      <td>CCUGAACCCACUAUUGAUGAG</td>\n",
       "      <td>116.570249</td>\n",
       "      <td>1.821342</td>\n",
       "      <td>0.479945</td>\n",
       "      <td>0.787601</td>\n",
       "    </tr>\n",
       "    <tr>\n",
       "      <th>6</th>\n",
       "      <td>1985-04-06_0123_GA_T_R3</td>\n",
       "      <td>PD</td>\n",
       "      <td>Sequest</td>\n",
       "      <td>CCUGAACCCACUAUUGAUGAG</td>\n",
       "      <td>NaN</td>\n",
       "      <td>1.406125</td>\n",
       "      <td>NaN</td>\n",
       "      <td>0.237505</td>\n",
       "    </tr>\n",
       "    <tr>\n",
       "      <th>7</th>\n",
       "      <td>1985-04-06_0123_GA_T_R4</td>\n",
       "      <td>PD</td>\n",
       "      <td>Sequest</td>\n",
       "      <td>CCUGAACCCACUAUUGAUGAG</td>\n",
       "      <td>64.983534</td>\n",
       "      <td>1.903608</td>\n",
       "      <td>-1.245523</td>\n",
       "      <td>0.896589</td>\n",
       "    </tr>\n",
       "    <tr>\n",
       "      <th>8</th>\n",
       "      <td>1985-04-06_0123_GA_C_R1</td>\n",
       "      <td>MQ</td>\n",
       "      <td>Andromeda</td>\n",
       "      <td>CCUGAACCCACUAUUGAUGAG</td>\n",
       "      <td>97.934919</td>\n",
       "      <td>1.437262</td>\n",
       "      <td>-0.143368</td>\n",
       "      <td>0.278758</td>\n",
       "    </tr>\n",
       "    <tr>\n",
       "      <th>9</th>\n",
       "      <td>1985-04-06_0123_GA_C_R2</td>\n",
       "      <td>MQ</td>\n",
       "      <td>Andromeda</td>\n",
       "      <td>CCUGAACCCACUAUUGAUGAG</td>\n",
       "      <td>93.601301</td>\n",
       "      <td>1.647577</td>\n",
       "      <td>-0.288318</td>\n",
       "      <td>0.557390</td>\n",
       "    </tr>\n",
       "    <tr>\n",
       "      <th>10</th>\n",
       "      <td>1985-04-06_0123_GA_T_R3</td>\n",
       "      <td>MQ</td>\n",
       "      <td>Andromeda</td>\n",
       "      <td>CCUGAACCCACUAUUGAUGAG</td>\n",
       "      <td>84.169260</td>\n",
       "      <td>1.981663</td>\n",
       "      <td>-0.603800</td>\n",
       "      <td>1.000000</td>\n",
       "    </tr>\n",
       "    <tr>\n",
       "      <th>11</th>\n",
       "      <td>1985-04-06_0123_GA_T_R4</td>\n",
       "      <td>MQ</td>\n",
       "      <td>Andromeda</td>\n",
       "      <td>CCUGAACCCACUAUUGAUGAG</td>\n",
       "      <td>144.019781</td>\n",
       "      <td>1.671251</td>\n",
       "      <td>1.398075</td>\n",
       "      <td>0.588755</td>\n",
       "    </tr>\n",
       "  </tbody>\n",
       "</table>\n",
       "</div>"
      ],
      "text/plain": [
       "                        Raw Software       Node                    RNA  \\\n",
       "0   1985-04-06_0123_GA_C_R1       PD     Amanda  CCUGAACCCACUAUUGAUGAG   \n",
       "1   1985-04-06_0123_GA_C_R2       PD     Amanda  CCUGAACCCACUAUUGAUGAG   \n",
       "2   1985-04-06_0123_GA_T_R3       PD     Amanda  CCUGAACCCACUAUUGAUGAG   \n",
       "3   1985-04-06_0123_GA_T_R4       PD     Amanda  CCUGAACCCACUAUUGAUGAG   \n",
       "4   1985-04-06_0123_GA_C_R1       PD    Sequest  CCUGAACCCACUAUUGAUGAG   \n",
       "5   1985-04-06_0123_GA_C_R2       PD    Sequest  CCUGAACCCACUAUUGAUGAG   \n",
       "6   1985-04-06_0123_GA_T_R3       PD    Sequest  CCUGAACCCACUAUUGAUGAG   \n",
       "7   1985-04-06_0123_GA_T_R4       PD    Sequest  CCUGAACCCACUAUUGAUGAG   \n",
       "8   1985-04-06_0123_GA_C_R1       MQ  Andromeda  CCUGAACCCACUAUUGAUGAG   \n",
       "9   1985-04-06_0123_GA_C_R2       MQ  Andromeda  CCUGAACCCACUAUUGAUGAG   \n",
       "10  1985-04-06_0123_GA_T_R3       MQ  Andromeda  CCUGAACCCACUAUUGAUGAG   \n",
       "11  1985-04-06_0123_GA_T_R4       MQ  Andromeda  CCUGAACCCACUAUUGAUGAG   \n",
       "\n",
       "     Intensity  Amplitude  Z-Intensity  N-Amplitude  \n",
       "0   142.294863   1.529504     1.340380     0.400963  \n",
       "1    72.714405   1.226853    -0.986941     0.000000  \n",
       "2   133.493350   1.768732     1.045987     0.717901  \n",
       "3    62.007904   1.331619    -1.345051     0.138797  \n",
       "4   112.643842   1.853473     0.348615     0.830168  \n",
       "5   116.570249   1.821342     0.479945     0.787601  \n",
       "6          NaN   1.406125          NaN     0.237505  \n",
       "7    64.983534   1.903608    -1.245523     0.896589  \n",
       "8    97.934919   1.437262    -0.143368     0.278758  \n",
       "9    93.601301   1.647577    -0.288318     0.557390  \n",
       "10   84.169260   1.981663    -0.603800     1.000000  \n",
       "11  144.019781   1.671251     1.398075     0.588755  "
      ]
     },
     "execution_count": 4,
     "metadata": {},
     "output_type": "execute_result"
    }
   ],
   "source": [
    "# Get the minimum of the 'Amplitude': A_min\n",
    "A_min = df['Amplitude'].min()\n",
    "print(A_min)\n",
    "\n",
    "# Get the mnaximum of the 'Amplitude': A_max\n",
    "A_max = df['Amplitude'].max()\n",
    "print(A_max)\n",
    "\n",
    "# Computing the N-normalization of the 'Amplitude' column and storing it in a new 'N-Amplitude' column\n",
    "df['N-Amplitude'] = (df['Amplitude'] - A_min) / (A_max - A_min)\n",
    "\n",
    "# Return the DataFrame\n",
    "df"
   ]
  },
  {
   "cell_type": "markdown",
   "metadata": {
    "tags": []
   },
   "source": [
    "Let's now devote some time in arranging `df` a bit more. For example, now that we have `df['Z-Intensity']` and `df['N-Amplitude']` we could discard `df['Intensity']` and `df['Amplitude']` using the [`.drop()`](https://pandas.pydata.org/pandas-docs/stable/reference/api/pandas.DataFrame.drop.html) method:"
   ]
  },
  {
   "cell_type": "code",
   "execution_count": 5,
   "metadata": {},
   "outputs": [
    {
     "data": {
      "text/html": [
       "<div>\n",
       "<style scoped>\n",
       "    .dataframe tbody tr th:only-of-type {\n",
       "        vertical-align: middle;\n",
       "    }\n",
       "\n",
       "    .dataframe tbody tr th {\n",
       "        vertical-align: top;\n",
       "    }\n",
       "\n",
       "    .dataframe thead th {\n",
       "        text-align: right;\n",
       "    }\n",
       "</style>\n",
       "<table border=\"1\" class=\"dataframe\">\n",
       "  <thead>\n",
       "    <tr style=\"text-align: right;\">\n",
       "      <th></th>\n",
       "      <th>Raw</th>\n",
       "      <th>Software</th>\n",
       "      <th>Node</th>\n",
       "      <th>RNA</th>\n",
       "      <th>Z-Intensity</th>\n",
       "      <th>N-Amplitude</th>\n",
       "    </tr>\n",
       "  </thead>\n",
       "  <tbody>\n",
       "    <tr>\n",
       "      <th>0</th>\n",
       "      <td>1985-04-06_0123_GA_C_R1</td>\n",
       "      <td>PD</td>\n",
       "      <td>Amanda</td>\n",
       "      <td>CCUGAACCCACUAUUGAUGAG</td>\n",
       "      <td>1.340380</td>\n",
       "      <td>0.400963</td>\n",
       "    </tr>\n",
       "    <tr>\n",
       "      <th>1</th>\n",
       "      <td>1985-04-06_0123_GA_C_R2</td>\n",
       "      <td>PD</td>\n",
       "      <td>Amanda</td>\n",
       "      <td>CCUGAACCCACUAUUGAUGAG</td>\n",
       "      <td>-0.986941</td>\n",
       "      <td>0.000000</td>\n",
       "    </tr>\n",
       "    <tr>\n",
       "      <th>2</th>\n",
       "      <td>1985-04-06_0123_GA_T_R3</td>\n",
       "      <td>PD</td>\n",
       "      <td>Amanda</td>\n",
       "      <td>CCUGAACCCACUAUUGAUGAG</td>\n",
       "      <td>1.045987</td>\n",
       "      <td>0.717901</td>\n",
       "    </tr>\n",
       "    <tr>\n",
       "      <th>3</th>\n",
       "      <td>1985-04-06_0123_GA_T_R4</td>\n",
       "      <td>PD</td>\n",
       "      <td>Amanda</td>\n",
       "      <td>CCUGAACCCACUAUUGAUGAG</td>\n",
       "      <td>-1.345051</td>\n",
       "      <td>0.138797</td>\n",
       "    </tr>\n",
       "    <tr>\n",
       "      <th>4</th>\n",
       "      <td>1985-04-06_0123_GA_C_R1</td>\n",
       "      <td>PD</td>\n",
       "      <td>Sequest</td>\n",
       "      <td>CCUGAACCCACUAUUGAUGAG</td>\n",
       "      <td>0.348615</td>\n",
       "      <td>0.830168</td>\n",
       "    </tr>\n",
       "    <tr>\n",
       "      <th>5</th>\n",
       "      <td>1985-04-06_0123_GA_C_R2</td>\n",
       "      <td>PD</td>\n",
       "      <td>Sequest</td>\n",
       "      <td>CCUGAACCCACUAUUGAUGAG</td>\n",
       "      <td>0.479945</td>\n",
       "      <td>0.787601</td>\n",
       "    </tr>\n",
       "    <tr>\n",
       "      <th>6</th>\n",
       "      <td>1985-04-06_0123_GA_T_R3</td>\n",
       "      <td>PD</td>\n",
       "      <td>Sequest</td>\n",
       "      <td>CCUGAACCCACUAUUGAUGAG</td>\n",
       "      <td>NaN</td>\n",
       "      <td>0.237505</td>\n",
       "    </tr>\n",
       "    <tr>\n",
       "      <th>7</th>\n",
       "      <td>1985-04-06_0123_GA_T_R4</td>\n",
       "      <td>PD</td>\n",
       "      <td>Sequest</td>\n",
       "      <td>CCUGAACCCACUAUUGAUGAG</td>\n",
       "      <td>-1.245523</td>\n",
       "      <td>0.896589</td>\n",
       "    </tr>\n",
       "    <tr>\n",
       "      <th>8</th>\n",
       "      <td>1985-04-06_0123_GA_C_R1</td>\n",
       "      <td>MQ</td>\n",
       "      <td>Andromeda</td>\n",
       "      <td>CCUGAACCCACUAUUGAUGAG</td>\n",
       "      <td>-0.143368</td>\n",
       "      <td>0.278758</td>\n",
       "    </tr>\n",
       "    <tr>\n",
       "      <th>9</th>\n",
       "      <td>1985-04-06_0123_GA_C_R2</td>\n",
       "      <td>MQ</td>\n",
       "      <td>Andromeda</td>\n",
       "      <td>CCUGAACCCACUAUUGAUGAG</td>\n",
       "      <td>-0.288318</td>\n",
       "      <td>0.557390</td>\n",
       "    </tr>\n",
       "    <tr>\n",
       "      <th>10</th>\n",
       "      <td>1985-04-06_0123_GA_T_R3</td>\n",
       "      <td>MQ</td>\n",
       "      <td>Andromeda</td>\n",
       "      <td>CCUGAACCCACUAUUGAUGAG</td>\n",
       "      <td>-0.603800</td>\n",
       "      <td>1.000000</td>\n",
       "    </tr>\n",
       "    <tr>\n",
       "      <th>11</th>\n",
       "      <td>1985-04-06_0123_GA_T_R4</td>\n",
       "      <td>MQ</td>\n",
       "      <td>Andromeda</td>\n",
       "      <td>CCUGAACCCACUAUUGAUGAG</td>\n",
       "      <td>1.398075</td>\n",
       "      <td>0.588755</td>\n",
       "    </tr>\n",
       "  </tbody>\n",
       "</table>\n",
       "</div>"
      ],
      "text/plain": [
       "                        Raw Software       Node                    RNA  \\\n",
       "0   1985-04-06_0123_GA_C_R1       PD     Amanda  CCUGAACCCACUAUUGAUGAG   \n",
       "1   1985-04-06_0123_GA_C_R2       PD     Amanda  CCUGAACCCACUAUUGAUGAG   \n",
       "2   1985-04-06_0123_GA_T_R3       PD     Amanda  CCUGAACCCACUAUUGAUGAG   \n",
       "3   1985-04-06_0123_GA_T_R4       PD     Amanda  CCUGAACCCACUAUUGAUGAG   \n",
       "4   1985-04-06_0123_GA_C_R1       PD    Sequest  CCUGAACCCACUAUUGAUGAG   \n",
       "5   1985-04-06_0123_GA_C_R2       PD    Sequest  CCUGAACCCACUAUUGAUGAG   \n",
       "6   1985-04-06_0123_GA_T_R3       PD    Sequest  CCUGAACCCACUAUUGAUGAG   \n",
       "7   1985-04-06_0123_GA_T_R4       PD    Sequest  CCUGAACCCACUAUUGAUGAG   \n",
       "8   1985-04-06_0123_GA_C_R1       MQ  Andromeda  CCUGAACCCACUAUUGAUGAG   \n",
       "9   1985-04-06_0123_GA_C_R2       MQ  Andromeda  CCUGAACCCACUAUUGAUGAG   \n",
       "10  1985-04-06_0123_GA_T_R3       MQ  Andromeda  CCUGAACCCACUAUUGAUGAG   \n",
       "11  1985-04-06_0123_GA_T_R4       MQ  Andromeda  CCUGAACCCACUAUUGAUGAG   \n",
       "\n",
       "    Z-Intensity  N-Amplitude  \n",
       "0      1.340380     0.400963  \n",
       "1     -0.986941     0.000000  \n",
       "2      1.045987     0.717901  \n",
       "3     -1.345051     0.138797  \n",
       "4      0.348615     0.830168  \n",
       "5      0.479945     0.787601  \n",
       "6           NaN     0.237505  \n",
       "7     -1.245523     0.896589  \n",
       "8     -0.143368     0.278758  \n",
       "9     -0.288318     0.557390  \n",
       "10    -0.603800     1.000000  \n",
       "11     1.398075     0.588755  "
      ]
     },
     "execution_count": 5,
     "metadata": {},
     "output_type": "execute_result"
    }
   ],
   "source": [
    "# Dropping redundant columns 'Intensity' and 'Amplitude'\n",
    "list_drop = ['Intensity', 'Amplitude']\n",
    "df = df.drop(columns=list_drop)\n",
    "\n",
    "# Return the DataFrame\n",
    "df"
   ]
  },
  {
   "cell_type": "markdown",
   "metadata": {},
   "source": [
    "In general is a good practice to use nice self explanatory labels for DataFrame columns. However it is also recommended to use labels as short as possible (try to find your balance between self explanatory and short). With this in mind, lets update some column names from `df` using the [`.rename()`](https://pandas.pydata.org/pandas-docs/stable/reference/api/pandas.DataFrame.rename.html) method:"
   ]
  },
  {
   "cell_type": "code",
   "execution_count": 6,
   "metadata": {},
   "outputs": [
    {
     "data": {
      "text/html": [
       "<div>\n",
       "<style scoped>\n",
       "    .dataframe tbody tr th:only-of-type {\n",
       "        vertical-align: middle;\n",
       "    }\n",
       "\n",
       "    .dataframe tbody tr th {\n",
       "        vertical-align: top;\n",
       "    }\n",
       "\n",
       "    .dataframe thead th {\n",
       "        text-align: right;\n",
       "    }\n",
       "</style>\n",
       "<table border=\"1\" class=\"dataframe\">\n",
       "  <thead>\n",
       "    <tr style=\"text-align: right;\">\n",
       "      <th></th>\n",
       "      <th>Raw</th>\n",
       "      <th>Soft</th>\n",
       "      <th>Node</th>\n",
       "      <th>RNA</th>\n",
       "      <th>I</th>\n",
       "      <th>A</th>\n",
       "    </tr>\n",
       "  </thead>\n",
       "  <tbody>\n",
       "    <tr>\n",
       "      <th>0</th>\n",
       "      <td>1985-04-06_0123_GA_C_R1</td>\n",
       "      <td>PD</td>\n",
       "      <td>Amanda</td>\n",
       "      <td>CCUGAACCCACUAUUGAUGAG</td>\n",
       "      <td>1.340380</td>\n",
       "      <td>0.400963</td>\n",
       "    </tr>\n",
       "    <tr>\n",
       "      <th>1</th>\n",
       "      <td>1985-04-06_0123_GA_C_R2</td>\n",
       "      <td>PD</td>\n",
       "      <td>Amanda</td>\n",
       "      <td>CCUGAACCCACUAUUGAUGAG</td>\n",
       "      <td>-0.986941</td>\n",
       "      <td>0.000000</td>\n",
       "    </tr>\n",
       "    <tr>\n",
       "      <th>2</th>\n",
       "      <td>1985-04-06_0123_GA_T_R3</td>\n",
       "      <td>PD</td>\n",
       "      <td>Amanda</td>\n",
       "      <td>CCUGAACCCACUAUUGAUGAG</td>\n",
       "      <td>1.045987</td>\n",
       "      <td>0.717901</td>\n",
       "    </tr>\n",
       "    <tr>\n",
       "      <th>3</th>\n",
       "      <td>1985-04-06_0123_GA_T_R4</td>\n",
       "      <td>PD</td>\n",
       "      <td>Amanda</td>\n",
       "      <td>CCUGAACCCACUAUUGAUGAG</td>\n",
       "      <td>-1.345051</td>\n",
       "      <td>0.138797</td>\n",
       "    </tr>\n",
       "    <tr>\n",
       "      <th>4</th>\n",
       "      <td>1985-04-06_0123_GA_C_R1</td>\n",
       "      <td>PD</td>\n",
       "      <td>Sequest</td>\n",
       "      <td>CCUGAACCCACUAUUGAUGAG</td>\n",
       "      <td>0.348615</td>\n",
       "      <td>0.830168</td>\n",
       "    </tr>\n",
       "    <tr>\n",
       "      <th>5</th>\n",
       "      <td>1985-04-06_0123_GA_C_R2</td>\n",
       "      <td>PD</td>\n",
       "      <td>Sequest</td>\n",
       "      <td>CCUGAACCCACUAUUGAUGAG</td>\n",
       "      <td>0.479945</td>\n",
       "      <td>0.787601</td>\n",
       "    </tr>\n",
       "    <tr>\n",
       "      <th>6</th>\n",
       "      <td>1985-04-06_0123_GA_T_R3</td>\n",
       "      <td>PD</td>\n",
       "      <td>Sequest</td>\n",
       "      <td>CCUGAACCCACUAUUGAUGAG</td>\n",
       "      <td>NaN</td>\n",
       "      <td>0.237505</td>\n",
       "    </tr>\n",
       "    <tr>\n",
       "      <th>7</th>\n",
       "      <td>1985-04-06_0123_GA_T_R4</td>\n",
       "      <td>PD</td>\n",
       "      <td>Sequest</td>\n",
       "      <td>CCUGAACCCACUAUUGAUGAG</td>\n",
       "      <td>-1.245523</td>\n",
       "      <td>0.896589</td>\n",
       "    </tr>\n",
       "    <tr>\n",
       "      <th>8</th>\n",
       "      <td>1985-04-06_0123_GA_C_R1</td>\n",
       "      <td>MQ</td>\n",
       "      <td>Andromeda</td>\n",
       "      <td>CCUGAACCCACUAUUGAUGAG</td>\n",
       "      <td>-0.143368</td>\n",
       "      <td>0.278758</td>\n",
       "    </tr>\n",
       "    <tr>\n",
       "      <th>9</th>\n",
       "      <td>1985-04-06_0123_GA_C_R2</td>\n",
       "      <td>MQ</td>\n",
       "      <td>Andromeda</td>\n",
       "      <td>CCUGAACCCACUAUUGAUGAG</td>\n",
       "      <td>-0.288318</td>\n",
       "      <td>0.557390</td>\n",
       "    </tr>\n",
       "    <tr>\n",
       "      <th>10</th>\n",
       "      <td>1985-04-06_0123_GA_T_R3</td>\n",
       "      <td>MQ</td>\n",
       "      <td>Andromeda</td>\n",
       "      <td>CCUGAACCCACUAUUGAUGAG</td>\n",
       "      <td>-0.603800</td>\n",
       "      <td>1.000000</td>\n",
       "    </tr>\n",
       "    <tr>\n",
       "      <th>11</th>\n",
       "      <td>1985-04-06_0123_GA_T_R4</td>\n",
       "      <td>MQ</td>\n",
       "      <td>Andromeda</td>\n",
       "      <td>CCUGAACCCACUAUUGAUGAG</td>\n",
       "      <td>1.398075</td>\n",
       "      <td>0.588755</td>\n",
       "    </tr>\n",
       "  </tbody>\n",
       "</table>\n",
       "</div>"
      ],
      "text/plain": [
       "                        Raw Soft       Node                    RNA         I  \\\n",
       "0   1985-04-06_0123_GA_C_R1   PD     Amanda  CCUGAACCCACUAUUGAUGAG  1.340380   \n",
       "1   1985-04-06_0123_GA_C_R2   PD     Amanda  CCUGAACCCACUAUUGAUGAG -0.986941   \n",
       "2   1985-04-06_0123_GA_T_R3   PD     Amanda  CCUGAACCCACUAUUGAUGAG  1.045987   \n",
       "3   1985-04-06_0123_GA_T_R4   PD     Amanda  CCUGAACCCACUAUUGAUGAG -1.345051   \n",
       "4   1985-04-06_0123_GA_C_R1   PD    Sequest  CCUGAACCCACUAUUGAUGAG  0.348615   \n",
       "5   1985-04-06_0123_GA_C_R2   PD    Sequest  CCUGAACCCACUAUUGAUGAG  0.479945   \n",
       "6   1985-04-06_0123_GA_T_R3   PD    Sequest  CCUGAACCCACUAUUGAUGAG       NaN   \n",
       "7   1985-04-06_0123_GA_T_R4   PD    Sequest  CCUGAACCCACUAUUGAUGAG -1.245523   \n",
       "8   1985-04-06_0123_GA_C_R1   MQ  Andromeda  CCUGAACCCACUAUUGAUGAG -0.143368   \n",
       "9   1985-04-06_0123_GA_C_R2   MQ  Andromeda  CCUGAACCCACUAUUGAUGAG -0.288318   \n",
       "10  1985-04-06_0123_GA_T_R3   MQ  Andromeda  CCUGAACCCACUAUUGAUGAG -0.603800   \n",
       "11  1985-04-06_0123_GA_T_R4   MQ  Andromeda  CCUGAACCCACUAUUGAUGAG  1.398075   \n",
       "\n",
       "           A  \n",
       "0   0.400963  \n",
       "1   0.000000  \n",
       "2   0.717901  \n",
       "3   0.138797  \n",
       "4   0.830168  \n",
       "5   0.787601  \n",
       "6   0.237505  \n",
       "7   0.896589  \n",
       "8   0.278758  \n",
       "9   0.557390  \n",
       "10  1.000000  \n",
       "11  0.588755  "
      ]
     },
     "execution_count": 6,
     "metadata": {},
     "output_type": "execute_result"
    }
   ],
   "source": [
    "# Creating a renaming dictionary for incomming column rename\n",
    "dic_rename = {'Software': 'Soft', 'Sequence': 'Seq', 'Z-Intensity': 'I', 'N-Amplitude': 'A'}\n",
    "\n",
    "# Renaming some columns from `df`\n",
    "df = df.rename(columns=dic_rename)\n",
    "\n",
    "# Return the DataFrame\n",
    "df"
   ]
  },
  {
   "cell_type": "markdown",
   "metadata": {},
   "source": [
    "Do you remember that dictionaries were know as a *mapping data types*? in `df.rename(columns=dic_rename)` we used `dic_rename` to *map* old (*keys*) with new (*values*) column names."
   ]
  },
  {
   "cell_type": "markdown",
   "metadata": {},
   "source": [
    "### DataFrame text transformations\n",
    "\n",
    "Sometimes is useful to use text transformations on a given DataFrame column. For example, look at the column `df['Raw']`. The strings within this column have a well organized structure comprising multiple substrings joined with underscores (`_`):"
   ]
  },
  {
   "cell_type": "code",
   "execution_count": 7,
   "metadata": {},
   "outputs": [
    {
     "data": {
      "text/html": [
       "<div>\n",
       "<style scoped>\n",
       "    .dataframe tbody tr th:only-of-type {\n",
       "        vertical-align: middle;\n",
       "    }\n",
       "\n",
       "    .dataframe tbody tr th {\n",
       "        vertical-align: top;\n",
       "    }\n",
       "\n",
       "    .dataframe thead th {\n",
       "        text-align: right;\n",
       "    }\n",
       "</style>\n",
       "<table border=\"1\" class=\"dataframe\">\n",
       "  <thead>\n",
       "    <tr style=\"text-align: right;\">\n",
       "      <th></th>\n",
       "      <th>Raw</th>\n",
       "    </tr>\n",
       "  </thead>\n",
       "  <tbody>\n",
       "    <tr>\n",
       "      <th>0</th>\n",
       "      <td>1985-04-06_0123_GA_C_R1</td>\n",
       "    </tr>\n",
       "    <tr>\n",
       "      <th>1</th>\n",
       "      <td>1985-04-06_0123_GA_C_R2</td>\n",
       "    </tr>\n",
       "    <tr>\n",
       "      <th>2</th>\n",
       "      <td>1985-04-06_0123_GA_T_R3</td>\n",
       "    </tr>\n",
       "    <tr>\n",
       "      <th>3</th>\n",
       "      <td>1985-04-06_0123_GA_T_R4</td>\n",
       "    </tr>\n",
       "    <tr>\n",
       "      <th>4</th>\n",
       "      <td>1985-04-06_0123_GA_C_R1</td>\n",
       "    </tr>\n",
       "    <tr>\n",
       "      <th>5</th>\n",
       "      <td>1985-04-06_0123_GA_C_R2</td>\n",
       "    </tr>\n",
       "    <tr>\n",
       "      <th>6</th>\n",
       "      <td>1985-04-06_0123_GA_T_R3</td>\n",
       "    </tr>\n",
       "    <tr>\n",
       "      <th>7</th>\n",
       "      <td>1985-04-06_0123_GA_T_R4</td>\n",
       "    </tr>\n",
       "    <tr>\n",
       "      <th>8</th>\n",
       "      <td>1985-04-06_0123_GA_C_R1</td>\n",
       "    </tr>\n",
       "    <tr>\n",
       "      <th>9</th>\n",
       "      <td>1985-04-06_0123_GA_C_R2</td>\n",
       "    </tr>\n",
       "    <tr>\n",
       "      <th>10</th>\n",
       "      <td>1985-04-06_0123_GA_T_R3</td>\n",
       "    </tr>\n",
       "    <tr>\n",
       "      <th>11</th>\n",
       "      <td>1985-04-06_0123_GA_T_R4</td>\n",
       "    </tr>\n",
       "  </tbody>\n",
       "</table>\n",
       "</div>"
      ],
      "text/plain": [
       "                        Raw\n",
       "0   1985-04-06_0123_GA_C_R1\n",
       "1   1985-04-06_0123_GA_C_R2\n",
       "2   1985-04-06_0123_GA_T_R3\n",
       "3   1985-04-06_0123_GA_T_R4\n",
       "4   1985-04-06_0123_GA_C_R1\n",
       "5   1985-04-06_0123_GA_C_R2\n",
       "6   1985-04-06_0123_GA_T_R3\n",
       "7   1985-04-06_0123_GA_T_R4\n",
       "8   1985-04-06_0123_GA_C_R1\n",
       "9   1985-04-06_0123_GA_C_R2\n",
       "10  1985-04-06_0123_GA_T_R3\n",
       "11  1985-04-06_0123_GA_T_R4"
      ]
     },
     "execution_count": 7,
     "metadata": {},
     "output_type": "execute_result"
    }
   ],
   "source": [
    "# Accessing ..... as a single column DataFrame\n",
    "df[['Raw']]"
   ]
  },
  {
   "cell_type": "markdown",
   "metadata": {},
   "source": [
    "It seems that we have a date (`1985-04-06`), a four-digit code (`0123`), a two-letters code (`GA`), some kind of single letter indicator (`T` / `C`) and another correlative indicator (`R1` / `R2` / `R3` / `R4`). Let's add this info as independent columns into `df`:"
   ]
  },
  {
   "cell_type": "code",
   "execution_count": 8,
   "metadata": {},
   "outputs": [
    {
     "data": {
      "text/html": [
       "<div>\n",
       "<style scoped>\n",
       "    .dataframe tbody tr th:only-of-type {\n",
       "        vertical-align: middle;\n",
       "    }\n",
       "\n",
       "    .dataframe tbody tr th {\n",
       "        vertical-align: top;\n",
       "    }\n",
       "\n",
       "    .dataframe thead th {\n",
       "        text-align: right;\n",
       "    }\n",
       "</style>\n",
       "<table border=\"1\" class=\"dataframe\">\n",
       "  <thead>\n",
       "    <tr style=\"text-align: right;\">\n",
       "      <th></th>\n",
       "      <th>Raw</th>\n",
       "      <th>Soft</th>\n",
       "      <th>Node</th>\n",
       "      <th>RNA</th>\n",
       "      <th>I</th>\n",
       "      <th>A</th>\n",
       "      <th>Split raw</th>\n",
       "    </tr>\n",
       "  </thead>\n",
       "  <tbody>\n",
       "    <tr>\n",
       "      <th>0</th>\n",
       "      <td>1985-04-06_0123_GA_C_R1</td>\n",
       "      <td>PD</td>\n",
       "      <td>Amanda</td>\n",
       "      <td>CCUGAACCCACUAUUGAUGAG</td>\n",
       "      <td>1.340380</td>\n",
       "      <td>0.400963</td>\n",
       "      <td>[1985-04-06, 0123, GA, C, R1]</td>\n",
       "    </tr>\n",
       "    <tr>\n",
       "      <th>1</th>\n",
       "      <td>1985-04-06_0123_GA_C_R2</td>\n",
       "      <td>PD</td>\n",
       "      <td>Amanda</td>\n",
       "      <td>CCUGAACCCACUAUUGAUGAG</td>\n",
       "      <td>-0.986941</td>\n",
       "      <td>0.000000</td>\n",
       "      <td>[1985-04-06, 0123, GA, C, R2]</td>\n",
       "    </tr>\n",
       "    <tr>\n",
       "      <th>2</th>\n",
       "      <td>1985-04-06_0123_GA_T_R3</td>\n",
       "      <td>PD</td>\n",
       "      <td>Amanda</td>\n",
       "      <td>CCUGAACCCACUAUUGAUGAG</td>\n",
       "      <td>1.045987</td>\n",
       "      <td>0.717901</td>\n",
       "      <td>[1985-04-06, 0123, GA, T, R3]</td>\n",
       "    </tr>\n",
       "    <tr>\n",
       "      <th>3</th>\n",
       "      <td>1985-04-06_0123_GA_T_R4</td>\n",
       "      <td>PD</td>\n",
       "      <td>Amanda</td>\n",
       "      <td>CCUGAACCCACUAUUGAUGAG</td>\n",
       "      <td>-1.345051</td>\n",
       "      <td>0.138797</td>\n",
       "      <td>[1985-04-06, 0123, GA, T, R4]</td>\n",
       "    </tr>\n",
       "    <tr>\n",
       "      <th>4</th>\n",
       "      <td>1985-04-06_0123_GA_C_R1</td>\n",
       "      <td>PD</td>\n",
       "      <td>Sequest</td>\n",
       "      <td>CCUGAACCCACUAUUGAUGAG</td>\n",
       "      <td>0.348615</td>\n",
       "      <td>0.830168</td>\n",
       "      <td>[1985-04-06, 0123, GA, C, R1]</td>\n",
       "    </tr>\n",
       "    <tr>\n",
       "      <th>5</th>\n",
       "      <td>1985-04-06_0123_GA_C_R2</td>\n",
       "      <td>PD</td>\n",
       "      <td>Sequest</td>\n",
       "      <td>CCUGAACCCACUAUUGAUGAG</td>\n",
       "      <td>0.479945</td>\n",
       "      <td>0.787601</td>\n",
       "      <td>[1985-04-06, 0123, GA, C, R2]</td>\n",
       "    </tr>\n",
       "    <tr>\n",
       "      <th>6</th>\n",
       "      <td>1985-04-06_0123_GA_T_R3</td>\n",
       "      <td>PD</td>\n",
       "      <td>Sequest</td>\n",
       "      <td>CCUGAACCCACUAUUGAUGAG</td>\n",
       "      <td>NaN</td>\n",
       "      <td>0.237505</td>\n",
       "      <td>[1985-04-06, 0123, GA, T, R3]</td>\n",
       "    </tr>\n",
       "    <tr>\n",
       "      <th>7</th>\n",
       "      <td>1985-04-06_0123_GA_T_R4</td>\n",
       "      <td>PD</td>\n",
       "      <td>Sequest</td>\n",
       "      <td>CCUGAACCCACUAUUGAUGAG</td>\n",
       "      <td>-1.245523</td>\n",
       "      <td>0.896589</td>\n",
       "      <td>[1985-04-06, 0123, GA, T, R4]</td>\n",
       "    </tr>\n",
       "    <tr>\n",
       "      <th>8</th>\n",
       "      <td>1985-04-06_0123_GA_C_R1</td>\n",
       "      <td>MQ</td>\n",
       "      <td>Andromeda</td>\n",
       "      <td>CCUGAACCCACUAUUGAUGAG</td>\n",
       "      <td>-0.143368</td>\n",
       "      <td>0.278758</td>\n",
       "      <td>[1985-04-06, 0123, GA, C, R1]</td>\n",
       "    </tr>\n",
       "    <tr>\n",
       "      <th>9</th>\n",
       "      <td>1985-04-06_0123_GA_C_R2</td>\n",
       "      <td>MQ</td>\n",
       "      <td>Andromeda</td>\n",
       "      <td>CCUGAACCCACUAUUGAUGAG</td>\n",
       "      <td>-0.288318</td>\n",
       "      <td>0.557390</td>\n",
       "      <td>[1985-04-06, 0123, GA, C, R2]</td>\n",
       "    </tr>\n",
       "    <tr>\n",
       "      <th>10</th>\n",
       "      <td>1985-04-06_0123_GA_T_R3</td>\n",
       "      <td>MQ</td>\n",
       "      <td>Andromeda</td>\n",
       "      <td>CCUGAACCCACUAUUGAUGAG</td>\n",
       "      <td>-0.603800</td>\n",
       "      <td>1.000000</td>\n",
       "      <td>[1985-04-06, 0123, GA, T, R3]</td>\n",
       "    </tr>\n",
       "    <tr>\n",
       "      <th>11</th>\n",
       "      <td>1985-04-06_0123_GA_T_R4</td>\n",
       "      <td>MQ</td>\n",
       "      <td>Andromeda</td>\n",
       "      <td>CCUGAACCCACUAUUGAUGAG</td>\n",
       "      <td>1.398075</td>\n",
       "      <td>0.588755</td>\n",
       "      <td>[1985-04-06, 0123, GA, T, R4]</td>\n",
       "    </tr>\n",
       "  </tbody>\n",
       "</table>\n",
       "</div>"
      ],
      "text/plain": [
       "                        Raw Soft       Node                    RNA         I  \\\n",
       "0   1985-04-06_0123_GA_C_R1   PD     Amanda  CCUGAACCCACUAUUGAUGAG  1.340380   \n",
       "1   1985-04-06_0123_GA_C_R2   PD     Amanda  CCUGAACCCACUAUUGAUGAG -0.986941   \n",
       "2   1985-04-06_0123_GA_T_R3   PD     Amanda  CCUGAACCCACUAUUGAUGAG  1.045987   \n",
       "3   1985-04-06_0123_GA_T_R4   PD     Amanda  CCUGAACCCACUAUUGAUGAG -1.345051   \n",
       "4   1985-04-06_0123_GA_C_R1   PD    Sequest  CCUGAACCCACUAUUGAUGAG  0.348615   \n",
       "5   1985-04-06_0123_GA_C_R2   PD    Sequest  CCUGAACCCACUAUUGAUGAG  0.479945   \n",
       "6   1985-04-06_0123_GA_T_R3   PD    Sequest  CCUGAACCCACUAUUGAUGAG       NaN   \n",
       "7   1985-04-06_0123_GA_T_R4   PD    Sequest  CCUGAACCCACUAUUGAUGAG -1.245523   \n",
       "8   1985-04-06_0123_GA_C_R1   MQ  Andromeda  CCUGAACCCACUAUUGAUGAG -0.143368   \n",
       "9   1985-04-06_0123_GA_C_R2   MQ  Andromeda  CCUGAACCCACUAUUGAUGAG -0.288318   \n",
       "10  1985-04-06_0123_GA_T_R3   MQ  Andromeda  CCUGAACCCACUAUUGAUGAG -0.603800   \n",
       "11  1985-04-06_0123_GA_T_R4   MQ  Andromeda  CCUGAACCCACUAUUGAUGAG  1.398075   \n",
       "\n",
       "           A                      Split raw  \n",
       "0   0.400963  [1985-04-06, 0123, GA, C, R1]  \n",
       "1   0.000000  [1985-04-06, 0123, GA, C, R2]  \n",
       "2   0.717901  [1985-04-06, 0123, GA, T, R3]  \n",
       "3   0.138797  [1985-04-06, 0123, GA, T, R4]  \n",
       "4   0.830168  [1985-04-06, 0123, GA, C, R1]  \n",
       "5   0.787601  [1985-04-06, 0123, GA, C, R2]  \n",
       "6   0.237505  [1985-04-06, 0123, GA, T, R3]  \n",
       "7   0.896589  [1985-04-06, 0123, GA, T, R4]  \n",
       "8   0.278758  [1985-04-06, 0123, GA, C, R1]  \n",
       "9   0.557390  [1985-04-06, 0123, GA, C, R2]  \n",
       "10  1.000000  [1985-04-06, 0123, GA, T, R3]  \n",
       "11  0.588755  [1985-04-06, 0123, GA, T, R4]  "
      ]
     },
     "execution_count": 8,
     "metadata": {},
     "output_type": "execute_result"
    }
   ],
   "source": [
    "# Splitting the 'Raw' column by the underscore '_'\n",
    "df['Split raw'] = df['Raw'].str.split('_')\n",
    "\n",
    "# Return the DataFrame\n",
    "df"
   ]
  },
  {
   "cell_type": "markdown",
   "metadata": {},
   "source": [
    "Note that we get a new column `df['Split raw']` that has lists! To achieve this we first used the method [`.str`](https://pandas.pydata.org/pandas-docs/stable/reference/api/pandas.Series.str.html) to *access* the strings stored in column `df['Raw']`. Then, we chained the string method [`.split()`](https://docs.python.org/3/library/stdtypes.html#str.split) that, as we already introduced in Session 1 (Second part), returns lists. Now we should access the substrings stored within the lists stored in column `df['Split raw']`:"
   ]
  },
  {
   "cell_type": "code",
   "execution_count": 9,
   "metadata": {},
   "outputs": [
    {
     "data": {
      "text/html": [
       "<div>\n",
       "<style scoped>\n",
       "    .dataframe tbody tr th:only-of-type {\n",
       "        vertical-align: middle;\n",
       "    }\n",
       "\n",
       "    .dataframe tbody tr th {\n",
       "        vertical-align: top;\n",
       "    }\n",
       "\n",
       "    .dataframe thead th {\n",
       "        text-align: right;\n",
       "    }\n",
       "</style>\n",
       "<table border=\"1\" class=\"dataframe\">\n",
       "  <thead>\n",
       "    <tr style=\"text-align: right;\">\n",
       "      <th></th>\n",
       "      <th>Raw</th>\n",
       "      <th>Soft</th>\n",
       "      <th>Node</th>\n",
       "      <th>RNA</th>\n",
       "      <th>I</th>\n",
       "      <th>A</th>\n",
       "      <th>Split raw</th>\n",
       "      <th>Date</th>\n",
       "    </tr>\n",
       "  </thead>\n",
       "  <tbody>\n",
       "    <tr>\n",
       "      <th>0</th>\n",
       "      <td>1985-04-06_0123_GA_C_R1</td>\n",
       "      <td>PD</td>\n",
       "      <td>Amanda</td>\n",
       "      <td>CCUGAACCCACUAUUGAUGAG</td>\n",
       "      <td>1.340380</td>\n",
       "      <td>0.400963</td>\n",
       "      <td>[1985-04-06, 0123, GA, C, R1]</td>\n",
       "      <td>1985-04-06</td>\n",
       "    </tr>\n",
       "    <tr>\n",
       "      <th>1</th>\n",
       "      <td>1985-04-06_0123_GA_C_R2</td>\n",
       "      <td>PD</td>\n",
       "      <td>Amanda</td>\n",
       "      <td>CCUGAACCCACUAUUGAUGAG</td>\n",
       "      <td>-0.986941</td>\n",
       "      <td>0.000000</td>\n",
       "      <td>[1985-04-06, 0123, GA, C, R2]</td>\n",
       "      <td>1985-04-06</td>\n",
       "    </tr>\n",
       "    <tr>\n",
       "      <th>2</th>\n",
       "      <td>1985-04-06_0123_GA_T_R3</td>\n",
       "      <td>PD</td>\n",
       "      <td>Amanda</td>\n",
       "      <td>CCUGAACCCACUAUUGAUGAG</td>\n",
       "      <td>1.045987</td>\n",
       "      <td>0.717901</td>\n",
       "      <td>[1985-04-06, 0123, GA, T, R3]</td>\n",
       "      <td>1985-04-06</td>\n",
       "    </tr>\n",
       "    <tr>\n",
       "      <th>3</th>\n",
       "      <td>1985-04-06_0123_GA_T_R4</td>\n",
       "      <td>PD</td>\n",
       "      <td>Amanda</td>\n",
       "      <td>CCUGAACCCACUAUUGAUGAG</td>\n",
       "      <td>-1.345051</td>\n",
       "      <td>0.138797</td>\n",
       "      <td>[1985-04-06, 0123, GA, T, R4]</td>\n",
       "      <td>1985-04-06</td>\n",
       "    </tr>\n",
       "    <tr>\n",
       "      <th>4</th>\n",
       "      <td>1985-04-06_0123_GA_C_R1</td>\n",
       "      <td>PD</td>\n",
       "      <td>Sequest</td>\n",
       "      <td>CCUGAACCCACUAUUGAUGAG</td>\n",
       "      <td>0.348615</td>\n",
       "      <td>0.830168</td>\n",
       "      <td>[1985-04-06, 0123, GA, C, R1]</td>\n",
       "      <td>1985-04-06</td>\n",
       "    </tr>\n",
       "    <tr>\n",
       "      <th>5</th>\n",
       "      <td>1985-04-06_0123_GA_C_R2</td>\n",
       "      <td>PD</td>\n",
       "      <td>Sequest</td>\n",
       "      <td>CCUGAACCCACUAUUGAUGAG</td>\n",
       "      <td>0.479945</td>\n",
       "      <td>0.787601</td>\n",
       "      <td>[1985-04-06, 0123, GA, C, R2]</td>\n",
       "      <td>1985-04-06</td>\n",
       "    </tr>\n",
       "    <tr>\n",
       "      <th>6</th>\n",
       "      <td>1985-04-06_0123_GA_T_R3</td>\n",
       "      <td>PD</td>\n",
       "      <td>Sequest</td>\n",
       "      <td>CCUGAACCCACUAUUGAUGAG</td>\n",
       "      <td>NaN</td>\n",
       "      <td>0.237505</td>\n",
       "      <td>[1985-04-06, 0123, GA, T, R3]</td>\n",
       "      <td>1985-04-06</td>\n",
       "    </tr>\n",
       "    <tr>\n",
       "      <th>7</th>\n",
       "      <td>1985-04-06_0123_GA_T_R4</td>\n",
       "      <td>PD</td>\n",
       "      <td>Sequest</td>\n",
       "      <td>CCUGAACCCACUAUUGAUGAG</td>\n",
       "      <td>-1.245523</td>\n",
       "      <td>0.896589</td>\n",
       "      <td>[1985-04-06, 0123, GA, T, R4]</td>\n",
       "      <td>1985-04-06</td>\n",
       "    </tr>\n",
       "    <tr>\n",
       "      <th>8</th>\n",
       "      <td>1985-04-06_0123_GA_C_R1</td>\n",
       "      <td>MQ</td>\n",
       "      <td>Andromeda</td>\n",
       "      <td>CCUGAACCCACUAUUGAUGAG</td>\n",
       "      <td>-0.143368</td>\n",
       "      <td>0.278758</td>\n",
       "      <td>[1985-04-06, 0123, GA, C, R1]</td>\n",
       "      <td>1985-04-06</td>\n",
       "    </tr>\n",
       "    <tr>\n",
       "      <th>9</th>\n",
       "      <td>1985-04-06_0123_GA_C_R2</td>\n",
       "      <td>MQ</td>\n",
       "      <td>Andromeda</td>\n",
       "      <td>CCUGAACCCACUAUUGAUGAG</td>\n",
       "      <td>-0.288318</td>\n",
       "      <td>0.557390</td>\n",
       "      <td>[1985-04-06, 0123, GA, C, R2]</td>\n",
       "      <td>1985-04-06</td>\n",
       "    </tr>\n",
       "    <tr>\n",
       "      <th>10</th>\n",
       "      <td>1985-04-06_0123_GA_T_R3</td>\n",
       "      <td>MQ</td>\n",
       "      <td>Andromeda</td>\n",
       "      <td>CCUGAACCCACUAUUGAUGAG</td>\n",
       "      <td>-0.603800</td>\n",
       "      <td>1.000000</td>\n",
       "      <td>[1985-04-06, 0123, GA, T, R3]</td>\n",
       "      <td>1985-04-06</td>\n",
       "    </tr>\n",
       "    <tr>\n",
       "      <th>11</th>\n",
       "      <td>1985-04-06_0123_GA_T_R4</td>\n",
       "      <td>MQ</td>\n",
       "      <td>Andromeda</td>\n",
       "      <td>CCUGAACCCACUAUUGAUGAG</td>\n",
       "      <td>1.398075</td>\n",
       "      <td>0.588755</td>\n",
       "      <td>[1985-04-06, 0123, GA, T, R4]</td>\n",
       "      <td>1985-04-06</td>\n",
       "    </tr>\n",
       "  </tbody>\n",
       "</table>\n",
       "</div>"
      ],
      "text/plain": [
       "                        Raw Soft       Node                    RNA         I  \\\n",
       "0   1985-04-06_0123_GA_C_R1   PD     Amanda  CCUGAACCCACUAUUGAUGAG  1.340380   \n",
       "1   1985-04-06_0123_GA_C_R2   PD     Amanda  CCUGAACCCACUAUUGAUGAG -0.986941   \n",
       "2   1985-04-06_0123_GA_T_R3   PD     Amanda  CCUGAACCCACUAUUGAUGAG  1.045987   \n",
       "3   1985-04-06_0123_GA_T_R4   PD     Amanda  CCUGAACCCACUAUUGAUGAG -1.345051   \n",
       "4   1985-04-06_0123_GA_C_R1   PD    Sequest  CCUGAACCCACUAUUGAUGAG  0.348615   \n",
       "5   1985-04-06_0123_GA_C_R2   PD    Sequest  CCUGAACCCACUAUUGAUGAG  0.479945   \n",
       "6   1985-04-06_0123_GA_T_R3   PD    Sequest  CCUGAACCCACUAUUGAUGAG       NaN   \n",
       "7   1985-04-06_0123_GA_T_R4   PD    Sequest  CCUGAACCCACUAUUGAUGAG -1.245523   \n",
       "8   1985-04-06_0123_GA_C_R1   MQ  Andromeda  CCUGAACCCACUAUUGAUGAG -0.143368   \n",
       "9   1985-04-06_0123_GA_C_R2   MQ  Andromeda  CCUGAACCCACUAUUGAUGAG -0.288318   \n",
       "10  1985-04-06_0123_GA_T_R3   MQ  Andromeda  CCUGAACCCACUAUUGAUGAG -0.603800   \n",
       "11  1985-04-06_0123_GA_T_R4   MQ  Andromeda  CCUGAACCCACUAUUGAUGAG  1.398075   \n",
       "\n",
       "           A                      Split raw        Date  \n",
       "0   0.400963  [1985-04-06, 0123, GA, C, R1]  1985-04-06  \n",
       "1   0.000000  [1985-04-06, 0123, GA, C, R2]  1985-04-06  \n",
       "2   0.717901  [1985-04-06, 0123, GA, T, R3]  1985-04-06  \n",
       "3   0.138797  [1985-04-06, 0123, GA, T, R4]  1985-04-06  \n",
       "4   0.830168  [1985-04-06, 0123, GA, C, R1]  1985-04-06  \n",
       "5   0.787601  [1985-04-06, 0123, GA, C, R2]  1985-04-06  \n",
       "6   0.237505  [1985-04-06, 0123, GA, T, R3]  1985-04-06  \n",
       "7   0.896589  [1985-04-06, 0123, GA, T, R4]  1985-04-06  \n",
       "8   0.278758  [1985-04-06, 0123, GA, C, R1]  1985-04-06  \n",
       "9   0.557390  [1985-04-06, 0123, GA, C, R2]  1985-04-06  \n",
       "10  1.000000  [1985-04-06, 0123, GA, T, R3]  1985-04-06  \n",
       "11  0.588755  [1985-04-06, 0123, GA, T, R4]  1985-04-06  "
      ]
     },
     "execution_count": 9,
     "metadata": {},
     "output_type": "execute_result"
    }
   ],
   "source": [
    "# Taking the 1st element of the list in 'Split raw' as 'Date'\n",
    "df['Date'] = df['Split raw'].str[0]\n",
    "\n",
    "# Return the DataFrame\n",
    "df"
   ]
  },
  {
   "cell_type": "markdown",
   "metadata": {},
   "source": [
    "Finally, we get another column `df['Date']` with the information we were looking for."
   ]
  },
  {
   "cell_type": "markdown",
   "metadata": {},
   "source": [
    "<div class=\"alert alert-block alert-success\"><b>Practice:</b>\n",
    "    \n",
    "1) In the 1<sup>st</sup> code cell below, get a new column called `'ID'` for the four-digit code (`0123`); a new column called `'User'` for the two-letters code (`GA`); a new column called `'Cond'` for the single letter indicator (`T` / `C`); and a new column called `'Rep'` for the correlative indicator (`R1` / `R2` / `R3` / `R4`).\n",
    "    \n",
    "2) In the 2<sup>nd</sup> code cell below, discard columns `df['Raw']` and `df['Split raw']`.\n",
    "\n",
    "    \n",
    "    \n",
    "Un-comment and fill only those code lines with underscores `___`.\n",
    "</div>"
   ]
  },
  {
   "cell_type": "code",
   "execution_count": 10,
   "metadata": {
    "tags": [
     "ejercicio"
    ]
   },
   "outputs": [],
   "source": [
    "# Taking 2nd, 3rd, 4th and 5th elements of the list in 'Split raw' as 'ID', 'User', 'Cond' and 'Rep'\n",
    "#df['ID'] = ___\n",
    "#df['User'] = ___\n",
    "#df['Cond'] = ___\n",
    "#df['Rep'] = ___"
   ]
  },
  {
   "cell_type": "code",
   "execution_count": 11,
   "metadata": {
    "jupyter": {
     "source_hidden": true
    },
    "tags": [
     "ejercicio",
     "solucion"
    ]
   },
   "outputs": [],
   "source": [
    "# Taking 2nd, 3rd, 4th and 5th elements of the list in 'Split raw' as 'ID', 'User', 'Cond' and 'Rep'\n",
    "df['ID'] = df['Split raw'].str[1]\n",
    "df['User'] = df['Split raw'].str[2]\n",
    "df['Cond'] = df['Split raw'].str[3]\n",
    "df['Rep'] = df['Split raw'].str[4]"
   ]
  },
  {
   "cell_type": "code",
   "execution_count": 12,
   "metadata": {
    "tags": []
   },
   "outputs": [],
   "source": [
    "# Dropping redundant columns 'Raw' and 'Split raw'\n",
    "#list_drop = ___\n",
    "#df = df.drop(columns=___)\n",
    "\n",
    "# Return the DataFrame\n",
    "#___"
   ]
  },
  {
   "cell_type": "code",
   "execution_count": 13,
   "metadata": {},
   "outputs": [
    {
     "data": {
      "text/html": [
       "<div>\n",
       "<style scoped>\n",
       "    .dataframe tbody tr th:only-of-type {\n",
       "        vertical-align: middle;\n",
       "    }\n",
       "\n",
       "    .dataframe tbody tr th {\n",
       "        vertical-align: top;\n",
       "    }\n",
       "\n",
       "    .dataframe thead th {\n",
       "        text-align: right;\n",
       "    }\n",
       "</style>\n",
       "<table border=\"1\" class=\"dataframe\">\n",
       "  <thead>\n",
       "    <tr style=\"text-align: right;\">\n",
       "      <th></th>\n",
       "      <th>Soft</th>\n",
       "      <th>Node</th>\n",
       "      <th>RNA</th>\n",
       "      <th>I</th>\n",
       "      <th>A</th>\n",
       "      <th>Date</th>\n",
       "      <th>ID</th>\n",
       "      <th>User</th>\n",
       "      <th>Cond</th>\n",
       "      <th>Rep</th>\n",
       "    </tr>\n",
       "  </thead>\n",
       "  <tbody>\n",
       "    <tr>\n",
       "      <th>0</th>\n",
       "      <td>PD</td>\n",
       "      <td>Amanda</td>\n",
       "      <td>CCUGAACCCACUAUUGAUGAG</td>\n",
       "      <td>1.340380</td>\n",
       "      <td>0.400963</td>\n",
       "      <td>1985-04-06</td>\n",
       "      <td>0123</td>\n",
       "      <td>GA</td>\n",
       "      <td>C</td>\n",
       "      <td>R1</td>\n",
       "    </tr>\n",
       "    <tr>\n",
       "      <th>1</th>\n",
       "      <td>PD</td>\n",
       "      <td>Amanda</td>\n",
       "      <td>CCUGAACCCACUAUUGAUGAG</td>\n",
       "      <td>-0.986941</td>\n",
       "      <td>0.000000</td>\n",
       "      <td>1985-04-06</td>\n",
       "      <td>0123</td>\n",
       "      <td>GA</td>\n",
       "      <td>C</td>\n",
       "      <td>R2</td>\n",
       "    </tr>\n",
       "    <tr>\n",
       "      <th>2</th>\n",
       "      <td>PD</td>\n",
       "      <td>Amanda</td>\n",
       "      <td>CCUGAACCCACUAUUGAUGAG</td>\n",
       "      <td>1.045987</td>\n",
       "      <td>0.717901</td>\n",
       "      <td>1985-04-06</td>\n",
       "      <td>0123</td>\n",
       "      <td>GA</td>\n",
       "      <td>T</td>\n",
       "      <td>R3</td>\n",
       "    </tr>\n",
       "    <tr>\n",
       "      <th>3</th>\n",
       "      <td>PD</td>\n",
       "      <td>Amanda</td>\n",
       "      <td>CCUGAACCCACUAUUGAUGAG</td>\n",
       "      <td>-1.345051</td>\n",
       "      <td>0.138797</td>\n",
       "      <td>1985-04-06</td>\n",
       "      <td>0123</td>\n",
       "      <td>GA</td>\n",
       "      <td>T</td>\n",
       "      <td>R4</td>\n",
       "    </tr>\n",
       "    <tr>\n",
       "      <th>4</th>\n",
       "      <td>PD</td>\n",
       "      <td>Sequest</td>\n",
       "      <td>CCUGAACCCACUAUUGAUGAG</td>\n",
       "      <td>0.348615</td>\n",
       "      <td>0.830168</td>\n",
       "      <td>1985-04-06</td>\n",
       "      <td>0123</td>\n",
       "      <td>GA</td>\n",
       "      <td>C</td>\n",
       "      <td>R1</td>\n",
       "    </tr>\n",
       "    <tr>\n",
       "      <th>5</th>\n",
       "      <td>PD</td>\n",
       "      <td>Sequest</td>\n",
       "      <td>CCUGAACCCACUAUUGAUGAG</td>\n",
       "      <td>0.479945</td>\n",
       "      <td>0.787601</td>\n",
       "      <td>1985-04-06</td>\n",
       "      <td>0123</td>\n",
       "      <td>GA</td>\n",
       "      <td>C</td>\n",
       "      <td>R2</td>\n",
       "    </tr>\n",
       "    <tr>\n",
       "      <th>6</th>\n",
       "      <td>PD</td>\n",
       "      <td>Sequest</td>\n",
       "      <td>CCUGAACCCACUAUUGAUGAG</td>\n",
       "      <td>NaN</td>\n",
       "      <td>0.237505</td>\n",
       "      <td>1985-04-06</td>\n",
       "      <td>0123</td>\n",
       "      <td>GA</td>\n",
       "      <td>T</td>\n",
       "      <td>R3</td>\n",
       "    </tr>\n",
       "    <tr>\n",
       "      <th>7</th>\n",
       "      <td>PD</td>\n",
       "      <td>Sequest</td>\n",
       "      <td>CCUGAACCCACUAUUGAUGAG</td>\n",
       "      <td>-1.245523</td>\n",
       "      <td>0.896589</td>\n",
       "      <td>1985-04-06</td>\n",
       "      <td>0123</td>\n",
       "      <td>GA</td>\n",
       "      <td>T</td>\n",
       "      <td>R4</td>\n",
       "    </tr>\n",
       "    <tr>\n",
       "      <th>8</th>\n",
       "      <td>MQ</td>\n",
       "      <td>Andromeda</td>\n",
       "      <td>CCUGAACCCACUAUUGAUGAG</td>\n",
       "      <td>-0.143368</td>\n",
       "      <td>0.278758</td>\n",
       "      <td>1985-04-06</td>\n",
       "      <td>0123</td>\n",
       "      <td>GA</td>\n",
       "      <td>C</td>\n",
       "      <td>R1</td>\n",
       "    </tr>\n",
       "    <tr>\n",
       "      <th>9</th>\n",
       "      <td>MQ</td>\n",
       "      <td>Andromeda</td>\n",
       "      <td>CCUGAACCCACUAUUGAUGAG</td>\n",
       "      <td>-0.288318</td>\n",
       "      <td>0.557390</td>\n",
       "      <td>1985-04-06</td>\n",
       "      <td>0123</td>\n",
       "      <td>GA</td>\n",
       "      <td>C</td>\n",
       "      <td>R2</td>\n",
       "    </tr>\n",
       "    <tr>\n",
       "      <th>10</th>\n",
       "      <td>MQ</td>\n",
       "      <td>Andromeda</td>\n",
       "      <td>CCUGAACCCACUAUUGAUGAG</td>\n",
       "      <td>-0.603800</td>\n",
       "      <td>1.000000</td>\n",
       "      <td>1985-04-06</td>\n",
       "      <td>0123</td>\n",
       "      <td>GA</td>\n",
       "      <td>T</td>\n",
       "      <td>R3</td>\n",
       "    </tr>\n",
       "    <tr>\n",
       "      <th>11</th>\n",
       "      <td>MQ</td>\n",
       "      <td>Andromeda</td>\n",
       "      <td>CCUGAACCCACUAUUGAUGAG</td>\n",
       "      <td>1.398075</td>\n",
       "      <td>0.588755</td>\n",
       "      <td>1985-04-06</td>\n",
       "      <td>0123</td>\n",
       "      <td>GA</td>\n",
       "      <td>T</td>\n",
       "      <td>R4</td>\n",
       "    </tr>\n",
       "  </tbody>\n",
       "</table>\n",
       "</div>"
      ],
      "text/plain": [
       "   Soft       Node                    RNA         I         A        Date  \\\n",
       "0    PD     Amanda  CCUGAACCCACUAUUGAUGAG  1.340380  0.400963  1985-04-06   \n",
       "1    PD     Amanda  CCUGAACCCACUAUUGAUGAG -0.986941  0.000000  1985-04-06   \n",
       "2    PD     Amanda  CCUGAACCCACUAUUGAUGAG  1.045987  0.717901  1985-04-06   \n",
       "3    PD     Amanda  CCUGAACCCACUAUUGAUGAG -1.345051  0.138797  1985-04-06   \n",
       "4    PD    Sequest  CCUGAACCCACUAUUGAUGAG  0.348615  0.830168  1985-04-06   \n",
       "5    PD    Sequest  CCUGAACCCACUAUUGAUGAG  0.479945  0.787601  1985-04-06   \n",
       "6    PD    Sequest  CCUGAACCCACUAUUGAUGAG       NaN  0.237505  1985-04-06   \n",
       "7    PD    Sequest  CCUGAACCCACUAUUGAUGAG -1.245523  0.896589  1985-04-06   \n",
       "8    MQ  Andromeda  CCUGAACCCACUAUUGAUGAG -0.143368  0.278758  1985-04-06   \n",
       "9    MQ  Andromeda  CCUGAACCCACUAUUGAUGAG -0.288318  0.557390  1985-04-06   \n",
       "10   MQ  Andromeda  CCUGAACCCACUAUUGAUGAG -0.603800  1.000000  1985-04-06   \n",
       "11   MQ  Andromeda  CCUGAACCCACUAUUGAUGAG  1.398075  0.588755  1985-04-06   \n",
       "\n",
       "      ID User Cond Rep  \n",
       "0   0123   GA    C  R1  \n",
       "1   0123   GA    C  R2  \n",
       "2   0123   GA    T  R3  \n",
       "3   0123   GA    T  R4  \n",
       "4   0123   GA    C  R1  \n",
       "5   0123   GA    C  R2  \n",
       "6   0123   GA    T  R3  \n",
       "7   0123   GA    T  R4  \n",
       "8   0123   GA    C  R1  \n",
       "9   0123   GA    C  R2  \n",
       "10  0123   GA    T  R3  \n",
       "11  0123   GA    T  R4  "
      ]
     },
     "execution_count": 13,
     "metadata": {},
     "output_type": "execute_result"
    }
   ],
   "source": [
    "# Dropping redundant columns 'Raw' and 'Split raw'\n",
    "list_drop = ['Raw', 'Split raw']\n",
    "df = df.drop(columns=list_drop)\n",
    "\n",
    "# Return the DataFrame\n",
    "df"
   ]
  },
  {
   "cell_type": "markdown",
   "metadata": {},
   "source": [
    "## Exporting DataFrames"
   ]
  },
  {
   "cell_type": "markdown",
   "metadata": {},
   "source": [
    "At this point, `df` is tidy enough as to be exported and stored locally. Look how easy is to save a DataFrame into our hard-disk with the method [`.to_excel()`](https://pandas.pydata.org/pandas-docs/stable/reference/api/pandas.DataFrame.to_excel.html):"
   ]
  },
  {
   "cell_type": "code",
   "execution_count": 16,
   "metadata": {},
   "outputs": [],
   "source": [
    "# Exporting the DataFrame as an Excel SpreadSheet\n",
    "df.to_excel(excel_writer='datasets/ToySpreadsheet.xlsx', sheet_name='Excel_df')"
   ]
  },
  {
   "cell_type": "markdown",
   "metadata": {},
   "source": []
  },
  {
   "cell_type": "markdown",
   "metadata": {},
   "source": []
  },
  {
   "cell_type": "markdown",
   "metadata": {},
   "source": []
  },
  {
   "cell_type": "markdown",
   "metadata": {},
   "source": []
  },
  {
   "cell_type": "markdown",
   "metadata": {},
   "source": []
  },
  {
   "cell_type": "markdown",
   "metadata": {},
   "source": []
  },
  {
   "cell_type": "markdown",
   "metadata": {},
   "source": []
  },
  {
   "cell_type": "markdown",
   "metadata": {},
   "source": []
  },
  {
   "cell_type": "markdown",
   "metadata": {},
   "source": []
  },
  {
   "cell_type": "markdown",
   "metadata": {},
   "source": []
  },
  {
   "cell_type": "markdown",
   "metadata": {},
   "source": []
  },
  {
   "cell_type": "markdown",
   "metadata": {},
   "source": []
  },
  {
   "cell_type": "markdown",
   "metadata": {},
   "source": []
  },
  {
   "cell_type": "markdown",
   "metadata": {},
   "source": []
  },
  {
   "cell_type": "markdown",
   "metadata": {},
   "source": []
  },
  {
   "cell_type": "markdown",
   "metadata": {},
   "source": []
  },
  {
   "cell_type": "markdown",
   "metadata": {},
   "source": []
  },
  {
   "cell_type": "markdown",
   "metadata": {},
   "source": []
  },
  {
   "cell_type": "markdown",
   "metadata": {},
   "source": []
  },
  {
   "cell_type": "markdown",
   "metadata": {},
   "source": []
  },
  {
   "cell_type": "markdown",
   "metadata": {},
   "source": []
  },
  {
   "cell_type": "markdown",
   "metadata": {},
   "source": []
  },
  {
   "cell_type": "markdown",
   "metadata": {},
   "source": []
  },
  {
   "cell_type": "markdown",
   "metadata": {},
   "source": []
  },
  {
   "cell_type": "markdown",
   "metadata": {},
   "source": []
  },
  {
   "cell_type": "markdown",
   "metadata": {},
   "source": []
  },
  {
   "cell_type": "markdown",
   "metadata": {},
   "source": []
  },
  {
   "cell_type": "markdown",
   "metadata": {},
   "source": []
  },
  {
   "cell_type": "markdown",
   "metadata": {},
   "source": []
  },
  {
   "cell_type": "markdown",
   "metadata": {},
   "source": []
  },
  {
   "cell_type": "markdown",
   "metadata": {},
   "source": []
  },
  {
   "cell_type": "markdown",
   "metadata": {},
   "source": []
  },
  {
   "cell_type": "markdown",
   "metadata": {},
   "source": []
  },
  {
   "cell_type": "markdown",
   "metadata": {},
   "source": []
  },
  {
   "cell_type": "markdown",
   "metadata": {},
   "source": []
  },
  {
   "cell_type": "code",
   "execution_count": null,
   "metadata": {},
   "outputs": [],
   "source": []
  },
  {
   "cell_type": "code",
   "execution_count": null,
   "metadata": {
    "id": "qECGYMhFwe_0"
   },
   "outputs": [],
   "source": [
    "import numpy as np\n",
    "import pandas as pd\n",
    "print('Pandas:', pd.__version__)"
   ]
  },
  {
   "cell_type": "code",
   "execution_count": null,
   "metadata": {
    "id": "2dRXlNyzwe_1"
   },
   "outputs": [],
   "source": [
    "animals = ['Tiger', 'Bear', 'Moose']\n",
    "pd.Series(animals)"
   ]
  },
  {
   "cell_type": "code",
   "execution_count": null,
   "metadata": {
    "id": "dW0u1aYnwe_1"
   },
   "outputs": [],
   "source": [
    "numbers = [1, 2, 3]\n",
    "pd.Series(numbers)"
   ]
  },
  {
   "cell_type": "markdown",
   "metadata": {
    "id": "KKZxbs6swe_2"
   },
   "source": [
    "Notice that the series is indexed by default by integers. We can change this indexing by using a dictionary instead of a list to create the series."
   ]
  },
  {
   "cell_type": "code",
   "execution_count": null,
   "metadata": {
    "id": "DfQllZnnwe_2"
   },
   "outputs": [],
   "source": [
    "sports = {'Archery': 'Bhutan',\n",
    "          'Golf': 'Scotland',\n",
    "          'Sumo': 'Japan',\n",
    "          'Taekwondo': 'South Korea'}\n",
    "s = pd.Series(sports)\n",
    "s"
   ]
  },
  {
   "cell_type": "markdown",
   "metadata": {
    "id": "FMoMhXjdwe_3"
   },
   "source": [
    "On the other hand, dataframes can be built from two-dimensional arrays, with the ability of labelling columns and indexing the rows. **Every column in a dataframe is a series**. "
   ]
  },
  {
   "cell_type": "code",
   "execution_count": null,
   "metadata": {
    "id": "cH2espiFwe_3"
   },
   "outputs": [],
   "source": [
    "# Sampling a 1000 rows 6 cols 2D array from the standard normal distribution and creating DataFrame\n",
    "u = pd.DataFrame(np.random.randn(1000, 6),\n",
    "                 index=np.arange(0, 3000, 3),\n",
    "                 columns=['A', 'B', 'C', 'D', 'E', 'F'])\n",
    "\n",
    "print(type(u))\n",
    "\n",
    "u"
   ]
  },
  {
   "cell_type": "markdown",
   "metadata": {
    "id": "JOr-n8Lbwe_4"
   },
   "source": [
    "As you might have noticed, it is not the best to look at massive dataframes. There are some functions that allow us to have a nicer look at parts of the dataframe to have an idea of \"how things are going\"."
   ]
  },
  {
   "cell_type": "code",
   "execution_count": null,
   "metadata": {
    "id": "QszUh5dVwe_4"
   },
   "outputs": [],
   "source": [
    "u.head()"
   ]
  },
  {
   "cell_type": "code",
   "execution_count": null,
   "metadata": {
    "id": "kSgZlKyzwe_5"
   },
   "outputs": [],
   "source": [
    "u.tail()"
   ]
  },
  {
   "cell_type": "code",
   "execution_count": null,
   "metadata": {
    "id": "GLfIvV_Awe_5"
   },
   "outputs": [],
   "source": [
    "u.info()"
   ]
  },
  {
   "cell_type": "code",
   "execution_count": null,
   "metadata": {
    "id": "c-peS5fHwe_5"
   },
   "outputs": [],
   "source": [
    "u.describe()"
   ]
  },
  {
   "cell_type": "markdown",
   "metadata": {
    "id": "hkB-VPofwe_6"
   },
   "source": [
    "### Indexing/Slicing in Pandas\n",
    "\n",
    "The easiest way to access information in a Pandas dataframe, equivalent to the way used in NumPy, is using the `iloc` command. With `iloc` we can use the same indexing techniques that we saw with NumPy in the previous notebook."
   ]
  },
  {
   "cell_type": "code",
   "execution_count": null,
   "metadata": {
    "id": "f__CcBkTwe_6"
   },
   "outputs": [],
   "source": [
    "# Slice-in rows index 125 to 132 (132 included!) from columns index 0, 2 and 5\n",
    "u.iloc[125:132, [0, 2, 5]]"
   ]
  },
  {
   "cell_type": "markdown",
   "metadata": {
    "id": "WYOudgEGwe_6"
   },
   "source": [
    "We can choose specific columns according to their names using `loc` instead of `iloc`."
   ]
  },
  {
   "cell_type": "code",
   "execution_count": null,
   "metadata": {
    "id": "ZE_agQpXwe_6"
   },
   "outputs": [],
   "source": [
    "# Slice-in rows 375 to 393 (393 included!) from columns A, C and F\n",
    "u.loc[375:393, ['A', 'C', 'F']]"
   ]
  },
  {
   "cell_type": "markdown",
   "metadata": {
    "id": "VkotgoA8we_6"
   },
   "source": [
    "However, there are a few different ways of accessing the data in a Pandas dataframe, that typically have a more \"direct\" connection with the actual content fo the dataframe. Individual or sets of columns can also be accessed by their column names. Choosing one single column will give a Series, while two or more will produce a DataFrame"
   ]
  },
  {
   "cell_type": "code",
   "execution_count": null,
   "metadata": {
    "id": "nJ4tGTPFwe_7"
   },
   "outputs": [],
   "source": [
    "u['A'].head()"
   ]
  },
  {
   "cell_type": "code",
   "execution_count": null,
   "metadata": {
    "id": "HID7Eb0dwe_7"
   },
   "outputs": [],
   "source": [
    "u[['A', 'D']].head()"
   ]
  },
  {
   "cell_type": "markdown",
   "metadata": {
    "id": "PCECWud4we_7"
   },
   "source": [
    "Not only that, we can access a single column without the need of brackets []"
   ]
  },
  {
   "cell_type": "code",
   "execution_count": null,
   "metadata": {
    "id": "tlcbT8xPwe_7"
   },
   "outputs": [],
   "source": [
    "u.A.head()"
   ]
  },
  {
   "cell_type": "markdown",
   "metadata": {
    "id": "hotY3ZvIwe_7"
   },
   "source": [
    "Or, we can retrieve the elements that satisfy some condition"
   ]
  },
  {
   "cell_type": "code",
   "execution_count": null,
   "metadata": {
    "id": "kTUZE2nzwe_8"
   },
   "outputs": [],
   "source": [
    "u[u.D > 2]"
   ]
  },
  {
   "cell_type": "markdown",
   "metadata": {
    "id": "znDPNtk-we_8"
   },
   "source": [
    "Dataframes provide the `query` functionality for the same purpose. While it is less powerful than boolean indexing, it is often faster and shorter (when names are longer than just `u`)"
   ]
  },
  {
   "cell_type": "code",
   "execution_count": null,
   "metadata": {
    "id": "FfHCORHbwe_8"
   },
   "outputs": [],
   "source": [
    "u.query('D > 2')"
   ]
  },
  {
   "cell_type": "markdown",
   "metadata": {
    "id": "FVuI3r-Twe_8"
   },
   "source": [
    "### Reshaping `DataFrame`\n",
    "\n",
    "We can reshape and concatenate dataframes in a pretty similar way to numpy arrays. "
   ]
  },
  {
   "cell_type": "code",
   "execution_count": null,
   "metadata": {
    "id": "n9Srkvq5we_8"
   },
   "outputs": [],
   "source": [
    "df1 = pd.DataFrame()\n",
    "\n",
    "df1['sample'] = ['A', 'A', 'A', 'B', 'B', 'B']\n",
    "df1['replicate'] = ['01', '02', '03', '01', '02', '03']\n",
    "df1['protein'] = 'P02768'\n",
    "df1['value1'] = np.random.randn(6)\n",
    "\n",
    "df1"
   ]
  },
  {
   "cell_type": "code",
   "execution_count": null,
   "metadata": {
    "id": "4Rh2bHncwe_8"
   },
   "outputs": [],
   "source": [
    "pivot_df1 = df1.pivot(index='replicate', columns='sample', values='value1')\n",
    "\n",
    "pivot_df1.head()"
   ]
  },
  {
   "cell_type": "markdown",
   "metadata": {
    "id": "4UDugR2Twe_9"
   },
   "source": [
    "### Computing With `DataFrames`\n",
    "\n",
    "We can calculate with `DataFrames` or their columns (which are `Series`) the same way we would work with numpy arrays."
   ]
  },
  {
   "cell_type": "code",
   "execution_count": null,
   "metadata": {
    "id": "Kr4LjYXqwe_9"
   },
   "outputs": [],
   "source": [
    "df1['value2'] = 1 / df1['value1']\n",
    "df1.head()"
   ]
  },
  {
   "cell_type": "code",
   "execution_count": null,
   "metadata": {
    "id": "Kz_Oravuwe_9"
   },
   "outputs": [],
   "source": [
    "np.mean(df1)"
   ]
  },
  {
   "cell_type": "markdown",
   "metadata": {
    "id": "G-4MfgiPwe_9"
   },
   "source": [
    "We can also apply functions to the whole dataset or specific columns with the `apply` command. `apply` acts on the whole column at a time (i.e. a Pandas `Series`), so we can compute things that depend on several values of the column, for instance, the mean value. To apply functions in a real element-by-element basis the function `applymap` or `Series.apply` should be used."
   ]
  },
  {
   "cell_type": "code",
   "execution_count": null,
   "metadata": {
    "id": "AX8bRzhDwe_9"
   },
   "outputs": [],
   "source": [
    "def mean(col):\n",
    "    return sum(col) / len(col)\n",
    "\n",
    "df1[['value1', 'value2']].apply(mean)"
   ]
  },
  {
   "cell_type": "markdown",
   "metadata": {
    "id": "UA0KJsYqwe_9"
   },
   "source": [
    "While most can be directly calculated (including the given example of the mean), `apply` also works on columns with strings or categorical data, where no mathematical operations are defined. The limit is the imagination."
   ]
  },
  {
   "cell_type": "markdown",
   "metadata": {
    "id": "N5ONVli7we_9"
   },
   "source": [
    "### Combining `DataFrames`\n",
    "\n",
    "Something we will do quite often as scientists is combining data from different sources into one single source. This can be achieved by different commands in Pandas, depending on the actual goal we want.\n",
    "\n",
    "To begin with, appending new rows of data is achieved by the command `append`."
   ]
  },
  {
   "cell_type": "code",
   "execution_count": null,
   "metadata": {
    "id": "TWuaqmG6we_-"
   },
   "outputs": [],
   "source": [
    "df2 = pd.DataFrame()\n",
    "\n",
    "df2['sample'] = ['A', 'A', 'A', 'B', 'B', 'B']\n",
    "df2['replicate'] = ['01', '02', '03', '01', '02', '03']\n",
    "df2['protein'] = 'P69892'\n",
    "df2['value1'] = np.random.randn(6)\n",
    "df2['value2'] = 1 / df2['value1']\n",
    "\n",
    "df2"
   ]
  },
  {
   "cell_type": "code",
   "execution_count": null,
   "metadata": {
    "id": "yrVuQ26xwe_-"
   },
   "outputs": [],
   "source": [
    "df1.append(df2, ignore_index=True)"
   ]
  },
  {
   "cell_type": "markdown",
   "metadata": {
    "id": "te0sJ4xYwe_-"
   },
   "source": [
    "The same result can be obtained with `concat`."
   ]
  },
  {
   "cell_type": "code",
   "execution_count": null,
   "metadata": {
    "id": "whMeHgI1we_-"
   },
   "outputs": [],
   "source": [
    "df = pd.concat([df1, df2], ignore_index=True)\n",
    "\n",
    "df"
   ]
  },
  {
   "cell_type": "markdown",
   "metadata": {
    "id": "V5WZ6nRVwe_-"
   },
   "source": [
    "### Grouping Data"
   ]
  },
  {
   "cell_type": "code",
   "execution_count": null,
   "metadata": {
    "id": "ji6npHcMwe_-"
   },
   "outputs": [],
   "source": [
    "df.groupby('protein').agg(sum)"
   ]
  },
  {
   "cell_type": "code",
   "execution_count": null,
   "metadata": {
    "id": "P4gLCDWYwe_-"
   },
   "outputs": [],
   "source": [
    "df.groupby(['protein', 'sample']).agg(sum)"
   ]
  },
  {
   "cell_type": "code",
   "execution_count": null,
   "metadata": {
    "id": "x-5yICjnwe_-"
   },
   "outputs": [],
   "source": [
    "df.groupby(['protein', 'sample', 'replicate']).agg(sum)"
   ]
  },
  {
   "cell_type": "code",
   "execution_count": null,
   "metadata": {
    "id": "-s3-1l8Lwe__"
   },
   "outputs": [],
   "source": [
    "df.groupby('protein').transform(np.mean)"
   ]
  },
  {
   "cell_type": "code",
   "execution_count": null,
   "metadata": {
    "id": "NKHk3OU7we__"
   },
   "outputs": [],
   "source": [
    "df.groupby('protein')['value1', 'value2'].transform(np.mean)"
   ]
  },
  {
   "cell_type": "code",
   "execution_count": null,
   "metadata": {
    "id": "dRQpvJOIwe__"
   },
   "outputs": [],
   "source": [
    "for g, g_df in df.groupby(['protein', 'sample']):\n",
    "    print(g_df)\n",
    "    print(f\"{g} --> mean value1: {np.mean(g_df['value1'])}\")\n",
    "    print(f\"      mean value2: {np.mean(g_df['value2'])}\\n\")"
   ]
  },
  {
   "cell_type": "code",
   "execution_count": null,
   "metadata": {
    "id": "9zh5TW5Ewe__"
   },
   "outputs": [],
   "source": [
    "df.groupby(['protein', 'sample']).describe()"
   ]
  },
  {
   "cell_type": "code",
   "execution_count": null,
   "metadata": {
    "id": "ZymA9jdswe__"
   },
   "outputs": [],
   "source": [
    "df.pivot_table(index='protein',\n",
    "               columns='sample', \n",
    "               aggfunc='mean')"
   ]
  },
  {
   "cell_type": "code",
   "execution_count": null,
   "metadata": {
    "id": "-V5VY3mGwfAA"
   },
   "outputs": [],
   "source": [
    "df.pivot_table(index='protein',\n",
    "               columns='sample',\n",
    "               aggfunc={'value1': min,\n",
    "                        'value2': max})"
   ]
  },
  {
   "cell_type": "markdown",
   "metadata": {
    "id": "bBie1CnhwfAA"
   },
   "source": [
    "### Loading and saving dataframes\n",
    "\n",
    "To load and save Pandas dataframes we will use the `to_csv` and `read_csv` commands. Whenever the dataframe does not contain any kind of column that is of type `object` we can also use feather format with `to_feather`. In case we have objects in the cells, such as functions, for example, we can use pickle format with `to_pickle`. "
   ]
  },
  {
   "cell_type": "code",
   "execution_count": null,
   "metadata": {
    "id": "G6tARwXFwfAA"
   },
   "outputs": [],
   "source": [
    "df.to_csv('test.csv')\n",
    "pd.read_csv('test.csv', index_col=0)"
   ]
  },
  {
   "cell_type": "markdown",
   "metadata": {
    "id": "oiGpBxl3wfAA"
   },
   "source": [
    "But, as an addition, Pandas has special commands to load and save Excel spreadsheets (yay!). However, to use it you'll need the `openpyxl` and `xlrd` packages."
   ]
  },
  {
   "cell_type": "code",
   "execution_count": null,
   "metadata": {
    "id": "WGdlb3UvwfAA"
   },
   "outputs": [],
   "source": [
    "df.to_excel('test.xlsx', sheet_name='My sheet')\n",
    "pd.read_excel('test.xlsx', 'My sheet', index_col=0)"
   ]
  },
  {
   "cell_type": "markdown",
   "metadata": {
    "id": "0Q3OWleewfAA"
   },
   "source": [
    "**Exercise 5**: Download [this dataset](https://raw.githubusercontent.com/ChihChengLiang/pokemongor/master/data-raw/pokemons.csv) and load it, using the first column as the index. Take a look at it, and do the following things:\n",
    "- Choose the columns 'Identifier', 'BaseStamina', 'BaseAttack', 'BaseDefense', 'Type1' and 'Type2' \n",
    "- Create a function that lowercases strings and apply it to 'Type1' and 'Type2' (*Extra: just capitalize the strings, i.e., leave the first letter uppercase and lowercase the rest*)\n",
    "- Create a function that returns a Boolean value (don't be afraif by this, it is a function that returns either True or False) that tells if a Pokémon has high stamina (BaseStamina>170) or not. Store this information in a new column and show the list of Pokémon with high stamina\n",
    "- Show the instructor the last 15 rows of your dataset"
   ]
  },
  {
   "cell_type": "code",
   "execution_count": null,
   "metadata": {
    "id": "gUPGHqP2wfAA"
   },
   "outputs": [],
   "source": [
    "df = pd.read_csv('https://raw.githubusercontent.com/ChihChengLiang/pokemongor/master/data-raw/pokemons.csv', \n",
    "                 index_col=0)\n",
    "\n",
    "df = df[['Identifier', 'BaseStamina', 'BaseAttack', 'BaseDefense', 'Type1', 'Type2']]\n",
    "\n",
    "capitalize = lambda st: st.capitalize()\n",
    "\n",
    "for col in ['Type1', 'Type2']:\n",
    "    df[col] = df[col].apply(capitalize)\n",
    "    \n",
    "def highstamina(x):\n",
    "    return True if x > 170 else False\n",
    "\n",
    "df['HighStamina'] = df.BaseStamina.apply(highstamina)\n",
    "\n",
    "print(df[df['HighStamina'] == True].Identifier)\n",
    "\n",
    "df.tail(15)"
   ]
  }
 ],
 "metadata": {
  "colab": {
   "include_colab_link": true,
   "name": "04_Pandas.ipynb",
   "provenance": []
  },
  "kernelspec": {
   "display_name": "Python 3 (ipykernel)",
   "language": "python",
   "name": "python3"
  },
  "language_info": {
   "codemirror_mode": {
    "name": "ipython",
    "version": 3
   },
   "file_extension": ".py",
   "mimetype": "text/x-python",
   "name": "python",
   "nbconvert_exporter": "python",
   "pygments_lexer": "ipython3",
   "version": "3.8.8"
  }
 },
 "nbformat": 4,
 "nbformat_minor": 4
}
