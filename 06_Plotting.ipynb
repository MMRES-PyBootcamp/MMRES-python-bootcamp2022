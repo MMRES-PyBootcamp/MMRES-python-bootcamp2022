{
 "cells": [
  {
   "cell_type": "markdown",
   "metadata": {
    "colab_type": "text",
    "id": "view-in-github"
   },
   "source": [
    "<a href=\"https://colab.research.google.com/github/MMRES-PyBootcamp/MMRES-python-bootcamp2021/blob/master/Exercise_Prostate_Cancer.ipynb\" target=\"_parent\"><img src=\"https://colab.research.google.com/assets/colab-badge.svg\" alt=\"Open In Colab\"/></a>"
   ]
  },
  {
   "cell_type": "markdown",
   "metadata": {},
   "source": [
    "# Session 6 - Data visualization\n",
    "> TODO An introduction on Pandas intermediate level concepts. Here we will present how to *manipulate* the data stored in a Pandas DataFrame, no matter if their Pandas Series store numerical, text or more complex data types. Finally we will introduce you some tools to *reshape* and/or *aggregate* data."
   ]
  },
  {
   "cell_type": "markdown",
   "metadata": {},
   "source": [
    "## Outline TODO\n",
    " * [DataFrame transformations](#DataFrame-transformations)\n",
    "   * [DataFrame numerical transformations](#DataFrame-numerical-transformations)\n",
    "   * [DataFrame text transformations](#DataFrame-text-transformations)\n",
    "   * [Arbitrary transformations using `.apply()` method](#Arbitrary-transformations-using-.apply()-method) \n",
    " * [Exporting DataFrames](#Exporting-DataFrames)\n",
    " * [Grouping-by and aggregating DataFrames](#Grouping-by-and-aggregating-DataFrames)\n",
    " * [Pivoting DataFrames](#Pivoting-DataFrames)\n",
    " * [Melting DataFrames](#Melting-DataFrames)"
   ]
  },
  {
   "cell_type": "markdown",
   "metadata": {},
   "source": [
    "<div class=\"alert alert-block alert-success\"><b>Practice:</b> Practice cells announce exercises that you should try during the current boot camp session.\n",
    "</div>"
   ]
  },
  {
   "cell_type": "markdown",
   "metadata": {},
   "source": [
    "<div class=\"alert alert-block alert-warning\"><b>Extension:</b> Extension cells correspond to exercises (or links to contents) that are a bit more advanced. We recommend to try them after the current boot camp session.\n",
    "</div>"
   ]
  },
  {
   "cell_type": "markdown",
   "metadata": {},
   "source": [
    "<div class=\"alert alert-block alert-info\"><b>Tip:</b> Tip cells just give some advice or complementary information.\n",
    "</div>"
   ]
  },
  {
   "cell_type": "markdown",
   "metadata": {},
   "source": [
    "<div class=\"alert alert-block alert-danger\"><b>Caveat:</b> Caveat cells warn you about the most common pitfalls one founds when starts his/her path learning Python.\n",
    "\n",
    "</div>"
   ]
  },
  {
   "cell_type": "markdown",
   "metadata": {},
   "source": [
    "**This document is devised as a tool to enable your self-learning process. If you get stuck at some step or need any kind of help, please don't hesitate to raise your hand and ask for the teacher's guidance.**\n",
    "\n",
    "---"
   ]
  },
  {
   "cell_type": "markdown",
   "metadata": {},
   "source": [
    "## Introduction\n",
    "\n",
    "In this session, we will explore the tools that Python offers to visualize data. The *art* of making nice plots is something that takes some time, but getting our first plots is really simple. In this tutorial, we will focus in the libraries [Matplotlib](http://matplotlib.org/) and [Seaborn](https://seaborn.pydata.org/). Matplotlib provides an absolute control on what you are plotting but often requires more code lines and a pretty handicraft work. With Seaborn you can get really nice plots in just a couple code lines (that's the reason why we choose this package). Like many other Python plotting packages, Seaborn is based in Matplotlib, and at the end of the day, we will leverage the best of each package to make our plots."
   ]
  },
  {
   "cell_type": "markdown",
   "metadata": {},
   "source": [
    "<div class=\"alert alert-block alert-info\"><b>Tip:</b>\n",
    "\n",
    "Each Python user has its own favourite plotting packages. In my case, despite I started with Seaborn, I recently switched to [Plotnine](https://plotnine.readthedocs.io/en/stable/) as my default. When I need plots with some degree of interactivity, I love using [Bokeh](https://docs.bokeh.org/en/latest/) instead. Try to find the packages that better fits your needs.    \n",
    "</div>"
   ]
  },
  {
   "cell_type": "markdown",
   "metadata": {},
   "source": [
    "We think that working with a true data set using a hands-on approach is the best way to learn the basics on data visualization with Matplotlib and Seaborn. For this reason we will try to reproduce some plots from the [Extended Data Figure 1](https://www.ncbi.nlm.nih.gov/pmc/articles/PMC7960507/figure/Fig5/) appearing in a [Nature Medicine](https://www.nature.com/nm/) paper entitled [*Transcriptional mediators of treatment resistance in lethal prostate cancer*](https://www.ncbi.nlm.nih.gov/pmc/articles/PMC7960507/). The supplementary data of this publication is available at the [Broad Institute's Single Cell Portal](https://singlecell.broadinstitute.org/single_cell) (SCP). Let's have a look at the SCP entry for this project: [SCP1244](https://singlecell.broadinstitute.org/single_cell/study/SCP1244/transcriptional-mediators-of-treatment-resistance-in-lethal-prostate-cancer).\n",
    "\n",
    "For this boot camp, we have [uploaded the data in our GitHub repository](https://github.com/MMRES-PyBootcamp/MMRES-python-bootcamp2022/tree/main/datasets/prostate_cancer_data) so that you don't need to create an SCP account. However, we encourage you to explore this resource by your own because it contains lots of interesting data that you can use for your projects. In addition, the user interface is very intuitive and allows you to perform some exploratory visualizations."
   ]
  },
  {
   "cell_type": "markdown",
   "metadata": {},
   "source": [
    "## Firsts steps with Seaborn and Matplotlib\n",
    "\n",
    "TODO antes de empezar a saco, haremos esto. Para ello trbajaremos con la metadata del dataset de Prostate Cancer.\n",
    "\n",
    "\n",
    "\n",
    "### Basic data inspection (Prostate Cancer Metadata)\n",
    "\n",
    "We only need the `Seaborn` package and the *class* called `pyplot` from the `Matplotlib` package (which has most of what we usually need for plotting):"
   ]
  },
  {
   "cell_type": "code",
   "execution_count": null,
   "metadata": {},
   "outputs": [],
   "source": [
    "# Load packages with their corresponding alias\n",
    "import pandas as pd\n",
    "\n",
    "# Load plotting packages/classes with their corresponding alias\n",
    "import seaborn as sns\n",
    "import matplotlib.pyplot as plt"
   ]
  },
  {
   "cell_type": "markdown",
   "metadata": {},
   "source": [
    "Let's import the metadata of the prostate cancer data set to show how easy is generate plots with Seaborn and Matplotlib:"
   ]
  },
  {
   "cell_type": "code",
   "execution_count": null,
   "metadata": {},
   "outputs": [],
   "source": [
    "# Define the relative path towards the folder with our data files\n",
    "path = 'datasets/prostate_cancer_data/'\n",
    "\n",
    "# Reading file and storing it as a DataFrame\n",
    "df_metadata = pd.read_csv(filepath_or_buffer=f'{path}scp_metadata.tsv', sep='\\t', index_col=0, skiprows=[1])"
   ]
  },
  {
   "cell_type": "markdown",
   "metadata": {},
   "source": [
    "Remember that it is always a good idea to get a bit familiar with the data you have between hands:"
   ]
  },
  {
   "cell_type": "code",
   "execution_count": null,
   "metadata": {},
   "outputs": [],
   "source": [
    "# DataFrame general information\n",
    "df_metadata.info()"
   ]
  },
  {
   "cell_type": "code",
   "execution_count": null,
   "metadata": {},
   "outputs": [],
   "source": [
    "# DataFrame head (five first rows)\n",
    "df_metadata.head()"
   ]
  },
  {
   "cell_type": "code",
   "execution_count": null,
   "metadata": {},
   "outputs": [],
   "source": [
    "# DataFrame tail (last first rows)\n",
    "df_metadata.tail()"
   ]
  },
  {
   "cell_type": "markdown",
   "metadata": {},
   "source": [
    "It seems that some columns in `df_metadata` (`species`, `species__ontology_label`, `disease`, `disease__ontology_label`...) have redundant values, let's check it out:"
   ]
  },
  {
   "cell_type": "code",
   "execution_count": null,
   "metadata": {},
   "outputs": [],
   "source": [
    "# Get `df_metadata` (whole DataFrame) unique values\n",
    "df_metadata.nunique()"
   ]
  },
  {
   "cell_type": "markdown",
   "metadata": {},
   "source": [
    "### Visual data inspection \n",
    "\n",
    "We will begin with some histograms using the Seaborn function [`histplot()`](https://seaborn.pydata.org/generated/seaborn.histplot.html). Note how easy is to extract the information from our `df_metadata` DataFrame and visualize it:"
   ]
  },
  {
   "cell_type": "code",
   "execution_count": null,
   "metadata": {},
   "outputs": [],
   "source": [
    "# Plot histogram of 'organ__ontology_label' column from `df_metadata` DataFrame...\n",
    "sns.histplot(data=df_metadata, x='organ__ontology_label')"
   ]
  },
  {
   "cell_type": "code",
   "execution_count": null,
   "metadata": {},
   "outputs": [],
   "source": [
    "# ... add column 'organ__ontology_label' as hue\n",
    "sns.histplot(data=df_metadata, x='organ__ontology_label', hue='organ__ontology_label')"
   ]
  },
  {
   "cell_type": "code",
   "execution_count": null,
   "metadata": {},
   "outputs": [],
   "source": [
    "# ... raise alpha (opacity) to maximum\n",
    "sns.histplot(data=df_metadata, x='organ__ontology_label', hue='organ__ontology_label', alpha=1)"
   ]
  },
  {
   "cell_type": "markdown",
   "metadata": {},
   "source": [
    "<div class=\"alert alert-block alert-info\"><b>Tip:</b>\n",
    "\n",
    "The parameter *alpha* refers to [alpha compositing](https://en.wikipedia.org/wiki/Alpha_compositing). This parameter is ubiquitous across plotting packages and defines the *opacity*, `alpha=0` meaning fully transparent and `alpha=1` fully opaque. \n",
    "\n",
    "</div>"
   ]
  },
  {
   "cell_type": "code",
   "execution_count": null,
   "metadata": {},
   "outputs": [],
   "source": [
    "# ... change to column 'biosample_id' as hue\n",
    "sns.histplot(data=df_metadata, x='organ__ontology_label', hue='biosample_id', alpha=1)"
   ]
  },
  {
   "cell_type": "markdown",
   "metadata": {},
   "source": [
    "<div class=\"alert alert-block alert-danger\"><b>Caveat:</b>\n",
    " \n",
    "Note that Seaborn plots the bars one on top of the other.\n",
    "\n",
    "</div>"
   ]
  },
  {
   "cell_type": "code",
   "execution_count": null,
   "metadata": {},
   "outputs": [],
   "source": [
    "# ... decrease the alpha\n",
    "sns.histplot(data=df_metadata, x='organ__ontology_label', hue='biosample_id', alpha=0.25)"
   ]
  },
  {
   "cell_type": "markdown",
   "metadata": {},
   "source": [
    "In order to avoid this annoying superposition of bars, we could *stack* or *dodge* them:"
   ]
  },
  {
   "cell_type": "code",
   "execution_count": null,
   "metadata": {},
   "outputs": [],
   "source": [
    "# ... stack the bars (one on top the other)\n",
    "sns.histplot(data=df_metadata, x='organ__ontology_label', hue='biosample_id', alpha=0.5, multiple=\"stack\")"
   ]
  },
  {
   "cell_type": "code",
   "execution_count": null,
   "metadata": {},
   "outputs": [],
   "source": [
    "# ... dodge the bars (side by side) and raise the alpha again\n",
    "sns.histplot(data=df_metadata, x='organ__ontology_label', hue='biosample_id', alpha=1, multiple=\"dodge\")"
   ]
  },
  {
   "cell_type": "markdown",
   "metadata": {},
   "source": [
    "Finally, let's change the position of the legend using the Seaborn function [`move_legend()`](https://seaborn.pydata.org/generated/seaborn.move_legend.html), and also add a nice title using the [`.set()`](https://matplotlib.org/stable/api/_as_gen/matplotlib.axes.Axes.set.html) method available for matplotlib `axes` objects:"
   ]
  },
  {
   "cell_type": "code",
   "execution_count": null,
   "metadata": {},
   "outputs": [],
   "source": [
    "# Plot and store the output matplotlib axes object as `ax`\n",
    "ax = sns.histplot(data=df_metadata, x='organ__ontology_label', hue='biosample_id', alpha=1, multiple=\"dodge\")\n",
    "\n",
    "# Move the legend using a Seaborn function\n",
    "sns.move_legend(ax, \"upper left\", bbox_to_anchor=(1, 1))\n",
    "\n",
    "# Add title\n",
    "ax.set(title='Biosample count by organ')"
   ]
  },
  {
   "cell_type": "markdown",
   "metadata": {},
   "source": [
    "<div class=\"alert alert-block alert-success\"><b>Practice:</b>\n",
    "\n",
    "Visualize the data from `df_metadata`. Un-comment and fill only those code lines with underscores `___`.\n",
    "    \n",
    "1) In the 1<sup>st</sup> code cell below, use Seaborn `hist()` function to plot the `'biosample_id'` count (x-axis) by `'organ__ontology_label'` (hue-color).\n",
    "    \n",
    "2) Use dodging and maximum opacity to format the bars.\n",
    "\n",
    "3) Store the the output matplotlib axes object as `ax`.\n",
    "\n",
    "4) Use the axes method `.tick_params()` to rotate x labels 90 degress.\n",
    "\n",
    "</div>"
   ]
  },
  {
   "cell_type": "code",
   "execution_count": null,
   "metadata": {},
   "outputs": [],
   "source": [
    "# Plot histogram with Seaborn\n",
    "# ax = sns.histplot(\n",
    "#                   data=___,\n",
    "#                   x=___,\n",
    "#                   hue=___,\n",
    "#                   alpha=___,\n",
    "#                   multiple=___\n",
    "#                   )\n",
    "\n",
    "# Rotate xlabels 90 degrees\n",
    "# ax.tick_params(axis=___, rotation=___)"
   ]
  },
  {
   "cell_type": "code",
   "execution_count": null,
   "metadata": {
    "jupyter": {
     "source_hidden": true
    },
    "tags": []
   },
   "outputs": [],
   "source": [
    "# Plot histogram with Seaborn\n",
    "ax = sns.histplot(\n",
    "                   data=df_metadata,\n",
    "                   x=\"biosample_id\",\n",
    "                   hue='organ__ontology_label',\n",
    "                   alpha=1,\n",
    "                   multiple=\"dodge\"\n",
    "                  )\n",
    "\n",
    "# Rotate xlabels 90 degrees\n",
    "ax.tick_params(axis='x', rotation=90)"
   ]
  },
  {
   "cell_type": "markdown",
   "metadata": {
    "tags": []
   },
   "source": [
    "<div class=\"alert alert-block alert-warning\"><b>Extension:</b>\n",
    "\n",
    "A Matplotlib plot is an *object* comprising a hierarchical structure of components. Usually the top level it is an instance of the `figure` class. Going below in the hierarchy we found the area where you draw, which is technically called the `axes` class. Keep in mind that a `figure` class can contain multiple `axes` classes within (for example, if you have subplots or insets). Similarly, the `axes` class have `title` or  `xaxis` and `yaxis`, ... which in turn have their own `majorTicks` ``minorTicks``, `label`, ... and so on.\n",
    "  \n",
    "If you have a single `axes` class instantiated, like in the examples above, you can access and change most parts of the hierarchy like we did above with `ax0.title`. If you want to do anything non-trivial, you have to compose the figure and its components yourself."
   ]
  },
  {
   "cell_type": "code",
   "execution_count": null,
   "metadata": {},
   "outputs": [],
   "source": [
    "# Initiate a matplotlib 2x1 figure as `fig` with their corresponding (empty) axes\n",
    "fig, axes = plt.subplots(nrows=2, ncols=1, figsize=(5, 10))\n",
    "\n",
    "# Create a histogram in each subplot\n",
    "sns.histplot(data=df_metadata, x='organ__ontology_label', hue='biosample_id', alpha=1, multiple=\"dodge\", ax=axes[0])\n",
    "sns.histplot(data=df_metadata, x=\"biosample_id\", hue='organ__ontology_label', alpha=1, multiple=\"dodge\", ax=axes[1])\n",
    "\n",
    "# Move the legends in each subplot outside the plotting area\n",
    "sns.move_legend(fig.axes[0], \"upper left\", bbox_to_anchor=(1, 1))\n",
    "sns.move_legend(fig.axes[1], \"upper left\", bbox_to_anchor=(1, 1))\n",
    "\n",
    "# Rotate xlabels from the second ax 90 degrees\n",
    "fig.axes[1].tick_params(axis='x', rotation=90)"
   ]
  },
  {
   "cell_type": "markdown",
   "metadata": {},
   "source": [
    "## The gallery of Seaborn\n",
    "\n",
    "Seaborn has many plotting functions (have a look to its [example gallery](https://seaborn.pydata.org/examples/index.html)). Here we will show several visualization examples in order to cover the most typical plotting functions from Seaborn. \n",
    "\n",
    "arplot (matplotlib)\n",
    "pie (matplotlib)\n",
    "countplot \n",
    "distplot\n",
    "boxplot\n",
    "relplot\n",
    "scatter (matplotlib)\n",
    "regplot"
   ]
  },
  {
   "cell_type": "markdown",
   "metadata": {},
   "source": [
    "### Basic data inspection (Prostate Cancer UMAP)\n",
    "\n",
    "This time, we will import the file with the estimates for the Uniform Manifold Approximation and Projection (UMAP) space."
   ]
  },
  {
   "cell_type": "code",
   "execution_count": null,
   "metadata": {},
   "outputs": [],
   "source": [
    "# Define the relative path towards the folder with our data files\n",
    "path = 'datasets/prostate_cancer_data/'\n",
    "\n",
    "# Reading file and storing it as a DataFrame\n",
    "df_all = pd.read_csv(filepath_or_buffer=f'{path}scp_clustering.tsv', sep='\\t', index_col=0, skiprows=[1])"
   ]
  },
  {
   "cell_type": "code",
   "execution_count": null,
   "metadata": {},
   "outputs": [],
   "source": [
    "# DataFrame general information\n",
    "df_all.info()"
   ]
  },
  {
   "cell_type": "code",
   "execution_count": null,
   "metadata": {},
   "outputs": [],
   "source": [
    "# DataFrame head (five first rows)\n",
    "df_all.head()"
   ]
  },
  {
   "cell_type": "code",
   "execution_count": null,
   "metadata": {},
   "outputs": [],
   "source": [
    "# DataFrame head (five first rows)\n",
    "df_all.tail()"
   ]
  },
  {
   "cell_type": "code",
   "execution_count": null,
   "metadata": {},
   "outputs": [],
   "source": [
    "# Get `df_all` (whole DataFrame) unique values\n",
    "df_all.nunique()"
   ]
  },
  {
   "cell_type": "markdown",
   "metadata": {},
   "source": [
    "### Seaborn plotting functions `countplot()` and `histplot()`\n",
    "\n",
    "You can use [`countplot()`](https://seaborn.pydata.org/generated/seaborn.countplot.html), for example, to quickly get a first overview on how a categorical variable is distributed:"
   ]
  },
  {
   "cell_type": "code",
   "execution_count": null,
   "metadata": {},
   "outputs": [],
   "source": [
    "# Get countplot\n",
    "ax = sns.countplot(data=df_all, x='supercluster for LDSC-SEG')\n",
    "\n",
    "# Rotate xlabels 90 degrees\n",
    "ax.tick_params(axis='x', rotation=90)"
   ]
  },
  {
   "cell_type": "markdown",
   "metadata": {},
   "source": [
    "The function [`histplot()`](https://seaborn.pydata.org/generated/seaborn.histplot.html) can also be used to this aim:"
   ]
  },
  {
   "cell_type": "code",
   "execution_count": null,
   "metadata": {},
   "outputs": [],
   "source": [
    "# Get histplot\n",
    "ax = sns.histplot(data=df_all, x='supercluster for LDSC-SEG')\n",
    "\n",
    "# Rotate xlabels 90 degrees\n",
    "ax.tick_params(axis='x', rotation=90)"
   ]
  },
  {
   "cell_type": "markdown",
   "metadata": {},
   "source": [
    "If the variable to inspect is numerical, you should better use `histplot()` instead of `countplot()`:"
   ]
  },
  {
   "cell_type": "code",
   "execution_count": null,
   "metadata": {},
   "outputs": [],
   "source": [
    "# Melt 'X' and 'Y', keeping 'cluster dominant cell type', 'supercluster for LDSC-SEG'\n",
    "df_all_melt = pd.melt(frame=df_all,\n",
    "                      id_vars=['cluster dominant cell type', 'supercluster for LDSC-SEG'],\n",
    "                      value_vars=['X', 'Y'],\n",
    "                      var_name='Coordinate',\n",
    "                      value_name='UMAP value')\n",
    "\n",
    "# Get histplot (you can try additional stat arguments, such as 'count', 'frequency', 'density', 'probability', 'proportion', 'percent')\n",
    "sns.histplot(data=df_all_melt, x='UMAP value', hue='Coordinate', stat='percent', kde=True, bins=50)"
   ]
  },
  {
   "cell_type": "markdown",
   "metadata": {},
   "source": [
    "### Seaborn plotting functions `boxplot()`, `violinplot()` and `stripplot()`\n",
    "\n",
    "We have seen that `histplot()` is recommended to inspect how a numerical variable is distributed. Sometimes we might need to know such distribution but splitting by a some categorical variable. In this case, Seaborn functions [`boxplot()`](https://seaborn.pydata.org/generated/seaborn.boxplot.html), [`violinplot()`](https://seaborn.pydata.org/generated/seaborn.violinplot.html) and [`stripplot()`](https://seaborn.pydata.org/generated/seaborn.stripplot.html)."
   ]
  },
  {
   "cell_type": "code",
   "execution_count": null,
   "metadata": {},
   "outputs": [],
   "source": [
    "# Initiate a matplotlib 2x1 figure as `fig` with their corresponding (empty) axes\n",
    "fig, axes = plt.subplots(nrows=1, ncols=3, figsize=(15, 5))\n",
    "\n",
    "# Get boxpot, violinplot and stripplot\n",
    "sns.boxplot(data=df_all_melt, x='supercluster for LDSC-SEG', y='UMAP value', hue='Coordinate', ax=axes[0])\n",
    "sns.violinplot(data=df_all_melt, x='supercluster for LDSC-SEG', y='UMAP value', hue='Coordinate', ax=axes[1])\n",
    "sns.stripplot(data=df_all_melt, x='supercluster for LDSC-SEG', y='UMAP value', hue='Coordinate', dodge=True, alpha=0.05, jitter=0.3, ax=axes[2])\n",
    "\n",
    "# TODO\n",
    "for i, ax in enumerate(axes):\n",
    "    print(i)\n",
    "    \n",
    "    # Rotate xlabels from the second ax 90 degrees\n",
    "    fig.axes[i].tick_params(axis='x', rotation=90)"
   ]
  },
  {
   "cell_type": "markdown",
   "metadata": {},
   "source": [
    "When looking at a *box plot* it is difficult to tell at a glance if the underlying data is normally distributed or not. Violin plots are more convenient to get a better insight on the true data distribution. Strip plots can also be useful to this aim if you adjust a bit with `alpha=` and `jitter=` arguments (don't forget to use `dodge=True` in strip plots if you pass a categorical variable to the `hue=` argument)."
   ]
  },
  {
   "cell_type": "markdown",
   "metadata": {},
   "source": [
    "<div class=\"alert alert-block alert-info\"><b>Tip:</b>\n",
    "\n",
    "The parameter *jitter* refers to lateral (vertical in the example above) random spreading of data points. Sometimes, increasing the jitter (by default `jitter=0.1`) is useful to have a better glimpse of the data we have between hands.\n",
    "\n",
    "</div>"
   ]
  },
  {
   "cell_type": "code",
   "execution_count": null,
   "metadata": {},
   "outputs": [],
   "source": []
  },
  {
   "cell_type": "markdown",
   "metadata": {},
   "source": [
    "### `displot()`\n",
    "\n",
    "TODO [`displot()`](https://seaborn.pydata.org/generated/seaborn.displot.html#seaborn.displot)\n",
    "\n",
    "ACEPTA COL I ROW"
   ]
  },
  {
   "cell_type": "code",
   "execution_count": null,
   "metadata": {},
   "outputs": [],
   "source": [
    "sns.displot(data=df_all_melt, x='UMAP value', hue='Coordinate', stat='count', kde=True, bins=50)"
   ]
  },
  {
   "cell_type": "code",
   "execution_count": null,
   "metadata": {},
   "outputs": [],
   "source": []
  },
  {
   "cell_type": "code",
   "execution_count": null,
   "metadata": {},
   "outputs": [],
   "source": []
  },
  {
   "cell_type": "code",
   "execution_count": null,
   "metadata": {},
   "outputs": [],
   "source": []
  },
  {
   "cell_type": "code",
   "execution_count": null,
   "metadata": {},
   "outputs": [],
   "source": []
  },
  {
   "cell_type": "code",
   "execution_count": null,
   "metadata": {},
   "outputs": [],
   "source": []
  },
  {
   "cell_type": "code",
   "execution_count": null,
   "metadata": {},
   "outputs": [],
   "source": []
  },
  {
   "cell_type": "code",
   "execution_count": null,
   "metadata": {},
   "outputs": [],
   "source": []
  },
  {
   "cell_type": "code",
   "execution_count": null,
   "metadata": {},
   "outputs": [],
   "source": []
  },
  {
   "cell_type": "code",
   "execution_count": null,
   "metadata": {},
   "outputs": [],
   "source": []
  },
  {
   "cell_type": "code",
   "execution_count": null,
   "metadata": {},
   "outputs": [],
   "source": []
  },
  {
   "cell_type": "code",
   "execution_count": null,
   "metadata": {},
   "outputs": [],
   "source": []
  },
  {
   "cell_type": "code",
   "execution_count": null,
   "metadata": {},
   "outputs": [],
   "source": []
  },
  {
   "cell_type": "code",
   "execution_count": null,
   "metadata": {},
   "outputs": [],
   "source": []
  },
  {
   "cell_type": "code",
   "execution_count": null,
   "metadata": {},
   "outputs": [],
   "source": []
  },
  {
   "cell_type": "code",
   "execution_count": null,
   "metadata": {},
   "outputs": [],
   "source": []
  },
  {
   "cell_type": "code",
   "execution_count": null,
   "metadata": {},
   "outputs": [],
   "source": []
  },
  {
   "cell_type": "code",
   "execution_count": null,
   "metadata": {},
   "outputs": [],
   "source": []
  },
  {
   "cell_type": "code",
   "execution_count": null,
   "metadata": {},
   "outputs": [],
   "source": []
  },
  {
   "cell_type": "markdown",
   "metadata": {},
   "source": [
    "### A bit more about Seaborn\n",
    "\n",
    "Now let's play a bit with the Seaborn function [`catplot()`](https://seaborn.pydata.org/generated/seaborn.catplot.html). This function is very versatile and useful to inspect quantitative data taking into account their different facets according to some categorical data."
   ]
  },
  {
   "cell_type": "code",
   "execution_count": null,
   "metadata": {},
   "outputs": [],
   "source": [
    "# Get a categorical plot (Box)\n",
    "sns.catplot(kind='box', data=df_all, x='X', y='supercluster for LDSC-SEG')"
   ]
  },
  {
   "cell_type": "markdown",
   "metadata": {},
   "source": [
    "Note that `catplot()` returns an \"axes grid\" instead of \"axes\" (we will better understand at the next exercise)."
   ]
  },
  {
   "cell_type": "code",
   "execution_count": null,
   "metadata": {},
   "outputs": [],
   "source": [
    "# Get a categorical plot (Violin)\n",
    "sns.catplot(kind='violin', data=df_all, y='supercluster for LDSC-SEG', x='X')"
   ]
  },
  {
   "cell_type": "code",
   "execution_count": null,
   "metadata": {},
   "outputs": [],
   "source": [
    "# Get a categorical plot (Strip)\n",
    "sns.catplot(kind='strip', data=df_all, y='supercluster for LDSC-SEG', x='X')"
   ]
  },
  {
   "cell_type": "code",
   "execution_count": null,
   "metadata": {},
   "outputs": [],
   "source": [
    "# Get a categorical plot (Strip) adjusting a bit jitter and alpha\n",
    "sns.catplot(kind='strip', data=df_all, y='supercluster for LDSC-SEG', x='X', jitter=0.4, alpha=0.2)"
   ]
  },
  {
   "cell_type": "markdown",
   "metadata": {},
   "source": [
    "<div class=\"alert alert-block alert-success\"><b>Practice:</b>\n",
    "\n",
    "Visualize the data from `df_all`. Un-comment and fill only those code lines with underscores `___`.\n",
    "    \n",
    "1) In the 1<sup>st</sup> code cell below, use Seaborn `catplot()` function with `kind='strip'` to plot the `'X'` values distribution (x-axis) by `'cluster dominant cell type'` (y-axis).\n",
    "    \n",
    "2) Split the data in columns by `supercluster for LDSC-SEG` using the `catplot()` argument `col=`.\n",
    "    \n",
    "3) Wrap the columns obtained in trios with the `catplot()` argument `col_wrap=`.\n",
    "\n",
    "4) Tune the `catplot()` arguments `jitter=` and `alpha=` until getting a more aesthetic result according your criteria.\n",
    "  \n",
    "5) Are all cell types represented in all superclusters?\n",
    "\n",
    "</div>"
   ]
  },
  {
   "cell_type": "code",
   "execution_count": null,
   "metadata": {},
   "outputs": [],
   "source": [
    "# Get a categorical plot (Strip) splitting in columns\n",
    "# sns.catplot(\n",
    "#             kind=___,\n",
    "#             data=___,\n",
    "#             y=___,\n",
    "#             x=___,\n",
    "#             col=___,\n",
    "#             col_wrap=___,\n",
    "#             jitter=___,\n",
    "#             alpha___\n",
    "#            )"
   ]
  },
  {
   "cell_type": "code",
   "execution_count": null,
   "metadata": {
    "tags": []
   },
   "outputs": [],
   "source": [
    "# Get a categorical plot (Strip) and split a category in columns\n",
    "sns.catplot(\n",
    "            kind='strip',\n",
    "            data=df_all,\n",
    "            y='cluster dominant cell type',\n",
    "            x='X',\n",
    "            col='supercluster for LDSC-SEG',\n",
    "            col_wrap=3,\n",
    "            jitter=0.3,\n",
    "            alpha=0.4\n",
    "           )"
   ]
  },
  {
   "cell_type": "markdown",
   "metadata": {},
   "source": [
    "## Plotting numerical relationships\n",
    "\n",
    "### TODO Seaborn's `relplot()`\n",
    "\n",
    "Now let's play a bit with the Seaborn function [`catplot()`](https://seaborn.pydata.org/generated/seaborn.catplot.html). This function is very versatile and useful to inspect quantitative data taking into account their different facets according to some categorical data."
   ]
  },
  {
   "cell_type": "code",
   "execution_count": null,
   "metadata": {},
   "outputs": [],
   "source": [
    "df_all_metadata = df_all.merge(df_metadata, right_index=True, left_index=True, how='inner')"
   ]
  },
  {
   "cell_type": "code",
   "execution_count": null,
   "metadata": {},
   "outputs": [],
   "source": [
    "df_all_metadata"
   ]
  },
  {
   "cell_type": "code",
   "execution_count": null,
   "metadata": {},
   "outputs": [],
   "source": []
  },
  {
   "cell_type": "code",
   "execution_count": null,
   "metadata": {},
   "outputs": [],
   "source": [
    "# Get a relationship plot\n",
    "sns.relplot(data=df_all_metadata, y='Y', x='X')"
   ]
  },
  {
   "cell_type": "code",
   "execution_count": null,
   "metadata": {},
   "outputs": [],
   "source": [
    "# Remove the white line around the dots\n",
    "g=sns.relplot(data=df_all_metadata, y='Y', x='X', linewidth=0)"
   ]
  },
  {
   "cell_type": "code",
   "execution_count": null,
   "metadata": {},
   "outputs": [],
   "source": [
    "# Reduce dot size\n",
    "sns.relplot(data=df_all_metadata, y='Y', x='X', linewidth=0, s=3)"
   ]
  },
  {
   "cell_type": "code",
   "execution_count": null,
   "metadata": {},
   "outputs": [],
   "source": [
    "# Add a categorical variable as hue\n",
    "sns.relplot(data=df_all_metadata, y='Y', x='X', hue='supercluster for LDSC-SEG', linewidth=0, s=3)"
   ]
  },
  {
   "cell_type": "code",
   "execution_count": null,
   "metadata": {},
   "outputs": [],
   "source": [
    "# Change the categorical variable to be represented with a hue\n",
    "sns.relplot(data=df_all_metadata, y='Y', x='X', hue='cluster dominant cell type', linewidth=0, s=3)"
   ]
  },
  {
   "cell_type": "code",
   "execution_count": null,
   "metadata": {},
   "outputs": [],
   "source": [
    "# Change (again) the categorical variable to be represented with a hue\n",
    "sns.relplot(data=df_all_metadata, y='Y', x='X', hue='biosample_id', linewidth=0, s=3)"
   ]
  },
  {
   "cell_type": "code",
   "execution_count": null,
   "metadata": {},
   "outputs": [],
   "source": [
    "# Create list with custom colors in HEX format\n",
    "list_colors = [\"#af635b\", \"#979c5f\", \"#624f74\"]\n",
    "\n",
    "# Create custom color palette\n",
    "custom_palette = sns.color_palette(list_colors)\n",
    "\n",
    "# Change (one more time) the categorical variable to be represented with a hue\n",
    "sns.relplot(data=df_all_metadata, y='Y', x='X', hue='organ__ontology_label', linewidth=0, s=3, palette=custom_palette)"
   ]
  },
  {
   "cell_type": "code",
   "execution_count": null,
   "metadata": {},
   "outputs": [],
   "source": [
    "# TODO\n",
    "df_exp = pd.read_csv(filepath_or_buffer=f'{path}scp_tpm.tsv.gz', sep='\\t', index_col=0).T\n",
    "df_exp.index=df_exp.index.astype(int)\n",
    "\n",
    "# TODO\n",
    "df = df_exp.merge(df_all, right_index=True, left_index=True, how='inner')"
   ]
  },
  {
   "cell_type": "code",
   "execution_count": null,
   "metadata": {},
   "outputs": [],
   "source": []
  },
  {
   "cell_type": "markdown",
   "metadata": {},
   "source": [
    "Remember that is always recommended to get a bit familiar with the data "
   ]
  },
  {
   "cell_type": "code",
   "execution_count": null,
   "metadata": {
    "id": "z1Nc7IazJDjs"
   },
   "outputs": [],
   "source": [
    "#imports\n",
    "import os\n",
    "import pandas as pd\n",
    "import numpy as np\n",
    "import seaborn as sns\n",
    "import matplotlib.pyplot as plt\n",
    "from scipy.stats import zscore"
   ]
  },
  {
   "cell_type": "markdown",
   "metadata": {
    "id": "ByPIzLHoFQYj"
   },
   "source": [
    "## <strong>Data Import</strong>\n",
    "The supplementary data of this publication is available at the Broad Institute’s Single Cell Portal (“[SCP](https://singlecell.broadinstitute.org/single_cell)”). For this bootcamp, I have uploaded the data in our GitHub repository so that you don't need to create an SCP account. However, I encourage you to explore this resource by your own because it contains lots of interesting data that you can use for your projects and the user interface is very intuitive and allows you to perform some exploratory visualizations.\n",
    "\n",
    "<br>\n",
    "\n",
    "Let's have a look at the entry for this project: [SCP1244](https://singlecell.broadinstitute.org/single_cell/study/SCP1244/transcriptional-mediators-of-treatment-resistance-in-lethal-prostate-cancer)\n",
    "\n",
    "\n"
   ]
  },
  {
   "cell_type": "code",
   "execution_count": null,
   "metadata": {},
   "outputs": [],
   "source": [
    "# Reading an Excel SpreadSheet and storing it in as a DataFrame called `df`\n",
    "df_all = pd.read_csv(filepath_or_buffer='datasets/prostate_cancer_data/scp_clustering.tsv',sep='\\t',index_col=0,skiprows=[1])\n",
    "df_nkt = pd.read_csv(filepath_or_buffer='datasets/prostate_cancer_data/scp_nk_t_clustering.tsv',sep='\\t',index_col=0,skiprows=[1])\n",
    "df_metadata = pd.read_csv(filepath_or_buffer='datasets/prostate_cancer_data/scp_metadata.tsv',sep='\\t',index_col=0,skiprows=[1])\n",
    "\n",
    "# Return the DataFrame\n",
    "df_all.head()"
   ]
  },
  {
   "cell_type": "code",
   "execution_count": null,
   "metadata": {},
   "outputs": [],
   "source": [
    "df_all.info()"
   ]
  },
  {
   "cell_type": "markdown",
   "metadata": {
    "id": "IBy-DR97gN2p"
   },
   "source": [
    "## <strong>Whole Dataset</strong>\n"
   ]
  },
  {
   "cell_type": "code",
   "execution_count": null,
   "metadata": {
    "id": "-dO6ezE2BzaK"
   },
   "outputs": [],
   "source": [
    "df=df_exp.merge(df_all,right_index=True,left_index=True,how='inner')\n"
   ]
  },
  {
   "cell_type": "code",
   "execution_count": null,
   "metadata": {},
   "outputs": [],
   "source": [
    "df"
   ]
  },
  {
   "cell_type": "code",
   "execution_count": null,
   "metadata": {},
   "outputs": [],
   "source": []
  },
  {
   "cell_type": "code",
   "execution_count": null,
   "metadata": {
    "id": "IOleqdMQX3nm"
   },
   "outputs": [],
   "source": [
    "\n",
    "f, ax = plt.subplots(figsize=(6.5, 6.5))\n",
    "sns.boxplot(data=df,x='cluster dominant cell type',y='CD3G')\n"
   ]
  },
  {
   "cell_type": "code",
   "execution_count": null,
   "metadata": {},
   "outputs": [],
   "source": [
    "type(f)\n",
    "type(ax)"
   ]
  },
  {
   "cell_type": "code",
   "execution_count": null,
   "metadata": {
    "id": "y4gULinqYazL"
   },
   "outputs": [],
   "source": [
    "# let's order the cell types according to the expression of this marker gene\n",
    "s_celltypes=sorted([(col,val['CD3G'].mean()) for col,val in df.groupby('cluster dominant cell type')], key=lambda x: x[1],reverse=True)\n",
    "s_celltypes\n"
   ]
  },
  {
   "cell_type": "code",
   "execution_count": null,
   "metadata": {
    "id": "EyS0TSY7W2nu"
   },
   "outputs": [],
   "source": [
    "\n",
    "ordered_cells=np.array(s_celltypes).T[0]\n",
    "\n",
    "f, ax = plt.subplots(figsize=(6.5, 6.5))\n",
    "sns.boxplot(data=df,x='cluster dominant cell type',y='CD3G',order=ordered_cells)\n",
    "ax.set_xticklabels(ordered_cells,rotation=90)"
   ]
  },
  {
   "cell_type": "code",
   "execution_count": null,
   "metadata": {
    "id": "xKrb6oTParnu"
   },
   "outputs": [],
   "source": [
    "f, ax = plt.subplots(figsize=(6.5, 6.5))\n",
    "\n",
    "sns.scatterplot(x=\"X\", y=\"Y\",\n",
    "                hue=\"cluster dominant cell type\",\n",
    "                hue_order=ordered_cells,\n",
    "                linewidth=0,\n",
    "                data=df, ax=ax)\n",
    "\n",
    "ax.legend(bbox_to_anchor=(1.1, 1.05))\n",
    "\n",
    "f, ax = plt.subplots(figsize=(6.5, 6.5))\n",
    "\n",
    "sns.scatterplot(x=\"X\", y=\"Y\",\n",
    "                hue=\"CD3G\",\n",
    "                palette=plt.cm.seismic,hue_norm=(0,500),hue_order=\"CD3G\",\n",
    "                linewidth=0,\n",
    "                data=df, ax=ax)\n",
    "\n",
    "ax.legend(bbox_to_anchor=(1.5, 1.05))"
   ]
  },
  {
   "cell_type": "code",
   "execution_count": null,
   "metadata": {
    "id": "t0o1mm6UcAKX"
   },
   "outputs": [],
   "source": [
    "sns.relplot(\n",
    "    data=df, x=\"X\", y=\"Y\",\n",
    "    col=\"cluster dominant cell type\", hue=\"CD3G\", \n",
    "    col_wrap=4, palette=plt.cm.seismic,hue_norm=(0,500), col_order=ordered_cells,\n",
    "    kind=\"scatter\"\n",
    ")"
   ]
  },
  {
   "cell_type": "markdown",
   "metadata": {
    "id": "aCKfoDKFgVwU"
   },
   "source": [
    "## <strong>Cytotoxic lymphocyte populations</strong>\n"
   ]
  },
  {
   "cell_type": "code",
   "execution_count": null,
   "metadata": {
    "id": "6KPAkOu4hF0T"
   },
   "outputs": [],
   "source": [
    "df=df_exp.merge(df_nkt,right_index=True,left_index=True,how='inner')"
   ]
  },
  {
   "cell_type": "code",
   "execution_count": null,
   "metadata": {
    "id": "K-Bw58OsjWPv"
   },
   "outputs": [],
   "source": [
    "color_dict={\n",
    "    'CD8+ PD1+ T cell':'#2a9a79', \n",
    "    'CD8+ CXCR4+ T cell':'#7eb459', \n",
    "    'CD8+ GNLY+ T cell':'#486aa5',\n",
    "    'CD16+ NK cell':'#7e3689', \n",
    "    'CD4+ Treg cell':'#ec9034', \n",
    "    'CD4+ T cell':'#fd7971'\n",
    "}"
   ]
  },
  {
   "cell_type": "code",
   "execution_count": null,
   "metadata": {
    "id": "13x0h82OhMaF"
   },
   "outputs": [],
   "source": [
    "# let's order the cell types according to the expression of CD3 marker gene\n",
    "s_celltypes=sorted([(col,val['CD3G'].mean()) for col,val in df.groupby('cluster dominant cell type')], key=lambda x: x[1],reverse=True)\n",
    "ordered_cells=np.array(s_celltypes).T[0]\n",
    "f, ax = plt.subplots(figsize=(6.5, 6.5))\n",
    "sns.boxplot(data=df,x='cluster dominant cell type',y='CD3G',order=ordered_cells, showfliers = False,palette=color_dict)\n",
    "ax.set_xticklabels(ordered_cells,rotation=90)\n"
   ]
  },
  {
   "cell_type": "code",
   "execution_count": null,
   "metadata": {
    "id": "mDYncWwHjG_m"
   },
   "outputs": [],
   "source": [
    "# let's order the cell types according to the expression of CD4 marker gene\n",
    "s_celltypes=sorted([(col,val['CD4'].mean()) for col,val in df.groupby('cluster dominant cell type')], key=lambda x: x[1],reverse=True)\n",
    "ordered_cells=np.array(s_celltypes).T[0]\n",
    "f, ax = plt.subplots(figsize=(6.5, 6.5))\n",
    "sns.boxplot(data=df,x='cluster dominant cell type',y='CD4',order=ordered_cells, showfliers = False,palette=color_dict)\n",
    "ax.set_xticklabels(ordered_cells,rotation=90)\n"
   ]
  },
  {
   "cell_type": "code",
   "execution_count": null,
   "metadata": {
    "id": "Rfost3ygjJ3g"
   },
   "outputs": [],
   "source": [
    "# let's order the cell types according to the expression of CD16 (FCGR3B) marker gene\n",
    "s_celltypes=sorted([(col,val['FCGR3B'].mean()) for col,val in df.groupby('cluster dominant cell type')], key=lambda x: x[1],reverse=True)\n",
    "ordered_cells=np.array(s_celltypes).T[0]\n",
    "f, ax = plt.subplots(figsize=(6.5, 6.5))\n",
    "sns.boxplot(data=df,x='cluster dominant cell type',y='FCGR3B',order=ordered_cells, showfliers = False,palette=color_dict)\n",
    "ax.set_xticklabels(ordered_cells,rotation=90)"
   ]
  },
  {
   "cell_type": "code",
   "execution_count": null,
   "metadata": {
    "id": "rT4sGeRPi9ud"
   },
   "outputs": [],
   "source": [
    "# let's order the cell types according to the expression of CD8 marker gene\n",
    "s_celltypes=sorted([(col,val['CD8A'].mean()) for col,val in df.groupby('cluster dominant cell type')], key=lambda x: x[1],reverse=True)\n",
    "ordered_cells=np.array(s_celltypes).T[0]\n",
    "f, ax = plt.subplots(figsize=(6.5, 6.5))\n",
    "sns.boxplot(data=df,x='cluster dominant cell type',y='CD8A',order=ordered_cells, showfliers = False,palette=color_dict)\n",
    "ax.set_xticklabels(ordered_cells,rotation=90)\n"
   ]
  },
  {
   "cell_type": "code",
   "execution_count": null,
   "metadata": {
    "id": "dE8LnB-slZbV"
   },
   "outputs": [],
   "source": [
    "ordered_cells=['CD16+ NK cell', 'CD8+ GNLY+ T cell', 'CD8+ CXCR4+ T cell','CD8+ PD1+ T cell']\n",
    "f, ax = plt.subplots(figsize=(3, 6.5))\n",
    "sns.stripplot(data=df,x='cluster dominant cell type',y='PDCD1',order=ordered_cells, palette=color_dict)\n",
    "ax.set_xticklabels(ordered_cells,rotation=90)\n"
   ]
  },
  {
   "cell_type": "code",
   "execution_count": null,
   "metadata": {
    "id": "JEVTYpvxmXOM"
   },
   "outputs": [],
   "source": [
    "ordered_cells=['CD16+ NK cell', 'CD8+ GNLY+ T cell', 'CD8+ CXCR4+ T cell','CD8+ PD1+ T cell']\n",
    "f, ax = plt.subplots(figsize=(3, 6.5))\n",
    "sns.stripplot(data=df,x='cluster dominant cell type',y='CX3CR1',order=ordered_cells, palette=color_dict)\n",
    "ax.set_xticklabels(ordered_cells,rotation=90)"
   ]
  },
  {
   "cell_type": "markdown",
   "metadata": {
    "id": "ytk9ObpDp-op"
   },
   "source": [
    "## <strong>Heatmaps</strong>\n"
   ]
  },
  {
   "cell_type": "code",
   "execution_count": null,
   "metadata": {
    "id": "W-dsRVLIqIcK"
   },
   "outputs": [],
   "source": [
    "markers=['CD4','CD8A','CD3G','FCGR3B','PDCD1','HAVCR2','TOX','CX3CR1','CXCR4','GZMB']"
   ]
  },
  {
   "cell_type": "code",
   "execution_count": null,
   "metadata": {
    "id": "n3cwfjKwmyZo"
   },
   "outputs": [],
   "source": [
    "sns.heatmap(df[markers],cmap=plt.cm.seismic,vmin=0,vmax=500)"
   ]
  },
  {
   "cell_type": "code",
   "execution_count": null,
   "metadata": {
    "id": "KhoLLAmQqfBj"
   },
   "outputs": [],
   "source": [
    "clusters=df['cluster dominant cell type']\n",
    "row_colors = clusters.map(color_dict)\n",
    "sns.clustermap(df[markers].apply(lambda x:zscore(x),axis=0),cmap=plt.cm.seismic,vmin=-2,vmax=2,row_colors=row_colors.to_numpy())\n"
   ]
  },
  {
   "cell_type": "code",
   "execution_count": null,
   "metadata": {
    "id": "22bV3HogpuZ1"
   },
   "outputs": [],
   "source": [
    "sns.clustermap(df[markers],z_score=1,cmap=plt.cm.seismic,vmin=-2,vmax=2,row_colors=row_colors.to_numpy())\n"
   ]
  },
  {
   "cell_type": "code",
   "execution_count": null,
   "metadata": {
    "id": "nLxcyoXlrUWx"
   },
   "outputs": [],
   "source": [
    "markers=['CD4','CD8A','FCGR3B','PDCD1','CXCR4','GNLY']\n",
    "#markers=['CD4','CD8A','FCGR3B']\n",
    "sns.clustermap(df[markers],z_score=1,cmap=plt.cm.seismic,vmin=-2,vmax=2,row_colors=row_colors.to_numpy())\n"
   ]
  },
  {
   "cell_type": "markdown",
   "metadata": {
    "id": "dOqhqZlUvMf6"
   },
   "source": [
    "## <strong> Statistics </strong>\n"
   ]
  },
  {
   "cell_type": "markdown",
   "metadata": {
    "id": "sS-2KpMGu7_H"
   },
   "source": [
    "https://medium.com/insights-school/learn-basic-statistics-with-python-cc0f45275929\n"
   ]
  }
 ],
 "metadata": {
  "colab": {
   "collapsed_sections": [],
   "include_colab_link": true,
   "name": "Exercise_Prostate_Cancer.ipynb",
   "provenance": [],
   "toc_visible": true
  },
  "kernelspec": {
   "display_name": "Python 3 (ipykernel)",
   "language": "python",
   "name": "python3"
  },
  "language_info": {
   "codemirror_mode": {
    "name": "ipython",
    "version": 3
   },
   "file_extension": ".py",
   "mimetype": "text/x-python",
   "name": "python",
   "nbconvert_exporter": "python",
   "pygments_lexer": "ipython3",
   "version": "3.9.12"
  }
 },
 "nbformat": 4,
 "nbformat_minor": 4
}
