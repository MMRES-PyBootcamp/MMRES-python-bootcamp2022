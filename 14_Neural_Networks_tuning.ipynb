{
 "cells": [
  {
   "cell_type": "markdown",
   "id": "a782b795-ecb3-451c-b1fc-8860641ce3e9",
   "metadata": {
    "colab_type": "text",
    "id": "view-in-github"
   },
   "source": [
    "<a href=\"https://colab.research.google.com/github/MMRES-PyBootcamp/MMRES-python-bootcamp2022/blob/main/14_Neural_Networks_tuning.ipynb\" target=\"_parent\"><img src=\"https://colab.research.google.com/assets/colab-badge.svg\" alt=\"Open In Colab\"/></a>"
   ]
  },
  {
   "cell_type": "markdown",
   "id": "76dc8c97-1640-43c9-acc5-703814f529d9",
   "metadata": {
    "id": "76dc8c97-1640-43c9-acc5-703814f529d9"
   },
   "source": [
    "Again, make sure to enable GPU acceleration in runtime"
   ]
  },
  {
   "cell_type": "markdown",
   "id": "864d3856-3011-4456-af62-98dee9b911d5",
   "metadata": {
    "id": "864d3856-3011-4456-af62-98dee9b911d5"
   },
   "source": [
    "![Open Runtime/change runtime](https://github.com/MMRES-PyBootcamp/MMRES-python-bootcamp2022/blob/main/data/colab_GPU1.png?raw=1)"
   ]
  },
  {
   "cell_type": "markdown",
   "id": "bf45df86-b9fc-43fa-86f1-f43f41e549b6",
   "metadata": {
    "id": "bf45df86-b9fc-43fa-86f1-f43f41e549b6"
   },
   "source": [
    "![Choose GPU in hardware accelerator](https://github.com/MMRES-PyBootcamp/MMRES-python-bootcamp2022/blob/main/data/colab_GPU2.png?raw=1)"
   ]
  },
  {
   "cell_type": "code",
   "execution_count": 13,
   "id": "5b0dc7cf-e9b4-4411-95e4-cbd9504345d8",
   "metadata": {
    "id": "5b0dc7cf-e9b4-4411-95e4-cbd9504345d8"
   },
   "outputs": [],
   "source": [
    "import torch\n",
    "from torch import nn\n",
    "from torchvision import datasets\n",
    "from torchvision.transforms import ToTensor\n",
    "\n",
    "from matplotlib import pyplot as plt"
   ]
  },
  {
   "cell_type": "markdown",
   "id": "2fb6b9bd-522c-44e0-bb98-e4661e8f4620",
   "metadata": {
    "id": "2fb6b9bd-522c-44e0-bb98-e4661e8f4620"
   },
   "source": [
    "We are looking at the same MNIST dataset of handwritten digits and want to make some adjustments to our neural network architecture to improve our performance. First, we load the dataset again."
   ]
  },
  {
   "cell_type": "code",
   "execution_count": 2,
   "id": "0f0c1fc2-3a4c-4360-8f0a-87fb75fced4c",
   "metadata": {
    "id": "0f0c1fc2-3a4c-4360-8f0a-87fb75fced4c"
   },
   "outputs": [],
   "source": [
    "device = \"cuda\" #make sure colab runtime has GPU acceleration activated"
   ]
  },
  {
   "cell_type": "code",
   "execution_count": 17,
   "id": "c3b2c0de-04af-45bc-9766-4eb0c2ebe588",
   "metadata": {
    "id": "c3b2c0de-04af-45bc-9766-4eb0c2ebe588"
   },
   "outputs": [],
   "source": [
    "# Download training data from open datasets.\n",
    "training_data = datasets.MNIST(\n",
    "    root=\"data\",\n",
    "    train=True,\n",
    "    download=True,\n",
    "    transform=ToTensor(),\n",
    ")\n",
    "\n",
    "# Download test data from open datasets.\n",
    "test_data = datasets.MNIST(\n",
    "    root=\"data\",\n",
    "    train=False,\n",
    "    download=True,\n",
    "    transform=ToTensor(),\n",
    ")"
   ]
  },
  {
   "cell_type": "code",
   "execution_count": 4,
   "id": "d9e2ede3-9e26-42e1-bc2f-24d0deb1668c",
   "metadata": {
    "colab": {
     "base_uri": "https://localhost:8080/"
    },
    "id": "d9e2ede3-9e26-42e1-bc2f-24d0deb1668c",
    "outputId": "50fa4b7c-6ba2-4260-ab76-3db1b51c7383"
   },
   "outputs": [
    {
     "name": "stdout",
     "output_type": "stream",
     "text": [
      "Shape of X [batch_size, color_channel, height, width]: torch.Size([512, 1, 28, 28])\n",
      "Shape of y: torch.Size([512]) torch.int64\n"
     ]
    }
   ],
   "source": [
    "from torch.utils.data import DataLoader\n",
    "\n",
    "batch_size = 512\n",
    "\n",
    "# Create data loaders.\n",
    "train_dataloader = DataLoader(training_data, batch_size=batch_size)\n",
    "test_dataloader = DataLoader(test_data, batch_size=batch_size)\n",
    "\n",
    "for X, y in test_dataloader:\n",
    "    X_ex = X\n",
    "    print(f\"Shape of X [batch_size, color_channel, height, width]: {X.shape}\")\n",
    "    print(f\"Shape of y: {y.shape} {y.dtype}\")\n",
    "    break"
   ]
  },
  {
   "cell_type": "markdown",
   "id": "e6ee6c56-039f-46c4-a155-0a622c612bf5",
   "metadata": {
    "id": "e6ee6c56-039f-46c4-a155-0a622c612bf5"
   },
   "source": [
    "We keep the fully connected layers, but first add a convolutional block. This block acts as a so-called feature extractor, finding shapes and patterns in the data. These features are then classified with the fully-connected block.  \n",
    "Check the documentation for the convolutional layer: https://pytorch.org/docs/stable/generated/torch.nn.Conv2d.html\n",
    "Documentation for the maxpooling layer: https://pytorch.org/docs/stable/generated/torch.nn.MaxPool2d.html"
   ]
  },
  {
   "cell_type": "code",
   "execution_count": 5,
   "id": "1c46adfa-74ed-4faa-b505-9a51741e362d",
   "metadata": {
    "id": "1c46adfa-74ed-4faa-b505-9a51741e362d"
   },
   "outputs": [],
   "source": [
    "out_dim = 10\n",
    "\n",
    "class NeuralNetwork(nn.Module):\n",
    "    def __init__(self):\n",
    "        super(NeuralNetwork, self).__init__()\n",
    "        self.flatten = nn.Flatten()\n",
    "        self.conv_block = nn.Sequential(\n",
    "            nn.Conv2d(in_channels=1, out_channels=16, kernel_size=3, padding=\"same\"), # (28 x 28 x 1) -> (28 x 28 x 16)\n",
    "            nn.ReLU(),\n",
    "            nn.MaxPool2d(2),                         # (28 x 28 x 16) -> (14 x 14 x 16)\n",
    "            nn.Conv2d(16, 16, 3, padding=\"same\"),    # (14 x 14 x 16) -> (14 x 14 x 16)\n",
    "            nn.ReLU(),\n",
    "            nn.MaxPool2d(2),                         # (14 x 14 x 16) -> (7  x 7  x 16)\n",
    "            nn.Conv2d(16, 16, 3, padding=\"same\"),    # (7  x 7  x 16) -> (7  x 7  x 16)\n",
    "            nn.ReLU(),\n",
    "            nn.Flatten())                            # (7  x 7  x 16) ->  (7*7*16)\n",
    "        self.dense_block = nn.Sequential(\n",
    "            nn.Linear(7*7*16, 512),  # input dimension, hidden1 dimension\n",
    "            nn.ReLU(),               # Non-linear activation function\n",
    "            nn.Linear(512, 512),     # hidden1 dimension, hidden2 dimension\n",
    "            nn.ReLU(),               # Non-linear activation function\n",
    "            nn.Linear(512, out_dim), # hidden2 dimension, output dimension\n",
    "        )\n",
    "\n",
    "    def forward(self, x):\n",
    "        features = self.conv_block(x)\n",
    "        output = self.dense_block(features)\n",
    "        return output"
   ]
  },
  {
   "cell_type": "code",
   "execution_count": 6,
   "id": "381cd34c-a435-495d-ab21-78037e6af0e1",
   "metadata": {
    "colab": {
     "base_uri": "https://localhost:8080/"
    },
    "id": "381cd34c-a435-495d-ab21-78037e6af0e1",
    "outputId": "3fe58652-4a2a-4d5b-f45c-c9cf0f06d4d3"
   },
   "outputs": [
    {
     "name": "stdout",
     "output_type": "stream",
     "text": [
      "NeuralNetwork(\n",
      "  (flatten): Flatten(start_dim=1, end_dim=-1)\n",
      "  (conv_block): Sequential(\n",
      "    (0): Conv2d(1, 16, kernel_size=(3, 3), stride=(1, 1), padding=same)\n",
      "    (1): ReLU()\n",
      "    (2): MaxPool2d(kernel_size=2, stride=2, padding=0, dilation=1, ceil_mode=False)\n",
      "    (3): Conv2d(16, 16, kernel_size=(3, 3), stride=(1, 1), padding=same)\n",
      "    (4): ReLU()\n",
      "    (5): MaxPool2d(kernel_size=2, stride=2, padding=0, dilation=1, ceil_mode=False)\n",
      "    (6): Conv2d(16, 16, kernel_size=(3, 3), stride=(1, 1), padding=same)\n",
      "    (7): ReLU()\n",
      "    (8): Flatten(start_dim=1, end_dim=-1)\n",
      "  )\n",
      "  (dense_block): Sequential(\n",
      "    (0): Linear(in_features=784, out_features=512, bias=True)\n",
      "    (1): ReLU()\n",
      "    (2): Linear(in_features=512, out_features=512, bias=True)\n",
      "    (3): ReLU()\n",
      "    (4): Linear(in_features=512, out_features=10, bias=True)\n",
      "  )\n",
      ")\n"
     ]
    }
   ],
   "source": [
    "model = NeuralNetwork().to(device) #uncomment for GPU execution\n",
    "print(model)"
   ]
  },
  {
   "cell_type": "code",
   "execution_count": 7,
   "id": "ab7725ae-f171-4700-979a-7335efcef2d1",
   "metadata": {
    "colab": {
     "base_uri": "https://localhost:8080/"
    },
    "id": "ab7725ae-f171-4700-979a-7335efcef2d1",
    "outputId": "c7e23d0d-a269-40eb-f6d1-ea1f6241139c"
   },
   "outputs": [
    {
     "data": {
      "text/plain": [
       "torch.Size([512, 10])"
      ]
     },
     "execution_count": 7,
     "metadata": {},
     "output_type": "execute_result"
    }
   ],
   "source": [
    "# quick test to see if the dimensions match\n",
    "model(X_ex.to(device)).shape"
   ]
  },
  {
   "cell_type": "code",
   "execution_count": 8,
   "id": "9ceab6ae-e524-4203-b9e4-01fa1ac963bd",
   "metadata": {
    "id": "9ceab6ae-e524-4203-b9e4-01fa1ac963bd"
   },
   "outputs": [],
   "source": [
    "def train(dataloader, model, loss_fn, optimizer):\n",
    "    size = len(dataloader.dataset)\n",
    "    model.train()\n",
    "    correct = 0\n",
    "    for batch, (X, y) in enumerate(dataloader):\n",
    "        X, y = X.to(device), y.to(device)\n",
    "\n",
    "        # Compute prediction error\n",
    "        pred = model(X)\n",
    "        loss = loss_fn(pred, y)\n",
    "        correct += (pred.argmax(1) == y).type(torch.float).sum().item()\n",
    "\n",
    "        # Backpropagation\n",
    "        optimizer.zero_grad()\n",
    "        loss.backward()\n",
    "        optimizer.step()\n",
    "\n",
    "        if batch % 2 == 0:\n",
    "            loss, current = loss.item(), batch * len(X)\n",
    "            #print(f\"loss: {loss:>7f}  [{current:>5d}/{size:>5d}]\")\n",
    "\n",
    "    # compute accuracy\n",
    "    train_acc = correct/size * 100\n",
    "    return loss, train_acc\n",
    "\n",
    "def test(dataloader, model, loss_fn):\n",
    "    size = len(dataloader.dataset)\n",
    "    num_batches = len(dataloader)\n",
    "    model.eval()\n",
    "    test_loss, correct = 0, 0\n",
    "    with torch.no_grad():\n",
    "        for X, y in dataloader:\n",
    "            X, y = X.to(device), y.to(device)\n",
    "            pred = model(X)\n",
    "            test_loss += loss_fn(pred, y).item()\n",
    "            correct += (pred.argmax(1) == y).type(torch.float).sum().item()\n",
    "    test_loss /= num_batches\n",
    "    correct /= size\n",
    "    test_acc = 100*correct\n",
    "    print(f\"Test Error: Accuracy: {(100*correct):>0.1f}%, Avg loss: {test_loss:>8f}\")\n",
    "    return test_loss, test_acc\n",
    "\n"
   ]
  },
  {
   "cell_type": "code",
   "execution_count": 9,
   "id": "NatVnpIxqbTT",
   "metadata": {
    "id": "NatVnpIxqbTT"
   },
   "outputs": [],
   "source": [
    "loss_fn = nn.CrossEntropyLoss() # nn.MSELoss() # mean squared error (MSE) loss\n",
    "optimizer = torch.optim.Adam(model.parameters(), lr=1e-3) # stochastic gradient descent (SGD) optimizer"
   ]
  },
  {
   "cell_type": "code",
   "execution_count": 10,
   "id": "272a0ee2-08f4-486d-9319-09aecdfb1217",
   "metadata": {
    "colab": {
     "base_uri": "https://localhost:8080/"
    },
    "id": "272a0ee2-08f4-486d-9319-09aecdfb1217",
    "outputId": "2af35157-8b68-4cb3-bad8-f58e7f825228"
   },
   "outputs": [
    {
     "name": "stdout",
     "output_type": "stream",
     "text": [
      "Epoch 1\n",
      "Test Error: Accuracy: 93.1%, Avg loss: 0.231847\n",
      "Epoch 2\n",
      "Test Error: Accuracy: 96.7%, Avg loss: 0.102229\n",
      "Epoch 3\n",
      "Test Error: Accuracy: 97.5%, Avg loss: 0.073530\n",
      "Epoch 4\n",
      "Test Error: Accuracy: 97.8%, Avg loss: 0.063797\n",
      "Epoch 5\n",
      "Test Error: Accuracy: 98.0%, Avg loss: 0.056966\n",
      "Epoch 6\n",
      "Test Error: Accuracy: 98.3%, Avg loss: 0.048495\n",
      "Epoch 7\n",
      "Test Error: Accuracy: 98.4%, Avg loss: 0.043929\n",
      "Epoch 8\n",
      "Test Error: Accuracy: 98.6%, Avg loss: 0.041719\n",
      "Epoch 9\n",
      "Test Error: Accuracy: 98.5%, Avg loss: 0.043813\n",
      "Epoch 10\n",
      "Test Error: Accuracy: 98.6%, Avg loss: 0.042583\n",
      "Done!\n"
     ]
    }
   ],
   "source": [
    "epochs = 10\n",
    "train_losss, train_accs = [], []\n",
    "test_losss, test_accs = [], []\n",
    "for t in range(epochs):\n",
    "    print(f\"Epoch {t+1}\")\n",
    "    train_loss, train_acc = train(train_dataloader, model, loss_fn, optimizer)\n",
    "    test_loss, test_acc = test(test_dataloader, model, loss_fn)\n",
    "    train_losss.append(train_loss)\n",
    "    train_accs.append(train_acc)\n",
    "    test_losss.append(test_loss)\n",
    "    test_accs.append(test_acc)\n",
    "print(\"Done!\")"
   ]
  },
  {
   "cell_type": "code",
   "execution_count": 11,
   "id": "8KjG1z-b30Bf",
   "metadata": {
    "id": "8KjG1z-b30Bf"
   },
   "outputs": [],
   "source": [
    "train_losss = torch.tensor(train_losss).cpu()\n",
    "train_accs = torch.tensor(train_accs).cpu()\n",
    "test_losss = torch.tensor(test_losss).cpu()\n",
    "test_accs = torch.tensor(test_accs).cpu()"
   ]
  },
  {
   "cell_type": "code",
   "execution_count": 14,
   "id": "2a7c349d-1c58-4672-883c-07c635f7ad42",
   "metadata": {
    "colab": {
     "base_uri": "https://localhost:8080/",
     "height": 368
    },
    "id": "2a7c349d-1c58-4672-883c-07c635f7ad42",
    "outputId": "7f411152-f853-4945-decc-b2f9c6896ded"
   },
   "outputs": [
    {
     "data": {
      "text/plain": [
       "<matplotlib.legend.Legend at 0x7f4581592710>"
      ]
     },
     "execution_count": 14,
     "metadata": {},
     "output_type": "execute_result"
    },
    {
     "data": {
      "image/png": "[encoded data removed]",
      "text/plain": [
       "<Figure size 720x360 with 2 Axes>"
      ]
     },
     "metadata": {
      "needs_background": "light"
     },
     "output_type": "display_data"
    }
   ],
   "source": [
    "fig, axs = plt.subplots(figsize=(10,5), ncols=2)\n",
    "\n",
    "ax = axs[0]\n",
    "ax.plot(train_losss.cpu(), label=\"train\")\n",
    "ax.plot(test_losss.cpu(), \"x-\", label=\"test\")\n",
    "\n",
    "ax.set_title(\"loss\")\n",
    "ax.set_xlabel(\"epoch\")\n",
    "ax.legend()\n",
    "\n",
    "ax = axs[1]\n",
    "ax.plot(train_accs.cpu(), label=\"train\")\n",
    "ax.plot(test_accs.cpu(), \"x-\", label=\"test\")\n",
    "\n",
    "ax.set_title(\"accuracy\")\n",
    "ax.set_xlabel(\"epoch\")\n",
    "ax.legend()"
   ]
  },
  {
   "cell_type": "code",
   "execution_count": null,
   "id": "i3Rjhiqjrfz2",
   "metadata": {
    "id": "i3Rjhiqjrfz2"
   },
   "outputs": [],
   "source": []
  }
 ],
 "metadata": {
  "accelerator": "GPU",
  "colab": {
   "provenance": []
  },
  "kernelspec": {
   "display_name": "Python 3 (ipykernel)",
   "language": "python",
   "name": "python3"
  },
  "language_info": {
   "codemirror_mode": {
    "name": "ipython",
    "version": 3
   },
   "file_extension": ".py",
   "mimetype": "text/x-python",
   "name": "python",
   "nbconvert_exporter": "python",
   "pygments_lexer": "ipython3",
   "version": "3.8.13"
  }
 },
 "nbformat": 4,
 "nbformat_minor": 5
}
