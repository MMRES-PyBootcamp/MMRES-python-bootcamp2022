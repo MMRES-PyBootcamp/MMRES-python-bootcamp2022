{
 "cells": [
  {
   "cell_type": "markdown",
   "metadata": {
    "colab_type": "text",
    "id": "view-in-github"
   },
   "source": [
    "<a href=\"https://colab.research.google.com/github/MMRES-PyBootcamp/MMRES-python-bootcamp2022/blob/master/03_Stats.ipynb\" target=\"_parent\"><img src=\"https://colab.research.google.com/assets/colab-badge.svg\" alt=\"Open In Colab\"/></a>"
   ]
  },
  {
   "cell_type": "markdown",
   "metadata": {
    "id": "bqAIqBlSmD4w"
   },
   "source": [
    "# Session 3 - Statistics in Python (First part)\n",
    "\n",
    "sources:\n",
    "\n",
    "https://medium.com/insights-school/learn-basic-statistics-with-python-cc0f45275929\n",
    "\n",
    "https://scipy-lectures.org/intro/scipy.html#scipy\n"
   ]
  },
  {
   "cell_type": "markdown",
   "metadata": {},
   "source": [
    "<div class=\"alert alert-block alert-danger\"><b>TODO</b>\n",
    "\n",
    "</div>"
   ]
  },
  {
   "cell_type": "markdown",
   "metadata": {},
   "source": [
    "## Outline\n",
    " * [Measures of Central Tendency](#Measures-of-Central-Tendency)\n",
    "   * [Mean](#Mean)\n",
    "   * [Median](#Median)\n",
    "      * [Mean and Median with missing values](#Mean-and-Median-with-missing-values)\n",
    "   * [Weighted mean](#Weighted-mean) \n",
    " * [Measures of Variability](#Measures-of-Variability)\n",
    "   * [Variance](#Variance)\n",
    "   * [Standard deviation](#Standard-deviation)\n",
    " * [Percentiles](#Percentiles)\n",
    " * [Summary of Descriptive Statistics](#Summary-of-Descriptive-Statistics)\n"
   ]
  },
  {
   "cell_type": "markdown",
   "metadata": {},
   "source": [
    "<div class=\"alert alert-block alert-danger\"><b>TODO</b>\n",
    "\n",
    "</div>"
   ]
  },
  {
   "cell_type": "markdown",
   "metadata": {},
   "source": [
    "<div class=\"alert alert-block alert-success\"><b>Practice:</b> Practice cells announce exercises that you should try during the current boot camp session.\n",
    "</div>"
   ]
  },
  {
   "cell_type": "markdown",
   "metadata": {},
   "source": [
    "<div class=\"alert alert-block alert-warning\"><b>Extension:</b> Extension cells correspond to exercises (or links to contents) that are a bit more advanced. We recommend to try them after the current boot camp session.\n",
    "</div>"
   ]
  },
  {
   "cell_type": "markdown",
   "metadata": {},
   "source": [
    "<div class=\"alert alert-block alert-info\"><b>Tip:</b> Tip cells just give some advice or complementary information.\n",
    "</div>"
   ]
  },
  {
   "cell_type": "markdown",
   "metadata": {},
   "source": [
    "<div class=\"alert alert-block alert-danger\"><b>Caveat:</b> Caveat cells warn you about the most common pitfalls one founds when starts his/her path learning Python.\n",
    "\n",
    "</div>"
   ]
  },
  {
   "cell_type": "markdown",
   "metadata": {},
   "source": [
    "**This document is devised as a tool to enable your self-learning process. If you get stuck at some step or need any kind of help, please don't hesitate to raise your hand and ask for the teacher's guidance.**\n",
    "\n",
    "---"
   ]
  },
  {
   "cell_type": "markdown",
   "metadata": {},
   "source": [
    "TODO"
   ]
  },
  {
   "cell_type": "code",
   "execution_count": null,
   "metadata": {
    "id": "86WqXweTk9Jh"
   },
   "outputs": [],
   "source": [
    "import math\n",
    "import statistics\n",
    "from scipy import stats\n",
    "import numpy as np\n",
    "import pandas as pd\n",
    "import seaborn as sns"
   ]
  },
  {
   "cell_type": "markdown",
   "metadata": {
    "id": "FTTVyKXslupX"
   },
   "source": [
    "# Measures of Central Tendency\n",
    "The measures of central tendency show the central or middle values of datasets. There are several definitions of what’s considered to be the center of a dataset. In this tutorial, you’ll learn how to identify and calculate these measures of central tendency:\n",
    "\n",
    "## Mean\n",
    "The sample mean, also called the sample arithmetic mean or simply the average, is the arithmetic average of all the items in a dataset. You have already seen that you can calculate the mean using the Python built-ins `sum()` and `len()`, without importing packages:"
   ]
  },
  {
   "cell_type": "code",
   "execution_count": null,
   "metadata": {
    "colab": {
     "base_uri": "https://localhost:8080/"
    },
    "id": "1LnbFPQplR--",
    "outputId": "ed07a231-1a32-4a40-a13c-1b8d5f1e1329"
   },
   "outputs": [],
   "source": [
    "# Create list with some floats and integers\n",
    "x = [0, 1, 2, 3, 4, 5, 6]\n",
    "\n",
    "# Compute and store the mean in \"x_mean_builtin\"\n",
    "x_mean_builtin = sum(x) / len(x)\n",
    "\n",
    "# Return \"x_mean_builtin\"\n",
    "print(x_mean_builtin)"
   ]
  },
  {
   "cell_type": "markdown",
   "metadata": {},
   "source": [
    "We can alternatively use the function `mean()` from the `Numpy` package:"
   ]
  },
  {
   "cell_type": "code",
   "execution_count": null,
   "metadata": {
    "colab": {
     "base_uri": "https://localhost:8080/"
    },
    "id": "8DDg71BHlZ_I",
    "outputId": "64f2949b-678f-4863-d179-41c56bc20df4"
   },
   "outputs": [],
   "source": [
    "# Load package with its corresponding alias\n",
    "import numpy as np\n",
    "\n",
    "# Compute and store the mean in \"x_mean\"\n",
    "x_mean = np.mean(x)\n",
    "\n",
    "# Return \"x_mean\"\n",
    "print(x_mean)"
   ]
  },
  {
   "cell_type": "markdown",
   "metadata": {
    "id": "svQtQ0aEmgWU"
   },
   "source": [
    "## Median\n",
    "\n",
    "The sample median is the middle element of a sorted dataset."
   ]
  },
  {
   "cell_type": "code",
   "execution_count": null,
   "metadata": {
    "colab": {
     "base_uri": "https://localhost:8080/"
    },
    "id": "FU89gVremmSl",
    "outputId": "f6897dad-1771-4160-f6d4-5c354d84a597"
   },
   "outputs": [],
   "source": [
    "# Create a list of values\n",
    "x = [8.0, 1, 2.5, 4, 28.0]\n",
    "\n",
    "# Compute the median of a list\n",
    "x_median = np.median(x)\n",
    "\n",
    "# Return \"x_median\"\n",
    "print(x_median)"
   ]
  },
  {
   "cell_type": "markdown",
   "metadata": {},
   "source": [
    "### Mean and Median with missing values\n",
    "\n",
    "In many scientific disciplines it is very common to deal with *missing values* when analyzing your data. In Python, missing values are represented as `nan`, which stands for \"Not a Number\". The Numpy package offers a very efficient implementation `nan` values for Python. Note that Python treats `nan`s as floats:"
   ]
  },
  {
   "cell_type": "code",
   "execution_count": null,
   "metadata": {},
   "outputs": [],
   "source": [
    "# Get the variable type of a nan\n",
    "type(np.nan)"
   ]
  },
  {
   "cell_type": "markdown",
   "metadata": {},
   "source": [
    "<div class=\"alert alert-block alert-success\"><b>Practice:</b>\n",
    "\n",
    "1) In the 1<sup>st</sup> code cell below, check if the mean and the median of `[0, 1, 2, 3, 4, 5, 6]` is equal to the mean of `[np.nan, 1, 2, 3, 4, 5, 6]`:\n",
    "    \n",
    "2) In the 2<sup>nd</sup> code cell below, do the same as before with the function `np.nanmean()` instead of `np.mean()`:\n",
    "    \n",
    "</div>"
   ]
  },
  {
   "cell_type": "code",
   "execution_count": null,
   "metadata": {},
   "outputs": [],
   "source": [
    "# Compute the mean and the median of a list\n",
    "\n",
    "\n",
    "\n",
    "# Compute the mean and the median of a list containing a nan\n",
    "\n"
   ]
  },
  {
   "cell_type": "code",
   "execution_count": null,
   "metadata": {
    "jupyter": {
     "source_hidden": true
    },
    "tags": []
   },
   "outputs": [],
   "source": [
    "# Compute the mean and the median of a list\n",
    "print(np.mean([0, 1, 2, 3, 4, 5, 6]))\n",
    "print(np.median([0, 1, 2, 3, 4, 5, 6]))\n",
    "\n",
    "# Compute the mean and the median of a list containing a nan\n",
    "print(np.mean([np.nan, 1, 2, 3, 4, 5, 6]))\n",
    "print(np.median([np.nan, 1, 2, 3, 4, 5, 6]))"
   ]
  },
  {
   "cell_type": "code",
   "execution_count": null,
   "metadata": {},
   "outputs": [],
   "source": [
    "# Compute the nanmean of a list\n",
    "\n",
    "\n",
    "\n",
    "# Compute the nanmean of a list containing a nan\n",
    "\n"
   ]
  },
  {
   "cell_type": "code",
   "execution_count": null,
   "metadata": {
    "jupyter": {
     "source_hidden": true
    },
    "tags": []
   },
   "outputs": [],
   "source": [
    "# Compute the nanmean and the nanmedian of a list\n",
    "print(np.nanmean([0, 1, 2, 3, 4, 5, 6]))\n",
    "print(np.nanmedian([0, 1, 2, 3, 4, 5, 6]))\n",
    "\n",
    "# Compute the nanmean and the nanmedian of a list containing a nan\n",
    "print(np.nanmean([np.nan, 1, 2, 3, 4, 5, 6]))\n",
    "print(np.nanmedian([np.nan, 1, 2, 3, 4, 5, 6]))"
   ]
  },
  {
   "cell_type": "markdown",
   "metadata": {
    "id": "NS88kTWll_Qw"
   },
   "source": [
    "## Weighted mean\n",
    "\n",
    "The weighted mean, also called the weighted arithmetic mean or weighted average, is a generalization of the arithmetic mean that enables you to define the relative contribution of each data point to the result. The weighted mean is very handy when you need the mean of a dataset containing items that occur with given relative frequencies. For example, say that you have a set in which 20% of all items are equal to 2, 50% of the items are equal to 4, and the remaining 30% of the items are equal to 8. You can calculate the mean of such a set like this:"
   ]
  },
  {
   "cell_type": "code",
   "execution_count": null,
   "metadata": {
    "colab": {
     "base_uri": "https://localhost:8080/"
    },
    "id": "uZqCpAWpls1t",
    "outputId": "b1fb159a-6e0f-42c7-dc6d-16c20c880215"
   },
   "outputs": [],
   "source": [
    "# Create a list of values\n",
    "x = [2, 4, 8]\n",
    "\n",
    "# Create a list of weight for the values above\n",
    "w = [0.2, 0.5, 0.3]\n",
    "\n",
    "# Compute and store the weighted mean in \"x_weighted_mean\" and the regular mean in \"x_mean\"\n",
    "x_weighted_mean = np.average(x, weights=w)\n",
    "x_mean = np.average(x)\n",
    "\n",
    "# Return \"x_weighted_mean\" and \"x_mean\"\n",
    "print(x_weighted_mean)\n",
    "print(x_mean)"
   ]
  },
  {
   "cell_type": "markdown",
   "metadata": {
    "id": "XDzxAsrumtqT"
   },
   "source": [
    "# Measures of Variability\n",
    "\n",
    "The measures of central tendency aren't sufficient to describe data. You'll also need the measures of variability that quantify the spread of data points."
   ]
  },
  {
   "cell_type": "markdown",
   "metadata": {},
   "source": [
    "## Variance\n",
    "\n",
    "The sample variance quantifies the spread of the data. It shows numerically how far the data points are from the mean."
   ]
  },
  {
   "cell_type": "code",
   "execution_count": null,
   "metadata": {
    "colab": {
     "base_uri": "https://localhost:8080/"
    },
    "id": "hNv4Ej79mp24",
    "outputId": "0a607e86-9e58-4064-8089-1b82820322dd"
   },
   "outputs": [],
   "source": [
    "x = [8.0, 1, 2.5, 4, 28.0]\n",
    "mean = statistics.mean(x)\n",
    "variance = statistics.variance(x,mean)\n",
    "print (mean)"
   ]
  },
  {
   "cell_type": "code",
   "execution_count": null,
   "metadata": {
    "colab": {
     "base_uri": "https://localhost:8080/"
    },
    "id": "OjPNH665mz9W",
    "outputId": "bff75712-043f-4b9a-df82-8735667f92aa"
   },
   "outputs": [],
   "source": [
    "x = [8.0, 1, 2.5, 4, 28.0]\n",
    "mean = statistics.mean(x)\n",
    "variance = statistics.variance(x,mean)\n",
    "standard_deviation = variance ** 0.5\n",
    "print (standard_deviation)"
   ]
  },
  {
   "cell_type": "markdown",
   "metadata": {
    "id": "Wb7KAv_zm2_C"
   },
   "source": [
    "## Standard deviation\n",
    "The sample standard deviation is another measure of data spread. The standard deviation is often more convenient than the variance because it has the same unit as the data points. Once you get the variance, you can calculate the standard deviation with pure Python:"
   ]
  },
  {
   "cell_type": "code",
   "execution_count": null,
   "metadata": {
    "id": "S47vO1HnJfET"
   },
   "outputs": [],
   "source": [
    "x = [8.0, 1, 2.5, 4, 28.0]\n",
    "mean = statistics.mean(x)\n",
    "variance = statistics.variance(x,mean)\n",
    "standard_deviation = variance ** 0.5\n",
    "print (standard_deviation)"
   ]
  },
  {
   "cell_type": "code",
   "execution_count": null,
   "metadata": {
    "id": "d3CuEFKTJfwp"
   },
   "outputs": [],
   "source": [
    "x = [8.0, 1, 2.5, 4, 28.0]\n",
    "standard_deviation = statistics.stdev(x)\n",
    "print (standard_deviation)"
   ]
  },
  {
   "cell_type": "markdown",
   "metadata": {
    "id": "sbCvXLHEJsnn"
   },
   "source": [
    "# Percentiles\n",
    "Percentiles are used in statistics to give you a number that describes the value that a given percent of the values are lower than.\n",
    "Example: Let’s say we have an array of the ages of all the people that lives in a street."
   ]
  },
  {
   "cell_type": "code",
   "execution_count": null,
   "metadata": {
    "colab": {
     "base_uri": "https://localhost:8080/"
    },
    "id": "43YBIOfQJoJF",
    "outputId": "6d23470f-c8e0-40c8-c3e7-982ad36a8960"
   },
   "outputs": [],
   "source": [
    "ages = [5,31,43,48,50,41,7,11,15,39,80,82,32,2,8,6,25,36,27,61,31]\n",
    "ages = [5,31,43,48,50,41,7,11,15,39,80,82,32,2,8,6,25,36,27,61,31]\n",
    "x = np.percentile(ages, 75)\n",
    "print(x)"
   ]
  },
  {
   "cell_type": "code",
   "execution_count": null,
   "metadata": {
    "colab": {
     "base_uri": "https://localhost:8080/"
    },
    "id": "cH--LP6vJ1X2",
    "outputId": "c76a8f7d-dd15-4b23-e1f2-b7d3b94d776f"
   },
   "outputs": [],
   "source": [
    "x = np.percentile(ages, [25,50,75])\n",
    "print(x)"
   ]
  },
  {
   "cell_type": "markdown",
   "metadata": {
    "id": "lXXSkIAxJ-I1"
   },
   "source": [
    "# Summary of Descriptive Statistics\n",
    "SciPy and Pandas offer useful routines to quickly get descriptive statistics with a single function or method call. You can use scipy.stats.describe() like this:"
   ]
  },
  {
   "cell_type": "code",
   "execution_count": null,
   "metadata": {
    "colab": {
     "base_uri": "https://localhost:8080/"
    },
    "id": "UfqevoM7J4zV",
    "outputId": "6d208d05-0b92-4123-e589-76f3243557af"
   },
   "outputs": [],
   "source": [
    "x = [5,31,43,48,50,41,7,11,15,39,80,82,32,2,8,6,25,36,27,61,31]\n",
    "result = stats.describe(x, ddof=1, bias=False)\n",
    "print(result)"
   ]
  },
  {
   "cell_type": "code",
   "execution_count": null,
   "metadata": {
    "colab": {
     "base_uri": "https://localhost:8080/"
    },
    "id": "FrbOmlgNJ9RB",
    "outputId": "990d29de-d946-4305-9ed9-8e475bb00686"
   },
   "outputs": [],
   "source": [
    "x = [5,31,43,48,50,41,7,11,15,39,80,82,32,2,8,6,25,36,27,61,31]\n",
    "z = pd.Series(x)\n",
    "result = z.describe()\n",
    "print(result)\n",
    "print(z.mean())\n",
    "print(z.std())"
   ]
  },
  {
   "cell_type": "code",
   "execution_count": null,
   "metadata": {
    "colab": {
     "base_uri": "https://localhost:8080/",
     "height": 1000
    },
    "id": "hsiq8VcRZdYr",
    "outputId": "a4df2b57-efc6-411e-8c57-0c06882a596e"
   },
   "outputs": [],
   "source": [
    "data = pd.read_csv('https://scipy-lectures.org/_downloads/brain_size.csv', sep=';', na_values=\".\")\n",
    "data"
   ]
  },
  {
   "cell_type": "code",
   "execution_count": null,
   "metadata": {
    "colab": {
     "base_uri": "https://localhost:8080/"
    },
    "id": "kFJfedUBYCat",
    "outputId": "fd3f7785-3e10-43c6-960a-5b4d10b8f9de"
   },
   "outputs": [],
   "source": [
    "data.shape  \n",
    "data.columns"
   ]
  },
  {
   "cell_type": "code",
   "execution_count": null,
   "metadata": {
    "colab": {
     "base_uri": "https://localhost:8080/",
     "height": 313
    },
    "id": "omW7sC3XaFig",
    "outputId": "8dd9280e-a70b-4aee-8d31-e9930bee0a1e"
   },
   "outputs": [],
   "source": [
    "from collections import Counter\n",
    "import seaborn as sns\n",
    "import matplotlib.pyplot as plt\n",
    "\n",
    "print(Counter(data['Gender']))  # Columns can be addressed by name   \n",
    "# Simpler selector\n",
    "sns.histplot(data[data['Gender'] == 'Female']['VIQ'],color='purple')\n",
    "plt.axvline(data[data['Gender'] == 'Female']['VIQ'].mean(),color='black')\n",
    "\n",
    "#sns.histplot(data[data['Gender'] == 'Male']['VIQ'],color='blue')\n",
    "\n",
    "data[data['Gender'] == 'Male']['VIQ'].mean()\n"
   ]
  },
  {
   "cell_type": "code",
   "execution_count": null,
   "metadata": {
    "colab": {
     "base_uri": "https://localhost:8080/"
    },
    "id": "8n6LnKQkY9O8",
    "outputId": "37c19d11-638e-4aad-8265-94858ccf1040"
   },
   "outputs": [],
   "source": [
    "data[data['Gender'] == 'Female']['VIQ']"
   ]
  },
  {
   "cell_type": "code",
   "execution_count": null,
   "metadata": {
    "colab": {
     "base_uri": "https://localhost:8080/"
    },
    "id": "tnKDuHCOaKzu",
    "outputId": "9983a0c2-d8ae-4ed1-ad43-610a4c14e727"
   },
   "outputs": [],
   "source": [
    "groupby_gender = data.groupby('Gender')\n",
    "for gender, value in groupby_gender['VIQ']:\n",
    "    print((gender, value.mean()))"
   ]
  },
  {
   "cell_type": "code",
   "execution_count": null,
   "metadata": {
    "colab": {
     "base_uri": "https://localhost:8080/"
    },
    "id": "hhXnWIskaZtD",
    "outputId": "3064aebc-6207-460c-a2e2-7d95573aecc3"
   },
   "outputs": [],
   "source": [
    "# try to use a list comprehension\n",
    "[(gender,value.mean()) for gender, value in groupby_gender['VIQ']]"
   ]
  },
  {
   "cell_type": "code",
   "execution_count": null,
   "metadata": {
    "colab": {
     "base_uri": "https://localhost:8080/",
     "height": 142
    },
    "id": "UypDI8NcaQay",
    "outputId": "19a7acd7-4bbd-44e5-ae91-749869686a92"
   },
   "outputs": [],
   "source": [
    "groupby_gender.mean()"
   ]
  }
 ],
 "metadata": {
  "colab": {
   "authorship_tag": "ABX9TyNzEHUEKWP4G0lHcKMGoPob",
   "collapsed_sections": [],
   "include_colab_link": true,
   "name": "07_scipy_stats.ipynb",
   "provenance": [],
   "toc_visible": true
  },
  "kernelspec": {
   "display_name": "Python 3 (ipykernel)",
   "language": "python",
   "name": "python3"
  },
  "language_info": {
   "codemirror_mode": {
    "name": "ipython",
    "version": 3
   },
   "file_extension": ".py",
   "mimetype": "text/x-python",
   "name": "python",
   "nbconvert_exporter": "python",
   "pygments_lexer": "ipython3",
   "version": "3.9.12"
  }
 },
 "nbformat": 4,
 "nbformat_minor": 4
}
